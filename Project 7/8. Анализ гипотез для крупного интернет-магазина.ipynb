{
 "cells": [
  {
   "cell_type": "markdown",
   "metadata": {},
   "source": [
    "# Анализ гипотез для увеличения выручки крупного интернет-магазина"
   ]
  },
  {
   "cell_type": "markdown",
   "metadata": {},
   "source": [
    "## Описание проекта"
   ]
  },
  {
   "cell_type": "markdown",
   "metadata": {},
   "source": [
    "Вы — аналитик крупного интернет-магазина. Вместе с отделом маркетинга вы подготовили список гипотез для увеличения выручки. Приоритизируйте гипотезы, запустите A/B-тест и проанализируйте результаты. Для реализации этой задачи имеются датасеты, содержащие информацию о 9 гипотезах по увеличению выручки интернет-магазина с указанными параметрами и результатами A/B-тестов. "
   ]
  },
  {
   "cell_type": "markdown",
   "metadata": {},
   "source": [
    "## Изучение и предобработка полученных днных"
   ]
  },
  {
   "cell_type": "code",
   "execution_count": 1,
   "metadata": {},
   "outputs": [],
   "source": [
    "import pandas as pd\n",
    "import matplotlib.pyplot as plt\n",
    "import seaborn as sns\n",
    "import numpy as np\n",
    "import scipy.stats as st\n",
    "from scipy import stats as st\n",
    "import warnings\n",
    "warnings.filterwarnings('ignore')"
   ]
  },
  {
   "cell_type": "code",
   "execution_count": 2,
   "metadata": {},
   "outputs": [],
   "source": [
    " pd.options.display.max_colwidth = 130"
   ]
  },
  {
   "cell_type": "code",
   "execution_count": 3,
   "metadata": {},
   "outputs": [],
   "source": [
    "hypothesis = pd.read_csv('/datasets/hypothesis.csv')\n",
    "orders = pd.read_csv('/datasets/orders.csv')\n",
    "visitors = pd.read_csv('/datasets/visitors.csv')"
   ]
  },
  {
   "cell_type": "code",
   "execution_count": 4,
   "metadata": {},
   "outputs": [
    {
     "name": "stdout",
     "output_type": "stream",
     "text": [
      "<class 'pandas.core.frame.DataFrame'>\n",
      "RangeIndex: 9 entries, 0 to 8\n",
      "Data columns (total 5 columns):\n",
      "Hypothesis    9 non-null object\n",
      "Reach         9 non-null int64\n",
      "Impact        9 non-null int64\n",
      "Confidence    9 non-null int64\n",
      "Efforts       9 non-null int64\n",
      "dtypes: int64(4), object(1)\n",
      "memory usage: 488.0+ bytes\n",
      "Пропусков в таблице hypothesis: Hypothesis    0\n",
      "Reach         0\n",
      "Impact        0\n",
      "Confidence    0\n",
      "Efforts       0\n",
      "dtype: int64\n",
      "Дубликатов в таблице hypothesis: 0\n"
     ]
    }
   ],
   "source": [
    "hypothesis.info()\n",
    "print('Пропусков в таблице hypothesis:', hypothesis.isna().sum())\n",
    "print ('Дубликатов в таблице hypothesis:', hypothesis.duplicated().sum())"
   ]
  },
  {
   "cell_type": "code",
   "execution_count": 5,
   "metadata": {},
   "outputs": [
    {
     "name": "stdout",
     "output_type": "stream",
     "text": [
      "<class 'pandas.core.frame.DataFrame'>\n",
      "RangeIndex: 1197 entries, 0 to 1196\n",
      "Data columns (total 5 columns):\n",
      "transactionId    1197 non-null int64\n",
      "visitorId        1197 non-null int64\n",
      "date             1197 non-null object\n",
      "revenue          1197 non-null int64\n",
      "group            1197 non-null object\n",
      "dtypes: int64(3), object(2)\n",
      "memory usage: 46.9+ KB\n",
      "Пропусков в таблице orders: transactionId    0\n",
      "visitorId        0\n",
      "date             0\n",
      "revenue          0\n",
      "group            0\n",
      "dtype: int64\n",
      "Дубликатов в таблице orders: 0\n"
     ]
    }
   ],
   "source": [
    "orders.info()\n",
    "print('Пропусков в таблице orders:', orders.isna().sum())\n",
    "print ('Дубликатов в таблице orders:', orders.duplicated().sum())"
   ]
  },
  {
   "cell_type": "code",
   "execution_count": 6,
   "metadata": {},
   "outputs": [
    {
     "name": "stdout",
     "output_type": "stream",
     "text": [
      "<class 'pandas.core.frame.DataFrame'>\n",
      "RangeIndex: 62 entries, 0 to 61\n",
      "Data columns (total 3 columns):\n",
      "date        62 non-null object\n",
      "group       62 non-null object\n",
      "visitors    62 non-null int64\n",
      "dtypes: int64(1), object(2)\n",
      "memory usage: 1.6+ KB\n",
      "Пропусков в таблице visitors: date        0\n",
      "group       0\n",
      "visitors    0\n",
      "dtype: int64\n",
      "Дубликатов в таблице visitors: 0\n"
     ]
    }
   ],
   "source": [
    "visitors.info()\n",
    "print('Пропусков в таблице visitors:', visitors.isna().sum())\n",
    "print ('Дубликатов в таблице visitors:', visitors.duplicated().sum())"
   ]
  },
  {
   "cell_type": "code",
   "execution_count": 7,
   "metadata": {},
   "outputs": [
    {
     "data": {
      "text/html": [
       "<div>\n",
       "<style scoped>\n",
       "    .dataframe tbody tr th:only-of-type {\n",
       "        vertical-align: middle;\n",
       "    }\n",
       "\n",
       "    .dataframe tbody tr th {\n",
       "        vertical-align: top;\n",
       "    }\n",
       "\n",
       "    .dataframe thead th {\n",
       "        text-align: right;\n",
       "    }\n",
       "</style>\n",
       "<table border=\"1\" class=\"dataframe\">\n",
       "  <thead>\n",
       "    <tr style=\"text-align: right;\">\n",
       "      <th></th>\n",
       "      <th>hypothesis</th>\n",
       "      <th>reach</th>\n",
       "      <th>impact</th>\n",
       "      <th>confidence</th>\n",
       "      <th>efforts</th>\n",
       "    </tr>\n",
       "  </thead>\n",
       "  <tbody>\n",
       "    <tr>\n",
       "      <td>0</td>\n",
       "      <td>Добавить два новых канала привлечения трафика, что позволит привлекать на 30% больше пользователей</td>\n",
       "      <td>3</td>\n",
       "      <td>10</td>\n",
       "      <td>8</td>\n",
       "      <td>6</td>\n",
       "    </tr>\n",
       "    <tr>\n",
       "      <td>1</td>\n",
       "      <td>Запустить собственную службу доставки, что сократит срок доставки заказов</td>\n",
       "      <td>2</td>\n",
       "      <td>5</td>\n",
       "      <td>4</td>\n",
       "      <td>10</td>\n",
       "    </tr>\n",
       "    <tr>\n",
       "      <td>2</td>\n",
       "      <td>Добавить блоки рекомендаций товаров на сайт интернет магазина, чтобы повысить конверсию и средний чек заказа</td>\n",
       "      <td>8</td>\n",
       "      <td>3</td>\n",
       "      <td>7</td>\n",
       "      <td>3</td>\n",
       "    </tr>\n",
       "    <tr>\n",
       "      <td>3</td>\n",
       "      <td>Изменить структура категорий, что увеличит конверсию, т.к. пользователи быстрее найдут нужный товар</td>\n",
       "      <td>8</td>\n",
       "      <td>3</td>\n",
       "      <td>3</td>\n",
       "      <td>8</td>\n",
       "    </tr>\n",
       "    <tr>\n",
       "      <td>4</td>\n",
       "      <td>Изменить цвет фона главной страницы, чтобы увеличить вовлеченность пользователей</td>\n",
       "      <td>3</td>\n",
       "      <td>1</td>\n",
       "      <td>1</td>\n",
       "      <td>1</td>\n",
       "    </tr>\n",
       "    <tr>\n",
       "      <td>5</td>\n",
       "      <td>Добавить страницу отзывов клиентов о магазине, что позволит увеличить количество заказов</td>\n",
       "      <td>3</td>\n",
       "      <td>2</td>\n",
       "      <td>2</td>\n",
       "      <td>3</td>\n",
       "    </tr>\n",
       "    <tr>\n",
       "      <td>6</td>\n",
       "      <td>Показать на главной странице баннеры с актуальными акциями и распродажами, чтобы увеличить конверсию</td>\n",
       "      <td>5</td>\n",
       "      <td>3</td>\n",
       "      <td>8</td>\n",
       "      <td>3</td>\n",
       "    </tr>\n",
       "    <tr>\n",
       "      <td>7</td>\n",
       "      <td>Добавить форму подписки на все основные страницы, чтобы собрать базу клиентов для email-рассылок</td>\n",
       "      <td>10</td>\n",
       "      <td>7</td>\n",
       "      <td>8</td>\n",
       "      <td>5</td>\n",
       "    </tr>\n",
       "  </tbody>\n",
       "</table>\n",
       "</div>"
      ],
      "text/plain": [
       "                                                                                                     hypothesis  \\\n",
       "0            Добавить два новых канала привлечения трафика, что позволит привлекать на 30% больше пользователей   \n",
       "1                                     Запустить собственную службу доставки, что сократит срок доставки заказов   \n",
       "2  Добавить блоки рекомендаций товаров на сайт интернет магазина, чтобы повысить конверсию и средний чек заказа   \n",
       "3           Изменить структура категорий, что увеличит конверсию, т.к. пользователи быстрее найдут нужный товар   \n",
       "4                              Изменить цвет фона главной страницы, чтобы увеличить вовлеченность пользователей   \n",
       "5                      Добавить страницу отзывов клиентов о магазине, что позволит увеличить количество заказов   \n",
       "6          Показать на главной странице баннеры с актуальными акциями и распродажами, чтобы увеличить конверсию   \n",
       "7              Добавить форму подписки на все основные страницы, чтобы собрать базу клиентов для email-рассылок   \n",
       "\n",
       "   reach  impact  confidence  efforts  \n",
       "0      3      10           8        6  \n",
       "1      2       5           4       10  \n",
       "2      8       3           7        3  \n",
       "3      8       3           3        8  \n",
       "4      3       1           1        1  \n",
       "5      3       2           2        3  \n",
       "6      5       3           8        3  \n",
       "7     10       7           8        5  "
      ]
     },
     "execution_count": 7,
     "metadata": {},
     "output_type": "execute_result"
    }
   ],
   "source": [
    "hypothesis.columns = hypothesis.columns.str.lower()\n",
    "hypothesis.head(8)"
   ]
  },
  {
   "cell_type": "code",
   "execution_count": 8,
   "metadata": {},
   "outputs": [
    {
     "name": "stdout",
     "output_type": "stream",
     "text": [
      "<class 'pandas.core.frame.DataFrame'>\n",
      "RangeIndex: 1197 entries, 0 to 1196\n",
      "Data columns (total 5 columns):\n",
      "transaction_id    1197 non-null int64\n",
      "visitor_id        1197 non-null int64\n",
      "date              1197 non-null datetime64[ns]\n",
      "revenue           1197 non-null int64\n",
      "group             1197 non-null object\n",
      "dtypes: datetime64[ns](1), int64(3), object(1)\n",
      "memory usage: 46.9+ KB\n"
     ]
    }
   ],
   "source": [
    "orders = orders.rename(columns={'transactionId':'transaction_id', 'visitorId':'visitor_id'})\n",
    "orders['date'] = pd.to_datetime(orders['date'])\n",
    "orders.info()"
   ]
  },
  {
   "cell_type": "code",
   "execution_count": 9,
   "metadata": {},
   "outputs": [
    {
     "name": "stdout",
     "output_type": "stream",
     "text": [
      "<class 'pandas.core.frame.DataFrame'>\n",
      "RangeIndex: 62 entries, 0 to 61\n",
      "Data columns (total 3 columns):\n",
      "date        62 non-null datetime64[ns]\n",
      "group       62 non-null object\n",
      "visitors    62 non-null int64\n",
      "dtypes: datetime64[ns](1), int64(1), object(1)\n",
      "memory usage: 1.6+ KB\n"
     ]
    }
   ],
   "source": [
    "visitors['date'] = pd.to_datetime(visitors['date'])\n",
    "visitors.info()"
   ]
  },
  {
   "cell_type": "markdown",
   "metadata": {},
   "source": [
    "### Вывод"
   ]
  },
  {
   "cell_type": "markdown",
   "metadata": {},
   "source": [
    "По результатам предобработки имеющихся данных можно сделать следующие выводы:\n",
    "во-первых, в датасетах отсутствуют пропущенные значения и дубликаты;\n",
    "во-вторых, некоторые названия столбцов не были удобны для дальнейшей работы и были изменены на более хорошие врианты;\n",
    "в-третьих, некоторые данные имели неправильный тип данных: колонки 'date' в таблицах orders и visitors имели текстовый тип и были преобразованы к типу даты.\n",
    "\n",
    "Можно переходить к дальнейшим расчетам."
   ]
  },
  {
   "cell_type": "markdown",
   "metadata": {},
   "source": [
    "## Приоритизация гипотез"
   ]
  },
  {
   "cell_type": "markdown",
   "metadata": {},
   "source": [
    "Для того, чтобы максимизировать ожидаемое улучшение ключевых метрик бизнеса, приоритизируем сформулированные гипотезы. Для этого используем один из самых популярных способов приоритизации задач - ICE, формула расчета которого представлена ниже."
   ]
  },
  {
   "cell_type": "markdown",
   "metadata": {},
   "source": [
    "$$ \\ ICE = \\frac{Impact * Confidence}{Efforts} $$"
   ]
  },
  {
   "cell_type": "code",
   "execution_count": 10,
   "metadata": {},
   "outputs": [
    {
     "data": {
      "text/html": [
       "<div>\n",
       "<style scoped>\n",
       "    .dataframe tbody tr th:only-of-type {\n",
       "        vertical-align: middle;\n",
       "    }\n",
       "\n",
       "    .dataframe tbody tr th {\n",
       "        vertical-align: top;\n",
       "    }\n",
       "\n",
       "    .dataframe thead th {\n",
       "        text-align: right;\n",
       "    }\n",
       "</style>\n",
       "<table border=\"1\" class=\"dataframe\">\n",
       "  <thead>\n",
       "    <tr style=\"text-align: right;\">\n",
       "      <th></th>\n",
       "      <th>hypothesis</th>\n",
       "      <th>ICE</th>\n",
       "    </tr>\n",
       "  </thead>\n",
       "  <tbody>\n",
       "    <tr>\n",
       "      <td>8</td>\n",
       "      <td>Запустить акцию, дающую скидку на товар в день рождения</td>\n",
       "      <td>16.200000</td>\n",
       "    </tr>\n",
       "    <tr>\n",
       "      <td>0</td>\n",
       "      <td>Добавить два новых канала привлечения трафика, что позволит привлекать на 30% больше пользователей</td>\n",
       "      <td>13.333333</td>\n",
       "    </tr>\n",
       "    <tr>\n",
       "      <td>7</td>\n",
       "      <td>Добавить форму подписки на все основные страницы, чтобы собрать базу клиентов для email-рассылок</td>\n",
       "      <td>11.200000</td>\n",
       "    </tr>\n",
       "    <tr>\n",
       "      <td>6</td>\n",
       "      <td>Показать на главной странице баннеры с актуальными акциями и распродажами, чтобы увеличить конверсию</td>\n",
       "      <td>8.000000</td>\n",
       "    </tr>\n",
       "    <tr>\n",
       "      <td>2</td>\n",
       "      <td>Добавить блоки рекомендаций товаров на сайт интернет магазина, чтобы повысить конверсию и средний чек заказа</td>\n",
       "      <td>7.000000</td>\n",
       "    </tr>\n",
       "    <tr>\n",
       "      <td>1</td>\n",
       "      <td>Запустить собственную службу доставки, что сократит срок доставки заказов</td>\n",
       "      <td>2.000000</td>\n",
       "    </tr>\n",
       "    <tr>\n",
       "      <td>5</td>\n",
       "      <td>Добавить страницу отзывов клиентов о магазине, что позволит увеличить количество заказов</td>\n",
       "      <td>1.333333</td>\n",
       "    </tr>\n",
       "    <tr>\n",
       "      <td>3</td>\n",
       "      <td>Изменить структура категорий, что увеличит конверсию, т.к. пользователи быстрее найдут нужный товар</td>\n",
       "      <td>1.125000</td>\n",
       "    </tr>\n",
       "    <tr>\n",
       "      <td>4</td>\n",
       "      <td>Изменить цвет фона главной страницы, чтобы увеличить вовлеченность пользователей</td>\n",
       "      <td>1.000000</td>\n",
       "    </tr>\n",
       "  </tbody>\n",
       "</table>\n",
       "</div>"
      ],
      "text/plain": [
       "                                                                                                     hypothesis  \\\n",
       "8                                                       Запустить акцию, дающую скидку на товар в день рождения   \n",
       "0            Добавить два новых канала привлечения трафика, что позволит привлекать на 30% больше пользователей   \n",
       "7              Добавить форму подписки на все основные страницы, чтобы собрать базу клиентов для email-рассылок   \n",
       "6          Показать на главной странице баннеры с актуальными акциями и распродажами, чтобы увеличить конверсию   \n",
       "2  Добавить блоки рекомендаций товаров на сайт интернет магазина, чтобы повысить конверсию и средний чек заказа   \n",
       "1                                     Запустить собственную службу доставки, что сократит срок доставки заказов   \n",
       "5                      Добавить страницу отзывов клиентов о магазине, что позволит увеличить количество заказов   \n",
       "3           Изменить структура категорий, что увеличит конверсию, т.к. пользователи быстрее найдут нужный товар   \n",
       "4                              Изменить цвет фона главной страницы, чтобы увеличить вовлеченность пользователей   \n",
       "\n",
       "         ICE  \n",
       "8  16.200000  \n",
       "0  13.333333  \n",
       "7  11.200000  \n",
       "6   8.000000  \n",
       "2   7.000000  \n",
       "1   2.000000  \n",
       "5   1.333333  \n",
       "3   1.125000  \n",
       "4   1.000000  "
      ]
     },
     "execution_count": 10,
     "metadata": {},
     "output_type": "execute_result"
    }
   ],
   "source": [
    "hypothesis['ICE'] = (hypothesis['impact'] * hypothesis['confidence']) / hypothesis['efforts']\n",
    "hypothesis[['hypothesis', 'ICE']].sort_values(by = 'ICE', ascending = False)"
   ]
  },
  {
   "cell_type": "markdown",
   "metadata": {},
   "source": [
    "Применим фреймворк RICE (модификацию метода ICE) для приоритизации гипотез. Формула нахождения этого значения представлена ниже."
   ]
  },
  {
   "cell_type": "markdown",
   "metadata": {},
   "source": [
    "$$ \\ RICE = \\frac{Reach * Impact * Confidence}{Efforts} $$"
   ]
  },
  {
   "cell_type": "code",
   "execution_count": 11,
   "metadata": {},
   "outputs": [
    {
     "data": {
      "text/html": [
       "<div>\n",
       "<style scoped>\n",
       "    .dataframe tbody tr th:only-of-type {\n",
       "        vertical-align: middle;\n",
       "    }\n",
       "\n",
       "    .dataframe tbody tr th {\n",
       "        vertical-align: top;\n",
       "    }\n",
       "\n",
       "    .dataframe thead th {\n",
       "        text-align: right;\n",
       "    }\n",
       "</style>\n",
       "<table border=\"1\" class=\"dataframe\">\n",
       "  <thead>\n",
       "    <tr style=\"text-align: right;\">\n",
       "      <th></th>\n",
       "      <th>hypothesis</th>\n",
       "      <th>RICE</th>\n",
       "    </tr>\n",
       "  </thead>\n",
       "  <tbody>\n",
       "    <tr>\n",
       "      <td>7</td>\n",
       "      <td>Добавить форму подписки на все основные страницы, чтобы собрать базу клиентов для email-рассылок</td>\n",
       "      <td>112.0</td>\n",
       "    </tr>\n",
       "    <tr>\n",
       "      <td>2</td>\n",
       "      <td>Добавить блоки рекомендаций товаров на сайт интернет магазина, чтобы повысить конверсию и средний чек заказа</td>\n",
       "      <td>56.0</td>\n",
       "    </tr>\n",
       "    <tr>\n",
       "      <td>0</td>\n",
       "      <td>Добавить два новых канала привлечения трафика, что позволит привлекать на 30% больше пользователей</td>\n",
       "      <td>40.0</td>\n",
       "    </tr>\n",
       "    <tr>\n",
       "      <td>6</td>\n",
       "      <td>Показать на главной странице баннеры с актуальными акциями и распродажами, чтобы увеличить конверсию</td>\n",
       "      <td>40.0</td>\n",
       "    </tr>\n",
       "    <tr>\n",
       "      <td>8</td>\n",
       "      <td>Запустить акцию, дающую скидку на товар в день рождения</td>\n",
       "      <td>16.2</td>\n",
       "    </tr>\n",
       "    <tr>\n",
       "      <td>3</td>\n",
       "      <td>Изменить структура категорий, что увеличит конверсию, т.к. пользователи быстрее найдут нужный товар</td>\n",
       "      <td>9.0</td>\n",
       "    </tr>\n",
       "    <tr>\n",
       "      <td>1</td>\n",
       "      <td>Запустить собственную службу доставки, что сократит срок доставки заказов</td>\n",
       "      <td>4.0</td>\n",
       "    </tr>\n",
       "    <tr>\n",
       "      <td>5</td>\n",
       "      <td>Добавить страницу отзывов клиентов о магазине, что позволит увеличить количество заказов</td>\n",
       "      <td>4.0</td>\n",
       "    </tr>\n",
       "    <tr>\n",
       "      <td>4</td>\n",
       "      <td>Изменить цвет фона главной страницы, чтобы увеличить вовлеченность пользователей</td>\n",
       "      <td>3.0</td>\n",
       "    </tr>\n",
       "  </tbody>\n",
       "</table>\n",
       "</div>"
      ],
      "text/plain": [
       "                                                                                                     hypothesis  \\\n",
       "7              Добавить форму подписки на все основные страницы, чтобы собрать базу клиентов для email-рассылок   \n",
       "2  Добавить блоки рекомендаций товаров на сайт интернет магазина, чтобы повысить конверсию и средний чек заказа   \n",
       "0            Добавить два новых канала привлечения трафика, что позволит привлекать на 30% больше пользователей   \n",
       "6          Показать на главной странице баннеры с актуальными акциями и распродажами, чтобы увеличить конверсию   \n",
       "8                                                       Запустить акцию, дающую скидку на товар в день рождения   \n",
       "3           Изменить структура категорий, что увеличит конверсию, т.к. пользователи быстрее найдут нужный товар   \n",
       "1                                     Запустить собственную службу доставки, что сократит срок доставки заказов   \n",
       "5                      Добавить страницу отзывов клиентов о магазине, что позволит увеличить количество заказов   \n",
       "4                              Изменить цвет фона главной страницы, чтобы увеличить вовлеченность пользователей   \n",
       "\n",
       "    RICE  \n",
       "7  112.0  \n",
       "2   56.0  \n",
       "0   40.0  \n",
       "6   40.0  \n",
       "8   16.2  \n",
       "3    9.0  \n",
       "1    4.0  \n",
       "5    4.0  \n",
       "4    3.0  "
      ]
     },
     "execution_count": 11,
     "metadata": {},
     "output_type": "execute_result"
    }
   ],
   "source": [
    "hypothesis['RICE'] = (hypothesis['reach'] * hypothesis['impact'] * hypothesis['confidence']) / hypothesis['efforts']\n",
    "hypothesis[['hypothesis', 'RICE']].sort_values(by = 'RICE', ascending = False)"
   ]
  },
  {
   "cell_type": "markdown",
   "metadata": {},
   "source": [
    "### Вывод"
   ]
  },
  {
   "cell_type": "markdown",
   "metadata": {},
   "source": [
    "На втором этапе исследования была проведена приоритизация гипотез с помощью фреймворков ICE и RICE. По результатам применения ICE наиболее перспективными гипотезами оказались 8, 0, 7 и 6, в свою очередь наиболее перспективные гипотезы по RICE - 7, 2, 0 и 6. Седьмая гипотеза вышла на первое место во втором случае во многом из-за максимальновысокого значения параметра Reach(какое кол-во пользователей затронут изменения), вторая гипотеза в лидерах также из-за высокого значения Reach. Восьмая гипотеза в лидеры не попала, так как ее Reach минимален, сответственно, это изменение практически не затронет пользователей, что не является хорошим показателем."
   ]
  },
  {
   "cell_type": "markdown",
   "metadata": {},
   "source": [
    "## Анализ A/B-теста"
   ]
  },
  {
   "cell_type": "markdown",
   "metadata": {},
   "source": [
    "Перейдем к анализу имеющихся результатов A/B-теста. В первую очередь проверим данные на наличие ошибок и \"перекосов\"."
   ]
  },
  {
   "cell_type": "code",
   "execution_count": 12,
   "metadata": {
    "scrolled": true
   },
   "outputs": [
    {
     "name": "stdout",
     "output_type": "stream",
     "text": [
      "Кол-во посетителей в группе А: 18736\n",
      "Кол-во посетителей в группе B: 18916\n"
     ]
    }
   ],
   "source": [
    "print('Кол-во посетителей в группе А: {}\\n'\n",
    "      'Кол-во посетителей в группе B: {}'.format(visitors[visitors['group']=='A']['visitors'].sum(), \n",
    "                                                 visitors[visitors['group']=='B']['visitors'].sum()))"
   ]
  },
  {
   "cell_type": "markdown",
   "metadata": {},
   "source": [
    "Как мы видим, разница между кол-вом посетителей незначительна, перекосов в сторону одну из групп не наблюдается."
   ]
  },
  {
   "cell_type": "code",
   "execution_count": 13,
   "metadata": {},
   "outputs": [
    {
     "name": "stdout",
     "output_type": "stream",
     "text": [
      "5.625606207565471\n"
     ]
    }
   ],
   "source": [
    "abnormal_visitors = orders.groupby('visitor_id').agg({'group':'nunique'}).sort_values(by = 'group', ascending = False)\n",
    "print(len(abnormal_visitors.query('group == 2'))/(len(abnormal_visitors)) *100)"
   ]
  },
  {
   "cell_type": "markdown",
   "metadata": {},
   "source": [
    "Исследование данных показало, что у нас есть пользователи, которые попали как в группу А, так и в группу В. Кроме того, таких пользователей около 5%, что не является хорошим показателем. Возможно, следует уведомить об этом разработчиков. "
   ]
  },
  {
   "cell_type": "markdown",
   "metadata": {},
   "source": [
    "Следующим шагом построим график кумулятивной выручки по группам. Сделаем выводы и предположения."
   ]
  },
  {
   "cell_type": "code",
   "execution_count": 14,
   "metadata": {},
   "outputs": [
    {
     "data": {
      "text/html": [
       "<div>\n",
       "<style scoped>\n",
       "    .dataframe tbody tr th:only-of-type {\n",
       "        vertical-align: middle;\n",
       "    }\n",
       "\n",
       "    .dataframe tbody tr th {\n",
       "        vertical-align: top;\n",
       "    }\n",
       "\n",
       "    .dataframe thead th {\n",
       "        text-align: right;\n",
       "    }\n",
       "</style>\n",
       "<table border=\"1\" class=\"dataframe\">\n",
       "  <thead>\n",
       "    <tr style=\"text-align: right;\">\n",
       "      <th></th>\n",
       "      <th>date</th>\n",
       "      <th>group</th>\n",
       "      <th>transaction_id</th>\n",
       "      <th>visitor_id</th>\n",
       "      <th>revenue</th>\n",
       "    </tr>\n",
       "  </thead>\n",
       "  <tbody>\n",
       "    <tr>\n",
       "      <td>55</td>\n",
       "      <td>2019-08-01</td>\n",
       "      <td>A</td>\n",
       "      <td>24</td>\n",
       "      <td>20</td>\n",
       "      <td>148579</td>\n",
       "    </tr>\n",
       "    <tr>\n",
       "      <td>66</td>\n",
       "      <td>2019-08-01</td>\n",
       "      <td>B</td>\n",
       "      <td>21</td>\n",
       "      <td>20</td>\n",
       "      <td>101217</td>\n",
       "    </tr>\n",
       "    <tr>\n",
       "      <td>175</td>\n",
       "      <td>2019-08-02</td>\n",
       "      <td>A</td>\n",
       "      <td>44</td>\n",
       "      <td>38</td>\n",
       "      <td>242401</td>\n",
       "    </tr>\n",
       "    <tr>\n",
       "      <td>173</td>\n",
       "      <td>2019-08-02</td>\n",
       "      <td>B</td>\n",
       "      <td>45</td>\n",
       "      <td>43</td>\n",
       "      <td>266748</td>\n",
       "    </tr>\n",
       "    <tr>\n",
       "      <td>291</td>\n",
       "      <td>2019-08-03</td>\n",
       "      <td>A</td>\n",
       "      <td>68</td>\n",
       "      <td>62</td>\n",
       "      <td>354874</td>\n",
       "    </tr>\n",
       "  </tbody>\n",
       "</table>\n",
       "</div>"
      ],
      "text/plain": [
       "          date group  transaction_id  visitor_id  revenue\n",
       "55  2019-08-01     A              24          20   148579\n",
       "66  2019-08-01     B              21          20   101217\n",
       "175 2019-08-02     A              44          38   242401\n",
       "173 2019-08-02     B              45          43   266748\n",
       "291 2019-08-03     A              68          62   354874"
      ]
     },
     "execution_count": 14,
     "metadata": {},
     "output_type": "execute_result"
    }
   ],
   "source": [
    "datesGroups = orders[['date','group']].drop_duplicates()\n",
    "ordersAggregated = datesGroups.apply(lambda x: orders[np.logical_and(orders['date'] <= x['date'], orders['group'] == x['group'])].agg({'date' : 'max', 'group' : 'max', 'transaction_id' : pd.Series.nunique, 'visitor_id' : pd.Series.nunique, 'revenue' : 'sum'}), axis=1).sort_values(by=['date','group'])\n",
    "ordersAggregated.head(5)"
   ]
  },
  {
   "cell_type": "code",
   "execution_count": 15,
   "metadata": {},
   "outputs": [
    {
     "data": {
      "text/html": [
       "<div>\n",
       "<style scoped>\n",
       "    .dataframe tbody tr th:only-of-type {\n",
       "        vertical-align: middle;\n",
       "    }\n",
       "\n",
       "    .dataframe tbody tr th {\n",
       "        vertical-align: top;\n",
       "    }\n",
       "\n",
       "    .dataframe thead th {\n",
       "        text-align: right;\n",
       "    }\n",
       "</style>\n",
       "<table border=\"1\" class=\"dataframe\">\n",
       "  <thead>\n",
       "    <tr style=\"text-align: right;\">\n",
       "      <th></th>\n",
       "      <th>date</th>\n",
       "      <th>group</th>\n",
       "      <th>visitors</th>\n",
       "    </tr>\n",
       "  </thead>\n",
       "  <tbody>\n",
       "    <tr>\n",
       "      <td>55</td>\n",
       "      <td>2019-08-01</td>\n",
       "      <td>A</td>\n",
       "      <td>719</td>\n",
       "    </tr>\n",
       "    <tr>\n",
       "      <td>66</td>\n",
       "      <td>2019-08-01</td>\n",
       "      <td>B</td>\n",
       "      <td>713</td>\n",
       "    </tr>\n",
       "    <tr>\n",
       "      <td>175</td>\n",
       "      <td>2019-08-02</td>\n",
       "      <td>A</td>\n",
       "      <td>1338</td>\n",
       "    </tr>\n",
       "    <tr>\n",
       "      <td>173</td>\n",
       "      <td>2019-08-02</td>\n",
       "      <td>B</td>\n",
       "      <td>1294</td>\n",
       "    </tr>\n",
       "    <tr>\n",
       "      <td>291</td>\n",
       "      <td>2019-08-03</td>\n",
       "      <td>A</td>\n",
       "      <td>1845</td>\n",
       "    </tr>\n",
       "  </tbody>\n",
       "</table>\n",
       "</div>"
      ],
      "text/plain": [
       "          date group  visitors\n",
       "55  2019-08-01     A       719\n",
       "66  2019-08-01     B       713\n",
       "175 2019-08-02     A      1338\n",
       "173 2019-08-02     B      1294\n",
       "291 2019-08-03     A      1845"
      ]
     },
     "execution_count": 15,
     "metadata": {},
     "output_type": "execute_result"
    }
   ],
   "source": [
    "visitorsAggregated = datesGroups.apply(lambda x: visitors[np.logical_and(visitors['date'] <= x['date'], visitors['group'] == x['group'])].agg({'date' : 'max', 'group' : 'max', 'visitors' : 'sum'}), axis=1).sort_values(by=['date','group'])\n",
    "visitorsAggregated.head(5)"
   ]
  },
  {
   "cell_type": "code",
   "execution_count": 16,
   "metadata": {},
   "outputs": [
    {
     "name": "stdout",
     "output_type": "stream",
     "text": [
      "        date group  orders  buyers  revenue  visitors\n",
      "0 2019-08-01     A      24      20   148579       719\n",
      "1 2019-08-01     B      21      20   101217       713\n",
      "2 2019-08-02     A      44      38   242401      1338\n",
      "3 2019-08-02     B      45      43   266748      1294\n",
      "4 2019-08-03     A      68      62   354874      1845\n"
     ]
    }
   ],
   "source": [
    "cumulativeData = ordersAggregated.merge(visitorsAggregated, left_on=['date', 'group'], right_on=['date', 'group'])\n",
    "cumulativeData.columns = ['date', 'group', 'orders', 'buyers', 'revenue', 'visitors']\n",
    "print(cumulativeData.head(5))"
   ]
  },
  {
   "cell_type": "code",
   "execution_count": 17,
   "metadata": {},
   "outputs": [
    {
     "data": {
      "text/plain": [
       "<matplotlib.legend.Legend at 0x7f9677581dd0>"
      ]
     },
     "execution_count": 17,
     "metadata": {},
     "output_type": "execute_result"
    },
    {
     "data": {
      "image/png": "[encoded data removed]",
      "text/plain": [
       "<Figure size 432x288 with 1 Axes>"
      ]
     },
     "metadata": {
      "needs_background": "light"
     },
     "output_type": "display_data"
    }
   ],
   "source": [
    "cumulativeRevenueA = cumulativeData[cumulativeData['group']=='A'][['date','revenue', 'orders']]\n",
    "cumulativeRevenueB = cumulativeData[cumulativeData['group']=='B'][['date','revenue', 'orders']]\n",
    "plt.plot(cumulativeRevenueA['date'], cumulativeRevenueA['revenue'], label='A')\n",
    "plt.plot(cumulativeRevenueB['date'], cumulativeRevenueB['revenue'], label='B')\n",
    "plt.title('График кумулятивной выручки по группам')\n",
    "plt.xticks(rotation=45)\n",
    "plt.ylabel(\"Выручка, у.е.\")\n",
    "plt.xlabel(\"Дата\")\n",
    "plt.legend()"
   ]
  },
  {
   "cell_type": "markdown",
   "metadata": {},
   "source": [
    "Как можно увидеть из графика, в середине теста сегмент В обогнал А и продолжал лидировать до конца теста. Причиной этого могут выступать выбросы или очень крупные заказы, влияющие на результаты."
   ]
  },
  {
   "cell_type": "code",
   "execution_count": 18,
   "metadata": {},
   "outputs": [
    {
     "name": "stdout",
     "output_type": "stream",
     "text": [
      "p-значение:  1.739703399801917e-34\n",
      "Отвергаем нулевую гипотезу: распределение не нормально\n"
     ]
    }
   ],
   "source": [
    "results = st.shapiro(orders.query('group == \"A\"')['revenue'])\n",
    "p_value = results[\n",
    "    1\n",
    "] \n",
    "alpha = 0.05\n",
    "print('p-значение: ', p_value)\n",
    "\n",
    "if p_value < alpha:\n",
    "    print('Отвергаем нулевую гипотезу: распределение не нормально')\n",
    "else:\n",
    "    print('Не получилось отвергнуть нулевую гипотезу, всё нормально') "
   ]
  },
  {
   "cell_type": "code",
   "execution_count": 19,
   "metadata": {},
   "outputs": [
    {
     "name": "stdout",
     "output_type": "stream",
     "text": [
      "p-значение:  0.0\n",
      "Отвергаем нулевую гипотезу: распределение не нормально\n"
     ]
    }
   ],
   "source": [
    "results = st.shapiro(orders.query('group == \"B\"')['revenue'])\n",
    "p_value = results[\n",
    "    1\n",
    "] \n",
    "alpha = 0.05\n",
    "print('p-значение: ', p_value)\n",
    "\n",
    "if p_value < alpha:\n",
    "    print('Отвергаем нулевую гипотезу: распределение не нормально')\n",
    "else:\n",
    "    print('Не получилось отвергнуть нулевую гипотезу, всё нормально') "
   ]
  },
  {
   "cell_type": "markdown",
   "metadata": {},
   "source": [
    "Как мы видим, распределение значений выручки не является нормальным, в связи с чем можно предположить наличие выбросов."
   ]
  },
  {
   "cell_type": "markdown",
   "metadata": {},
   "source": [
    "Построим график кумулятивного среднего чека по группам. Сделаем выводы."
   ]
  },
  {
   "cell_type": "code",
   "execution_count": 20,
   "metadata": {},
   "outputs": [
    {
     "data": {
      "text/plain": [
       "<matplotlib.legend.Legend at 0x7f9676e4bfd0>"
      ]
     },
     "execution_count": 20,
     "metadata": {},
     "output_type": "execute_result"
    },
    {
     "data": {
      "image/png": "[encoded data removed]",
      "text/plain": [
       "<Figure size 432x288 with 1 Axes>"
      ]
     },
     "metadata": {
      "needs_background": "light"
     },
     "output_type": "display_data"
    }
   ],
   "source": [
    "plt.plot(cumulativeRevenueA['date'], cumulativeRevenueA['revenue']/cumulativeRevenueA['orders'], label='A')\n",
    "plt.plot(cumulativeRevenueB['date'], cumulativeRevenueB['revenue']/cumulativeRevenueB['orders'], label='B')\n",
    "plt.title('График изменения кумулятивного среднего чека по группам')\n",
    "plt.ylabel(\"Средний чек, у.е.\")\n",
    "plt.xlabel(\"Дата\")\n",
    "plt.xticks(rotation=45)\n",
    "plt.legend() "
   ]
  },
  {
   "cell_type": "markdown",
   "metadata": {},
   "source": [
    "График демонстрирует, что кумулятивное значение среднего чека по группам подвержено колебаниям(особенно заметным на графике группы В), в связи с чем принимать окончательные решения по метрике ещё рано."
   ]
  },
  {
   "cell_type": "markdown",
   "metadata": {},
   "source": [
    "Построим график относительного изменения кумулятивного среднего чека группы B к группе A. Сделаем выводы и предположения."
   ]
  },
  {
   "cell_type": "code",
   "execution_count": 21,
   "metadata": {},
   "outputs": [
    {
     "data": {
      "text/plain": [
       "<matplotlib.lines.Line2D at 0x7f9676e10cd0>"
      ]
     },
     "execution_count": 21,
     "metadata": {},
     "output_type": "execute_result"
    },
    {
     "data": {
      "image/png": "[encoded data removed]",
      "text/plain": [
       "<Figure size 432x288 with 1 Axes>"
      ]
     },
     "metadata": {
      "needs_background": "light"
     },
     "output_type": "display_data"
    }
   ],
   "source": [
    "mergedCumulativeRevenue = cumulativeRevenueA.merge(cumulativeRevenueB, left_on='date', right_on='date', how='left', suffixes=['A', 'B'])\n",
    "plt.plot(mergedCumulativeRevenue['date'], (mergedCumulativeRevenue['revenueB']/mergedCumulativeRevenue['ordersB'])/(mergedCumulativeRevenue['revenueA']/mergedCumulativeRevenue['ordersA'])-1)\n",
    "plt.title('График изменения кумулятивного среднего чека группы B к группе A')\n",
    "plt.ylabel(\"Средний чек, у.е.\")\n",
    "plt.xlabel(\"Дата\")\n",
    "plt.xticks(rotation=45)\n",
    "plt.axhline(y=0, color='green', linestyle='--')"
   ]
  },
  {
   "cell_type": "markdown",
   "metadata": {},
   "source": [
    "График демнстрирует, что результаты теста значительно менялись в некоторые периоды(спад 13 августа и резкий рост в 20-х числах августа). "
   ]
  },
  {
   "cell_type": "markdown",
   "metadata": {},
   "source": [
    "Построим график кумулятивной конверсии по группам. Сделайте выводы и предположения."
   ]
  },
  {
   "cell_type": "code",
   "execution_count": 22,
   "metadata": {},
   "outputs": [
    {
     "data": {
      "text/plain": [
       "<matplotlib.legend.Legend at 0x7f9676e04950>"
      ]
     },
     "execution_count": 22,
     "metadata": {},
     "output_type": "execute_result"
    },
    {
     "data": {
      "image/png": "[encoded data removed]",
      "text/plain": [
       "<Figure size 432x288 with 1 Axes>"
      ]
     },
     "metadata": {
      "needs_background": "light"
     },
     "output_type": "display_data"
    }
   ],
   "source": [
    "cumulativeData['conversion'] = cumulativeData['orders']/cumulativeData['visitors']\n",
    "cumulativeDataA = cumulativeData[cumulativeData['group']=='A']\n",
    "cumulativeDataB = cumulativeData[cumulativeData['group']=='B']\n",
    "plt.plot(cumulativeDataA['date'], cumulativeDataA['conversion'], label='A')\n",
    "plt.plot(cumulativeDataB['date'], cumulativeDataB['conversion'], label='B')\n",
    "plt.xticks(rotation=45)\n",
    "plt.ylabel(\"Кумулятивная конверсия\")\n",
    "plt.xlabel(\"Дата\")\n",
    "plt.title('График кумулятивной конверсии по группам')\n",
    "plt.legend()"
   ]
  },
  {
   "cell_type": "markdown",
   "metadata": {},
   "source": [
    "В начале теста сегмент А имел гораздо большую конверсию, чем сегмент В, однако постепенно его конверсия начала падать, а сегмента В - расти. Постепенно конверсия В осталась стабильно больше сегмента А, как видно из графика."
   ]
  },
  {
   "cell_type": "markdown",
   "metadata": {},
   "source": [
    "Построим график относительного изменения кумулятивной конверсии группы B к группе A."
   ]
  },
  {
   "cell_type": "code",
   "execution_count": 23,
   "metadata": {},
   "outputs": [
    {
     "data": {
      "text/plain": [
       "(array([737272., 737276., 737280., 737284., 737288., 737292., 737296.,\n",
       "        737300., 737303.]),\n",
       " <a list of 9 Text xticklabel objects>)"
      ]
     },
     "execution_count": 23,
     "metadata": {},
     "output_type": "execute_result"
    },
    {
     "data": {
      "image/png": "[encoded data removed]",
      "text/plain": [
       "<Figure size 432x288 with 1 Axes>"
      ]
     },
     "metadata": {
      "needs_background": "light"
     },
     "output_type": "display_data"
    }
   ],
   "source": [
    "mergedCumulativeConversions = cumulativeDataA[['date','conversion']].merge(cumulativeDataB[['date','conversion']], left_on='date', right_on='date', how='left', suffixes=['A', 'B'])\n",
    "plt.plot(mergedCumulativeConversions['date'], mergedCumulativeConversions['conversionB']/mergedCumulativeConversions['conversionA']-1, label=\"Относительный прирост конверсии группы B относительно группы A\")\n",
    "plt.axhline(y=0, color='black', linestyle='--')\n",
    "plt.axhline(y=-0.1, color='grey', linestyle='--')\n",
    "plt.title('График относительного изменения кумулятивной конверсии группы B к группе A')\n",
    "plt.ylabel(\"Относительное изменение конверсии\")\n",
    "plt.xlabel(\"Дата\")\n",
    "plt.xticks(rotation=45)"
   ]
  },
  {
   "cell_type": "markdown",
   "metadata": {},
   "source": [
    "Группа В лидирует по конверсии почти с самого начала (с 5 августа), достигает пика между 13 и 17 августа (прирост почти в 20% относительно группы А) и постепенно падает до 15%. "
   ]
  },
  {
   "cell_type": "markdown",
   "metadata": {},
   "source": [
    "Построим точечный график количества заказов по пользователям."
   ]
  },
  {
   "cell_type": "code",
   "execution_count": 24,
   "metadata": {},
   "outputs": [
    {
     "name": "stdout",
     "output_type": "stream",
     "text": [
      "         user_id  count_orders\n",
      "1023  4256040402            11\n",
      "591   2458001652            11\n",
      "569   2378935119             9\n",
      "487   2038680547             8\n",
      "44     199603092             5\n",
      "744   3062433592             5\n",
      "55     237748145             5\n",
      "917   3803269165             5\n",
      "299   1230306981             5\n",
      "897   3717692402             5\n"
     ]
    }
   ],
   "source": [
    "orders_visitors = orders.groupby('visitor_id', as_index=False).agg({'transaction_id':'nunique'})\n",
    "orders_visitors.columns = ['user_id', 'count_orders']\n",
    "print(orders_visitors.sort_values(by='count_orders', ascending=False).head(10))"
   ]
  },
  {
   "cell_type": "code",
   "execution_count": 25,
   "metadata": {},
   "outputs": [
    {
     "data": {
      "text/plain": [
       "Text(0.5, 0, 'Кол-во заказов, шт.')"
      ]
     },
     "execution_count": 25,
     "metadata": {},
     "output_type": "execute_result"
    },
    {
     "data": {
      "image/png": "[encoded data removed]",
      "text/plain": [
       "<Figure size 432x288 with 1 Axes>"
      ]
     },
     "metadata": {
      "needs_background": "light"
     },
     "output_type": "display_data"
    }
   ],
   "source": [
    "x_values = pd.Series(range(0,len(orders_visitors)))\n",
    "plt.scatter(x_values, orders_visitors['count_orders']) \n",
    "plt.title('Точечный график кол-ва заказов по пользователям')\n",
    "plt.ylabel(\"Кол-во пользователей, шт.\")\n",
    "plt.xlabel(\"Кол-во заказов, шт.\")"
   ]
  },
  {
   "cell_type": "markdown",
   "metadata": {},
   "source": [
    "Как видно из точечного графика, большинство пользователей совершает не более 1 заказа, некоторая часть совершает 2 заказа, больше двух заказов совершает совсем небольшое количество пользователей. Посчитаем выборочные перцентили: 95-й и 99-й перцентили количества заказов на пользователя. Выберем границу для определения аномальных пользователей."
   ]
  },
  {
   "cell_type": "code",
   "execution_count": 26,
   "metadata": {},
   "outputs": [
    {
     "name": "stdout",
     "output_type": "stream",
     "text": [
      "90 перцентиль: 1.00\n",
      "95 перцентиль: 2.00\n",
      "99 перцентиль: 4.00\n"
     ]
    }
   ],
   "source": [
    "print('90 перцентиль: %.2f' % (np.percentile(orders_visitors['count_orders'], [90])))\n",
    "print('95 перцентиль: %.2f' % (np.percentile(orders_visitors['count_orders'], [95])))\n",
    "print('99 перцентиль: %.2f' % (np.percentile(orders_visitors['count_orders'], [99])))"
   ]
  },
  {
   "cell_type": "markdown",
   "metadata": {},
   "source": [
    "Не более 5% пользователей оформляли больше 2 заказов. И 10% пользователей заказывали более одного раза. Разумно выбрать 2 или 3 заказов на одного пользователя за нижнюю границу числа заказов, и отсеять аномальных пользователей по ней."
   ]
  },
  {
   "cell_type": "markdown",
   "metadata": {},
   "source": [
    "Построим точечный график стоимостей заказов. "
   ]
  },
  {
   "cell_type": "code",
   "execution_count": 27,
   "metadata": {},
   "outputs": [
    {
     "data": {
      "text/plain": [
       "Text(0.5, 0, 'Кол-во пользователей, шт.')"
      ]
     },
     "execution_count": 27,
     "metadata": {},
     "output_type": "execute_result"
    },
    {
     "data": {
      "image/png": "[encoded data removed]",
      "text/plain": [
       "<Figure size 432x288 with 1 Axes>"
      ]
     },
     "metadata": {
      "needs_background": "light"
     },
     "output_type": "display_data"
    }
   ],
   "source": [
    "x_values_revenue = pd.Series(range(0,len(orders['revenue'])))\n",
    "plt.scatter(x_values_revenue, orders['revenue'])\n",
    "plt.title('Точечный график стоимостей заказов по пользователям')\n",
    "plt.ylabel(\"Стоимость заказа, у.е.\")\n",
    "plt.xlabel(\"Кол-во пользователей, шт.\")"
   ]
  },
  {
   "cell_type": "markdown",
   "metadata": {},
   "source": [
    "На графике отчетливо видно два аномальных значения - кроме того, заказов на сумму более 200 тыс. нет вообще, а основная масса концентрируется в значениях менее 100 тыс. руб. Для более подробной информации необходимо посчитать 95-й и 99-й перцентили стоимости заказов. Выберем границу для определения аномальных заказов."
   ]
  },
  {
   "cell_type": "code",
   "execution_count": 28,
   "metadata": {},
   "outputs": [
    {
     "name": "stdout",
     "output_type": "stream",
     "text": [
      "90 перцентиль: 18168.00\n",
      "95 перцентиль: 28000.00\n",
      "99 перцентиль: 58233.20\n"
     ]
    }
   ],
   "source": [
    "print('90 перцентиль: %.2f' % (np.percentile(orders['revenue'], [90])))\n",
    "print('95 перцентиль: %.2f' % (np.percentile(orders['revenue'], [95])))\n",
    "print('99 перцентиль: %.2f' % (np.percentile(orders['revenue'], [99])))"
   ]
  },
  {
   "cell_type": "markdown",
   "metadata": {},
   "source": [
    "Не более 5% пользователей оформляют заказы стоимостью более 28 тыс. у.е. и не более 1% дороже 58 тыс. у.е. В связи с чем границу аномальных заказов следует отметить заказы стоимостью более 60 тыс. у.е."
   ]
  },
  {
   "cell_type": "markdown",
   "metadata": {},
   "source": [
    "Посчитаем статистическую значимость различий в конверсии между группами по «сырым» данным. Сделаем выводы и предположения."
   ]
  },
  {
   "cell_type": "markdown",
   "metadata": {},
   "source": [
    "В первую очередь сформулируем нулевую и альтернативную гипотезы для проверки:\n",
    "\n",
    "    H0: Конверсия в группе A равна конверсии в группе B\n",
    "    H1: Конверсия в группе A не равна конверсии в группе B. \n",
    "\n",
    "Для проверки используем критерий Манна-Уитни."
   ]
  },
  {
   "cell_type": "code",
   "execution_count": 29,
   "metadata": {},
   "outputs": [
    {
     "name": "stdout",
     "output_type": "stream",
     "text": [
      "        date  ordersPerDateA  revenuePerDateA  ordersPerDateB  \\\n",
      "0 2019-08-01              24           148579              21   \n",
      "1 2019-08-02              20            93822              24   \n",
      "2 2019-08-03              24           112473              16   \n",
      "3 2019-08-04              16            70825              17   \n",
      "4 2019-08-05              25           124218              23   \n",
      "\n",
      "   revenuePerDateB  ordersCummulativeA  revenueCummulativeA  \\\n",
      "0           101217                  24               148579   \n",
      "1           165531                  44               242401   \n",
      "2           114248                  68               354874   \n",
      "3           108571                  84               425699   \n",
      "4            92428                 109               549917   \n",
      "\n",
      "   ordersCummulativeB  revenueCummulativeB  visitorsPerDateA  \\\n",
      "0                  21               101217               719   \n",
      "1                  45               266748               619   \n",
      "2                  61               380996               507   \n",
      "3                  78               489567               717   \n",
      "4                 101               581995               756   \n",
      "\n",
      "   visitorsPerDateB  visitorsCummulativeA  visitorsCummulativeB  \n",
      "0               713                   719                   713  \n",
      "1               581                  1338                  1294  \n",
      "2               509                  1845                  1803  \n",
      "3               770                  2562                  2573  \n",
      "4               707                  3318                  3280  \n"
     ]
    }
   ],
   "source": [
    "visitorsADaily = visitors[visitors['group'] == 'A'][['date', 'visitors']]\n",
    "visitorsADaily.columns = ['date', 'visitorsPerDateA']\n",
    "visitorsACummulative = visitorsADaily.apply(\n",
    "    lambda x: visitorsADaily[visitorsADaily['date'] <= x['date']].agg(\n",
    "        {'date': 'max', 'visitorsPerDateA': 'sum'}\n",
    "    ),\n",
    "    axis=1,\n",
    ")\n",
    "visitorsACummulative.columns = ['date', 'visitorsCummulativeA']\n",
    "visitorsBDaily = visitors[visitors['group'] == 'B'][['date', 'visitors']]\n",
    "visitorsBDaily.columns = ['date', 'visitorsPerDateB']\n",
    "visitorsBCummulative = visitorsBDaily.apply(\n",
    "    lambda x: visitorsBDaily[visitorsBDaily['date'] <= x['date']].agg(\n",
    "        {'date': 'max', 'visitorsPerDateB': 'sum'}\n",
    "    ),\n",
    "    axis=1,\n",
    ")\n",
    "visitorsBCummulative.columns = ['date', 'visitorsCummulativeB']\n",
    "ordersADaily = (\n",
    "    orders[orders['group'] == 'A'][['date', 'transaction_id', 'visitor_id', 'revenue']]\n",
    "    .groupby('date', as_index=False)\n",
    "    .agg({'transaction_id': pd.Series.nunique, 'revenue': 'sum'})\n",
    ")\n",
    "ordersADaily.columns = ['date', 'ordersPerDateA', 'revenuePerDateA']\n",
    "\n",
    "ordersACummulative = ordersADaily.apply(\n",
    "    lambda x: ordersADaily[ordersADaily['date'] <= x['date']].agg(\n",
    "        {'date': 'max', 'ordersPerDateA': 'sum', 'revenuePerDateA': 'sum'}\n",
    "    ),\n",
    "    axis=1,\n",
    ").sort_values(by=['date'])\n",
    "ordersACummulative.columns = [\n",
    "    'date',\n",
    "    'ordersCummulativeA',\n",
    "    'revenueCummulativeA',\n",
    "]\n",
    "\n",
    "ordersBDaily = (\n",
    "    orders[orders['group'] == 'B'][['date', 'transaction_id', 'visitor_id', 'revenue']]\n",
    "    .groupby('date', as_index=False)\n",
    "    .agg({'transaction_id': pd.Series.nunique, 'revenue': 'sum'})\n",
    ")\n",
    "ordersBDaily.columns = ['date', 'ordersPerDateB', 'revenuePerDateB']\n",
    "\n",
    "ordersBCummulative = ordersBDaily.apply(\n",
    "    lambda x: ordersBDaily[ordersBDaily['date'] <= x['date']].agg(\n",
    "        {'date': 'max', 'ordersPerDateB': 'sum', 'revenuePerDateB': 'sum'}\n",
    "    ),\n",
    "    axis=1,\n",
    ").sort_values(by=['date'])\n",
    "ordersBCummulative.columns = [\n",
    "    'date',\n",
    "    'ordersCummulativeB',\n",
    "    'revenueCummulativeB',\n",
    "]\n",
    "\n",
    "data = (\n",
    "    ordersADaily.merge(\n",
    "        ordersBDaily, left_on='date', right_on='date', how='left'\n",
    "    )\n",
    "    .merge(ordersACummulative, left_on='date', right_on='date', how='left')\n",
    "    .merge(ordersBCummulative, left_on='date', right_on='date', how='left')\n",
    "    .merge(visitorsADaily, left_on='date', right_on='date', how='left')\n",
    "    .merge(visitorsBDaily, left_on='date', right_on='date', how='left')\n",
    "    .merge(visitorsACummulative, left_on='date', right_on='date', how='left')\n",
    "    .merge(visitorsBCummulative, left_on='date', right_on='date', how='left')\n",
    ")\n",
    "\n",
    "print(data.head(5)) "
   ]
  },
  {
   "cell_type": "code",
   "execution_count": 30,
   "metadata": {},
   "outputs": [],
   "source": [
    "ordersByUsersA = (\n",
    "    orders[orders['group'] == 'A']\n",
    "    .groupby('visitor_id', as_index=False)\n",
    "    .agg({'transaction_id': pd.Series.nunique})\n",
    ")\n",
    "ordersByUsersA.columns = ['visitor_id', 'orders']\n",
    "\n",
    "ordersByUsersB = (\n",
    "    orders[orders['group'] == 'B']\n",
    "    .groupby('visitor_id', as_index=False)\n",
    "    .agg({'transaction_id': pd.Series.nunique})\n",
    ")\n",
    "ordersByUsersB.columns = ['visitor_id', 'orders']\n",
    "\n",
    "ordersByUsersB = (\n",
    "    orders[orders['group'] == 'B']\n",
    "    .groupby('visitor_id', as_index=False)\n",
    "    .agg({'transaction_id': pd.Series.nunique})\n",
    ")\n",
    "ordersByUsersB.columns = ['visitor_id', 'orders']"
   ]
  },
  {
   "cell_type": "code",
   "execution_count": 31,
   "metadata": {},
   "outputs": [
    {
     "name": "stdout",
     "output_type": "stream",
     "text": [
      "0.00840\n",
      "0.138\n"
     ]
    }
   ],
   "source": [
    "pd.Series(0, index=np.arange(data['visitorsPerDateA'].sum() - len(ordersByUsersA['orders'])), name='orders')\n",
    "[ordersByUsersA['orders'],pd.Series(0, index=np.arange(data['visitorsPerDateA'].sum() - len(ordersByUsersA['orders'])), name='orders')]\n",
    "sampleA = pd.concat([ordersByUsersA['orders'],pd.Series(0, index=np.arange(data['visitorsPerDateA'].sum() - len(ordersByUsersA['orders'])), name='orders')],axis=0)\n",
    "\n",
    "sampleB = pd.concat([ordersByUsersB['orders'],pd.Series(0, index=np.arange(data['visitorsPerDateB'].sum() - len(ordersByUsersB['orders'])), name='orders')],axis=0)\n",
    "ordersByUsersA = (\n",
    "    orders[orders['group'] == 'A']\n",
    "    .groupby('visitor_id', as_index=False)\n",
    "    .agg({'transaction_id': pd.Series.nunique})\n",
    ")\n",
    "ordersByUsersA.columns = ['visitor_id', 'orders']\n",
    "\n",
    "ordersByUsersB = (\n",
    "    orders[orders['group'] == 'B']\n",
    "    .groupby('visitor_id', as_index=False)\n",
    "    .agg({'transaction_id': pd.Series.nunique})\n",
    ")\n",
    "ordersByUsersB.columns = ['visitor_id', 'orders']\n",
    "\n",
    "sampleA = pd.concat(\n",
    "    [\n",
    "        ordersByUsersA['orders'],\n",
    "        pd.Series(\n",
    "            0,\n",
    "            index=np.arange(\n",
    "                data['visitorsPerDateA'].sum() - len(ordersByUsersA['orders'])\n",
    "            ),\n",
    "            name='orders',\n",
    "        ),\n",
    "    ],\n",
    "    axis=0,\n",
    ")\n",
    "\n",
    "sampleB = pd.concat(\n",
    "    [\n",
    "        ordersByUsersB['orders'],\n",
    "        pd.Series(\n",
    "            0,\n",
    "            index=np.arange(\n",
    "                data['visitorsPerDateB'].sum() - len(ordersByUsersB['orders'])\n",
    "            ),\n",
    "            name='orders',\n",
    "        ),\n",
    "    ],\n",
    "    axis=0,\n",
    ")\n",
    "print(\"{0:.5f}\".format(st.mannwhitneyu(sampleA, sampleB)[1]))\n",
    "print('{0:.3f}'.format((data['ordersPerDateB'].sum()/data['visitorsPerDateB'].sum())/(data['ordersPerDateA'].sum()/data['visitorsPerDateA'].sum())-1))"
   ]
  },
  {
   "cell_type": "markdown",
   "metadata": {},
   "source": [
    "Первое число — p-value = 0.008 меньше 0.05. Значит, нулевую гипотезу о том, что статистически значимых различий в конверсии между группами нет, отвергаем. Соответственно, в конверсии между группами есть статистически значимые отличия. Однако относительный прирост конверсии группы B к конверсии группы А равен 13.8% — второе число в выводе."
   ]
  },
  {
   "cell_type": "markdown",
   "metadata": {},
   "source": [
    "Посчитаем статистическую значимость различий в среднем чеке заказа между группами по «сырым» данным. Сделаем выводы и предположения."
   ]
  },
  {
   "cell_type": "markdown",
   "metadata": {},
   "source": [
    "В первую очередь сформулируем нулевую и альтернативную гипотезы для проверки:\n",
    "\n",
    "    H0: Средний чек группы A равен среднему чеку в группе B\n",
    "    H1:Средний чек группы A отличается от среднего чека в группе B.\n",
    "    \n",
    "Для проверки используем критерий Манна-Уитни."
   ]
  },
  {
   "cell_type": "code",
   "execution_count": 32,
   "metadata": {},
   "outputs": [
    {
     "name": "stdout",
     "output_type": "stream",
     "text": [
      "0.365\n",
      "0.259\n"
     ]
    }
   ],
   "source": [
    "print('{0:.3f}'.format(st.mannwhitneyu(orders[orders['group']=='A']['revenue'], orders[orders['group']=='B']['revenue'])[1]))\n",
    "print('{0:.3f}'.format(orders[orders['group']=='B']['revenue'].mean()/orders[orders['group']=='A']['revenue'].mean()-1))"
   ]
  },
  {
   "cell_type": "markdown",
   "metadata": {},
   "source": [
    "P-value значительно больше 0.05 (0.36). Значит, причин отвергать нулевую гипотезу и считать, что в среднем чеке есть различия, нет. Кроме того, относительное различие среднего чека между сегментами составялет почти 26%."
   ]
  },
  {
   "cell_type": "markdown",
   "metadata": {},
   "source": [
    "Приступим к подготовке очищенных от аномалий данных. Напомним, что 95-й и 99-й перцентили средних чеков равны 28 000 и 58 223 рублям. А 95-й и 99-й перцентили числа заказов на одного пользователя равны 2 и 4 заказам на пользователя. Соответственно, примем за аномальных пользователей тех, кто совершил 4 заказа и более, или совершил заказ на сумму свыше 30 000 рублей. Так мы уберем 1% пользователей с наибольшим числом заказов и от 1% до 5% заказов с наибольшей стоимостью."
   ]
  },
  {
   "cell_type": "code",
   "execution_count": 33,
   "metadata": {},
   "outputs": [
    {
     "name": "stdout",
     "output_type": "stream",
     "text": [
      "Кол-во аномальных пользователей: 57\n"
     ]
    }
   ],
   "source": [
    "usersWithManyOrders = pd.concat(\n",
    "    [\n",
    "        ordersByUsersA[ordersByUsersA['orders'] > 3]['visitor_id'],\n",
    "        ordersByUsersB[ordersByUsersB['orders'] > 3]['visitor_id'],\n",
    "    ],\n",
    "    axis=0,\n",
    ")\n",
    "usersWithExpensiveOrders = orders[orders['revenue'] > 30000]['visitor_id']\n",
    "abnormalUsers = (\n",
    "    pd.concat([usersWithManyOrders, usersWithExpensiveOrders], axis=0)\n",
    "    .drop_duplicates()\n",
    "    .sort_values()\n",
    ")\n",
    "print('Кол-во аномальных пользователей: {}'.format(len(abnormalUsers)))"
   ]
  },
  {
   "cell_type": "markdown",
   "metadata": {},
   "source": [
    "Посчитаем статистическую значимость различий в конверсии между группами по «очищенным» данным. Сделаем выводы и предположения."
   ]
  },
  {
   "cell_type": "code",
   "execution_count": 34,
   "metadata": {},
   "outputs": [
    {
     "name": "stdout",
     "output_type": "stream",
     "text": [
      "0.00916\n",
      "0.148\n"
     ]
    }
   ],
   "source": [
    "sampleAFiltered = pd.concat(\n",
    "    [\n",
    "        ordersByUsersA[\n",
    "            np.logical_not(ordersByUsersA['visitor_id'].isin(abnormalUsers))\n",
    "        ]['orders'],\n",
    "        pd.Series(\n",
    "            0,\n",
    "            index=np.arange(\n",
    "                data['visitorsPerDateA'].sum() - len(ordersByUsersA['orders'])\n",
    "            ),\n",
    "            name='orders',\n",
    "        ),\n",
    "    ],\n",
    "    axis=0,\n",
    ")\n",
    "\n",
    "sampleBFiltered = pd.concat(\n",
    "    [\n",
    "        ordersByUsersB[\n",
    "            np.logical_not(ordersByUsersB['visitor_id'].isin(abnormalUsers))\n",
    "        ]['orders'],\n",
    "        pd.Series(\n",
    "            0,\n",
    "            index=np.arange(\n",
    "                data['visitorsPerDateB'].sum() - len(ordersByUsersB['orders'])\n",
    "            ),\n",
    "            name='orders',\n",
    "        ),\n",
    "    ],\n",
    "    axis=0,\n",
    ")\n",
    "\n",
    "print('{0:.5f}'.format(st.mannwhitneyu(sampleAFiltered, sampleBFiltered)[1]))\n",
    "print('{0:.3f}'.format(sampleBFiltered.mean()/sampleAFiltered.mean()-1))"
   ]
  },
  {
   "cell_type": "markdown",
   "metadata": {},
   "source": [
    "Как мы видим из полученных данных, статистическая значимость достигнута (0.009 < 0.05). Кроме того, сегмент В лучше сегмента А на 14.8%. "
   ]
  },
  {
   "cell_type": "markdown",
   "metadata": {},
   "source": [
    "Посчитаем статистическую значимость различий в среднем чеке заказа между группами по «очищенным» данным. Сделаем выводы и предположения."
   ]
  },
  {
   "cell_type": "code",
   "execution_count": 35,
   "metadata": {},
   "outputs": [
    {
     "name": "stdout",
     "output_type": "stream",
     "text": [
      "0.479\n",
      "-0.020\n"
     ]
    }
   ],
   "source": [
    "print(\n",
    "    '{0:.3f}'.format(\n",
    "        st.mannwhitneyu(\n",
    "            orders[\n",
    "                np.logical_and(\n",
    "                    orders['group'] == 'A',\n",
    "                    np.logical_not(orders['visitor_id'].isin(abnormalUsers)),\n",
    "                )\n",
    "            ]['revenue'],\n",
    "            orders[\n",
    "                np.logical_and(\n",
    "                    orders['group'] == 'B',\n",
    "                    np.logical_not(orders['visitor_id'].isin(abnormalUsers)),\n",
    "                )\n",
    "            ]['revenue'],\n",
    "        )[1]\n",
    "    )\n",
    ")\n",
    "\n",
    "print(\n",
    "    \"{0:.3f}\".format(\n",
    "        orders[\n",
    "            np.logical_and(\n",
    "                orders['group'] == 'B',\n",
    "                np.logical_not(orders['visitor_id'].isin(abnormalUsers)),\n",
    "            )\n",
    "        ]['revenue'].mean()\n",
    "        / orders[\n",
    "            np.logical_and(\n",
    "                orders['group'] == 'A',\n",
    "                np.logical_not(orders['visitor_id'].isin(abnormalUsers)),\n",
    "            )\n",
    "        ]['revenue'].mean()\n",
    "        - 1\n",
    "    )\n",
    ")"
   ]
  },
  {
   "cell_type": "markdown",
   "metadata": {},
   "source": [
    "Как можно увидеть, статистическая значимость различия среднего чека заказов между группами не обнаружена. "
   ]
  },
  {
   "cell_type": "markdown",
   "metadata": {},
   "source": [
    "## Вывод"
   ]
  },
  {
   "cell_type": "markdown",
   "metadata": {},
   "source": [
    "По результатам А/В теста были выявлены следующие факты:\n",
    "Выборка данных имеет корректный размер, проблема подглядывания в результате сравнения групп во время проведения теста была исключена. \n",
    "1. В конверсии между группами есть статистически значимые отличия по конверсии между группами как по «сырым», так и по данным после фильтрации аномалий;\n",
    "2. Нет статистически значимого различия по среднему чеку между группами ни по «сырым», ни по данным после фильтрации аномалий;\n",
    "3. График различия конверсии между группами сообщает, что результаты группы B лучше группы A, значительной тенденции к улучшению положения группы А нет;\n",
    "4. График различия среднего чека говорит о том, что результаты группы B значительно лучше  (сейчас почти на 30%):\n",
    "Лидером по кумулятивным метрикам по выручке, среднему чеку и конверсии практически везде была группа В. \n",
    "\n",
    "Варианты принимаемых решений: \n",
    "1. Остановить тест, зафиксировать победу одной из групп.\n",
    "2. Остановить тест, зафиксировать отсутствие различий между группами.\n",
    "3. Продолжить тест.\n",
    "\n",
    "Наиболее верной стратегией кажется зафиксировать победу группы В, так как продолжать смысла нет, потому как вероятность, что при имеющихся данных сегмент А выйдет в лидеры, крайне небольшая."
   ]
  }
 ],
 "metadata": {
  "ExecuteTimeLog": [
   {
    "duration": 1931,
    "start_time": "2021-09-29T08:16:24.403Z"
   },
   {
    "duration": 74,
    "start_time": "2021-09-29T08:17:52.795Z"
   },
   {
    "duration": 12,
    "start_time": "2021-09-29T08:26:07.757Z"
   },
   {
    "duration": 14,
    "start_time": "2021-09-29T08:26:59.725Z"
   },
   {
    "duration": 15,
    "start_time": "2021-09-29T08:27:45.279Z"
   },
   {
    "duration": 13,
    "start_time": "2021-09-29T08:28:27.472Z"
   },
   {
    "duration": 17,
    "start_time": "2021-09-29T08:30:19.917Z"
   },
   {
    "duration": 17,
    "start_time": "2021-09-29T08:31:53.385Z"
   },
   {
    "duration": 15,
    "start_time": "2021-09-29T08:33:19.496Z"
   },
   {
    "duration": 13,
    "start_time": "2021-09-29T08:39:07.948Z"
   },
   {
    "duration": 12,
    "start_time": "2021-09-29T08:39:23.311Z"
   },
   {
    "duration": 29,
    "start_time": "2021-09-29T09:05:57.710Z"
   },
   {
    "duration": 21,
    "start_time": "2021-09-29T09:13:38.178Z"
   },
   {
    "duration": 15,
    "start_time": "2021-09-29T09:48:00.523Z"
   },
   {
    "duration": 15,
    "start_time": "2021-09-29T09:50:46.778Z"
   },
   {
    "duration": 15,
    "start_time": "2021-09-29T09:50:53.534Z"
   },
   {
    "duration": 2191,
    "start_time": "2021-09-29T09:56:53.602Z"
   },
   {
    "duration": 8,
    "start_time": "2021-09-29T09:58:54.485Z"
   },
   {
    "duration": 11546,
    "start_time": "2021-09-29T09:59:08.343Z"
   },
   {
    "duration": 12261,
    "start_time": "2021-09-29T09:59:39.486Z"
   },
   {
    "duration": 11169,
    "start_time": "2021-09-29T10:01:46.854Z"
   },
   {
    "duration": 355,
    "start_time": "2021-09-29T10:03:41.118Z"
   },
   {
    "duration": 355,
    "start_time": "2021-09-29T10:04:18.127Z"
   },
   {
    "duration": 290,
    "start_time": "2021-09-29T10:05:55.246Z"
   },
   {
    "duration": 15,
    "start_time": "2021-09-29T10:06:01.810Z"
   },
   {
    "duration": 319,
    "start_time": "2021-09-29T10:07:40.466Z"
   },
   {
    "duration": 710,
    "start_time": "2021-09-29T10:08:07.209Z"
   },
   {
    "duration": 320,
    "start_time": "2021-09-29T10:08:20.558Z"
   },
   {
    "duration": 710,
    "start_time": "2021-09-29T10:08:38.311Z"
   },
   {
    "duration": 329,
    "start_time": "2021-09-29T10:08:48.364Z"
   },
   {
    "duration": 1513,
    "start_time": "2021-10-01T16:41:07.946Z"
   },
   {
    "duration": 57,
    "start_time": "2021-10-01T16:41:09.462Z"
   },
   {
    "duration": 20,
    "start_time": "2021-10-01T16:41:15.133Z"
   },
   {
    "duration": 19,
    "start_time": "2021-10-01T16:41:17.345Z"
   },
   {
    "duration": 17,
    "start_time": "2021-10-01T16:41:18.544Z"
   },
   {
    "duration": 23,
    "start_time": "2021-10-01T16:41:18.734Z"
   },
   {
    "duration": 21,
    "start_time": "2021-10-01T16:41:18.921Z"
   },
   {
    "duration": 14,
    "start_time": "2021-10-01T16:41:19.128Z"
   },
   {
    "duration": 486,
    "start_time": "2021-10-01T16:41:24.899Z"
   },
   {
    "duration": 267,
    "start_time": "2021-10-01T16:41:27.983Z"
   },
   {
    "duration": 16,
    "start_time": "2021-10-01T16:41:30.677Z"
   },
   {
    "duration": 314,
    "start_time": "2021-10-01T16:41:33.017Z"
   },
   {
    "duration": 337,
    "start_time": "2021-10-01T16:46:34.865Z"
   },
   {
    "duration": 673,
    "start_time": "2021-10-01T16:48:04.316Z"
   },
   {
    "duration": 689,
    "start_time": "2021-10-01T16:48:26.127Z"
   },
   {
    "duration": 723,
    "start_time": "2021-10-01T16:48:48.559Z"
   },
   {
    "duration": 319,
    "start_time": "2021-10-01T16:48:58.096Z"
   },
   {
    "duration": 424,
    "start_time": "2021-10-01T16:51:50.988Z"
   },
   {
    "duration": 333,
    "start_time": "2021-10-01T16:53:01.470Z"
   },
   {
    "duration": 360,
    "start_time": "2021-10-01T16:59:48.255Z"
   },
   {
    "duration": 431,
    "start_time": "2021-10-01T17:00:26.110Z"
   },
   {
    "duration": 433,
    "start_time": "2021-10-01T17:00:49.430Z"
   },
   {
    "duration": 303,
    "start_time": "2021-10-01T17:11:53.206Z"
   },
   {
    "duration": 346,
    "start_time": "2021-10-01T17:13:25.575Z"
   },
   {
    "duration": 517,
    "start_time": "2021-10-01T17:18:17.457Z"
   },
   {
    "duration": 497,
    "start_time": "2021-10-01T17:19:18.266Z"
   },
   {
    "duration": 628,
    "start_time": "2021-10-01T17:20:58.813Z"
   },
   {
    "duration": 674,
    "start_time": "2021-10-01T17:21:53.133Z"
   },
   {
    "duration": 595,
    "start_time": "2021-10-01T17:22:48.203Z"
   },
   {
    "duration": 12,
    "start_time": "2021-10-01T17:25:29.205Z"
   },
   {
    "duration": 429,
    "start_time": "2021-10-01T17:32:16.331Z"
   },
   {
    "duration": 274,
    "start_time": "2021-10-01T17:32:32.447Z"
   },
   {
    "duration": 285,
    "start_time": "2021-10-01T17:32:59.246Z"
   },
   {
    "duration": 188,
    "start_time": "2021-10-01T17:33:11.723Z"
   },
   {
    "duration": 448,
    "start_time": "2021-10-01T17:34:38.039Z"
   },
   {
    "duration": 13,
    "start_time": "2021-10-01T17:35:32.340Z"
   },
   {
    "duration": 374,
    "start_time": "2021-10-01T17:35:35.334Z"
   },
   {
    "duration": 6,
    "start_time": "2021-10-01T18:37:41.287Z"
   },
   {
    "duration": 8,
    "start_time": "2021-10-01T18:39:35.412Z"
   },
   {
    "duration": 566,
    "start_time": "2021-10-01T18:53:36.380Z"
   },
   {
    "duration": 457,
    "start_time": "2021-10-01T18:55:59.781Z"
   },
   {
    "duration": 313,
    "start_time": "2021-10-01T18:58:12.524Z"
   },
   {
    "duration": 489,
    "start_time": "2021-10-01T19:02:18.665Z"
   },
   {
    "duration": 234,
    "start_time": "2021-10-01T19:04:32.848Z"
   },
   {
    "duration": 6252,
    "start_time": "2021-10-01T20:36:14.983Z"
   },
   {
    "duration": 88,
    "start_time": "2021-10-01T20:36:35.845Z"
   },
   {
    "duration": 280,
    "start_time": "2021-10-01T20:36:51.164Z"
   },
   {
    "duration": 294,
    "start_time": "2021-10-01T20:37:20.973Z"
   },
   {
    "duration": 379,
    "start_time": "2021-10-01T20:38:11.305Z"
   },
   {
    "duration": 10,
    "start_time": "2021-10-01T20:43:42.842Z"
   },
   {
    "duration": 241,
    "start_time": "2021-10-01T20:50:01.795Z"
   },
   {
    "duration": 225,
    "start_time": "2021-10-01T20:50:09.679Z"
   },
   {
    "duration": 14,
    "start_time": "2021-10-01T20:50:20.164Z"
   },
   {
    "duration": 14,
    "start_time": "2021-10-01T21:09:29.004Z"
   },
   {
    "duration": 21,
    "start_time": "2021-10-01T21:13:12.395Z"
   },
   {
    "duration": 362,
    "start_time": "2021-10-01T21:15:21.136Z"
   },
   {
    "duration": 24,
    "start_time": "2021-10-01T21:15:26.479Z"
   },
   {
    "duration": 22,
    "start_time": "2021-10-01T21:29:52.274Z"
   },
   {
    "duration": 14,
    "start_time": "2021-10-01T21:41:42.122Z"
   },
   {
    "duration": 14,
    "start_time": "2021-10-01T21:41:53.497Z"
   },
   {
    "duration": 16,
    "start_time": "2021-10-01T21:42:37.997Z"
   },
   {
    "duration": 15,
    "start_time": "2021-10-01T21:42:47.664Z"
   },
   {
    "duration": 86,
    "start_time": "2021-10-01T21:45:13.374Z"
   },
   {
    "duration": 739,
    "start_time": "2021-10-01T21:45:24.853Z"
   },
   {
    "duration": 14,
    "start_time": "2021-10-01T21:45:50.300Z"
   },
   {
    "duration": 14,
    "start_time": "2021-10-01T21:45:57.385Z"
   },
   {
    "duration": 83,
    "start_time": "2021-10-01T21:48:52.396Z"
   },
   {
    "duration": 9,
    "start_time": "2021-10-01T21:49:06.999Z"
   },
   {
    "duration": 256,
    "start_time": "2021-10-01T21:50:47.554Z"
   },
   {
    "duration": 15,
    "start_time": "2021-10-01T21:51:44.676Z"
   },
   {
    "duration": 18,
    "start_time": "2021-10-01T21:51:54.175Z"
   },
   {
    "duration": 290,
    "start_time": "2021-10-01T21:52:12.676Z"
   },
   {
    "duration": 11,
    "start_time": "2021-10-01T21:52:19.945Z"
   },
   {
    "duration": 11,
    "start_time": "2021-10-01T21:52:53.546Z"
   },
   {
    "duration": 80,
    "start_time": "2021-10-01T21:53:15.561Z"
   },
   {
    "duration": 8,
    "start_time": "2021-10-01T21:53:24.987Z"
   },
   {
    "duration": 15,
    "start_time": "2021-10-01T21:54:04.384Z"
   },
   {
    "duration": 14,
    "start_time": "2021-10-01T21:54:40.908Z"
   },
   {
    "duration": 94,
    "start_time": "2021-10-01T21:54:48.469Z"
   },
   {
    "duration": 12,
    "start_time": "2021-10-01T21:54:55.351Z"
   },
   {
    "duration": 15,
    "start_time": "2021-10-01T21:56:12.787Z"
   },
   {
    "duration": 311,
    "start_time": "2021-10-02T19:09:03.578Z"
   },
   {
    "duration": 1489,
    "start_time": "2021-10-02T19:09:10.080Z"
   },
   {
    "duration": 77,
    "start_time": "2021-10-02T19:09:11.572Z"
   },
   {
    "duration": 13,
    "start_time": "2021-10-02T19:09:11.652Z"
   },
   {
    "duration": 15,
    "start_time": "2021-10-02T19:09:12.022Z"
   },
   {
    "duration": 14,
    "start_time": "2021-10-02T19:09:12.768Z"
   },
   {
    "duration": 17,
    "start_time": "2021-10-02T19:09:15.043Z"
   },
   {
    "duration": 15,
    "start_time": "2021-10-02T19:09:15.869Z"
   },
   {
    "duration": 11,
    "start_time": "2021-10-02T19:09:22.017Z"
   },
   {
    "duration": 25,
    "start_time": "2021-10-02T19:09:26.121Z"
   },
   {
    "duration": 12,
    "start_time": "2021-10-02T19:13:22.703Z"
   },
   {
    "duration": 338,
    "start_time": "2021-10-02T19:14:38.960Z"
   },
   {
    "duration": 10,
    "start_time": "2021-10-02T19:14:57.289Z"
   },
   {
    "duration": 10,
    "start_time": "2021-10-02T19:15:22.697Z"
   },
   {
    "duration": 209,
    "start_time": "2021-10-02T19:27:06.310Z"
   },
   {
    "duration": 66,
    "start_time": "2021-10-02T19:27:25.500Z"
   },
   {
    "duration": 13,
    "start_time": "2021-10-02T19:27:31.164Z"
   },
   {
    "duration": 1198,
    "start_time": "2021-10-03T03:22:48.810Z"
   },
   {
    "duration": 71,
    "start_time": "2021-10-03T03:22:50.010Z"
   },
   {
    "duration": 11,
    "start_time": "2021-10-03T03:22:50.083Z"
   },
   {
    "duration": 17,
    "start_time": "2021-10-03T03:22:50.096Z"
   },
   {
    "duration": 16,
    "start_time": "2021-10-03T03:22:50.115Z"
   },
   {
    "duration": 17,
    "start_time": "2021-10-03T03:22:50.133Z"
   },
   {
    "duration": 12,
    "start_time": "2021-10-03T03:22:50.152Z"
   },
   {
    "duration": 11,
    "start_time": "2021-10-03T03:22:50.166Z"
   },
   {
    "duration": 16,
    "start_time": "2021-10-03T03:22:50.179Z"
   },
   {
    "duration": 10,
    "start_time": "2021-10-03T03:22:50.197Z"
   },
   {
    "duration": 6,
    "start_time": "2021-10-03T03:22:50.209Z"
   },
   {
    "duration": 36,
    "start_time": "2021-10-03T03:22:50.217Z"
   },
   {
    "duration": 226,
    "start_time": "2021-10-03T03:22:50.255Z"
   },
   {
    "duration": 162,
    "start_time": "2021-10-03T03:22:50.483Z"
   },
   {
    "duration": 12,
    "start_time": "2021-10-03T03:22:50.646Z"
   },
   {
    "duration": 225,
    "start_time": "2021-10-03T03:22:50.660Z"
   },
   {
    "duration": 8,
    "start_time": "2021-10-03T03:22:50.886Z"
   },
   {
    "duration": 13,
    "start_time": "2021-10-03T03:22:50.895Z"
   },
   {
    "duration": 228,
    "start_time": "2021-10-03T03:22:50.909Z"
   },
   {
    "duration": 349,
    "start_time": "2021-10-03T03:22:51.139Z"
   },
   {
    "duration": 223,
    "start_time": "2021-10-03T03:22:51.489Z"
   },
   {
    "duration": 368,
    "start_time": "2021-10-03T03:22:51.713Z"
   },
   {
    "duration": 9,
    "start_time": "2021-10-03T03:22:52.084Z"
   },
   {
    "duration": 267,
    "start_time": "2021-10-03T03:22:52.095Z"
   },
   {
    "duration": 5,
    "start_time": "2021-10-03T03:22:52.364Z"
   },
   {
    "duration": 394,
    "start_time": "2021-10-03T03:22:52.370Z"
   },
   {
    "duration": 5,
    "start_time": "2021-10-03T03:22:52.765Z"
   },
   {
    "duration": 268,
    "start_time": "2021-10-03T03:22:52.772Z"
   },
   {
    "duration": 182,
    "start_time": "2021-10-03T03:22:53.042Z"
   },
   {
    "duration": 156,
    "start_time": "2021-10-03T03:22:53.226Z"
   },
   {
    "duration": 12,
    "start_time": "2021-10-03T03:22:53.384Z"
   },
   {
    "duration": 8,
    "start_time": "2021-10-03T03:22:53.398Z"
   },
   {
    "duration": 26,
    "start_time": "2021-10-03T03:22:53.407Z"
   },
   {
    "duration": 22,
    "start_time": "2021-10-03T03:22:53.435Z"
   },
   {
    "duration": 194,
    "start_time": "2021-10-03T03:27:38.460Z"
   },
   {
    "duration": 196,
    "start_time": "2021-10-03T03:27:54.339Z"
   },
   {
    "duration": 383,
    "start_time": "2021-10-03T18:48:03.609Z"
   },
   {
    "duration": 1169,
    "start_time": "2021-10-03T18:48:09.583Z"
   },
   {
    "duration": 74,
    "start_time": "2021-10-03T18:48:11.370Z"
   },
   {
    "duration": 10,
    "start_time": "2021-10-03T18:48:12.159Z"
   },
   {
    "duration": 10,
    "start_time": "2021-10-03T18:48:12.695Z"
   },
   {
    "duration": 9,
    "start_time": "2021-10-03T18:48:13.234Z"
   },
   {
    "duration": 13,
    "start_time": "2021-10-03T18:48:13.731Z"
   },
   {
    "duration": 10,
    "start_time": "2021-10-03T18:48:15.646Z"
   },
   {
    "duration": 7,
    "start_time": "2021-10-03T18:48:17.235Z"
   },
   {
    "duration": 15,
    "start_time": "2021-10-03T18:48:24.449Z"
   },
   {
    "duration": 11,
    "start_time": "2021-10-03T18:48:29.213Z"
   },
   {
    "duration": 9,
    "start_time": "2021-10-03T18:48:33.436Z"
   },
   {
    "duration": 4655,
    "start_time": "2021-10-03T18:50:18.928Z"
   },
   {
    "duration": 4593,
    "start_time": "2021-10-03T18:52:27.477Z"
   },
   {
    "duration": 4269,
    "start_time": "2021-10-03T18:52:43.968Z"
   },
   {
    "duration": 4435,
    "start_time": "2021-10-03T18:52:52.717Z"
   },
   {
    "duration": 4364,
    "start_time": "2021-10-03T18:54:10.554Z"
   },
   {
    "duration": 114,
    "start_time": "2021-10-03T18:54:21.906Z"
   },
   {
    "duration": 6,
    "start_time": "2021-10-03T18:54:23.634Z"
   },
   {
    "duration": 327,
    "start_time": "2021-10-03T18:58:12.228Z"
   },
   {
    "duration": 5,
    "start_time": "2021-10-03T18:58:33.557Z"
   },
   {
    "duration": 347,
    "start_time": "2021-10-03T18:59:06.663Z"
   },
   {
    "duration": 3,
    "start_time": "2021-10-03T18:59:53.874Z"
   },
   {
    "duration": 5,
    "start_time": "2021-10-03T18:59:58.038Z"
   },
   {
    "duration": 6,
    "start_time": "2021-10-03T19:01:56.859Z"
   },
   {
    "duration": 339,
    "start_time": "2021-10-03T19:03:05.852Z"
   },
   {
    "duration": 352,
    "start_time": "2021-10-03T19:03:12.097Z"
   },
   {
    "duration": 329,
    "start_time": "2021-10-03T19:03:19.027Z"
   },
   {
    "duration": 4,
    "start_time": "2021-10-03T19:05:05.588Z"
   },
   {
    "duration": 2,
    "start_time": "2021-10-03T19:05:19.461Z"
   },
   {
    "duration": 5,
    "start_time": "2021-10-03T19:05:23.062Z"
   },
   {
    "duration": 6,
    "start_time": "2021-10-03T19:05:31.414Z"
   },
   {
    "duration": 5,
    "start_time": "2021-10-03T19:05:45.357Z"
   },
   {
    "duration": 3,
    "start_time": "2021-10-03T19:06:37.770Z"
   },
   {
    "duration": 5,
    "start_time": "2021-10-03T19:06:39.613Z"
   },
   {
    "duration": 2,
    "start_time": "2021-10-03T19:07:21.425Z"
   },
   {
    "duration": 5,
    "start_time": "2021-10-03T19:07:23.218Z"
   },
   {
    "duration": 419,
    "start_time": "2021-10-03T19:07:53.663Z"
   },
   {
    "duration": 1123,
    "start_time": "2021-10-03T19:07:58.219Z"
   },
   {
    "duration": 72,
    "start_time": "2021-10-03T19:07:59.441Z"
   },
   {
    "duration": 11,
    "start_time": "2021-10-03T19:08:04.441Z"
   },
   {
    "duration": 10,
    "start_time": "2021-10-03T19:08:06.817Z"
   },
   {
    "duration": 9,
    "start_time": "2021-10-03T19:08:09.571Z"
   },
   {
    "duration": 12,
    "start_time": "2021-10-03T19:08:11.819Z"
   },
   {
    "duration": 10,
    "start_time": "2021-10-03T19:08:16.095Z"
   },
   {
    "duration": 10,
    "start_time": "2021-10-03T19:08:17.450Z"
   },
   {
    "duration": 8,
    "start_time": "2021-10-03T19:09:25.757Z"
   },
   {
    "duration": 3,
    "start_time": "2021-10-03T19:10:28.198Z"
   },
   {
    "duration": 9,
    "start_time": "2021-10-03T19:10:29.972Z"
   },
   {
    "duration": 3,
    "start_time": "2021-10-03T19:10:40.296Z"
   },
   {
    "duration": 8,
    "start_time": "2021-10-03T19:10:42.196Z"
   },
   {
    "duration": 16,
    "start_time": "2021-10-03T19:11:00.613Z"
   },
   {
    "duration": 11,
    "start_time": "2021-10-03T19:11:04.670Z"
   },
   {
    "duration": 8617,
    "start_time": "2021-10-03T19:11:32.073Z"
   },
   {
    "duration": 167,
    "start_time": "2021-10-03T19:11:47.550Z"
   },
   {
    "duration": 139,
    "start_time": "2021-10-03T19:12:35.616Z"
   },
   {
    "duration": 16,
    "start_time": "2021-10-03T19:13:04.031Z"
   },
   {
    "duration": 10,
    "start_time": "2021-10-03T19:13:10.286Z"
   },
   {
    "duration": 117,
    "start_time": "2021-10-03T19:13:32.176Z"
   },
   {
    "duration": 165,
    "start_time": "2021-10-03T19:13:44.227Z"
   },
   {
    "duration": 175,
    "start_time": "2021-10-03T19:15:23.128Z"
   },
   {
    "duration": 9,
    "start_time": "2021-10-03T19:15:58.203Z"
   },
   {
    "duration": 10,
    "start_time": "2021-10-03T19:16:03.050Z"
   },
   {
    "duration": 154,
    "start_time": "2021-10-03T19:16:21.137Z"
   },
   {
    "duration": 13,
    "start_time": "2021-10-03T19:16:58.925Z"
   },
   {
    "duration": 11,
    "start_time": "2021-10-03T19:17:41.658Z"
   },
   {
    "duration": 3,
    "start_time": "2021-10-03T19:18:04.955Z"
   },
   {
    "duration": 64,
    "start_time": "2021-10-03T19:18:05.455Z"
   },
   {
    "duration": 9,
    "start_time": "2021-10-03T19:18:06.055Z"
   },
   {
    "duration": 11,
    "start_time": "2021-10-03T19:18:07.461Z"
   },
   {
    "duration": 10,
    "start_time": "2021-10-03T19:18:10.873Z"
   },
   {
    "duration": 3,
    "start_time": "2021-10-03T19:18:32.470Z"
   },
   {
    "duration": 10,
    "start_time": "2021-10-03T19:18:37.564Z"
   },
   {
    "duration": 11,
    "start_time": "2021-10-03T19:18:40.829Z"
   },
   {
    "duration": 9,
    "start_time": "2021-10-03T19:18:44.816Z"
   },
   {
    "duration": 11,
    "start_time": "2021-10-03T19:18:50.534Z"
   },
   {
    "duration": 9,
    "start_time": "2021-10-03T19:18:53.050Z"
   },
   {
    "duration": 11,
    "start_time": "2021-10-03T19:18:56.213Z"
   },
   {
    "duration": 13,
    "start_time": "2021-10-03T19:18:59.682Z"
   },
   {
    "duration": 3,
    "start_time": "2021-10-03T19:19:14.652Z"
   },
   {
    "duration": 10,
    "start_time": "2021-10-03T19:19:20.106Z"
   },
   {
    "duration": 10,
    "start_time": "2021-10-03T19:19:23.912Z"
   },
   {
    "duration": 10,
    "start_time": "2021-10-03T19:19:30.886Z"
   },
   {
    "duration": 178,
    "start_time": "2021-10-03T19:19:47.662Z"
   },
   {
    "duration": 350,
    "start_time": "2021-10-03T19:20:17.012Z"
   },
   {
    "duration": 7,
    "start_time": "2021-10-03T19:20:22.099Z"
   },
   {
    "duration": 165,
    "start_time": "2021-10-03T19:20:32.014Z"
   },
   {
    "duration": 246,
    "start_time": "2021-10-03T19:20:36.301Z"
   },
   {
    "duration": 4,
    "start_time": "2021-10-03T19:23:01.766Z"
   },
   {
    "duration": 10,
    "start_time": "2021-10-03T19:23:12.211Z"
   },
   {
    "duration": 170,
    "start_time": "2021-10-03T19:23:46.225Z"
   },
   {
    "duration": 169,
    "start_time": "2021-10-03T19:23:55.696Z"
   },
   {
    "duration": 163,
    "start_time": "2021-10-03T19:24:22.517Z"
   },
   {
    "duration": 164,
    "start_time": "2021-10-03T19:24:33.700Z"
   },
   {
    "duration": 533,
    "start_time": "2021-10-03T19:25:01.926Z"
   },
   {
    "duration": 939,
    "start_time": "2021-10-03T19:25:10.314Z"
   },
   {
    "duration": 529,
    "start_time": "2021-10-03T19:25:24.398Z"
   },
   {
    "duration": 478,
    "start_time": "2021-10-03T19:25:31.591Z"
   },
   {
    "duration": 173,
    "start_time": "2021-10-03T19:25:40.902Z"
   },
   {
    "duration": 173,
    "start_time": "2021-10-03T19:25:54.867Z"
   },
   {
    "duration": 202,
    "start_time": "2021-10-03T19:29:09.723Z"
   },
   {
    "duration": 223,
    "start_time": "2021-10-03T19:30:01.311Z"
   },
   {
    "duration": 281,
    "start_time": "2021-10-03T19:31:20.485Z"
   },
   {
    "duration": 216,
    "start_time": "2021-10-03T19:31:35.813Z"
   },
   {
    "duration": 592,
    "start_time": "2021-10-03T19:32:01.726Z"
   },
   {
    "duration": 578,
    "start_time": "2021-10-03T19:32:13.788Z"
   },
   {
    "duration": 213,
    "start_time": "2021-10-03T19:32:20.645Z"
   },
   {
    "duration": 5,
    "start_time": "2021-10-03T19:32:40.639Z"
   },
   {
    "duration": 10,
    "start_time": "2021-10-03T19:32:47.747Z"
   },
   {
    "duration": 206,
    "start_time": "2021-10-03T19:34:05.975Z"
   },
   {
    "duration": 206,
    "start_time": "2021-10-03T19:34:17.387Z"
   },
   {
    "duration": 122,
    "start_time": "2021-10-03T19:34:33.964Z"
   },
   {
    "duration": 206,
    "start_time": "2021-10-03T19:34:35.905Z"
   },
   {
    "duration": 178,
    "start_time": "2021-10-03T19:35:08.402Z"
   },
   {
    "duration": 208,
    "start_time": "2021-10-03T19:36:02.341Z"
   },
   {
    "duration": 208,
    "start_time": "2021-10-03T19:36:08.997Z"
   },
   {
    "duration": 369,
    "start_time": "2021-10-03T19:36:25.423Z"
   },
   {
    "duration": 192,
    "start_time": "2021-10-03T19:36:45.973Z"
   },
   {
    "duration": 353,
    "start_time": "2021-10-03T19:37:52.767Z"
   },
   {
    "duration": 352,
    "start_time": "2021-10-03T19:40:36.330Z"
   },
   {
    "duration": 120,
    "start_time": "2021-10-03T19:48:52.693Z"
   },
   {
    "duration": 274,
    "start_time": "2021-10-03T19:48:56.239Z"
   },
   {
    "duration": 628,
    "start_time": "2021-10-03T19:50:01.884Z"
   },
   {
    "duration": 355,
    "start_time": "2021-10-03T19:50:47.887Z"
   },
   {
    "duration": 177,
    "start_time": "2021-10-03T19:50:55.038Z"
   },
   {
    "duration": 357,
    "start_time": "2021-10-03T19:51:59.534Z"
   },
   {
    "duration": 4403,
    "start_time": "2021-10-03T19:52:07.570Z"
   },
   {
    "duration": 4442,
    "start_time": "2021-10-03T19:52:22.276Z"
   },
   {
    "duration": 373,
    "start_time": "2021-10-03T19:52:45.351Z"
   },
   {
    "duration": 4621,
    "start_time": "2021-10-03T19:52:54.513Z"
   },
   {
    "duration": 5343,
    "start_time": "2021-10-03T19:53:15.729Z"
   },
   {
    "duration": 8760,
    "start_time": "2021-10-03T20:12:58.111Z"
   },
   {
    "duration": 4845,
    "start_time": "2021-10-03T20:13:29.712Z"
   },
   {
    "duration": 5,
    "start_time": "2021-10-03T20:13:37.597Z"
   },
   {
    "duration": 3,
    "start_time": "2021-10-03T20:13:50.060Z"
   },
   {
    "duration": 2,
    "start_time": "2021-10-03T20:13:51.884Z"
   },
   {
    "duration": 94,
    "start_time": "2021-10-03T20:13:52.436Z"
   },
   {
    "duration": 10,
    "start_time": "2021-10-03T20:13:52.940Z"
   },
   {
    "duration": 11,
    "start_time": "2021-10-03T20:13:53.380Z"
   },
   {
    "duration": 10,
    "start_time": "2021-10-03T20:13:53.624Z"
   },
   {
    "duration": 9,
    "start_time": "2021-10-03T20:13:53.786Z"
   },
   {
    "duration": 11,
    "start_time": "2021-10-03T20:13:54.002Z"
   },
   {
    "duration": 8,
    "start_time": "2021-10-03T20:13:54.217Z"
   },
   {
    "duration": 11,
    "start_time": "2021-10-03T20:13:57.638Z"
   },
   {
    "duration": 12,
    "start_time": "2021-10-03T20:14:00.745Z"
   },
   {
    "duration": 158,
    "start_time": "2021-10-03T20:14:39.519Z"
   },
   {
    "duration": 9,
    "start_time": "2021-10-03T20:15:46.857Z"
   },
   {
    "duration": 530,
    "start_time": "2021-10-03T20:16:25.243Z"
   },
   {
    "duration": 497,
    "start_time": "2021-10-03T20:16:33.686Z"
   },
   {
    "duration": 153,
    "start_time": "2021-10-03T20:16:40.914Z"
   },
   {
    "duration": 153,
    "start_time": "2021-10-03T20:17:33.389Z"
   },
   {
    "duration": 153,
    "start_time": "2021-10-03T20:17:45.228Z"
   },
   {
    "duration": 113,
    "start_time": "2021-10-03T20:22:37.116Z"
   },
   {
    "duration": 334,
    "start_time": "2021-10-03T21:50:02.566Z"
   },
   {
    "duration": 4,
    "start_time": "2021-10-03T21:50:10.663Z"
   },
   {
    "duration": 2,
    "start_time": "2021-10-03T21:50:11.133Z"
   },
   {
    "duration": 63,
    "start_time": "2021-10-03T21:50:11.649Z"
   },
   {
    "duration": 9,
    "start_time": "2021-10-03T21:50:12.038Z"
   },
   {
    "duration": 11,
    "start_time": "2021-10-03T21:50:12.288Z"
   },
   {
    "duration": 12,
    "start_time": "2021-10-03T21:50:12.547Z"
   },
   {
    "duration": 9,
    "start_time": "2021-10-03T21:50:13.089Z"
   },
   {
    "duration": 10,
    "start_time": "2021-10-03T21:50:13.331Z"
   },
   {
    "duration": 7,
    "start_time": "2021-10-03T21:50:15.502Z"
   },
   {
    "duration": 11,
    "start_time": "2021-10-03T21:50:18.718Z"
   },
   {
    "duration": 13,
    "start_time": "2021-10-03T21:50:23.263Z"
   },
   {
    "duration": 7,
    "start_time": "2021-10-03T21:53:36.360Z"
   },
   {
    "duration": 13,
    "start_time": "2021-10-03T21:53:39.196Z"
   },
   {
    "duration": 212,
    "start_time": "2021-10-03T21:53:41.780Z"
   },
   {
    "duration": 167,
    "start_time": "2021-10-03T21:53:42.331Z"
   },
   {
    "duration": 10,
    "start_time": "2021-10-03T21:53:43.078Z"
   },
   {
    "duration": 218,
    "start_time": "2021-10-03T21:53:45.260Z"
   },
   {
    "duration": 219,
    "start_time": "2021-10-03T21:54:11.645Z"
   },
   {
    "duration": 360,
    "start_time": "2021-10-03T21:54:32.144Z"
   },
   {
    "duration": 344,
    "start_time": "2021-10-03T21:54:39.976Z"
   },
   {
    "duration": 215,
    "start_time": "2021-10-03T21:55:06.599Z"
   },
   {
    "duration": 317,
    "start_time": "2021-10-03T21:55:11.927Z"
   },
   {
    "duration": 126,
    "start_time": "2021-10-03T21:55:42.499Z"
   },
   {
    "duration": 297,
    "start_time": "2021-10-03T21:55:49.712Z"
   },
   {
    "duration": 332,
    "start_time": "2021-10-03T21:56:13.342Z"
   },
   {
    "duration": 9,
    "start_time": "2021-10-03T21:56:17.242Z"
   },
   {
    "duration": 270,
    "start_time": "2021-10-03T21:56:19.200Z"
   },
   {
    "duration": 267,
    "start_time": "2021-10-03T21:56:34.632Z"
   },
   {
    "duration": 284,
    "start_time": "2021-10-03T21:56:41.342Z"
   },
   {
    "duration": 329,
    "start_time": "2021-10-03T21:57:52.060Z"
   },
   {
    "duration": 323,
    "start_time": "2021-10-03T21:58:27.362Z"
   },
   {
    "duration": 1147,
    "start_time": "2021-10-05T03:31:08.148Z"
   },
   {
    "duration": 3,
    "start_time": "2021-10-05T03:31:09.297Z"
   },
   {
    "duration": 70,
    "start_time": "2021-10-05T03:31:09.302Z"
   },
   {
    "duration": 11,
    "start_time": "2021-10-05T03:31:09.374Z"
   },
   {
    "duration": 11,
    "start_time": "2021-10-05T03:31:09.387Z"
   },
   {
    "duration": 7,
    "start_time": "2021-10-05T03:31:09.400Z"
   },
   {
    "duration": 10,
    "start_time": "2021-10-05T03:31:09.409Z"
   },
   {
    "duration": 8,
    "start_time": "2021-10-05T03:31:09.422Z"
   },
   {
    "duration": 22,
    "start_time": "2021-10-05T03:31:09.431Z"
   },
   {
    "duration": 14,
    "start_time": "2021-10-05T03:31:09.455Z"
   },
   {
    "duration": 9,
    "start_time": "2021-10-05T03:31:09.471Z"
   },
   {
    "duration": 7,
    "start_time": "2021-10-05T03:31:09.482Z"
   },
   {
    "duration": 11,
    "start_time": "2021-10-05T03:31:09.491Z"
   },
   {
    "duration": 223,
    "start_time": "2021-10-05T03:31:09.503Z"
   },
   {
    "duration": 158,
    "start_time": "2021-10-05T03:31:09.728Z"
   },
   {
    "duration": 8,
    "start_time": "2021-10-05T03:31:09.888Z"
   },
   {
    "duration": 210,
    "start_time": "2021-10-05T03:31:09.898Z"
   },
   {
    "duration": 7,
    "start_time": "2021-10-05T03:31:10.110Z"
   },
   {
    "duration": 10,
    "start_time": "2021-10-05T03:31:10.119Z"
   },
   {
    "duration": 212,
    "start_time": "2021-10-05T03:31:10.131Z"
   },
   {
    "duration": 342,
    "start_time": "2021-10-05T03:31:10.349Z"
   },
   {
    "duration": 221,
    "start_time": "2021-10-05T03:31:10.693Z"
   },
   {
    "duration": 346,
    "start_time": "2021-10-05T03:31:10.918Z"
   },
   {
    "duration": 10,
    "start_time": "2021-10-05T03:31:11.266Z"
   },
   {
    "duration": 273,
    "start_time": "2021-10-05T03:31:11.278Z"
   },
   {
    "duration": 6,
    "start_time": "2021-10-05T03:31:11.553Z"
   },
   {
    "duration": 395,
    "start_time": "2021-10-05T03:31:11.561Z"
   },
   {
    "duration": 6,
    "start_time": "2021-10-05T03:31:11.958Z"
   },
   {
    "duration": 262,
    "start_time": "2021-10-05T03:31:11.966Z"
   },
   {
    "duration": 183,
    "start_time": "2021-10-05T03:31:12.230Z"
   },
   {
    "duration": 116,
    "start_time": "2021-10-05T03:31:12.415Z"
   },
   {
    "duration": 18,
    "start_time": "2021-10-05T03:31:12.533Z"
   },
   {
    "duration": 8,
    "start_time": "2021-10-05T03:31:12.553Z"
   },
   {
    "duration": 16,
    "start_time": "2021-10-05T03:31:12.563Z"
   },
   {
    "duration": 13,
    "start_time": "2021-10-05T03:31:12.581Z"
   }
  ],
  "kernelspec": {
   "display_name": "Python 3",
   "language": "python",
   "name": "python3"
  },
  "language_info": {
   "codemirror_mode": {
    "name": "ipython",
    "version": 3
   },
   "file_extension": ".py",
   "mimetype": "text/x-python",
   "name": "python",
   "nbconvert_exporter": "python",
   "pygments_lexer": "ipython3",
   "version": "3.8.8"
  },
  "toc": {
   "base_numbering": 1,
   "nav_menu": {},
   "number_sections": true,
   "sideBar": true,
   "skip_h1_title": true,
   "title_cell": "Table of Contents",
   "title_sidebar": "Содержание",
   "toc_cell": false,
   "toc_position": {},
   "toc_section_display": true,
   "toc_window_display": true
  }
 },
 "nbformat": 4,
 "nbformat_minor": 2
}
