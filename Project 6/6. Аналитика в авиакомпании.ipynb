{
 "cells": [
  {
   "cell_type": "markdown",
   "metadata": {},
   "source": [
    "# Аналитика в авиакомпании"
   ]
  },
  {
   "cell_type": "markdown",
   "metadata": {},
   "source": [
    "Имеются файлы, в которых содержатся результаты запросов из предыдущих заданий о модели самолета и количестве рейсов для каждой модели самолетов в сентябре 2018 года, а также о городах и среднем количестве рейсов, прибывающих в город за день в августе 2018 года. Основная задача - изучить базу данных и проанализировать спрос пассажиров на рейсы в города, где проходят крупнейшие фестивали."
   ]
  },
  {
   "cell_type": "markdown",
   "metadata": {},
   "source": [
    "## Изучение данных из файла"
   ]
  },
  {
   "cell_type": "markdown",
   "metadata": {},
   "source": [
    "В первую очередь изучим общую информацию об имеющихся наборах данных для того, чтобы реализовать дальнейшие шаги по предобработке данных."
   ]
  },
  {
   "cell_type": "code",
   "execution_count": 1,
   "metadata": {},
   "outputs": [
    {
     "name": "stdout",
     "output_type": "stream",
     "text": [
      "<class 'pandas.core.frame.DataFrame'>\n",
      "RangeIndex: 8 entries, 0 to 7\n",
      "Data columns (total 2 columns):\n",
      "model             8 non-null object\n",
      "flights_amount    8 non-null int64\n",
      "dtypes: int64(1), object(1)\n",
      "memory usage: 256.0+ bytes\n",
      "None\n",
      "<class 'pandas.core.frame.DataFrame'>\n",
      "RangeIndex: 101 entries, 0 to 100\n",
      "Data columns (total 2 columns):\n",
      "city               101 non-null object\n",
      "average_flights    101 non-null float64\n",
      "dtypes: float64(1), object(1)\n",
      "memory usage: 1.7+ KB\n",
      "None\n"
     ]
    }
   ],
   "source": [
    "import pandas as pd\n",
    "import matplotlib.pyplot as plt \n",
    "import seaborn as sns\n",
    "import numpy as np\n",
    "import warnings\n",
    "warnings.filterwarnings('ignore')\n",
    "\n",
    "flights = pd.read_csv('/datasets/query_1.csv')\n",
    "flights_cities = pd.read_csv('/datasets/query_3.csv')\n",
    "for data in [flights, flights_cities]: print(data.info())"
   ]
  },
  {
   "cell_type": "code",
   "execution_count": 2,
   "metadata": {},
   "outputs": [
    {
     "data": {
      "text/html": [
       "<div>\n",
       "<style scoped>\n",
       "    .dataframe tbody tr th:only-of-type {\n",
       "        vertical-align: middle;\n",
       "    }\n",
       "\n",
       "    .dataframe tbody tr th {\n",
       "        vertical-align: top;\n",
       "    }\n",
       "\n",
       "    .dataframe thead th {\n",
       "        text-align: right;\n",
       "    }\n",
       "</style>\n",
       "<table border=\"1\" class=\"dataframe\">\n",
       "  <thead>\n",
       "    <tr style=\"text-align: right;\">\n",
       "      <th></th>\n",
       "      <th>model</th>\n",
       "      <th>flights_amount</th>\n",
       "    </tr>\n",
       "  </thead>\n",
       "  <tbody>\n",
       "    <tr>\n",
       "      <td>0</td>\n",
       "      <td>Airbus A319-100</td>\n",
       "      <td>607</td>\n",
       "    </tr>\n",
       "    <tr>\n",
       "      <td>1</td>\n",
       "      <td>Airbus A321-200</td>\n",
       "      <td>960</td>\n",
       "    </tr>\n",
       "    <tr>\n",
       "      <td>2</td>\n",
       "      <td>Boeing 737-300</td>\n",
       "      <td>630</td>\n",
       "    </tr>\n",
       "    <tr>\n",
       "      <td>3</td>\n",
       "      <td>Boeing 767-300</td>\n",
       "      <td>600</td>\n",
       "    </tr>\n",
       "    <tr>\n",
       "      <td>4</td>\n",
       "      <td>Boeing 777-300</td>\n",
       "      <td>300</td>\n",
       "    </tr>\n",
       "  </tbody>\n",
       "</table>\n",
       "</div>"
      ],
      "text/plain": [
       "             model  flights_amount\n",
       "0  Airbus A319-100             607\n",
       "1  Airbus A321-200             960\n",
       "2   Boeing 737-300             630\n",
       "3   Boeing 767-300             600\n",
       "4   Boeing 777-300             300"
      ]
     },
     "execution_count": 2,
     "metadata": {},
     "output_type": "execute_result"
    }
   ],
   "source": [
    "flights.head(5)"
   ]
  },
  {
   "cell_type": "code",
   "execution_count": 3,
   "metadata": {},
   "outputs": [
    {
     "data": {
      "text/html": [
       "<div>\n",
       "<style scoped>\n",
       "    .dataframe tbody tr th:only-of-type {\n",
       "        vertical-align: middle;\n",
       "    }\n",
       "\n",
       "    .dataframe tbody tr th {\n",
       "        vertical-align: top;\n",
       "    }\n",
       "\n",
       "    .dataframe thead th {\n",
       "        text-align: right;\n",
       "    }\n",
       "</style>\n",
       "<table border=\"1\" class=\"dataframe\">\n",
       "  <thead>\n",
       "    <tr style=\"text-align: right;\">\n",
       "      <th></th>\n",
       "      <th>city</th>\n",
       "      <th>average_flights</th>\n",
       "    </tr>\n",
       "  </thead>\n",
       "  <tbody>\n",
       "    <tr>\n",
       "      <td>0</td>\n",
       "      <td>Абакан</td>\n",
       "      <td>3.870968</td>\n",
       "    </tr>\n",
       "    <tr>\n",
       "      <td>1</td>\n",
       "      <td>Анадырь</td>\n",
       "      <td>1.000000</td>\n",
       "    </tr>\n",
       "    <tr>\n",
       "      <td>2</td>\n",
       "      <td>Анапа</td>\n",
       "      <td>2.161290</td>\n",
       "    </tr>\n",
       "    <tr>\n",
       "      <td>3</td>\n",
       "      <td>Архангельск</td>\n",
       "      <td>5.354839</td>\n",
       "    </tr>\n",
       "    <tr>\n",
       "      <td>4</td>\n",
       "      <td>Астрахань</td>\n",
       "      <td>2.451613</td>\n",
       "    </tr>\n",
       "  </tbody>\n",
       "</table>\n",
       "</div>"
      ],
      "text/plain": [
       "          city  average_flights\n",
       "0       Абакан         3.870968\n",
       "1      Анадырь         1.000000\n",
       "2        Анапа         2.161290\n",
       "3  Архангельск         5.354839\n",
       "4    Астрахань         2.451613"
      ]
     },
     "execution_count": 3,
     "metadata": {},
     "output_type": "execute_result"
    }
   ],
   "source": [
    "flights_cities.head(5)"
   ]
  },
  {
   "cell_type": "markdown",
   "metadata": {},
   "source": [
    "### Вывод"
   ]
  },
  {
   "cell_type": "markdown",
   "metadata": {},
   "source": [
    "Как можно увидеть из полученной информации, имеющийся набор данных не содержит пропущенных значений.Типы данных в большинстве своем распознаны правильно, только колонка average_flights требует преобразований, о которых будет сказано ниже."
   ]
  },
  {
   "cell_type": "markdown",
   "metadata": {},
   "source": [
    "## Предобработка данных"
   ]
  },
  {
   "cell_type": "markdown",
   "metadata": {},
   "source": [
    "Соответственно, изменим тип данных столбца, содержащего информацию о среднем количестве рейсов, прибывающих в город city за день в августе 2018 г., с вещественного на целочисленный тип данных."
   ]
  },
  {
   "cell_type": "code",
   "execution_count": 4,
   "metadata": {},
   "outputs": [
    {
     "data": {
      "text/html": [
       "<div>\n",
       "<style scoped>\n",
       "    .dataframe tbody tr th:only-of-type {\n",
       "        vertical-align: middle;\n",
       "    }\n",
       "\n",
       "    .dataframe tbody tr th {\n",
       "        vertical-align: top;\n",
       "    }\n",
       "\n",
       "    .dataframe thead th {\n",
       "        text-align: right;\n",
       "    }\n",
       "</style>\n",
       "<table border=\"1\" class=\"dataframe\">\n",
       "  <thead>\n",
       "    <tr style=\"text-align: right;\">\n",
       "      <th></th>\n",
       "      <th>city</th>\n",
       "      <th>average_flights</th>\n",
       "    </tr>\n",
       "  </thead>\n",
       "  <tbody>\n",
       "    <tr>\n",
       "      <td>0</td>\n",
       "      <td>Абакан</td>\n",
       "      <td>3</td>\n",
       "    </tr>\n",
       "    <tr>\n",
       "      <td>1</td>\n",
       "      <td>Анадырь</td>\n",
       "      <td>1</td>\n",
       "    </tr>\n",
       "    <tr>\n",
       "      <td>2</td>\n",
       "      <td>Анапа</td>\n",
       "      <td>2</td>\n",
       "    </tr>\n",
       "    <tr>\n",
       "      <td>3</td>\n",
       "      <td>Архангельск</td>\n",
       "      <td>5</td>\n",
       "    </tr>\n",
       "    <tr>\n",
       "      <td>4</td>\n",
       "      <td>Астрахань</td>\n",
       "      <td>2</td>\n",
       "    </tr>\n",
       "  </tbody>\n",
       "</table>\n",
       "</div>"
      ],
      "text/plain": [
       "          city  average_flights\n",
       "0       Абакан                3\n",
       "1      Анадырь                1\n",
       "2        Анапа                2\n",
       "3  Архангельск                5\n",
       "4    Астрахань                2"
      ]
     },
     "execution_count": 4,
     "metadata": {},
     "output_type": "execute_result"
    }
   ],
   "source": [
    "flights_cities['average_flights'] = flights_cities['average_flights'].astype('int')\n",
    "flights_cities.head(5)"
   ]
  },
  {
   "cell_type": "markdown",
   "metadata": {},
   "source": [
    "### Вывод"
   ]
  },
  {
   "cell_type": "markdown",
   "metadata": {},
   "source": [
    "Предобаботка прошла успешна, датасет подготовлен для дальнейшего анализа."
   ]
  },
  {
   "cell_type": "markdown",
   "metadata": {},
   "source": [
    "## Построение и анализ графиков"
   ]
  },
  {
   "cell_type": "markdown",
   "metadata": {},
   "source": [
    "В качестве дальнейших шагов предпримем определение ситуации в аивакомпании: изучим, как распределяются рейсы по городам и моделям самолетов, с помощью средств визуализации."
   ]
  },
  {
   "cell_type": "code",
   "execution_count": 5,
   "metadata": {},
   "outputs": [
    {
     "data": {
      "text/html": [
       "<div>\n",
       "<style scoped>\n",
       "    .dataframe tbody tr th:only-of-type {\n",
       "        vertical-align: middle;\n",
       "    }\n",
       "\n",
       "    .dataframe tbody tr th {\n",
       "        vertical-align: top;\n",
       "    }\n",
       "\n",
       "    .dataframe thead th {\n",
       "        text-align: right;\n",
       "    }\n",
       "</style>\n",
       "<table border=\"1\" class=\"dataframe\">\n",
       "  <thead>\n",
       "    <tr style=\"text-align: right;\">\n",
       "      <th></th>\n",
       "      <th>city</th>\n",
       "      <th>average_flights</th>\n",
       "    </tr>\n",
       "  </thead>\n",
       "  <tbody>\n",
       "    <tr>\n",
       "      <td>43</td>\n",
       "      <td>Москва</td>\n",
       "      <td>129</td>\n",
       "    </tr>\n",
       "    <tr>\n",
       "      <td>70</td>\n",
       "      <td>Санкт-Петербург</td>\n",
       "      <td>31</td>\n",
       "    </tr>\n",
       "    <tr>\n",
       "      <td>54</td>\n",
       "      <td>Новосибирск</td>\n",
       "      <td>17</td>\n",
       "    </tr>\n",
       "    <tr>\n",
       "      <td>20</td>\n",
       "      <td>Екатеринбург</td>\n",
       "      <td>11</td>\n",
       "    </tr>\n",
       "    <tr>\n",
       "      <td>33</td>\n",
       "      <td>Красноярск</td>\n",
       "      <td>11</td>\n",
       "    </tr>\n",
       "    <tr>\n",
       "      <td>63</td>\n",
       "      <td>Пермь</td>\n",
       "      <td>10</td>\n",
       "    </tr>\n",
       "    <tr>\n",
       "      <td>67</td>\n",
       "      <td>Ростов-на-Дону</td>\n",
       "      <td>10</td>\n",
       "    </tr>\n",
       "    <tr>\n",
       "      <td>10</td>\n",
       "      <td>Брянск</td>\n",
       "      <td>10</td>\n",
       "    </tr>\n",
       "    <tr>\n",
       "      <td>84</td>\n",
       "      <td>Ульяновск</td>\n",
       "      <td>9</td>\n",
       "    </tr>\n",
       "    <tr>\n",
       "      <td>73</td>\n",
       "      <td>Советский</td>\n",
       "      <td>9</td>\n",
       "    </tr>\n",
       "  </tbody>\n",
       "</table>\n",
       "</div>"
      ],
      "text/plain": [
       "               city  average_flights\n",
       "43           Москва              129\n",
       "70  Санкт-Петербург               31\n",
       "54      Новосибирск               17\n",
       "20     Екатеринбург               11\n",
       "33       Красноярск               11\n",
       "63            Пермь               10\n",
       "67   Ростов-на-Дону               10\n",
       "10           Брянск               10\n",
       "84        Ульяновск                9\n",
       "73        Советский                9"
      ]
     },
     "execution_count": 5,
     "metadata": {},
     "output_type": "execute_result"
    }
   ],
   "source": [
    "top_10 = flights_cities.sort_values(by = 'average_flights', ascending = False)\n",
    "top_10.head(10)"
   ]
  },
  {
   "cell_type": "markdown",
   "metadata": {},
   "source": [
    "Как можно увидеть из полученной таблицы, с большим отрывом лидером по количеству рейсов среди городов предсказуемо становится Москва. Также в топ-3 городов входят Санкт-Петербург и Новосибирск, топ-5 замыкают Екатеринбург и Красноярск."
   ]
  },
  {
   "cell_type": "markdown",
   "metadata": {},
   "source": [
    "Построим гистограмму, отображающую распределение количества рейсов по моделям самолетов. "
   ]
  },
  {
   "cell_type": "code",
   "execution_count": 6,
   "metadata": {},
   "outputs": [
    {
     "data": {
      "text/plain": [
       "(array([0, 1, 2, 3, 4, 5, 6, 7]), <a list of 8 Text xticklabel objects>)"
      ]
     },
     "execution_count": 6,
     "metadata": {},
     "output_type": "execute_result"
    },
    {
     "data": {
      "image/png": "[encoded data removed]",
      "text/plain": [
       "<Figure size 1080x504 with 1 Axes>"
      ]
     },
     "metadata": {
      "needs_background": "light"
     },
     "output_type": "display_data"
    }
   ],
   "source": [
    "models_flights = flights.sort_values(by ='flights_amount', ascending = False)\n",
    "plt.figure(figsize=(15, 7))\n",
    "plt.title('Распределение количества рейсов по моделям самолетов', fontsize=20)\n",
    "sns.barplot(x = \"model\", y = \"flights_amount\", data = models_flights, palette = \"BuGn_r\")\n",
    "plt.xlabel('модель', fontsize=14)\n",
    "plt.ylabel('количество рейсов', fontsize=14)\n",
    "plt.xticks(rotation=20)"
   ]
  },
  {
   "cell_type": "markdown",
   "metadata": {},
   "source": [
    "Как можно увидеть из графика, лидеры по количеству совершенных рейсов - Cessna 208 Grand Caravan, Bombardier CRJ-200 и Sukhoi Superjet 100. Лидер - Cessna 208 Grand Caravan - небольшой самолет, рассчитанный на перевозку 9 пассажиров и приспособленный для работы в сложных условиях, особенно популярен в северных районах Канады и Аляски (организация арктических туров и услуги воздушного такси пр.), Bombardier CRJ-200 - это также небольшой самолет (50-местный), который хорошо подходит для рейсов на средние расстояния, а Sukhoi Superjet 100 (рассчитан на 100 человек) преимущественно используется для небольших рейсов внутри России, также на нем летают до Армении и Киргизии. Наименее популярная модель - Boeing 777-300, более вместительный самолет (от 300 до 500 чел.) и дальне магистральный."
   ]
  },
  {
   "cell_type": "code",
   "execution_count": 7,
   "metadata": {},
   "outputs": [
    {
     "data": {
      "text/plain": [
       "Text(0.5, 0, 'кол-во рейсов')"
      ]
     },
     "execution_count": 7,
     "metadata": {},
     "output_type": "execute_result"
    },
    {
     "data": {
      "image/png": "[encoded data removed]",
      "text/plain": [
       "<Figure size 1080x1800 with 1 Axes>"
      ]
     },
     "metadata": {
      "needs_background": "light"
     },
     "output_type": "display_data"
    }
   ],
   "source": [
    "plt.figure(figsize=(15, 25))\n",
    "plt.title('Распределение количества рейсов по городам', fontsize=20)\n",
    "sns.barplot(x='average_flights', y='city', data=top_10, palette = \"BuGn_r\")\n",
    "sns.despine(left=True)\n",
    "plt.ylabel('название города')\n",
    "plt.xlabel('кол-во рейсов', fontsize=14)"
   ]
  },
  {
   "cell_type": "markdown",
   "metadata": {},
   "source": [
    "Анализируя распределение рейсов по городам, можно заметить, что предсказуемо большее количество рейсов летит в более крупные города (лидеры рейтинга - Москва, Санкт-Петербург и Новосибирск), наименьшее количество рейсов приходится на Стержневой, Нефтеюганск (небольшие города, кол-во рейсов связано именно с этим) и Ярославль (находится недалеко от Москвы, до него проще добраться на других видах транспорта)."
   ]
  },
  {
   "cell_type": "code",
   "execution_count": 8,
   "metadata": {},
   "outputs": [
    {
     "data": {
      "text/plain": [
       "Text(0.5, 0, 'кол-во рейсов')"
      ]
     },
     "execution_count": 8,
     "metadata": {},
     "output_type": "execute_result"
    },
    {
     "data": {
      "image/png": "[encoded data removed]",
      "text/plain": [
       "<Figure size 1080x504 with 1 Axes>"
      ]
     },
     "metadata": {
      "needs_background": "light"
     },
     "output_type": "display_data"
    }
   ],
   "source": [
    "plt.figure(figsize=(15, 7))\n",
    "plt.title('Распределение количества рейсов по городам', fontsize=20)\n",
    "sns.barplot(x='city', y='average_flights', data=top_10.head(10), palette = \"BuGn_r\")\n",
    "plt.ylabel('название города')\n",
    "plt.xlabel('кол-во рейсов', fontsize=14)"
   ]
  },
  {
   "cell_type": "markdown",
   "metadata": {},
   "source": [
    "Среди топ-10 городов лидерами выступают Москва, Санкт-Петербург и Новосибирск, замыкают рейтинг Брянск, Ульяновск и Советский."
   ]
  },
  {
   "cell_type": "markdown",
   "metadata": {},
   "source": [
    "## Общий вывод"
   ]
  },
  {
   "cell_type": "markdown",
   "metadata": {},
   "source": [
    "Таким образом, по итогам анализа можно сделать следующие выводы:\n",
    "во-первых, наиболее эксплуатируемые модели самолетов -  Cessna 208 Grand Caravan, Bombardier CRJ-200 и Sukhoi Superjet 100, как правило, небольшие и и не летают на дальние расстояния. Такие самолеты мобильны, удобны и оптимальны по стоимости, что также добавляет им популярности;\n",
    "во-вторых, среди городов-лидеров по количеству рейсов становятся наиболее крупные мегаполисы - Москва, Санкт-Петербург и Новосибирск как основные центры экономической, культурной и туристической жизни."
   ]
  }
 ],
 "metadata": {
  "ExecuteTimeLog": [
   {
    "duration": 1298,
    "start_time": "2021-09-01T20:13:19.637Z"
   },
   {
    "duration": 14,
    "start_time": "2021-09-01T20:14:56.400Z"
   },
   {
    "duration": 13,
    "start_time": "2021-09-01T20:16:22.364Z"
   },
   {
    "duration": 1629,
    "start_time": "2021-09-02T08:11:30.211Z"
   },
   {
    "duration": 10,
    "start_time": "2021-09-02T08:11:57.697Z"
   },
   {
    "duration": 14,
    "start_time": "2021-09-02T08:12:03.126Z"
   },
   {
    "duration": 11,
    "start_time": "2021-09-02T08:12:11.390Z"
   },
   {
    "duration": 5,
    "start_time": "2021-09-02T08:15:12.863Z"
   },
   {
    "duration": 11,
    "start_time": "2021-09-02T08:15:24.322Z"
   },
   {
    "duration": 1143,
    "start_time": "2021-09-02T08:43:36.753Z"
   },
   {
    "duration": 1114,
    "start_time": "2021-09-02T08:43:49.363Z"
   },
   {
    "duration": 2594,
    "start_time": "2021-09-02T08:44:29.737Z"
   },
   {
    "duration": 395,
    "start_time": "2021-09-02T08:44:49.558Z"
   },
   {
    "duration": 365,
    "start_time": "2021-09-02T08:54:30.733Z"
   },
   {
    "duration": 367,
    "start_time": "2021-09-02T08:58:35.440Z"
   },
   {
    "duration": 1259,
    "start_time": "2021-09-02T09:09:38.966Z"
   },
   {
    "duration": 1754,
    "start_time": "2021-09-02T09:10:16.358Z"
   },
   {
    "duration": 1643,
    "start_time": "2021-09-02T09:11:32.501Z"
   },
   {
    "duration": 786,
    "start_time": "2021-09-02T09:12:05.464Z"
   },
   {
    "duration": 766,
    "start_time": "2021-09-02T09:12:22.277Z"
   },
   {
    "duration": 1221,
    "start_time": "2021-09-02T09:15:29.902Z"
   },
   {
    "duration": 5,
    "start_time": "2021-09-02T09:15:47.299Z"
   },
   {
    "duration": 14,
    "start_time": "2021-09-02T09:16:00.167Z"
   },
   {
    "duration": 1447,
    "start_time": "2021-09-02T09:16:13.392Z"
   },
   {
    "duration": 905,
    "start_time": "2021-09-02T09:16:18.063Z"
   },
   {
    "duration": 2218,
    "start_time": "2021-09-02T09:16:50.350Z"
   },
   {
    "duration": 474,
    "start_time": "2021-09-02T09:17:26.091Z"
   },
   {
    "duration": 1583,
    "start_time": "2021-09-02T09:17:37.592Z"
   },
   {
    "duration": 1160,
    "start_time": "2021-09-02T09:17:58.015Z"
   },
   {
    "duration": 3184,
    "start_time": "2021-09-02T09:18:17.435Z"
   },
   {
    "duration": 4405,
    "start_time": "2021-09-02T09:21:39.566Z"
   },
   {
    "duration": 900,
    "start_time": "2021-09-02T09:31:57.885Z"
   },
   {
    "duration": 8,
    "start_time": "2021-09-02T09:32:34.669Z"
   },
   {
    "duration": 1143,
    "start_time": "2021-09-02T09:32:54.960Z"
   },
   {
    "duration": 994,
    "start_time": "2021-09-02T09:33:01.533Z"
   },
   {
    "duration": 864,
    "start_time": "2021-09-02T09:33:13.118Z"
   },
   {
    "duration": 878,
    "start_time": "2021-09-02T09:33:22.609Z"
   },
   {
    "duration": 1069,
    "start_time": "2021-09-03T07:44:12.125Z"
   },
   {
    "duration": 11,
    "start_time": "2021-09-03T07:44:16.195Z"
   },
   {
    "duration": 8,
    "start_time": "2021-09-03T07:47:09.113Z"
   },
   {
    "duration": 267,
    "start_time": "2021-09-03T07:52:54.972Z"
   },
   {
    "duration": 369,
    "start_time": "2021-09-03T07:54:50.758Z"
   },
   {
    "duration": 428,
    "start_time": "2021-09-03T08:00:33.156Z"
   },
   {
    "duration": 37,
    "start_time": "2021-09-03T08:01:02.343Z"
   },
   {
    "duration": 7,
    "start_time": "2021-09-03T08:01:04.839Z"
   },
   {
    "duration": 8,
    "start_time": "2021-09-03T08:01:07.450Z"
   },
   {
    "duration": 417,
    "start_time": "2021-09-03T08:01:10.327Z"
   },
   {
    "duration": 37,
    "start_time": "2021-09-03T08:02:02.858Z"
   },
   {
    "duration": 8,
    "start_time": "2021-09-03T08:02:05.681Z"
   },
   {
    "duration": 8,
    "start_time": "2021-09-03T08:02:09.059Z"
   },
   {
    "duration": 390,
    "start_time": "2021-09-03T08:02:13.552Z"
   },
   {
    "duration": 275,
    "start_time": "2021-09-03T08:02:25.765Z"
   },
   {
    "duration": 452,
    "start_time": "2021-09-03T08:06:37.731Z"
   },
   {
    "duration": 421,
    "start_time": "2021-09-03T08:06:54.500Z"
   },
   {
    "duration": 258,
    "start_time": "2021-09-03T08:08:20.059Z"
   },
   {
    "duration": 306,
    "start_time": "2021-09-03T08:08:32.061Z"
   },
   {
    "duration": 246,
    "start_time": "2021-09-03T08:08:40.098Z"
   },
   {
    "duration": 267,
    "start_time": "2021-09-03T08:09:25.722Z"
   },
   {
    "duration": 262,
    "start_time": "2021-09-03T08:10:39.300Z"
   },
   {
    "duration": 270,
    "start_time": "2021-09-03T08:12:05.597Z"
   },
   {
    "duration": 270,
    "start_time": "2021-09-03T08:12:11.329Z"
   },
   {
    "duration": 8,
    "start_time": "2021-09-03T08:12:16.734Z"
   },
   {
    "duration": 266,
    "start_time": "2021-09-03T08:12:19.936Z"
   },
   {
    "duration": 36,
    "start_time": "2021-09-03T08:12:23.921Z"
   },
   {
    "duration": 7,
    "start_time": "2021-09-03T08:12:24.252Z"
   },
   {
    "duration": 10,
    "start_time": "2021-09-03T08:12:25.045Z"
   },
   {
    "duration": 271,
    "start_time": "2021-09-03T08:12:29.181Z"
   },
   {
    "duration": 265,
    "start_time": "2021-09-03T08:13:32.808Z"
   },
   {
    "duration": 37,
    "start_time": "2021-09-03T08:18:34.985Z"
   },
   {
    "duration": 8,
    "start_time": "2021-09-03T08:18:37.538Z"
   },
   {
    "duration": 9,
    "start_time": "2021-09-03T08:18:40.028Z"
   },
   {
    "duration": 411,
    "start_time": "2021-09-03T08:18:52.599Z"
   },
   {
    "duration": 362,
    "start_time": "2021-09-03T08:19:25.881Z"
   },
   {
    "duration": 400,
    "start_time": "2021-09-03T08:20:52.143Z"
   },
   {
    "duration": 265,
    "start_time": "2021-09-03T08:21:37.064Z"
   },
   {
    "duration": 268,
    "start_time": "2021-09-03T08:21:53.322Z"
   },
   {
    "duration": 37,
    "start_time": "2021-09-03T08:21:59.700Z"
   },
   {
    "duration": 7,
    "start_time": "2021-09-03T08:22:07.453Z"
   },
   {
    "duration": 8,
    "start_time": "2021-09-03T08:22:10.068Z"
   },
   {
    "duration": 266,
    "start_time": "2021-09-03T08:22:12.496Z"
   },
   {
    "duration": 413,
    "start_time": "2021-09-03T08:22:40.246Z"
   },
   {
    "duration": 428,
    "start_time": "2021-09-03T08:23:20.628Z"
   },
   {
    "duration": 264,
    "start_time": "2021-09-03T08:25:28.770Z"
   },
   {
    "duration": 406,
    "start_time": "2021-09-03T08:27:28.511Z"
   },
   {
    "duration": 265,
    "start_time": "2021-09-03T08:27:36.721Z"
   },
   {
    "duration": 261,
    "start_time": "2021-09-03T08:29:27.216Z"
   },
   {
    "duration": 266,
    "start_time": "2021-09-03T08:30:20.746Z"
   },
   {
    "duration": 1915,
    "start_time": "2021-09-03T08:31:18.290Z"
   },
   {
    "duration": 1841,
    "start_time": "2021-09-03T08:32:02.062Z"
   },
   {
    "duration": 1811,
    "start_time": "2021-09-03T08:33:28.262Z"
   },
   {
    "duration": 2004,
    "start_time": "2021-09-03T08:36:27.655Z"
   },
   {
    "duration": 696,
    "start_time": "2021-09-03T08:36:48.562Z"
   },
   {
    "duration": 708,
    "start_time": "2021-09-03T08:37:01.499Z"
   },
   {
    "duration": 2987,
    "start_time": "2021-09-03T08:37:04.342Z"
   },
   {
    "duration": 1919,
    "start_time": "2021-09-03T08:37:45.326Z"
   },
   {
    "duration": 1879,
    "start_time": "2021-09-03T08:39:13.554Z"
   },
   {
    "duration": 276,
    "start_time": "2021-09-03T08:39:22.324Z"
   },
   {
    "duration": 454,
    "start_time": "2021-09-03T08:39:28.081Z"
   },
   {
    "duration": 264,
    "start_time": "2021-09-03T08:39:42.352Z"
   },
   {
    "duration": 262,
    "start_time": "2021-09-03T08:42:15.481Z"
   },
   {
    "duration": 375,
    "start_time": "2021-09-03T08:42:31.970Z"
   },
   {
    "duration": 1805,
    "start_time": "2021-09-03T08:42:43.846Z"
   },
   {
    "duration": 1895,
    "start_time": "2021-09-03T08:53:02.537Z"
   },
   {
    "duration": 267,
    "start_time": "2021-09-03T08:53:56.558Z"
   },
   {
    "duration": 263,
    "start_time": "2021-09-03T08:54:11.312Z"
   },
   {
    "duration": 377,
    "start_time": "2021-09-03T08:54:37.492Z"
   },
   {
    "duration": 277,
    "start_time": "2021-09-03T08:55:16.966Z"
   },
   {
    "duration": 286,
    "start_time": "2021-09-03T08:55:26.606Z"
   },
   {
    "duration": 1829,
    "start_time": "2021-09-03T08:58:26.371Z"
   },
   {
    "duration": 1848,
    "start_time": "2021-09-03T08:58:34.183Z"
   },
   {
    "duration": 652,
    "start_time": "2021-09-03T09:00:39.035Z"
   },
   {
    "duration": 516,
    "start_time": "2021-09-03T09:00:58.301Z"
   },
   {
    "duration": 528,
    "start_time": "2021-09-03T09:04:47.462Z"
   },
   {
    "duration": 272,
    "start_time": "2021-09-03T09:05:49.541Z"
   },
   {
    "duration": 7,
    "start_time": "2021-09-03T09:36:06.162Z"
   },
   {
    "duration": 7,
    "start_time": "2021-09-03T09:36:23.171Z"
   },
   {
    "duration": 36,
    "start_time": "2021-09-03T09:37:12.478Z"
   },
   {
    "duration": 8,
    "start_time": "2021-09-03T09:37:14.993Z"
   },
   {
    "duration": 7,
    "start_time": "2021-09-03T09:37:17.521Z"
   },
   {
    "duration": 1174,
    "start_time": "2021-09-03T17:48:31.244Z"
   },
   {
    "duration": 10,
    "start_time": "2021-09-03T17:48:34.973Z"
   },
   {
    "duration": 7,
    "start_time": "2021-09-03T17:48:36.876Z"
   },
   {
    "duration": 7,
    "start_time": "2021-09-03T17:48:40.640Z"
   },
   {
    "duration": 1177,
    "start_time": "2021-09-03T21:17:20.313Z"
   },
   {
    "duration": 13,
    "start_time": "2021-09-03T21:17:21.492Z"
   },
   {
    "duration": 10,
    "start_time": "2021-09-03T21:17:21.508Z"
   },
   {
    "duration": 15,
    "start_time": "2021-09-03T21:17:21.520Z"
   },
   {
    "duration": 10,
    "start_time": "2021-09-03T21:17:21.538Z"
   },
   {
    "duration": 355,
    "start_time": "2021-09-03T21:17:21.550Z"
   },
   {
    "duration": 1935,
    "start_time": "2021-09-03T21:17:21.908Z"
   },
   {
    "duration": 316,
    "start_time": "2021-09-03T21:17:23.845Z"
   }
  ],
  "kernelspec": {
   "display_name": "Python 3",
   "language": "python",
   "name": "python3"
  },
  "language_info": {
   "codemirror_mode": {
    "name": "ipython",
    "version": 3
   },
   "file_extension": ".py",
   "mimetype": "text/x-python",
   "name": "python",
   "nbconvert_exporter": "python",
   "pygments_lexer": "ipython3",
   "version": "3.8.8"
  },
  "toc": {
   "base_numbering": 1,
   "nav_menu": {
    "height": "147px",
    "width": "208px"
   },
   "number_sections": true,
   "sideBar": true,
   "skip_h1_title": true,
   "title_cell": "Table of Contents",
   "title_sidebar": "Содержание",
   "toc_cell": false,
   "toc_position": {
    "height": "calc(100% - 180px)",
    "left": "10px",
    "top": "150px",
    "width": "238.396px"
   },
   "toc_section_display": true,
   "toc_window_display": true
  }
 },
 "nbformat": 4,
 "nbformat_minor": 2
}
