{
 "cells": [
  {
   "cell_type": "markdown",
   "metadata": {},
   "source": [
    "# Музыка больших городов"
   ]
  },
  {
   "cell_type": "markdown",
   "metadata": {},
   "source": [
    " В нашем распоряжении данные сервиса \"Яндекс.Музыка\". Основной исследовательский вопрос: как музыка, которая звучит по дороге на работу в понедельник утром, отличается от той, что играет в среду или в конце рабочей недели? Возьмите данные для Москвы и Петербурга. Сравните, что и в каком режиме слушают их жители."
   ]
  },
  {
   "cell_type": "markdown",
   "metadata": {
    "colab_type": "text",
    "deletable": false,
    "editable": false,
    "id": "5UYxO1GdF6Wy",
    "tags": [
     "f6c88c58-a82b-4f28-8bd6-fd55c0017917"
    ]
   },
   "source": [
    "# Этап 1. Получение данных"
   ]
  },
  {
   "cell_type": "markdown",
   "metadata": {
    "colab_type": "text",
    "deletable": false,
    "id": "0skiEFxDZ0Tr"
   },
   "source": [
    "## Импорт библиотек"
   ]
  },
  {
   "cell_type": "markdown",
   "metadata": {
    "colab_type": "text",
    "deletable": false,
    "id": "iI4ITclJaFWh"
   },
   "source": [
    "Изучим данные, предоставленные сервисом для проекта."
   ]
  },
  {
   "cell_type": "code",
   "execution_count": 184,
   "metadata": {
    "colab": {},
    "colab_type": "code",
    "deletable": false,
    "id": "HirRov5vZ3MT"
   },
   "outputs": [],
   "source": [
    "import pandas as pd"
   ]
  },
  {
   "cell_type": "markdown",
   "metadata": {
    "colab_type": "text",
    "deletable": false,
    "id": "Tr8dl3PWGFIk"
   },
   "source": [
    "Прочитаем файл *music_project.csv* и сохраним его в переменной *df*. "
   ]
  },
  {
   "cell_type": "code",
   "execution_count": 185,
   "metadata": {
    "colab": {},
    "colab_type": "code",
    "deletable": false,
    "id": "NB6j931yS4hy"
   },
   "outputs": [],
   "source": [
    "df = pd.read_csv('/datasets/music_project.csv')"
   ]
  },
  {
   "cell_type": "markdown",
   "metadata": {
    "colab_type": "text",
    "deletable": false,
    "editable": false,
    "id": "y2usmNMlDLbY",
    "tags": [
     "f3a2f13f-d110-4558-a520-4805b5bd1dfe"
    ]
   },
   "source": [
    "Получение первых 10 строк таблицы."
   ]
  },
  {
   "cell_type": "code",
   "execution_count": 186,
   "metadata": {
    "colab": {},
    "colab_type": "code",
    "deletable": false,
    "id": "DY5i8tgXVDGj"
   },
   "outputs": [
    {
     "data": {
      "text/html": [
       "<div>\n",
       "<style scoped>\n",
       "    .dataframe tbody tr th:only-of-type {\n",
       "        vertical-align: middle;\n",
       "    }\n",
       "\n",
       "    .dataframe tbody tr th {\n",
       "        vertical-align: top;\n",
       "    }\n",
       "\n",
       "    .dataframe thead th {\n",
       "        text-align: right;\n",
       "    }\n",
       "</style>\n",
       "<table border=\"1\" class=\"dataframe\">\n",
       "  <thead>\n",
       "    <tr style=\"text-align: right;\">\n",
       "      <th></th>\n",
       "      <th>userID</th>\n",
       "      <th>Track</th>\n",
       "      <th>artist</th>\n",
       "      <th>genre</th>\n",
       "      <th>City</th>\n",
       "      <th>time</th>\n",
       "      <th>Day</th>\n",
       "    </tr>\n",
       "  </thead>\n",
       "  <tbody>\n",
       "    <tr>\n",
       "      <td>0</td>\n",
       "      <td>FFB692EC</td>\n",
       "      <td>Kamigata To Boots</td>\n",
       "      <td>The Mass Missile</td>\n",
       "      <td>rock</td>\n",
       "      <td>Saint-Petersburg</td>\n",
       "      <td>20:28:33</td>\n",
       "      <td>Wednesday</td>\n",
       "    </tr>\n",
       "    <tr>\n",
       "      <td>1</td>\n",
       "      <td>55204538</td>\n",
       "      <td>Delayed Because of Accident</td>\n",
       "      <td>Andreas Rönnberg</td>\n",
       "      <td>rock</td>\n",
       "      <td>Moscow</td>\n",
       "      <td>14:07:09</td>\n",
       "      <td>Friday</td>\n",
       "    </tr>\n",
       "    <tr>\n",
       "      <td>2</td>\n",
       "      <td>20EC38</td>\n",
       "      <td>Funiculì funiculà</td>\n",
       "      <td>Mario Lanza</td>\n",
       "      <td>pop</td>\n",
       "      <td>Saint-Petersburg</td>\n",
       "      <td>20:58:07</td>\n",
       "      <td>Wednesday</td>\n",
       "    </tr>\n",
       "    <tr>\n",
       "      <td>3</td>\n",
       "      <td>A3DD03C9</td>\n",
       "      <td>Dragons in the Sunset</td>\n",
       "      <td>Fire + Ice</td>\n",
       "      <td>folk</td>\n",
       "      <td>Saint-Petersburg</td>\n",
       "      <td>08:37:09</td>\n",
       "      <td>Monday</td>\n",
       "    </tr>\n",
       "    <tr>\n",
       "      <td>4</td>\n",
       "      <td>E2DC1FAE</td>\n",
       "      <td>Soul People</td>\n",
       "      <td>Space Echo</td>\n",
       "      <td>dance</td>\n",
       "      <td>Moscow</td>\n",
       "      <td>08:34:34</td>\n",
       "      <td>Monday</td>\n",
       "    </tr>\n",
       "    <tr>\n",
       "      <td>5</td>\n",
       "      <td>842029A1</td>\n",
       "      <td>Преданная</td>\n",
       "      <td>IMPERVTOR</td>\n",
       "      <td>rusrap</td>\n",
       "      <td>Saint-Petersburg</td>\n",
       "      <td>13:09:41</td>\n",
       "      <td>Friday</td>\n",
       "    </tr>\n",
       "    <tr>\n",
       "      <td>6</td>\n",
       "      <td>4CB90AA5</td>\n",
       "      <td>True</td>\n",
       "      <td>Roman Messer</td>\n",
       "      <td>dance</td>\n",
       "      <td>Moscow</td>\n",
       "      <td>13:00:07</td>\n",
       "      <td>Wednesday</td>\n",
       "    </tr>\n",
       "    <tr>\n",
       "      <td>7</td>\n",
       "      <td>F03E1C1F</td>\n",
       "      <td>Feeling This Way</td>\n",
       "      <td>Polina Griffith</td>\n",
       "      <td>dance</td>\n",
       "      <td>Moscow</td>\n",
       "      <td>20:47:49</td>\n",
       "      <td>Wednesday</td>\n",
       "    </tr>\n",
       "    <tr>\n",
       "      <td>8</td>\n",
       "      <td>8FA1D3BE</td>\n",
       "      <td>И вновь продолжается бой</td>\n",
       "      <td>NaN</td>\n",
       "      <td>ruspop</td>\n",
       "      <td>Moscow</td>\n",
       "      <td>09:17:40</td>\n",
       "      <td>Friday</td>\n",
       "    </tr>\n",
       "    <tr>\n",
       "      <td>9</td>\n",
       "      <td>E772D5C0</td>\n",
       "      <td>Pessimist</td>\n",
       "      <td>NaN</td>\n",
       "      <td>dance</td>\n",
       "      <td>Saint-Petersburg</td>\n",
       "      <td>21:20:49</td>\n",
       "      <td>Wednesday</td>\n",
       "    </tr>\n",
       "  </tbody>\n",
       "</table>\n",
       "</div>"
      ],
      "text/plain": [
       "     userID                        Track            artist   genre  \\\n",
       "0  FFB692EC            Kamigata To Boots  The Mass Missile    rock   \n",
       "1  55204538  Delayed Because of Accident  Andreas Rönnberg    rock   \n",
       "2    20EC38            Funiculì funiculà       Mario Lanza     pop   \n",
       "3  A3DD03C9        Dragons in the Sunset        Fire + Ice    folk   \n",
       "4  E2DC1FAE                  Soul People        Space Echo   dance   \n",
       "5  842029A1                    Преданная         IMPERVTOR  rusrap   \n",
       "6  4CB90AA5                         True      Roman Messer   dance   \n",
       "7  F03E1C1F             Feeling This Way   Polina Griffith   dance   \n",
       "8  8FA1D3BE     И вновь продолжается бой               NaN  ruspop   \n",
       "9  E772D5C0                    Pessimist               NaN   dance   \n",
       "\n",
       "             City        time        Day  \n",
       "0  Saint-Petersburg  20:28:33  Wednesday  \n",
       "1            Moscow  14:07:09     Friday  \n",
       "2  Saint-Petersburg  20:58:07  Wednesday  \n",
       "3  Saint-Petersburg  08:37:09     Monday  \n",
       "4            Moscow  08:34:34     Monday  \n",
       "5  Saint-Petersburg  13:09:41     Friday  \n",
       "6            Moscow  13:00:07  Wednesday  \n",
       "7            Moscow  20:47:49  Wednesday  \n",
       "8            Moscow  09:17:40     Friday  \n",
       "9  Saint-Petersburg  21:20:49  Wednesday  "
      ]
     },
     "execution_count": 186,
     "metadata": {},
     "output_type": "execute_result"
    }
   ],
   "source": [
    "df.head(10)"
   ]
  },
  {
   "cell_type": "markdown",
   "metadata": {
    "colab_type": "text",
    "deletable": false,
    "editable": false,
    "id": "FrIiRHuHIBbN",
    "tags": [
     "0210c096-9595-4600-b91d-42ab36a6c3f0"
    ]
   },
   "source": [
    "Общая информация о данных таблицы *df*.\n",
    "\n",
    "\n"
   ]
  },
  {
   "cell_type": "code",
   "execution_count": 187,
   "metadata": {
    "colab": {},
    "colab_type": "code",
    "deletable": false,
    "id": "K7t8OdZsYN2y"
   },
   "outputs": [
    {
     "name": "stdout",
     "output_type": "stream",
     "text": [
      "<class 'pandas.core.frame.DataFrame'>\n",
      "RangeIndex: 65079 entries, 0 to 65078\n",
      "Data columns (total 7 columns):\n",
      "  userID    65079 non-null object\n",
      "Track       63848 non-null object\n",
      "artist      57876 non-null object\n",
      "genre       63881 non-null object\n",
      "  City      65079 non-null object\n",
      "time        65079 non-null object\n",
      "Day         65079 non-null object\n",
      "dtypes: object(7)\n",
      "memory usage: 3.5+ MB\n"
     ]
    }
   ],
   "source": [
    "df.info()"
   ]
  },
  {
   "cell_type": "markdown",
   "metadata": {
    "colab_type": "text",
    "deletable": false,
    "id": "CnHv9HZCc7LN"
   },
   "source": [
    "Рассмотрим полученную информацию подробнее.\n",
    "\n",
    "Всего в таблице 7 столбцов, тип данных у каждого столбца - object.\n",
    "\n",
    "Подробно разберём, какие в *df* столбцы и какую информацию они содержат:\n",
    "\n",
    "* userID — идентификатор пользователя;\n",
    "* Track — название трека;  \n",
    "* artist — имя исполнителя;\n",
    "* genre — название жанра;\n",
    "* City — город, в котором происходило прослушивание;\n",
    "* time — время, в которое пользователь слушал трек;\n",
    "* Day — день недели.\n",
    "\n",
    "Количество значений в столбцах различается. Это говорит о том, что в данных есть пропущенные значения.\n",
    "\n"
   ]
  },
  {
   "cell_type": "markdown",
   "metadata": {
    "colab_type": "text",
    "deletable": false,
    "id": "DCYFm5VrevuB"
   },
   "source": [
    "**Выводы**"
   ]
  },
  {
   "cell_type": "markdown",
   "metadata": {
    "colab_type": "text",
    "deletable": false,
    "id": "PCEtjdmvezRm"
   },
   "source": [
    "Каждая строка таблицы содержит информацию о композициях определённого жанра в определённом исполнении, которые пользователи слушали в одном из городов в определённое время и день недели. Две проблемы, которые нужно решать: пропуски и некачественные названия столбцов. Для проверки рабочих гипотез особенно ценны столбцы *time*, *day* и *City*. Данные из столбца *genre* позволят узнать самые популярные жанры."
   ]
  },
  {
   "cell_type": "markdown",
   "metadata": {
    "colab_type": "text",
    "deletable": false,
    "editable": false,
    "id": "ZYaC0bU-IZ0a",
    "tags": [
     "2c946931-9c91-4e15-baf8-43fb79bcb454"
    ]
   },
   "source": [
    "# Этап 2. Предобработка данных"
   ]
  },
  {
   "cell_type": "markdown",
   "metadata": {
    "colab_type": "text",
    "deletable": false,
    "id": "Dl8grmTrPxZi"
   },
   "source": [
    "Исключим пропуски, переименуем столбцы, а также проверим данные на наличие дубликатов."
   ]
  },
  {
   "cell_type": "markdown",
   "metadata": {
    "colab_type": "text",
    "deletable": false,
    "id": "6OIhlsG_IjI8"
   },
   "source": [
    "Получаем перечень названий столбцов. Какая наблюдается проблема — кроме тех, что уже были названы ранее?"
   ]
  },
  {
   "cell_type": "code",
   "execution_count": 188,
   "metadata": {
    "colab": {},
    "colab_type": "code",
    "deletable": false,
    "id": "Tag65F_Uitsx"
   },
   "outputs": [
    {
     "name": "stdout",
     "output_type": "stream",
     "text": [
      "Index(['  userID', 'Track', 'artist', 'genre', '  City  ', 'time', 'Day'], dtype='object')\n"
     ]
    }
   ],
   "source": [
    "print(df.columns)"
   ]
  },
  {
   "cell_type": "markdown",
   "metadata": {
    "colab_type": "text",
    "deletable": false,
    "id": "x6iJC-cEhnRL"
   },
   "source": [
    "В названиях столбцов есть пробелы, которые могут затруднять доступ к данным."
   ]
  },
  {
   "cell_type": "markdown",
   "metadata": {
    "colab_type": "text",
    "deletable": false,
    "editable": false,
    "id": "BK6m6-DZhlTs",
    "tags": [
     "c2b469cf-2148-4115-8806-0fbb00a9d55d"
    ]
   },
   "source": [
    "Переименуем столбцы для удобства дальнейшей работы. Проверим результат.\n",
    "\n"
   ]
  },
  {
   "cell_type": "code",
   "execution_count": 189,
   "metadata": {
    "colab": {},
    "colab_type": "code",
    "deletable": false,
    "id": "XintVfCniw2-"
   },
   "outputs": [],
   "source": [
    "df.set_axis(['user_id','track_name', 'artist_name', 'genre_name', 'city', 'time', 'weekday'], axis = 'columns', inplace = True)"
   ]
  },
  {
   "cell_type": "code",
   "execution_count": 190,
   "metadata": {
    "colab": {},
    "colab_type": "code",
    "deletable": false,
    "id": "ozQL91G4izdp"
   },
   "outputs": [
    {
     "name": "stdout",
     "output_type": "stream",
     "text": [
      "Index(['user_id', 'track_name', 'artist_name', 'genre_name', 'city', 'time',\n",
      "       'weekday'],\n",
      "      dtype='object')\n"
     ]
    }
   ],
   "source": [
    "print(df.columns)"
   ]
  },
  {
   "cell_type": "markdown",
   "metadata": {
    "colab_type": "text",
    "deletable": false,
    "editable": false,
    "id": "oc2qS2UBIkQu",
    "tags": [
     "325fae3b-abce-4c7c-8c41-87ed8a26ff5d"
    ]
   },
   "source": [
    "Проверим данные на наличие пропусков вызовом набора методов для суммирования пропущенных значений."
   ]
  },
  {
   "cell_type": "code",
   "execution_count": 191,
   "metadata": {
    "colab": {},
    "colab_type": "code",
    "deletable": false,
    "id": "BZh9yLHhjy_R"
   },
   "outputs": [
    {
     "name": "stdout",
     "output_type": "stream",
     "text": [
      "user_id           0\n",
      "track_name     1231\n",
      "artist_name    7203\n",
      "genre_name     1198\n",
      "city              0\n",
      "time              0\n",
      "weekday           0\n",
      "dtype: int64\n"
     ]
    }
   ],
   "source": [
    "print(df.isnull().sum()) "
   ]
  },
  {
   "cell_type": "markdown",
   "metadata": {
    "colab_type": "text",
    "deletable": false,
    "id": "OJXGaa02tSJJ"
   },
   "source": [
    "Пустые значения свидетельствуют, что для некоторых треков доступна не вся информация. Причины могут быть разные: скажем,  не назван конкретный исполнитель народной песни. Хуже, если проблемы с записью данных. Каждый отдельный случай необходимо разобрать и выявить причину."
   ]
  },
  {
   "cell_type": "markdown",
   "metadata": {
    "colab_type": "text",
    "deletable": false,
    "id": "-fBDAWZUkAg-"
   },
   "source": [
    "Заменяем пропущенные значения в столбцах с названием трека и исполнителя на строку 'unknown'. После этой операции нужно убедиться, что таблица больше не содержит пропусков."
   ]
  },
  {
   "cell_type": "code",
   "execution_count": 192,
   "metadata": {
    "colab": {},
    "colab_type": "code",
    "deletable": false,
    "id": "EO8zFcJPlbvV",
    "scrolled": false
   },
   "outputs": [],
   "source": [
    "df['track_name'] = df['track_name'].fillna('unknown')"
   ]
  },
  {
   "cell_type": "code",
   "execution_count": 193,
   "metadata": {
    "colab": {},
    "colab_type": "code",
    "deletable": false,
    "id": "3hsNZcLST0UW"
   },
   "outputs": [],
   "source": [
    "df['artist_name'] = df['artist_name'].fillna('unknown')"
   ]
  },
  {
   "cell_type": "code",
   "execution_count": 194,
   "metadata": {
    "colab": {},
    "colab_type": "code",
    "deletable": false,
    "id": "Ua-Z8TAblgzC"
   },
   "outputs": [
    {
     "name": "stdout",
     "output_type": "stream",
     "text": [
      "user_id           0\n",
      "track_name        0\n",
      "artist_name       0\n",
      "genre_name     1198\n",
      "city              0\n",
      "time              0\n",
      "weekday           0\n",
      "dtype: int64\n"
     ]
    }
   ],
   "source": [
    "print(df.isnull().sum()) "
   ]
  },
  {
   "cell_type": "markdown",
   "metadata": {
    "colab_type": "text",
    "deletable": false,
    "editable": false,
    "id": "-cjfT0w2ln9C",
    "tags": [
     "9cb28dd4-e24e-4490-aebd-b37ba9e492c5"
    ]
   },
   "source": [
    "Удаляем в столбце с жанрами пустые значения; убеждаемся, что их больше не осталось."
   ]
  },
  {
   "cell_type": "code",
   "execution_count": 199,
   "metadata": {
    "colab": {},
    "colab_type": "code",
    "deletable": false,
    "id": "TIpk7lwtnZkZ"
   },
   "outputs": [],
   "source": [
    "df.dropna(subset = ['genre_name'], inplace = True)"
   ]
  },
  {
   "cell_type": "code",
   "execution_count": 200,
   "metadata": {
    "colab": {},
    "colab_type": "code",
    "deletable": false,
    "id": "-1CT-CCZnzTA"
   },
   "outputs": [
    {
     "name": "stdout",
     "output_type": "stream",
     "text": [
      "user_id        0\n",
      "track_name     0\n",
      "artist_name    0\n",
      "genre_name     0\n",
      "city           0\n",
      "time           0\n",
      "weekday        0\n",
      "dtype: int64\n"
     ]
    }
   ],
   "source": [
    "print(df.isnull().sum()) "
   ]
  },
  {
   "cell_type": "markdown",
   "metadata": {
    "colab_type": "text",
    "deletable": false,
    "editable": false,
    "id": "QsBXpJFzpxA9",
    "tags": [
     "ea46db29-6746-4c02-a47b-75283dde9025"
    ]
   },
   "source": [
    "Необходимо установить наличие дубликатов.  Если найдутся, удаляем, и проверяем, все ли удалились."
   ]
  },
  {
   "cell_type": "code",
   "execution_count": 206,
   "metadata": {
    "colab": {},
    "colab_type": "code",
    "deletable": false,
    "id": "VRVI_B0RqIgT"
   },
   "outputs": [
    {
     "name": "stdout",
     "output_type": "stream",
     "text": [
      "3755\n"
     ]
    }
   ],
   "source": [
    "print(df.duplicated().sum())"
   ]
  },
  {
   "cell_type": "code",
   "execution_count": 207,
   "metadata": {
    "colab": {},
    "colab_type": "code",
    "deletable": false,
    "id": "nSYF38OeqZn-"
   },
   "outputs": [],
   "source": [
    "df = df.drop_duplicates().reset_index(drop=True) "
   ]
  },
  {
   "cell_type": "code",
   "execution_count": 208,
   "metadata": {
    "colab": {},
    "colab_type": "code",
    "deletable": false,
    "id": "O-RfjmkCqIgV"
   },
   "outputs": [
    {
     "name": "stdout",
     "output_type": "stream",
     "text": [
      "0\n"
     ]
    }
   ],
   "source": [
    "print(df.duplicated().sum())"
   ]
  },
  {
   "cell_type": "markdown",
   "metadata": {
    "colab_type": "text",
    "deletable": false,
    "id": "e6cyWPTwsLKw"
   },
   "source": [
    "Дубликаты могли появиться вследствие сбоя в записи данных. Стоит обратить внимание и разобраться с причинами появления такого «информационного мусора»."
   ]
  },
  {
   "cell_type": "markdown",
   "metadata": {
    "colab_type": "text",
    "deletable": false,
    "editable": false,
    "id": "QH-HgrApInjO",
    "tags": [
     "46fb87e8-2d9c-497d-9c6e-746eaa2631ab"
    ]
   },
   "source": [
    "Сохраняем список уникальных значений столбца с жанрами в переменной *genres_list*. \n",
    "\n",
    "Объявим функцию *find_genre()* для поиска неявных дубликатов в столбце с жанрами. Например, когда название одного и того же жанра написано разными словами.\n",
    "\n",
    "\n",
    "\n"
   ]
  },
  {
   "cell_type": "code",
   "execution_count": 211,
   "metadata": {
    "colab": {},
    "colab_type": "code",
    "deletable": false,
    "id": "FfaTfKAN-PCx"
   },
   "outputs": [],
   "source": [
    "genres_list = df['genre_name'].unique()\n"
   ]
  },
  {
   "cell_type": "code",
   "execution_count": 212,
   "metadata": {
    "colab": {},
    "colab_type": "code",
    "deletable": false,
    "id": "TA_k-VLi-S0R"
   },
   "outputs": [],
   "source": [
    "def find_genre(genre_name):\n",
    "    result = 0\n",
    "    for row in genres_list:\n",
    "            if row == genre_name:\n",
    "                result += 1\n",
    "    return result\n",
    "# <создание функции find_genre()>\n",
    "# функция принимает как параметр строку с названием искомого жанра\n",
    "# в теле объявляется переменная-счётчик, ей присваивается значение 0,\n",
    "# затем цикл for проходит по списку уникальных значений\n",
    "# если очередной элемент списка равен параметру функции, \n",
    "# то значение счётчика увеличивается на 1\n",
    "# по окончании работы цикла функция возвращает значение счётчика"
   ]
  },
  {
   "cell_type": "markdown",
   "metadata": {
    "colab_type": "text",
    "deletable": false,
    "editable": false,
    "id": "vb3CTOciIL27",
    "tags": [
     "b57e3325-29fc-4ade-83a3-91113c5dad32"
    ]
   },
   "source": [
    "Вызов функции *find_genre()* для поиска различных вариантов названия жанра хип-хоп в таблице.\n",
    "\n",
    "Правильное название — *hiphop*. Поищем другие варианты:\n",
    "\n",
    "* hip\n",
    "* hop\n",
    "* hip-hop\n"
   ]
  },
  {
   "cell_type": "code",
   "execution_count": 203,
   "metadata": {
    "colab": {},
    "colab_type": "code",
    "deletable": false,
    "id": "YrwqExZS-dyQ"
   },
   "outputs": [
    {
     "data": {
      "text/plain": [
       "1"
      ]
     },
     "execution_count": 203,
     "metadata": {},
     "output_type": "execute_result"
    }
   ],
   "source": [
    "find_genre('hip')"
   ]
  },
  {
   "cell_type": "code",
   "execution_count": 204,
   "metadata": {
    "colab": {},
    "colab_type": "code",
    "deletable": false,
    "id": "ZoL4EEcR-dyU"
   },
   "outputs": [
    {
     "data": {
      "text/plain": [
       "0"
      ]
     },
     "execution_count": 204,
     "metadata": {},
     "output_type": "execute_result"
    }
   ],
   "source": [
    "find_genre('hop')"
   ]
  },
  {
   "cell_type": "code",
   "execution_count": 205,
   "metadata": {
    "colab": {},
    "colab_type": "code",
    "deletable": false,
    "id": "MFowmiug-qZD",
    "scrolled": true
   },
   "outputs": [
    {
     "data": {
      "text/plain": [
       "0"
      ]
     },
     "execution_count": 205,
     "metadata": {},
     "output_type": "execute_result"
    }
   ],
   "source": [
    "find_genre('hip-hop') # <проверяется наличие варианта 'hip-hop'>"
   ]
  },
  {
   "cell_type": "markdown",
   "metadata": {
    "colab_type": "text",
    "deletable": false,
    "editable": false,
    "id": "a7BQY6ORLMSG",
    "tags": [
     "11f77aa1-5478-453d-b31e-f20041047bb7"
    ]
   },
   "source": [
    "Объявим функцию *find_hip_hop()*, которая заменяет  неправильное название этого жанра в столбце *'genre_name'* на *'hiphop'* и проверяет успешность выполнения замены.\n",
    "\n",
    "Так исправляем все варианты написания, которые выявила проверка."
   ]
  },
  {
   "cell_type": "code",
   "execution_count": 213,
   "metadata": {
    "colab": {},
    "colab_type": "code",
    "deletable": false,
    "id": "31xlzL_c_FgB"
   },
   "outputs": [],
   "source": [
    "def find_hip_hop(df,wrong_element):\n",
    "    df['genre_name'] = df['genre_name'].replace(wrong_element, 'hiphop')\n",
    "    result = df.loc[df['genre_name'] =='hip']['genre_name'].count()\n",
    "    return result\n",
    "        # <создание функции find_hip_hop()>\n",
    "# функция принимает как параметры таблицу df и неверное название\n",
    "# к столбцу 'genre_name' применяется специальный метод, \n",
    "# который заменяет второй параметр на строку 'hiphop'\n",
    "# результат работы равен подсчитанному методом count() числу значений столбца, \n",
    "# которые равны второму параметру\n",
    "# функция возвращает результат"
   ]
  },
  {
   "cell_type": "code",
   "execution_count": 214,
   "metadata": {
    "colab": {},
    "colab_type": "code",
    "deletable": false,
    "id": "ZFXMV2qW_FgE"
   },
   "outputs": [
    {
     "data": {
      "text/plain": [
       "0"
      ]
     },
     "execution_count": 214,
     "metadata": {},
     "output_type": "execute_result"
    }
   ],
   "source": [
    "find_hip_hop(df,'hip') # <замена одного неверного варианта на hiphop вызовом функции find_hip_hop()>"
   ]
  },
  {
   "cell_type": "markdown",
   "metadata": {
    "colab_type": "text",
    "deletable": false,
    "editable": false,
    "id": "i90BILA9JQpE",
    "tags": [
     "30535c8e-1643-4088-925b-2a32180e0333"
    ]
   },
   "source": [
    "Получаем общую информацию о данных. Убеждаемся, что чистка выполнена успешно."
   ]
  },
  {
   "cell_type": "code",
   "execution_count": 215,
   "metadata": {
    "colab": {},
    "colab_type": "code",
    "deletable": false,
    "id": "-yyvdzHA_uJm"
   },
   "outputs": [
    {
     "name": "stdout",
     "output_type": "stream",
     "text": [
      "<class 'pandas.core.frame.DataFrame'>\n",
      "RangeIndex: 60126 entries, 0 to 60125\n",
      "Data columns (total 7 columns):\n",
      "user_id        60126 non-null object\n",
      "track_name     60126 non-null object\n",
      "artist_name    60126 non-null object\n",
      "genre_name     60126 non-null object\n",
      "city           60126 non-null object\n",
      "time           60126 non-null object\n",
      "weekday        60126 non-null object\n",
      "dtypes: object(7)\n",
      "memory usage: 3.2+ MB\n"
     ]
    }
   ],
   "source": [
    "df.info()# <получение общей информации о данных таблицы df>"
   ]
  },
  {
   "cell_type": "markdown",
   "metadata": {
    "colab_type": "text",
    "deletable": false,
    "id": "AReHO17cMRPM"
   },
   "source": [
    "**Вывод**"
   ]
  },
  {
   "cell_type": "markdown",
   "metadata": {
    "colab_type": "text",
    "deletable": false,
    "id": "yscfstUqMS4c"
   },
   "source": [
    "На этапе предобработки в данных обнаружились не только пропуски и проблемы с названиями столбцов, но и всяческие виды дубликатов. Их удаление позволит провести анализ точнее. Поскольку сведения о жанрах важно сохранить для анализа, не просто удаляем все пропущенные значения, но заполним пропущенные имена исполнителей и названия треков. Имена столбцов теперь корректны и удобны для дальнейшей работы."
   ]
  },
  {
   "cell_type": "markdown",
   "metadata": {
    "colab_type": "text",
    "deletable": false,
    "editable": false,
    "id": "MF4nnd1YJUrI",
    "tags": [
     "ac8df732-1797-479a-9c4c-a03745931a9d"
    ]
   },
   "source": [
    "# Действительно ли музыку в разных городах слушают по-разному?"
   ]
  },
  {
   "cell_type": "markdown",
   "metadata": {
    "colab_type": "text",
    "deletable": false,
    "id": "AYSL1OvyM2pL"
   },
   "source": [
    "Была выдвинута гипотеза, что в Москве и Санкт-Петербурге пользователи слушают музыку по-разному. Проверяем это предположение по данным о трёх днях недели — понедельнике, среде и пятнице.\n",
    "\n",
    "Для каждого города устанавливаем количество прослушанных  в эти дни композиций с известным жанром, и сравниваем результаты."
   ]
  },
  {
   "cell_type": "markdown",
   "metadata": {
    "colab_type": "text",
    "deletable": false,
    "id": "OM5Eeh7FNWC-"
   },
   "source": [
    "Группируем данные по городу и вызовом метода *count()* подсчитываем композиции, для которых известен жанр."
   ]
  },
  {
   "cell_type": "code",
   "execution_count": 217,
   "metadata": {
    "colab": {},
    "colab_type": "code",
    "deletable": false,
    "id": "AtH_pP1i_0m1"
   },
   "outputs": [
    {
     "data": {
      "text/plain": [
       "city\n",
       "Moscow              41892\n",
       "Saint-Petersburg    18234\n",
       "Name: genre_name, dtype: int64"
      ]
     },
     "execution_count": 217,
     "metadata": {},
     "output_type": "execute_result"
    }
   ],
   "source": [
    "df.groupby('city') ['genre_name'].count() # <группировка данных таблицы df по столбцу 'city' и подсчёт количества значений столбца 'genre_name'>"
   ]
  },
  {
   "cell_type": "markdown",
   "metadata": {
    "colab_type": "text",
    "deletable": false,
    "id": "XBR226DMpIDf"
   },
   "source": [
    "В Москве прослушиваний больше, чем в Питере, но это не значит, что Москва более активна. У Яндекс.Музыки в целом больше пользователей в Москве, поэтому величины сопоставимы."
   ]
  },
  {
   "cell_type": "markdown",
   "metadata": {
    "colab_type": "text",
    "deletable": false,
    "editable": false,
    "id": "P7EcNQuyNbNB",
    "tags": [
     "133ddd49-3b63-45b1-b50c-9e6ab5fc4175"
    ]
   },
   "source": [
    "Сгруппируем данные по дню недели и подсчитаем прослушанные в понедельник, среду и пятницу композиции, для которых известен жанр."
   ]
  },
  {
   "cell_type": "code",
   "execution_count": 218,
   "metadata": {
    "colab": {},
    "colab_type": "code",
    "deletable": false,
    "id": "A8E_Tb2b_3un"
   },
   "outputs": [
    {
     "data": {
      "text/plain": [
       "weekday\n",
       "Friday       21482\n",
       "Monday       20866\n",
       "Wednesday    17778\n",
       "Name: genre_name, dtype: int64"
      ]
     },
     "execution_count": 218,
     "metadata": {},
     "output_type": "execute_result"
    }
   ],
   "source": [
    "df.groupby('weekday') ['genre_name'].count()# <группировка данных по столбцу 'weekday' и подсчёт количества значений столбца 'genre_name'>\n"
   ]
  },
  {
   "cell_type": "markdown",
   "metadata": {
    "colab_type": "text",
    "deletable": false,
    "id": "Zhh6hehCpq_U"
   },
   "source": [
    "Понедельник и пятница — время для музыки; по средам пользователи немного больше вовлечены в работу."
   ]
  },
  {
   "cell_type": "markdown",
   "metadata": {
    "colab_type": "text",
    "deletable": false,
    "editable": false,
    "id": "bYab2U5BNdmZ",
    "tags": [
     "bae0a168-5e2b-40f9-9701-bfb32d016517"
    ]
   },
   "source": [
    "Создаём функцию *number_tracks()*, которая принимает как параметры таблицу, день недели и название города, а возвращает количество прослушанных композиций, для которых известен жанр. Проверяем количество прослушанных композиций для каждого города и понедельника, затем среды и пятницы."
   ]
  },
  {
   "cell_type": "code",
   "execution_count": 219,
   "metadata": {
    "colab": {},
    "colab_type": "code",
    "deletable": false,
    "id": "4SqpGSi5_7hA"
   },
   "outputs": [],
   "source": [
    "def number_tracks(df, day, city):\n",
    "    track_list = df[(df['weekday'] == day) & (df['city'] == city)] \n",
    "    track_list_count = track_list['genre_name'].count()\n",
    "    return track_list_count\n",
    "# <создание функции number_tracks()>\n",
    "# объявляется функция с тремя параметрами: df, day, city\n",
    "# в переменной track_list сохраняются те строки таблицы df, для которых \n",
    "# значение в столбце 'weekday' равно параметру day\n",
    "# и одновременно значение в столбце 'city' равно параметру city\n",
    "# в переменной track_list_count сохраняется число значений столбца 'genre_name',\n",
    "# рассчитанное методом count() для таблицы track_list\n",
    "# функция возвращает значение track_list_count"
   ]
  },
  {
   "cell_type": "code",
   "execution_count": 220,
   "metadata": {
    "deletable": false
   },
   "outputs": [
    {
     "data": {
      "text/plain": [
       "15347"
      ]
     },
     "execution_count": 220,
     "metadata": {},
     "output_type": "execute_result"
    }
   ],
   "source": [
    "number_tracks(df, 'Monday', 'Moscow')# <список композиций для Москвы в понедельник>"
   ]
  },
  {
   "cell_type": "code",
   "execution_count": 221,
   "metadata": {
    "deletable": false
   },
   "outputs": [
    {
     "data": {
      "text/plain": [
       "5519"
      ]
     },
     "execution_count": 221,
     "metadata": {},
     "output_type": "execute_result"
    }
   ],
   "source": [
    "number_tracks(df, 'Monday', 'Saint-Petersburg')# <список композиций для Санкт-Петербурга в понедельник>"
   ]
  },
  {
   "cell_type": "code",
   "execution_count": 222,
   "metadata": {
    "deletable": false
   },
   "outputs": [
    {
     "data": {
      "text/plain": [
       "10865"
      ]
     },
     "execution_count": 222,
     "metadata": {},
     "output_type": "execute_result"
    }
   ],
   "source": [
    "number_tracks(df, 'Wednesday', 'Moscow')# <список композиций для Москвы в среду>"
   ]
  },
  {
   "cell_type": "code",
   "execution_count": 224,
   "metadata": {
    "deletable": false
   },
   "outputs": [
    {
     "data": {
      "text/plain": [
       "6913"
      ]
     },
     "execution_count": 224,
     "metadata": {},
     "output_type": "execute_result"
    }
   ],
   "source": [
    "number_tracks(df, 'Wednesday', 'Saint-Petersburg')# <список композиций для Санкт-Петербурга в среду>"
   ]
  },
  {
   "cell_type": "code",
   "execution_count": 225,
   "metadata": {
    "deletable": false
   },
   "outputs": [
    {
     "data": {
      "text/plain": [
       "15680"
      ]
     },
     "execution_count": 225,
     "metadata": {},
     "output_type": "execute_result"
    }
   ],
   "source": [
    "number_tracks(df, 'Friday', 'Moscow')# <список композиций для Москвы в пятницу>"
   ]
  },
  {
   "cell_type": "code",
   "execution_count": 227,
   "metadata": {
    "deletable": false
   },
   "outputs": [
    {
     "data": {
      "text/plain": [
       "5802"
      ]
     },
     "execution_count": 227,
     "metadata": {},
     "output_type": "execute_result"
    }
   ],
   "source": [
    "number_tracks(df, 'Friday', 'Saint-Petersburg')# <список композиций для Санкт-Петербурга в пятницу>"
   ]
  },
  {
   "cell_type": "markdown",
   "metadata": {
    "colab_type": "text",
    "deletable": false,
    "editable": false,
    "id": "tCB9zwzzqZ8g",
    "tags": [
     "d73e12bf-3635-484b-8fb6-c7ccc2101671"
    ]
   },
   "source": [
    "Сведём полученную информацию в одну таблицу, где ['city', 'monday', 'wednesday', 'friday'] названия столбцов.\n"
   ]
  },
  {
   "cell_type": "code",
   "execution_count": 228,
   "metadata": {
    "deletable": false
   },
   "outputs": [
    {
     "name": "stdout",
     "output_type": "stream",
     "text": [
      "               city  monday  wednesday  friday\n",
      "0            Moscow   15347      10865   15680\n",
      "1  Saint-Petersburg    5519       6913    5802\n"
     ]
    }
   ],
   "source": [
    "data= [['Moscow', 15347, 10865, 15680],\n",
    "       ['Saint-Petersburg', 5519, 6913, 5802]]\n",
    "columns =['city', 'monday', 'wednesday', 'friday']\n",
    "table = pd.DataFrame(data = data,columns = columns) # <таблица с полученными данными>\n",
    "print(table)"
   ]
  },
  {
   "cell_type": "markdown",
   "metadata": {
    "colab_type": "text",
    "deletable": false,
    "id": "LKCYeMXgqPxD"
   },
   "source": [
    "**Вывод**"
   ]
  },
  {
   "cell_type": "markdown",
   "metadata": {
    "colab_type": "text",
    "deletable": false,
    "id": "RJpg6I8jqQ0x"
   },
   "source": [
    "Результаты показывают, что относительно среды музыку в Петербурге и Москве слушают «зеркально»: в Москве пики приходятся на понедельник и пятницу, а в среду время прослушивания снижается. Тогда как в Санкт-Петербурге среда — день самого большого интереса к музыке, а в понедельник и пятницу он меньше, причём почти одинаково меньше."
   ]
  },
  {
   "cell_type": "markdown",
   "metadata": {
    "colab_type": "text",
    "deletable": false,
    "editable": false,
    "id": "tLdpUGyewzGf",
    "tags": [
     "1eb8124a-f066-4c43-b1f4-bc672c5efd57"
    ]
   },
   "source": [
    "# Утро понедельника и вечер пятницы — разная музыка или одна и та же?"
   ]
  },
  {
   "cell_type": "markdown",
   "metadata": {
    "colab_type": "text",
    "deletable": false,
    "id": "SaQlxcVntL3x"
   },
   "source": [
    "Ищем ответ на вопрос, какие жанры преобладают в разных городах в понедельник утром и в пятницу вечером. Есть предположение, что в понедельник утром пользователи слушают больше бодрящей музыки (например, жанра поп), а вечером пятницы — больше танцевальных (например, электронику)."
   ]
  },
  {
   "cell_type": "markdown",
   "metadata": {
    "colab_type": "text",
    "deletable": false,
    "id": "lYGAneOaPBhS"
   },
   "source": [
    "Получим таблицы данных по Москве *moscow_general* и по Санкт-Петербургу *spb_general*."
   ]
  },
  {
   "cell_type": "code",
   "execution_count": 163,
   "metadata": {
    "colab": {},
    "colab_type": "code",
    "deletable": false,
    "id": "Pyz1i56nA5IS"
   },
   "outputs": [
    {
     "data": {
      "text/html": [
       "<div>\n",
       "<style scoped>\n",
       "    .dataframe tbody tr th:only-of-type {\n",
       "        vertical-align: middle;\n",
       "    }\n",
       "\n",
       "    .dataframe tbody tr th {\n",
       "        vertical-align: top;\n",
       "    }\n",
       "\n",
       "    .dataframe thead th {\n",
       "        text-align: right;\n",
       "    }\n",
       "</style>\n",
       "<table border=\"1\" class=\"dataframe\">\n",
       "  <thead>\n",
       "    <tr style=\"text-align: right;\">\n",
       "      <th></th>\n",
       "      <th>userID</th>\n",
       "      <th>track_name</th>\n",
       "      <th>artist_name</th>\n",
       "      <th>genre_name</th>\n",
       "      <th>city</th>\n",
       "      <th>time</th>\n",
       "      <th>weekday</th>\n",
       "    </tr>\n",
       "  </thead>\n",
       "  <tbody>\n",
       "    <tr>\n",
       "      <td>1</td>\n",
       "      <td>55204538</td>\n",
       "      <td>Delayed Because of Accident</td>\n",
       "      <td>Andreas Rönnberg</td>\n",
       "      <td>rock</td>\n",
       "      <td>Moscow</td>\n",
       "      <td>14:07:09</td>\n",
       "      <td>Friday</td>\n",
       "    </tr>\n",
       "    <tr>\n",
       "      <td>4</td>\n",
       "      <td>E2DC1FAE</td>\n",
       "      <td>Soul People</td>\n",
       "      <td>Space Echo</td>\n",
       "      <td>dance</td>\n",
       "      <td>Moscow</td>\n",
       "      <td>08:34:34</td>\n",
       "      <td>Monday</td>\n",
       "    </tr>\n",
       "    <tr>\n",
       "      <td>6</td>\n",
       "      <td>4CB90AA5</td>\n",
       "      <td>True</td>\n",
       "      <td>Roman Messer</td>\n",
       "      <td>dance</td>\n",
       "      <td>Moscow</td>\n",
       "      <td>13:00:07</td>\n",
       "      <td>Wednesday</td>\n",
       "    </tr>\n",
       "    <tr>\n",
       "      <td>7</td>\n",
       "      <td>F03E1C1F</td>\n",
       "      <td>Feeling This Way</td>\n",
       "      <td>Polina Griffith</td>\n",
       "      <td>dance</td>\n",
       "      <td>Moscow</td>\n",
       "      <td>20:47:49</td>\n",
       "      <td>Wednesday</td>\n",
       "    </tr>\n",
       "    <tr>\n",
       "      <td>8</td>\n",
       "      <td>8FA1D3BE</td>\n",
       "      <td>И вновь продолжается бой</td>\n",
       "      <td>unknown</td>\n",
       "      <td>ruspop</td>\n",
       "      <td>Moscow</td>\n",
       "      <td>09:17:40</td>\n",
       "      <td>Friday</td>\n",
       "    </tr>\n",
       "  </tbody>\n",
       "</table>\n",
       "</div>"
      ],
      "text/plain": [
       "     userID                   track_name       artist_name genre_name    city  \\\n",
       "1  55204538  Delayed Because of Accident  Andreas Rönnberg       rock  Moscow   \n",
       "4  E2DC1FAE                  Soul People        Space Echo      dance  Moscow   \n",
       "6  4CB90AA5                         True      Roman Messer      dance  Moscow   \n",
       "7  F03E1C1F             Feeling This Way   Polina Griffith      dance  Moscow   \n",
       "8  8FA1D3BE     И вновь продолжается бой           unknown     ruspop  Moscow   \n",
       "\n",
       "       time    weekday  \n",
       "1  14:07:09     Friday  \n",
       "4  08:34:34     Monday  \n",
       "6  13:00:07  Wednesday  \n",
       "7  20:47:49  Wednesday  \n",
       "8  09:17:40     Friday  "
      ]
     },
     "execution_count": 163,
     "metadata": {},
     "output_type": "execute_result"
    }
   ],
   "source": [
    "moscow_general = df[(df['city'] == 'Moscow')]# получение таблицы moscow_general из тех строк таблицы df, \n",
    "# для которых значение в столбце 'city' равно 'Moscow'\n",
    "moscow_general.head(5)"
   ]
  },
  {
   "cell_type": "code",
   "execution_count": 165,
   "metadata": {
    "colab": {},
    "colab_type": "code",
    "deletable": false,
    "id": "w3NNN-2hA-al"
   },
   "outputs": [
    {
     "data": {
      "text/html": [
       "<div>\n",
       "<style scoped>\n",
       "    .dataframe tbody tr th:only-of-type {\n",
       "        vertical-align: middle;\n",
       "    }\n",
       "\n",
       "    .dataframe tbody tr th {\n",
       "        vertical-align: top;\n",
       "    }\n",
       "\n",
       "    .dataframe thead th {\n",
       "        text-align: right;\n",
       "    }\n",
       "</style>\n",
       "<table border=\"1\" class=\"dataframe\">\n",
       "  <thead>\n",
       "    <tr style=\"text-align: right;\">\n",
       "      <th></th>\n",
       "      <th>userID</th>\n",
       "      <th>track_name</th>\n",
       "      <th>artist_name</th>\n",
       "      <th>genre_name</th>\n",
       "      <th>city</th>\n",
       "      <th>time</th>\n",
       "      <th>weekday</th>\n",
       "    </tr>\n",
       "  </thead>\n",
       "  <tbody>\n",
       "    <tr>\n",
       "      <td>0</td>\n",
       "      <td>FFB692EC</td>\n",
       "      <td>Kamigata To Boots</td>\n",
       "      <td>The Mass Missile</td>\n",
       "      <td>rock</td>\n",
       "      <td>Saint-Petersburg</td>\n",
       "      <td>20:28:33</td>\n",
       "      <td>Wednesday</td>\n",
       "    </tr>\n",
       "    <tr>\n",
       "      <td>2</td>\n",
       "      <td>20EC38</td>\n",
       "      <td>Funiculì funiculà</td>\n",
       "      <td>Mario Lanza</td>\n",
       "      <td>pop</td>\n",
       "      <td>Saint-Petersburg</td>\n",
       "      <td>20:58:07</td>\n",
       "      <td>Wednesday</td>\n",
       "    </tr>\n",
       "    <tr>\n",
       "      <td>3</td>\n",
       "      <td>A3DD03C9</td>\n",
       "      <td>Dragons in the Sunset</td>\n",
       "      <td>Fire + Ice</td>\n",
       "      <td>folk</td>\n",
       "      <td>Saint-Petersburg</td>\n",
       "      <td>08:37:09</td>\n",
       "      <td>Monday</td>\n",
       "    </tr>\n",
       "    <tr>\n",
       "      <td>5</td>\n",
       "      <td>842029A1</td>\n",
       "      <td>Преданная</td>\n",
       "      <td>IMPERVTOR</td>\n",
       "      <td>rusrap</td>\n",
       "      <td>Saint-Petersburg</td>\n",
       "      <td>13:09:41</td>\n",
       "      <td>Friday</td>\n",
       "    </tr>\n",
       "    <tr>\n",
       "      <td>9</td>\n",
       "      <td>E772D5C0</td>\n",
       "      <td>Pessimist</td>\n",
       "      <td>unknown</td>\n",
       "      <td>dance</td>\n",
       "      <td>Saint-Petersburg</td>\n",
       "      <td>21:20:49</td>\n",
       "      <td>Wednesday</td>\n",
       "    </tr>\n",
       "  </tbody>\n",
       "</table>\n",
       "</div>"
      ],
      "text/plain": [
       "     userID             track_name       artist_name genre_name  \\\n",
       "0  FFB692EC      Kamigata To Boots  The Mass Missile       rock   \n",
       "2    20EC38      Funiculì funiculà       Mario Lanza        pop   \n",
       "3  A3DD03C9  Dragons in the Sunset        Fire + Ice       folk   \n",
       "5  842029A1              Преданная         IMPERVTOR     rusrap   \n",
       "9  E772D5C0              Pessimist           unknown      dance   \n",
       "\n",
       "               city      time    weekday  \n",
       "0  Saint-Petersburg  20:28:33  Wednesday  \n",
       "2  Saint-Petersburg  20:58:07  Wednesday  \n",
       "3  Saint-Petersburg  08:37:09     Monday  \n",
       "5  Saint-Petersburg  13:09:41     Friday  \n",
       "9  Saint-Petersburg  21:20:49  Wednesday  "
      ]
     },
     "execution_count": 165,
     "metadata": {},
     "output_type": "execute_result"
    }
   ],
   "source": [
    "spb_general = df[(df['city'] == 'Saint-Petersburg')]# <получение таблицы spb_general>\n",
    "spb_general.head(5)"
   ]
  },
  {
   "cell_type": "markdown",
   "metadata": {
    "colab_type": "text",
    "deletable": false,
    "editable": false,
    "id": "duDdH_WiPLky",
    "tags": [
     "7f7cae13-ec1c-45c4-9204-0a4354fe1766"
    ]
   },
   "source": [
    "Создаём функцию *genre_weekday()*, которая возвращает список жанров по запрошенному дню недели и времени суток с такого-то часа по такой-то."
   ]
  },
  {
   "cell_type": "code",
   "execution_count": 166,
   "metadata": {
    "colab": {},
    "colab_type": "code",
    "deletable": false,
    "id": "JhUdQynHBEYw"
   },
   "outputs": [],
   "source": [
    "def genre_weekday(df, day, time1, time2): # объявление функции genre_weekday() с параметрами df, day, time1, time2\n",
    "    genre_list = df[(df['weekday'] == day) & (df['time'] > time1) & (df['time'] < time2)]\n",
    "    count_genre_list = genre_list.groupby('genre_name')['genre_name'].count()\n",
    "    genre_list_sorted = count_genre_list.sort_values(ascending = False).head(10)\n",
    "    return genre_list_sorted\n",
    "    # в переменной genre_list сохраняются те строки df, для которых одновременно:\n",
    "# 1) значение в столбце 'weekday' равно параметру day,\n",
    "# 2) значение в столбце 'time' больше time1 и\n",
    "# 3) меньше time2.\n",
    "# в переменной genre_list_sorted сохраняются в порядке убывания  \n",
    "# первые 10 значений Series, полученной подсчётом числа значений 'genre_name'\n",
    "# сгруппированной по столбцу 'genre_name' таблицы genre_list\n",
    "# функция возвращает значение genre_list_sorted"
   ]
  },
  {
   "cell_type": "markdown",
   "metadata": {
    "colab_type": "text",
    "deletable": false,
    "editable": false,
    "id": "bxGC8kXkP7B-",
    "tags": [
     "63e2c3f3-fa64-4376-8221-e8b753264535"
    ]
   },
   "source": [
    "Cравниваем полученные результаты по таблице для Москвы и Санкт-Петербурга в понедельник утром (с 7 до 11) и в пятницу вечером (с 17 до 23)."
   ]
  },
  {
   "cell_type": "code",
   "execution_count": 167,
   "metadata": {
    "colab": {},
    "colab_type": "code",
    "deletable": false,
    "id": "kbgeq-55BLEI"
   },
   "outputs": [
    {
     "data": {
      "text/plain": [
       "genre_name\n",
       "pop            781\n",
       "dance          549\n",
       "electronic     480\n",
       "rock           474\n",
       "hiphop         286\n",
       "ruspop         186\n",
       "world          181\n",
       "rusrap         175\n",
       "alternative    164\n",
       "unknown        161\n",
       "Name: genre_name, dtype: int64"
      ]
     },
     "execution_count": 167,
     "metadata": {},
     "output_type": "execute_result"
    }
   ],
   "source": [
    "genre_weekday(moscow_general, 'Monday', '07:00:00', '11:00:00') # <вызов функции для утра понедельника в Москве (вместо df таблица moscow_general)>"
   ]
  },
  {
   "cell_type": "code",
   "execution_count": 168,
   "metadata": {
    "colab": {},
    "colab_type": "code",
    "deletable": false,
    "id": "XHwa8N2EBRXO"
   },
   "outputs": [
    {
     "data": {
      "text/plain": [
       "genre_name\n",
       "pop            218\n",
       "dance          182\n",
       "rock           162\n",
       "electronic     147\n",
       "hiphop          80\n",
       "ruspop          64\n",
       "alternative     58\n",
       "rusrap          55\n",
       "jazz            44\n",
       "classical       40\n",
       "Name: genre_name, dtype: int64"
      ]
     },
     "execution_count": 168,
     "metadata": {},
     "output_type": "execute_result"
    }
   ],
   "source": [
    "genre_weekday(spb_general, 'Monday', '07:00:00', '11:00:00')# <вызов функции для утра понедельника в Петербурге (вместо df таблица spb_general)>"
   ]
  },
  {
   "cell_type": "code",
   "execution_count": 169,
   "metadata": {
    "colab": {},
    "colab_type": "code",
    "deletable": false,
    "id": "YvdSbg2jBUeq"
   },
   "outputs": [
    {
     "data": {
      "text/plain": [
       "genre_name\n",
       "pop            713\n",
       "rock           517\n",
       "dance          495\n",
       "electronic     482\n",
       "hiphop         273\n",
       "world          208\n",
       "ruspop         170\n",
       "alternative    163\n",
       "classical      163\n",
       "rusrap         142\n",
       "Name: genre_name, dtype: int64"
      ]
     },
     "execution_count": 169,
     "metadata": {},
     "output_type": "execute_result"
    }
   ],
   "source": [
    "genre_weekday(moscow_general, 'Friday', '17:00:00', '23:00:00')# <вызов функции для вечера пятницы в Москве>"
   ]
  },
  {
   "cell_type": "code",
   "execution_count": 170,
   "metadata": {
    "colab": {},
    "colab_type": "code",
    "deletable": false,
    "id": "Ew3ig4fPBUeu"
   },
   "outputs": [
    {
     "data": {
      "text/plain": [
       "genre_name\n",
       "pop            256\n",
       "rock           216\n",
       "electronic     216\n",
       "dance          210\n",
       "hiphop          97\n",
       "alternative     63\n",
       "jazz            61\n",
       "classical       60\n",
       "rusrap          59\n",
       "world           54\n",
       "Name: genre_name, dtype: int64"
      ]
     },
     "execution_count": 170,
     "metadata": {},
     "output_type": "execute_result"
    }
   ],
   "source": [
    "genre_weekday(spb_general, 'Friday', '17:00:00', '23:00:00') # <вызов функции для вечера пятницы в Питере>"
   ]
  },
  {
   "cell_type": "markdown",
   "metadata": {
    "colab_type": "text",
    "deletable": false,
    "id": "UenYBZTIwYT-"
   },
   "source": [
    "Популярные жанры в понедельник утром в Питере и Москве оказались похожи: везде, как и предполагалось, популярен поп. Несмотря на это, концовка топ-10 для двух городов различается: в Питере в топ-10 входит джаз и русский рэп, а в Москве жанр *world*.\n",
    "\n",
    "В конце недели ситуация не меняется. Поп-музыка всё так же на первом месте. Опять разница заметна только в концовке топ-10, где в Питере пятничным вечером тоже присутствует жанр *world*."
   ]
  },
  {
   "cell_type": "markdown",
   "metadata": {
    "colab_type": "text",
    "deletable": false,
    "id": "MBxfrKPAykp_"
   },
   "source": [
    "**Вывод**"
   ]
  },
  {
   "cell_type": "markdown",
   "metadata": {
    "colab_type": "text",
    "deletable": false,
    "id": "j8ypBMwSymL6"
   },
   "source": [
    "Жанр поп безусловный лидер, а топ-5 в целом не различается в обеих столицах. При этом видно, что концовка списка более «живая»: для каждого города выделяются более характерные жанры, которые действительно меняют свои позиции в зависимости от дня недели и времени."
   ]
  },
  {
   "cell_type": "markdown",
   "metadata": {
    "colab_type": "text",
    "deletable": false,
    "editable": false,
    "id": "D7YMmgKRw270",
    "tags": [
     "f363205e-76b1-4883-abf1-bf21c9572dc7"
    ]
   },
   "source": [
    "# Москва и Питер — две разные столицы, два разных направления в музыке. Правда?"
   ]
  },
  {
   "cell_type": "markdown",
   "metadata": {
    "colab_type": "text",
    "deletable": false,
    "id": "Wc5srT13zb4Z"
   },
   "source": [
    "Гипотеза: Питер богат своей рэп-культурой, поэтому это направление там слушают чаще, а Москва — город контрастов, но основная масса пользователей слушает попсу.\n",
    "\n"
   ]
  },
  {
   "cell_type": "markdown",
   "metadata": {
    "colab_type": "text",
    "deletable": false,
    "id": "2SFE9_RV2KEL"
   },
   "source": [
    "Сгруппируем таблицу *moscow_general* по жанру, сосчитаем численность композиций каждого жанра методом *count()*, отсортируем в порядке убывания и сохраним результат в таблице *moscow_genres*.\n",
    "\n",
    "Просмотрим первые 10 строк этой новой таблицы."
   ]
  },
  {
   "cell_type": "code",
   "execution_count": 171,
   "metadata": {
    "colab": {},
    "colab_type": "code",
    "deletable": false,
    "id": "OohoTcsYBheo"
   },
   "outputs": [],
   "source": [
    "moscow_genres = moscow_general.groupby('genre_name')['genre_name'].count().sort_values(ascending = False)\n",
    "# одной строкой: группировка таблицы moscow_general по столбцу 'genre_name', \n",
    "# подсчёт числа значений 'genre_name' в этой группировке методом count(), \n",
    "# сортировка Series в порядке убывания и сохранение в moscow_genres"
   ]
  },
  {
   "cell_type": "code",
   "execution_count": 172,
   "metadata": {
    "colab": {},
    "colab_type": "code",
    "deletable": false,
    "id": "h7IhIKDrBher"
   },
   "outputs": [
    {
     "name": "stdout",
     "output_type": "stream",
     "text": [
      "genre_name\n",
      "pop            5892\n",
      "dance          4435\n",
      "rock           3965\n",
      "electronic     3786\n",
      "hiphop         2096\n",
      "classical      1616\n",
      "world          1432\n",
      "alternative    1379\n",
      "ruspop         1372\n",
      "rusrap         1161\n",
      "Name: genre_name, dtype: int64\n"
     ]
    }
   ],
   "source": [
    "print(moscow_genres.head(10))# <просмотр первых 10 строк moscow_genres>"
   ]
  },
  {
   "cell_type": "markdown",
   "metadata": {
    "colab_type": "text",
    "deletable": false,
    "editable": false,
    "id": "gjnf0lol2fUy",
    "tags": [
     "f7503a48-1b28-483d-9f7b-bae79fb182b5"
    ]
   },
   "source": [
    "Сгруппируем таблицу *spb_general* по жанру, сосчитаем численность композиций каждого жанра методом *count()*, отсортируем в порядке убывания и сохраним результат в таблице *spb_genres*.\n",
    "\n",
    "Просматриваем первые 10 строк этой таблицы. Теперь можно сравнивать два города."
   ]
  },
  {
   "cell_type": "code",
   "execution_count": 173,
   "metadata": {
    "colab": {},
    "colab_type": "code",
    "deletable": false,
    "id": "eQrdA85dB1LO"
   },
   "outputs": [],
   "source": [
    "spb_genres = spb_general.groupby('genre_name')['genre_name'].count().sort_values(ascending = False) # <группировка таблицы spb_general, расчёт, сохранение в spb_genres>"
   ]
  },
  {
   "cell_type": "code",
   "execution_count": 174,
   "metadata": {
    "colab": {},
    "colab_type": "code",
    "deletable": false,
    "id": "AE-Z-1wCB1LS",
    "scrolled": true
   },
   "outputs": [
    {
     "name": "stdout",
     "output_type": "stream",
     "text": [
      "genre_name\n",
      "pop            2431\n",
      "dance          1932\n",
      "rock           1879\n",
      "electronic     1736\n",
      "hiphop          960\n",
      "alternative     649\n",
      "classical       646\n",
      "rusrap          564\n",
      "ruspop          538\n",
      "world           515\n",
      "Name: genre_name, dtype: int64\n"
     ]
    }
   ],
   "source": [
    "print(spb_genres.head(10))# <просмотр первых 10 строк spb_genres>"
   ]
  },
  {
   "cell_type": "markdown",
   "metadata": {
    "colab_type": "text",
    "deletable": false,
    "id": "J5E-kLgK2piO"
   },
   "source": [
    "**Вывод**"
   ]
  },
  {
   "cell_type": "markdown",
   "metadata": {
    "colab_type": "text",
    "deletable": false,
    "id": "-9R3-Qh02tNt"
   },
   "source": [
    "В Москве, кроме абсолютно популярного жанра поп, есть направление русской популярной музыки. Значит, что интерес к этому жанру шире. А рэп, вопреки предположению, занимает в обоих городах близкие позиции."
   ]
  },
  {
   "cell_type": "markdown",
   "metadata": {
    "colab_type": "text",
    "deletable": false,
    "editable": false,
    "id": "gLlT9nKMQ3ky",
    "tags": [
     "0d44c8c0-390b-4c9e-b797-ddc3993f6e58"
    ]
   },
   "source": [
    "# Этап 4. Результаты исследования\n"
   ]
  },
  {
   "cell_type": "markdown",
   "metadata": {
    "colab_type": "text",
    "deletable": false,
    "id": "GtvyRBbD7dv5"
   },
   "source": [
    "Рабочие гипотезы:\n",
    "\n",
    "* музыку в двух городах — Москве и Санкт-Петербурге — слушают в разном режиме;\n",
    "\n",
    "* списки десяти самых популярных жанров утром в понедельник и вечером в пятницу имеют характерные отличия;\n",
    "\n",
    "* население двух городов предпочитает разные музыкальные жанры.\n",
    "\n",
    "**Общие результаты**\n",
    "\n",
    "Москва и Петербург сходятся во вкусах: везде преобладает популярная музыка. При этом зависимости предпочтений от дня недели в каждом отдельном городе нет — люди постоянно слушают то, что им нравится. Но между городами в разрезе дней неделей наблюдается зеркальность относительно среды: Москва больше слушает в понедельник и пятницу, а Петербург наоборот - больше в среду, но меньше в понедельник и пятницу.\n",
    "\n",
    "В результате первая гипотеза подтверждена, вторая гипотеза не подтверждена  и третья не подтверждена."
   ]
  }
 ],
 "metadata": {
  "ExecuteTimeLog": [
   {
    "duration": 490,
    "start_time": "2021-06-21T18:24:32.834Z"
   },
   {
    "duration": 60,
    "start_time": "2021-06-21T18:25:06.841Z"
   },
   {
    "duration": 125,
    "start_time": "2021-06-21T18:25:24.860Z"
   },
   {
    "duration": 129,
    "start_time": "2021-06-21T18:25:32.180Z"
   },
   {
    "duration": 16,
    "start_time": "2021-06-21T18:25:47.978Z"
   },
   {
    "duration": 22,
    "start_time": "2021-06-21T18:28:08.054Z"
   },
   {
    "duration": 5,
    "start_time": "2021-06-21T18:39:35.033Z"
   },
   {
    "duration": 3,
    "start_time": "2021-06-21T18:43:29.644Z"
   },
   {
    "duration": 4,
    "start_time": "2021-06-21T18:43:34.670Z"
   },
   {
    "duration": 3,
    "start_time": "2021-06-21T18:43:38.198Z"
   },
   {
    "duration": 22,
    "start_time": "2021-06-21T18:47:20.954Z"
   },
   {
    "duration": 4364,
    "start_time": "2021-06-21T19:04:15.226Z"
   },
   {
    "duration": 208,
    "start_time": "2021-06-21T19:06:17.062Z"
   },
   {
    "duration": 556,
    "start_time": "2021-06-21T19:06:31.279Z"
   },
   {
    "duration": 127,
    "start_time": "2021-06-21T19:06:33.615Z"
   },
   {
    "duration": 16,
    "start_time": "2021-06-21T19:06:35.621Z"
   },
   {
    "duration": 24,
    "start_time": "2021-06-21T19:06:39.298Z"
   },
   {
    "duration": 3,
    "start_time": "2021-06-21T19:06:43.410Z"
   },
   {
    "duration": 3,
    "start_time": "2021-06-21T19:06:48.052Z"
   },
   {
    "duration": 3,
    "start_time": "2021-06-21T19:06:50.861Z"
   },
   {
    "duration": 22,
    "start_time": "2021-06-21T19:06:53.734Z"
   },
   {
    "duration": 4251,
    "start_time": "2021-06-21T19:06:58.709Z"
   },
   {
    "duration": 8,
    "start_time": "2021-06-21T19:07:42.508Z"
   },
   {
    "duration": 9,
    "start_time": "2021-06-21T19:07:54.968Z"
   },
   {
    "duration": 14,
    "start_time": "2021-06-21T19:08:14.257Z"
   },
   {
    "duration": 22,
    "start_time": "2021-06-21T19:08:37.767Z"
   },
   {
    "duration": 7,
    "start_time": "2021-06-21T19:10:00.181Z"
   },
   {
    "duration": 23,
    "start_time": "2021-06-21T19:10:08.518Z"
   },
   {
    "duration": 57,
    "start_time": "2021-06-21T19:10:52.691Z"
   },
   {
    "duration": 65,
    "start_time": "2021-06-21T19:11:37.222Z"
   },
   {
    "duration": 51,
    "start_time": "2021-06-21T19:11:43.244Z"
   },
   {
    "duration": 5,
    "start_time": "2021-06-21T19:20:05.532Z"
   },
   {
    "duration": 57,
    "start_time": "2021-06-21T19:31:27.013Z"
   },
   {
    "duration": 55,
    "start_time": "2021-06-21T19:32:50.525Z"
   },
   {
    "duration": 59,
    "start_time": "2021-06-21T19:36:23.589Z"
   },
   {
    "duration": 72,
    "start_time": "2021-06-21T19:36:47.067Z"
   },
   {
    "duration": 65,
    "start_time": "2021-06-21T19:36:56.395Z"
   },
   {
    "duration": 314,
    "start_time": "2021-06-21T19:37:07.272Z"
   },
   {
    "duration": 4,
    "start_time": "2021-06-21T19:37:22.321Z"
   },
   {
    "duration": 351,
    "start_time": "2021-06-21T19:37:56.958Z"
   },
   {
    "duration": 3,
    "start_time": "2021-06-21T19:38:20.750Z"
   },
   {
    "duration": 3,
    "start_time": "2021-06-21T19:38:23.450Z"
   },
   {
    "duration": 322,
    "start_time": "2021-06-21T19:38:25.871Z"
   },
   {
    "duration": 3,
    "start_time": "2021-06-21T19:38:59.402Z"
   },
   {
    "duration": 365,
    "start_time": "2021-06-21T19:39:02.869Z"
   },
   {
    "duration": 3,
    "start_time": "2021-06-21T19:39:22.897Z"
   },
   {
    "duration": 3,
    "start_time": "2021-06-21T19:39:25.594Z"
   },
   {
    "duration": 4,
    "start_time": "2021-06-21T19:39:49.951Z"
   },
   {
    "duration": 4,
    "start_time": "2021-06-21T19:40:17.468Z"
   },
   {
    "duration": 2,
    "start_time": "2021-06-21T19:42:07.363Z"
   },
   {
    "duration": 3,
    "start_time": "2021-06-21T19:42:10.598Z"
   },
   {
    "duration": 3,
    "start_time": "2021-06-21T19:42:14.836Z"
   },
   {
    "duration": 4,
    "start_time": "2021-06-21T19:42:20.798Z"
   },
   {
    "duration": 3,
    "start_time": "2021-06-21T19:42:41.400Z"
   },
   {
    "duration": 3,
    "start_time": "2021-06-21T19:43:29.580Z"
   },
   {
    "duration": 3,
    "start_time": "2021-06-21T19:43:43.480Z"
   },
   {
    "duration": 177,
    "start_time": "2021-06-21T19:44:04.816Z"
   },
   {
    "duration": 3,
    "start_time": "2021-06-21T19:44:15.609Z"
   },
   {
    "duration": 3,
    "start_time": "2021-06-21T19:44:39.668Z"
   },
   {
    "duration": 3,
    "start_time": "2021-06-21T19:44:43.252Z"
   },
   {
    "duration": 5,
    "start_time": "2021-06-21T19:45:24.127Z"
   },
   {
    "duration": 6,
    "start_time": "2021-06-21T19:45:38.013Z"
   },
   {
    "duration": 4,
    "start_time": "2021-06-21T19:47:54.449Z"
   },
   {
    "duration": 3,
    "start_time": "2021-06-21T19:47:59.676Z"
   },
   {
    "duration": 3,
    "start_time": "2021-06-21T19:48:40.473Z"
   },
   {
    "duration": 3,
    "start_time": "2021-06-21T19:48:43.393Z"
   },
   {
    "duration": 574,
    "start_time": "2021-06-21T19:48:45.395Z"
   },
   {
    "duration": 79,
    "start_time": "2021-06-21T19:50:09.051Z"
   },
   {
    "duration": 3,
    "start_time": "2021-06-21T19:50:21.499Z"
   },
   {
    "duration": 369,
    "start_time": "2021-06-21T19:50:30.022Z"
   },
   {
    "duration": 56,
    "start_time": "2021-06-21T19:52:25.280Z"
   },
   {
    "duration": 3,
    "start_time": "2021-06-21T19:55:23.652Z"
   },
   {
    "duration": 357,
    "start_time": "2021-06-21T19:55:32.071Z"
   },
   {
    "duration": 4,
    "start_time": "2021-06-21T19:57:04.055Z"
   },
   {
    "duration": 4,
    "start_time": "2021-06-21T19:57:08.451Z"
   },
   {
    "duration": 4,
    "start_time": "2021-06-21T19:57:24.266Z"
   },
   {
    "duration": 55,
    "start_time": "2021-06-21T19:57:41.860Z"
   },
   {
    "duration": 2,
    "start_time": "2021-06-21T19:58:38.618Z"
   },
   {
    "duration": 344,
    "start_time": "2021-06-21T19:58:44.111Z"
   },
   {
    "duration": 640,
    "start_time": "2021-06-21T20:00:08.825Z"
   },
   {
    "duration": 3,
    "start_time": "2021-06-21T20:00:20.876Z"
   },
   {
    "duration": 330,
    "start_time": "2021-06-21T20:00:27.722Z"
   },
   {
    "duration": 3,
    "start_time": "2021-06-21T20:01:11.280Z"
   },
   {
    "duration": 4,
    "start_time": "2021-06-21T20:01:15.028Z"
   },
   {
    "duration": 334,
    "start_time": "2021-06-21T20:01:18.346Z"
   },
   {
    "duration": 63,
    "start_time": "2021-06-21T20:01:57.994Z"
   },
   {
    "duration": 3,
    "start_time": "2021-06-21T20:02:10.817Z"
   },
   {
    "duration": 337,
    "start_time": "2021-06-21T20:02:19.667Z"
   },
   {
    "duration": 3,
    "start_time": "2021-06-21T20:03:09.124Z"
   },
   {
    "duration": 340,
    "start_time": "2021-06-21T20:03:14.225Z"
   },
   {
    "duration": 3,
    "start_time": "2021-06-21T20:04:12.387Z"
   },
   {
    "duration": 4,
    "start_time": "2021-06-21T20:04:18.123Z"
   },
   {
    "duration": 3,
    "start_time": "2021-06-21T20:04:23.530Z"
   },
   {
    "duration": 3,
    "start_time": "2021-06-21T20:04:27.191Z"
   },
   {
    "duration": 4,
    "start_time": "2021-06-21T20:04:30.619Z"
   },
   {
    "duration": 4,
    "start_time": "2021-06-21T20:04:42.460Z"
   },
   {
    "duration": 3,
    "start_time": "2021-06-21T20:04:45.281Z"
   },
   {
    "duration": 337,
    "start_time": "2021-06-21T20:04:46.825Z"
   },
   {
    "duration": 3,
    "start_time": "2021-06-21T20:06:04.141Z"
   },
   {
    "duration": 334,
    "start_time": "2021-06-21T20:06:08.793Z"
   },
   {
    "duration": 3,
    "start_time": "2021-06-21T20:07:17.336Z"
   },
   {
    "duration": 4,
    "start_time": "2021-06-21T20:07:20.075Z"
   },
   {
    "duration": 4,
    "start_time": "2021-06-21T20:07:25.058Z"
   },
   {
    "duration": 4,
    "start_time": "2021-06-21T20:07:28.039Z"
   },
   {
    "duration": 3,
    "start_time": "2021-06-21T20:07:40.829Z"
   },
   {
    "duration": 341,
    "start_time": "2021-06-21T20:07:43.292Z"
   },
   {
    "duration": 4,
    "start_time": "2021-06-21T20:09:21.384Z"
   },
   {
    "duration": 347,
    "start_time": "2021-06-21T20:09:25.731Z"
   },
   {
    "duration": 3,
    "start_time": "2021-06-21T20:10:17.480Z"
   },
   {
    "duration": 349,
    "start_time": "2021-06-21T20:10:20.817Z"
   },
   {
    "duration": 3,
    "start_time": "2021-06-21T20:11:22.885Z"
   },
   {
    "duration": 5,
    "start_time": "2021-06-21T20:11:39.219Z"
   },
   {
    "duration": 5,
    "start_time": "2021-06-21T20:11:42.928Z"
   },
   {
    "duration": 4,
    "start_time": "2021-06-21T20:11:46.363Z"
   },
   {
    "duration": 4,
    "start_time": "2021-06-21T20:13:02.029Z"
   },
   {
    "duration": 4,
    "start_time": "2021-06-21T20:13:05.136Z"
   },
   {
    "duration": 4,
    "start_time": "2021-06-21T20:13:06.635Z"
   },
   {
    "duration": 3,
    "start_time": "2021-06-21T20:13:20.485Z"
   },
   {
    "duration": 327,
    "start_time": "2021-06-21T20:13:23.782Z"
   },
   {
    "duration": 3,
    "start_time": "2021-06-21T20:15:47.724Z"
   },
   {
    "duration": 352,
    "start_time": "2021-06-21T20:16:00.989Z"
   },
   {
    "duration": 3,
    "start_time": "2021-06-21T20:16:49.337Z"
   },
   {
    "duration": 323,
    "start_time": "2021-06-21T20:17:25.461Z"
   },
   {
    "duration": 3,
    "start_time": "2021-06-21T20:17:37.966Z"
   },
   {
    "duration": 345,
    "start_time": "2021-06-21T20:17:45.352Z"
   },
   {
    "duration": 2,
    "start_time": "2021-06-21T20:17:55.679Z"
   },
   {
    "duration": 489,
    "start_time": "2021-06-21T20:17:59.708Z"
   },
   {
    "duration": 3,
    "start_time": "2021-06-21T20:18:28.365Z"
   },
   {
    "duration": 4,
    "start_time": "2021-06-21T20:18:32.682Z"
   },
   {
    "duration": 4,
    "start_time": "2021-06-21T20:18:36.515Z"
   },
   {
    "duration": 3,
    "start_time": "2021-06-21T20:18:47.969Z"
   },
   {
    "duration": 3,
    "start_time": "2021-06-21T20:18:49.929Z"
   },
   {
    "duration": 4,
    "start_time": "2021-06-21T20:18:52.410Z"
   },
   {
    "duration": 4,
    "start_time": "2021-06-21T20:18:53.542Z"
   },
   {
    "duration": 4,
    "start_time": "2021-06-21T20:18:55.606Z"
   },
   {
    "duration": 58,
    "start_time": "2021-06-21T20:19:29.269Z"
   },
   {
    "duration": 3,
    "start_time": "2021-06-21T20:19:40.154Z"
   },
   {
    "duration": 4,
    "start_time": "2021-06-21T20:19:47.141Z"
   },
   {
    "duration": 4,
    "start_time": "2021-06-21T20:19:54.595Z"
   },
   {
    "duration": 4,
    "start_time": "2021-06-21T20:21:34.521Z"
   },
   {
    "duration": 3,
    "start_time": "2021-06-21T20:21:47.234Z"
   },
   {
    "duration": 4,
    "start_time": "2021-06-21T20:21:51.218Z"
   },
   {
    "duration": 5,
    "start_time": "2021-06-21T20:22:27.011Z"
   },
   {
    "duration": 3,
    "start_time": "2021-06-21T20:22:30.210Z"
   },
   {
    "duration": 3,
    "start_time": "2021-06-21T20:22:40.806Z"
   },
   {
    "duration": 60,
    "start_time": "2021-06-21T20:23:24.097Z"
   },
   {
    "duration": 62,
    "start_time": "2021-06-21T20:23:35.700Z"
   },
   {
    "duration": 3,
    "start_time": "2021-06-21T20:23:48.423Z"
   },
   {
    "duration": 3,
    "start_time": "2021-06-21T20:23:52.042Z"
   },
   {
    "duration": 4,
    "start_time": "2021-06-21T20:23:58.060Z"
   },
   {
    "duration": 3,
    "start_time": "2021-06-21T20:24:11.469Z"
   },
   {
    "duration": 3,
    "start_time": "2021-06-21T20:26:13.721Z"
   },
   {
    "duration": 4,
    "start_time": "2021-06-21T20:26:20.635Z"
   },
   {
    "duration": 4,
    "start_time": "2021-06-21T20:26:23.364Z"
   },
   {
    "duration": 4,
    "start_time": "2021-06-21T20:28:02.071Z"
   },
   {
    "duration": 4,
    "start_time": "2021-06-21T20:28:50.907Z"
   },
   {
    "duration": 3,
    "start_time": "2021-06-21T20:36:02.974Z"
   },
   {
    "duration": 3,
    "start_time": "2021-06-21T20:36:33.280Z"
   },
   {
    "duration": 165,
    "start_time": "2021-06-21T20:36:52.230Z"
   },
   {
    "duration": 4,
    "start_time": "2021-06-21T20:37:33.016Z"
   },
   {
    "duration": 174,
    "start_time": "2021-06-21T20:37:35.282Z"
   },
   {
    "duration": 3,
    "start_time": "2021-06-21T20:39:21.407Z"
   },
   {
    "duration": 185,
    "start_time": "2021-06-21T20:39:29.917Z"
   },
   {
    "duration": 3,
    "start_time": "2021-06-21T20:40:02.756Z"
   },
   {
    "duration": 201,
    "start_time": "2021-06-21T20:40:05.890Z"
   },
   {
    "duration": 431,
    "start_time": "2021-06-21T20:40:41.638Z"
   },
   {
    "duration": 4,
    "start_time": "2021-06-21T20:41:08.728Z"
   },
   {
    "duration": 169,
    "start_time": "2021-06-21T20:41:32.197Z"
   },
   {
    "duration": 10,
    "start_time": "2021-06-21T20:41:51.352Z"
   },
   {
    "duration": 22,
    "start_time": "2021-06-21T20:42:13.007Z"
   },
   {
    "duration": 315,
    "start_time": "2021-06-22T07:25:15.717Z"
   },
   {
    "duration": 272,
    "start_time": "2021-06-22T07:25:55.052Z"
   },
   {
    "duration": 273,
    "start_time": "2021-06-22T07:26:03.579Z"
   },
   {
    "duration": 1056,
    "start_time": "2021-06-22T07:26:10.060Z"
   },
   {
    "duration": 174,
    "start_time": "2021-06-22T07:26:13.944Z"
   },
   {
    "duration": 26,
    "start_time": "2021-06-22T07:26:17.624Z"
   },
   {
    "duration": 663,
    "start_time": "2021-06-22T07:26:24.854Z"
   },
   {
    "duration": 5,
    "start_time": "2021-06-22T07:26:40.447Z"
   },
   {
    "duration": 4,
    "start_time": "2021-06-22T07:26:43.543Z"
   },
   {
    "duration": 5,
    "start_time": "2021-06-22T07:26:46.992Z"
   },
   {
    "duration": 28,
    "start_time": "2021-06-22T07:26:52.325Z"
   },
   {
    "duration": 23,
    "start_time": "2021-06-22T07:26:54.628Z"
   },
   {
    "duration": 11,
    "start_time": "2021-06-22T07:26:56.655Z"
   },
   {
    "duration": 32,
    "start_time": "2021-06-22T07:26:58.904Z"
   },
   {
    "duration": 11,
    "start_time": "2021-06-22T07:27:01.497Z"
   },
   {
    "duration": 32,
    "start_time": "2021-06-22T07:27:03.445Z"
   },
   {
    "duration": 83,
    "start_time": "2021-06-22T07:27:05.722Z"
   },
   {
    "duration": 96,
    "start_time": "2021-06-22T07:27:07.448Z"
   },
   {
    "duration": 77,
    "start_time": "2021-06-22T07:27:09.102Z"
   },
   {
    "duration": 7,
    "start_time": "2021-06-22T07:27:17.632Z"
   },
   {
    "duration": 4,
    "start_time": "2021-06-22T07:27:19.981Z"
   },
   {
    "duration": 5,
    "start_time": "2021-06-22T07:27:23.889Z"
   },
   {
    "duration": 4,
    "start_time": "2021-06-22T07:27:27.968Z"
   },
   {
    "duration": 14,
    "start_time": "2021-06-22T07:27:31.321Z"
   },
   {
    "duration": 17,
    "start_time": "2021-06-22T07:27:37.825Z"
   },
   {
    "duration": 304,
    "start_time": "2021-06-22T07:32:19.516Z"
   },
   {
    "duration": 4,
    "start_time": "2021-06-22T07:33:03.893Z"
   },
   {
    "duration": 5,
    "start_time": "2021-06-22T07:33:13.458Z"
   },
   {
    "duration": 4,
    "start_time": "2021-06-22T07:33:15.948Z"
   },
   {
    "duration": 27,
    "start_time": "2021-06-22T07:33:19.259Z"
   },
   {
    "duration": 12,
    "start_time": "2021-06-22T07:33:23.262Z"
   },
   {
    "duration": 11,
    "start_time": "2021-06-22T07:33:25.054Z"
   },
   {
    "duration": 27,
    "start_time": "2021-06-22T07:33:26.580Z"
   },
   {
    "duration": 8,
    "start_time": "2021-06-22T07:33:31.069Z"
   },
   {
    "duration": 26,
    "start_time": "2021-06-22T07:33:32.764Z"
   },
   {
    "duration": 74,
    "start_time": "2021-06-22T07:33:35.049Z"
   },
   {
    "duration": 92,
    "start_time": "2021-06-22T07:33:37.043Z"
   },
   {
    "duration": 73,
    "start_time": "2021-06-22T07:33:38.839Z"
   },
   {
    "duration": 7,
    "start_time": "2021-06-22T07:33:41.932Z"
   },
   {
    "duration": 4,
    "start_time": "2021-06-22T07:33:44.389Z"
   },
   {
    "duration": 5,
    "start_time": "2021-06-22T07:33:47.053Z"
   },
   {
    "duration": 5,
    "start_time": "2021-06-22T07:33:50.581Z"
   },
   {
    "duration": 4,
    "start_time": "2021-06-22T07:33:52.664Z"
   },
   {
    "duration": 13,
    "start_time": "2021-06-22T07:33:54.724Z"
   },
   {
    "duration": 30,
    "start_time": "2021-06-22T07:33:57.731Z"
   },
   {
    "duration": 14,
    "start_time": "2021-06-22T07:34:02.355Z"
   },
   {
    "duration": 14,
    "start_time": "2021-06-22T07:34:06.624Z"
   },
   {
    "duration": 99,
    "start_time": "2021-06-22T07:51:38.067Z"
   },
   {
    "duration": 4,
    "start_time": "2021-06-22T07:51:48.412Z"
   },
   {
    "duration": 292,
    "start_time": "2021-06-22T07:52:31.760Z"
   },
   {
    "duration": 336,
    "start_time": "2021-06-22T07:52:38.732Z"
   },
   {
    "duration": 345,
    "start_time": "2021-06-22T07:53:01.812Z"
   },
   {
    "duration": 289,
    "start_time": "2021-06-22T07:53:26.632Z"
   },
   {
    "duration": 293,
    "start_time": "2021-06-22T07:53:42.437Z"
   },
   {
    "duration": 1428,
    "start_time": "2021-06-22T07:54:29.904Z"
   },
   {
    "duration": 4,
    "start_time": "2021-06-22T07:55:25.811Z"
   },
   {
    "duration": 275,
    "start_time": "2021-06-22T07:55:29.682Z"
   },
   {
    "duration": 15,
    "start_time": "2021-06-22T07:55:42.178Z"
   },
   {
    "duration": 709,
    "start_time": "2021-06-22T07:56:05.420Z"
   },
   {
    "duration": 5,
    "start_time": "2021-06-22T07:56:23.078Z"
   },
   {
    "duration": 25,
    "start_time": "2021-06-22T07:56:28.129Z"
   },
   {
    "duration": 22,
    "start_time": "2021-06-22T08:06:07.107Z"
   },
   {
    "duration": 23,
    "start_time": "2021-06-22T08:06:42.527Z"
   },
   {
    "duration": 22,
    "start_time": "2021-06-22T08:08:06.606Z"
   },
   {
    "duration": 25,
    "start_time": "2021-06-22T08:08:10.576Z"
   },
   {
    "duration": 5,
    "start_time": "2021-06-22T08:17:46.934Z"
   },
   {
    "duration": 4,
    "start_time": "2021-06-22T08:17:50.712Z"
   },
   {
    "duration": 577,
    "start_time": "2021-06-22T08:17:53.624Z"
   },
   {
    "duration": 5,
    "start_time": "2021-06-22T08:18:09.215Z"
   },
   {
    "duration": 20,
    "start_time": "2021-06-22T08:18:12.204Z"
   },
   {
    "duration": 19,
    "start_time": "2021-06-22T08:18:18.445Z"
   },
   {
    "duration": 20,
    "start_time": "2021-06-22T08:18:56.529Z"
   },
   {
    "duration": 19,
    "start_time": "2021-06-22T08:18:59.429Z"
   },
   {
    "duration": 22,
    "start_time": "2021-06-22T08:19:11.052Z"
   },
   {
    "duration": 19,
    "start_time": "2021-06-22T08:27:19.109Z"
   },
   {
    "duration": 6,
    "start_time": "2021-06-22T08:27:54.851Z"
   },
   {
    "duration": 5,
    "start_time": "2021-06-22T08:27:58.726Z"
   },
   {
    "duration": 6,
    "start_time": "2021-06-22T08:28:07.396Z"
   },
   {
    "duration": 6,
    "start_time": "2021-06-22T08:28:09.290Z"
   },
   {
    "duration": 6,
    "start_time": "2021-06-22T08:28:11.114Z"
   },
   {
    "duration": 9,
    "start_time": "2021-06-22T08:28:36.513Z"
   },
   {
    "duration": 87,
    "start_time": "2021-06-22T08:32:13.828Z"
   },
   {
    "duration": 15,
    "start_time": "2021-06-22T08:32:55.627Z"
   },
   {
    "duration": 27,
    "start_time": "2021-06-22T08:33:29.670Z"
   },
   {
    "duration": 12,
    "start_time": "2021-06-22T08:40:03.711Z"
   },
   {
    "duration": 23,
    "start_time": "2021-06-22T08:40:20.453Z"
   },
   {
    "duration": 127,
    "start_time": "2021-06-22T09:07:38.964Z"
   },
   {
    "duration": 311,
    "start_time": "2021-06-22T09:07:54.966Z"
   },
   {
    "duration": 5,
    "start_time": "2021-06-22T09:08:25.738Z"
   },
   {
    "duration": 1624,
    "start_time": "2021-06-22T09:09:12.486Z"
   },
   {
    "duration": 6,
    "start_time": "2021-06-22T09:11:48.480Z"
   },
   {
    "duration": 1549,
    "start_time": "2021-06-22T09:11:54.268Z"
   },
   {
    "duration": 5,
    "start_time": "2021-06-22T09:12:52.798Z"
   },
   {
    "duration": 1508,
    "start_time": "2021-06-22T09:12:57.007Z"
   },
   {
    "duration": 2703,
    "start_time": "2021-06-22T09:13:11.588Z"
   },
   {
    "duration": 6,
    "start_time": "2021-06-22T09:14:44.997Z"
   },
   {
    "duration": 21,
    "start_time": "2021-06-22T09:14:55.944Z"
   },
   {
    "duration": 285,
    "start_time": "2021-06-22T09:15:30.232Z"
   },
   {
    "duration": 27,
    "start_time": "2021-06-22T09:15:39.347Z"
   },
   {
    "duration": 28,
    "start_time": "2021-06-22T09:19:51.794Z"
   },
   {
    "duration": 24,
    "start_time": "2021-06-22T09:21:45.252Z"
   },
   {
    "duration": 19,
    "start_time": "2021-06-22T09:21:53.797Z"
   },
   {
    "duration": 5,
    "start_time": "2021-06-22T09:24:09.888Z"
   },
   {
    "duration": 24,
    "start_time": "2021-06-22T09:24:13.849Z"
   },
   {
    "duration": 18,
    "start_time": "2021-06-22T09:24:18.500Z"
   },
   {
    "duration": 17,
    "start_time": "2021-06-22T09:56:47.331Z"
   },
   {
    "duration": 23,
    "start_time": "2021-06-22T09:58:14.430Z"
   },
   {
    "duration": 17,
    "start_time": "2021-06-22T09:58:21.661Z"
   },
   {
    "duration": 264,
    "start_time": "2021-06-22T10:01:24.556Z"
   },
   {
    "duration": 316,
    "start_time": "2021-06-22T10:03:21.275Z"
   },
   {
    "duration": 279,
    "start_time": "2021-06-22T10:03:35.640Z"
   },
   {
    "duration": 184,
    "start_time": "2021-06-22T10:05:32.361Z"
   },
   {
    "duration": 297,
    "start_time": "2021-06-22T10:06:01.470Z"
   },
   {
    "duration": 11,
    "start_time": "2021-06-22T10:06:59.619Z"
   },
   {
    "duration": 6,
    "start_time": "2021-06-22T10:07:31.016Z"
   },
   {
    "duration": 9,
    "start_time": "2021-06-22T10:08:21.297Z"
   },
   {
    "duration": 6,
    "start_time": "2021-06-22T10:08:40.089Z"
   },
   {
    "duration": 5,
    "start_time": "2021-06-22T10:17:30.609Z"
   },
   {
    "duration": 5,
    "start_time": "2021-06-22T10:17:39.287Z"
   },
   {
    "duration": 4,
    "start_time": "2021-06-22T10:17:42.962Z"
   },
   {
    "duration": 29,
    "start_time": "2021-06-22T10:17:55.444Z"
   },
   {
    "duration": 4,
    "start_time": "2021-06-22T10:18:10.967Z"
   },
   {
    "duration": 183,
    "start_time": "2021-06-22T10:18:13.158Z"
   },
   {
    "duration": 16,
    "start_time": "2021-06-22T10:18:15.374Z"
   },
   {
    "duration": 33,
    "start_time": "2021-06-22T10:18:22.020Z"
   },
   {
    "duration": 5,
    "start_time": "2021-06-22T10:18:31.963Z"
   },
   {
    "duration": 5,
    "start_time": "2021-06-22T10:18:36.643Z"
   },
   {
    "duration": 4,
    "start_time": "2021-06-22T10:18:39.216Z"
   },
   {
    "duration": 29,
    "start_time": "2021-06-22T10:18:44.961Z"
   },
   {
    "duration": 11,
    "start_time": "2021-06-22T10:19:10.723Z"
   },
   {
    "duration": 10,
    "start_time": "2021-06-22T10:19:20.930Z"
   },
   {
    "duration": 34,
    "start_time": "2021-06-22T10:19:23.198Z"
   },
   {
    "duration": 9,
    "start_time": "2021-06-22T10:19:36.243Z"
   },
   {
    "duration": 28,
    "start_time": "2021-06-22T10:19:38.187Z"
   },
   {
    "duration": 126,
    "start_time": "2021-06-22T10:19:42.525Z"
   },
   {
    "duration": 137,
    "start_time": "2021-06-22T10:19:50.486Z"
   },
   {
    "duration": 134,
    "start_time": "2021-06-22T10:19:53.291Z"
   },
   {
    "duration": 10,
    "start_time": "2021-06-22T10:20:04.324Z"
   },
   {
    "duration": 5,
    "start_time": "2021-06-22T10:20:26.416Z"
   },
   {
    "duration": 5,
    "start_time": "2021-06-22T10:20:30.703Z"
   },
   {
    "duration": 5,
    "start_time": "2021-06-22T10:20:33.375Z"
   },
   {
    "duration": 7,
    "start_time": "2021-06-22T10:20:35.948Z"
   },
   {
    "duration": 6,
    "start_time": "2021-06-22T10:20:59.701Z"
   },
   {
    "duration": 22,
    "start_time": "2021-06-22T10:21:03.395Z"
   },
   {
    "duration": 53,
    "start_time": "2021-06-22T10:21:07.295Z"
   },
   {
    "duration": 23,
    "start_time": "2021-06-22T10:21:25.686Z"
   },
   {
    "duration": 22,
    "start_time": "2021-06-22T10:21:43.002Z"
   },
   {
    "duration": 7,
    "start_time": "2021-06-22T10:21:57.439Z"
   },
   {
    "duration": 21,
    "start_time": "2021-06-22T10:22:03.658Z"
   },
   {
    "duration": 21,
    "start_time": "2021-06-22T10:22:08.146Z"
   },
   {
    "duration": 20,
    "start_time": "2021-06-22T10:22:12.939Z"
   },
   {
    "duration": 18,
    "start_time": "2021-06-22T10:22:16.601Z"
   },
   {
    "duration": 20,
    "start_time": "2021-06-22T10:22:19.407Z"
   },
   {
    "duration": 17,
    "start_time": "2021-06-22T10:22:22.334Z"
   },
   {
    "duration": 12,
    "start_time": "2021-06-22T10:22:37.668Z"
   },
   {
    "duration": 24,
    "start_time": "2021-06-22T10:23:05.393Z"
   },
   {
    "duration": 22,
    "start_time": "2021-06-22T10:23:07.725Z"
   },
   {
    "duration": 5,
    "start_time": "2021-06-22T10:23:30.179Z"
   },
   {
    "duration": 1307,
    "start_time": "2021-06-22T10:23:41.387Z"
   },
   {
    "duration": 17,
    "start_time": "2021-06-22T10:23:55.300Z"
   },
   {
    "duration": 941,
    "start_time": "2021-06-22T10:24:07.586Z"
   },
   {
    "duration": 25,
    "start_time": "2021-06-22T10:24:40.181Z"
   },
   {
    "duration": 25,
    "start_time": "2021-06-22T10:24:43.857Z"
   },
   {
    "duration": 24,
    "start_time": "2021-06-22T10:24:48.558Z"
   },
   {
    "duration": 24,
    "start_time": "2021-06-22T10:24:52.201Z"
   },
   {
    "duration": 5,
    "start_time": "2021-06-22T10:24:55.667Z"
   },
   {
    "duration": 25,
    "start_time": "2021-06-22T10:25:02.917Z"
   },
   {
    "duration": 19,
    "start_time": "2021-06-22T10:25:10.364Z"
   },
   {
    "duration": 23,
    "start_time": "2021-06-22T10:25:14.721Z"
   },
   {
    "duration": 19,
    "start_time": "2021-06-22T10:25:22.051Z"
   },
   {
    "duration": 12,
    "start_time": "2021-06-22T10:25:44.069Z"
   },
   {
    "duration": 6,
    "start_time": "2021-06-22T10:25:52.153Z"
   },
   {
    "duration": 8,
    "start_time": "2021-06-22T10:26:06.540Z"
   },
   {
    "duration": 6,
    "start_time": "2021-06-22T10:26:10.576Z"
   },
   {
    "duration": 4,
    "start_time": "2021-06-22T10:28:36.633Z"
   },
   {
    "duration": 4,
    "start_time": "2021-06-22T10:28:38.977Z"
   },
   {
    "duration": 26,
    "start_time": "2021-06-22T10:29:08.121Z"
   },
   {
    "duration": 11,
    "start_time": "2021-06-22T10:29:12.487Z"
   },
   {
    "duration": 11,
    "start_time": "2021-06-22T10:29:14.821Z"
   },
   {
    "duration": 27,
    "start_time": "2021-06-22T10:29:17.589Z"
   },
   {
    "duration": 1327,
    "start_time": "2021-06-22T10:30:36.504Z"
   },
   {
    "duration": 8,
    "start_time": "2021-06-22T10:31:08.095Z"
   },
   {
    "duration": 27,
    "start_time": "2021-06-22T10:31:12.163Z"
   },
   {
    "duration": 3,
    "start_time": "2021-06-22T10:31:49.115Z"
   },
   {
    "duration": 236,
    "start_time": "2021-06-22T10:31:51.175Z"
   },
   {
    "duration": 16,
    "start_time": "2021-06-22T10:31:53.710Z"
   },
   {
    "duration": 34,
    "start_time": "2021-06-22T10:31:58.601Z"
   },
   {
    "duration": 4,
    "start_time": "2021-06-22T10:32:05.432Z"
   },
   {
    "duration": 4,
    "start_time": "2021-06-22T10:32:12.157Z"
   },
   {
    "duration": 5,
    "start_time": "2021-06-22T10:32:14.202Z"
   },
   {
    "duration": 31,
    "start_time": "2021-06-22T10:32:20.091Z"
   },
   {
    "duration": 11,
    "start_time": "2021-06-22T10:32:25.188Z"
   },
   {
    "duration": 10,
    "start_time": "2021-06-22T10:32:28.842Z"
   },
   {
    "duration": 29,
    "start_time": "2021-06-22T10:32:31.902Z"
   },
   {
    "duration": 17,
    "start_time": "2021-06-22T10:32:36.445Z"
   },
   {
    "duration": 32,
    "start_time": "2021-06-22T10:32:38.679Z"
   },
   {
    "duration": 297,
    "start_time": "2021-06-22T10:33:37.633Z"
   },
   {
    "duration": 326,
    "start_time": "2021-06-22T10:33:58.670Z"
   },
   {
    "duration": 22,
    "start_time": "2021-06-22T10:35:36.176Z"
   },
   {
    "duration": 31,
    "start_time": "2021-06-22T10:35:40.875Z"
   },
   {
    "duration": 10,
    "start_time": "2021-06-22T10:37:42.856Z"
   },
   {
    "duration": 4,
    "start_time": "2021-06-22T10:37:49.156Z"
   },
   {
    "duration": 6,
    "start_time": "2021-06-22T10:37:52.308Z"
   },
   {
    "duration": 7,
    "start_time": "2021-06-22T10:37:54.738Z"
   },
   {
    "duration": 6,
    "start_time": "2021-06-22T10:37:56.945Z"
   },
   {
    "duration": 79,
    "start_time": "2021-06-22T10:38:30.157Z"
   },
   {
    "duration": 89,
    "start_time": "2021-06-22T10:38:34.014Z"
   },
   {
    "duration": 73,
    "start_time": "2021-06-22T10:38:36.375Z"
   },
   {
    "duration": 7,
    "start_time": "2021-06-22T10:38:40.852Z"
   },
   {
    "duration": 5,
    "start_time": "2021-06-22T10:38:54.820Z"
   },
   {
    "duration": 8,
    "start_time": "2021-06-22T10:39:21.505Z"
   },
   {
    "duration": 5,
    "start_time": "2021-06-22T10:39:24.498Z"
   },
   {
    "duration": 5,
    "start_time": "2021-06-22T10:40:56.217Z"
   },
   {
    "duration": 14,
    "start_time": "2021-06-22T10:41:00.404Z"
   },
   {
    "duration": 29,
    "start_time": "2021-06-22T10:41:02.904Z"
   },
   {
    "duration": 9,
    "start_time": "2021-06-22T10:42:24.037Z"
   },
   {
    "duration": 14,
    "start_time": "2021-06-22T10:43:11.642Z"
   },
   {
    "duration": 13,
    "start_time": "2021-06-22T10:43:27.356Z"
   },
   {
    "duration": 4,
    "start_time": "2021-06-22T10:43:32.114Z"
   },
   {
    "duration": 21,
    "start_time": "2021-06-22T10:43:35.586Z"
   },
   {
    "duration": 18,
    "start_time": "2021-06-22T10:43:47.132Z"
   },
   {
    "duration": 19,
    "start_time": "2021-06-22T10:44:03.172Z"
   },
   {
    "duration": 18,
    "start_time": "2021-06-22T10:44:28.235Z"
   },
   {
    "duration": 31,
    "start_time": "2021-06-22T10:44:32.159Z"
   },
   {
    "duration": 21,
    "start_time": "2021-06-22T10:44:34.594Z"
   },
   {
    "duration": 17,
    "start_time": "2021-06-22T10:44:37.466Z"
   },
   {
    "duration": 20,
    "start_time": "2021-06-22T10:45:21.758Z"
   },
   {
    "duration": 9,
    "start_time": "2021-06-22T10:45:25.805Z"
   }
  ],
  "kernelspec": {
   "display_name": "Python 3",
   "language": "python",
   "name": "python3"
  },
  "language_info": {
   "codemirror_mode": {
    "name": "ipython",
    "version": 3
   },
   "file_extension": ".py",
   "mimetype": "text/x-python",
   "name": "python",
   "nbconvert_exporter": "python",
   "pygments_lexer": "ipython3",
   "version": "3.8.8"
  },
  "toc": {
   "base_numbering": 1,
   "nav_menu": {},
   "number_sections": true,
   "sideBar": true,
   "skip_h1_title": true,
   "title_cell": "Table of Contents",
   "title_sidebar": "Contents",
   "toc_cell": false,
   "toc_position": {},
   "toc_section_display": true,
   "toc_window_display": false
  }
 },
 "nbformat": 4,
 "nbformat_minor": 1
}
