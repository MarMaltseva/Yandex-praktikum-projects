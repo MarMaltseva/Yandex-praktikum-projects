{
 "cells": [
  {
   "cell_type": "markdown",
   "metadata": {
    "toc": true
   },
   "source": [
    "<h1>Содержание<span class=\"tocSkip\"></span></h1>\n",
    "<div class=\"toc\"><ul class=\"toc-item\"><li><span><a href=\"#Изучение-данных-из-файла\" data-toc-modified-id=\"Изучение-данных-из-файла-1\"><span class=\"toc-item-num\">1&nbsp;&nbsp;</span>Изучение данных из файла</a></span><ul class=\"toc-item\"><li><span><a href=\"#Вывод\" data-toc-modified-id=\"Вывод-1.1\"><span class=\"toc-item-num\">1.1&nbsp;&nbsp;</span>Вывод</a></span></li></ul></li><li><span><a href=\"#Предобработка-данных\" data-toc-modified-id=\"Предобработка-данных-2\"><span class=\"toc-item-num\">2&nbsp;&nbsp;</span>Предобработка данных</a></span><ul class=\"toc-item\"><li><span><a href=\"#Вывод\" data-toc-modified-id=\"Вывод-2.1\"><span class=\"toc-item-num\">2.1&nbsp;&nbsp;</span>Вывод</a></span></li></ul></li><li><span><a href=\"#Расчёты-и-добавление-результатов-в-таблицу\" data-toc-modified-id=\"Расчёты-и-добавление-результатов-в-таблицу-3\"><span class=\"toc-item-num\">3&nbsp;&nbsp;</span>Расчёты и добавление результатов в таблицу</a></span></li><li><span><a href=\"#Исследовательский-анализ-данных\" data-toc-modified-id=\"Исследовательский-анализ-данных-4\"><span class=\"toc-item-num\">4&nbsp;&nbsp;</span>Исследовательский анализ данных</a></span></li><li><span><a href=\"#Общий-вывод\" data-toc-modified-id=\"Общий-вывод-5\"><span class=\"toc-item-num\">5&nbsp;&nbsp;</span>Общий вывод</a></span></li></ul></div>"
   ]
  },
  {
   "cell_type": "markdown",
   "metadata": {},
   "source": [
    "# Исследование объявлений о продаже квартир\n",
    "\n",
    "В нашем распоряжении данные сервиса Яндекс.Недвижимость — архив объявлений о продаже квартир в Санкт-Петербурге и соседних населённых пунктах за несколько лет. Нужно научиться определять рыночную стоимость объектов недвижимости. Задача — установить параметры для создания автоматизированной системы отслеживания аномалий и мошеннической деятельности. \n",
    "\n",
    "По каждой квартире на продажу доступны два вида данных. Первые вписаны пользователем, вторые получены автоматически на основе картографических данных. Например, расстояние до центра, аэропорта, ближайшего парка и водоёма. "
   ]
  },
  {
   "cell_type": "markdown",
   "metadata": {},
   "source": [
    "## Изучение данных из файла"
   ]
  },
  {
   "cell_type": "code",
   "execution_count": 8,
   "metadata": {},
   "outputs": [
    {
     "name": "stdout",
     "output_type": "stream",
     "text": [
      "<class 'pandas.core.frame.DataFrame'>\n",
      "RangeIndex: 23699 entries, 0 to 23698\n",
      "Data columns (total 22 columns):\n",
      "total_images            23699 non-null int64\n",
      "last_price              23699 non-null float64\n",
      "total_area              23699 non-null float64\n",
      "first_day_exposition    23699 non-null object\n",
      "rooms                   23699 non-null int64\n",
      "ceiling_height          14504 non-null float64\n",
      "floors_total            23613 non-null float64\n",
      "living_area             21796 non-null float64\n",
      "floor                   23699 non-null int64\n",
      "is_apartment            2775 non-null object\n",
      "studio                  23699 non-null bool\n",
      "open_plan               23699 non-null bool\n",
      "kitchen_area            21421 non-null float64\n",
      "balcony                 12180 non-null float64\n",
      "locality_name           23650 non-null object\n",
      "airports_nearest        18157 non-null float64\n",
      "cityCenters_nearest     18180 non-null float64\n",
      "parks_around3000        18181 non-null float64\n",
      "parks_nearest           8079 non-null float64\n",
      "ponds_around3000        18181 non-null float64\n",
      "ponds_nearest           9110 non-null float64\n",
      "days_exposition         20518 non-null float64\n",
      "dtypes: bool(2), float64(14), int64(3), object(3)\n",
      "memory usage: 3.7+ MB\n"
     ]
    }
   ],
   "source": [
    "import pandas as pd\n",
    "data = pd.read_csv('/datasets/real_estate_data.csv', sep ='\\t')\n",
    "#print(data.head(5))\n",
    "data.info()"
   ]
  },
  {
   "cell_type": "markdown",
   "metadata": {},
   "source": [
    "### Вывод"
   ]
  },
  {
   "cell_type": "markdown",
   "metadata": {},
   "source": [
    "Каждый столбец содержит в себе информацию о параметре, характеризующем квартиру из архива объявлений о продаже квартир в Санкт-Петербурге и соседних населённых пунктах за несколько лет. По результатам первичного изучения полученных данных было обнаружено несколько проблем:\n",
    "1. некоторые типы данных распознаны неверно: параметр \"является ли недвижимость апартаментами\" был распознан как object, хотя должен был быть типа bool (Правда/Ложь), параметр \"дата публикации\" был распознан как object, хотя должен был быть datetime. Также параметры \"число парков/прудов в радиусе 3 км\" были распознаны как float, должны быть int и т.д.\n",
    "2. были обнаружены множество пропущенных значений в колонках ceiling_height,floors_total, balcony  и т.д., о которых будет более подробно сказано ниже.\n",
    "\n",
    "Следующий шаг будет направлен на подробное изучение и обработку пропущенных данных."
   ]
  },
  {
   "cell_type": "markdown",
   "metadata": {},
   "source": [
    "## Предобработка данных"
   ]
  },
  {
   "cell_type": "markdown",
   "metadata": {},
   "source": [
    "Второй шаг направлен на обработку пропущенных значений. В первую очередь прокомментируем основные столбцы, в которых есть наибольшее количеств пропусков:\n",
    "1. столбец 'is_apartment' имеет большее количество пропусков (88.3%) и представляет собой булев массив - можно предположить, что если информации по тому, что квартира является апартаменатми, нет, то квартира ими и не является - иначе владелец бы указал - такие пропуски имеет смысл заполнять, следуя простой логике;\n",
    "2. столбцы 'parks_nearest' и 'ponds_nearest', 'airports_nearest' и 'cityCenters_nearest' (23.3% - 65,9% пропущенных значений) требуют дополнительного анализа и, скорее всего, могут быть заполнены исходя из данных о населенном пункте;\n",
    "3. столбец 'balcony' содержит 48,6% пропущенных значений и может быть заполнен исходя из житейской логики - если наличие балкона не указано, скорее всего, его нет;\n",
    "4. столбец 'ceiling_height'имеет 38,8% пропущенных значений и может быть заполнен исходя из медианного значения, так как существуют общепринятые нормы, согласно которым высота потолка не может быть ниже 2.4 м, а максимальная высота, как правило, не превышает 3.6 м (округлим до 4 м, предположив, что мы о говорим о сталинских домах);\n",
    "5. столбец 'kitchen_area'(9.61%) может быть заполнен исходя из медианного значения площади квартиры;\n",
    "6. столбец 'living_area'(8.03% пропущенныхзначений) заполним медианным значением по количеству комнат;\n",
    "\n",
    "Пропущенные значения в оставшихся столбцах либо полностью отсутсвуют, либо их процент незначителен - это значит, что такими значениями можно пренебречь и, соответствнно, они могут быть удалены."
   ]
  },
  {
   "cell_type": "code",
   "execution_count": 9,
   "metadata": {},
   "outputs": [
    {
     "data": {
      "text/html": [
       "<div>\n",
       "<style scoped>\n",
       "    .dataframe tbody tr th:only-of-type {\n",
       "        vertical-align: middle;\n",
       "    }\n",
       "\n",
       "    .dataframe tbody tr th {\n",
       "        vertical-align: top;\n",
       "    }\n",
       "\n",
       "    .dataframe thead th {\n",
       "        text-align: right;\n",
       "    }\n",
       "</style>\n",
       "<table border=\"1\" class=\"dataframe\">\n",
       "  <thead>\n",
       "    <tr style=\"text-align: right;\">\n",
       "      <th></th>\n",
       "      <th>number</th>\n",
       "      <th>percent</th>\n",
       "    </tr>\n",
       "  </thead>\n",
       "  <tbody>\n",
       "    <tr>\n",
       "      <td>is_apartment</td>\n",
       "      <td>20924.0</td>\n",
       "      <td>88.29</td>\n",
       "    </tr>\n",
       "    <tr>\n",
       "      <td>parks_nearest</td>\n",
       "      <td>15620.0</td>\n",
       "      <td>65.91</td>\n",
       "    </tr>\n",
       "    <tr>\n",
       "      <td>ponds_nearest</td>\n",
       "      <td>14589.0</td>\n",
       "      <td>61.56</td>\n",
       "    </tr>\n",
       "    <tr>\n",
       "      <td>balcony</td>\n",
       "      <td>11519.0</td>\n",
       "      <td>48.61</td>\n",
       "    </tr>\n",
       "    <tr>\n",
       "      <td>ceiling_height</td>\n",
       "      <td>9195.0</td>\n",
       "      <td>38.80</td>\n",
       "    </tr>\n",
       "    <tr>\n",
       "      <td>airports_nearest</td>\n",
       "      <td>5542.0</td>\n",
       "      <td>23.38</td>\n",
       "    </tr>\n",
       "    <tr>\n",
       "      <td>cityCenters_nearest</td>\n",
       "      <td>5519.0</td>\n",
       "      <td>23.29</td>\n",
       "    </tr>\n",
       "    <tr>\n",
       "      <td>parks_around3000</td>\n",
       "      <td>5518.0</td>\n",
       "      <td>23.28</td>\n",
       "    </tr>\n",
       "    <tr>\n",
       "      <td>ponds_around3000</td>\n",
       "      <td>5518.0</td>\n",
       "      <td>23.28</td>\n",
       "    </tr>\n",
       "    <tr>\n",
       "      <td>days_exposition</td>\n",
       "      <td>3181.0</td>\n",
       "      <td>13.42</td>\n",
       "    </tr>\n",
       "    <tr>\n",
       "      <td>kitchen_area</td>\n",
       "      <td>2278.0</td>\n",
       "      <td>9.61</td>\n",
       "    </tr>\n",
       "    <tr>\n",
       "      <td>living_area</td>\n",
       "      <td>1903.0</td>\n",
       "      <td>8.03</td>\n",
       "    </tr>\n",
       "    <tr>\n",
       "      <td>floors_total</td>\n",
       "      <td>86.0</td>\n",
       "      <td>0.36</td>\n",
       "    </tr>\n",
       "    <tr>\n",
       "      <td>locality_name</td>\n",
       "      <td>49.0</td>\n",
       "      <td>0.21</td>\n",
       "    </tr>\n",
       "    <tr>\n",
       "      <td>first_day_exposition</td>\n",
       "      <td>0.0</td>\n",
       "      <td>0.00</td>\n",
       "    </tr>\n",
       "    <tr>\n",
       "      <td>last_price</td>\n",
       "      <td>0.0</td>\n",
       "      <td>0.00</td>\n",
       "    </tr>\n",
       "    <tr>\n",
       "      <td>total_area</td>\n",
       "      <td>0.0</td>\n",
       "      <td>0.00</td>\n",
       "    </tr>\n",
       "    <tr>\n",
       "      <td>studio</td>\n",
       "      <td>0.0</td>\n",
       "      <td>0.00</td>\n",
       "    </tr>\n",
       "    <tr>\n",
       "      <td>rooms</td>\n",
       "      <td>0.0</td>\n",
       "      <td>0.00</td>\n",
       "    </tr>\n",
       "    <tr>\n",
       "      <td>floor</td>\n",
       "      <td>0.0</td>\n",
       "      <td>0.00</td>\n",
       "    </tr>\n",
       "    <tr>\n",
       "      <td>open_plan</td>\n",
       "      <td>0.0</td>\n",
       "      <td>0.00</td>\n",
       "    </tr>\n",
       "    <tr>\n",
       "      <td>total_images</td>\n",
       "      <td>0.0</td>\n",
       "      <td>0.00</td>\n",
       "    </tr>\n",
       "  </tbody>\n",
       "</table>\n",
       "</div>"
      ],
      "text/plain": [
       "                       number  percent\n",
       "is_apartment          20924.0    88.29\n",
       "parks_nearest         15620.0    65.91\n",
       "ponds_nearest         14589.0    61.56\n",
       "balcony               11519.0    48.61\n",
       "ceiling_height         9195.0    38.80\n",
       "airports_nearest       5542.0    23.38\n",
       "cityCenters_nearest    5519.0    23.29\n",
       "parks_around3000       5518.0    23.28\n",
       "ponds_around3000       5518.0    23.28\n",
       "days_exposition        3181.0    13.42\n",
       "kitchen_area           2278.0     9.61\n",
       "living_area            1903.0     8.03\n",
       "floors_total             86.0     0.36\n",
       "locality_name            49.0     0.21\n",
       "first_day_exposition      0.0     0.00\n",
       "last_price                0.0     0.00\n",
       "total_area                0.0     0.00\n",
       "studio                    0.0     0.00\n",
       "rooms                     0.0     0.00\n",
       "floor                     0.0     0.00\n",
       "open_plan                 0.0     0.00\n",
       "total_images              0.0     0.00"
      ]
     },
     "execution_count": 9,
     "metadata": {},
     "output_type": "execute_result"
    }
   ],
   "source": [
    "data_count = data.isna().sum().sort_values(ascending = False)\n",
    "data_percent = (data_count /len(data))* 100\n",
    "data_missing = pd.DataFrame([data_count, data_percent]).T\n",
    "data_missing.columns =['number', 'percent']\n",
    "data_missing.round(2)"
   ]
  },
  {
   "cell_type": "markdown",
   "metadata": {},
   "source": [
    "В первую очередь разберемся со столбцом 'is_apartment' - так как апартаменты это достаточно специфический тип недвижимости, можно предположить, что владельцы указывают эту особенности квартиры, если она есть. Заменим пропущенные значения в данном столбце на False. Тип столбца - булев, что маркирует True наличие апартаментов и False их отсутствие. "
   ]
  },
  {
   "cell_type": "code",
   "execution_count": 10,
   "metadata": {},
   "outputs": [
    {
     "name": "stdout",
     "output_type": "stream",
     "text": [
      "Количество пропусков в колонке \"is_apartment\" до заполнения: 20924\n",
      "Количество пропусков в колонке \"is_apartment\" после заполнения: 0\n"
     ]
    }
   ],
   "source": [
    "#data['is_apartment'].value_counts()\n",
    "print('Количество пропусков в колонке \"is_apartment\" до заполнения:', data['is_apartment'].isna().sum())\n",
    "data['is_apartment'] = data['is_apartment'].fillna(0)\n",
    "print('Количество пропусков в колонке \"is_apartment\" после заполнения:', data['is_apartment'].isna().sum())"
   ]
  },
  {
   "cell_type": "markdown",
   "metadata": {},
   "source": [
    "Обрабатывая числовой столбец 'balcony', будем также следовать житейской логике: если наличие балкона не указано, скорее всего, он отсутствует. Соответственно, заполним такие пробелы обычным нулем."
   ]
  },
  {
   "cell_type": "code",
   "execution_count": 11,
   "metadata": {},
   "outputs": [
    {
     "name": "stdout",
     "output_type": "stream",
     "text": [
      "Количество пропусков в колонке \"balcony\" до заполнения: 11519\n",
      "Количество пропусков в колонке \"balcony\" после заполнения: 0\n"
     ]
    }
   ],
   "source": [
    "#data['balcony'].value_counts()\n",
    "print('Количество пропусков в колонке \"balcony\" до заполнения:', data['balcony'].isna().sum())\n",
    "data['balcony'] = data['balcony'].fillna(0)\n",
    "print('Количество пропусков в колонке \"balcony\" после заполнения:', data['balcony'].isna().sum())"
   ]
  },
  {
   "cell_type": "markdown",
   "metadata": {},
   "source": [
    "Следующий шаг предобработки - анализ столбца 'ceiling_height': при анализе уникальных значений столбца были выявлены некоторые странности: у нас есть максимальное значение - 100.0, которое выступает выбросом - потолок не может быть 100 м, кроме того, стоит сказать, что стандартное отклонение значительно отклоняется от среднего значения, что также свидетельсвует о выбросах и аномальных значениях."
   ]
  },
  {
   "cell_type": "code",
   "execution_count": 12,
   "metadata": {},
   "outputs": [
    {
     "data": {
      "text/plain": [
       "count    14504.000000\n",
       "mean         2.771499\n",
       "std          1.261056\n",
       "min          1.000000\n",
       "25%          2.520000\n",
       "50%          2.650000\n",
       "75%          2.800000\n",
       "max        100.000000\n",
       "Name: ceiling_height, dtype: float64"
      ]
     },
     "execution_count": 12,
     "metadata": {},
     "output_type": "execute_result"
    }
   ],
   "source": [
    "data['ceiling_height'].describe()"
   ]
  },
  {
   "cell_type": "markdown",
   "metadata": {},
   "source": [
    "Построим гистограму для анализа данных - можно увидеть, что из 14504 значений большая часть находится рамках условно \"хороших\" значений (от 2.5 до 4 м), однако обнаружено 91 \"плохое\" значение, выходящее за эти рамки. Для того, чтобы посчитать \"неискаженную\" медиану в дальнейшем, необходимо удалить эти аномальные значения."
   ]
  },
  {
   "cell_type": "code",
   "execution_count": 13,
   "metadata": {},
   "outputs": [
    {
     "data": {
      "text/plain": [
       "<matplotlib.axes._subplots.AxesSubplot at 0x7f4b559c38d0>"
      ]
     },
     "execution_count": 13,
     "metadata": {},
     "output_type": "execute_result"
    },
    {
     "data": {
      "image/png": "[encoded data removed]",
      "text/plain": [
       "<Figure size 432x288 with 1 Axes>"
      ]
     },
     "metadata": {
      "needs_background": "light"
     },
     "output_type": "display_data"
    }
   ],
   "source": [
    "len(data.query('ceiling_height < 2.3 or  ceiling_height > 4.0')) # таких \"фальшивых\" потолков у нас 91\n",
    "data['ceiling_height'].hist(bins = 20, range = (0.0, 10.0))"
   ]
  },
  {
   "cell_type": "code",
   "execution_count": 14,
   "metadata": {},
   "outputs": [
    {
     "name": "stdout",
     "output_type": "stream",
     "text": [
      "Количество пропусков в колонке \"ceiling_height\" после заполнения: 0\n"
     ]
    }
   ],
   "source": [
    "wrong_data = data.query('ceiling_height < 2.3 or  ceiling_height > 4.0').index\n",
    "data.drop(wrong_data, inplace = True) #удалим \"аномальные\" потолки\n",
    "#data['ceiling_height'].value_counts() # проверим правильность удаления\n",
    "groups_ceiling = data.groupby(['floor'])['ceiling_height'].transform('median')\n",
    "data['ceiling_height'] = data['ceiling_height'].fillna(groups_ceiling) # заполним пропущенные значения группировкой по этажам\n",
    "data[data['ceiling_height'].isnull()] # проверим результативность операции\n",
    "data['ceiling_height'] = data['ceiling_height'].fillna(data['ceiling_height'].median()) # осталось 4 пропуска - заполним их медианой по столбцу\n",
    "print('Количество пропусков в колонке \"ceiling_height\" после заполнения:', data['ceiling_height'].isna().sum())"
   ]
  },
  {
   "cell_type": "markdown",
   "metadata": {},
   "source": [
    "Далее разберемся со столбцом 'living_area' - заполним пропущенные значения медианой с группировкой по столбцу \"кол-во комнат\", так как предполагаем, что чем больше комнат, тем больше площадь квартиры."
   ]
  },
  {
   "cell_type": "code",
   "execution_count": 15,
   "metadata": {},
   "outputs": [
    {
     "name": "stdout",
     "output_type": "stream",
     "text": [
      "Количество пропусков в колонке \"living_area\" до заполнения: 1895\n",
      "Количество пропусков в колонке \"living_area\" после заполнения: 0\n"
     ]
    }
   ],
   "source": [
    "#data['living_area'].value_counts()\n",
    "print('Количество пропусков в колонке \"living_area\" до заполнения:', data['living_area'].isna().sum())\n",
    "groups_living_area = data.groupby(['rooms'])['living_area'].transform('median')\n",
    "data['living_area'] = data['living_area'].fillna(groups_living_area)\n",
    "print('Количество пропусков в колонке \"living_area\" после заполнения:', data['living_area'].isna().sum())"
   ]
  },
  {
   "cell_type": "markdown",
   "metadata": {},
   "source": [
    "Далее разберемся со столбцом 'kitchen_area' - заполним пропущенные значения медианой с группировкой по столбцу \"площадь квартиры\", так как предполагаем, что чем больше общая площадь, тем больше площадь кухни."
   ]
  },
  {
   "cell_type": "code",
   "execution_count": 16,
   "metadata": {},
   "outputs": [
    {
     "name": "stdout",
     "output_type": "stream",
     "text": [
      "Количество пропусков в колонке \"kitchen_area\" до заполнения: 2263\n",
      "Количество пропусков в колонке \"kitchen_area\" после заполнения: 0\n"
     ]
    }
   ],
   "source": [
    "#data['kitchen_area'].value_counts()\n",
    "print('Количество пропусков в колонке \"kitchen_area\" до заполнения:', data['kitchen_area'].isna().sum())\n",
    "groups_kitchen_area = data.groupby(['living_area'])['kitchen_area'].transform('median')\n",
    "data['kitchen_area'] = data['kitchen_area'].fillna(groups_kitchen_area)\n",
    "data['kitchen_area'] = data['kitchen_area'].fillna(data['kitchen_area'].median()) # осталось 64 пропуска\n",
    "print('Количество пропусков в колонке \"kitchen_area\" после заполнения:', data['kitchen_area'].isna().sum())"
   ]
  },
  {
   "cell_type": "markdown",
   "metadata": {},
   "source": [
    "Поработаем со столбцом 'locality_name'- переведем все слова в нижний регистр и заменим букву \"ё\" н \"е\", чтобы избавиться от проблемы \"посёлка/поселка\" и сократить список с 363 до 329 значений. Больше пропущенные значения мы заполнять не будем, так как реконструировать эту информацию мы не можем. "
   ]
  },
  {
   "cell_type": "code",
   "execution_count": 17,
   "metadata": {},
   "outputs": [
    {
     "data": {
      "text/plain": [
       "санкт-петербург           15659\n",
       "поселок мурино              554\n",
       "поселок шушары              440\n",
       "всеволожск                  396\n",
       "пушкин                      368\n",
       "                          ...  \n",
       "деревня меньково              1\n",
       "поселок петро-славянка        1\n",
       "поселок плоское               1\n",
       "поселок почап                 1\n",
       "село никольское               1\n",
       "Name: locality_name, Length: 329, dtype: int64"
      ]
     },
     "execution_count": 17,
     "metadata": {},
     "output_type": "execute_result"
    }
   ],
   "source": [
    "data['locality_name'].unique().tolist()#363 уникальных значения\n",
    "data['locality_name'] = data['locality_name'].str.lower()\n",
    "data['locality_name'] = data['locality_name'].str.replace('ё', 'е', regex=True)\n",
    "data['locality_name'].value_counts()"
   ]
  },
  {
   "cell_type": "markdown",
   "metadata": {},
   "source": [
    "Пропуски в столбце \"floors_total\" ввиду их небольшого количества (менее 1% или 86 наблюдений) будут нами заменены на 0."
   ]
  },
  {
   "cell_type": "code",
   "execution_count": 18,
   "metadata": {},
   "outputs": [
    {
     "name": "stdout",
     "output_type": "stream",
     "text": [
      "Количество пропусков в колонке \"floors_total\" до предобработки: 86\n",
      "Количество пропусков в колонке \"floors_total\" после удаления: 0\n"
     ]
    }
   ],
   "source": [
    "print('Количество пропусков в колонке \"floors_total\" до предобработки:', data['floors_total'].isna().sum())\n",
    "data = data.dropna(subset=['floors_total'])\n",
    "print('Количество пропусков в колонке \"floors_total\" после удаления:', data['floors_total'].isna().sum())"
   ]
  },
  {
   "cell_type": "markdown",
   "metadata": {},
   "source": [
    "Стобцы 'parks_nearest' и 'ponds_nearest' не могут быть полностью нами проигнорированы, так как процент пропущенных значений больше 60%. В связи с этим заполним эти значения исходя из медианы по населенному пункту, признавая такой заполнение достаточно условным в силу того, что разные районы одного города могу иметь совершенно разные значения (если мы говорим о крупном городе)."
   ]
  },
  {
   "cell_type": "code",
   "execution_count": 27,
   "metadata": {},
   "outputs": [
    {
     "name": "stdout",
     "output_type": "stream",
     "text": [
      "Количество пропусков в колонке \"parks_nearest\" до заполнения: 0\n",
      "Количество пропусков в колонке \"parks_nearest\" после заполнения: 0\n"
     ]
    }
   ],
   "source": [
    "#data['parks_nearest'].value_counts()\n",
    "print('Количество пропусков в колонке \"parks_nearest\" до заполнения:', data['parks_nearest'].isna().sum())\n",
    "groups_parks_nearest = data.groupby(['locality_name'])['parks_nearest'].transform('median')\n",
    "data['parks_nearest'] = data['parks_nearest'].fillna(groups_parks_nearest)# осталось 6006 пропусков\n",
    "data['parks_nearest'] = data['parks_nearest'].fillna(data['parks_nearest'].median()) \n",
    "print('Количество пропусков в колонке \"parks_nearest\" после заполнения:', data['parks_nearest'].isna().sum()) #заполним медианой по столбцу"
   ]
  },
  {
   "cell_type": "code",
   "execution_count": 26,
   "metadata": {},
   "outputs": [
    {
     "name": "stdout",
     "output_type": "stream",
     "text": [
      "Количество пропусков в колонке \"ponds_nearest\" до заполнения: 0\n",
      "Количество пропусков в колонке \"ponds_nearest\" после заполнения: 0\n"
     ]
    }
   ],
   "source": [
    "#data['ponds_nearest'].value_counts()\n",
    "print('Количество пропусков в колонке \"ponds_nearest\" до заполнения:', data['ponds_nearest'].isna().sum())\n",
    "groups_ponds_nearest = data.groupby(['locality_name'])['ponds_nearest'].transform('median')\n",
    "data['ponds_nearest'] = data['ponds_nearest'].fillna(groups_ponds_nearest)# осталось 6006 пропусков\n",
    "data['ponds_nearest'] = data['ponds_nearest'].fillna(data['ponds_nearest'].median()) \n",
    "print('Количество пропусков в колонке \"ponds_nearest\" после заполнения:', data['ponds_nearest'].isna().sum()) #заполним медианой по столбцу"
   ]
  },
  {
   "cell_type": "code",
   "execution_count": 25,
   "metadata": {},
   "outputs": [
    {
     "name": "stdout",
     "output_type": "stream",
     "text": [
      "Количество пропусков в колонке \"cityCenters_nearest\" до заполнения: 0\n",
      "Количество пропусков в колонке \"cityCenters_nearest\" после заполнения: 0\n"
     ]
    }
   ],
   "source": [
    "#data['cityCenters_nearest'].value_counts()\n",
    "print('Количество пропусков в колонке \"cityCenters_nearest\" до заполнения:', data['cityCenters_nearest'].isna().sum())\n",
    "groups_cityCenters_nearest = data.groupby(['locality_name'])['cityCenters_nearest'].transform('median')\n",
    "data['cityCenters_nearest'] = data['cityCenters_nearest'].fillna(groups_cityCenters_nearest)# осталось 6006 пропусков\n",
    "data['cityCenters_nearest'] = data['cityCenters_nearest'].fillna(data['cityCenters_nearest'].median()) \n",
    "print('Количество пропусков в колонке \"cityCenters_nearest\" после заполнения:', data['cityCenters_nearest'].isna().sum()) #заполним медианой по столбцу"
   ]
  },
  {
   "cell_type": "code",
   "execution_count": 23,
   "metadata": {},
   "outputs": [
    {
     "name": "stdout",
     "output_type": "stream",
     "text": [
      "Количество пропусков в колонке \"airports_nearest\" до заполнения: 5504\n",
      "Количество пропусков в колонке \"airports_nearest\" после заполнения: 0\n"
     ]
    }
   ],
   "source": [
    "#data['airports_nearest'].value_counts()\n",
    "print('Количество пропусков в колонке \"airports_nearest\" до заполнения:', data['airports_nearest'].isna().sum())\n",
    "groups_airports_nearest = data.groupby(['locality_name'])['airports_nearest'].transform('median')\n",
    "data['airports_nearest'] = data['airports_nearest'].fillna(groups_airports_nearest)# осталось 6006 пропусков\n",
    "data['airports_nearest'] = data['airports_nearest'].fillna(data['airports_nearest'].median()) \n",
    "print('Количество пропусков в колонке \"airports_nearest\" после заполнения:', data['airports_nearest'].isna().sum()) #заполним медианой по столбцу"
   ]
  },
  {
   "cell_type": "markdown",
   "metadata": {},
   "source": [
    "Большинство пропущенных значений нами было заполнено, некоторые пропущенные значения нами были пропущены - например, days_exposition, где мы не можем реконструировать данные и ponds/parks_around3000, где группировка по населенному пункту также кажется неинформативной и \"привязанной\"."
   ]
  },
  {
   "cell_type": "code",
   "execution_count": 28,
   "metadata": {},
   "outputs": [
    {
     "name": "stdout",
     "output_type": "stream",
     "text": [
      "<class 'pandas.core.frame.DataFrame'>\n",
      "Int64Index: 23522 entries, 0 to 23698\n",
      "Data columns (total 22 columns):\n",
      "total_images            23522 non-null int64\n",
      "last_price              23522 non-null float64\n",
      "total_area              23522 non-null float64\n",
      "first_day_exposition    23522 non-null object\n",
      "rooms                   23522 non-null int64\n",
      "ceiling_height          23522 non-null float64\n",
      "floors_total            23522 non-null float64\n",
      "living_area             23522 non-null float64\n",
      "floor                   23522 non-null int64\n",
      "is_apartment            23522 non-null object\n",
      "studio                  23522 non-null bool\n",
      "open_plan               23522 non-null bool\n",
      "kitchen_area            23522 non-null float64\n",
      "balcony                 23522 non-null float64\n",
      "locality_name           23474 non-null object\n",
      "airports_nearest        23522 non-null float64\n",
      "cityCenters_nearest     23522 non-null float64\n",
      "parks_around3000        18039 non-null float64\n",
      "parks_nearest           23522 non-null float64\n",
      "ponds_around3000        18039 non-null float64\n",
      "ponds_nearest           23522 non-null float64\n",
      "days_exposition         20367 non-null float64\n",
      "dtypes: bool(2), float64(14), int64(3), object(3)\n",
      "memory usage: 3.8+ MB\n"
     ]
    }
   ],
   "source": [
    "data.info()"
   ]
  },
  {
   "cell_type": "markdown",
   "metadata": {},
   "source": [
    "Следующим шагом предобработки будет приведение типов данных к правильным. В первую очередь приведем столбец first_day_exposition от текстового типа к типу даты, без времени."
   ]
  },
  {
   "cell_type": "code",
   "execution_count": 17,
   "metadata": {},
   "outputs": [
    {
     "data": {
      "text/plain": [
       "0   2019-03-07\n",
       "1   2018-12-04\n",
       "2   2015-08-20\n",
       "3   2015-07-24\n",
       "4   2018-06-19\n",
       "Name: first_day_exposition, dtype: datetime64[ns]"
      ]
     },
     "execution_count": 17,
     "metadata": {},
     "output_type": "execute_result"
    }
   ],
   "source": [
    "data['first_day_exposition'] = pd.to_datetime(data['first_day_exposition'], format='%Y-%m-%d')\n",
    "data['first_day_exposition'].head(5)"
   ]
  },
  {
   "cell_type": "markdown",
   "metadata": {},
   "source": [
    "Переведем тип данных 'balcony', 'floors_total', 'last_price', 'days_exposition' от типа float64 к типу int, так как нам нужны целочисленные значения."
   ]
  },
  {
   "cell_type": "code",
   "execution_count": 18,
   "metadata": {},
   "outputs": [],
   "source": [
    "data['balcony'] = data['balcony'].astype('int')\n",
    "data['floors_total'] = data['floors_total'].astype('int')\n",
    "data['last_price'] = data['last_price'].astype('int')\n",
    "data['total_area'] = data['total_area'].astype('int')\n",
    "data['days_exposition'] = data['days_exposition'].fillna(0).astype('int')"
   ]
  },
  {
   "cell_type": "code",
   "execution_count": 19,
   "metadata": {},
   "outputs": [
    {
     "name": "stdout",
     "output_type": "stream",
     "text": [
      "<class 'pandas.core.frame.DataFrame'>\n",
      "Int64Index: 23608 entries, 0 to 23698\n",
      "Data columns (total 22 columns):\n",
      "total_images            23608 non-null int64\n",
      "last_price              23608 non-null int64\n",
      "total_area              23608 non-null int64\n",
      "first_day_exposition    23608 non-null datetime64[ns]\n",
      "rooms                   23608 non-null int64\n",
      "ceiling_height          23608 non-null float64\n",
      "floors_total            23608 non-null int64\n",
      "living_area             23608 non-null float64\n",
      "floor                   23608 non-null int64\n",
      "is_apartment            23608 non-null bool\n",
      "studio                  23608 non-null bool\n",
      "open_plan               23608 non-null bool\n",
      "kitchen_area            23608 non-null float64\n",
      "balcony                 23608 non-null int64\n",
      "locality_name           23559 non-null object\n",
      "airports_nearest        23608 non-null float64\n",
      "cityCenters_nearest     23608 non-null float64\n",
      "parks_around3000        18115 non-null float64\n",
      "parks_nearest           23608 non-null float64\n",
      "ponds_around3000        18115 non-null float64\n",
      "ponds_nearest           23608 non-null float64\n",
      "days_exposition         23608 non-null int64\n",
      "dtypes: bool(3), datetime64[ns](1), float64(9), int64(8), object(1)\n",
      "memory usage: 3.7+ MB\n"
     ]
    }
   ],
   "source": [
    "data.info()"
   ]
  },
  {
   "cell_type": "markdown",
   "metadata": {},
   "source": [
    "### Вывод"
   ]
  },
  {
   "cell_type": "markdown",
   "metadata": {},
   "source": [
    "По итогам первого этапа исследования - предобработки данных были предприняты следующие шаги:\n",
    "   1. обнаружены и обработаны пропущенные значения в 9 столбцах с использованием заполнения методом fillna() и группировкой по столбцу с заполнением медианой методом transform;\n",
    "   2. изменены искажения типов данных - текстовый формат в дате выставления квартиры заменен на формат даты, а часть значений (число балконов, этажей, пр.) приведена от вещественного к целочисленному типу, что существенно упростило восприятие данных.\n",
    "  \n",
    "Следующим шагом исследования выступает расчет необходимых параметров квартиры."
   ]
  },
  {
   "cell_type": "markdown",
   "metadata": {},
   "source": [
    "## Расчёты и добавление результатов в таблицу"
   ]
  },
  {
   "cell_type": "markdown",
   "metadata": {},
   "source": [
    "В первую очередь посчитаем цену квадратного метра исходя из следующих параметров - цены на квартиру и общей площади квартиры."
   ]
  },
  {
   "cell_type": "code",
   "execution_count": 20,
   "metadata": {},
   "outputs": [
    {
     "data": {
      "text/html": [
       "<div>\n",
       "<style scoped>\n",
       "    .dataframe tbody tr th:only-of-type {\n",
       "        vertical-align: middle;\n",
       "    }\n",
       "\n",
       "    .dataframe tbody tr th {\n",
       "        vertical-align: top;\n",
       "    }\n",
       "\n",
       "    .dataframe thead th {\n",
       "        text-align: right;\n",
       "    }\n",
       "</style>\n",
       "<table border=\"1\" class=\"dataframe\">\n",
       "  <thead>\n",
       "    <tr style=\"text-align: right;\">\n",
       "      <th></th>\n",
       "      <th>total_images</th>\n",
       "      <th>last_price</th>\n",
       "      <th>total_area</th>\n",
       "      <th>first_day_exposition</th>\n",
       "      <th>rooms</th>\n",
       "      <th>ceiling_height</th>\n",
       "      <th>floors_total</th>\n",
       "      <th>living_area</th>\n",
       "      <th>floor</th>\n",
       "      <th>is_apartment</th>\n",
       "      <th>...</th>\n",
       "      <th>balcony</th>\n",
       "      <th>locality_name</th>\n",
       "      <th>airports_nearest</th>\n",
       "      <th>cityCenters_nearest</th>\n",
       "      <th>parks_around3000</th>\n",
       "      <th>parks_nearest</th>\n",
       "      <th>ponds_around3000</th>\n",
       "      <th>ponds_nearest</th>\n",
       "      <th>days_exposition</th>\n",
       "      <th>price_per_meter</th>\n",
       "    </tr>\n",
       "  </thead>\n",
       "  <tbody>\n",
       "    <tr>\n",
       "      <td>0</td>\n",
       "      <td>20</td>\n",
       "      <td>13000000</td>\n",
       "      <td>108</td>\n",
       "      <td>2019-03-07</td>\n",
       "      <td>3</td>\n",
       "      <td>2.70</td>\n",
       "      <td>16</td>\n",
       "      <td>51.0</td>\n",
       "      <td>8</td>\n",
       "      <td>False</td>\n",
       "      <td>...</td>\n",
       "      <td>0</td>\n",
       "      <td>санкт-петербург</td>\n",
       "      <td>18863.0</td>\n",
       "      <td>16028.0</td>\n",
       "      <td>1.0</td>\n",
       "      <td>482.0</td>\n",
       "      <td>2.0</td>\n",
       "      <td>755.0</td>\n",
       "      <td>0</td>\n",
       "      <td>120370</td>\n",
       "    </tr>\n",
       "    <tr>\n",
       "      <td>1</td>\n",
       "      <td>7</td>\n",
       "      <td>3350000</td>\n",
       "      <td>40</td>\n",
       "      <td>2018-12-04</td>\n",
       "      <td>1</td>\n",
       "      <td>2.60</td>\n",
       "      <td>11</td>\n",
       "      <td>18.6</td>\n",
       "      <td>1</td>\n",
       "      <td>False</td>\n",
       "      <td>...</td>\n",
       "      <td>2</td>\n",
       "      <td>поселок шушары</td>\n",
       "      <td>12817.0</td>\n",
       "      <td>18603.0</td>\n",
       "      <td>0.0</td>\n",
       "      <td>460.0</td>\n",
       "      <td>0.0</td>\n",
       "      <td>584.5</td>\n",
       "      <td>81</td>\n",
       "      <td>83750</td>\n",
       "    </tr>\n",
       "    <tr>\n",
       "      <td>2</td>\n",
       "      <td>10</td>\n",
       "      <td>5196000</td>\n",
       "      <td>56</td>\n",
       "      <td>2015-08-20</td>\n",
       "      <td>2</td>\n",
       "      <td>2.65</td>\n",
       "      <td>5</td>\n",
       "      <td>34.3</td>\n",
       "      <td>4</td>\n",
       "      <td>False</td>\n",
       "      <td>...</td>\n",
       "      <td>0</td>\n",
       "      <td>санкт-петербург</td>\n",
       "      <td>21741.0</td>\n",
       "      <td>13933.0</td>\n",
       "      <td>1.0</td>\n",
       "      <td>90.0</td>\n",
       "      <td>2.0</td>\n",
       "      <td>574.0</td>\n",
       "      <td>558</td>\n",
       "      <td>92785</td>\n",
       "    </tr>\n",
       "    <tr>\n",
       "      <td>3</td>\n",
       "      <td>0</td>\n",
       "      <td>64900000</td>\n",
       "      <td>159</td>\n",
       "      <td>2015-07-24</td>\n",
       "      <td>3</td>\n",
       "      <td>2.60</td>\n",
       "      <td>14</td>\n",
       "      <td>45.0</td>\n",
       "      <td>9</td>\n",
       "      <td>False</td>\n",
       "      <td>...</td>\n",
       "      <td>0</td>\n",
       "      <td>санкт-петербург</td>\n",
       "      <td>28098.0</td>\n",
       "      <td>6800.0</td>\n",
       "      <td>2.0</td>\n",
       "      <td>84.0</td>\n",
       "      <td>3.0</td>\n",
       "      <td>234.0</td>\n",
       "      <td>424</td>\n",
       "      <td>408176</td>\n",
       "    </tr>\n",
       "    <tr>\n",
       "      <td>4</td>\n",
       "      <td>2</td>\n",
       "      <td>10000000</td>\n",
       "      <td>100</td>\n",
       "      <td>2018-06-19</td>\n",
       "      <td>2</td>\n",
       "      <td>3.03</td>\n",
       "      <td>14</td>\n",
       "      <td>32.0</td>\n",
       "      <td>13</td>\n",
       "      <td>False</td>\n",
       "      <td>...</td>\n",
       "      <td>0</td>\n",
       "      <td>санкт-петербург</td>\n",
       "      <td>31856.0</td>\n",
       "      <td>8098.0</td>\n",
       "      <td>2.0</td>\n",
       "      <td>112.0</td>\n",
       "      <td>1.0</td>\n",
       "      <td>48.0</td>\n",
       "      <td>121</td>\n",
       "      <td>100000</td>\n",
       "    </tr>\n",
       "  </tbody>\n",
       "</table>\n",
       "<p>5 rows × 23 columns</p>\n",
       "</div>"
      ],
      "text/plain": [
       "   total_images  last_price  total_area first_day_exposition  rooms  \\\n",
       "0            20    13000000         108           2019-03-07      3   \n",
       "1             7     3350000          40           2018-12-04      1   \n",
       "2            10     5196000          56           2015-08-20      2   \n",
       "3             0    64900000         159           2015-07-24      3   \n",
       "4             2    10000000         100           2018-06-19      2   \n",
       "\n",
       "   ceiling_height  floors_total  living_area  floor  is_apartment  ...  \\\n",
       "0            2.70            16         51.0      8         False  ...   \n",
       "1            2.60            11         18.6      1         False  ...   \n",
       "2            2.65             5         34.3      4         False  ...   \n",
       "3            2.60            14         45.0      9         False  ...   \n",
       "4            3.03            14         32.0     13         False  ...   \n",
       "\n",
       "   balcony    locality_name  airports_nearest  cityCenters_nearest  \\\n",
       "0        0  санкт-петербург           18863.0              16028.0   \n",
       "1        2   поселок шушары           12817.0              18603.0   \n",
       "2        0  санкт-петербург           21741.0              13933.0   \n",
       "3        0  санкт-петербург           28098.0               6800.0   \n",
       "4        0  санкт-петербург           31856.0               8098.0   \n",
       "\n",
       "  parks_around3000  parks_nearest  ponds_around3000  ponds_nearest  \\\n",
       "0              1.0          482.0               2.0          755.0   \n",
       "1              0.0          460.0               0.0          584.5   \n",
       "2              1.0           90.0               2.0          574.0   \n",
       "3              2.0           84.0               3.0          234.0   \n",
       "4              2.0          112.0               1.0           48.0   \n",
       "\n",
       "   days_exposition  price_per_meter  \n",
       "0                0           120370  \n",
       "1               81            83750  \n",
       "2              558            92785  \n",
       "3              424           408176  \n",
       "4              121           100000  \n",
       "\n",
       "[5 rows x 23 columns]"
      ]
     },
     "execution_count": 20,
     "metadata": {},
     "output_type": "execute_result"
    }
   ],
   "source": [
    "data['price_per_meter'] = data['last_price'] / data['total_area']\n",
    "data['price_per_meter'] = data['price_per_meter'].astype('int')\n",
    "data.head(5)"
   ]
  },
  {
   "cell_type": "markdown",
   "metadata": {},
   "source": [
    "Посчитаем и добавим в таблицу день недели, месяц и год публикации объявления."
   ]
  },
  {
   "cell_type": "code",
   "execution_count": 21,
   "metadata": {},
   "outputs": [
    {
     "data": {
      "text/html": [
       "<div>\n",
       "<style scoped>\n",
       "    .dataframe tbody tr th:only-of-type {\n",
       "        vertical-align: middle;\n",
       "    }\n",
       "\n",
       "    .dataframe tbody tr th {\n",
       "        vertical-align: top;\n",
       "    }\n",
       "\n",
       "    .dataframe thead th {\n",
       "        text-align: right;\n",
       "    }\n",
       "</style>\n",
       "<table border=\"1\" class=\"dataframe\">\n",
       "  <thead>\n",
       "    <tr style=\"text-align: right;\">\n",
       "      <th></th>\n",
       "      <th>total_images</th>\n",
       "      <th>last_price</th>\n",
       "      <th>total_area</th>\n",
       "      <th>first_day_exposition</th>\n",
       "      <th>rooms</th>\n",
       "      <th>ceiling_height</th>\n",
       "      <th>floors_total</th>\n",
       "      <th>living_area</th>\n",
       "      <th>floor</th>\n",
       "      <th>is_apartment</th>\n",
       "      <th>...</th>\n",
       "      <th>cityCenters_nearest</th>\n",
       "      <th>parks_around3000</th>\n",
       "      <th>parks_nearest</th>\n",
       "      <th>ponds_around3000</th>\n",
       "      <th>ponds_nearest</th>\n",
       "      <th>days_exposition</th>\n",
       "      <th>price_per_meter</th>\n",
       "      <th>weekday</th>\n",
       "      <th>month</th>\n",
       "      <th>year</th>\n",
       "    </tr>\n",
       "  </thead>\n",
       "  <tbody>\n",
       "    <tr>\n",
       "      <td>0</td>\n",
       "      <td>20</td>\n",
       "      <td>13000000</td>\n",
       "      <td>108</td>\n",
       "      <td>2019-03-07</td>\n",
       "      <td>3</td>\n",
       "      <td>2.70</td>\n",
       "      <td>16</td>\n",
       "      <td>51.0</td>\n",
       "      <td>8</td>\n",
       "      <td>False</td>\n",
       "      <td>...</td>\n",
       "      <td>16028.0</td>\n",
       "      <td>1.0</td>\n",
       "      <td>482.0</td>\n",
       "      <td>2.0</td>\n",
       "      <td>755.0</td>\n",
       "      <td>0</td>\n",
       "      <td>120370</td>\n",
       "      <td>3</td>\n",
       "      <td>3</td>\n",
       "      <td>2019</td>\n",
       "    </tr>\n",
       "    <tr>\n",
       "      <td>1</td>\n",
       "      <td>7</td>\n",
       "      <td>3350000</td>\n",
       "      <td>40</td>\n",
       "      <td>2018-12-04</td>\n",
       "      <td>1</td>\n",
       "      <td>2.60</td>\n",
       "      <td>11</td>\n",
       "      <td>18.6</td>\n",
       "      <td>1</td>\n",
       "      <td>False</td>\n",
       "      <td>...</td>\n",
       "      <td>18603.0</td>\n",
       "      <td>0.0</td>\n",
       "      <td>460.0</td>\n",
       "      <td>0.0</td>\n",
       "      <td>584.5</td>\n",
       "      <td>81</td>\n",
       "      <td>83750</td>\n",
       "      <td>1</td>\n",
       "      <td>12</td>\n",
       "      <td>2018</td>\n",
       "    </tr>\n",
       "    <tr>\n",
       "      <td>2</td>\n",
       "      <td>10</td>\n",
       "      <td>5196000</td>\n",
       "      <td>56</td>\n",
       "      <td>2015-08-20</td>\n",
       "      <td>2</td>\n",
       "      <td>2.65</td>\n",
       "      <td>5</td>\n",
       "      <td>34.3</td>\n",
       "      <td>4</td>\n",
       "      <td>False</td>\n",
       "      <td>...</td>\n",
       "      <td>13933.0</td>\n",
       "      <td>1.0</td>\n",
       "      <td>90.0</td>\n",
       "      <td>2.0</td>\n",
       "      <td>574.0</td>\n",
       "      <td>558</td>\n",
       "      <td>92785</td>\n",
       "      <td>3</td>\n",
       "      <td>8</td>\n",
       "      <td>2015</td>\n",
       "    </tr>\n",
       "    <tr>\n",
       "      <td>3</td>\n",
       "      <td>0</td>\n",
       "      <td>64900000</td>\n",
       "      <td>159</td>\n",
       "      <td>2015-07-24</td>\n",
       "      <td>3</td>\n",
       "      <td>2.60</td>\n",
       "      <td>14</td>\n",
       "      <td>45.0</td>\n",
       "      <td>9</td>\n",
       "      <td>False</td>\n",
       "      <td>...</td>\n",
       "      <td>6800.0</td>\n",
       "      <td>2.0</td>\n",
       "      <td>84.0</td>\n",
       "      <td>3.0</td>\n",
       "      <td>234.0</td>\n",
       "      <td>424</td>\n",
       "      <td>408176</td>\n",
       "      <td>4</td>\n",
       "      <td>7</td>\n",
       "      <td>2015</td>\n",
       "    </tr>\n",
       "    <tr>\n",
       "      <td>4</td>\n",
       "      <td>2</td>\n",
       "      <td>10000000</td>\n",
       "      <td>100</td>\n",
       "      <td>2018-06-19</td>\n",
       "      <td>2</td>\n",
       "      <td>3.03</td>\n",
       "      <td>14</td>\n",
       "      <td>32.0</td>\n",
       "      <td>13</td>\n",
       "      <td>False</td>\n",
       "      <td>...</td>\n",
       "      <td>8098.0</td>\n",
       "      <td>2.0</td>\n",
       "      <td>112.0</td>\n",
       "      <td>1.0</td>\n",
       "      <td>48.0</td>\n",
       "      <td>121</td>\n",
       "      <td>100000</td>\n",
       "      <td>1</td>\n",
       "      <td>6</td>\n",
       "      <td>2018</td>\n",
       "    </tr>\n",
       "  </tbody>\n",
       "</table>\n",
       "<p>5 rows × 26 columns</p>\n",
       "</div>"
      ],
      "text/plain": [
       "   total_images  last_price  total_area first_day_exposition  rooms  \\\n",
       "0            20    13000000         108           2019-03-07      3   \n",
       "1             7     3350000          40           2018-12-04      1   \n",
       "2            10     5196000          56           2015-08-20      2   \n",
       "3             0    64900000         159           2015-07-24      3   \n",
       "4             2    10000000         100           2018-06-19      2   \n",
       "\n",
       "   ceiling_height  floors_total  living_area  floor  is_apartment  ...  \\\n",
       "0            2.70            16         51.0      8         False  ...   \n",
       "1            2.60            11         18.6      1         False  ...   \n",
       "2            2.65             5         34.3      4         False  ...   \n",
       "3            2.60            14         45.0      9         False  ...   \n",
       "4            3.03            14         32.0     13         False  ...   \n",
       "\n",
       "   cityCenters_nearest  parks_around3000  parks_nearest  ponds_around3000  \\\n",
       "0              16028.0               1.0          482.0               2.0   \n",
       "1              18603.0               0.0          460.0               0.0   \n",
       "2              13933.0               1.0           90.0               2.0   \n",
       "3               6800.0               2.0           84.0               3.0   \n",
       "4               8098.0               2.0          112.0               1.0   \n",
       "\n",
       "  ponds_nearest  days_exposition  price_per_meter  weekday  month  year  \n",
       "0         755.0                0           120370        3      3  2019  \n",
       "1         584.5               81            83750        1     12  2018  \n",
       "2         574.0              558            92785        3      8  2015  \n",
       "3         234.0              424           408176        4      7  2015  \n",
       "4          48.0              121           100000        1      6  2018  \n",
       "\n",
       "[5 rows x 26 columns]"
      ]
     },
     "execution_count": 21,
     "metadata": {},
     "output_type": "execute_result"
    }
   ],
   "source": [
    "data['weekday'] = data['first_day_exposition'].dt.weekday\n",
    "data['month'] = data['first_day_exposition'].dt.month\n",
    "data['year'] = data['first_day_exposition'].dt.year\n",
    "data.head(5)"
   ]
  },
  {
   "cell_type": "markdown",
   "metadata": {},
   "source": [
    "Далее добавим этаж квартиры — первый, последний, другой"
   ]
  },
  {
   "cell_type": "code",
   "execution_count": 22,
   "metadata": {},
   "outputs": [
    {
     "data": {
      "text/html": [
       "<div>\n",
       "<style scoped>\n",
       "    .dataframe tbody tr th:only-of-type {\n",
       "        vertical-align: middle;\n",
       "    }\n",
       "\n",
       "    .dataframe tbody tr th {\n",
       "        vertical-align: top;\n",
       "    }\n",
       "\n",
       "    .dataframe thead th {\n",
       "        text-align: right;\n",
       "    }\n",
       "</style>\n",
       "<table border=\"1\" class=\"dataframe\">\n",
       "  <thead>\n",
       "    <tr style=\"text-align: right;\">\n",
       "      <th></th>\n",
       "      <th>total_images</th>\n",
       "      <th>last_price</th>\n",
       "      <th>total_area</th>\n",
       "      <th>first_day_exposition</th>\n",
       "      <th>rooms</th>\n",
       "      <th>ceiling_height</th>\n",
       "      <th>floors_total</th>\n",
       "      <th>living_area</th>\n",
       "      <th>floor</th>\n",
       "      <th>is_apartment</th>\n",
       "      <th>...</th>\n",
       "      <th>parks_around3000</th>\n",
       "      <th>parks_nearest</th>\n",
       "      <th>ponds_around3000</th>\n",
       "      <th>ponds_nearest</th>\n",
       "      <th>days_exposition</th>\n",
       "      <th>price_per_meter</th>\n",
       "      <th>weekday</th>\n",
       "      <th>month</th>\n",
       "      <th>year</th>\n",
       "      <th>floor_category</th>\n",
       "    </tr>\n",
       "  </thead>\n",
       "  <tbody>\n",
       "    <tr>\n",
       "      <td>0</td>\n",
       "      <td>20</td>\n",
       "      <td>13000000</td>\n",
       "      <td>108</td>\n",
       "      <td>2019-03-07</td>\n",
       "      <td>3</td>\n",
       "      <td>2.70</td>\n",
       "      <td>16</td>\n",
       "      <td>51.0</td>\n",
       "      <td>8</td>\n",
       "      <td>False</td>\n",
       "      <td>...</td>\n",
       "      <td>1.0</td>\n",
       "      <td>482.0</td>\n",
       "      <td>2.0</td>\n",
       "      <td>755.0</td>\n",
       "      <td>0</td>\n",
       "      <td>120370</td>\n",
       "      <td>3</td>\n",
       "      <td>3</td>\n",
       "      <td>2019</td>\n",
       "      <td>другой</td>\n",
       "    </tr>\n",
       "    <tr>\n",
       "      <td>1</td>\n",
       "      <td>7</td>\n",
       "      <td>3350000</td>\n",
       "      <td>40</td>\n",
       "      <td>2018-12-04</td>\n",
       "      <td>1</td>\n",
       "      <td>2.60</td>\n",
       "      <td>11</td>\n",
       "      <td>18.6</td>\n",
       "      <td>1</td>\n",
       "      <td>False</td>\n",
       "      <td>...</td>\n",
       "      <td>0.0</td>\n",
       "      <td>460.0</td>\n",
       "      <td>0.0</td>\n",
       "      <td>584.5</td>\n",
       "      <td>81</td>\n",
       "      <td>83750</td>\n",
       "      <td>1</td>\n",
       "      <td>12</td>\n",
       "      <td>2018</td>\n",
       "      <td>первый</td>\n",
       "    </tr>\n",
       "    <tr>\n",
       "      <td>2</td>\n",
       "      <td>10</td>\n",
       "      <td>5196000</td>\n",
       "      <td>56</td>\n",
       "      <td>2015-08-20</td>\n",
       "      <td>2</td>\n",
       "      <td>2.65</td>\n",
       "      <td>5</td>\n",
       "      <td>34.3</td>\n",
       "      <td>4</td>\n",
       "      <td>False</td>\n",
       "      <td>...</td>\n",
       "      <td>1.0</td>\n",
       "      <td>90.0</td>\n",
       "      <td>2.0</td>\n",
       "      <td>574.0</td>\n",
       "      <td>558</td>\n",
       "      <td>92785</td>\n",
       "      <td>3</td>\n",
       "      <td>8</td>\n",
       "      <td>2015</td>\n",
       "      <td>другой</td>\n",
       "    </tr>\n",
       "    <tr>\n",
       "      <td>3</td>\n",
       "      <td>0</td>\n",
       "      <td>64900000</td>\n",
       "      <td>159</td>\n",
       "      <td>2015-07-24</td>\n",
       "      <td>3</td>\n",
       "      <td>2.60</td>\n",
       "      <td>14</td>\n",
       "      <td>45.0</td>\n",
       "      <td>9</td>\n",
       "      <td>False</td>\n",
       "      <td>...</td>\n",
       "      <td>2.0</td>\n",
       "      <td>84.0</td>\n",
       "      <td>3.0</td>\n",
       "      <td>234.0</td>\n",
       "      <td>424</td>\n",
       "      <td>408176</td>\n",
       "      <td>4</td>\n",
       "      <td>7</td>\n",
       "      <td>2015</td>\n",
       "      <td>другой</td>\n",
       "    </tr>\n",
       "    <tr>\n",
       "      <td>4</td>\n",
       "      <td>2</td>\n",
       "      <td>10000000</td>\n",
       "      <td>100</td>\n",
       "      <td>2018-06-19</td>\n",
       "      <td>2</td>\n",
       "      <td>3.03</td>\n",
       "      <td>14</td>\n",
       "      <td>32.0</td>\n",
       "      <td>13</td>\n",
       "      <td>False</td>\n",
       "      <td>...</td>\n",
       "      <td>2.0</td>\n",
       "      <td>112.0</td>\n",
       "      <td>1.0</td>\n",
       "      <td>48.0</td>\n",
       "      <td>121</td>\n",
       "      <td>100000</td>\n",
       "      <td>1</td>\n",
       "      <td>6</td>\n",
       "      <td>2018</td>\n",
       "      <td>другой</td>\n",
       "    </tr>\n",
       "  </tbody>\n",
       "</table>\n",
       "<p>5 rows × 27 columns</p>\n",
       "</div>"
      ],
      "text/plain": [
       "   total_images  last_price  total_area first_day_exposition  rooms  \\\n",
       "0            20    13000000         108           2019-03-07      3   \n",
       "1             7     3350000          40           2018-12-04      1   \n",
       "2            10     5196000          56           2015-08-20      2   \n",
       "3             0    64900000         159           2015-07-24      3   \n",
       "4             2    10000000         100           2018-06-19      2   \n",
       "\n",
       "   ceiling_height  floors_total  living_area  floor  is_apartment  ...  \\\n",
       "0            2.70            16         51.0      8         False  ...   \n",
       "1            2.60            11         18.6      1         False  ...   \n",
       "2            2.65             5         34.3      4         False  ...   \n",
       "3            2.60            14         45.0      9         False  ...   \n",
       "4            3.03            14         32.0     13         False  ...   \n",
       "\n",
       "   parks_around3000  parks_nearest  ponds_around3000  ponds_nearest  \\\n",
       "0               1.0          482.0               2.0          755.0   \n",
       "1               0.0          460.0               0.0          584.5   \n",
       "2               1.0           90.0               2.0          574.0   \n",
       "3               2.0           84.0               3.0          234.0   \n",
       "4               2.0          112.0               1.0           48.0   \n",
       "\n",
       "  days_exposition  price_per_meter  weekday  month  year  floor_category  \n",
       "0               0           120370        3      3  2019          другой  \n",
       "1              81            83750        1     12  2018          первый  \n",
       "2             558            92785        3      8  2015          другой  \n",
       "3             424           408176        4      7  2015          другой  \n",
       "4             121           100000        1      6  2018          другой  \n",
       "\n",
       "[5 rows x 27 columns]"
      ]
     },
     "execution_count": 22,
     "metadata": {},
     "output_type": "execute_result"
    }
   ],
   "source": [
    "def floor_type(row):\n",
    "    floor = row['floor']\n",
    "    floors_total = row['floors_total']\n",
    "    if floor == 1:\n",
    "        return 'первый'\n",
    "    elif floor == floors_total:\n",
    "        return 'последний'\n",
    "    else:\n",
    "        return 'другой'\n",
    "data['floor_category'] = data.apply(floor_type, axis=1)\n",
    "data.head(5) # проверим эффективность замены"
   ]
  },
  {
   "cell_type": "markdown",
   "metadata": {},
   "source": [
    "Добавим соотношение жилой и общей площади, а также отношение площади кухни к общей."
   ]
  },
  {
   "cell_type": "code",
   "execution_count": 23,
   "metadata": {},
   "outputs": [
    {
     "data": {
      "text/html": [
       "<div>\n",
       "<style scoped>\n",
       "    .dataframe tbody tr th:only-of-type {\n",
       "        vertical-align: middle;\n",
       "    }\n",
       "\n",
       "    .dataframe tbody tr th {\n",
       "        vertical-align: top;\n",
       "    }\n",
       "\n",
       "    .dataframe thead th {\n",
       "        text-align: right;\n",
       "    }\n",
       "</style>\n",
       "<table border=\"1\" class=\"dataframe\">\n",
       "  <thead>\n",
       "    <tr style=\"text-align: right;\">\n",
       "      <th></th>\n",
       "      <th>total_images</th>\n",
       "      <th>last_price</th>\n",
       "      <th>total_area</th>\n",
       "      <th>first_day_exposition</th>\n",
       "      <th>rooms</th>\n",
       "      <th>ceiling_height</th>\n",
       "      <th>floors_total</th>\n",
       "      <th>living_area</th>\n",
       "      <th>floor</th>\n",
       "      <th>is_apartment</th>\n",
       "      <th>...</th>\n",
       "      <th>ponds_around3000</th>\n",
       "      <th>ponds_nearest</th>\n",
       "      <th>days_exposition</th>\n",
       "      <th>price_per_meter</th>\n",
       "      <th>weekday</th>\n",
       "      <th>month</th>\n",
       "      <th>year</th>\n",
       "      <th>floor_category</th>\n",
       "      <th>area_ratio</th>\n",
       "      <th>kitchen_ratio</th>\n",
       "    </tr>\n",
       "  </thead>\n",
       "  <tbody>\n",
       "    <tr>\n",
       "      <td>0</td>\n",
       "      <td>20</td>\n",
       "      <td>13000000</td>\n",
       "      <td>108</td>\n",
       "      <td>2019-03-07</td>\n",
       "      <td>3</td>\n",
       "      <td>2.70</td>\n",
       "      <td>16</td>\n",
       "      <td>51.0</td>\n",
       "      <td>8</td>\n",
       "      <td>False</td>\n",
       "      <td>...</td>\n",
       "      <td>2.0</td>\n",
       "      <td>755.0</td>\n",
       "      <td>0</td>\n",
       "      <td>120370</td>\n",
       "      <td>3</td>\n",
       "      <td>3</td>\n",
       "      <td>2019</td>\n",
       "      <td>другой</td>\n",
       "      <td>0.472222</td>\n",
       "      <td>0.231481</td>\n",
       "    </tr>\n",
       "    <tr>\n",
       "      <td>1</td>\n",
       "      <td>7</td>\n",
       "      <td>3350000</td>\n",
       "      <td>40</td>\n",
       "      <td>2018-12-04</td>\n",
       "      <td>1</td>\n",
       "      <td>2.60</td>\n",
       "      <td>11</td>\n",
       "      <td>18.6</td>\n",
       "      <td>1</td>\n",
       "      <td>False</td>\n",
       "      <td>...</td>\n",
       "      <td>0.0</td>\n",
       "      <td>584.5</td>\n",
       "      <td>81</td>\n",
       "      <td>83750</td>\n",
       "      <td>1</td>\n",
       "      <td>12</td>\n",
       "      <td>2018</td>\n",
       "      <td>первый</td>\n",
       "      <td>0.465000</td>\n",
       "      <td>0.275000</td>\n",
       "    </tr>\n",
       "    <tr>\n",
       "      <td>2</td>\n",
       "      <td>10</td>\n",
       "      <td>5196000</td>\n",
       "      <td>56</td>\n",
       "      <td>2015-08-20</td>\n",
       "      <td>2</td>\n",
       "      <td>2.65</td>\n",
       "      <td>5</td>\n",
       "      <td>34.3</td>\n",
       "      <td>4</td>\n",
       "      <td>False</td>\n",
       "      <td>...</td>\n",
       "      <td>2.0</td>\n",
       "      <td>574.0</td>\n",
       "      <td>558</td>\n",
       "      <td>92785</td>\n",
       "      <td>3</td>\n",
       "      <td>8</td>\n",
       "      <td>2015</td>\n",
       "      <td>другой</td>\n",
       "      <td>0.612500</td>\n",
       "      <td>0.148214</td>\n",
       "    </tr>\n",
       "    <tr>\n",
       "      <td>3</td>\n",
       "      <td>0</td>\n",
       "      <td>64900000</td>\n",
       "      <td>159</td>\n",
       "      <td>2015-07-24</td>\n",
       "      <td>3</td>\n",
       "      <td>2.60</td>\n",
       "      <td>14</td>\n",
       "      <td>45.0</td>\n",
       "      <td>9</td>\n",
       "      <td>False</td>\n",
       "      <td>...</td>\n",
       "      <td>3.0</td>\n",
       "      <td>234.0</td>\n",
       "      <td>424</td>\n",
       "      <td>408176</td>\n",
       "      <td>4</td>\n",
       "      <td>7</td>\n",
       "      <td>2015</td>\n",
       "      <td>другой</td>\n",
       "      <td>0.283019</td>\n",
       "      <td>0.062893</td>\n",
       "    </tr>\n",
       "    <tr>\n",
       "      <td>4</td>\n",
       "      <td>2</td>\n",
       "      <td>10000000</td>\n",
       "      <td>100</td>\n",
       "      <td>2018-06-19</td>\n",
       "      <td>2</td>\n",
       "      <td>3.03</td>\n",
       "      <td>14</td>\n",
       "      <td>32.0</td>\n",
       "      <td>13</td>\n",
       "      <td>False</td>\n",
       "      <td>...</td>\n",
       "      <td>1.0</td>\n",
       "      <td>48.0</td>\n",
       "      <td>121</td>\n",
       "      <td>100000</td>\n",
       "      <td>1</td>\n",
       "      <td>6</td>\n",
       "      <td>2018</td>\n",
       "      <td>другой</td>\n",
       "      <td>0.320000</td>\n",
       "      <td>0.410000</td>\n",
       "    </tr>\n",
       "  </tbody>\n",
       "</table>\n",
       "<p>5 rows × 29 columns</p>\n",
       "</div>"
      ],
      "text/plain": [
       "   total_images  last_price  total_area first_day_exposition  rooms  \\\n",
       "0            20    13000000         108           2019-03-07      3   \n",
       "1             7     3350000          40           2018-12-04      1   \n",
       "2            10     5196000          56           2015-08-20      2   \n",
       "3             0    64900000         159           2015-07-24      3   \n",
       "4             2    10000000         100           2018-06-19      2   \n",
       "\n",
       "   ceiling_height  floors_total  living_area  floor  is_apartment  ...  \\\n",
       "0            2.70            16         51.0      8         False  ...   \n",
       "1            2.60            11         18.6      1         False  ...   \n",
       "2            2.65             5         34.3      4         False  ...   \n",
       "3            2.60            14         45.0      9         False  ...   \n",
       "4            3.03            14         32.0     13         False  ...   \n",
       "\n",
       "   ponds_around3000  ponds_nearest  days_exposition  price_per_meter weekday  \\\n",
       "0               2.0          755.0                0           120370       3   \n",
       "1               0.0          584.5               81            83750       1   \n",
       "2               2.0          574.0              558            92785       3   \n",
       "3               3.0          234.0              424           408176       4   \n",
       "4               1.0           48.0              121           100000       1   \n",
       "\n",
       "   month  year  floor_category  area_ratio  kitchen_ratio  \n",
       "0      3  2019          другой    0.472222       0.231481  \n",
       "1     12  2018          первый    0.465000       0.275000  \n",
       "2      8  2015          другой    0.612500       0.148214  \n",
       "3      7  2015          другой    0.283019       0.062893  \n",
       "4      6  2018          другой    0.320000       0.410000  \n",
       "\n",
       "[5 rows x 29 columns]"
      ]
     },
     "execution_count": 23,
     "metadata": {},
     "output_type": "execute_result"
    }
   ],
   "source": [
    "data['area_ratio'] = data['living_area'] / data['total_area']\n",
    "data['kitchen_ratio'] = data['kitchen_area'] / data['total_area']\n",
    "data.head(5)"
   ]
  },
  {
   "cell_type": "markdown",
   "metadata": {},
   "source": [
    "## Исследовательский анализ данных"
   ]
  },
  {
   "cell_type": "markdown",
   "metadata": {},
   "source": [
    "Для изучения параметров площади, цены, числа комнат и высоты потолков выведем основные описательные статистики по каждой перменной."
   ]
  },
  {
   "cell_type": "code",
   "execution_count": 24,
   "metadata": {},
   "outputs": [
    {
     "data": {
      "text/html": [
       "<div>\n",
       "<style scoped>\n",
       "    .dataframe tbody tr th:only-of-type {\n",
       "        vertical-align: middle;\n",
       "    }\n",
       "\n",
       "    .dataframe tbody tr th {\n",
       "        vertical-align: top;\n",
       "    }\n",
       "\n",
       "    .dataframe thead th {\n",
       "        text-align: right;\n",
       "    }\n",
       "</style>\n",
       "<table border=\"1\" class=\"dataframe\">\n",
       "  <thead>\n",
       "    <tr style=\"text-align: right;\">\n",
       "      <th></th>\n",
       "      <th>total_area</th>\n",
       "      <th>last_price</th>\n",
       "      <th>rooms</th>\n",
       "      <th>ceiling_height</th>\n",
       "    </tr>\n",
       "  </thead>\n",
       "  <tbody>\n",
       "    <tr>\n",
       "      <td>count</td>\n",
       "      <td>23608.000000</td>\n",
       "      <td>2.360800e+04</td>\n",
       "      <td>23608.000000</td>\n",
       "      <td>23608.000000</td>\n",
       "    </tr>\n",
       "    <tr>\n",
       "      <td>mean</td>\n",
       "      <td>59.961496</td>\n",
       "      <td>6.496204e+06</td>\n",
       "      <td>2.068875</td>\n",
       "      <td>2.691986</td>\n",
       "    </tr>\n",
       "    <tr>\n",
       "      <td>std</td>\n",
       "      <td>35.059387</td>\n",
       "      <td>1.071954e+07</td>\n",
       "      <td>1.076008</td>\n",
       "      <td>0.205977</td>\n",
       "    </tr>\n",
       "    <tr>\n",
       "      <td>min</td>\n",
       "      <td>12.000000</td>\n",
       "      <td>1.219000e+04</td>\n",
       "      <td>0.000000</td>\n",
       "      <td>2.300000</td>\n",
       "    </tr>\n",
       "    <tr>\n",
       "      <td>25%</td>\n",
       "      <td>40.000000</td>\n",
       "      <td>3.400000e+06</td>\n",
       "      <td>1.000000</td>\n",
       "      <td>2.600000</td>\n",
       "    </tr>\n",
       "    <tr>\n",
       "      <td>50%</td>\n",
       "      <td>52.000000</td>\n",
       "      <td>4.650000e+06</td>\n",
       "      <td>2.000000</td>\n",
       "      <td>2.650000</td>\n",
       "    </tr>\n",
       "    <tr>\n",
       "      <td>75%</td>\n",
       "      <td>69.000000</td>\n",
       "      <td>6.760000e+06</td>\n",
       "      <td>3.000000</td>\n",
       "      <td>2.700000</td>\n",
       "    </tr>\n",
       "    <tr>\n",
       "      <td>max</td>\n",
       "      <td>900.000000</td>\n",
       "      <td>7.630000e+08</td>\n",
       "      <td>19.000000</td>\n",
       "      <td>4.000000</td>\n",
       "    </tr>\n",
       "  </tbody>\n",
       "</table>\n",
       "</div>"
      ],
      "text/plain": [
       "         total_area    last_price         rooms  ceiling_height\n",
       "count  23608.000000  2.360800e+04  23608.000000    23608.000000\n",
       "mean      59.961496  6.496204e+06      2.068875        2.691986\n",
       "std       35.059387  1.071954e+07      1.076008        0.205977\n",
       "min       12.000000  1.219000e+04      0.000000        2.300000\n",
       "25%       40.000000  3.400000e+06      1.000000        2.600000\n",
       "50%       52.000000  4.650000e+06      2.000000        2.650000\n",
       "75%       69.000000  6.760000e+06      3.000000        2.700000\n",
       "max      900.000000  7.630000e+08     19.000000        4.000000"
      ]
     },
     "execution_count": 24,
     "metadata": {},
     "output_type": "execute_result"
    }
   ],
   "source": [
    "data[['total_area', 'last_price', 'rooms', 'ceiling_height']].describe()"
   ]
  },
  {
   "cell_type": "markdown",
   "metadata": {},
   "source": [
    "При анализе графика распределения показателя \"общая площадь квартиры в м2\" можно заметить, что оно имеет достаточно большой хвост правых значений, доходящих до 400 м2, а максимальное значение - 900 м2, что свидетельствует о наличии выбросов, которые позже удалим."
   ]
  },
  {
   "cell_type": "code",
   "execution_count": 41,
   "metadata": {},
   "outputs": [
    {
     "data": {
      "text/plain": [
       "<matplotlib.axes._subplots.AxesSubplot at 0x7f4b4bafe450>"
      ]
     },
     "execution_count": 41,
     "metadata": {},
     "output_type": "execute_result"
    },
    {
     "data": {
      "image/png": "[encoded data removed]",
      "text/plain": [
       "<Figure size 720x504 with 1 Axes>"
      ]
     },
     "metadata": {
      "needs_background": "light"
     },
     "output_type": "display_data"
    }
   ],
   "source": [
    "data['total_area'].describe()\n",
    "data.plot(y = 'total_area', kind = 'hist', bins = 100, grid=True, figsize = (10,7), range = (0,600), title = 'Распределение общей площади квартиры', label = 'Кв. м')\n"
   ]
  },
  {
   "cell_type": "markdown",
   "metadata": {},
   "source": [
    "Ппараметр \"цена квартиры\" также имеет выборосы со значение более 11 млн руб., которые необходимо удалять."
   ]
  },
  {
   "cell_type": "code",
   "execution_count": 40,
   "metadata": {},
   "outputs": [
    {
     "data": {
      "image/png": "[encoded data removed]",
      "text/plain": [
       "<Figure size 720x504 with 1 Axes>"
      ]
     },
     "metadata": {
      "needs_background": "light"
     },
     "output_type": "display_data"
    }
   ],
   "source": [
    "from matplotlib import pyplot as plt\n",
    "data.plot(y = 'last_price', kind = 'hist', bins = 100, grid=True, figsize = (10,7), range = (0, 13000000), title = 'Распределение цены квартиры', label = 'млн руб.')\n",
    "plt.ticklabel_format(style='plain')"
   ]
  },
  {
   "cell_type": "markdown",
   "metadata": {},
   "source": [
    "Как можно увидеть из описательной статистики, распределние также имеет аномальные значения - например, 19 комнат."
   ]
  },
  {
   "cell_type": "code",
   "execution_count": 43,
   "metadata": {},
   "outputs": [
    {
     "data": {
      "text/plain": [
       "<matplotlib.axes._subplots.AxesSubplot at 0x7f4b4b8360d0>"
      ]
     },
     "execution_count": 43,
     "metadata": {},
     "output_type": "execute_result"
    },
    {
     "data": {
      "image/png": "[encoded data removed]",
      "text/plain": [
       "<Figure size 720x504 with 1 Axes>"
      ]
     },
     "metadata": {
      "needs_background": "light"
     },
     "output_type": "display_data"
    }
   ],
   "source": [
    "data['rooms'].describe()\n",
    "data.plot(y = 'rooms', kind = 'hist', bins = 100, grid=True, figsize = (10,7), range = (0, 15), title = 'Распределение количества комнат', label = 'шт.')"
   ]
  },
  {
   "cell_type": "markdown",
   "metadata": {},
   "source": [
    "Параметр \"высота потолков\" не имеет выбросов и аномальны значений, так как мы удалили их на этапе предобработки."
   ]
  },
  {
   "cell_type": "code",
   "execution_count": 44,
   "metadata": {},
   "outputs": [
    {
     "data": {
      "text/plain": [
       "<matplotlib.axes._subplots.AxesSubplot at 0x7f4b4b660310>"
      ]
     },
     "execution_count": 44,
     "metadata": {},
     "output_type": "execute_result"
    },
    {
     "data": {
      "image/png": "[encoded data removed]",
      "text/plain": [
       "<Figure size 720x504 with 1 Axes>"
      ]
     },
     "metadata": {
      "needs_background": "light"
     },
     "output_type": "display_data"
    }
   ],
   "source": [
    "data['ceiling_height'].describe()\n",
    "data.plot(y = 'ceiling_height', kind = 'hist', bins = 100, grid=True, figsize = (10,7), range = (0, 7),  title = 'Распределение параметра \"высота потолков\"', label = 'м.')"
   ]
  },
  {
   "cell_type": "markdown",
   "metadata": {},
   "source": [
    "Изучите время продажи квартиры. Постройте гистограмму. Посчитайте среднее и медиану. Опишите, сколько обычно занимает продажа. Когда можно считать, что продажи прошли очень быстро, а когда необычно долго?"
   ]
  },
  {
   "cell_type": "code",
   "execution_count": 29,
   "metadata": {},
   "outputs": [
    {
     "data": {
      "text/plain": [
       "count    23608.000000\n",
       "mean       156.468443\n",
       "std        213.336064\n",
       "min          0.000000\n",
       "25%         22.000000\n",
       "50%         74.000000\n",
       "75%        198.000000\n",
       "max       1580.000000\n",
       "Name: days_exposition, dtype: float64"
      ]
     },
     "execution_count": 29,
     "metadata": {},
     "output_type": "execute_result"
    }
   ],
   "source": [
    "data['days_exposition'].describe()"
   ]
  },
  {
   "cell_type": "markdown",
   "metadata": {},
   "source": [
    "В первую очередь определим необычно долгие продажи: как можно увидеть из гистограммы, после 400 дней количество продаж становится более редким, после 600 практически отсутствуют, а после 1000 гистограмма практически сливается с нулем. Среди очень быстрых продаж можно отметить те, которые входят в 25% значений, то есть до 30 дней."
   ]
  },
  {
   "cell_type": "code",
   "execution_count": 45,
   "metadata": {},
   "outputs": [
    {
     "data": {
      "text/plain": [
       "<matplotlib.axes._subplots.AxesSubplot at 0x7f4b4b4e85d0>"
      ]
     },
     "execution_count": 45,
     "metadata": {},
     "output_type": "execute_result"
    },
    {
     "data": {
      "image/png": "[encoded data removed]",
      "text/plain": [
       "<Figure size 720x504 with 1 Axes>"
      ]
     },
     "metadata": {
      "needs_background": "light"
     },
     "output_type": "display_data"
    }
   ],
   "source": [
    "data.plot(y = 'days_exposition', kind = 'hist', bins = 10, grid=True, figsize = (10,7), range = (0, 1600),  title = 'Распределение кол-ва дней продажи', label = 'дни')"
   ]
  },
  {
   "cell_type": "markdown",
   "metadata": {},
   "source": [
    "Создадим массив с \"очищенными\" данными от выбросов и аномальных значений. \n",
    "Аномальными признаем следующие значения: \n",
    "1. в столбце'total_area' - значения, превышающие 140 м2(исходя из графика)\n",
    "2. в столбце 'last_price' - значения, превышающие 11 млн руб.\n",
    "3. в столбце, содержащем данные о количестве комнат, - 'rooms', более 5\n",
    "4. в столбце'ceiling_height' такиз значений больше не обнаружено;\n",
    "5. в столбце дней продажи'days_exposition' аномальными значениями будут признаны те, которые были совершены менее 30 дней и более 600."
   ]
  },
  {
   "cell_type": "code",
   "execution_count": 31,
   "metadata": {},
   "outputs": [
    {
     "data": {
      "text/html": [
       "<div>\n",
       "<style scoped>\n",
       "    .dataframe tbody tr th:only-of-type {\n",
       "        vertical-align: middle;\n",
       "    }\n",
       "\n",
       "    .dataframe tbody tr th {\n",
       "        vertical-align: top;\n",
       "    }\n",
       "\n",
       "    .dataframe thead th {\n",
       "        text-align: right;\n",
       "    }\n",
       "</style>\n",
       "<table border=\"1\" class=\"dataframe\">\n",
       "  <thead>\n",
       "    <tr style=\"text-align: right;\">\n",
       "      <th></th>\n",
       "      <th>total_images</th>\n",
       "      <th>last_price</th>\n",
       "      <th>total_area</th>\n",
       "      <th>first_day_exposition</th>\n",
       "      <th>rooms</th>\n",
       "      <th>ceiling_height</th>\n",
       "      <th>floors_total</th>\n",
       "      <th>living_area</th>\n",
       "      <th>floor</th>\n",
       "      <th>is_apartment</th>\n",
       "      <th>...</th>\n",
       "      <th>year</th>\n",
       "      <th>floor_category</th>\n",
       "      <th>area_ratio</th>\n",
       "      <th>kitchen_ratio</th>\n",
       "      <th>wrong_area</th>\n",
       "      <th>wrong_price</th>\n",
       "      <th>wrong_ceiling</th>\n",
       "      <th>wrong_rooms</th>\n",
       "      <th>too_fast</th>\n",
       "      <th>too_slow</th>\n",
       "    </tr>\n",
       "  </thead>\n",
       "  <tbody>\n",
       "    <tr>\n",
       "      <td>0</td>\n",
       "      <td>20</td>\n",
       "      <td>13000000</td>\n",
       "      <td>108</td>\n",
       "      <td>2019-03-07</td>\n",
       "      <td>3</td>\n",
       "      <td>2.70</td>\n",
       "      <td>16</td>\n",
       "      <td>51.0</td>\n",
       "      <td>8</td>\n",
       "      <td>False</td>\n",
       "      <td>...</td>\n",
       "      <td>2019</td>\n",
       "      <td>другой</td>\n",
       "      <td>0.472222</td>\n",
       "      <td>0.231481</td>\n",
       "      <td>False</td>\n",
       "      <td>True</td>\n",
       "      <td>False</td>\n",
       "      <td>False</td>\n",
       "      <td>True</td>\n",
       "      <td>False</td>\n",
       "    </tr>\n",
       "    <tr>\n",
       "      <td>1</td>\n",
       "      <td>7</td>\n",
       "      <td>3350000</td>\n",
       "      <td>40</td>\n",
       "      <td>2018-12-04</td>\n",
       "      <td>1</td>\n",
       "      <td>2.60</td>\n",
       "      <td>11</td>\n",
       "      <td>18.6</td>\n",
       "      <td>1</td>\n",
       "      <td>False</td>\n",
       "      <td>...</td>\n",
       "      <td>2018</td>\n",
       "      <td>первый</td>\n",
       "      <td>0.465000</td>\n",
       "      <td>0.275000</td>\n",
       "      <td>False</td>\n",
       "      <td>False</td>\n",
       "      <td>False</td>\n",
       "      <td>False</td>\n",
       "      <td>False</td>\n",
       "      <td>False</td>\n",
       "    </tr>\n",
       "    <tr>\n",
       "      <td>2</td>\n",
       "      <td>10</td>\n",
       "      <td>5196000</td>\n",
       "      <td>56</td>\n",
       "      <td>2015-08-20</td>\n",
       "      <td>2</td>\n",
       "      <td>2.65</td>\n",
       "      <td>5</td>\n",
       "      <td>34.3</td>\n",
       "      <td>4</td>\n",
       "      <td>False</td>\n",
       "      <td>...</td>\n",
       "      <td>2015</td>\n",
       "      <td>другой</td>\n",
       "      <td>0.612500</td>\n",
       "      <td>0.148214</td>\n",
       "      <td>False</td>\n",
       "      <td>False</td>\n",
       "      <td>False</td>\n",
       "      <td>False</td>\n",
       "      <td>False</td>\n",
       "      <td>False</td>\n",
       "    </tr>\n",
       "    <tr>\n",
       "      <td>3</td>\n",
       "      <td>0</td>\n",
       "      <td>64900000</td>\n",
       "      <td>159</td>\n",
       "      <td>2015-07-24</td>\n",
       "      <td>3</td>\n",
       "      <td>2.60</td>\n",
       "      <td>14</td>\n",
       "      <td>45.0</td>\n",
       "      <td>9</td>\n",
       "      <td>False</td>\n",
       "      <td>...</td>\n",
       "      <td>2015</td>\n",
       "      <td>другой</td>\n",
       "      <td>0.283019</td>\n",
       "      <td>0.062893</td>\n",
       "      <td>True</td>\n",
       "      <td>True</td>\n",
       "      <td>False</td>\n",
       "      <td>False</td>\n",
       "      <td>False</td>\n",
       "      <td>False</td>\n",
       "    </tr>\n",
       "    <tr>\n",
       "      <td>4</td>\n",
       "      <td>2</td>\n",
       "      <td>10000000</td>\n",
       "      <td>100</td>\n",
       "      <td>2018-06-19</td>\n",
       "      <td>2</td>\n",
       "      <td>3.03</td>\n",
       "      <td>14</td>\n",
       "      <td>32.0</td>\n",
       "      <td>13</td>\n",
       "      <td>False</td>\n",
       "      <td>...</td>\n",
       "      <td>2018</td>\n",
       "      <td>другой</td>\n",
       "      <td>0.320000</td>\n",
       "      <td>0.410000</td>\n",
       "      <td>False</td>\n",
       "      <td>False</td>\n",
       "      <td>False</td>\n",
       "      <td>False</td>\n",
       "      <td>False</td>\n",
       "      <td>False</td>\n",
       "    </tr>\n",
       "    <tr>\n",
       "      <td>...</td>\n",
       "      <td>...</td>\n",
       "      <td>...</td>\n",
       "      <td>...</td>\n",
       "      <td>...</td>\n",
       "      <td>...</td>\n",
       "      <td>...</td>\n",
       "      <td>...</td>\n",
       "      <td>...</td>\n",
       "      <td>...</td>\n",
       "      <td>...</td>\n",
       "      <td>...</td>\n",
       "      <td>...</td>\n",
       "      <td>...</td>\n",
       "      <td>...</td>\n",
       "      <td>...</td>\n",
       "      <td>...</td>\n",
       "      <td>...</td>\n",
       "      <td>...</td>\n",
       "      <td>...</td>\n",
       "      <td>...</td>\n",
       "      <td>...</td>\n",
       "    </tr>\n",
       "    <tr>\n",
       "      <td>23694</td>\n",
       "      <td>9</td>\n",
       "      <td>9700000</td>\n",
       "      <td>133</td>\n",
       "      <td>2017-03-21</td>\n",
       "      <td>3</td>\n",
       "      <td>3.70</td>\n",
       "      <td>5</td>\n",
       "      <td>73.3</td>\n",
       "      <td>3</td>\n",
       "      <td>False</td>\n",
       "      <td>...</td>\n",
       "      <td>2017</td>\n",
       "      <td>другой</td>\n",
       "      <td>0.551128</td>\n",
       "      <td>0.103985</td>\n",
       "      <td>False</td>\n",
       "      <td>False</td>\n",
       "      <td>False</td>\n",
       "      <td>False</td>\n",
       "      <td>True</td>\n",
       "      <td>False</td>\n",
       "    </tr>\n",
       "    <tr>\n",
       "      <td>23695</td>\n",
       "      <td>14</td>\n",
       "      <td>3100000</td>\n",
       "      <td>59</td>\n",
       "      <td>2018-01-15</td>\n",
       "      <td>3</td>\n",
       "      <td>2.65</td>\n",
       "      <td>5</td>\n",
       "      <td>38.0</td>\n",
       "      <td>4</td>\n",
       "      <td>False</td>\n",
       "      <td>...</td>\n",
       "      <td>2018</td>\n",
       "      <td>другой</td>\n",
       "      <td>0.644068</td>\n",
       "      <td>0.144068</td>\n",
       "      <td>False</td>\n",
       "      <td>False</td>\n",
       "      <td>False</td>\n",
       "      <td>False</td>\n",
       "      <td>False</td>\n",
       "      <td>False</td>\n",
       "    </tr>\n",
       "    <tr>\n",
       "      <td>23696</td>\n",
       "      <td>18</td>\n",
       "      <td>2500000</td>\n",
       "      <td>56</td>\n",
       "      <td>2018-02-11</td>\n",
       "      <td>2</td>\n",
       "      <td>2.60</td>\n",
       "      <td>3</td>\n",
       "      <td>29.7</td>\n",
       "      <td>1</td>\n",
       "      <td>False</td>\n",
       "      <td>...</td>\n",
       "      <td>2018</td>\n",
       "      <td>первый</td>\n",
       "      <td>0.530357</td>\n",
       "      <td>0.139286</td>\n",
       "      <td>False</td>\n",
       "      <td>False</td>\n",
       "      <td>False</td>\n",
       "      <td>False</td>\n",
       "      <td>True</td>\n",
       "      <td>False</td>\n",
       "    </tr>\n",
       "    <tr>\n",
       "      <td>23697</td>\n",
       "      <td>13</td>\n",
       "      <td>11475000</td>\n",
       "      <td>76</td>\n",
       "      <td>2017-03-28</td>\n",
       "      <td>2</td>\n",
       "      <td>3.00</td>\n",
       "      <td>17</td>\n",
       "      <td>30.5</td>\n",
       "      <td>12</td>\n",
       "      <td>False</td>\n",
       "      <td>...</td>\n",
       "      <td>2017</td>\n",
       "      <td>другой</td>\n",
       "      <td>0.401316</td>\n",
       "      <td>0.306579</td>\n",
       "      <td>False</td>\n",
       "      <td>True</td>\n",
       "      <td>False</td>\n",
       "      <td>False</td>\n",
       "      <td>False</td>\n",
       "      <td>True</td>\n",
       "    </tr>\n",
       "    <tr>\n",
       "      <td>23698</td>\n",
       "      <td>4</td>\n",
       "      <td>1350000</td>\n",
       "      <td>32</td>\n",
       "      <td>2017-07-21</td>\n",
       "      <td>1</td>\n",
       "      <td>2.50</td>\n",
       "      <td>5</td>\n",
       "      <td>12.3</td>\n",
       "      <td>1</td>\n",
       "      <td>False</td>\n",
       "      <td>...</td>\n",
       "      <td>2017</td>\n",
       "      <td>первый</td>\n",
       "      <td>0.384375</td>\n",
       "      <td>0.281250</td>\n",
       "      <td>False</td>\n",
       "      <td>False</td>\n",
       "      <td>False</td>\n",
       "      <td>False</td>\n",
       "      <td>True</td>\n",
       "      <td>False</td>\n",
       "    </tr>\n",
       "  </tbody>\n",
       "</table>\n",
       "<p>23608 rows × 35 columns</p>\n",
       "</div>"
      ],
      "text/plain": [
       "       total_images  last_price  total_area first_day_exposition  rooms  \\\n",
       "0                20    13000000         108           2019-03-07      3   \n",
       "1                 7     3350000          40           2018-12-04      1   \n",
       "2                10     5196000          56           2015-08-20      2   \n",
       "3                 0    64900000         159           2015-07-24      3   \n",
       "4                 2    10000000         100           2018-06-19      2   \n",
       "...             ...         ...         ...                  ...    ...   \n",
       "23694             9     9700000         133           2017-03-21      3   \n",
       "23695            14     3100000          59           2018-01-15      3   \n",
       "23696            18     2500000          56           2018-02-11      2   \n",
       "23697            13    11475000          76           2017-03-28      2   \n",
       "23698             4     1350000          32           2017-07-21      1   \n",
       "\n",
       "       ceiling_height  floors_total  living_area  floor  is_apartment  ...  \\\n",
       "0                2.70            16         51.0      8         False  ...   \n",
       "1                2.60            11         18.6      1         False  ...   \n",
       "2                2.65             5         34.3      4         False  ...   \n",
       "3                2.60            14         45.0      9         False  ...   \n",
       "4                3.03            14         32.0     13         False  ...   \n",
       "...               ...           ...          ...    ...           ...  ...   \n",
       "23694            3.70             5         73.3      3         False  ...   \n",
       "23695            2.65             5         38.0      4         False  ...   \n",
       "23696            2.60             3         29.7      1         False  ...   \n",
       "23697            3.00            17         30.5     12         False  ...   \n",
       "23698            2.50             5         12.3      1         False  ...   \n",
       "\n",
       "       year  floor_category  area_ratio  kitchen_ratio wrong_area  \\\n",
       "0      2019          другой    0.472222       0.231481      False   \n",
       "1      2018          первый    0.465000       0.275000      False   \n",
       "2      2015          другой    0.612500       0.148214      False   \n",
       "3      2015          другой    0.283019       0.062893       True   \n",
       "4      2018          другой    0.320000       0.410000      False   \n",
       "...     ...             ...         ...            ...        ...   \n",
       "23694  2017          другой    0.551128       0.103985      False   \n",
       "23695  2018          другой    0.644068       0.144068      False   \n",
       "23696  2018          первый    0.530357       0.139286      False   \n",
       "23697  2017          другой    0.401316       0.306579      False   \n",
       "23698  2017          первый    0.384375       0.281250      False   \n",
       "\n",
       "       wrong_price  wrong_ceiling  wrong_rooms  too_fast  too_slow  \n",
       "0             True          False        False      True     False  \n",
       "1            False          False        False     False     False  \n",
       "2            False          False        False     False     False  \n",
       "3             True          False        False     False     False  \n",
       "4            False          False        False     False     False  \n",
       "...            ...            ...          ...       ...       ...  \n",
       "23694        False          False        False      True     False  \n",
       "23695        False          False        False     False     False  \n",
       "23696        False          False        False      True     False  \n",
       "23697         True          False        False     False      True  \n",
       "23698        False          False        False      True     False  \n",
       "\n",
       "[23608 rows x 35 columns]"
      ]
     },
     "execution_count": 31,
     "metadata": {},
     "output_type": "execute_result"
    }
   ],
   "source": [
    "data['wrong_area'] = data['total_area'] > 140\n",
    "data['wrong_price'] = data['last_price'] > 11000000\n",
    "data['wrong_ceiling'] = data['ceiling_height'] > 4.0\n",
    "data['wrong_rooms'] = data['rooms'] > 5\n",
    "data['too_fast'] = data['days_exposition'] < 30\n",
    "data['too_slow'] = data['days_exposition'] > 600\n",
    "data"
   ]
  },
  {
   "cell_type": "code",
   "execution_count": 32,
   "metadata": {},
   "outputs": [
    {
     "name": "stdout",
     "output_type": "stream",
     "text": [
      "Доля \"хороших\" значений составила: 61.0%\n"
     ]
    }
   ],
   "source": [
    "good_data = data[(data['wrong_area'] == False) & \n",
    "     (data['wrong_price'] == False) &\n",
    "     (data['wrong_rooms'] == False) &\n",
    "     (data['wrong_ceiling'] == False) &\n",
    "     (data['too_slow'] == False) &\n",
    "     (data['too_fast'] == False)].reset_index(drop=True)\n",
    "good_data\n",
    "print('Доля \"хороших\" значений составила: {:.1%}'.format(len(good_data) / len(data)))"
   ]
  },
  {
   "cell_type": "markdown",
   "metadata": {},
   "source": [
    "Изучим факторы, больше всего влияющие на стоимость квартиры, построив матрицу корреляций. В первую очередь изучим количественные переменные: площадь, число комнат, удалённость от центра. \n",
    "Как можно увидеть, между всеми вышеперечисленными факторами и ценой корреляция в большей степени отрицательная слабая, соответственно, можно говорить о слабой зависимости от вышеперечисленных факторов, однако наибольшее влияние на стоимость оказывает площадь квартиры."
   ]
  },
  {
   "cell_type": "code",
   "execution_count": 33,
   "metadata": {},
   "outputs": [
    {
     "data": {
      "text/html": [
       "<style  type=\"text/css\" >\n",
       "    #T_3a2e1a3a_f1b9_11eb_8824_02420a39387drow0_col0 {\n",
       "            background-color:  #b40426;\n",
       "            color:  #f1f1f1;\n",
       "        }    #T_3a2e1a3a_f1b9_11eb_8824_02420a39387drow0_col1 {\n",
       "            background-color:  #3b4cc0;\n",
       "            color:  #f1f1f1;\n",
       "        }    #T_3a2e1a3a_f1b9_11eb_8824_02420a39387drow0_col2 {\n",
       "            background-color:  #3b4cc0;\n",
       "            color:  #f1f1f1;\n",
       "        }    #T_3a2e1a3a_f1b9_11eb_8824_02420a39387drow0_col3 {\n",
       "            background-color:  #3b4cc0;\n",
       "            color:  #f1f1f1;\n",
       "        }    #T_3a2e1a3a_f1b9_11eb_8824_02420a39387drow1_col0 {\n",
       "            background-color:  #5e7de7;\n",
       "            color:  #000000;\n",
       "        }    #T_3a2e1a3a_f1b9_11eb_8824_02420a39387drow1_col1 {\n",
       "            background-color:  #b40426;\n",
       "            color:  #f1f1f1;\n",
       "        }    #T_3a2e1a3a_f1b9_11eb_8824_02420a39387drow1_col2 {\n",
       "            background-color:  #e46e56;\n",
       "            color:  #000000;\n",
       "        }    #T_3a2e1a3a_f1b9_11eb_8824_02420a39387drow1_col3 {\n",
       "            background-color:  #5470de;\n",
       "            color:  #000000;\n",
       "        }    #T_3a2e1a3a_f1b9_11eb_8824_02420a39387drow2_col0 {\n",
       "            background-color:  #3b4cc0;\n",
       "            color:  #f1f1f1;\n",
       "        }    #T_3a2e1a3a_f1b9_11eb_8824_02420a39387drow2_col1 {\n",
       "            background-color:  #e9785d;\n",
       "            color:  #000000;\n",
       "        }    #T_3a2e1a3a_f1b9_11eb_8824_02420a39387drow2_col2 {\n",
       "            background-color:  #b40426;\n",
       "            color:  #f1f1f1;\n",
       "        }    #T_3a2e1a3a_f1b9_11eb_8824_02420a39387drow2_col3 {\n",
       "            background-color:  #5b7ae5;\n",
       "            color:  #000000;\n",
       "        }    #T_3a2e1a3a_f1b9_11eb_8824_02420a39387drow3_col0 {\n",
       "            background-color:  #455cce;\n",
       "            color:  #f1f1f1;\n",
       "        }    #T_3a2e1a3a_f1b9_11eb_8824_02420a39387drow3_col1 {\n",
       "            background-color:  #3b4cc0;\n",
       "            color:  #f1f1f1;\n",
       "        }    #T_3a2e1a3a_f1b9_11eb_8824_02420a39387drow3_col2 {\n",
       "            background-color:  #6687ed;\n",
       "            color:  #000000;\n",
       "        }    #T_3a2e1a3a_f1b9_11eb_8824_02420a39387drow3_col3 {\n",
       "            background-color:  #b40426;\n",
       "            color:  #f1f1f1;\n",
       "        }</style><table id=\"T_3a2e1a3a_f1b9_11eb_8824_02420a39387d\" ><thead>    <tr>        <th class=\"blank level0\" ></th>        <th class=\"col_heading level0 col0\" >price_per_meter</th>        <th class=\"col_heading level0 col1\" >total_area</th>        <th class=\"col_heading level0 col2\" >rooms</th>        <th class=\"col_heading level0 col3\" >cityCenters_nearest</th>    </tr></thead><tbody>\n",
       "                <tr>\n",
       "                        <th id=\"T_3a2e1a3a_f1b9_11eb_8824_02420a39387dlevel0_row0\" class=\"row_heading level0 row0\" >price_per_meter</th>\n",
       "                        <td id=\"T_3a2e1a3a_f1b9_11eb_8824_02420a39387drow0_col0\" class=\"data row0 col0\" >1</td>\n",
       "                        <td id=\"T_3a2e1a3a_f1b9_11eb_8824_02420a39387drow0_col1\" class=\"data row0 col1\" >-0.11</td>\n",
       "                        <td id=\"T_3a2e1a3a_f1b9_11eb_8824_02420a39387drow0_col2\" class=\"data row0 col2\" >-0.25</td>\n",
       "                        <td id=\"T_3a2e1a3a_f1b9_11eb_8824_02420a39387drow0_col3\" class=\"data row0 col3\" >-0.21</td>\n",
       "            </tr>\n",
       "            <tr>\n",
       "                        <th id=\"T_3a2e1a3a_f1b9_11eb_8824_02420a39387dlevel0_row1\" class=\"row_heading level0 row1\" >total_area</th>\n",
       "                        <td id=\"T_3a2e1a3a_f1b9_11eb_8824_02420a39387drow1_col0\" class=\"data row1 col0\" >-0.11</td>\n",
       "                        <td id=\"T_3a2e1a3a_f1b9_11eb_8824_02420a39387drow1_col1\" class=\"data row1 col1\" >1</td>\n",
       "                        <td id=\"T_3a2e1a3a_f1b9_11eb_8824_02420a39387drow1_col2\" class=\"data row1 col2\" >0.81</td>\n",
       "                        <td id=\"T_3a2e1a3a_f1b9_11eb_8824_02420a39387drow1_col3\" class=\"data row1 col3\" >-0.11</td>\n",
       "            </tr>\n",
       "            <tr>\n",
       "                        <th id=\"T_3a2e1a3a_f1b9_11eb_8824_02420a39387dlevel0_row2\" class=\"row_heading level0 row2\" >rooms</th>\n",
       "                        <td id=\"T_3a2e1a3a_f1b9_11eb_8824_02420a39387drow2_col0\" class=\"data row2 col0\" >-0.25</td>\n",
       "                        <td id=\"T_3a2e1a3a_f1b9_11eb_8824_02420a39387drow2_col1\" class=\"data row2 col1\" >0.81</td>\n",
       "                        <td id=\"T_3a2e1a3a_f1b9_11eb_8824_02420a39387drow2_col2\" class=\"data row2 col2\" >1</td>\n",
       "                        <td id=\"T_3a2e1a3a_f1b9_11eb_8824_02420a39387drow2_col3\" class=\"data row2 col3\" >-0.079</td>\n",
       "            </tr>\n",
       "            <tr>\n",
       "                        <th id=\"T_3a2e1a3a_f1b9_11eb_8824_02420a39387dlevel0_row3\" class=\"row_heading level0 row3\" >cityCenters_nearest</th>\n",
       "                        <td id=\"T_3a2e1a3a_f1b9_11eb_8824_02420a39387drow3_col0\" class=\"data row3 col0\" >-0.21</td>\n",
       "                        <td id=\"T_3a2e1a3a_f1b9_11eb_8824_02420a39387drow3_col1\" class=\"data row3 col1\" >-0.11</td>\n",
       "                        <td id=\"T_3a2e1a3a_f1b9_11eb_8824_02420a39387drow3_col2\" class=\"data row3 col2\" >-0.079</td>\n",
       "                        <td id=\"T_3a2e1a3a_f1b9_11eb_8824_02420a39387drow3_col3\" class=\"data row3 col3\" >1</td>\n",
       "            </tr>\n",
       "    </tbody></table>"
      ],
      "text/plain": [
       "<pandas.io.formats.style.Styler at 0x7f78b6f15c10>"
      ]
     },
     "execution_count": 33,
     "metadata": {},
     "output_type": "execute_result"
    }
   ],
   "source": [
    "corr = good_data[['price_per_meter',\\\n",
    "           'total_area',\\\n",
    "           'rooms',\\\n",
    "           'cityCenters_nearest']].corr()\n",
    "corr.style.background_gradient(cmap='coolwarm').set_precision(2)"
   ]
  },
  {
   "cell_type": "markdown",
   "metadata": {},
   "source": [
    "Следующий шаг посвящен анализу категориальных перменных и зависимости цены от того, на каком этаже расположена квартира: первом, последнем или другом, и от даты размещения: дня недели, месяца и года. Для анализа построим диаграммы размаха:\n",
    "1. как можно увидеть, для первого и последнего этажа средняя стоимость квадратного метра квартиры несколько ниже, чем для других; при этом квартиры на первом эаже дешевле вне зависимости от месторасположения.\n",
    "2. день недели и месяц размещения на цену не влияет (цена изменяется в пределах погрешности), в то время как с 2015 г. стоимость растет, как можно увидеть из графика."
   ]
  },
  {
   "cell_type": "code",
   "execution_count": 34,
   "metadata": {},
   "outputs": [
    {
     "name": "stderr",
     "output_type": "stream",
     "text": [
      "/opt/conda/lib/python3.7/site-packages/numpy/core/_asarray.py:83: VisibleDeprecationWarning: Creating an ndarray from ragged nested sequences (which is a list-or-tuple of lists-or-tuples-or ndarrays with different lengths or shapes) is deprecated. If you meant to do this, you must specify 'dtype=object' when creating the ndarray\n",
      "  return array(a, dtype, copy=False, order=order)\n"
     ]
    },
    {
     "data": {
      "image/png": "[encoded data removed]",
      "text/plain": [
       "<Figure size 720x720 with 1 Axes>"
      ]
     },
     "metadata": {
      "needs_background": "light"
     },
     "output_type": "display_data"
    }
   ],
   "source": [
    "plot_floors = good_data.boxplot('price_per_meter', by='floor_category',figsize=(10,10)).set_ylim(0,200000)"
   ]
  },
  {
   "cell_type": "code",
   "execution_count": 35,
   "metadata": {},
   "outputs": [
    {
     "name": "stderr",
     "output_type": "stream",
     "text": [
      "/opt/conda/lib/python3.7/site-packages/numpy/core/_asarray.py:83: VisibleDeprecationWarning: Creating an ndarray from ragged nested sequences (which is a list-or-tuple of lists-or-tuples-or ndarrays with different lengths or shapes) is deprecated. If you meant to do this, you must specify 'dtype=object' when creating the ndarray\n",
      "  return array(a, dtype, copy=False, order=order)\n"
     ]
    },
    {
     "data": {
      "image/png": "[encoded data removed]",
      "text/plain": [
       "<Figure size 720x720 with 1 Axes>"
      ]
     },
     "metadata": {
      "needs_background": "light"
     },
     "output_type": "display_data"
    }
   ],
   "source": [
    "plot_weekday = good_data.boxplot('price_per_meter', by='weekday',figsize=(10,10)).set_ylim(0,200000)"
   ]
  },
  {
   "cell_type": "code",
   "execution_count": 36,
   "metadata": {},
   "outputs": [
    {
     "name": "stderr",
     "output_type": "stream",
     "text": [
      "/opt/conda/lib/python3.7/site-packages/numpy/core/_asarray.py:83: VisibleDeprecationWarning: Creating an ndarray from ragged nested sequences (which is a list-or-tuple of lists-or-tuples-or ndarrays with different lengths or shapes) is deprecated. If you meant to do this, you must specify 'dtype=object' when creating the ndarray\n",
      "  return array(a, dtype, copy=False, order=order)\n"
     ]
    },
    {
     "data": {
      "image/png": "[encoded data removed]",
      "text/plain": [
       "<Figure size 720x720 with 1 Axes>"
      ]
     },
     "metadata": {
      "needs_background": "light"
     },
     "output_type": "display_data"
    }
   ],
   "source": [
    "plot_month = good_data.boxplot('price_per_meter', by='month',figsize=(10,10)).set_ylim(0,200000)"
   ]
  },
  {
   "cell_type": "code",
   "execution_count": 37,
   "metadata": {},
   "outputs": [
    {
     "name": "stderr",
     "output_type": "stream",
     "text": [
      "/opt/conda/lib/python3.7/site-packages/numpy/core/_asarray.py:83: VisibleDeprecationWarning: Creating an ndarray from ragged nested sequences (which is a list-or-tuple of lists-or-tuples-or ndarrays with different lengths or shapes) is deprecated. If you meant to do this, you must specify 'dtype=object' when creating the ndarray\n",
      "  return array(a, dtype, copy=False, order=order)\n"
     ]
    },
    {
     "data": {
      "image/png": "[encoded data removed]",
      "text/plain": [
       "<Figure size 720x720 with 1 Axes>"
      ]
     },
     "metadata": {
      "needs_background": "light"
     },
     "output_type": "display_data"
    }
   ],
   "source": [
    "plot_year = good_data.boxplot('price_per_meter', by='year',figsize=(10,10)).set_ylim(0,200000)"
   ]
  },
  {
   "cell_type": "markdown",
   "metadata": {},
   "source": [
    "Далее выберем 10 населённых пунктов с наибольшим числом объявлений и посчитаем среднюю цену квадратного метра в этих населённых пунктах и выделим среди них населённые пункты с самой высокой и низкой стоимостью жилья. Как можно увидеть ниже, в тройке лидеров по количеству объявлений - Санкт-Петербург, поселок Мурино и поселок Шушары, в то время как по стоимости жилья - Санкт-Петеребург, Пушкин и деревня Кудрово. Наиболее низкая стоимость жилья - во Всеволжске."
   ]
  },
  {
   "cell_type": "code",
   "execution_count": 38,
   "metadata": {},
   "outputs": [
    {
     "data": {
      "text/html": [
       "<div>\n",
       "<style scoped>\n",
       "    .dataframe tbody tr th:only-of-type {\n",
       "        vertical-align: middle;\n",
       "    }\n",
       "\n",
       "    .dataframe tbody tr th {\n",
       "        vertical-align: top;\n",
       "    }\n",
       "\n",
       "    .dataframe thead th {\n",
       "        text-align: right;\n",
       "    }\n",
       "</style>\n",
       "<table border=\"1\" class=\"dataframe\">\n",
       "  <thead>\n",
       "    <tr style=\"text-align: right;\">\n",
       "      <th></th>\n",
       "      <th>count</th>\n",
       "      <th>median</th>\n",
       "    </tr>\n",
       "    <tr>\n",
       "      <th>locality_name</th>\n",
       "      <th></th>\n",
       "      <th></th>\n",
       "    </tr>\n",
       "  </thead>\n",
       "  <tbody>\n",
       "    <tr>\n",
       "      <td>санкт-петербург</td>\n",
       "      <td>8977</td>\n",
       "      <td>101111.0</td>\n",
       "    </tr>\n",
       "    <tr>\n",
       "      <td>поселок мурино</td>\n",
       "      <td>416</td>\n",
       "      <td>86410.5</td>\n",
       "    </tr>\n",
       "    <tr>\n",
       "      <td>поселок шушары</td>\n",
       "      <td>328</td>\n",
       "      <td>76392.5</td>\n",
       "    </tr>\n",
       "    <tr>\n",
       "      <td>всеволожск</td>\n",
       "      <td>280</td>\n",
       "      <td>65843.0</td>\n",
       "    </tr>\n",
       "    <tr>\n",
       "      <td>поселок парголово</td>\n",
       "      <td>240</td>\n",
       "      <td>91590.0</td>\n",
       "    </tr>\n",
       "    <tr>\n",
       "      <td>колпино</td>\n",
       "      <td>230</td>\n",
       "      <td>73140.5</td>\n",
       "    </tr>\n",
       "    <tr>\n",
       "      <td>деревня кудрово</td>\n",
       "      <td>225</td>\n",
       "      <td>92647.0</td>\n",
       "    </tr>\n",
       "    <tr>\n",
       "      <td>пушкин</td>\n",
       "      <td>219</td>\n",
       "      <td>97800.0</td>\n",
       "    </tr>\n",
       "    <tr>\n",
       "      <td>гатчина</td>\n",
       "      <td>208</td>\n",
       "      <td>67314.0</td>\n",
       "    </tr>\n",
       "    <tr>\n",
       "      <td>выборг</td>\n",
       "      <td>171</td>\n",
       "      <td>56451.0</td>\n",
       "    </tr>\n",
       "  </tbody>\n",
       "</table>\n",
       "</div>"
      ],
      "text/plain": [
       "                   count    median\n",
       "locality_name                     \n",
       "санкт-петербург     8977  101111.0\n",
       "поселок мурино       416   86410.5\n",
       "поселок шушары       328   76392.5\n",
       "всеволожск           280   65843.0\n",
       "поселок парголово    240   91590.0\n",
       "колпино              230   73140.5\n",
       "деревня кудрово      225   92647.0\n",
       "пушкин               219   97800.0\n",
       "гатчина              208   67314.0\n",
       "выборг               171   56451.0"
      ]
     },
     "execution_count": 38,
     "metadata": {},
     "output_type": "execute_result"
    }
   ],
   "source": [
    "top_location = good_data.pivot_table(index='locality_name', values='price_per_meter', aggfunc =['count','median'])\n",
    "top_location.columns=('count', 'median')\n",
    "top_location.sort_values(by='count', ascending = False).head(10)"
   ]
  },
  {
   "cell_type": "markdown",
   "metadata": {},
   "source": [
    "Изучим предложения квартир и выделим квартиры в Санкт-Петербурге. Для того, чтобы выяснить, какая область входит в центр, построим график, показывающий, как цена зависит от удалённости от центра. Как можно увидеть из графика, резкое падение цены происходит на расстоянии между 5 и 10 км, соответственно, определим центральную зону как то, что находится в радиусе 7 км до центра."
   ]
  },
  {
   "cell_type": "code",
   "execution_count": 39,
   "metadata": {},
   "outputs": [
    {
     "data": {
      "text/plain": [
       "<matplotlib.axes._subplots.AxesSubplot at 0x7f7909e60cd0>"
      ]
     },
     "execution_count": 39,
     "metadata": {},
     "output_type": "execute_result"
    },
    {
     "data": {
      "image/png": "[encoded data removed]",
      "text/plain": [
       "<Figure size 432x288 with 1 Axes>"
      ]
     },
     "metadata": {
      "needs_background": "light"
     },
     "output_type": "display_data"
    }
   ],
   "source": [
    "good_data['cityCenters_nearest_km'] = good_data['cityCenters_nearest']/1000\n",
    "good_data['cityCenters_nearest_km'] = good_data['cityCenters_nearest_km'].astype('int')\n",
    "data_spb = good_data.query('locality_name in \"санкт-петербург\"')\n",
    "data_spb.reset_index(drop=True, inplace=True)\n",
    "center_km = data_spb.pivot_table(index='cityCenters_nearest_km', values='price_per_meter', aggfunc='median')\n",
    "center_km.plot()"
   ]
  },
  {
   "cell_type": "markdown",
   "metadata": {},
   "source": [
    "После того, как мы выделили сегмент квартир в центре, проанализируем эту территорию и изучим следующие параметры: площадь, цена, число комнат, высота потолков. Также выделим факторы, которые влияют на стоимость квартиры (число комнат, этаж, удалённость от центра, дата размещения объявления). Как можно увидеть из графика ниже, \"центровой\" сегмент отличается большей стоимостью, более высокими потолками и большим количеством комнат."
   ]
  },
  {
   "cell_type": "code",
   "execution_count": 40,
   "metadata": {},
   "outputs": [
    {
     "data": {
      "text/html": [
       "<div>\n",
       "<style scoped>\n",
       "    .dataframe tbody tr th:only-of-type {\n",
       "        vertical-align: middle;\n",
       "    }\n",
       "\n",
       "    .dataframe tbody tr th {\n",
       "        vertical-align: top;\n",
       "    }\n",
       "\n",
       "    .dataframe thead th {\n",
       "        text-align: right;\n",
       "    }\n",
       "</style>\n",
       "<table border=\"1\" class=\"dataframe\">\n",
       "  <thead>\n",
       "    <tr style=\"text-align: right;\">\n",
       "      <th></th>\n",
       "      <th>total_area</th>\n",
       "      <th>last_price</th>\n",
       "      <th>rooms</th>\n",
       "      <th>ceiling_height</th>\n",
       "    </tr>\n",
       "  </thead>\n",
       "  <tbody>\n",
       "    <tr>\n",
       "      <td>count</td>\n",
       "      <td>1487.000000</td>\n",
       "      <td>1.487000e+03</td>\n",
       "      <td>1487.000000</td>\n",
       "      <td>1487.000000</td>\n",
       "    </tr>\n",
       "    <tr>\n",
       "      <td>mean</td>\n",
       "      <td>63.919301</td>\n",
       "      <td>7.072796e+06</td>\n",
       "      <td>2.271688</td>\n",
       "      <td>2.845393</td>\n",
       "    </tr>\n",
       "    <tr>\n",
       "      <td>std</td>\n",
       "      <td>21.419044</td>\n",
       "      <td>1.970786e+06</td>\n",
       "      <td>0.985848</td>\n",
       "      <td>0.297866</td>\n",
       "    </tr>\n",
       "    <tr>\n",
       "      <td>min</td>\n",
       "      <td>12.000000</td>\n",
       "      <td>1.800000e+06</td>\n",
       "      <td>0.000000</td>\n",
       "      <td>2.400000</td>\n",
       "    </tr>\n",
       "    <tr>\n",
       "      <td>25%</td>\n",
       "      <td>46.000000</td>\n",
       "      <td>5.565396e+06</td>\n",
       "      <td>2.000000</td>\n",
       "      <td>2.650000</td>\n",
       "    </tr>\n",
       "    <tr>\n",
       "      <td>50%</td>\n",
       "      <td>62.000000</td>\n",
       "      <td>6.980000e+06</td>\n",
       "      <td>2.000000</td>\n",
       "      <td>2.700000</td>\n",
       "    </tr>\n",
       "    <tr>\n",
       "      <td>75%</td>\n",
       "      <td>78.000000</td>\n",
       "      <td>8.500000e+06</td>\n",
       "      <td>3.000000</td>\n",
       "      <td>3.000000</td>\n",
       "    </tr>\n",
       "    <tr>\n",
       "      <td>max</td>\n",
       "      <td>139.000000</td>\n",
       "      <td>1.100000e+07</td>\n",
       "      <td>5.000000</td>\n",
       "      <td>4.000000</td>\n",
       "    </tr>\n",
       "  </tbody>\n",
       "</table>\n",
       "</div>"
      ],
      "text/plain": [
       "        total_area    last_price        rooms  ceiling_height\n",
       "count  1487.000000  1.487000e+03  1487.000000     1487.000000\n",
       "mean     63.919301  7.072796e+06     2.271688        2.845393\n",
       "std      21.419044  1.970786e+06     0.985848        0.297866\n",
       "min      12.000000  1.800000e+06     0.000000        2.400000\n",
       "25%      46.000000  5.565396e+06     2.000000        2.650000\n",
       "50%      62.000000  6.980000e+06     2.000000        2.700000\n",
       "75%      78.000000  8.500000e+06     3.000000        3.000000\n",
       "max     139.000000  1.100000e+07     5.000000        4.000000"
      ]
     },
     "execution_count": 40,
     "metadata": {},
     "output_type": "execute_result"
    }
   ],
   "source": [
    "spb_center = good_data[(good_data['cityCenters_nearest_km'] <= 7) & (good_data['locality_name'] == 'санкт-петербург')]\n",
    "spb_center[['total_area', 'last_price', 'rooms', 'ceiling_height']].describe()"
   ]
  },
  {
   "cell_type": "markdown",
   "metadata": {},
   "source": [
    "Кроме того, квартиры в центре имеют более сильную отрицательную взаимосвязь с показателями общей площади и количества комнат, чем в целом по рынку. Наиболее сравнительно низкой остается цена на первый этаж, квартиры, размещенные ближе к выходным (пт, сб и вс), также имеют более высокую стоимость. "
   ]
  },
  {
   "cell_type": "code",
   "execution_count": 41,
   "metadata": {},
   "outputs": [
    {
     "data": {
      "text/html": [
       "<style  type=\"text/css\" >\n",
       "    #T_3b1dc18e_f1b9_11eb_8824_02420a39387drow0_col0 {\n",
       "            background-color:  #b40426;\n",
       "            color:  #f1f1f1;\n",
       "        }    #T_3b1dc18e_f1b9_11eb_8824_02420a39387drow0_col1 {\n",
       "            background-color:  #3b4cc0;\n",
       "            color:  #f1f1f1;\n",
       "        }    #T_3b1dc18e_f1b9_11eb_8824_02420a39387drow0_col2 {\n",
       "            background-color:  #3b4cc0;\n",
       "            color:  #f1f1f1;\n",
       "        }    #T_3b1dc18e_f1b9_11eb_8824_02420a39387drow0_col3 {\n",
       "            background-color:  #8caffe;\n",
       "            color:  #000000;\n",
       "        }    #T_3b1dc18e_f1b9_11eb_8824_02420a39387drow1_col0 {\n",
       "            background-color:  #4055c8;\n",
       "            color:  #f1f1f1;\n",
       "        }    #T_3b1dc18e_f1b9_11eb_8824_02420a39387drow1_col1 {\n",
       "            background-color:  #b40426;\n",
       "            color:  #f1f1f1;\n",
       "        }    #T_3b1dc18e_f1b9_11eb_8824_02420a39387drow1_col2 {\n",
       "            background-color:  #dd5f4b;\n",
       "            color:  #000000;\n",
       "        }    #T_3b1dc18e_f1b9_11eb_8824_02420a39387drow1_col3 {\n",
       "            background-color:  #3b4cc0;\n",
       "            color:  #f1f1f1;\n",
       "        }    #T_3b1dc18e_f1b9_11eb_8824_02420a39387drow2_col0 {\n",
       "            background-color:  #3b4cc0;\n",
       "            color:  #f1f1f1;\n",
       "        }    #T_3b1dc18e_f1b9_11eb_8824_02420a39387drow2_col1 {\n",
       "            background-color:  #de614d;\n",
       "            color:  #000000;\n",
       "        }    #T_3b1dc18e_f1b9_11eb_8824_02420a39387drow2_col2 {\n",
       "            background-color:  #b40426;\n",
       "            color:  #f1f1f1;\n",
       "        }    #T_3b1dc18e_f1b9_11eb_8824_02420a39387drow2_col3 {\n",
       "            background-color:  #445acc;\n",
       "            color:  #f1f1f1;\n",
       "        }    #T_3b1dc18e_f1b9_11eb_8824_02420a39387drow3_col0 {\n",
       "            background-color:  #c4d5f3;\n",
       "            color:  #000000;\n",
       "        }    #T_3b1dc18e_f1b9_11eb_8824_02420a39387drow3_col1 {\n",
       "            background-color:  #7da0f9;\n",
       "            color:  #000000;\n",
       "        }    #T_3b1dc18e_f1b9_11eb_8824_02420a39387drow3_col2 {\n",
       "            background-color:  #8caffe;\n",
       "            color:  #000000;\n",
       "        }    #T_3b1dc18e_f1b9_11eb_8824_02420a39387drow3_col3 {\n",
       "            background-color:  #b40426;\n",
       "            color:  #f1f1f1;\n",
       "        }</style><table id=\"T_3b1dc18e_f1b9_11eb_8824_02420a39387d\" ><thead>    <tr>        <th class=\"blank level0\" ></th>        <th class=\"col_heading level0 col0\" >price_per_meter</th>        <th class=\"col_heading level0 col1\" >total_area</th>        <th class=\"col_heading level0 col2\" >rooms</th>        <th class=\"col_heading level0 col3\" >cityCenters_nearest</th>    </tr></thead><tbody>\n",
       "                <tr>\n",
       "                        <th id=\"T_3b1dc18e_f1b9_11eb_8824_02420a39387dlevel0_row0\" class=\"row_heading level0 row0\" >price_per_meter</th>\n",
       "                        <td id=\"T_3b1dc18e_f1b9_11eb_8824_02420a39387drow0_col0\" class=\"data row0 col0\" >1</td>\n",
       "                        <td id=\"T_3b1dc18e_f1b9_11eb_8824_02420a39387drow0_col1\" class=\"data row0 col1\" >-0.54</td>\n",
       "                        <td id=\"T_3b1dc18e_f1b9_11eb_8824_02420a39387drow0_col2\" class=\"data row0 col2\" >-0.57</td>\n",
       "                        <td id=\"T_3b1dc18e_f1b9_11eb_8824_02420a39387drow0_col3\" class=\"data row0 col3\" >0.079</td>\n",
       "            </tr>\n",
       "            <tr>\n",
       "                        <th id=\"T_3b1dc18e_f1b9_11eb_8824_02420a39387dlevel0_row1\" class=\"row_heading level0 row1\" >total_area</th>\n",
       "                        <td id=\"T_3b1dc18e_f1b9_11eb_8824_02420a39387drow1_col0\" class=\"data row1 col0\" >-0.54</td>\n",
       "                        <td id=\"T_3b1dc18e_f1b9_11eb_8824_02420a39387drow1_col1\" class=\"data row1 col1\" >1</td>\n",
       "                        <td id=\"T_3b1dc18e_f1b9_11eb_8824_02420a39387drow1_col2\" class=\"data row1 col2\" >0.81</td>\n",
       "                        <td id=\"T_3b1dc18e_f1b9_11eb_8824_02420a39387drow1_col3\" class=\"data row1 col3\" >-0.22</td>\n",
       "            </tr>\n",
       "            <tr>\n",
       "                        <th id=\"T_3b1dc18e_f1b9_11eb_8824_02420a39387dlevel0_row2\" class=\"row_heading level0 row2\" >rooms</th>\n",
       "                        <td id=\"T_3b1dc18e_f1b9_11eb_8824_02420a39387drow2_col0\" class=\"data row2 col0\" >-0.57</td>\n",
       "                        <td id=\"T_3b1dc18e_f1b9_11eb_8824_02420a39387drow2_col1\" class=\"data row2 col1\" >0.81</td>\n",
       "                        <td id=\"T_3b1dc18e_f1b9_11eb_8824_02420a39387drow2_col2\" class=\"data row2 col2\" >1</td>\n",
       "                        <td id=\"T_3b1dc18e_f1b9_11eb_8824_02420a39387drow2_col3\" class=\"data row2 col3\" >-0.18</td>\n",
       "            </tr>\n",
       "            <tr>\n",
       "                        <th id=\"T_3b1dc18e_f1b9_11eb_8824_02420a39387dlevel0_row3\" class=\"row_heading level0 row3\" >cityCenters_nearest</th>\n",
       "                        <td id=\"T_3b1dc18e_f1b9_11eb_8824_02420a39387drow3_col0\" class=\"data row3 col0\" >0.079</td>\n",
       "                        <td id=\"T_3b1dc18e_f1b9_11eb_8824_02420a39387drow3_col1\" class=\"data row3 col1\" >-0.22</td>\n",
       "                        <td id=\"T_3b1dc18e_f1b9_11eb_8824_02420a39387drow3_col2\" class=\"data row3 col2\" >-0.18</td>\n",
       "                        <td id=\"T_3b1dc18e_f1b9_11eb_8824_02420a39387drow3_col3\" class=\"data row3 col3\" >1</td>\n",
       "            </tr>\n",
       "    </tbody></table>"
      ],
      "text/plain": [
       "<pandas.io.formats.style.Styler at 0x7f7909c86e50>"
      ]
     },
     "execution_count": 41,
     "metadata": {},
     "output_type": "execute_result"
    }
   ],
   "source": [
    "corr = spb_center[['price_per_meter',\\\n",
    "           'total_area',\\\n",
    "           'rooms',\\\n",
    "           'cityCenters_nearest']].corr()\n",
    "corr.style.background_gradient(cmap='coolwarm').set_precision(2)"
   ]
  },
  {
   "cell_type": "code",
   "execution_count": 42,
   "metadata": {},
   "outputs": [
    {
     "name": "stderr",
     "output_type": "stream",
     "text": [
      "/opt/conda/lib/python3.7/site-packages/numpy/core/_asarray.py:83: VisibleDeprecationWarning: Creating an ndarray from ragged nested sequences (which is a list-or-tuple of lists-or-tuples-or ndarrays with different lengths or shapes) is deprecated. If you meant to do this, you must specify 'dtype=object' when creating the ndarray\n",
      "  return array(a, dtype, copy=False, order=order)\n"
     ]
    },
    {
     "data": {
      "image/png": "[encoded data removed]",
      "text/plain": [
       "<Figure size 720x720 with 1 Axes>"
      ]
     },
     "metadata": {
      "needs_background": "light"
     },
     "output_type": "display_data"
    }
   ],
   "source": [
    "plot_floors = spb_center.boxplot('price_per_meter', by='floor_category',figsize=(10,10)).set_ylim(0,200000)"
   ]
  },
  {
   "cell_type": "code",
   "execution_count": 43,
   "metadata": {},
   "outputs": [
    {
     "name": "stderr",
     "output_type": "stream",
     "text": [
      "/opt/conda/lib/python3.7/site-packages/numpy/core/_asarray.py:83: VisibleDeprecationWarning: Creating an ndarray from ragged nested sequences (which is a list-or-tuple of lists-or-tuples-or ndarrays with different lengths or shapes) is deprecated. If you meant to do this, you must specify 'dtype=object' when creating the ndarray\n",
      "  return array(a, dtype, copy=False, order=order)\n"
     ]
    },
    {
     "data": {
      "image/png": "[encoded data removed]",
      "text/plain": [
       "<Figure size 720x720 with 1 Axes>"
      ]
     },
     "metadata": {
      "needs_background": "light"
     },
     "output_type": "display_data"
    }
   ],
   "source": [
    "plot_weekday = spb_center.boxplot('price_per_meter', by='weekday',figsize=(10,10)).set_ylim(0,200000)"
   ]
  },
  {
   "cell_type": "markdown",
   "metadata": {},
   "source": [
    "Стоит сказать, что среди основных отличий центральных квартир - большая площадь, большее количество комнат, более высокие потолки и, соответственно, более высокая стоимость недвижимости."
   ]
  },
  {
   "cell_type": "markdown",
   "metadata": {},
   "source": [
    "## Общий вывод"
   ]
  },
  {
   "cell_type": "markdown",
   "metadata": {},
   "source": [
    "Таким образом, можно сделать следующие выводы: во-первых, на рынке недвижимости имеет место как \"подозрительная\" активность (квартиры с очень низкими потолками и большим количеством комнат), так и ошибки самих владельцев (потолки вместо 2.7 м 27 м). Во-вторых, наиболее важными для квартир \"центрового\" сегмента, продающихся по более высокой цене, выступают параметры большей жилой площади и ольшего количества комнат. В-третьих, влияния даты размещения объявления практически отсутсвует, в то время как этаж \"другой\"(не первый) выступает важным параметром, как и расстояние до центра. В-третьих, наиболее высокой по цене выступает не только недвижимость крупных городов - Санкт-Петербурга и пр., но и пригородов (Пушкин и пр.)."
   ]
  }
 ],
 "metadata": {
  "ExecuteTimeLog": [
   {
    "duration": 982,
    "start_time": "2021-07-22T07:57:26.173Z"
   },
   {
    "duration": 91,
    "start_time": "2021-07-22T07:57:55.763Z"
   },
   {
    "duration": 90,
    "start_time": "2021-07-22T07:58:12.533Z"
   },
   {
    "duration": 79,
    "start_time": "2021-07-22T07:59:51.924Z"
   },
   {
    "duration": 113,
    "start_time": "2021-07-22T08:02:27.895Z"
   },
   {
    "duration": 90,
    "start_time": "2021-07-22T09:30:40.950Z"
   },
   {
    "duration": 23,
    "start_time": "2021-07-22T09:47:03.198Z"
   },
   {
    "duration": 843,
    "start_time": "2021-07-24T12:55:15.476Z"
   },
   {
    "duration": 905,
    "start_time": "2021-07-25T18:58:49.860Z"
   },
   {
    "duration": 19,
    "start_time": "2021-07-25T19:05:01.037Z"
   },
   {
    "duration": 115,
    "start_time": "2021-07-25T19:44:14.370Z"
   },
   {
    "duration": 592,
    "start_time": "2021-07-26T06:03:12.551Z"
   },
   {
    "duration": 15,
    "start_time": "2021-07-26T06:03:41.732Z"
   },
   {
    "duration": 14,
    "start_time": "2021-07-26T06:04:04.492Z"
   },
   {
    "duration": 243,
    "start_time": "2021-07-26T06:10:44.899Z"
   },
   {
    "duration": 61,
    "start_time": "2021-07-26T06:11:01.249Z"
   },
   {
    "duration": 4,
    "start_time": "2021-07-26T06:11:19.014Z"
   },
   {
    "duration": 5,
    "start_time": "2021-07-26T06:12:23.175Z"
   },
   {
    "duration": 11,
    "start_time": "2021-07-26T06:12:49.989Z"
   },
   {
    "duration": 76,
    "start_time": "2021-07-26T06:13:16.554Z"
   },
   {
    "duration": 64,
    "start_time": "2021-07-26T06:13:35.806Z"
   },
   {
    "duration": 10,
    "start_time": "2021-07-26T06:13:43.247Z"
   },
   {
    "duration": 185,
    "start_time": "2021-07-26T06:17:37.732Z"
   },
   {
    "duration": 10,
    "start_time": "2021-07-26T06:18:00.624Z"
   },
   {
    "duration": 10,
    "start_time": "2021-07-26T06:18:26.725Z"
   },
   {
    "duration": 8,
    "start_time": "2021-07-26T06:21:22.022Z"
   },
   {
    "duration": 194,
    "start_time": "2021-07-26T06:23:31.807Z"
   },
   {
    "duration": 16,
    "start_time": "2021-07-26T06:23:45.873Z"
   },
   {
    "duration": 186,
    "start_time": "2021-07-26T06:26:49.710Z"
   },
   {
    "duration": 204,
    "start_time": "2021-07-26T06:27:50.356Z"
   },
   {
    "duration": 234,
    "start_time": "2021-07-26T06:28:54.922Z"
   },
   {
    "duration": 210,
    "start_time": "2021-07-26T06:29:28.631Z"
   },
   {
    "duration": 191,
    "start_time": "2021-07-26T06:31:31.206Z"
   },
   {
    "duration": 410,
    "start_time": "2021-07-26T06:32:30.557Z"
   },
   {
    "duration": 14,
    "start_time": "2021-07-26T06:33:51.358Z"
   },
   {
    "duration": 14,
    "start_time": "2021-07-26T06:34:08.574Z"
   },
   {
    "duration": 191,
    "start_time": "2021-07-26T06:34:29.551Z"
   },
   {
    "duration": 602,
    "start_time": "2021-07-26T06:34:44.981Z"
   },
   {
    "duration": 549,
    "start_time": "2021-07-26T06:34:57.827Z"
   },
   {
    "duration": 16,
    "start_time": "2021-07-26T06:35:17.511Z"
   },
   {
    "duration": 20,
    "start_time": "2021-07-26T06:36:59.815Z"
   },
   {
    "duration": 468,
    "start_time": "2021-07-26T06:37:47.446Z"
   },
   {
    "duration": 454,
    "start_time": "2021-07-26T06:37:57.859Z"
   },
   {
    "duration": 28,
    "start_time": "2021-07-26T06:38:57.747Z"
   },
   {
    "duration": 184,
    "start_time": "2021-07-26T06:39:10.548Z"
   },
   {
    "duration": 19,
    "start_time": "2021-07-26T06:39:49.903Z"
   },
   {
    "duration": 20,
    "start_time": "2021-07-26T06:40:12.311Z"
   },
   {
    "duration": 16,
    "start_time": "2021-07-26T06:40:23.251Z"
   },
   {
    "duration": 20,
    "start_time": "2021-07-26T06:40:41.306Z"
   },
   {
    "duration": 196,
    "start_time": "2021-07-26T06:41:12.391Z"
   },
   {
    "duration": 183,
    "start_time": "2021-07-26T06:41:27.089Z"
   },
   {
    "duration": 9,
    "start_time": "2021-07-26T06:41:56.237Z"
   },
   {
    "duration": 15,
    "start_time": "2021-07-26T06:42:03.162Z"
   },
   {
    "duration": 17,
    "start_time": "2021-07-26T06:42:11.746Z"
   },
   {
    "duration": 15,
    "start_time": "2021-07-26T06:43:00.269Z"
   },
   {
    "duration": 10,
    "start_time": "2021-07-26T06:43:06.282Z"
   },
   {
    "duration": 10,
    "start_time": "2021-07-26T06:43:32.621Z"
   },
   {
    "duration": 16,
    "start_time": "2021-07-26T06:43:42.468Z"
   },
   {
    "duration": 199,
    "start_time": "2021-07-26T06:44:00.400Z"
   },
   {
    "duration": 15,
    "start_time": "2021-07-26T06:44:05.998Z"
   },
   {
    "duration": 15,
    "start_time": "2021-07-26T06:47:49.078Z"
   },
   {
    "duration": 18,
    "start_time": "2021-07-26T06:54:04.806Z"
   },
   {
    "duration": 13,
    "start_time": "2021-07-26T06:54:28.511Z"
   },
   {
    "duration": 17,
    "start_time": "2021-07-26T06:54:40.052Z"
   },
   {
    "duration": 275,
    "start_time": "2021-07-26T12:33:19.145Z"
   },
   {
    "duration": 643,
    "start_time": "2021-07-26T12:33:23.582Z"
   },
   {
    "duration": 25,
    "start_time": "2021-07-26T12:33:27.781Z"
   },
   {
    "duration": 115,
    "start_time": "2021-07-26T12:56:07.004Z"
   },
   {
    "duration": 72,
    "start_time": "2021-07-26T12:56:15.714Z"
   },
   {
    "duration": 7,
    "start_time": "2021-07-26T12:56:33.403Z"
   },
   {
    "duration": 7,
    "start_time": "2021-07-26T12:56:42.124Z"
   },
   {
    "duration": 8,
    "start_time": "2021-07-26T13:04:29.090Z"
   },
   {
    "duration": 6,
    "start_time": "2021-07-26T13:06:28.928Z"
   },
   {
    "duration": 5,
    "start_time": "2021-07-26T13:07:08.261Z"
   },
   {
    "duration": 74,
    "start_time": "2021-07-26T13:07:15.259Z"
   },
   {
    "duration": 68,
    "start_time": "2021-07-26T13:07:33.446Z"
   },
   {
    "duration": 16,
    "start_time": "2021-07-26T13:07:40.523Z"
   },
   {
    "duration": 9,
    "start_time": "2021-07-26T13:07:45.697Z"
   },
   {
    "duration": 5,
    "start_time": "2021-07-26T13:07:48.308Z"
   },
   {
    "duration": 8,
    "start_time": "2021-07-26T13:08:02.033Z"
   },
   {
    "duration": 6,
    "start_time": "2021-07-26T13:09:44.486Z"
   },
   {
    "duration": 8,
    "start_time": "2021-07-26T13:12:32.328Z"
   },
   {
    "duration": 218,
    "start_time": "2021-07-26T13:17:29.684Z"
   },
   {
    "duration": 167,
    "start_time": "2021-07-26T13:20:32.496Z"
   },
   {
    "duration": 155,
    "start_time": "2021-07-26T13:20:42.535Z"
   },
   {
    "duration": 202,
    "start_time": "2021-07-26T13:20:52.635Z"
   },
   {
    "duration": 8,
    "start_time": "2021-07-26T13:22:48.345Z"
   },
   {
    "duration": 175,
    "start_time": "2021-07-26T13:23:13.323Z"
   },
   {
    "duration": 158,
    "start_time": "2021-07-26T13:23:22.408Z"
   },
   {
    "duration": 212,
    "start_time": "2021-07-26T13:23:28.638Z"
   },
   {
    "duration": 246,
    "start_time": "2021-07-26T13:24:03.091Z"
   },
   {
    "duration": 8,
    "start_time": "2021-07-26T13:24:53.151Z"
   },
   {
    "duration": 166,
    "start_time": "2021-07-26T13:27:14.327Z"
   },
   {
    "duration": 174,
    "start_time": "2021-07-26T13:27:47.387Z"
   },
   {
    "duration": 247,
    "start_time": "2021-07-26T13:27:58.573Z"
   },
   {
    "duration": 285,
    "start_time": "2021-07-26T13:31:24.724Z"
   },
   {
    "duration": 324,
    "start_time": "2021-07-26T13:31:58.232Z"
   },
   {
    "duration": 355,
    "start_time": "2021-07-26T13:32:12.949Z"
   },
   {
    "duration": 238,
    "start_time": "2021-07-26T13:32:21.768Z"
   },
   {
    "duration": 218,
    "start_time": "2021-07-26T13:32:26.532Z"
   },
   {
    "duration": 206,
    "start_time": "2021-07-26T13:32:30.103Z"
   },
   {
    "duration": 200,
    "start_time": "2021-07-26T13:32:54.365Z"
   },
   {
    "duration": 240,
    "start_time": "2021-07-26T13:33:17.537Z"
   },
   {
    "duration": 307,
    "start_time": "2021-07-26T13:33:25.610Z"
   },
   {
    "duration": 8,
    "start_time": "2021-07-26T13:33:30.104Z"
   },
   {
    "duration": 239,
    "start_time": "2021-07-26T13:35:39.004Z"
   },
   {
    "duration": 257,
    "start_time": "2021-07-26T13:35:54.302Z"
   },
   {
    "duration": 242,
    "start_time": "2021-07-26T13:38:59.231Z"
   },
   {
    "duration": 282,
    "start_time": "2021-07-26T13:39:07.550Z"
   },
   {
    "duration": 214,
    "start_time": "2021-07-26T13:39:13.634Z"
   },
   {
    "duration": 292,
    "start_time": "2021-07-26T13:39:21.776Z"
   },
   {
    "duration": 219,
    "start_time": "2021-07-26T13:40:08.070Z"
   },
   {
    "duration": 175,
    "start_time": "2021-07-26T13:41:08.349Z"
   },
   {
    "duration": 82,
    "start_time": "2021-07-26T13:42:09.962Z"
   },
   {
    "duration": 185,
    "start_time": "2021-07-26T13:42:13.774Z"
   },
   {
    "duration": 239,
    "start_time": "2021-07-26T13:42:26.116Z"
   },
   {
    "duration": 300,
    "start_time": "2021-07-26T13:42:37.844Z"
   },
   {
    "duration": 325,
    "start_time": "2021-07-26T13:42:48.830Z"
   },
   {
    "duration": 5,
    "start_time": "2021-07-26T13:44:46.407Z"
   },
   {
    "duration": 215,
    "start_time": "2021-07-26T13:44:58.591Z"
   },
   {
    "duration": 9,
    "start_time": "2021-07-26T13:45:40.504Z"
   },
   {
    "duration": 185,
    "start_time": "2021-07-26T13:46:09.519Z"
   },
   {
    "duration": 156,
    "start_time": "2021-07-26T13:46:18.393Z"
   },
   {
    "duration": 163,
    "start_time": "2021-07-26T13:46:26.833Z"
   },
   {
    "duration": 32,
    "start_time": "2021-07-26T14:50:23.467Z"
   },
   {
    "duration": 7,
    "start_time": "2021-07-26T14:54:22.179Z"
   },
   {
    "duration": 202,
    "start_time": "2021-07-26T15:05:22.748Z"
   },
   {
    "duration": 374,
    "start_time": "2021-07-26T15:06:13.486Z"
   },
   {
    "duration": 309,
    "start_time": "2021-07-26T15:06:35.284Z"
   },
   {
    "duration": 175,
    "start_time": "2021-07-26T15:06:40.408Z"
   },
   {
    "duration": 161,
    "start_time": "2021-07-26T15:06:52.621Z"
   },
   {
    "duration": 171,
    "start_time": "2021-07-26T15:15:36.839Z"
   },
   {
    "duration": 180,
    "start_time": "2021-07-26T15:15:46.495Z"
   },
   {
    "duration": 191,
    "start_time": "2021-07-26T15:15:57.446Z"
   },
   {
    "duration": 173,
    "start_time": "2021-07-26T15:16:15.051Z"
   },
   {
    "duration": 168,
    "start_time": "2021-07-26T15:16:34.473Z"
   },
   {
    "duration": 196,
    "start_time": "2021-07-26T15:16:50.406Z"
   },
   {
    "duration": 163,
    "start_time": "2021-07-26T15:16:58.459Z"
   },
   {
    "duration": 175,
    "start_time": "2021-07-26T15:19:26.801Z"
   },
   {
    "duration": 249,
    "start_time": "2021-07-26T15:23:02.107Z"
   },
   {
    "duration": 247,
    "start_time": "2021-07-26T15:23:48.669Z"
   },
   {
    "duration": 12,
    "start_time": "2021-07-26T15:24:07.598Z"
   },
   {
    "duration": 18,
    "start_time": "2021-07-26T15:24:42.455Z"
   },
   {
    "duration": 14,
    "start_time": "2021-07-26T15:25:14.895Z"
   },
   {
    "duration": 78,
    "start_time": "2021-07-26T15:31:10.188Z"
   },
   {
    "duration": 582,
    "start_time": "2021-07-26T15:31:14.706Z"
   },
   {
    "duration": 582,
    "start_time": "2021-07-26T15:31:27.581Z"
   },
   {
    "duration": 17,
    "start_time": "2021-07-26T15:32:36.828Z"
   },
   {
    "duration": 15,
    "start_time": "2021-07-26T15:32:53.759Z"
   },
   {
    "duration": 18,
    "start_time": "2021-07-26T15:33:14.869Z"
   },
   {
    "duration": 17,
    "start_time": "2021-07-26T15:33:26.746Z"
   },
   {
    "duration": 15,
    "start_time": "2021-07-26T15:33:53.310Z"
   },
   {
    "duration": 284,
    "start_time": "2021-07-26T15:34:25.525Z"
   },
   {
    "duration": 6,
    "start_time": "2021-07-26T15:34:37.278Z"
   },
   {
    "duration": 18,
    "start_time": "2021-07-26T15:35:21.151Z"
   },
   {
    "duration": 75,
    "start_time": "2021-07-26T15:38:42.348Z"
   },
   {
    "duration": 15,
    "start_time": "2021-07-26T15:38:43.921Z"
   },
   {
    "duration": 8,
    "start_time": "2021-07-26T15:38:44.267Z"
   },
   {
    "duration": 6,
    "start_time": "2021-07-26T15:38:47.263Z"
   },
   {
    "duration": 8,
    "start_time": "2021-07-26T15:38:50.827Z"
   },
   {
    "duration": 193,
    "start_time": "2021-07-26T15:38:54.341Z"
   },
   {
    "duration": 42,
    "start_time": "2021-07-26T15:39:17.905Z"
   },
   {
    "duration": 16,
    "start_time": "2021-07-26T15:39:54.628Z"
   },
   {
    "duration": 20,
    "start_time": "2021-07-26T15:40:29.686Z"
   },
   {
    "duration": 13,
    "start_time": "2021-07-26T15:41:03.635Z"
   },
   {
    "duration": 40,
    "start_time": "2021-07-26T15:41:15.640Z"
   },
   {
    "duration": 13,
    "start_time": "2021-07-26T15:41:22.937Z"
   },
   {
    "duration": 9,
    "start_time": "2021-07-26T15:41:34.559Z"
   },
   {
    "duration": 16,
    "start_time": "2021-07-26T15:41:39.998Z"
   },
   {
    "duration": 13,
    "start_time": "2021-07-26T15:41:47.574Z"
   },
   {
    "duration": 21,
    "start_time": "2021-07-26T15:41:58.184Z"
   },
   {
    "duration": 14,
    "start_time": "2021-07-26T15:42:10.556Z"
   },
   {
    "duration": 17,
    "start_time": "2021-07-26T15:42:14.098Z"
   },
   {
    "duration": 15,
    "start_time": "2021-07-26T15:42:30.915Z"
   },
   {
    "duration": 37,
    "start_time": "2021-07-26T15:43:50.393Z"
   },
   {
    "duration": 30,
    "start_time": "2021-07-26T15:50:12.923Z"
   },
   {
    "duration": 16,
    "start_time": "2021-07-26T16:18:16.609Z"
   },
   {
    "duration": 16,
    "start_time": "2021-07-26T16:19:05.054Z"
   },
   {
    "duration": 17,
    "start_time": "2021-07-26T16:19:14.806Z"
   },
   {
    "duration": 10,
    "start_time": "2021-07-26T16:27:16.603Z"
   },
   {
    "duration": 10,
    "start_time": "2021-07-26T16:32:15.122Z"
   },
   {
    "duration": 87,
    "start_time": "2021-07-26T16:39:08.563Z"
   },
   {
    "duration": 10,
    "start_time": "2021-07-26T16:39:15.304Z"
   },
   {
    "duration": 16,
    "start_time": "2021-07-26T16:40:08.644Z"
   },
   {
    "duration": 27,
    "start_time": "2021-07-26T16:41:09.101Z"
   },
   {
    "duration": 32,
    "start_time": "2021-07-26T16:41:16.241Z"
   },
   {
    "duration": 68,
    "start_time": "2021-07-26T16:41:34.797Z"
   },
   {
    "duration": 17,
    "start_time": "2021-07-26T16:41:43.269Z"
   },
   {
    "duration": 8,
    "start_time": "2021-07-26T16:41:46.541Z"
   },
   {
    "duration": 6,
    "start_time": "2021-07-26T16:41:49.622Z"
   },
   {
    "duration": 14,
    "start_time": "2021-07-26T16:41:52.094Z"
   },
   {
    "duration": 190,
    "start_time": "2021-07-26T16:41:54.271Z"
   },
   {
    "duration": 19,
    "start_time": "2021-07-26T16:41:57.788Z"
   },
   {
    "duration": 10,
    "start_time": "2021-07-26T16:42:00.668Z"
   },
   {
    "duration": 14,
    "start_time": "2021-07-26T16:42:03.591Z"
   },
   {
    "duration": 35,
    "start_time": "2021-07-26T16:42:32.001Z"
   },
   {
    "duration": 35,
    "start_time": "2021-07-26T16:50:18.030Z"
   },
   {
    "duration": 32,
    "start_time": "2021-07-26T16:52:36.595Z"
   },
   {
    "duration": 10,
    "start_time": "2021-07-26T16:55:41.153Z"
   },
   {
    "duration": 4,
    "start_time": "2021-07-26T17:02:20.731Z"
   },
   {
    "duration": 6,
    "start_time": "2021-07-26T17:02:45.023Z"
   },
   {
    "duration": 19,
    "start_time": "2021-07-26T17:05:58.390Z"
   },
   {
    "duration": 13,
    "start_time": "2021-07-26T17:07:05.370Z"
   },
   {
    "duration": 5973,
    "start_time": "2021-07-26T19:47:13.704Z"
   },
   {
    "duration": 13,
    "start_time": "2021-07-26T19:47:43.819Z"
   },
   {
    "duration": 10,
    "start_time": "2021-07-26T19:47:53.864Z"
   },
   {
    "duration": 837,
    "start_time": "2021-07-27T05:58:40.477Z"
   },
   {
    "duration": 40,
    "start_time": "2021-07-27T05:58:44.991Z"
   },
   {
    "duration": 13,
    "start_time": "2021-07-27T05:58:48.712Z"
   },
   {
    "duration": 9,
    "start_time": "2021-07-27T05:58:51.236Z"
   },
   {
    "duration": 13,
    "start_time": "2021-07-27T05:58:55.096Z"
   },
   {
    "duration": 432,
    "start_time": "2021-07-27T05:58:57.782Z"
   },
   {
    "duration": 27,
    "start_time": "2021-07-27T05:59:00.861Z"
   },
   {
    "duration": 13,
    "start_time": "2021-07-27T05:59:03.263Z"
   },
   {
    "duration": 44,
    "start_time": "2021-07-27T05:59:06.611Z"
   },
   {
    "duration": 7,
    "start_time": "2021-07-27T05:59:13.260Z"
   },
   {
    "duration": 17,
    "start_time": "2021-07-27T05:59:19.732Z"
   },
   {
    "duration": 18,
    "start_time": "2021-07-27T05:59:20.561Z"
   },
   {
    "duration": 18,
    "start_time": "2021-07-27T06:04:02.910Z"
   },
   {
    "duration": 15,
    "start_time": "2021-07-27T06:04:10.734Z"
   },
   {
    "duration": 26,
    "start_time": "2021-07-27T06:08:26.369Z"
   },
   {
    "duration": 14,
    "start_time": "2021-07-27T06:11:34.340Z"
   },
   {
    "duration": 33,
    "start_time": "2021-07-27T06:45:55.677Z"
   },
   {
    "duration": 1848,
    "start_time": "2021-07-27T06:58:31.992Z"
   },
   {
    "duration": 11,
    "start_time": "2021-07-27T06:58:48.094Z"
   },
   {
    "duration": 6,
    "start_time": "2021-07-27T06:59:31.808Z"
   },
   {
    "duration": 10,
    "start_time": "2021-07-27T06:59:56.013Z"
   },
   {
    "duration": 7,
    "start_time": "2021-07-27T07:01:42.905Z"
   },
   {
    "duration": 10,
    "start_time": "2021-07-27T07:02:00.706Z"
   },
   {
    "duration": 362,
    "start_time": "2021-07-27T07:05:20.733Z"
   },
   {
    "duration": 7,
    "start_time": "2021-07-27T07:06:17.080Z"
   },
   {
    "duration": 15,
    "start_time": "2021-07-27T07:06:25.558Z"
   },
   {
    "duration": 247,
    "start_time": "2021-07-27T07:06:34.040Z"
   },
   {
    "duration": 9,
    "start_time": "2021-07-27T07:07:37.519Z"
   },
   {
    "duration": 7,
    "start_time": "2021-07-27T07:08:17.045Z"
   },
   {
    "duration": 8,
    "start_time": "2021-07-27T07:08:27.188Z"
   },
   {
    "duration": 6,
    "start_time": "2021-07-27T07:08:53.375Z"
   },
   {
    "duration": 8,
    "start_time": "2021-07-27T07:25:26.987Z"
   },
   {
    "duration": 8,
    "start_time": "2021-07-27T07:26:18.155Z"
   },
   {
    "duration": 6,
    "start_time": "2021-07-27T07:26:21.730Z"
   },
   {
    "duration": 9,
    "start_time": "2021-07-27T07:27:23.606Z"
   },
   {
    "duration": 20,
    "start_time": "2021-07-27T07:27:47.211Z"
   },
   {
    "duration": 9,
    "start_time": "2021-07-27T07:39:19.924Z"
   },
   {
    "duration": 14,
    "start_time": "2021-07-27T07:39:36.863Z"
   },
   {
    "duration": 14,
    "start_time": "2021-07-27T07:55:57.901Z"
   },
   {
    "duration": 17,
    "start_time": "2021-07-27T07:56:40.350Z"
   },
   {
    "duration": 16,
    "start_time": "2021-07-27T07:56:46.074Z"
   },
   {
    "duration": 17,
    "start_time": "2021-07-27T07:56:48.803Z"
   },
   {
    "duration": 94,
    "start_time": "2021-07-27T07:56:59.005Z"
   },
   {
    "duration": 23,
    "start_time": "2021-07-27T07:57:03.050Z"
   },
   {
    "duration": 12,
    "start_time": "2021-07-27T07:57:07.404Z"
   },
   {
    "duration": 8,
    "start_time": "2021-07-27T07:57:10.638Z"
   },
   {
    "duration": 12,
    "start_time": "2021-07-27T07:57:13.406Z"
   },
   {
    "duration": 299,
    "start_time": "2021-07-27T07:57:15.097Z"
   },
   {
    "duration": 25,
    "start_time": "2021-07-27T07:57:18.369Z"
   },
   {
    "duration": 13,
    "start_time": "2021-07-27T07:57:21.244Z"
   },
   {
    "duration": 13,
    "start_time": "2021-07-27T07:57:24.173Z"
   },
   {
    "duration": 19,
    "start_time": "2021-07-27T07:58:02.681Z"
   },
   {
    "duration": 91,
    "start_time": "2021-07-27T07:58:16.964Z"
   },
   {
    "duration": 30,
    "start_time": "2021-07-27T07:58:17.751Z"
   },
   {
    "duration": 12,
    "start_time": "2021-07-27T07:58:18.069Z"
   },
   {
    "duration": 8,
    "start_time": "2021-07-27T07:58:18.403Z"
   },
   {
    "duration": 12,
    "start_time": "2021-07-27T07:58:18.750Z"
   },
   {
    "duration": 285,
    "start_time": "2021-07-27T07:58:20.951Z"
   },
   {
    "duration": 24,
    "start_time": "2021-07-27T07:58:23.662Z"
   },
   {
    "duration": 13,
    "start_time": "2021-07-27T07:58:26.576Z"
   },
   {
    "duration": 17,
    "start_time": "2021-07-27T07:58:29.808Z"
   },
   {
    "duration": 15,
    "start_time": "2021-07-27T08:03:18.878Z"
   },
   {
    "duration": 88,
    "start_time": "2021-07-27T08:06:41.907Z"
   },
   {
    "duration": 283,
    "start_time": "2021-07-27T08:31:21.474Z"
   },
   {
    "duration": 5,
    "start_time": "2021-07-27T08:31:29.725Z"
   },
   {
    "duration": 9,
    "start_time": "2021-07-27T08:31:34.532Z"
   },
   {
    "duration": 10,
    "start_time": "2021-07-27T08:31:54.789Z"
   },
   {
    "duration": 87,
    "start_time": "2021-07-27T08:33:26.547Z"
   },
   {
    "duration": 102,
    "start_time": "2021-07-27T08:34:08.646Z"
   },
   {
    "duration": 86,
    "start_time": "2021-07-27T08:34:27.205Z"
   },
   {
    "duration": 22,
    "start_time": "2021-07-27T08:34:32.557Z"
   },
   {
    "duration": 11,
    "start_time": "2021-07-27T08:34:35.600Z"
   },
   {
    "duration": 7,
    "start_time": "2021-07-27T08:34:38.003Z"
   },
   {
    "duration": 13,
    "start_time": "2021-07-27T08:34:40.955Z"
   },
   {
    "duration": 299,
    "start_time": "2021-07-27T08:34:43.377Z"
   },
   {
    "duration": 25,
    "start_time": "2021-07-27T08:34:46.349Z"
   },
   {
    "duration": 13,
    "start_time": "2021-07-27T08:34:48.767Z"
   },
   {
    "duration": 15,
    "start_time": "2021-07-27T08:34:51.667Z"
   },
   {
    "duration": 43,
    "start_time": "2021-07-27T08:34:54.593Z"
   },
   {
    "duration": 49,
    "start_time": "2021-07-27T08:35:01.377Z"
   },
   {
    "duration": 8,
    "start_time": "2021-07-27T08:35:04.073Z"
   },
   {
    "duration": 19,
    "start_time": "2021-07-27T08:35:06.112Z"
   },
   {
    "duration": 17,
    "start_time": "2021-07-27T08:35:08.328Z"
   },
   {
    "duration": 17,
    "start_time": "2021-07-27T08:35:10.841Z"
   },
   {
    "duration": 18,
    "start_time": "2021-07-27T08:35:22.594Z"
   },
   {
    "duration": 14,
    "start_time": "2021-07-27T08:35:25.809Z"
   },
   {
    "duration": 16,
    "start_time": "2021-07-27T08:35:45.132Z"
   },
   {
    "duration": 11,
    "start_time": "2021-07-27T08:35:48.061Z"
   },
   {
    "duration": 14,
    "start_time": "2021-07-27T08:35:52.348Z"
   },
   {
    "duration": 38,
    "start_time": "2021-07-27T08:36:07.623Z"
   },
   {
    "duration": 9,
    "start_time": "2021-07-27T08:36:55.120Z"
   },
   {
    "duration": 17,
    "start_time": "2021-07-27T08:36:58.150Z"
   },
   {
    "duration": 36,
    "start_time": "2021-07-27T08:37:06.579Z"
   },
   {
    "duration": 35,
    "start_time": "2021-07-27T08:37:28.184Z"
   },
   {
    "duration": 668,
    "start_time": "2021-07-27T12:25:50.766Z"
   },
   {
    "duration": 25,
    "start_time": "2021-07-27T12:25:55.808Z"
   },
   {
    "duration": 8,
    "start_time": "2021-07-27T12:26:03.984Z"
   },
   {
    "duration": 6,
    "start_time": "2021-07-27T12:26:06.250Z"
   },
   {
    "duration": 9,
    "start_time": "2021-07-27T12:26:09.377Z"
   },
   {
    "duration": 237,
    "start_time": "2021-07-27T12:26:12.171Z"
   },
   {
    "duration": 17,
    "start_time": "2021-07-27T12:26:13.306Z"
   },
   {
    "duration": 9,
    "start_time": "2021-07-27T12:26:18.431Z"
   },
   {
    "duration": 11,
    "start_time": "2021-07-27T12:26:20.054Z"
   },
   {
    "duration": 29,
    "start_time": "2021-07-27T12:26:23.267Z"
   },
   {
    "duration": 6,
    "start_time": "2021-07-27T12:26:27.306Z"
   },
   {
    "duration": 12,
    "start_time": "2021-07-27T12:26:29.657Z"
   },
   {
    "duration": 14,
    "start_time": "2021-07-27T12:26:32.270Z"
   },
   {
    "duration": 13,
    "start_time": "2021-07-27T12:26:32.936Z"
   },
   {
    "duration": 12,
    "start_time": "2021-07-27T12:26:34.885Z"
   },
   {
    "duration": 11,
    "start_time": "2021-07-27T12:26:37.445Z"
   },
   {
    "duration": 11,
    "start_time": "2021-07-27T12:26:41.085Z"
   },
   {
    "duration": 12,
    "start_time": "2021-07-27T12:26:45.027Z"
   },
   {
    "duration": 12,
    "start_time": "2021-07-27T12:26:47.496Z"
   },
   {
    "duration": 22,
    "start_time": "2021-07-27T12:26:52.540Z"
   },
   {
    "duration": 83,
    "start_time": "2021-07-27T12:46:11.180Z"
   },
   {
    "duration": 470,
    "start_time": "2021-07-27T12:46:19.766Z"
   },
   {
    "duration": 430,
    "start_time": "2021-07-27T12:46:33.823Z"
   },
   {
    "duration": 4,
    "start_time": "2021-07-27T16:17:31.073Z"
   },
   {
    "duration": 5,
    "start_time": "2021-07-27T16:17:47.079Z"
   },
   {
    "duration": 5,
    "start_time": "2021-07-27T16:17:58.073Z"
   },
   {
    "duration": 21,
    "start_time": "2021-07-27T16:18:08.009Z"
   },
   {
    "duration": 8,
    "start_time": "2021-07-27T16:26:38.206Z"
   },
   {
    "duration": 333,
    "start_time": "2021-07-27T16:27:28.494Z"
   },
   {
    "duration": 339,
    "start_time": "2021-07-27T16:30:30.931Z"
   },
   {
    "duration": 377,
    "start_time": "2021-07-27T16:30:35.688Z"
   },
   {
    "duration": 8,
    "start_time": "2021-07-27T16:31:59.777Z"
   },
   {
    "duration": 413,
    "start_time": "2021-07-27T16:33:27.318Z"
   },
   {
    "duration": 411,
    "start_time": "2021-07-27T16:33:34.296Z"
   },
   {
    "duration": 9,
    "start_time": "2021-07-27T16:35:34.140Z"
   },
   {
    "duration": 385,
    "start_time": "2021-07-27T16:35:46.339Z"
   },
   {
    "duration": 386,
    "start_time": "2021-07-27T16:36:00.582Z"
   },
   {
    "duration": 376,
    "start_time": "2021-07-27T16:37:28.347Z"
   },
   {
    "duration": 8,
    "start_time": "2021-07-27T16:51:10.928Z"
   },
   {
    "duration": 416,
    "start_time": "2021-07-27T16:51:30.440Z"
   },
   {
    "duration": 8,
    "start_time": "2021-07-27T16:54:33.142Z"
   },
   {
    "duration": 327,
    "start_time": "2021-07-27T16:55:10.830Z"
   },
   {
    "duration": 34,
    "start_time": "2021-07-27T18:52:29.488Z"
   },
   {
    "duration": 21,
    "start_time": "2021-07-27T18:52:46.237Z"
   },
   {
    "duration": 38,
    "start_time": "2021-07-27T18:53:22.837Z"
   },
   {
    "duration": 696,
    "start_time": "2021-07-28T05:35:50.166Z"
   },
   {
    "duration": 1195,
    "start_time": "2021-07-28T05:36:01.697Z"
   },
   {
    "duration": 221,
    "start_time": "2021-07-28T05:37:31.814Z"
   },
   {
    "duration": 13,
    "start_time": "2021-07-28T05:37:37.131Z"
   },
   {
    "duration": 10,
    "start_time": "2021-07-28T05:37:39.978Z"
   },
   {
    "duration": 14,
    "start_time": "2021-07-28T05:37:43.091Z"
   },
   {
    "duration": 594,
    "start_time": "2021-07-28T05:37:45.551Z"
   },
   {
    "duration": 29,
    "start_time": "2021-07-28T05:37:49.553Z"
   },
   {
    "duration": 12,
    "start_time": "2021-07-28T05:37:54.765Z"
   },
   {
    "duration": 16,
    "start_time": "2021-07-28T05:37:57.205Z"
   },
   {
    "duration": 70,
    "start_time": "2021-07-28T05:37:59.759Z"
   },
   {
    "duration": 8,
    "start_time": "2021-07-28T05:38:02.773Z"
   },
   {
    "duration": 19,
    "start_time": "2021-07-28T05:38:05.268Z"
   },
   {
    "duration": 19,
    "start_time": "2021-07-28T05:38:05.810Z"
   },
   {
    "duration": 19,
    "start_time": "2021-07-28T05:38:08.923Z"
   },
   {
    "duration": 15,
    "start_time": "2021-07-28T05:38:11.800Z"
   },
   {
    "duration": 16,
    "start_time": "2021-07-28T05:38:16.980Z"
   },
   {
    "duration": 14,
    "start_time": "2021-07-28T05:38:29.279Z"
   },
   {
    "duration": 15,
    "start_time": "2021-07-28T05:38:31.139Z"
   },
   {
    "duration": 38,
    "start_time": "2021-07-28T05:38:36.009Z"
   },
   {
    "duration": 865,
    "start_time": "2021-07-28T05:38:39.814Z"
   },
   {
    "duration": 37,
    "start_time": "2021-07-28T05:38:44.743Z"
   },
   {
    "duration": 17,
    "start_time": "2021-07-28T05:47:42.202Z"
   },
   {
    "duration": 46,
    "start_time": "2021-07-28T05:47:53.719Z"
   },
   {
    "duration": 53,
    "start_time": "2021-07-28T05:48:11.935Z"
   },
   {
    "duration": 881,
    "start_time": "2021-07-28T05:48:22.982Z"
   },
   {
    "duration": 34,
    "start_time": "2021-07-28T05:48:36.006Z"
   },
   {
    "duration": 102,
    "start_time": "2021-07-28T05:48:56.131Z"
   },
   {
    "duration": 24,
    "start_time": "2021-07-28T05:48:58.115Z"
   },
   {
    "duration": 12,
    "start_time": "2021-07-28T05:48:58.421Z"
   },
   {
    "duration": 8,
    "start_time": "2021-07-28T05:48:59.141Z"
   },
   {
    "duration": 12,
    "start_time": "2021-07-28T05:48:59.595Z"
   },
   {
    "duration": 322,
    "start_time": "2021-07-28T05:48:59.895Z"
   },
   {
    "duration": 25,
    "start_time": "2021-07-28T05:49:00.219Z"
   },
   {
    "duration": 15,
    "start_time": "2021-07-28T05:49:00.368Z"
   },
   {
    "duration": 17,
    "start_time": "2021-07-28T05:49:01.082Z"
   },
   {
    "duration": 47,
    "start_time": "2021-07-28T05:49:01.766Z"
   },
   {
    "duration": 9,
    "start_time": "2021-07-28T05:49:02.037Z"
   },
   {
    "duration": 18,
    "start_time": "2021-07-28T05:49:02.826Z"
   },
   {
    "duration": 19,
    "start_time": "2021-07-28T05:49:03.032Z"
   },
   {
    "duration": 19,
    "start_time": "2021-07-28T05:49:03.522Z"
   },
   {
    "duration": 20,
    "start_time": "2021-07-28T05:49:03.689Z"
   },
   {
    "duration": 15,
    "start_time": "2021-07-28T05:49:03.984Z"
   },
   {
    "duration": 16,
    "start_time": "2021-07-28T05:49:05.143Z"
   },
   {
    "duration": 11,
    "start_time": "2021-07-28T05:49:06.319Z"
   },
   {
    "duration": 16,
    "start_time": "2021-07-28T05:49:07.201Z"
   },
   {
    "duration": 40,
    "start_time": "2021-07-28T05:49:10.044Z"
   },
   {
    "duration": 44,
    "start_time": "2021-07-28T05:49:11.730Z"
   },
   {
    "duration": 816,
    "start_time": "2021-07-28T05:49:13.883Z"
   },
   {
    "duration": 34,
    "start_time": "2021-07-28T05:49:21.323Z"
   },
   {
    "duration": 47,
    "start_time": "2021-07-28T05:49:26.735Z"
   },
   {
    "duration": 960,
    "start_time": "2021-07-28T05:49:36.458Z"
   },
   {
    "duration": 894,
    "start_time": "2021-07-28T05:49:52.578Z"
   },
   {
    "duration": 742,
    "start_time": "2021-07-28T05:50:06.515Z"
   },
   {
    "duration": 760,
    "start_time": "2021-07-28T05:56:58.102Z"
   },
   {
    "duration": 718,
    "start_time": "2021-07-28T05:57:03.951Z"
   },
   {
    "duration": 822,
    "start_time": "2021-07-28T05:57:26.536Z"
   },
   {
    "duration": 709,
    "start_time": "2021-07-28T05:57:33.554Z"
   },
   {
    "duration": 813,
    "start_time": "2021-07-28T05:58:57.132Z"
   },
   {
    "duration": 723,
    "start_time": "2021-07-28T06:02:28.790Z"
   },
   {
    "duration": 727,
    "start_time": "2021-07-28T06:02:51.659Z"
   },
   {
    "duration": 1073,
    "start_time": "2021-07-28T06:05:31.731Z"
   },
   {
    "duration": 1027,
    "start_time": "2021-07-28T06:06:03.157Z"
   },
   {
    "duration": 808,
    "start_time": "2021-07-28T06:06:21.106Z"
   },
   {
    "duration": 690,
    "start_time": "2021-07-28T06:12:40.232Z"
   },
   {
    "duration": 14,
    "start_time": "2021-07-28T06:40:47.922Z"
   },
   {
    "duration": 447,
    "start_time": "2021-07-28T07:06:07.432Z"
   },
   {
    "duration": 236,
    "start_time": "2021-07-28T07:06:14.441Z"
   },
   {
    "duration": 795,
    "start_time": "2021-07-28T07:06:48.877Z"
   },
   {
    "duration": 223,
    "start_time": "2021-07-28T07:07:26.784Z"
   },
   {
    "duration": 347,
    "start_time": "2021-07-28T07:08:03.166Z"
   },
   {
    "duration": 226,
    "start_time": "2021-07-28T07:08:31.076Z"
   },
   {
    "duration": 549,
    "start_time": "2021-07-28T07:30:26.972Z"
   },
   {
    "duration": 870,
    "start_time": "2021-07-29T08:38:11.641Z"
   },
   {
    "duration": 35,
    "start_time": "2021-07-29T08:38:12.513Z"
   },
   {
    "duration": 9,
    "start_time": "2021-07-29T08:38:12.613Z"
   },
   {
    "duration": 8,
    "start_time": "2021-07-29T08:38:12.922Z"
   },
   {
    "duration": 10,
    "start_time": "2021-07-29T08:38:13.199Z"
   },
   {
    "duration": 257,
    "start_time": "2021-07-29T08:38:13.461Z"
   },
   {
    "duration": 18,
    "start_time": "2021-07-29T08:38:13.720Z"
   },
   {
    "duration": 10,
    "start_time": "2021-07-29T08:38:13.932Z"
   },
   {
    "duration": 12,
    "start_time": "2021-07-29T08:38:14.219Z"
   },
   {
    "duration": 30,
    "start_time": "2021-07-29T08:38:19.148Z"
   },
   {
    "duration": 7,
    "start_time": "2021-07-29T08:38:19.472Z"
   },
   {
    "duration": 13,
    "start_time": "2021-07-29T08:38:19.829Z"
   },
   {
    "duration": 14,
    "start_time": "2021-07-29T08:38:20.013Z"
   },
   {
    "duration": 14,
    "start_time": "2021-07-29T08:38:20.188Z"
   },
   {
    "duration": 14,
    "start_time": "2021-07-29T08:38:20.352Z"
   },
   {
    "duration": 11,
    "start_time": "2021-07-29T08:38:20.706Z"
   },
   {
    "duration": 11,
    "start_time": "2021-07-29T08:38:21.037Z"
   },
   {
    "duration": 12,
    "start_time": "2021-07-29T08:38:21.380Z"
   },
   {
    "duration": 11,
    "start_time": "2021-07-29T08:38:21.548Z"
   },
   {
    "duration": 22,
    "start_time": "2021-07-29T08:38:22.661Z"
   },
   {
    "duration": 28,
    "start_time": "2021-07-29T08:38:23.032Z"
   },
   {
    "duration": 516,
    "start_time": "2021-07-29T08:38:23.423Z"
   },
   {
    "duration": 20,
    "start_time": "2021-07-29T08:38:23.941Z"
   },
   {
    "duration": 26,
    "start_time": "2021-07-29T08:38:27.556Z"
   },
   {
    "duration": 411,
    "start_time": "2021-07-29T08:38:32.069Z"
   },
   {
    "duration": 393,
    "start_time": "2021-07-29T08:38:35.629Z"
   },
   {
    "duration": 399,
    "start_time": "2021-07-29T08:38:38.906Z"
   },
   {
    "duration": 395,
    "start_time": "2021-07-29T08:38:42.932Z"
   },
   {
    "duration": 12,
    "start_time": "2021-07-29T08:38:46.744Z"
   },
   {
    "duration": 274,
    "start_time": "2021-07-29T08:38:55.212Z"
   },
   {
    "duration": 674,
    "start_time": "2021-07-29T08:38:58.348Z"
   },
   {
    "duration": 6619,
    "start_time": "2021-07-29T08:56:50.904Z"
   },
   {
    "duration": 264,
    "start_time": "2021-07-29T08:58:14.381Z"
   },
   {
    "duration": 386,
    "start_time": "2021-07-29T08:59:25.193Z"
   },
   {
    "duration": 15,
    "start_time": "2021-07-29T09:01:02.797Z"
   },
   {
    "duration": 22,
    "start_time": "2021-07-29T09:01:16.483Z"
   },
   {
    "duration": 13,
    "start_time": "2021-07-29T09:02:36.972Z"
   },
   {
    "duration": 13,
    "start_time": "2021-07-29T09:26:49.727Z"
   },
   {
    "duration": 20,
    "start_time": "2021-07-29T09:26:56.728Z"
   },
   {
    "duration": 79,
    "start_time": "2021-07-29T09:27:29.327Z"
   },
   {
    "duration": 8,
    "start_time": "2021-07-29T09:27:41.901Z"
   },
   {
    "duration": 40,
    "start_time": "2021-07-29T09:27:46.426Z"
   },
   {
    "duration": 39,
    "start_time": "2021-07-29T09:28:49.199Z"
   },
   {
    "duration": 34,
    "start_time": "2021-07-29T09:29:28.142Z"
   },
   {
    "duration": 38,
    "start_time": "2021-07-29T09:31:43.717Z"
   },
   {
    "duration": 14,
    "start_time": "2021-07-29T09:32:19.056Z"
   },
   {
    "duration": 856,
    "start_time": "2021-07-29T16:36:44.406Z"
   },
   {
    "duration": 34,
    "start_time": "2021-07-29T16:36:45.264Z"
   },
   {
    "duration": 13,
    "start_time": "2021-07-29T16:36:45.477Z"
   },
   {
    "duration": 8,
    "start_time": "2021-07-29T16:36:45.793Z"
   },
   {
    "duration": 13,
    "start_time": "2021-07-29T16:36:46.118Z"
   },
   {
    "duration": 438,
    "start_time": "2021-07-29T16:36:46.500Z"
   },
   {
    "duration": 39,
    "start_time": "2021-07-29T16:36:46.940Z"
   },
   {
    "duration": 13,
    "start_time": "2021-07-29T16:36:47.045Z"
   },
   {
    "duration": 15,
    "start_time": "2021-07-29T16:36:47.381Z"
   },
   {
    "duration": 47,
    "start_time": "2021-07-29T16:36:47.695Z"
   },
   {
    "duration": 9,
    "start_time": "2021-07-29T16:36:48.006Z"
   },
   {
    "duration": 21,
    "start_time": "2021-07-29T16:36:48.331Z"
   },
   {
    "duration": 24,
    "start_time": "2021-07-29T16:36:48.500Z"
   },
   {
    "duration": 18,
    "start_time": "2021-07-29T16:36:48.645Z"
   },
   {
    "duration": 19,
    "start_time": "2021-07-29T16:36:48.793Z"
   },
   {
    "duration": 15,
    "start_time": "2021-07-29T16:36:49.128Z"
   },
   {
    "duration": 16,
    "start_time": "2021-07-29T16:36:49.464Z"
   },
   {
    "duration": 13,
    "start_time": "2021-07-29T16:36:49.803Z"
   },
   {
    "duration": 16,
    "start_time": "2021-07-29T16:36:49.984Z"
   },
   {
    "duration": 39,
    "start_time": "2021-07-29T16:36:51.307Z"
   },
   {
    "duration": 45,
    "start_time": "2021-07-29T16:36:51.619Z"
   },
   {
    "duration": 875,
    "start_time": "2021-07-29T16:36:51.947Z"
   },
   {
    "duration": 47,
    "start_time": "2021-07-29T16:36:52.825Z"
   },
   {
    "duration": 36,
    "start_time": "2021-07-29T16:36:55.218Z"
   },
   {
    "duration": 707,
    "start_time": "2021-07-29T16:36:56.549Z"
   },
   {
    "duration": 751,
    "start_time": "2021-07-29T16:36:57.259Z"
   },
   {
    "duration": 755,
    "start_time": "2021-07-29T16:36:58.012Z"
   },
   {
    "duration": 743,
    "start_time": "2021-07-29T16:36:58.769Z"
   },
   {
    "duration": 11,
    "start_time": "2021-07-29T16:36:59.514Z"
   },
   {
    "duration": 463,
    "start_time": "2021-07-29T16:37:02.474Z"
   },
   {
    "duration": 881,
    "start_time": "2021-07-29T16:37:06.033Z"
   },
   {
    "duration": 8923,
    "start_time": "2021-07-29T16:37:07.267Z"
   },
   {
    "duration": 512,
    "start_time": "2021-07-29T16:37:15.681Z"
   },
   {
    "duration": 71,
    "start_time": "2021-07-29T16:37:17.768Z"
   },
   {
    "duration": 21,
    "start_time": "2021-07-29T16:37:35.204Z"
   },
   {
    "duration": 20,
    "start_time": "2021-07-29T16:39:11.423Z"
   },
   {
    "duration": 14,
    "start_time": "2021-07-29T16:46:05.231Z"
   },
   {
    "duration": 30,
    "start_time": "2021-07-29T16:46:11.590Z"
   },
   {
    "duration": 25,
    "start_time": "2021-07-29T16:46:34.478Z"
   },
   {
    "duration": 2599,
    "start_time": "2021-07-29T16:52:54.230Z"
   },
   {
    "duration": 2639,
    "start_time": "2021-07-29T16:54:14.560Z"
   },
   {
    "duration": 14140,
    "start_time": "2021-07-29T16:55:03.014Z"
   },
   {
    "duration": 14401,
    "start_time": "2021-07-29T16:55:20.170Z"
   },
   {
    "duration": 323,
    "start_time": "2021-07-29T16:59:04.920Z"
   },
   {
    "duration": 1813,
    "start_time": "2021-07-29T16:59:59.871Z"
   },
   {
    "duration": 117,
    "start_time": "2021-07-29T17:07:33.008Z"
   },
   {
    "duration": 855,
    "start_time": "2021-07-29T17:07:37.759Z"
   },
   {
    "duration": 37,
    "start_time": "2021-07-29T17:10:04.721Z"
   },
   {
    "duration": 28,
    "start_time": "2021-07-29T17:10:18.673Z"
   },
   {
    "duration": 733,
    "start_time": "2021-07-29T17:14:08.623Z"
   },
   {
    "duration": 563,
    "start_time": "2021-07-29T17:14:33.575Z"
   },
   {
    "duration": 309,
    "start_time": "2021-07-29T17:17:22.551Z"
   },
   {
    "duration": 468,
    "start_time": "2021-07-29T17:17:44.487Z"
   },
   {
    "duration": 468,
    "start_time": "2021-07-29T18:17:58.670Z"
   },
   {
    "duration": 466,
    "start_time": "2021-07-29T18:18:15.831Z"
   },
   {
    "duration": 38,
    "start_time": "2021-07-29T18:18:27.047Z"
   },
   {
    "duration": 317,
    "start_time": "2021-07-29T18:22:34.321Z"
   },
   {
    "duration": 542,
    "start_time": "2021-07-29T18:22:40.263Z"
   },
   {
    "duration": 707,
    "start_time": "2021-07-29T18:23:35.565Z"
   },
   {
    "duration": 592,
    "start_time": "2021-07-29T18:24:39.795Z"
   },
   {
    "duration": 339,
    "start_time": "2021-07-29T18:30:45.175Z"
   },
   {
    "duration": 340,
    "start_time": "2021-07-29T18:30:51.891Z"
   },
   {
    "duration": 347,
    "start_time": "2021-07-29T18:30:57.407Z"
   },
   {
    "duration": 6,
    "start_time": "2021-07-29T18:31:50.585Z"
   },
   {
    "duration": 5,
    "start_time": "2021-07-29T18:31:57.575Z"
   },
   {
    "duration": 13,
    "start_time": "2021-07-29T18:33:03.256Z"
   },
   {
    "duration": 299,
    "start_time": "2021-07-29T18:33:53.793Z"
   },
   {
    "duration": 319,
    "start_time": "2021-07-29T18:33:58.828Z"
   },
   {
    "duration": 12,
    "start_time": "2021-07-29T18:34:05.751Z"
   },
   {
    "duration": 796,
    "start_time": "2021-07-29T18:37:55.085Z"
   },
   {
    "duration": 321,
    "start_time": "2021-07-29T18:38:23.248Z"
   },
   {
    "duration": 35,
    "start_time": "2021-07-29T18:38:29.641Z"
   },
   {
    "duration": 524,
    "start_time": "2021-07-29T18:40:50.001Z"
   },
   {
    "duration": 37,
    "start_time": "2021-07-29T18:41:00.435Z"
   },
   {
    "duration": 50,
    "start_time": "2021-07-29T18:43:14.904Z"
   },
   {
    "duration": 42,
    "start_time": "2021-07-29T18:43:30.891Z"
   },
   {
    "duration": 40,
    "start_time": "2021-07-29T18:44:59.311Z"
   },
   {
    "duration": 407,
    "start_time": "2021-07-29T19:06:37.360Z"
   },
   {
    "duration": 362,
    "start_time": "2021-07-29T19:07:00.404Z"
   },
   {
    "duration": 16,
    "start_time": "2021-07-29T19:07:21.269Z"
   },
   {
    "duration": 62,
    "start_time": "2021-07-29T19:07:32.221Z"
   },
   {
    "duration": 14,
    "start_time": "2021-07-29T19:07:54.882Z"
   },
   {
    "duration": 58,
    "start_time": "2021-07-29T19:08:36.202Z"
   },
   {
    "duration": 822,
    "start_time": "2021-07-30T06:12:09.781Z"
   },
   {
    "duration": 32,
    "start_time": "2021-07-30T06:12:10.606Z"
   },
   {
    "duration": 11,
    "start_time": "2021-07-30T06:12:10.815Z"
   },
   {
    "duration": 8,
    "start_time": "2021-07-30T06:12:11.123Z"
   },
   {
    "duration": 12,
    "start_time": "2021-07-30T06:12:11.475Z"
   },
   {
    "duration": 435,
    "start_time": "2021-07-30T06:12:11.793Z"
   },
   {
    "duration": 45,
    "start_time": "2021-07-30T06:12:12.232Z"
   },
   {
    "duration": 12,
    "start_time": "2021-07-30T06:12:12.339Z"
   },
   {
    "duration": 16,
    "start_time": "2021-07-30T06:12:12.732Z"
   },
   {
    "duration": 49,
    "start_time": "2021-07-30T06:12:13.080Z"
   },
   {
    "duration": 9,
    "start_time": "2021-07-30T06:12:17.314Z"
   },
   {
    "duration": 19,
    "start_time": "2021-07-30T06:12:17.671Z"
   },
   {
    "duration": 19,
    "start_time": "2021-07-30T06:12:17.804Z"
   },
   {
    "duration": 19,
    "start_time": "2021-07-30T06:12:17.967Z"
   },
   {
    "duration": 18,
    "start_time": "2021-07-30T06:12:18.184Z"
   },
   {
    "duration": 14,
    "start_time": "2021-07-30T06:12:18.493Z"
   },
   {
    "duration": 16,
    "start_time": "2021-07-30T06:12:18.818Z"
   },
   {
    "duration": 14,
    "start_time": "2021-07-30T06:12:19.182Z"
   },
   {
    "duration": 15,
    "start_time": "2021-07-30T06:12:19.327Z"
   },
   {
    "duration": 39,
    "start_time": "2021-07-30T06:12:20.321Z"
   },
   {
    "duration": 45,
    "start_time": "2021-07-30T06:12:20.667Z"
   },
   {
    "duration": 843,
    "start_time": "2021-07-30T06:12:21.022Z"
   },
   {
    "duration": 36,
    "start_time": "2021-07-30T06:12:21.868Z"
   },
   {
    "duration": 35,
    "start_time": "2021-07-30T06:12:24.530Z"
   },
   {
    "duration": 697,
    "start_time": "2021-07-30T06:12:30.527Z"
   },
   {
    "duration": 681,
    "start_time": "2021-07-30T06:12:33.788Z"
   },
   {
    "duration": 766,
    "start_time": "2021-07-30T06:14:55.601Z"
   },
   {
    "duration": 681,
    "start_time": "2021-07-30T06:14:56.369Z"
   },
   {
    "duration": 11,
    "start_time": "2021-07-30T06:15:01.392Z"
   },
   {
    "duration": 429,
    "start_time": "2021-07-30T06:15:09.788Z"
   },
   {
    "duration": 69,
    "start_time": "2021-07-30T06:15:30.001Z"
   },
   {
    "duration": 367,
    "start_time": "2021-07-30T06:15:57.142Z"
   },
   {
    "duration": 18,
    "start_time": "2021-07-30T06:16:07.157Z"
   },
   {
    "duration": 658,
    "start_time": "2021-07-30T06:16:10.081Z"
   },
   {
    "duration": 465,
    "start_time": "2021-07-30T06:18:40.292Z"
   },
   {
    "duration": 525,
    "start_time": "2021-07-30T06:18:46.342Z"
   },
   {
    "duration": 714,
    "start_time": "2021-07-30T06:18:53.787Z"
   },
   {
    "duration": 623,
    "start_time": "2021-07-30T06:19:03.281Z"
   },
   {
    "duration": 40,
    "start_time": "2021-07-30T06:19:40.435Z"
   },
   {
    "duration": 14,
    "start_time": "2021-07-30T06:38:07.956Z"
   },
   {
    "duration": 21,
    "start_time": "2021-07-30T06:38:49.083Z"
   },
   {
    "duration": 13,
    "start_time": "2021-07-30T06:39:06.905Z"
   },
   {
    "duration": 18,
    "start_time": "2021-07-30T06:41:13.303Z"
   },
   {
    "duration": 38,
    "start_time": "2021-07-30T06:46:11.073Z"
   },
   {
    "duration": 314,
    "start_time": "2021-07-30T06:48:19.431Z"
   },
   {
    "duration": 282,
    "start_time": "2021-07-30T06:49:01.462Z"
   },
   {
    "duration": 34,
    "start_time": "2021-07-30T07:14:23.642Z"
   },
   {
    "duration": 25,
    "start_time": "2021-07-30T07:14:40.583Z"
   },
   {
    "duration": 58,
    "start_time": "2021-07-30T07:15:27.006Z"
   },
   {
    "duration": 36,
    "start_time": "2021-07-30T07:16:01.965Z"
   },
   {
    "duration": 28,
    "start_time": "2021-07-30T07:19:31.001Z"
   },
   {
    "duration": 437,
    "start_time": "2021-07-30T07:20:21.566Z"
   },
   {
    "duration": 533,
    "start_time": "2021-07-30T07:21:11.048Z"
   },
   {
    "duration": 26,
    "start_time": "2021-07-30T07:28:42.375Z"
   },
   {
    "duration": 26,
    "start_time": "2021-07-30T07:29:00.666Z"
   },
   {
    "duration": 667,
    "start_time": "2021-07-31T04:38:56.402Z"
   },
   {
    "duration": 24,
    "start_time": "2021-07-31T04:38:57.071Z"
   },
   {
    "duration": 8,
    "start_time": "2021-07-31T04:38:57.097Z"
   },
   {
    "duration": 6,
    "start_time": "2021-07-31T04:38:57.107Z"
   },
   {
    "duration": 31,
    "start_time": "2021-07-31T04:38:57.114Z"
   },
   {
    "duration": 263,
    "start_time": "2021-07-31T04:38:57.146Z"
   },
   {
    "duration": 30,
    "start_time": "2021-07-31T04:38:57.411Z"
   },
   {
    "duration": 9,
    "start_time": "2021-07-31T04:38:57.444Z"
   },
   {
    "duration": 11,
    "start_time": "2021-07-31T04:38:57.455Z"
   },
   {
    "duration": 30,
    "start_time": "2021-07-31T04:38:57.468Z"
   },
   {
    "duration": 6,
    "start_time": "2021-07-31T04:38:57.499Z"
   },
   {
    "duration": 44,
    "start_time": "2021-07-31T04:38:57.507Z"
   },
   {
    "duration": 13,
    "start_time": "2021-07-31T04:38:57.552Z"
   },
   {
    "duration": 13,
    "start_time": "2021-07-31T04:38:57.567Z"
   },
   {
    "duration": 12,
    "start_time": "2021-07-31T04:38:57.581Z"
   },
   {
    "duration": 11,
    "start_time": "2021-07-31T04:38:57.595Z"
   },
   {
    "duration": 41,
    "start_time": "2021-07-31T04:38:57.608Z"
   },
   {
    "duration": 12,
    "start_time": "2021-07-31T04:38:57.651Z"
   },
   {
    "duration": 10,
    "start_time": "2021-07-31T04:38:57.665Z"
   },
   {
    "duration": 23,
    "start_time": "2021-07-31T04:38:57.677Z"
   },
   {
    "duration": 58,
    "start_time": "2021-07-31T04:38:57.701Z"
   },
   {
    "duration": 619,
    "start_time": "2021-07-31T04:38:57.760Z"
   },
   {
    "duration": 22,
    "start_time": "2021-07-31T04:38:58.382Z"
   },
   {
    "duration": 40,
    "start_time": "2021-07-31T04:38:58.406Z"
   },
   {
    "duration": 409,
    "start_time": "2021-07-31T04:38:58.448Z"
   },
   {
    "duration": 413,
    "start_time": "2021-07-31T04:38:58.859Z"
   },
   {
    "duration": 394,
    "start_time": "2021-07-31T04:38:59.273Z"
   },
   {
    "duration": 415,
    "start_time": "2021-07-31T04:38:59.669Z"
   },
   {
    "duration": 9,
    "start_time": "2021-07-31T04:39:00.085Z"
   },
   {
    "duration": 273,
    "start_time": "2021-07-31T04:39:00.096Z"
   },
   {
    "duration": 42,
    "start_time": "2021-07-31T04:39:00.370Z"
   },
   {
    "duration": 30,
    "start_time": "2021-07-31T04:39:00.414Z"
   },
   {
    "duration": 788,
    "start_time": "2021-07-31T04:39:00.445Z"
   },
   {
    "duration": 273,
    "start_time": "2021-07-31T04:39:01.235Z"
   },
   {
    "duration": 327,
    "start_time": "2021-07-31T04:39:01.509Z"
   },
   {
    "duration": 406,
    "start_time": "2021-07-31T04:39:01.837Z"
   },
   {
    "duration": 310,
    "start_time": "2021-07-31T04:39:02.244Z"
   },
   {
    "duration": 25,
    "start_time": "2021-07-31T04:39:02.556Z"
   },
   {
    "duration": 177,
    "start_time": "2021-07-31T04:39:02.582Z"
   },
   {
    "duration": 23,
    "start_time": "2021-07-31T04:39:02.761Z"
   },
   {
    "duration": 15,
    "start_time": "2021-07-31T04:39:02.786Z"
   },
   {
    "duration": 267,
    "start_time": "2021-07-31T04:39:02.802Z"
   },
   {
    "duration": 315,
    "start_time": "2021-07-31T04:39:03.071Z"
   },
   {
    "duration": 820,
    "start_time": "2021-07-31T17:54:43.668Z"
   },
   {
    "duration": 42,
    "start_time": "2021-07-31T17:54:49.530Z"
   },
   {
    "duration": 21,
    "start_time": "2021-07-31T17:54:54.177Z"
   },
   {
    "duration": 17,
    "start_time": "2021-07-31T17:55:07.211Z"
   },
   {
    "duration": 8,
    "start_time": "2021-07-31T17:55:17.157Z"
   },
   {
    "duration": 86,
    "start_time": "2021-07-31T18:08:39.672Z"
   },
   {
    "duration": 92,
    "start_time": "2021-07-31T18:09:05.691Z"
   },
   {
    "duration": 99,
    "start_time": "2021-07-31T18:09:13.575Z"
   },
   {
    "duration": 25,
    "start_time": "2021-07-31T18:09:18.275Z"
   },
   {
    "duration": 22,
    "start_time": "2021-07-31T18:09:21.619Z"
   },
   {
    "duration": 8,
    "start_time": "2021-07-31T18:09:24.151Z"
   },
   {
    "duration": 13,
    "start_time": "2021-07-31T18:10:48.054Z"
   },
   {
    "duration": 441,
    "start_time": "2021-07-31T18:10:51.154Z"
   },
   {
    "duration": 27,
    "start_time": "2021-07-31T18:10:54.878Z"
   },
   {
    "duration": 15,
    "start_time": "2021-07-31T18:11:03.038Z"
   },
   {
    "duration": 17,
    "start_time": "2021-07-31T18:11:08.142Z"
   },
   {
    "duration": 47,
    "start_time": "2021-07-31T18:11:38.075Z"
   },
   {
    "duration": 18,
    "start_time": "2021-07-31T18:14:26.526Z"
   },
   {
    "duration": 28,
    "start_time": "2021-07-31T18:15:15.339Z"
   },
   {
    "duration": 19,
    "start_time": "2021-07-31T18:15:15.899Z"
   },
   {
    "duration": 18,
    "start_time": "2021-07-31T18:15:18.382Z"
   },
   {
    "duration": 25,
    "start_time": "2021-07-31T18:15:34.790Z"
   },
   {
    "duration": 18,
    "start_time": "2021-07-31T18:15:53.540Z"
   },
   {
    "duration": 16,
    "start_time": "2021-07-31T18:15:57.325Z"
   },
   {
    "duration": 18,
    "start_time": "2021-07-31T18:16:03.771Z"
   },
   {
    "duration": 19,
    "start_time": "2021-07-31T18:16:05.783Z"
   },
   {
    "duration": 19,
    "start_time": "2021-07-31T18:16:08.697Z"
   },
   {
    "duration": 17,
    "start_time": "2021-07-31T18:16:17.536Z"
   },
   {
    "duration": 732,
    "start_time": "2021-07-31T18:18:34.919Z"
   },
   {
    "duration": 108,
    "start_time": "2021-07-31T18:19:10.663Z"
   },
   {
    "duration": 615,
    "start_time": "2021-07-31T18:19:51.557Z"
   },
   {
    "duration": 794,
    "start_time": "2021-07-31T18:21:21.338Z"
   },
   {
    "duration": 372,
    "start_time": "2021-07-31T18:23:07.090Z"
   },
   {
    "duration": 790,
    "start_time": "2021-07-31T18:35:41.946Z"
   },
   {
    "duration": 5809,
    "start_time": "2021-07-31T18:40:35.955Z"
   },
   {
    "duration": 6869,
    "start_time": "2021-07-31T18:40:49.763Z"
   },
   {
    "duration": 717,
    "start_time": "2021-07-31T18:41:19.472Z"
   },
   {
    "duration": 733,
    "start_time": "2021-07-31T18:42:50.466Z"
   },
   {
    "duration": 718,
    "start_time": "2021-07-31T18:43:53.788Z"
   },
   {
    "duration": 793,
    "start_time": "2021-07-31T18:44:51.985Z"
   },
   {
    "duration": 738,
    "start_time": "2021-07-31T18:47:53.634Z"
   },
   {
    "duration": 723,
    "start_time": "2021-07-31T19:03:04.005Z"
   },
   {
    "duration": 735,
    "start_time": "2021-07-31T19:37:03.880Z"
   },
   {
    "duration": 726,
    "start_time": "2021-07-31T19:38:34.040Z"
   },
   {
    "duration": 459,
    "start_time": "2021-07-31T19:40:20.360Z"
   }
  ],
  "kernelspec": {
   "display_name": "Python 3",
   "language": "python",
   "name": "python3"
  },
  "language_info": {
   "codemirror_mode": {
    "name": "ipython",
    "version": 3
   },
   "file_extension": ".py",
   "mimetype": "text/x-python",
   "name": "python",
   "nbconvert_exporter": "python",
   "pygments_lexer": "ipython3",
   "version": "3.8.8"
  },
  "toc": {
   "base_numbering": 1,
   "nav_menu": {},
   "number_sections": true,
   "sideBar": true,
   "skip_h1_title": true,
   "title_cell": "Содержание",
   "title_sidebar": "Содержание",
   "toc_cell": true,
   "toc_position": {},
   "toc_section_display": true,
   "toc_window_display": true
  }
 },
 "nbformat": 4,
 "nbformat_minor": 2
}
