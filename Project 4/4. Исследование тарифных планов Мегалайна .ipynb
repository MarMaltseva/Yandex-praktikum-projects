{
 "cells": [
  {
   "cell_type": "markdown",
   "metadata": {},
   "source": [
    "# Определение перспективного тарифа для телеком компании\n",
    "\n",
    "Вы аналитик компании «Мегалайн» — федерального оператора сотовой связи. Клиентам предлагают два тарифных плана: «Смарт» и «Ультра». Чтобы скорректировать рекламный бюджет, коммерческий департамент хочет понять, какой тариф приносит больше денег.\n",
    "Вам предстоит сделать предварительный анализ тарифов на небольшой выборке клиентов. В вашем распоряжении данные 500 пользователей «Мегалайна»: кто они, откуда, каким тарифом пользуются, сколько звонков и сообщений каждый отправил за 2018 год. Нужно проанализировать поведение клиентов и сделать вывод — какой тариф лучше."
   ]
  },
  {
   "cell_type": "markdown",
   "metadata": {},
   "source": [
    "## Изучение данных из файла"
   ]
  },
  {
   "cell_type": "markdown",
   "metadata": {},
   "source": [
    "В первую очередь выведем общую информацию об имеющихся данных, чтобы выделить шаги для этапа предобработки данных. "
   ]
  },
  {
   "cell_type": "code",
   "execution_count": 1,
   "metadata": {},
   "outputs": [
    {
     "name": "stdout",
     "output_type": "stream",
     "text": [
      "<class 'pandas.core.frame.DataFrame'>\n",
      "RangeIndex: 202607 entries, 0 to 202606\n",
      "Data columns (total 4 columns):\n",
      "id           202607 non-null object\n",
      "call_date    202607 non-null object\n",
      "duration     202607 non-null float64\n",
      "user_id      202607 non-null int64\n",
      "dtypes: float64(1), int64(1), object(2)\n",
      "memory usage: 6.2+ MB\n",
      "None\n",
      "<class 'pandas.core.frame.DataFrame'>\n",
      "RangeIndex: 149396 entries, 0 to 149395\n",
      "Data columns (total 5 columns):\n",
      "Unnamed: 0      149396 non-null int64\n",
      "id              149396 non-null object\n",
      "mb_used         149396 non-null float64\n",
      "session_date    149396 non-null object\n",
      "user_id         149396 non-null int64\n",
      "dtypes: float64(1), int64(2), object(2)\n",
      "memory usage: 5.7+ MB\n",
      "None\n",
      "<class 'pandas.core.frame.DataFrame'>\n",
      "RangeIndex: 123036 entries, 0 to 123035\n",
      "Data columns (total 3 columns):\n",
      "id              123036 non-null object\n",
      "message_date    123036 non-null object\n",
      "user_id         123036 non-null int64\n",
      "dtypes: int64(1), object(2)\n",
      "memory usage: 2.8+ MB\n",
      "None\n",
      "<class 'pandas.core.frame.DataFrame'>\n",
      "RangeIndex: 2 entries, 0 to 1\n",
      "Data columns (total 8 columns):\n",
      "messages_included        2 non-null int64\n",
      "mb_per_month_included    2 non-null int64\n",
      "minutes_included         2 non-null int64\n",
      "rub_monthly_fee          2 non-null int64\n",
      "rub_per_gb               2 non-null int64\n",
      "rub_per_message          2 non-null int64\n",
      "rub_per_minute           2 non-null int64\n",
      "tariff_name              2 non-null object\n",
      "dtypes: int64(7), object(1)\n",
      "memory usage: 256.0+ bytes\n",
      "None\n",
      "<class 'pandas.core.frame.DataFrame'>\n",
      "RangeIndex: 500 entries, 0 to 499\n",
      "Data columns (total 8 columns):\n",
      "user_id       500 non-null int64\n",
      "age           500 non-null int64\n",
      "churn_date    38 non-null object\n",
      "city          500 non-null object\n",
      "first_name    500 non-null object\n",
      "last_name     500 non-null object\n",
      "reg_date      500 non-null object\n",
      "tariff        500 non-null object\n",
      "dtypes: int64(2), object(6)\n",
      "memory usage: 31.4+ KB\n",
      "None\n"
     ]
    }
   ],
   "source": [
    "import pandas as pd\n",
    "import matplotlib.pyplot as plt\n",
    "import numpy as np\n",
    "import scipy.stats as st\n",
    "from scipy import stats as st\n",
    "import seaborn as sns\n",
    "\n",
    "calls = pd.read_csv('/datasets/calls.csv')\n",
    "#calls.head(5)\n",
    "internet = pd.read_csv('/datasets/internet.csv')\n",
    "#internet.head(5)\n",
    "messages = pd.read_csv('/datasets/messages.csv')\n",
    "#messages.head(5)\n",
    "tariffs = pd.read_csv('/datasets/tariffs.csv')\n",
    "#tariffs.head(5)\n",
    "users = pd.read_csv('/datasets/users.csv')\n",
    "#users.head(5)\n",
    "\n",
    "for data in [calls, internet, messages, tariffs, users]: print(data.info())"
   ]
  },
  {
   "cell_type": "code",
   "execution_count": 2,
   "metadata": {},
   "outputs": [
    {
     "data": {
      "text/plain": [
       "churn_date    462\n",
       "tariff          0\n",
       "reg_date        0\n",
       "last_name       0\n",
       "first_name      0\n",
       "city            0\n",
       "age             0\n",
       "user_id         0\n",
       "dtype: int64"
      ]
     },
     "execution_count": 2,
     "metadata": {},
     "output_type": "execute_result"
    }
   ],
   "source": [
    "users.isna().sum().sort_values(ascending = False)"
   ]
  },
  {
   "cell_type": "markdown",
   "metadata": {},
   "source": [
    "### Вывод"
   ]
  },
  {
   "cell_type": "markdown",
   "metadata": {},
   "source": [
    "По результатам полученной общей информации о данных можно отметить следующие недостатки данных, которые будут устранены на этапе предобработки:\n",
    "1. во-первых, call_date, session_date, churn_date, reg_date распознаются как текстовые пременные, в то время как они должна иметь формат даты;\n",
    "2. во-вторых, мы располагаем данными о 500 клиентах, соответственно, при объединении таблиц у нас будут появляться пропуски;\n",
    "3. в-третьих, в таблице internet есть столбец unnamed, который необходимо удалить;\n",
    "4. в-четвертых, можно увидеть пропущенные значения в столбце churn_date, которые необходимо заполнить."
   ]
  },
  {
   "cell_type": "markdown",
   "metadata": {},
   "source": [
    "## Предобработка данных"
   ]
  },
  {
   "cell_type": "markdown",
   "metadata": {},
   "source": [
    "В первую очередь удалим незначимый для нас столбец 'Unnamed: 0' в таблице Internet."
   ]
  },
  {
   "cell_type": "code",
   "execution_count": 3,
   "metadata": {},
   "outputs": [
    {
     "data": {
      "text/html": [
       "<div>\n",
       "<style scoped>\n",
       "    .dataframe tbody tr th:only-of-type {\n",
       "        vertical-align: middle;\n",
       "    }\n",
       "\n",
       "    .dataframe tbody tr th {\n",
       "        vertical-align: top;\n",
       "    }\n",
       "\n",
       "    .dataframe thead th {\n",
       "        text-align: right;\n",
       "    }\n",
       "</style>\n",
       "<table border=\"1\" class=\"dataframe\">\n",
       "  <thead>\n",
       "    <tr style=\"text-align: right;\">\n",
       "      <th></th>\n",
       "      <th>id</th>\n",
       "      <th>mb_used</th>\n",
       "      <th>session_date</th>\n",
       "      <th>user_id</th>\n",
       "    </tr>\n",
       "  </thead>\n",
       "  <tbody>\n",
       "    <tr>\n",
       "      <td>0</td>\n",
       "      <td>1000_0</td>\n",
       "      <td>112.95</td>\n",
       "      <td>2018-11-25</td>\n",
       "      <td>1000</td>\n",
       "    </tr>\n",
       "    <tr>\n",
       "      <td>1</td>\n",
       "      <td>1000_1</td>\n",
       "      <td>1052.81</td>\n",
       "      <td>2018-09-07</td>\n",
       "      <td>1000</td>\n",
       "    </tr>\n",
       "    <tr>\n",
       "      <td>2</td>\n",
       "      <td>1000_2</td>\n",
       "      <td>1197.26</td>\n",
       "      <td>2018-06-25</td>\n",
       "      <td>1000</td>\n",
       "    </tr>\n",
       "    <tr>\n",
       "      <td>3</td>\n",
       "      <td>1000_3</td>\n",
       "      <td>550.27</td>\n",
       "      <td>2018-08-22</td>\n",
       "      <td>1000</td>\n",
       "    </tr>\n",
       "    <tr>\n",
       "      <td>4</td>\n",
       "      <td>1000_4</td>\n",
       "      <td>302.56</td>\n",
       "      <td>2018-09-24</td>\n",
       "      <td>1000</td>\n",
       "    </tr>\n",
       "    <tr>\n",
       "      <td>...</td>\n",
       "      <td>...</td>\n",
       "      <td>...</td>\n",
       "      <td>...</td>\n",
       "      <td>...</td>\n",
       "    </tr>\n",
       "    <tr>\n",
       "      <td>149391</td>\n",
       "      <td>1499_152</td>\n",
       "      <td>318.90</td>\n",
       "      <td>2018-10-03</td>\n",
       "      <td>1499</td>\n",
       "    </tr>\n",
       "    <tr>\n",
       "      <td>149392</td>\n",
       "      <td>1499_153</td>\n",
       "      <td>490.13</td>\n",
       "      <td>2018-12-14</td>\n",
       "      <td>1499</td>\n",
       "    </tr>\n",
       "    <tr>\n",
       "      <td>149393</td>\n",
       "      <td>1499_154</td>\n",
       "      <td>0.00</td>\n",
       "      <td>2018-10-27</td>\n",
       "      <td>1499</td>\n",
       "    </tr>\n",
       "    <tr>\n",
       "      <td>149394</td>\n",
       "      <td>1499_155</td>\n",
       "      <td>1246.32</td>\n",
       "      <td>2018-11-26</td>\n",
       "      <td>1499</td>\n",
       "    </tr>\n",
       "    <tr>\n",
       "      <td>149395</td>\n",
       "      <td>1499_156</td>\n",
       "      <td>544.37</td>\n",
       "      <td>2018-10-26</td>\n",
       "      <td>1499</td>\n",
       "    </tr>\n",
       "  </tbody>\n",
       "</table>\n",
       "<p>149396 rows × 4 columns</p>\n",
       "</div>"
      ],
      "text/plain": [
       "              id  mb_used session_date  user_id\n",
       "0         1000_0   112.95   2018-11-25     1000\n",
       "1         1000_1  1052.81   2018-09-07     1000\n",
       "2         1000_2  1197.26   2018-06-25     1000\n",
       "3         1000_3   550.27   2018-08-22     1000\n",
       "4         1000_4   302.56   2018-09-24     1000\n",
       "...          ...      ...          ...      ...\n",
       "149391  1499_152   318.90   2018-10-03     1499\n",
       "149392  1499_153   490.13   2018-12-14     1499\n",
       "149393  1499_154     0.00   2018-10-27     1499\n",
       "149394  1499_155  1246.32   2018-11-26     1499\n",
       "149395  1499_156   544.37   2018-10-26     1499\n",
       "\n",
       "[149396 rows x 4 columns]"
      ]
     },
     "execution_count": 3,
     "metadata": {},
     "output_type": "execute_result"
    }
   ],
   "source": [
    "internet.drop(['Unnamed: 0'], axis = 1) "
   ]
  },
  {
   "cell_type": "markdown",
   "metadata": {},
   "source": [
    "Затем заменим текстовый тип столбцов call_date, session_date, churn_date, reg_date на тип даты для удобства работы и проверим успешность замены."
   ]
  },
  {
   "cell_type": "code",
   "execution_count": 4,
   "metadata": {},
   "outputs": [
    {
     "data": {
      "text/plain": [
       "0        2018-06-27\n",
       "1        2018-10-08\n",
       "2        2018-08-04\n",
       "3        2018-06-16\n",
       "4        2018-12-05\n",
       "            ...    \n",
       "123031   2018-12-12\n",
       "123032   2018-09-28\n",
       "123033   2018-09-27\n",
       "123034   2018-11-15\n",
       "123035   2018-11-16\n",
       "Name: message_date, Length: 123036, dtype: datetime64[ns]"
      ]
     },
     "execution_count": 4,
     "metadata": {},
     "output_type": "execute_result"
    }
   ],
   "source": [
    "calls['call_date'] = pd.to_datetime(calls['call_date'], format='%Y-%m-%d')\n",
    "internet['session_date'] = pd.to_datetime(internet['session_date'], format='%Y-%m-%d')\n",
    "messages['message_date'] = pd.to_datetime(messages['message_date'], format='%Y-%m-%d')\n",
    "users['churn_date'] = pd.to_datetime(users['churn_date'], format='%Y-%m-%d')\n",
    "users['reg_date'] = pd.to_datetime(users['reg_date'], format='%Y-%m-%d')\n",
    "messages['message_date']"
   ]
  },
  {
   "cell_type": "markdown",
   "metadata": {},
   "source": [
    "Следующий шаг - работа с пропущенными значениями. В первую очередь обработаем пропущенные значения в столбце churn_date, содержащем информацию о дате прекращения пользования тарифом. Если значение пропущено, то тариф ещё действовал на момент выгрузки данных, соответственно, имеет смысл заполнить пропущенные значения 0."
   ]
  },
  {
   "cell_type": "code",
   "execution_count": 5,
   "metadata": {},
   "outputs": [
    {
     "name": "stdout",
     "output_type": "stream",
     "text": [
      "Количество пропусков в колонке \"churn_date\" до заполнения: 462\n",
      "Количество пропусков в колонке \"churn_date\" после заполнения: 0\n"
     ]
    }
   ],
   "source": [
    "#users['churn_date'].value_counts()\n",
    "print('Количество пропусков в колонке \"churn_date\" до заполнения:', users['churn_date'].isna().sum())\n",
    "users['churn_date'] = users['churn_date'].fillna(0)\n",
    "print('Количество пропусков в колонке \"churn_date\" после заполнения:', users['churn_date'].isna().sum())"
   ]
  },
  {
   "cell_type": "markdown",
   "metadata": {},
   "source": [
    "### Вывод"
   ]
  },
  {
   "cell_type": "markdown",
   "metadata": {},
   "source": [
    "Таким образом, на этапе предобаботки данных были осуществлены две манипуляции с данными: во-первых, все колонки, содержащие информацию о дате, были преведены в формату datetime, во-вторых, пропущенные значения, обнаруженные в колонке, содержащей информацию о дате прекращения пользования тарифом, были заполнены нулем исходя из соображений логики (если дата не указана, скорее всего, отказа не было).\n",
    "\n",
    "Несмотря на то, что в колонках mb_used и duration было обнаружено большое количество нулевых значений, эти значения нами обрабатываться не будут, так как они \"естественны\". Так, звонки с нулевой продолжительностью означают, что звонок не был отвечен либо сброшен. Нулевой скачанный трафик может быть связан с пребыванием пользователя вне зоны действия сети либо сознательным отказом пользователя от интернета. "
   ]
  },
  {
   "cell_type": "markdown",
   "metadata": {},
   "source": [
    "## Сбор и анализ необходимой информации"
   ]
  },
  {
   "cell_type": "markdown",
   "metadata": {},
   "source": [
    "В первую очередь необходимо округлить в большую сторону длительность звонков и количество использованных мегабайтов, поскольку условия тарифа таковы, что даже если звонок \"длился всего 1 секунду,он будет засчитан как 1 минута\" (аналогичный принцип используется для объема интернета)."
   ]
  },
  {
   "cell_type": "code",
   "execution_count": 6,
   "metadata": {},
   "outputs": [],
   "source": [
    "calls['duration'] = calls['duration'].apply(np.ceil)"
   ]
  },
  {
   "cell_type": "markdown",
   "metadata": {},
   "source": [
    "Прежде всего, посчитаем для каждого пользователя количество сделанных звонков и израсходованных минут разговора по месяцам; количество отправленных сообщений по месяцам и объем израсходованного интернет-трафика по месяцам."
   ]
  },
  {
   "cell_type": "code",
   "execution_count": 7,
   "metadata": {},
   "outputs": [
    {
     "data": {
      "text/html": [
       "<div>\n",
       "<style scoped>\n",
       "    .dataframe tbody tr th:only-of-type {\n",
       "        vertical-align: middle;\n",
       "    }\n",
       "\n",
       "    .dataframe tbody tr th {\n",
       "        vertical-align: top;\n",
       "    }\n",
       "\n",
       "    .dataframe thead th {\n",
       "        text-align: right;\n",
       "    }\n",
       "</style>\n",
       "<table border=\"1\" class=\"dataframe\">\n",
       "  <thead>\n",
       "    <tr style=\"text-align: right;\">\n",
       "      <th></th>\n",
       "      <th>user_id</th>\n",
       "      <th>month</th>\n",
       "      <th>minutes</th>\n",
       "      <th>calls</th>\n",
       "    </tr>\n",
       "  </thead>\n",
       "  <tbody>\n",
       "    <tr>\n",
       "      <td>0</td>\n",
       "      <td>1000</td>\n",
       "      <td>5</td>\n",
       "      <td>159.0</td>\n",
       "      <td>22</td>\n",
       "    </tr>\n",
       "    <tr>\n",
       "      <td>1</td>\n",
       "      <td>1000</td>\n",
       "      <td>6</td>\n",
       "      <td>172.0</td>\n",
       "      <td>43</td>\n",
       "    </tr>\n",
       "    <tr>\n",
       "      <td>2</td>\n",
       "      <td>1000</td>\n",
       "      <td>7</td>\n",
       "      <td>340.0</td>\n",
       "      <td>47</td>\n",
       "    </tr>\n",
       "    <tr>\n",
       "      <td>3</td>\n",
       "      <td>1000</td>\n",
       "      <td>8</td>\n",
       "      <td>408.0</td>\n",
       "      <td>52</td>\n",
       "    </tr>\n",
       "    <tr>\n",
       "      <td>4</td>\n",
       "      <td>1000</td>\n",
       "      <td>9</td>\n",
       "      <td>466.0</td>\n",
       "      <td>58</td>\n",
       "    </tr>\n",
       "    <tr>\n",
       "      <td>...</td>\n",
       "      <td>...</td>\n",
       "      <td>...</td>\n",
       "      <td>...</td>\n",
       "      <td>...</td>\n",
       "    </tr>\n",
       "    <tr>\n",
       "      <td>3169</td>\n",
       "      <td>1498</td>\n",
       "      <td>10</td>\n",
       "      <td>247.0</td>\n",
       "      <td>41</td>\n",
       "    </tr>\n",
       "    <tr>\n",
       "      <td>3170</td>\n",
       "      <td>1499</td>\n",
       "      <td>9</td>\n",
       "      <td>70.0</td>\n",
       "      <td>9</td>\n",
       "    </tr>\n",
       "    <tr>\n",
       "      <td>3171</td>\n",
       "      <td>1499</td>\n",
       "      <td>10</td>\n",
       "      <td>449.0</td>\n",
       "      <td>68</td>\n",
       "    </tr>\n",
       "    <tr>\n",
       "      <td>3172</td>\n",
       "      <td>1499</td>\n",
       "      <td>11</td>\n",
       "      <td>612.0</td>\n",
       "      <td>74</td>\n",
       "    </tr>\n",
       "    <tr>\n",
       "      <td>3173</td>\n",
       "      <td>1499</td>\n",
       "      <td>12</td>\n",
       "      <td>492.0</td>\n",
       "      <td>69</td>\n",
       "    </tr>\n",
       "  </tbody>\n",
       "</table>\n",
       "<p>3174 rows × 4 columns</p>\n",
       "</div>"
      ],
      "text/plain": [
       "      user_id  month  minutes  calls\n",
       "0        1000      5    159.0     22\n",
       "1        1000      6    172.0     43\n",
       "2        1000      7    340.0     47\n",
       "3        1000      8    408.0     52\n",
       "4        1000      9    466.0     58\n",
       "...       ...    ...      ...    ...\n",
       "3169     1498     10    247.0     41\n",
       "3170     1499      9     70.0      9\n",
       "3171     1499     10    449.0     68\n",
       "3172     1499     11    612.0     74\n",
       "3173     1499     12    492.0     69\n",
       "\n",
       "[3174 rows x 4 columns]"
      ]
     },
     "execution_count": 7,
     "metadata": {},
     "output_type": "execute_result"
    }
   ],
   "source": [
    "calls['month'] = calls['call_date'].dt.month\n",
    "data_calls = calls.pivot_table(index=['user_id','month'],values='duration', aggfunc=['sum', 'count']).reset_index()\n",
    "data_calls.columns = ['user_id','month','minutes', 'calls']\n",
    "data_calls"
   ]
  },
  {
   "cell_type": "code",
   "execution_count": 8,
   "metadata": {},
   "outputs": [
    {
     "data": {
      "text/html": [
       "<div>\n",
       "<style scoped>\n",
       "    .dataframe tbody tr th:only-of-type {\n",
       "        vertical-align: middle;\n",
       "    }\n",
       "\n",
       "    .dataframe tbody tr th {\n",
       "        vertical-align: top;\n",
       "    }\n",
       "\n",
       "    .dataframe thead th {\n",
       "        text-align: right;\n",
       "    }\n",
       "</style>\n",
       "<table border=\"1\" class=\"dataframe\">\n",
       "  <thead>\n",
       "    <tr style=\"text-align: right;\">\n",
       "      <th></th>\n",
       "      <th>user_id</th>\n",
       "      <th>month</th>\n",
       "      <th>messages</th>\n",
       "    </tr>\n",
       "  </thead>\n",
       "  <tbody>\n",
       "    <tr>\n",
       "      <td>0</td>\n",
       "      <td>1000</td>\n",
       "      <td>5</td>\n",
       "      <td>22</td>\n",
       "    </tr>\n",
       "    <tr>\n",
       "      <td>1</td>\n",
       "      <td>1000</td>\n",
       "      <td>6</td>\n",
       "      <td>60</td>\n",
       "    </tr>\n",
       "    <tr>\n",
       "      <td>2</td>\n",
       "      <td>1000</td>\n",
       "      <td>7</td>\n",
       "      <td>75</td>\n",
       "    </tr>\n",
       "    <tr>\n",
       "      <td>3</td>\n",
       "      <td>1000</td>\n",
       "      <td>8</td>\n",
       "      <td>81</td>\n",
       "    </tr>\n",
       "    <tr>\n",
       "      <td>4</td>\n",
       "      <td>1000</td>\n",
       "      <td>9</td>\n",
       "      <td>57</td>\n",
       "    </tr>\n",
       "    <tr>\n",
       "      <td>...</td>\n",
       "      <td>...</td>\n",
       "      <td>...</td>\n",
       "      <td>...</td>\n",
       "    </tr>\n",
       "    <tr>\n",
       "      <td>2712</td>\n",
       "      <td>1498</td>\n",
       "      <td>10</td>\n",
       "      <td>42</td>\n",
       "    </tr>\n",
       "    <tr>\n",
       "      <td>2713</td>\n",
       "      <td>1499</td>\n",
       "      <td>9</td>\n",
       "      <td>11</td>\n",
       "    </tr>\n",
       "    <tr>\n",
       "      <td>2714</td>\n",
       "      <td>1499</td>\n",
       "      <td>10</td>\n",
       "      <td>48</td>\n",
       "    </tr>\n",
       "    <tr>\n",
       "      <td>2715</td>\n",
       "      <td>1499</td>\n",
       "      <td>11</td>\n",
       "      <td>59</td>\n",
       "    </tr>\n",
       "    <tr>\n",
       "      <td>2716</td>\n",
       "      <td>1499</td>\n",
       "      <td>12</td>\n",
       "      <td>66</td>\n",
       "    </tr>\n",
       "  </tbody>\n",
       "</table>\n",
       "<p>2717 rows × 3 columns</p>\n",
       "</div>"
      ],
      "text/plain": [
       "      user_id  month  messages\n",
       "0        1000      5        22\n",
       "1        1000      6        60\n",
       "2        1000      7        75\n",
       "3        1000      8        81\n",
       "4        1000      9        57\n",
       "...       ...    ...       ...\n",
       "2712     1498     10        42\n",
       "2713     1499      9        11\n",
       "2714     1499     10        48\n",
       "2715     1499     11        59\n",
       "2716     1499     12        66\n",
       "\n",
       "[2717 rows x 3 columns]"
      ]
     },
     "execution_count": 8,
     "metadata": {},
     "output_type": "execute_result"
    }
   ],
   "source": [
    "messages['month'] = messages['message_date'].dt.month\n",
    "data_messages = messages.pivot_table(index=['user_id','month'],values='message_date', aggfunc=['count']).reset_index()\n",
    "data_messages.columns = ['user_id','month','messages']\n",
    "data_messages"
   ]
  },
  {
   "cell_type": "code",
   "execution_count": 9,
   "metadata": {},
   "outputs": [
    {
     "data": {
      "text/html": [
       "<div>\n",
       "<style scoped>\n",
       "    .dataframe tbody tr th:only-of-type {\n",
       "        vertical-align: middle;\n",
       "    }\n",
       "\n",
       "    .dataframe tbody tr th {\n",
       "        vertical-align: top;\n",
       "    }\n",
       "\n",
       "    .dataframe thead th {\n",
       "        text-align: right;\n",
       "    }\n",
       "</style>\n",
       "<table border=\"1\" class=\"dataframe\">\n",
       "  <thead>\n",
       "    <tr style=\"text-align: right;\">\n",
       "      <th></th>\n",
       "      <th>user_id</th>\n",
       "      <th>month</th>\n",
       "      <th>messages</th>\n",
       "      <th>minutes</th>\n",
       "      <th>calls</th>\n",
       "    </tr>\n",
       "  </thead>\n",
       "  <tbody>\n",
       "    <tr>\n",
       "      <td>0</td>\n",
       "      <td>1000</td>\n",
       "      <td>5</td>\n",
       "      <td>22.0</td>\n",
       "      <td>159.0</td>\n",
       "      <td>22.0</td>\n",
       "    </tr>\n",
       "    <tr>\n",
       "      <td>1</td>\n",
       "      <td>1000</td>\n",
       "      <td>6</td>\n",
       "      <td>60.0</td>\n",
       "      <td>172.0</td>\n",
       "      <td>43.0</td>\n",
       "    </tr>\n",
       "    <tr>\n",
       "      <td>2</td>\n",
       "      <td>1000</td>\n",
       "      <td>7</td>\n",
       "      <td>75.0</td>\n",
       "      <td>340.0</td>\n",
       "      <td>47.0</td>\n",
       "    </tr>\n",
       "    <tr>\n",
       "      <td>3</td>\n",
       "      <td>1000</td>\n",
       "      <td>8</td>\n",
       "      <td>81.0</td>\n",
       "      <td>408.0</td>\n",
       "      <td>52.0</td>\n",
       "    </tr>\n",
       "    <tr>\n",
       "      <td>4</td>\n",
       "      <td>1000</td>\n",
       "      <td>9</td>\n",
       "      <td>57.0</td>\n",
       "      <td>466.0</td>\n",
       "      <td>58.0</td>\n",
       "    </tr>\n",
       "    <tr>\n",
       "      <td>...</td>\n",
       "      <td>...</td>\n",
       "      <td>...</td>\n",
       "      <td>...</td>\n",
       "      <td>...</td>\n",
       "      <td>...</td>\n",
       "    </tr>\n",
       "    <tr>\n",
       "      <td>3208</td>\n",
       "      <td>1494</td>\n",
       "      <td>8</td>\n",
       "      <td>NaN</td>\n",
       "      <td>262.0</td>\n",
       "      <td>32.0</td>\n",
       "    </tr>\n",
       "    <tr>\n",
       "      <td>3209</td>\n",
       "      <td>1494</td>\n",
       "      <td>9</td>\n",
       "      <td>NaN</td>\n",
       "      <td>501.0</td>\n",
       "      <td>66.0</td>\n",
       "    </tr>\n",
       "    <tr>\n",
       "      <td>3210</td>\n",
       "      <td>1494</td>\n",
       "      <td>10</td>\n",
       "      <td>NaN</td>\n",
       "      <td>354.0</td>\n",
       "      <td>52.0</td>\n",
       "    </tr>\n",
       "    <tr>\n",
       "      <td>3211</td>\n",
       "      <td>1494</td>\n",
       "      <td>11</td>\n",
       "      <td>NaN</td>\n",
       "      <td>411.0</td>\n",
       "      <td>63.0</td>\n",
       "    </tr>\n",
       "    <tr>\n",
       "      <td>3212</td>\n",
       "      <td>1494</td>\n",
       "      <td>12</td>\n",
       "      <td>NaN</td>\n",
       "      <td>418.0</td>\n",
       "      <td>62.0</td>\n",
       "    </tr>\n",
       "  </tbody>\n",
       "</table>\n",
       "<p>3213 rows × 5 columns</p>\n",
       "</div>"
      ],
      "text/plain": [
       "      user_id  month  messages  minutes  calls\n",
       "0        1000      5      22.0    159.0   22.0\n",
       "1        1000      6      60.0    172.0   43.0\n",
       "2        1000      7      75.0    340.0   47.0\n",
       "3        1000      8      81.0    408.0   52.0\n",
       "4        1000      9      57.0    466.0   58.0\n",
       "...       ...    ...       ...      ...    ...\n",
       "3208     1494      8       NaN    262.0   32.0\n",
       "3209     1494      9       NaN    501.0   66.0\n",
       "3210     1494     10       NaN    354.0   52.0\n",
       "3211     1494     11       NaN    411.0   63.0\n",
       "3212     1494     12       NaN    418.0   62.0\n",
       "\n",
       "[3213 rows x 5 columns]"
      ]
     },
     "execution_count": 9,
     "metadata": {},
     "output_type": "execute_result"
    }
   ],
   "source": [
    "data_messages_calls=data_messages.merge(data_calls,on=['user_id','month'], how = 'outer')\n",
    "data_messages_calls"
   ]
  },
  {
   "cell_type": "code",
   "execution_count": 10,
   "metadata": {},
   "outputs": [],
   "source": [
    "internet['month'] = internet['session_date'].dt.month\n",
    "data_internet = internet.pivot_table(index=['user_id','month'],values='mb_used', aggfunc=['sum']).reset_index()\n",
    "data_internet.columns = ['user_id','month','mb_used']"
   ]
  },
  {
   "cell_type": "code",
   "execution_count": 11,
   "metadata": {},
   "outputs": [
    {
     "data": {
      "text/html": [
       "<div>\n",
       "<style scoped>\n",
       "    .dataframe tbody tr th:only-of-type {\n",
       "        vertical-align: middle;\n",
       "    }\n",
       "\n",
       "    .dataframe tbody tr th {\n",
       "        vertical-align: top;\n",
       "    }\n",
       "\n",
       "    .dataframe thead th {\n",
       "        text-align: right;\n",
       "    }\n",
       "</style>\n",
       "<table border=\"1\" class=\"dataframe\">\n",
       "  <thead>\n",
       "    <tr style=\"text-align: right;\">\n",
       "      <th></th>\n",
       "      <th>user_id</th>\n",
       "      <th>month</th>\n",
       "      <th>messages</th>\n",
       "      <th>minutes</th>\n",
       "      <th>calls</th>\n",
       "      <th>mb_used</th>\n",
       "    </tr>\n",
       "  </thead>\n",
       "  <tbody>\n",
       "    <tr>\n",
       "      <td>0</td>\n",
       "      <td>1000</td>\n",
       "      <td>5</td>\n",
       "      <td>22.0</td>\n",
       "      <td>159.0</td>\n",
       "      <td>22.0</td>\n",
       "      <td>2253.49</td>\n",
       "    </tr>\n",
       "    <tr>\n",
       "      <td>1</td>\n",
       "      <td>1000</td>\n",
       "      <td>6</td>\n",
       "      <td>60.0</td>\n",
       "      <td>172.0</td>\n",
       "      <td>43.0</td>\n",
       "      <td>23233.77</td>\n",
       "    </tr>\n",
       "    <tr>\n",
       "      <td>2</td>\n",
       "      <td>1000</td>\n",
       "      <td>7</td>\n",
       "      <td>75.0</td>\n",
       "      <td>340.0</td>\n",
       "      <td>47.0</td>\n",
       "      <td>14003.64</td>\n",
       "    </tr>\n",
       "    <tr>\n",
       "      <td>3</td>\n",
       "      <td>1000</td>\n",
       "      <td>8</td>\n",
       "      <td>81.0</td>\n",
       "      <td>408.0</td>\n",
       "      <td>52.0</td>\n",
       "      <td>14055.93</td>\n",
       "    </tr>\n",
       "    <tr>\n",
       "      <td>4</td>\n",
       "      <td>1000</td>\n",
       "      <td>9</td>\n",
       "      <td>57.0</td>\n",
       "      <td>466.0</td>\n",
       "      <td>58.0</td>\n",
       "      <td>14568.91</td>\n",
       "    </tr>\n",
       "    <tr>\n",
       "      <td>...</td>\n",
       "      <td>...</td>\n",
       "      <td>...</td>\n",
       "      <td>...</td>\n",
       "      <td>...</td>\n",
       "      <td>...</td>\n",
       "      <td>...</td>\n",
       "    </tr>\n",
       "    <tr>\n",
       "      <td>3209</td>\n",
       "      <td>1494</td>\n",
       "      <td>9</td>\n",
       "      <td>NaN</td>\n",
       "      <td>501.0</td>\n",
       "      <td>66.0</td>\n",
       "      <td>16962.51</td>\n",
       "    </tr>\n",
       "    <tr>\n",
       "      <td>3210</td>\n",
       "      <td>1494</td>\n",
       "      <td>10</td>\n",
       "      <td>NaN</td>\n",
       "      <td>354.0</td>\n",
       "      <td>52.0</td>\n",
       "      <td>17767.24</td>\n",
       "    </tr>\n",
       "    <tr>\n",
       "      <td>3211</td>\n",
       "      <td>1494</td>\n",
       "      <td>11</td>\n",
       "      <td>NaN</td>\n",
       "      <td>411.0</td>\n",
       "      <td>63.0</td>\n",
       "      <td>18052.45</td>\n",
       "    </tr>\n",
       "    <tr>\n",
       "      <td>3212</td>\n",
       "      <td>1494</td>\n",
       "      <td>12</td>\n",
       "      <td>NaN</td>\n",
       "      <td>418.0</td>\n",
       "      <td>62.0</td>\n",
       "      <td>17621.21</td>\n",
       "    </tr>\n",
       "    <tr>\n",
       "      <td>3213</td>\n",
       "      <td>1476</td>\n",
       "      <td>4</td>\n",
       "      <td>NaN</td>\n",
       "      <td>NaN</td>\n",
       "      <td>NaN</td>\n",
       "      <td>530.78</td>\n",
       "    </tr>\n",
       "  </tbody>\n",
       "</table>\n",
       "<p>3214 rows × 6 columns</p>\n",
       "</div>"
      ],
      "text/plain": [
       "      user_id  month  messages  minutes  calls   mb_used\n",
       "0        1000      5      22.0    159.0   22.0   2253.49\n",
       "1        1000      6      60.0    172.0   43.0  23233.77\n",
       "2        1000      7      75.0    340.0   47.0  14003.64\n",
       "3        1000      8      81.0    408.0   52.0  14055.93\n",
       "4        1000      9      57.0    466.0   58.0  14568.91\n",
       "...       ...    ...       ...      ...    ...       ...\n",
       "3209     1494      9       NaN    501.0   66.0  16962.51\n",
       "3210     1494     10       NaN    354.0   52.0  17767.24\n",
       "3211     1494     11       NaN    411.0   63.0  18052.45\n",
       "3212     1494     12       NaN    418.0   62.0  17621.21\n",
       "3213     1476      4       NaN      NaN    NaN    530.78\n",
       "\n",
       "[3214 rows x 6 columns]"
      ]
     },
     "execution_count": 11,
     "metadata": {},
     "output_type": "execute_result"
    }
   ],
   "source": [
    "final_data=data_messages_calls.merge(data_internet,on=['user_id','month'], how = 'outer')\n",
    "final_data"
   ]
  },
  {
   "cell_type": "code",
   "execution_count": 12,
   "metadata": {},
   "outputs": [
    {
     "data": {
      "text/html": [
       "<div>\n",
       "<style scoped>\n",
       "    .dataframe tbody tr th:only-of-type {\n",
       "        vertical-align: middle;\n",
       "    }\n",
       "\n",
       "    .dataframe tbody tr th {\n",
       "        vertical-align: top;\n",
       "    }\n",
       "\n",
       "    .dataframe thead th {\n",
       "        text-align: right;\n",
       "    }\n",
       "</style>\n",
       "<table border=\"1\" class=\"dataframe\">\n",
       "  <thead>\n",
       "    <tr style=\"text-align: right;\">\n",
       "      <th></th>\n",
       "      <th>user_id</th>\n",
       "      <th>month</th>\n",
       "      <th>messages</th>\n",
       "      <th>minutes</th>\n",
       "      <th>calls</th>\n",
       "      <th>mb_used</th>\n",
       "      <th>tariff</th>\n",
       "      <th>city</th>\n",
       "    </tr>\n",
       "  </thead>\n",
       "  <tbody>\n",
       "    <tr>\n",
       "      <td>0</td>\n",
       "      <td>1000</td>\n",
       "      <td>5</td>\n",
       "      <td>22.0</td>\n",
       "      <td>159.0</td>\n",
       "      <td>22.0</td>\n",
       "      <td>2253.49</td>\n",
       "      <td>ultra</td>\n",
       "      <td>Краснодар</td>\n",
       "    </tr>\n",
       "    <tr>\n",
       "      <td>1</td>\n",
       "      <td>1000</td>\n",
       "      <td>6</td>\n",
       "      <td>60.0</td>\n",
       "      <td>172.0</td>\n",
       "      <td>43.0</td>\n",
       "      <td>23233.77</td>\n",
       "      <td>ultra</td>\n",
       "      <td>Краснодар</td>\n",
       "    </tr>\n",
       "    <tr>\n",
       "      <td>2</td>\n",
       "      <td>1000</td>\n",
       "      <td>7</td>\n",
       "      <td>75.0</td>\n",
       "      <td>340.0</td>\n",
       "      <td>47.0</td>\n",
       "      <td>14003.64</td>\n",
       "      <td>ultra</td>\n",
       "      <td>Краснодар</td>\n",
       "    </tr>\n",
       "    <tr>\n",
       "      <td>3</td>\n",
       "      <td>1000</td>\n",
       "      <td>8</td>\n",
       "      <td>81.0</td>\n",
       "      <td>408.0</td>\n",
       "      <td>52.0</td>\n",
       "      <td>14055.93</td>\n",
       "      <td>ultra</td>\n",
       "      <td>Краснодар</td>\n",
       "    </tr>\n",
       "    <tr>\n",
       "      <td>4</td>\n",
       "      <td>1000</td>\n",
       "      <td>9</td>\n",
       "      <td>57.0</td>\n",
       "      <td>466.0</td>\n",
       "      <td>58.0</td>\n",
       "      <td>14568.91</td>\n",
       "      <td>ultra</td>\n",
       "      <td>Краснодар</td>\n",
       "    </tr>\n",
       "    <tr>\n",
       "      <td>...</td>\n",
       "      <td>...</td>\n",
       "      <td>...</td>\n",
       "      <td>...</td>\n",
       "      <td>...</td>\n",
       "      <td>...</td>\n",
       "      <td>...</td>\n",
       "      <td>...</td>\n",
       "      <td>...</td>\n",
       "    </tr>\n",
       "    <tr>\n",
       "      <td>3209</td>\n",
       "      <td>1494</td>\n",
       "      <td>8</td>\n",
       "      <td>NaN</td>\n",
       "      <td>262.0</td>\n",
       "      <td>32.0</td>\n",
       "      <td>6590.75</td>\n",
       "      <td>smart</td>\n",
       "      <td>Омск</td>\n",
       "    </tr>\n",
       "    <tr>\n",
       "      <td>3210</td>\n",
       "      <td>1494</td>\n",
       "      <td>9</td>\n",
       "      <td>NaN</td>\n",
       "      <td>501.0</td>\n",
       "      <td>66.0</td>\n",
       "      <td>16962.51</td>\n",
       "      <td>smart</td>\n",
       "      <td>Омск</td>\n",
       "    </tr>\n",
       "    <tr>\n",
       "      <td>3211</td>\n",
       "      <td>1494</td>\n",
       "      <td>10</td>\n",
       "      <td>NaN</td>\n",
       "      <td>354.0</td>\n",
       "      <td>52.0</td>\n",
       "      <td>17767.24</td>\n",
       "      <td>smart</td>\n",
       "      <td>Омск</td>\n",
       "    </tr>\n",
       "    <tr>\n",
       "      <td>3212</td>\n",
       "      <td>1494</td>\n",
       "      <td>11</td>\n",
       "      <td>NaN</td>\n",
       "      <td>411.0</td>\n",
       "      <td>63.0</td>\n",
       "      <td>18052.45</td>\n",
       "      <td>smart</td>\n",
       "      <td>Омск</td>\n",
       "    </tr>\n",
       "    <tr>\n",
       "      <td>3213</td>\n",
       "      <td>1494</td>\n",
       "      <td>12</td>\n",
       "      <td>NaN</td>\n",
       "      <td>418.0</td>\n",
       "      <td>62.0</td>\n",
       "      <td>17621.21</td>\n",
       "      <td>smart</td>\n",
       "      <td>Омск</td>\n",
       "    </tr>\n",
       "  </tbody>\n",
       "</table>\n",
       "<p>3214 rows × 8 columns</p>\n",
       "</div>"
      ],
      "text/plain": [
       "      user_id  month  messages  minutes  calls   mb_used tariff       city\n",
       "0        1000      5      22.0    159.0   22.0   2253.49  ultra  Краснодар\n",
       "1        1000      6      60.0    172.0   43.0  23233.77  ultra  Краснодар\n",
       "2        1000      7      75.0    340.0   47.0  14003.64  ultra  Краснодар\n",
       "3        1000      8      81.0    408.0   52.0  14055.93  ultra  Краснодар\n",
       "4        1000      9      57.0    466.0   58.0  14568.91  ultra  Краснодар\n",
       "...       ...    ...       ...      ...    ...       ...    ...        ...\n",
       "3209     1494      8       NaN    262.0   32.0   6590.75  smart       Омск\n",
       "3210     1494      9       NaN    501.0   66.0  16962.51  smart       Омск\n",
       "3211     1494     10       NaN    354.0   52.0  17767.24  smart       Омск\n",
       "3212     1494     11       NaN    411.0   63.0  18052.45  smart       Омск\n",
       "3213     1494     12       NaN    418.0   62.0  17621.21  smart       Омск\n",
       "\n",
       "[3214 rows x 8 columns]"
      ]
     },
     "execution_count": 12,
     "metadata": {},
     "output_type": "execute_result"
    }
   ],
   "source": [
    "final_data = final_data.merge(users[['user_id','tariff','city']], on = ['user_id'])\n",
    "final_data"
   ]
  },
  {
   "cell_type": "markdown",
   "metadata": {},
   "source": [
    "Для дальнейшей работы составим сводную таблицу, содержащую информацию по всем абонентам."
   ]
  },
  {
   "cell_type": "code",
   "execution_count": 13,
   "metadata": {},
   "outputs": [
    {
     "data": {
      "text/plain": [
       "user_id       0\n",
       "month         0\n",
       "messages    497\n",
       "minutes      40\n",
       "calls        40\n",
       "mb_used      11\n",
       "tariff        0\n",
       "city          0\n",
       "dtype: int64"
      ]
     },
     "execution_count": 13,
     "metadata": {},
     "output_type": "execute_result"
    }
   ],
   "source": [
    "final_data.isna().sum()"
   ]
  },
  {
   "cell_type": "markdown",
   "metadata": {},
   "source": [
    "Как можно увидеть из общей информации о финальной таблице, таблица содержит пропущенные значения, которые имеет смысл заменить на 0."
   ]
  },
  {
   "cell_type": "code",
   "execution_count": 14,
   "metadata": {},
   "outputs": [
    {
     "name": "stdout",
     "output_type": "stream",
     "text": [
      "<class 'pandas.core.frame.DataFrame'>\n",
      "Int64Index: 3214 entries, 0 to 3213\n",
      "Data columns (total 8 columns):\n",
      "user_id     3214 non-null int64\n",
      "month       3214 non-null int64\n",
      "messages    3214 non-null float64\n",
      "minutes     3214 non-null float64\n",
      "calls       3214 non-null float64\n",
      "mb_used     3214 non-null float64\n",
      "tariff      3214 non-null object\n",
      "city        3214 non-null object\n",
      "dtypes: float64(4), int64(2), object(2)\n",
      "memory usage: 226.0+ KB\n"
     ]
    }
   ],
   "source": [
    "final_data=final_data.fillna(0)\n",
    "final_data.info()"
   ]
  },
  {
   "cell_type": "markdown",
   "metadata": {},
   "source": [
    "Следующим шагом рассчитаем помесячную выручку с каждого пользователя (вычтем бесплатный лимит из суммарного количества звонков, сообщений и интернет-трафика; остаток умножим на значение из тарифного плана; прибавим абонентскую плату, соответствующую тарифному плану)."
   ]
  },
  {
   "cell_type": "code",
   "execution_count": 15,
   "metadata": {},
   "outputs": [],
   "source": [
    "final_data = final_data.merge(tariffs, left_on =['tariff'], right_on = ['tariff_name'])"
   ]
  },
  {
   "cell_type": "code",
   "execution_count": 16,
   "metadata": {},
   "outputs": [],
   "source": [
    "del final_data['tariff_name']"
   ]
  },
  {
   "cell_type": "code",
   "execution_count": 17,
   "metadata": {},
   "outputs": [
    {
     "data": {
      "text/html": [
       "<div>\n",
       "<style scoped>\n",
       "    .dataframe tbody tr th:only-of-type {\n",
       "        vertical-align: middle;\n",
       "    }\n",
       "\n",
       "    .dataframe tbody tr th {\n",
       "        vertical-align: top;\n",
       "    }\n",
       "\n",
       "    .dataframe thead th {\n",
       "        text-align: right;\n",
       "    }\n",
       "</style>\n",
       "<table border=\"1\" class=\"dataframe\">\n",
       "  <thead>\n",
       "    <tr style=\"text-align: right;\">\n",
       "      <th></th>\n",
       "      <th>user_id</th>\n",
       "      <th>month</th>\n",
       "      <th>messages</th>\n",
       "      <th>minutes</th>\n",
       "      <th>calls</th>\n",
       "      <th>mb_used</th>\n",
       "      <th>tariff</th>\n",
       "      <th>city</th>\n",
       "      <th>messages_included</th>\n",
       "      <th>mb_per_month_included</th>\n",
       "      <th>minutes_included</th>\n",
       "      <th>rub_monthly_fee</th>\n",
       "      <th>rub_per_gb</th>\n",
       "      <th>rub_per_message</th>\n",
       "      <th>rub_per_minute</th>\n",
       "    </tr>\n",
       "  </thead>\n",
       "  <tbody>\n",
       "    <tr>\n",
       "      <td>0</td>\n",
       "      <td>1000</td>\n",
       "      <td>5</td>\n",
       "      <td>22.0</td>\n",
       "      <td>159.0</td>\n",
       "      <td>22.0</td>\n",
       "      <td>2253.49</td>\n",
       "      <td>ultra</td>\n",
       "      <td>Краснодар</td>\n",
       "      <td>1000</td>\n",
       "      <td>30720</td>\n",
       "      <td>3000</td>\n",
       "      <td>1950</td>\n",
       "      <td>150</td>\n",
       "      <td>1</td>\n",
       "      <td>1</td>\n",
       "    </tr>\n",
       "    <tr>\n",
       "      <td>1</td>\n",
       "      <td>1000</td>\n",
       "      <td>6</td>\n",
       "      <td>60.0</td>\n",
       "      <td>172.0</td>\n",
       "      <td>43.0</td>\n",
       "      <td>23233.77</td>\n",
       "      <td>ultra</td>\n",
       "      <td>Краснодар</td>\n",
       "      <td>1000</td>\n",
       "      <td>30720</td>\n",
       "      <td>3000</td>\n",
       "      <td>1950</td>\n",
       "      <td>150</td>\n",
       "      <td>1</td>\n",
       "      <td>1</td>\n",
       "    </tr>\n",
       "    <tr>\n",
       "      <td>2</td>\n",
       "      <td>1000</td>\n",
       "      <td>7</td>\n",
       "      <td>75.0</td>\n",
       "      <td>340.0</td>\n",
       "      <td>47.0</td>\n",
       "      <td>14003.64</td>\n",
       "      <td>ultra</td>\n",
       "      <td>Краснодар</td>\n",
       "      <td>1000</td>\n",
       "      <td>30720</td>\n",
       "      <td>3000</td>\n",
       "      <td>1950</td>\n",
       "      <td>150</td>\n",
       "      <td>1</td>\n",
       "      <td>1</td>\n",
       "    </tr>\n",
       "    <tr>\n",
       "      <td>3</td>\n",
       "      <td>1000</td>\n",
       "      <td>8</td>\n",
       "      <td>81.0</td>\n",
       "      <td>408.0</td>\n",
       "      <td>52.0</td>\n",
       "      <td>14055.93</td>\n",
       "      <td>ultra</td>\n",
       "      <td>Краснодар</td>\n",
       "      <td>1000</td>\n",
       "      <td>30720</td>\n",
       "      <td>3000</td>\n",
       "      <td>1950</td>\n",
       "      <td>150</td>\n",
       "      <td>1</td>\n",
       "      <td>1</td>\n",
       "    </tr>\n",
       "    <tr>\n",
       "      <td>4</td>\n",
       "      <td>1000</td>\n",
       "      <td>9</td>\n",
       "      <td>57.0</td>\n",
       "      <td>466.0</td>\n",
       "      <td>58.0</td>\n",
       "      <td>14568.91</td>\n",
       "      <td>ultra</td>\n",
       "      <td>Краснодар</td>\n",
       "      <td>1000</td>\n",
       "      <td>30720</td>\n",
       "      <td>3000</td>\n",
       "      <td>1950</td>\n",
       "      <td>150</td>\n",
       "      <td>1</td>\n",
       "      <td>1</td>\n",
       "    </tr>\n",
       "    <tr>\n",
       "      <td>...</td>\n",
       "      <td>...</td>\n",
       "      <td>...</td>\n",
       "      <td>...</td>\n",
       "      <td>...</td>\n",
       "      <td>...</td>\n",
       "      <td>...</td>\n",
       "      <td>...</td>\n",
       "      <td>...</td>\n",
       "      <td>...</td>\n",
       "      <td>...</td>\n",
       "      <td>...</td>\n",
       "      <td>...</td>\n",
       "      <td>...</td>\n",
       "      <td>...</td>\n",
       "      <td>...</td>\n",
       "    </tr>\n",
       "    <tr>\n",
       "      <td>3209</td>\n",
       "      <td>1494</td>\n",
       "      <td>8</td>\n",
       "      <td>0.0</td>\n",
       "      <td>262.0</td>\n",
       "      <td>32.0</td>\n",
       "      <td>6590.75</td>\n",
       "      <td>smart</td>\n",
       "      <td>Омск</td>\n",
       "      <td>50</td>\n",
       "      <td>15360</td>\n",
       "      <td>500</td>\n",
       "      <td>550</td>\n",
       "      <td>200</td>\n",
       "      <td>3</td>\n",
       "      <td>3</td>\n",
       "    </tr>\n",
       "    <tr>\n",
       "      <td>3210</td>\n",
       "      <td>1494</td>\n",
       "      <td>9</td>\n",
       "      <td>0.0</td>\n",
       "      <td>501.0</td>\n",
       "      <td>66.0</td>\n",
       "      <td>16962.51</td>\n",
       "      <td>smart</td>\n",
       "      <td>Омск</td>\n",
       "      <td>50</td>\n",
       "      <td>15360</td>\n",
       "      <td>500</td>\n",
       "      <td>550</td>\n",
       "      <td>200</td>\n",
       "      <td>3</td>\n",
       "      <td>3</td>\n",
       "    </tr>\n",
       "    <tr>\n",
       "      <td>3211</td>\n",
       "      <td>1494</td>\n",
       "      <td>10</td>\n",
       "      <td>0.0</td>\n",
       "      <td>354.0</td>\n",
       "      <td>52.0</td>\n",
       "      <td>17767.24</td>\n",
       "      <td>smart</td>\n",
       "      <td>Омск</td>\n",
       "      <td>50</td>\n",
       "      <td>15360</td>\n",
       "      <td>500</td>\n",
       "      <td>550</td>\n",
       "      <td>200</td>\n",
       "      <td>3</td>\n",
       "      <td>3</td>\n",
       "    </tr>\n",
       "    <tr>\n",
       "      <td>3212</td>\n",
       "      <td>1494</td>\n",
       "      <td>11</td>\n",
       "      <td>0.0</td>\n",
       "      <td>411.0</td>\n",
       "      <td>63.0</td>\n",
       "      <td>18052.45</td>\n",
       "      <td>smart</td>\n",
       "      <td>Омск</td>\n",
       "      <td>50</td>\n",
       "      <td>15360</td>\n",
       "      <td>500</td>\n",
       "      <td>550</td>\n",
       "      <td>200</td>\n",
       "      <td>3</td>\n",
       "      <td>3</td>\n",
       "    </tr>\n",
       "    <tr>\n",
       "      <td>3213</td>\n",
       "      <td>1494</td>\n",
       "      <td>12</td>\n",
       "      <td>0.0</td>\n",
       "      <td>418.0</td>\n",
       "      <td>62.0</td>\n",
       "      <td>17621.21</td>\n",
       "      <td>smart</td>\n",
       "      <td>Омск</td>\n",
       "      <td>50</td>\n",
       "      <td>15360</td>\n",
       "      <td>500</td>\n",
       "      <td>550</td>\n",
       "      <td>200</td>\n",
       "      <td>3</td>\n",
       "      <td>3</td>\n",
       "    </tr>\n",
       "  </tbody>\n",
       "</table>\n",
       "<p>3214 rows × 15 columns</p>\n",
       "</div>"
      ],
      "text/plain": [
       "      user_id  month  messages  minutes  calls   mb_used tariff       city  \\\n",
       "0        1000      5      22.0    159.0   22.0   2253.49  ultra  Краснодар   \n",
       "1        1000      6      60.0    172.0   43.0  23233.77  ultra  Краснодар   \n",
       "2        1000      7      75.0    340.0   47.0  14003.64  ultra  Краснодар   \n",
       "3        1000      8      81.0    408.0   52.0  14055.93  ultra  Краснодар   \n",
       "4        1000      9      57.0    466.0   58.0  14568.91  ultra  Краснодар   \n",
       "...       ...    ...       ...      ...    ...       ...    ...        ...   \n",
       "3209     1494      8       0.0    262.0   32.0   6590.75  smart       Омск   \n",
       "3210     1494      9       0.0    501.0   66.0  16962.51  smart       Омск   \n",
       "3211     1494     10       0.0    354.0   52.0  17767.24  smart       Омск   \n",
       "3212     1494     11       0.0    411.0   63.0  18052.45  smart       Омск   \n",
       "3213     1494     12       0.0    418.0   62.0  17621.21  smart       Омск   \n",
       "\n",
       "      messages_included  mb_per_month_included  minutes_included  \\\n",
       "0                  1000                  30720              3000   \n",
       "1                  1000                  30720              3000   \n",
       "2                  1000                  30720              3000   \n",
       "3                  1000                  30720              3000   \n",
       "4                  1000                  30720              3000   \n",
       "...                 ...                    ...               ...   \n",
       "3209                 50                  15360               500   \n",
       "3210                 50                  15360               500   \n",
       "3211                 50                  15360               500   \n",
       "3212                 50                  15360               500   \n",
       "3213                 50                  15360               500   \n",
       "\n",
       "      rub_monthly_fee  rub_per_gb  rub_per_message  rub_per_minute  \n",
       "0                1950         150                1               1  \n",
       "1                1950         150                1               1  \n",
       "2                1950         150                1               1  \n",
       "3                1950         150                1               1  \n",
       "4                1950         150                1               1  \n",
       "...               ...         ...              ...             ...  \n",
       "3209              550         200                3               3  \n",
       "3210              550         200                3               3  \n",
       "3211              550         200                3               3  \n",
       "3212              550         200                3               3  \n",
       "3213              550         200                3               3  \n",
       "\n",
       "[3214 rows x 15 columns]"
      ]
     },
     "execution_count": 17,
     "metadata": {},
     "output_type": "execute_result"
    }
   ],
   "source": [
    "final_data"
   ]
  },
  {
   "cell_type": "code",
   "execution_count": 18,
   "metadata": {},
   "outputs": [],
   "source": [
    "final_data['minutes_over'] = (final_data['minutes'] - final_data['minutes_included']) \n",
    "final_data.loc[(final_data['minutes_over'] < 0), 'minutes_over'] = 0\n",
    "final_data['messages_over'] = (final_data['messages'] - final_data['messages_included']) \n",
    "final_data.loc[(final_data['messages_over'] < 0), 'messages_over'] = 0\n",
    "final_data['mb_over'] = (final_data['mb_used'] - final_data['mb_per_month_included'])\n",
    "final_data.loc[(final_data['mb_over'] < 0), 'mb_over'] = 0"
   ]
  },
  {
   "cell_type": "code",
   "execution_count": 19,
   "metadata": {},
   "outputs": [],
   "source": [
    "final_data['mb_over'] = final_data['mb_over']/ 1024\n",
    "final_data['mb_over'] = final_data['mb_over'].apply(np.ceil)\n",
    "final_data.rename(columns = {'mb_over' : 'gb_over'}, inplace = True)"
   ]
  },
  {
   "cell_type": "code",
   "execution_count": 20,
   "metadata": {
    "scrolled": true
   },
   "outputs": [
    {
     "data": {
      "text/html": [
       "<div>\n",
       "<style scoped>\n",
       "    .dataframe tbody tr th:only-of-type {\n",
       "        vertical-align: middle;\n",
       "    }\n",
       "\n",
       "    .dataframe tbody tr th {\n",
       "        vertical-align: top;\n",
       "    }\n",
       "\n",
       "    .dataframe thead th {\n",
       "        text-align: right;\n",
       "    }\n",
       "</style>\n",
       "<table border=\"1\" class=\"dataframe\">\n",
       "  <thead>\n",
       "    <tr style=\"text-align: right;\">\n",
       "      <th></th>\n",
       "      <th>user_id</th>\n",
       "      <th>month</th>\n",
       "      <th>messages</th>\n",
       "      <th>minutes</th>\n",
       "      <th>calls</th>\n",
       "      <th>mb_used</th>\n",
       "      <th>tariff</th>\n",
       "      <th>city</th>\n",
       "      <th>messages_included</th>\n",
       "      <th>mb_per_month_included</th>\n",
       "      <th>minutes_included</th>\n",
       "      <th>rub_monthly_fee</th>\n",
       "      <th>rub_per_gb</th>\n",
       "      <th>rub_per_message</th>\n",
       "      <th>rub_per_minute</th>\n",
       "      <th>revenue</th>\n",
       "    </tr>\n",
       "  </thead>\n",
       "  <tbody>\n",
       "    <tr>\n",
       "      <td>0</td>\n",
       "      <td>1000</td>\n",
       "      <td>5</td>\n",
       "      <td>22.0</td>\n",
       "      <td>159.0</td>\n",
       "      <td>22.0</td>\n",
       "      <td>2253.49</td>\n",
       "      <td>ultra</td>\n",
       "      <td>Краснодар</td>\n",
       "      <td>1000</td>\n",
       "      <td>30720</td>\n",
       "      <td>3000</td>\n",
       "      <td>1950</td>\n",
       "      <td>150</td>\n",
       "      <td>1</td>\n",
       "      <td>1</td>\n",
       "      <td>1950.0</td>\n",
       "    </tr>\n",
       "    <tr>\n",
       "      <td>1</td>\n",
       "      <td>1000</td>\n",
       "      <td>6</td>\n",
       "      <td>60.0</td>\n",
       "      <td>172.0</td>\n",
       "      <td>43.0</td>\n",
       "      <td>23233.77</td>\n",
       "      <td>ultra</td>\n",
       "      <td>Краснодар</td>\n",
       "      <td>1000</td>\n",
       "      <td>30720</td>\n",
       "      <td>3000</td>\n",
       "      <td>1950</td>\n",
       "      <td>150</td>\n",
       "      <td>1</td>\n",
       "      <td>1</td>\n",
       "      <td>1950.0</td>\n",
       "    </tr>\n",
       "    <tr>\n",
       "      <td>2</td>\n",
       "      <td>1000</td>\n",
       "      <td>7</td>\n",
       "      <td>75.0</td>\n",
       "      <td>340.0</td>\n",
       "      <td>47.0</td>\n",
       "      <td>14003.64</td>\n",
       "      <td>ultra</td>\n",
       "      <td>Краснодар</td>\n",
       "      <td>1000</td>\n",
       "      <td>30720</td>\n",
       "      <td>3000</td>\n",
       "      <td>1950</td>\n",
       "      <td>150</td>\n",
       "      <td>1</td>\n",
       "      <td>1</td>\n",
       "      <td>1950.0</td>\n",
       "    </tr>\n",
       "    <tr>\n",
       "      <td>3</td>\n",
       "      <td>1000</td>\n",
       "      <td>8</td>\n",
       "      <td>81.0</td>\n",
       "      <td>408.0</td>\n",
       "      <td>52.0</td>\n",
       "      <td>14055.93</td>\n",
       "      <td>ultra</td>\n",
       "      <td>Краснодар</td>\n",
       "      <td>1000</td>\n",
       "      <td>30720</td>\n",
       "      <td>3000</td>\n",
       "      <td>1950</td>\n",
       "      <td>150</td>\n",
       "      <td>1</td>\n",
       "      <td>1</td>\n",
       "      <td>1950.0</td>\n",
       "    </tr>\n",
       "    <tr>\n",
       "      <td>4</td>\n",
       "      <td>1000</td>\n",
       "      <td>9</td>\n",
       "      <td>57.0</td>\n",
       "      <td>466.0</td>\n",
       "      <td>58.0</td>\n",
       "      <td>14568.91</td>\n",
       "      <td>ultra</td>\n",
       "      <td>Краснодар</td>\n",
       "      <td>1000</td>\n",
       "      <td>30720</td>\n",
       "      <td>3000</td>\n",
       "      <td>1950</td>\n",
       "      <td>150</td>\n",
       "      <td>1</td>\n",
       "      <td>1</td>\n",
       "      <td>1950.0</td>\n",
       "    </tr>\n",
       "    <tr>\n",
       "      <td>...</td>\n",
       "      <td>...</td>\n",
       "      <td>...</td>\n",
       "      <td>...</td>\n",
       "      <td>...</td>\n",
       "      <td>...</td>\n",
       "      <td>...</td>\n",
       "      <td>...</td>\n",
       "      <td>...</td>\n",
       "      <td>...</td>\n",
       "      <td>...</td>\n",
       "      <td>...</td>\n",
       "      <td>...</td>\n",
       "      <td>...</td>\n",
       "      <td>...</td>\n",
       "      <td>...</td>\n",
       "      <td>...</td>\n",
       "    </tr>\n",
       "    <tr>\n",
       "      <td>3209</td>\n",
       "      <td>1494</td>\n",
       "      <td>8</td>\n",
       "      <td>0.0</td>\n",
       "      <td>262.0</td>\n",
       "      <td>32.0</td>\n",
       "      <td>6590.75</td>\n",
       "      <td>smart</td>\n",
       "      <td>Омск</td>\n",
       "      <td>50</td>\n",
       "      <td>15360</td>\n",
       "      <td>500</td>\n",
       "      <td>550</td>\n",
       "      <td>200</td>\n",
       "      <td>3</td>\n",
       "      <td>3</td>\n",
       "      <td>550.0</td>\n",
       "    </tr>\n",
       "    <tr>\n",
       "      <td>3210</td>\n",
       "      <td>1494</td>\n",
       "      <td>9</td>\n",
       "      <td>0.0</td>\n",
       "      <td>501.0</td>\n",
       "      <td>66.0</td>\n",
       "      <td>16962.51</td>\n",
       "      <td>smart</td>\n",
       "      <td>Омск</td>\n",
       "      <td>50</td>\n",
       "      <td>15360</td>\n",
       "      <td>500</td>\n",
       "      <td>550</td>\n",
       "      <td>200</td>\n",
       "      <td>3</td>\n",
       "      <td>3</td>\n",
       "      <td>953.0</td>\n",
       "    </tr>\n",
       "    <tr>\n",
       "      <td>3211</td>\n",
       "      <td>1494</td>\n",
       "      <td>10</td>\n",
       "      <td>0.0</td>\n",
       "      <td>354.0</td>\n",
       "      <td>52.0</td>\n",
       "      <td>17767.24</td>\n",
       "      <td>smart</td>\n",
       "      <td>Омск</td>\n",
       "      <td>50</td>\n",
       "      <td>15360</td>\n",
       "      <td>500</td>\n",
       "      <td>550</td>\n",
       "      <td>200</td>\n",
       "      <td>3</td>\n",
       "      <td>3</td>\n",
       "      <td>1150.0</td>\n",
       "    </tr>\n",
       "    <tr>\n",
       "      <td>3212</td>\n",
       "      <td>1494</td>\n",
       "      <td>11</td>\n",
       "      <td>0.0</td>\n",
       "      <td>411.0</td>\n",
       "      <td>63.0</td>\n",
       "      <td>18052.45</td>\n",
       "      <td>smart</td>\n",
       "      <td>Омск</td>\n",
       "      <td>50</td>\n",
       "      <td>15360</td>\n",
       "      <td>500</td>\n",
       "      <td>550</td>\n",
       "      <td>200</td>\n",
       "      <td>3</td>\n",
       "      <td>3</td>\n",
       "      <td>1150.0</td>\n",
       "    </tr>\n",
       "    <tr>\n",
       "      <td>3213</td>\n",
       "      <td>1494</td>\n",
       "      <td>12</td>\n",
       "      <td>0.0</td>\n",
       "      <td>418.0</td>\n",
       "      <td>62.0</td>\n",
       "      <td>17621.21</td>\n",
       "      <td>smart</td>\n",
       "      <td>Омск</td>\n",
       "      <td>50</td>\n",
       "      <td>15360</td>\n",
       "      <td>500</td>\n",
       "      <td>550</td>\n",
       "      <td>200</td>\n",
       "      <td>3</td>\n",
       "      <td>3</td>\n",
       "      <td>1150.0</td>\n",
       "    </tr>\n",
       "  </tbody>\n",
       "</table>\n",
       "<p>3214 rows × 16 columns</p>\n",
       "</div>"
      ],
      "text/plain": [
       "      user_id  month  messages  minutes  calls   mb_used tariff       city  \\\n",
       "0        1000      5      22.0    159.0   22.0   2253.49  ultra  Краснодар   \n",
       "1        1000      6      60.0    172.0   43.0  23233.77  ultra  Краснодар   \n",
       "2        1000      7      75.0    340.0   47.0  14003.64  ultra  Краснодар   \n",
       "3        1000      8      81.0    408.0   52.0  14055.93  ultra  Краснодар   \n",
       "4        1000      9      57.0    466.0   58.0  14568.91  ultra  Краснодар   \n",
       "...       ...    ...       ...      ...    ...       ...    ...        ...   \n",
       "3209     1494      8       0.0    262.0   32.0   6590.75  smart       Омск   \n",
       "3210     1494      9       0.0    501.0   66.0  16962.51  smart       Омск   \n",
       "3211     1494     10       0.0    354.0   52.0  17767.24  smart       Омск   \n",
       "3212     1494     11       0.0    411.0   63.0  18052.45  smart       Омск   \n",
       "3213     1494     12       0.0    418.0   62.0  17621.21  smart       Омск   \n",
       "\n",
       "      messages_included  mb_per_month_included  minutes_included  \\\n",
       "0                  1000                  30720              3000   \n",
       "1                  1000                  30720              3000   \n",
       "2                  1000                  30720              3000   \n",
       "3                  1000                  30720              3000   \n",
       "4                  1000                  30720              3000   \n",
       "...                 ...                    ...               ...   \n",
       "3209                 50                  15360               500   \n",
       "3210                 50                  15360               500   \n",
       "3211                 50                  15360               500   \n",
       "3212                 50                  15360               500   \n",
       "3213                 50                  15360               500   \n",
       "\n",
       "      rub_monthly_fee  rub_per_gb  rub_per_message  rub_per_minute  revenue  \n",
       "0                1950         150                1               1   1950.0  \n",
       "1                1950         150                1               1   1950.0  \n",
       "2                1950         150                1               1   1950.0  \n",
       "3                1950         150                1               1   1950.0  \n",
       "4                1950         150                1               1   1950.0  \n",
       "...               ...         ...              ...             ...      ...  \n",
       "3209              550         200                3               3    550.0  \n",
       "3210              550         200                3               3    953.0  \n",
       "3211              550         200                3               3   1150.0  \n",
       "3212              550         200                3               3   1150.0  \n",
       "3213              550         200                3               3   1150.0  \n",
       "\n",
       "[3214 rows x 16 columns]"
      ]
     },
     "execution_count": 20,
     "metadata": {},
     "output_type": "execute_result"
    }
   ],
   "source": [
    "final_data['revenue'] = (final_data['minutes_over'] * final_data['rub_per_minute']) + (final_data['messages_over'] *  final_data['rub_per_message']) + (final_data['gb_over']*  final_data['rub_per_gb']) + final_data['rub_monthly_fee']\n",
    "\n",
    "del final_data['minutes_over']\n",
    "del final_data['messages_over']\n",
    "del final_data['gb_over']\n",
    "\n",
    "final_data"
   ]
  },
  {
   "cell_type": "markdown",
   "metadata": {},
   "source": [
    "Как можно увидеть из приведенной информации, наиболее прибылен для нас тариф ultra, так как по нему мы получаем выручку больше(что неудивительно, ведь абонентская плата также больше)."
   ]
  },
  {
   "cell_type": "code",
   "execution_count": 21,
   "metadata": {},
   "outputs": [
    {
     "data": {
      "text/plain": [
       "tariff\n",
       "smart    1289.973531\n",
       "ultra    2070.152284\n",
       "Name: revenue, dtype: float64"
      ]
     },
     "execution_count": 21,
     "metadata": {},
     "output_type": "execute_result"
    }
   ],
   "source": [
    "final_data.groupby('tariff')['revenue'].mean()"
   ]
  },
  {
   "cell_type": "markdown",
   "metadata": {},
   "source": [
    "Как можно увидеть из таблиц, пользователи тарифа \"Смарт\" не выходят, согласно среднему, из лимита сообщений и минут (у них даже остается небольшая часть тарифа), в тв время как трафика им зачастую не хватает. В свою очередь пользователи \"Ультра\" в среднем не расходуют и половины трафика, сообщений и звонков, а если превышают, то не намного, что говорит о некотором неудобстве тарифа."
   ]
  },
  {
   "cell_type": "code",
   "execution_count": 22,
   "metadata": {},
   "outputs": [
    {
     "data": {
      "text/html": [
       "<div>\n",
       "<style scoped>\n",
       "    .dataframe tbody tr th:only-of-type {\n",
       "        vertical-align: middle;\n",
       "    }\n",
       "\n",
       "    .dataframe tbody tr th {\n",
       "        vertical-align: top;\n",
       "    }\n",
       "\n",
       "    .dataframe thead th {\n",
       "        text-align: right;\n",
       "    }\n",
       "</style>\n",
       "<table border=\"1\" class=\"dataframe\">\n",
       "  <thead>\n",
       "    <tr style=\"text-align: right;\">\n",
       "      <th></th>\n",
       "      <th>user_id</th>\n",
       "      <th>month</th>\n",
       "      <th>messages</th>\n",
       "      <th>minutes</th>\n",
       "      <th>calls</th>\n",
       "      <th>mb_used</th>\n",
       "      <th>messages_included</th>\n",
       "      <th>mb_per_month_included</th>\n",
       "      <th>minutes_included</th>\n",
       "      <th>rub_monthly_fee</th>\n",
       "      <th>rub_per_gb</th>\n",
       "      <th>rub_per_message</th>\n",
       "      <th>rub_per_minute</th>\n",
       "      <th>revenue</th>\n",
       "    </tr>\n",
       "  </thead>\n",
       "  <tbody>\n",
       "    <tr>\n",
       "      <td>count</td>\n",
       "      <td>2229.00</td>\n",
       "      <td>2229.00</td>\n",
       "      <td>2229.00</td>\n",
       "      <td>2229.00</td>\n",
       "      <td>2229.00</td>\n",
       "      <td>2229.00</td>\n",
       "      <td>2229.0</td>\n",
       "      <td>2229.0</td>\n",
       "      <td>2229.0</td>\n",
       "      <td>2229.0</td>\n",
       "      <td>2229.0</td>\n",
       "      <td>2229.0</td>\n",
       "      <td>2229.0</td>\n",
       "      <td>2229.00</td>\n",
       "    </tr>\n",
       "    <tr>\n",
       "      <td>mean</td>\n",
       "      <td>1246.51</td>\n",
       "      <td>8.35</td>\n",
       "      <td>33.38</td>\n",
       "      <td>417.93</td>\n",
       "      <td>58.46</td>\n",
       "      <td>16208.39</td>\n",
       "      <td>50.0</td>\n",
       "      <td>15360.0</td>\n",
       "      <td>500.0</td>\n",
       "      <td>550.0</td>\n",
       "      <td>200.0</td>\n",
       "      <td>3.0</td>\n",
       "      <td>3.0</td>\n",
       "      <td>1289.97</td>\n",
       "    </tr>\n",
       "    <tr>\n",
       "      <td>std</td>\n",
       "      <td>146.12</td>\n",
       "      <td>2.92</td>\n",
       "      <td>28.23</td>\n",
       "      <td>190.31</td>\n",
       "      <td>25.94</td>\n",
       "      <td>5870.48</td>\n",
       "      <td>0.0</td>\n",
       "      <td>0.0</td>\n",
       "      <td>0.0</td>\n",
       "      <td>0.0</td>\n",
       "      <td>0.0</td>\n",
       "      <td>0.0</td>\n",
       "      <td>0.0</td>\n",
       "      <td>818.40</td>\n",
       "    </tr>\n",
       "    <tr>\n",
       "      <td>min</td>\n",
       "      <td>1001.00</td>\n",
       "      <td>1.00</td>\n",
       "      <td>0.00</td>\n",
       "      <td>0.00</td>\n",
       "      <td>0.00</td>\n",
       "      <td>0.00</td>\n",
       "      <td>50.0</td>\n",
       "      <td>15360.0</td>\n",
       "      <td>500.0</td>\n",
       "      <td>550.0</td>\n",
       "      <td>200.0</td>\n",
       "      <td>3.0</td>\n",
       "      <td>3.0</td>\n",
       "      <td>550.00</td>\n",
       "    </tr>\n",
       "    <tr>\n",
       "      <td>25%</td>\n",
       "      <td>1121.00</td>\n",
       "      <td>6.00</td>\n",
       "      <td>10.00</td>\n",
       "      <td>282.00</td>\n",
       "      <td>40.00</td>\n",
       "      <td>12643.01</td>\n",
       "      <td>50.0</td>\n",
       "      <td>15360.0</td>\n",
       "      <td>500.0</td>\n",
       "      <td>550.0</td>\n",
       "      <td>200.0</td>\n",
       "      <td>3.0</td>\n",
       "      <td>3.0</td>\n",
       "      <td>550.00</td>\n",
       "    </tr>\n",
       "    <tr>\n",
       "      <td>50%</td>\n",
       "      <td>1239.00</td>\n",
       "      <td>9.00</td>\n",
       "      <td>28.00</td>\n",
       "      <td>422.00</td>\n",
       "      <td>60.00</td>\n",
       "      <td>16506.84</td>\n",
       "      <td>50.0</td>\n",
       "      <td>15360.0</td>\n",
       "      <td>500.0</td>\n",
       "      <td>550.0</td>\n",
       "      <td>200.0</td>\n",
       "      <td>3.0</td>\n",
       "      <td>3.0</td>\n",
       "      <td>1023.00</td>\n",
       "    </tr>\n",
       "    <tr>\n",
       "      <td>75%</td>\n",
       "      <td>1376.00</td>\n",
       "      <td>11.00</td>\n",
       "      <td>51.00</td>\n",
       "      <td>545.00</td>\n",
       "      <td>76.00</td>\n",
       "      <td>20042.93</td>\n",
       "      <td>50.0</td>\n",
       "      <td>15360.0</td>\n",
       "      <td>500.0</td>\n",
       "      <td>550.0</td>\n",
       "      <td>200.0</td>\n",
       "      <td>3.0</td>\n",
       "      <td>3.0</td>\n",
       "      <td>1750.00</td>\n",
       "    </tr>\n",
       "    <tr>\n",
       "      <td>max</td>\n",
       "      <td>1499.00</td>\n",
       "      <td>12.00</td>\n",
       "      <td>143.00</td>\n",
       "      <td>1435.00</td>\n",
       "      <td>198.00</td>\n",
       "      <td>38552.45</td>\n",
       "      <td>50.0</td>\n",
       "      <td>15360.0</td>\n",
       "      <td>500.0</td>\n",
       "      <td>550.0</td>\n",
       "      <td>200.0</td>\n",
       "      <td>3.0</td>\n",
       "      <td>3.0</td>\n",
       "      <td>6770.00</td>\n",
       "    </tr>\n",
       "  </tbody>\n",
       "</table>\n",
       "</div>"
      ],
      "text/plain": [
       "       user_id    month  messages  minutes    calls   mb_used  \\\n",
       "count  2229.00  2229.00   2229.00  2229.00  2229.00   2229.00   \n",
       "mean   1246.51     8.35     33.38   417.93    58.46  16208.39   \n",
       "std     146.12     2.92     28.23   190.31    25.94   5870.48   \n",
       "min    1001.00     1.00      0.00     0.00     0.00      0.00   \n",
       "25%    1121.00     6.00     10.00   282.00    40.00  12643.01   \n",
       "50%    1239.00     9.00     28.00   422.00    60.00  16506.84   \n",
       "75%    1376.00    11.00     51.00   545.00    76.00  20042.93   \n",
       "max    1499.00    12.00    143.00  1435.00   198.00  38552.45   \n",
       "\n",
       "       messages_included  mb_per_month_included  minutes_included  \\\n",
       "count             2229.0                 2229.0            2229.0   \n",
       "mean                50.0                15360.0             500.0   \n",
       "std                  0.0                    0.0               0.0   \n",
       "min                 50.0                15360.0             500.0   \n",
       "25%                 50.0                15360.0             500.0   \n",
       "50%                 50.0                15360.0             500.0   \n",
       "75%                 50.0                15360.0             500.0   \n",
       "max                 50.0                15360.0             500.0   \n",
       "\n",
       "       rub_monthly_fee  rub_per_gb  rub_per_message  rub_per_minute  revenue  \n",
       "count           2229.0      2229.0           2229.0          2229.0  2229.00  \n",
       "mean             550.0       200.0              3.0             3.0  1289.97  \n",
       "std                0.0         0.0              0.0             0.0   818.40  \n",
       "min              550.0       200.0              3.0             3.0   550.00  \n",
       "25%              550.0       200.0              3.0             3.0   550.00  \n",
       "50%              550.0       200.0              3.0             3.0  1023.00  \n",
       "75%              550.0       200.0              3.0             3.0  1750.00  \n",
       "max              550.0       200.0              3.0             3.0  6770.00  "
      ]
     },
     "execution_count": 22,
     "metadata": {},
     "output_type": "execute_result"
    }
   ],
   "source": [
    "final_data.query('tariff==\"smart\"').describe().round(2)"
   ]
  },
  {
   "cell_type": "code",
   "execution_count": 23,
   "metadata": {},
   "outputs": [
    {
     "data": {
      "text/html": [
       "<div>\n",
       "<style scoped>\n",
       "    .dataframe tbody tr th:only-of-type {\n",
       "        vertical-align: middle;\n",
       "    }\n",
       "\n",
       "    .dataframe tbody tr th {\n",
       "        vertical-align: top;\n",
       "    }\n",
       "\n",
       "    .dataframe thead th {\n",
       "        text-align: right;\n",
       "    }\n",
       "</style>\n",
       "<table border=\"1\" class=\"dataframe\">\n",
       "  <thead>\n",
       "    <tr style=\"text-align: right;\">\n",
       "      <th></th>\n",
       "      <th>user_id</th>\n",
       "      <th>month</th>\n",
       "      <th>messages</th>\n",
       "      <th>minutes</th>\n",
       "      <th>calls</th>\n",
       "      <th>mb_used</th>\n",
       "      <th>messages_included</th>\n",
       "      <th>mb_per_month_included</th>\n",
       "      <th>minutes_included</th>\n",
       "      <th>rub_monthly_fee</th>\n",
       "      <th>rub_per_gb</th>\n",
       "      <th>rub_per_message</th>\n",
       "      <th>rub_per_minute</th>\n",
       "      <th>revenue</th>\n",
       "    </tr>\n",
       "  </thead>\n",
       "  <tbody>\n",
       "    <tr>\n",
       "      <td>count</td>\n",
       "      <td>985.00</td>\n",
       "      <td>985.00</td>\n",
       "      <td>985.00</td>\n",
       "      <td>985.00</td>\n",
       "      <td>985.00</td>\n",
       "      <td>985.00</td>\n",
       "      <td>985.0</td>\n",
       "      <td>985.0</td>\n",
       "      <td>985.0</td>\n",
       "      <td>985.0</td>\n",
       "      <td>985.0</td>\n",
       "      <td>985.0</td>\n",
       "      <td>985.0</td>\n",
       "      <td>985.00</td>\n",
       "    </tr>\n",
       "    <tr>\n",
       "      <td>mean</td>\n",
       "      <td>1263.09</td>\n",
       "      <td>8.25</td>\n",
       "      <td>49.36</td>\n",
       "      <td>526.62</td>\n",
       "      <td>73.39</td>\n",
       "      <td>19468.81</td>\n",
       "      <td>1000.0</td>\n",
       "      <td>30720.0</td>\n",
       "      <td>3000.0</td>\n",
       "      <td>1950.0</td>\n",
       "      <td>150.0</td>\n",
       "      <td>1.0</td>\n",
       "      <td>1.0</td>\n",
       "      <td>2070.15</td>\n",
       "    </tr>\n",
       "    <tr>\n",
       "      <td>std</td>\n",
       "      <td>140.69</td>\n",
       "      <td>2.87</td>\n",
       "      <td>47.80</td>\n",
       "      <td>317.61</td>\n",
       "      <td>43.92</td>\n",
       "      <td>10087.17</td>\n",
       "      <td>0.0</td>\n",
       "      <td>0.0</td>\n",
       "      <td>0.0</td>\n",
       "      <td>0.0</td>\n",
       "      <td>0.0</td>\n",
       "      <td>0.0</td>\n",
       "      <td>0.0</td>\n",
       "      <td>376.19</td>\n",
       "    </tr>\n",
       "    <tr>\n",
       "      <td>min</td>\n",
       "      <td>1000.00</td>\n",
       "      <td>1.00</td>\n",
       "      <td>0.00</td>\n",
       "      <td>0.00</td>\n",
       "      <td>0.00</td>\n",
       "      <td>0.00</td>\n",
       "      <td>1000.0</td>\n",
       "      <td>30720.0</td>\n",
       "      <td>3000.0</td>\n",
       "      <td>1950.0</td>\n",
       "      <td>150.0</td>\n",
       "      <td>1.0</td>\n",
       "      <td>1.0</td>\n",
       "      <td>1950.00</td>\n",
       "    </tr>\n",
       "    <tr>\n",
       "      <td>25%</td>\n",
       "      <td>1143.00</td>\n",
       "      <td>6.00</td>\n",
       "      <td>6.00</td>\n",
       "      <td>284.00</td>\n",
       "      <td>41.00</td>\n",
       "      <td>11770.26</td>\n",
       "      <td>1000.0</td>\n",
       "      <td>30720.0</td>\n",
       "      <td>3000.0</td>\n",
       "      <td>1950.0</td>\n",
       "      <td>150.0</td>\n",
       "      <td>1.0</td>\n",
       "      <td>1.0</td>\n",
       "      <td>1950.00</td>\n",
       "    </tr>\n",
       "    <tr>\n",
       "      <td>50%</td>\n",
       "      <td>1277.00</td>\n",
       "      <td>9.00</td>\n",
       "      <td>38.00</td>\n",
       "      <td>518.00</td>\n",
       "      <td>74.00</td>\n",
       "      <td>19308.01</td>\n",
       "      <td>1000.0</td>\n",
       "      <td>30720.0</td>\n",
       "      <td>3000.0</td>\n",
       "      <td>1950.0</td>\n",
       "      <td>150.0</td>\n",
       "      <td>1.0</td>\n",
       "      <td>1.0</td>\n",
       "      <td>1950.00</td>\n",
       "    </tr>\n",
       "    <tr>\n",
       "      <td>75%</td>\n",
       "      <td>1381.00</td>\n",
       "      <td>11.00</td>\n",
       "      <td>79.00</td>\n",
       "      <td>752.00</td>\n",
       "      <td>104.00</td>\n",
       "      <td>26837.69</td>\n",
       "      <td>1000.0</td>\n",
       "      <td>30720.0</td>\n",
       "      <td>3000.0</td>\n",
       "      <td>1950.0</td>\n",
       "      <td>150.0</td>\n",
       "      <td>1.0</td>\n",
       "      <td>1.0</td>\n",
       "      <td>1950.00</td>\n",
       "    </tr>\n",
       "    <tr>\n",
       "      <td>max</td>\n",
       "      <td>1495.00</td>\n",
       "      <td>12.00</td>\n",
       "      <td>224.00</td>\n",
       "      <td>1673.00</td>\n",
       "      <td>244.00</td>\n",
       "      <td>49745.69</td>\n",
       "      <td>1000.0</td>\n",
       "      <td>30720.0</td>\n",
       "      <td>3000.0</td>\n",
       "      <td>1950.0</td>\n",
       "      <td>150.0</td>\n",
       "      <td>1.0</td>\n",
       "      <td>1.0</td>\n",
       "      <td>4800.00</td>\n",
       "    </tr>\n",
       "  </tbody>\n",
       "</table>\n",
       "</div>"
      ],
      "text/plain": [
       "       user_id   month  messages  minutes   calls   mb_used  \\\n",
       "count   985.00  985.00    985.00   985.00  985.00    985.00   \n",
       "mean   1263.09    8.25     49.36   526.62   73.39  19468.81   \n",
       "std     140.69    2.87     47.80   317.61   43.92  10087.17   \n",
       "min    1000.00    1.00      0.00     0.00    0.00      0.00   \n",
       "25%    1143.00    6.00      6.00   284.00   41.00  11770.26   \n",
       "50%    1277.00    9.00     38.00   518.00   74.00  19308.01   \n",
       "75%    1381.00   11.00     79.00   752.00  104.00  26837.69   \n",
       "max    1495.00   12.00    224.00  1673.00  244.00  49745.69   \n",
       "\n",
       "       messages_included  mb_per_month_included  minutes_included  \\\n",
       "count              985.0                  985.0             985.0   \n",
       "mean              1000.0                30720.0            3000.0   \n",
       "std                  0.0                    0.0               0.0   \n",
       "min               1000.0                30720.0            3000.0   \n",
       "25%               1000.0                30720.0            3000.0   \n",
       "50%               1000.0                30720.0            3000.0   \n",
       "75%               1000.0                30720.0            3000.0   \n",
       "max               1000.0                30720.0            3000.0   \n",
       "\n",
       "       rub_monthly_fee  rub_per_gb  rub_per_message  rub_per_minute  revenue  \n",
       "count            985.0       985.0            985.0           985.0   985.00  \n",
       "mean            1950.0       150.0              1.0             1.0  2070.15  \n",
       "std                0.0         0.0              0.0             0.0   376.19  \n",
       "min             1950.0       150.0              1.0             1.0  1950.00  \n",
       "25%             1950.0       150.0              1.0             1.0  1950.00  \n",
       "50%             1950.0       150.0              1.0             1.0  1950.00  \n",
       "75%             1950.0       150.0              1.0             1.0  1950.00  \n",
       "max             1950.0       150.0              1.0             1.0  4800.00  "
      ]
     },
     "execution_count": 23,
     "metadata": {},
     "output_type": "execute_result"
    }
   ],
   "source": [
    "final_data.query('tariff==\"ultra\"').describe().round(2)"
   ]
  },
  {
   "cell_type": "markdown",
   "metadata": {},
   "source": [
    "Как можно увидеть из графиков, по объему использованных минут, сообщений и тарифка лидируют пользователи \"Смарт\", их активность растет от месяца к месяцу (возможно, неиспользованные остатки переносятся на следующий месяц) и к концу года достигают мксимума. Рост в использовании тарифных \"благ\" пльзователей \"Ультра\" тоже имеет место, хотя, безусловно, он гораздо менее стремителен."
   ]
  },
  {
   "cell_type": "code",
   "execution_count": 24,
   "metadata": {},
   "outputs": [],
   "source": [
    "tariff_ultra= final_data.query('tariff==\"ultra\"').pivot_table(index=['month'],values=['minutes','messages','mb_used'], aggfunc=['sum'])\n",
    "tariff_smart= final_data.query('tariff==\"smart\"').pivot_table(index=['month'],values=['minutes','messages','mb_used'], aggfunc=['sum'])\n",
    "tariff_ultra.columns = ['minutes','messages','mb_used']\n",
    "tariff_smart.columns = ['minutes','messages','mb_used']"
   ]
  },
  {
   "cell_type": "code",
   "execution_count": 25,
   "metadata": {},
   "outputs": [
    {
     "data": {
      "text/plain": [
       "Text(0.5, 0, 'месяц')"
      ]
     },
     "execution_count": 25,
     "metadata": {},
     "output_type": "execute_result"
    },
    {
     "data": {
      "image/png": "[encoded data removed]",
      "text/plain": [
       "<Figure size 936x432 with 1 Axes>"
      ]
     },
     "metadata": {
      "needs_background": "light"
     },
     "output_type": "display_data"
    }
   ],
   "source": [
    "ax = tariff_ultra.plot(y='mb_used',figsize=(13,6), color = 'g',kind='bar',label='ultra')\n",
    "tariff_smart.plot(y='mb_used',figsize=(13,6), kind='bar',label ='smart', color='lime',alpha=0.6, ax=ax)\n",
    "ax.set_title(\"График количества потраченного трафика пользователей тарифов 'Смарт' и 'Ультра' по месяцам\")\n",
    "ax.set_ylabel('размер трафика')\n",
    "ax.set_xlabel('месяц')"
   ]
  },
  {
   "cell_type": "code",
   "execution_count": 26,
   "metadata": {},
   "outputs": [
    {
     "data": {
      "text/plain": [
       "Text(0.5, 0, 'месяц')"
      ]
     },
     "execution_count": 26,
     "metadata": {},
     "output_type": "execute_result"
    },
    {
     "data": {
      "image/png": "[encoded data removed]",
      "text/plain": [
       "<Figure size 936x432 with 1 Axes>"
      ]
     },
     "metadata": {
      "needs_background": "light"
     },
     "output_type": "display_data"
    }
   ],
   "source": [
    "ax = tariff_ultra.plot(y='messages',figsize=(13,6), color = 'g',kind='bar',label='ultra')\n",
    "tariff_smart.plot(y='messages',figsize=(13,6), kind='bar',label ='smart', color='lime',alpha=0.6, ax=ax)\n",
    "ax.set_title(\"График количества сообщений пользователей тарифов 'Смарт' и 'Ультра' по месяцам\")\n",
    "ax.set_ylabel('кол-во отпрвленных сообщений')\n",
    "ax.set_xlabel('месяц')"
   ]
  },
  {
   "cell_type": "markdown",
   "metadata": {},
   "source": [
    "Для пользователей тарифа смарт также более активны в использовании минут."
   ]
  },
  {
   "cell_type": "code",
   "execution_count": 27,
   "metadata": {},
   "outputs": [
    {
     "data": {
      "text/plain": [
       "Text(0.5, 0, 'месяц')"
      ]
     },
     "execution_count": 27,
     "metadata": {},
     "output_type": "execute_result"
    },
    {
     "data": {
      "image/png": "[encoded data removed]",
      "text/plain": [
       "<Figure size 936x432 with 1 Axes>"
      ]
     },
     "metadata": {
      "needs_background": "light"
     },
     "output_type": "display_data"
    }
   ],
   "source": [
    "ax = tariff_ultra.plot(y='minutes',figsize=(13,6), color = 'g',kind='bar',label='ultra')\n",
    "tariff_smart.plot(y='minutes',figsize=(13,6), kind='bar',label ='smart', color='lime',alpha=0.6, ax=ax)\n",
    "ax.set_title(\"График затраченных минут пользователей тарифов 'Смарт' и 'Ультра' по месяцам\")\n",
    "ax.set_ylabel('кол-во минут')\n",
    "ax.set_xlabel('месяц')"
   ]
  },
  {
   "cell_type": "code",
   "execution_count": 28,
   "metadata": {},
   "outputs": [
    {
     "data": {
      "text/html": [
       "<div>\n",
       "<style scoped>\n",
       "    .dataframe tbody tr th:only-of-type {\n",
       "        vertical-align: middle;\n",
       "    }\n",
       "\n",
       "    .dataframe tbody tr th {\n",
       "        vertical-align: top;\n",
       "    }\n",
       "\n",
       "    .dataframe thead tr th {\n",
       "        text-align: left;\n",
       "    }\n",
       "\n",
       "    .dataframe thead tr:last-of-type th {\n",
       "        text-align: right;\n",
       "    }\n",
       "</style>\n",
       "<table border=\"1\" class=\"dataframe\">\n",
       "  <thead>\n",
       "    <tr>\n",
       "      <th></th>\n",
       "      <th colspan=\"3\" halign=\"left\">mean</th>\n",
       "      <th colspan=\"3\" halign=\"left\">median</th>\n",
       "      <th colspan=\"3\" halign=\"left\">var</th>\n",
       "      <th colspan=\"3\" halign=\"left\">std</th>\n",
       "    </tr>\n",
       "    <tr>\n",
       "      <th></th>\n",
       "      <th>mb_used</th>\n",
       "      <th>messages</th>\n",
       "      <th>minutes</th>\n",
       "      <th>mb_used</th>\n",
       "      <th>messages</th>\n",
       "      <th>minutes</th>\n",
       "      <th>mb_used</th>\n",
       "      <th>messages</th>\n",
       "      <th>minutes</th>\n",
       "      <th>mb_used</th>\n",
       "      <th>messages</th>\n",
       "      <th>minutes</th>\n",
       "    </tr>\n",
       "    <tr>\n",
       "      <th>tariff</th>\n",
       "      <th></th>\n",
       "      <th></th>\n",
       "      <th></th>\n",
       "      <th></th>\n",
       "      <th></th>\n",
       "      <th></th>\n",
       "      <th></th>\n",
       "      <th></th>\n",
       "      <th></th>\n",
       "      <th></th>\n",
       "      <th></th>\n",
       "      <th></th>\n",
       "    </tr>\n",
       "  </thead>\n",
       "  <tbody>\n",
       "    <tr>\n",
       "      <td>smart</td>\n",
       "      <td>16208.386990</td>\n",
       "      <td>33.384029</td>\n",
       "      <td>417.934948</td>\n",
       "      <td>16506.84</td>\n",
       "      <td>28.0</td>\n",
       "      <td>422.0</td>\n",
       "      <td>3.446250e+07</td>\n",
       "      <td>796.812958</td>\n",
       "      <td>36219.315784</td>\n",
       "      <td>5870.476681</td>\n",
       "      <td>28.227876</td>\n",
       "      <td>190.313730</td>\n",
       "    </tr>\n",
       "    <tr>\n",
       "      <td>ultra</td>\n",
       "      <td>19468.805208</td>\n",
       "      <td>49.363452</td>\n",
       "      <td>526.623350</td>\n",
       "      <td>19308.01</td>\n",
       "      <td>38.0</td>\n",
       "      <td>518.0</td>\n",
       "      <td>1.017510e+08</td>\n",
       "      <td>2285.266143</td>\n",
       "      <td>100873.633397</td>\n",
       "      <td>10087.170752</td>\n",
       "      <td>47.804457</td>\n",
       "      <td>317.606098</td>\n",
       "    </tr>\n",
       "  </tbody>\n",
       "</table>\n",
       "</div>"
      ],
      "text/plain": [
       "                mean                           median                   \\\n",
       "             mb_used   messages     minutes   mb_used messages minutes   \n",
       "tariff                                                                   \n",
       "smart   16208.386990  33.384029  417.934948  16506.84     28.0   422.0   \n",
       "ultra   19468.805208  49.363452  526.623350  19308.01     38.0   518.0   \n",
       "\n",
       "                 var                                       std             \\\n",
       "             mb_used     messages        minutes       mb_used   messages   \n",
       "tariff                                                                      \n",
       "smart   3.446250e+07   796.812958   36219.315784   5870.476681  28.227876   \n",
       "ultra   1.017510e+08  2285.266143  100873.633397  10087.170752  47.804457   \n",
       "\n",
       "                    \n",
       "           minutes  \n",
       "tariff              \n",
       "smart   190.313730  \n",
       "ultra   317.606098  "
      ]
     },
     "execution_count": 28,
     "metadata": {},
     "output_type": "execute_result"
    }
   ],
   "source": [
    "data_statistics = final_data.pivot_table(index=['tariff'],values=['minutes', 'messages', 'mb_used'], aggfunc=['mean','median', 'var', 'std'])\n",
    "data_statistics"
   ]
  },
  {
   "cell_type": "markdown",
   "metadata": {},
   "source": [
    "Построим гистограммы распределения для каждого параметра тарифа."
   ]
  },
  {
   "cell_type": "code",
   "execution_count": 29,
   "metadata": {},
   "outputs": [],
   "source": [
    "ultra_tariff = final_data.query('tariff==\"ultra\"')\n",
    "smart_tariff = final_data.query('tariff==\"smart\"')"
   ]
  },
  {
   "cell_type": "code",
   "execution_count": 30,
   "metadata": {},
   "outputs": [
    {
     "data": {
      "text/plain": [
       "Text(0.5, 1.0, \"График распределения затраченных минут пользователей 'Ультра'\")"
      ]
     },
     "execution_count": 30,
     "metadata": {},
     "output_type": "execute_result"
    },
    {
     "data": {
      "image/png": "[encoded data removed]",
      "text/plain": [
       "<Figure size 432x288 with 1 Axes>"
      ]
     },
     "metadata": {
      "needs_background": "light"
     },
     "output_type": "display_data"
    }
   ],
   "source": [
    "sns.distplot(ultra_tariff['minutes'],bins=30).set_title(\"График распределения затраченных минут пользователей 'Ультра'\")"
   ]
  },
  {
   "cell_type": "code",
   "execution_count": 31,
   "metadata": {},
   "outputs": [
    {
     "data": {
      "text/plain": [
       "Text(0.5, 1.0, \"График распределения затраченных минут пользователей 'Смарт'\")"
      ]
     },
     "execution_count": 31,
     "metadata": {},
     "output_type": "execute_result"
    },
    {
     "data": {
      "image/png": "[encoded data removed]",
      "text/plain": [
       "<Figure size 432x288 with 1 Axes>"
      ]
     },
     "metadata": {
      "needs_background": "light"
     },
     "output_type": "display_data"
    }
   ],
   "source": [
    "sns.distplot(smart_tariff['minutes'],bins=30).set_title(\"График распределения затраченных минут пользователей 'Смарт'\")"
   ]
  },
  {
   "cell_type": "markdown",
   "metadata": {},
   "source": [
    "На приведенных гистограммах можно заметить, что пользователи обоих тарифов крайне редк отправляют сообщения."
   ]
  },
  {
   "cell_type": "code",
   "execution_count": 32,
   "metadata": {},
   "outputs": [
    {
     "data": {
      "text/plain": [
       "Text(0.5, 1.0, \"График распределения сообщений пользователей 'Ультра'\")"
      ]
     },
     "execution_count": 32,
     "metadata": {},
     "output_type": "execute_result"
    },
    {
     "data": {
      "image/png": "[encoded data removed]",
      "text/plain": [
       "<Figure size 432x288 with 1 Axes>"
      ]
     },
     "metadata": {
      "needs_background": "light"
     },
     "output_type": "display_data"
    }
   ],
   "source": [
    "sns.distplot(ultra_tariff['messages'],bins=30).set_title(\"График распределения сообщений пользователей 'Ультра'\")"
   ]
  },
  {
   "cell_type": "code",
   "execution_count": 33,
   "metadata": {},
   "outputs": [
    {
     "data": {
      "text/plain": [
       "Text(0.5, 1.0, \"График распределения сообщений пользователей 'Смарт'\")"
      ]
     },
     "execution_count": 33,
     "metadata": {},
     "output_type": "execute_result"
    },
    {
     "data": {
      "image/png": "[encoded data removed]",
      "text/plain": [
       "<Figure size 432x288 with 1 Axes>"
      ]
     },
     "metadata": {
      "needs_background": "light"
     },
     "output_type": "display_data"
    }
   ],
   "source": [
    "sns.distplot(smart_tariff['messages'],bins=30).set_title(\"График распределения сообщений пользователей 'Смарт'\")"
   ]
  },
  {
   "cell_type": "code",
   "execution_count": 34,
   "metadata": {},
   "outputs": [
    {
     "data": {
      "text/plain": [
       "Text(0.5, 1.0, \"График распределения трафика пользователей 'Ультра'\")"
      ]
     },
     "execution_count": 34,
     "metadata": {},
     "output_type": "execute_result"
    },
    {
     "data": {
      "image/png": "[encoded data removed]",
      "text/plain": [
       "<Figure size 432x288 with 1 Axes>"
      ]
     },
     "metadata": {
      "needs_background": "light"
     },
     "output_type": "display_data"
    }
   ],
   "source": [
    "sns.distplot(ultra_tariff['mb_used'],bins=30).set_title(\"График распределения трафика пользователей 'Ультра'\")"
   ]
  },
  {
   "cell_type": "code",
   "execution_count": 35,
   "metadata": {},
   "outputs": [
    {
     "data": {
      "text/plain": [
       "Text(0.5, 1.0, \"График распределения трафика пользователей 'Смарт'\")"
      ]
     },
     "execution_count": 35,
     "metadata": {},
     "output_type": "execute_result"
    },
    {
     "data": {
      "image/png": "[encoded data removed]",
      "text/plain": [
       "<Figure size 432x288 with 1 Axes>"
      ]
     },
     "metadata": {
      "needs_background": "light"
     },
     "output_type": "display_data"
    }
   ],
   "source": [
    "sns.distplot(smart_tariff['mb_used'],bins=30).set_title(\"График распределения трафика пользователей 'Смарт'\")"
   ]
  },
  {
   "cell_type": "markdown",
   "metadata": {},
   "source": [
    "Также можно заметить, что пользователи тарифа \"Ультра\" не тратят весь базовый пакет минут и количества сообщения, в отличие от пользователей \"Смарт\", о чем уже говорилось ранее."
   ]
  },
  {
   "cell_type": "markdown",
   "metadata": {},
   "source": [
    "## Проверка статистических гипотез"
   ]
  },
  {
   "cell_type": "markdown",
   "metadata": {},
   "source": [
    "Заключительным этапом работы будет проверка двух статистических гипотез с помощью метода scipy.stats.ttest_ind(), позволяющем проверить гипотезу о равенстве среднего двух\n",
    "генеральных совокупностей по взятым из них выборкам:\n",
    "\n",
    " 1. средняя выручка пользователей тарифов «Ультра» и «Смарт» различаются;\n",
    " 2. средняя выручка пользователи из Москвы отличается от выручки пользователей из других регионов.\n",
    "Для проверки гипотез установим уровень значимости равным 0.05."
   ]
  },
  {
   "cell_type": "markdown",
   "metadata": {},
   "source": [
    "В первую очередь сформулируем нулевую и альтернативную гипотезу для проверки первого утверждения:\n",
    "1. гипотеза H₀ будет состоять в том, что средняя выручка пользователей тарифов «Ультра» и «Смарт» не различается;\n",
    "2. гипотеза H₁ будет сформулирована так: средняя выручка пользователей тарифов «Ультра» и «Смарт» различается. "
   ]
  },
  {
   "cell_type": "code",
   "execution_count": 36,
   "metadata": {},
   "outputs": [
    {
     "name": "stdout",
     "output_type": "stream",
     "text": [
      "p-значение: 1.4229814360764067e-160\n",
      "Отвергаем нулевую гипотезу\n"
     ]
    }
   ],
   "source": [
    "alpha = 0.05\n",
    "ultra = final_data.loc[final_data.loc[:,'tariff'] == 'ultra']['revenue']\n",
    "smart = final_data.loc[final_data.loc[:, 'tariff'] == 'smart']['revenue']\n",
    "results = st.ttest_ind(ultra, smart)\n",
    "print('p-значение:', results.pvalue)\n",
    "if results.pvalue < alpha:\n",
    "    print(\"Отвергаем нулевую гипотезу\")\n",
    "else:\n",
    "    print(\"Не получилось отвергнуть нулевую гипотезу\")"
   ]
  },
  {
   "cell_type": "markdown",
   "metadata": {},
   "source": [
    "Соответственно, можно сделать вывод о том, что средняя выручка пользователей разных тарифов отличается."
   ]
  },
  {
   "cell_type": "markdown",
   "metadata": {},
   "source": [
    "Cформулируем нулевую и альтернативную гипотезу для проверки следующего утверждения:\n",
    "1. гипотеза H₀ будет состоять в том, что средняя выручка пользователи из Москвы не отличается от выручки пользователей из других регионов;\n",
    "2. гипотеза H₁ будет сформулирована так: средняя выручка пользователи из Москвы отличается от выручки пользователей из других регионов. "
   ]
  },
  {
   "cell_type": "code",
   "execution_count": 37,
   "metadata": {},
   "outputs": [
    {
     "name": "stdout",
     "output_type": "stream",
     "text": [
      "p-значение:0.5257376663729298\n",
      "Не получилось отвергнуть нулевую гипотезу\n"
     ]
    }
   ],
   "source": [
    "revenue_moscow = final_data.loc[final_data.loc[:,'city'] == 'Москва']['revenue']\n",
    "revenue_other = final_data.loc[final_data.loc[:,'city'] != 'Москва']['revenue']\n",
    "results = st.ttest_ind(revenue_moscow, revenue_other, equal_var=False) \n",
    "prob_city = results.pvalue\n",
    "print(\"p-значение:{}\".format(prob_city))\n",
    "if results.pvalue < alpha:\n",
    "    print(\"Отвергаем нулевую гипотезу\")\n",
    "else:\n",
    "    print(\"Не получилось отвергнуть нулевую гипотезу\")"
   ]
  },
  {
   "cell_type": "markdown",
   "metadata": {},
   "source": [
    "Можно сделать вывод о том, что географический фактор не влияет на выручку пользователей."
   ]
  },
  {
   "cell_type": "markdown",
   "metadata": {},
   "source": [
    "# Общий вывод"
   ]
  },
  {
   "cell_type": "markdown",
   "metadata": {},
   "source": [
    "Таким образом, по результатам анализа можно сделать вывод о том, что тариф «Ультра» более выгоден, чем тариф «Смарт»: средняя ежемесячная выручка «Мегалайн» от одного пользователя составляет  2040 руб. и 1234  руб., соответственно.\n",
    "\n",
    "Кроме того, можно сделать следующие выводы:\n",
    "1. пользователи тарифа \"Смарт\" не выходят, согласно среднему, из лимита сообщений и минут (у них даже остается небольшая часть тарифа), в то время как трафика им зачастую не хватает. В свою очередь пользователи \"Ультра\" в среднем не расходуют и половины трафика, сообщений и звонков, а если превышают, то не намного, что говорит о некотором неудобстве тарифа.\n",
    "2. средние доходы от пользователей в Москве не отличаются от доходов в других населенных пунктах: разница статистически незначима (p-значение: 0,7), в то время как средняя выручка пользователей разных тарифов отличается."
   ]
  }
 ],
 "metadata": {
  "ExecuteTimeLog": [
   {
    "duration": 2085,
    "start_time": "2021-08-08T19:22:09.760Z"
   },
   {
    "duration": 2120,
    "start_time": "2021-08-09T18:58:10.037Z"
   },
   {
    "duration": 1977,
    "start_time": "2021-08-10T06:07:48.260Z"
   },
   {
    "duration": 12,
    "start_time": "2021-08-10T06:26:04.699Z"
   },
   {
    "duration": 13,
    "start_time": "2021-08-10T06:45:18.156Z"
   },
   {
    "duration": 13,
    "start_time": "2021-08-10T06:45:34.358Z"
   },
   {
    "duration": 11,
    "start_time": "2021-08-10T06:50:31.047Z"
   },
   {
    "duration": 12,
    "start_time": "2021-08-10T06:51:10.389Z"
   },
   {
    "duration": 15,
    "start_time": "2021-08-10T06:53:48.376Z"
   },
   {
    "duration": 487,
    "start_time": "2021-08-10T07:05:16.946Z"
   },
   {
    "duration": 28,
    "start_time": "2021-08-10T07:06:01.876Z"
   },
   {
    "duration": 94,
    "start_time": "2021-08-10T07:31:21.479Z"
   },
   {
    "duration": 32,
    "start_time": "2021-08-10T07:31:33.139Z"
   },
   {
    "duration": 351,
    "start_time": "2021-08-10T07:33:39.136Z"
   },
   {
    "duration": 468,
    "start_time": "2021-08-10T07:34:35.639Z"
   },
   {
    "duration": 374,
    "start_time": "2021-08-10T07:34:45.239Z"
   },
   {
    "duration": 129,
    "start_time": "2021-08-10T07:34:57.977Z"
   },
   {
    "duration": 31,
    "start_time": "2021-08-10T07:35:02.388Z"
   },
   {
    "duration": 362,
    "start_time": "2021-08-10T14:12:38.437Z"
   },
   {
    "duration": 1788,
    "start_time": "2021-08-10T14:12:48.539Z"
   },
   {
    "duration": 11,
    "start_time": "2021-08-10T14:12:55.117Z"
   },
   {
    "duration": 25,
    "start_time": "2021-08-10T14:12:59.102Z"
   },
   {
    "duration": 7,
    "start_time": "2021-08-10T14:13:04.526Z"
   },
   {
    "duration": 342,
    "start_time": "2021-08-10T17:44:27.646Z"
   },
   {
    "duration": 2123,
    "start_time": "2021-08-10T17:44:35.225Z"
   },
   {
    "duration": 12,
    "start_time": "2021-08-10T17:44:37.351Z"
   },
   {
    "duration": 27,
    "start_time": "2021-08-10T17:44:37.860Z"
   },
   {
    "duration": 107,
    "start_time": "2021-08-10T17:44:41.465Z"
   },
   {
    "duration": 11,
    "start_time": "2021-08-10T17:44:44.347Z"
   },
   {
    "duration": 16,
    "start_time": "2021-08-10T17:49:23.055Z"
   },
   {
    "duration": 20,
    "start_time": "2021-08-10T17:49:42.575Z"
   },
   {
    "duration": 15,
    "start_time": "2021-08-10T17:50:08.313Z"
   },
   {
    "duration": 11,
    "start_time": "2021-08-10T17:50:22.802Z"
   },
   {
    "duration": 23,
    "start_time": "2021-08-10T17:50:33.588Z"
   },
   {
    "duration": 9,
    "start_time": "2021-08-10T17:51:04.383Z"
   },
   {
    "duration": 6500,
    "start_time": "2021-08-10T17:56:21.765Z"
   },
   {
    "duration": 631,
    "start_time": "2021-08-10T17:56:36.404Z"
   },
   {
    "duration": 11,
    "start_time": "2021-08-10T17:56:37.246Z"
   },
   {
    "duration": 24,
    "start_time": "2021-08-10T17:56:39.796Z"
   },
   {
    "duration": 131,
    "start_time": "2021-08-10T17:56:40.256Z"
   },
   {
    "duration": 9,
    "start_time": "2021-08-10T17:56:40.607Z"
   },
   {
    "duration": 6795,
    "start_time": "2021-08-10T17:56:40.786Z"
   },
   {
    "duration": 16,
    "start_time": "2021-08-10T17:57:08.441Z"
   },
   {
    "duration": 6789,
    "start_time": "2021-08-10T17:57:40.684Z"
   },
   {
    "duration": 25,
    "start_time": "2021-08-10T17:58:10.539Z"
   },
   {
    "duration": 85,
    "start_time": "2021-08-10T18:56:33.674Z"
   },
   {
    "duration": 294,
    "start_time": "2021-08-10T18:56:48.036Z"
   },
   {
    "duration": 35,
    "start_time": "2021-08-10T18:56:57.276Z"
   },
   {
    "duration": 41,
    "start_time": "2021-08-10T18:57:05.790Z"
   },
   {
    "duration": 40,
    "start_time": "2021-08-10T18:58:53.301Z"
   },
   {
    "duration": 33,
    "start_time": "2021-08-10T18:58:59.091Z"
   },
   {
    "duration": 44,
    "start_time": "2021-08-10T18:59:04.196Z"
   },
   {
    "duration": 311,
    "start_time": "2021-08-10T19:05:25.252Z"
   },
   {
    "duration": 385,
    "start_time": "2021-08-10T19:05:48.153Z"
   },
   {
    "duration": 74,
    "start_time": "2021-08-10T19:05:59.723Z"
   },
   {
    "duration": 85,
    "start_time": "2021-08-10T19:06:06.230Z"
   },
   {
    "duration": 61,
    "start_time": "2021-08-10T19:06:25.800Z"
   },
   {
    "duration": 77,
    "start_time": "2021-08-10T19:06:51.891Z"
   },
   {
    "duration": 85,
    "start_time": "2021-08-10T19:18:56.660Z"
   },
   {
    "duration": 676,
    "start_time": "2021-08-10T19:20:49.742Z"
   },
   {
    "duration": 113,
    "start_time": "2021-08-10T19:21:01.562Z"
   },
   {
    "duration": 102,
    "start_time": "2021-08-10T19:21:21.811Z"
   },
   {
    "duration": 105,
    "start_time": "2021-08-10T19:21:59.792Z"
   },
   {
    "duration": 106,
    "start_time": "2021-08-10T19:22:21.471Z"
   },
   {
    "duration": 118,
    "start_time": "2021-08-10T19:23:07.612Z"
   },
   {
    "duration": 112,
    "start_time": "2021-08-10T19:23:14.172Z"
   },
   {
    "duration": 120,
    "start_time": "2021-08-10T19:23:19.620Z"
   },
   {
    "duration": 359,
    "start_time": "2021-08-10T19:24:44.721Z"
   },
   {
    "duration": 113,
    "start_time": "2021-08-10T19:27:13.091Z"
   },
   {
    "duration": 58,
    "start_time": "2021-08-10T19:28:32.612Z"
   },
   {
    "duration": 65,
    "start_time": "2021-08-10T19:31:10.611Z"
   },
   {
    "duration": 27,
    "start_time": "2021-08-10T19:35:56.531Z"
   },
   {
    "duration": 48,
    "start_time": "2021-08-10T19:36:06.120Z"
   },
   {
    "duration": 23,
    "start_time": "2021-08-10T19:38:07.570Z"
   },
   {
    "duration": 42,
    "start_time": "2021-08-10T19:38:17.031Z"
   },
   {
    "duration": 266,
    "start_time": "2021-08-10T19:40:22.530Z"
   },
   {
    "duration": 16,
    "start_time": "2021-08-10T19:40:53.458Z"
   },
   {
    "duration": 55,
    "start_time": "2021-08-10T19:41:02.951Z"
   },
   {
    "duration": 64,
    "start_time": "2021-08-10T19:41:51.636Z"
   },
   {
    "duration": 65,
    "start_time": "2021-08-10T19:42:41.901Z"
   },
   {
    "duration": 318,
    "start_time": "2021-08-10T19:43:45.338Z"
   },
   {
    "duration": 67,
    "start_time": "2021-08-10T19:44:08.949Z"
   },
   {
    "duration": 71,
    "start_time": "2021-08-10T19:44:22.707Z"
   },
   {
    "duration": 72,
    "start_time": "2021-08-10T19:45:11.951Z"
   },
   {
    "duration": 56,
    "start_time": "2021-08-10T19:45:25.658Z"
   },
   {
    "duration": 590,
    "start_time": "2021-08-10T19:45:35.699Z"
   },
   {
    "duration": 10,
    "start_time": "2021-08-10T19:45:38.067Z"
   },
   {
    "duration": 22,
    "start_time": "2021-08-10T19:45:40.301Z"
   },
   {
    "duration": 106,
    "start_time": "2021-08-10T19:45:41.311Z"
   },
   {
    "duration": 11,
    "start_time": "2021-08-10T19:45:43.938Z"
   },
   {
    "duration": 114,
    "start_time": "2021-08-10T19:45:49.498Z"
   },
   {
    "duration": 82,
    "start_time": "2021-08-10T19:45:52.730Z"
   },
   {
    "duration": 42,
    "start_time": "2021-08-10T19:45:56.759Z"
   },
   {
    "duration": 45,
    "start_time": "2021-08-10T19:46:00.578Z"
   },
   {
    "duration": 46,
    "start_time": "2021-08-10T19:46:04.208Z"
   },
   {
    "duration": 583,
    "start_time": "2021-08-10T19:46:24.541Z"
   },
   {
    "duration": 9,
    "start_time": "2021-08-10T19:46:25.127Z"
   },
   {
    "duration": 23,
    "start_time": "2021-08-10T19:46:25.591Z"
   },
   {
    "duration": 98,
    "start_time": "2021-08-10T19:46:28.311Z"
   },
   {
    "duration": 10,
    "start_time": "2021-08-10T19:46:30.911Z"
   },
   {
    "duration": 109,
    "start_time": "2021-08-10T19:46:33.226Z"
   },
   {
    "duration": 55,
    "start_time": "2021-08-10T19:46:37.129Z"
   },
   {
    "duration": 42,
    "start_time": "2021-08-10T19:46:41.129Z"
   },
   {
    "duration": 67,
    "start_time": "2021-08-10T19:46:45.008Z"
   },
   {
    "duration": 45,
    "start_time": "2021-08-10T19:46:55.262Z"
   },
   {
    "duration": 6,
    "start_time": "2021-08-10T19:47:05.098Z"
   },
   {
    "duration": 26,
    "start_time": "2021-08-10T19:47:14.010Z"
   },
   {
    "duration": 268,
    "start_time": "2021-08-10T19:48:12.701Z"
   },
   {
    "duration": 16,
    "start_time": "2021-08-10T19:48:18.515Z"
   },
   {
    "duration": 55,
    "start_time": "2021-08-10T19:48:26.611Z"
   },
   {
    "duration": 568,
    "start_time": "2021-08-10T19:48:43.821Z"
   },
   {
    "duration": 10,
    "start_time": "2021-08-10T19:48:44.393Z"
   },
   {
    "duration": 23,
    "start_time": "2021-08-10T19:48:44.701Z"
   },
   {
    "duration": 98,
    "start_time": "2021-08-10T19:48:45.011Z"
   },
   {
    "duration": 10,
    "start_time": "2021-08-10T19:48:45.271Z"
   },
   {
    "duration": 107,
    "start_time": "2021-08-10T19:48:46.890Z"
   },
   {
    "duration": 55,
    "start_time": "2021-08-10T19:48:49.059Z"
   },
   {
    "duration": 41,
    "start_time": "2021-08-10T19:48:51.858Z"
   },
   {
    "duration": 67,
    "start_time": "2021-08-10T19:48:53.778Z"
   },
   {
    "duration": 42,
    "start_time": "2021-08-10T19:48:57.449Z"
   },
   {
    "duration": 30,
    "start_time": "2021-08-10T19:49:01.058Z"
   },
   {
    "duration": 43,
    "start_time": "2021-08-10T19:49:12.940Z"
   },
   {
    "duration": 43,
    "start_time": "2021-08-10T19:49:30.701Z"
   },
   {
    "duration": 1397,
    "start_time": "2021-08-11T17:59:40.024Z"
   },
   {
    "duration": 7,
    "start_time": "2021-08-11T17:59:41.423Z"
   },
   {
    "duration": 22,
    "start_time": "2021-08-11T17:59:41.431Z"
   },
   {
    "duration": 69,
    "start_time": "2021-08-11T17:59:41.454Z"
   },
   {
    "duration": 7,
    "start_time": "2021-08-11T17:59:41.829Z"
   },
   {
    "duration": 75,
    "start_time": "2021-08-11T17:59:45.079Z"
   },
   {
    "duration": 36,
    "start_time": "2021-08-11T17:59:45.249Z"
   },
   {
    "duration": 34,
    "start_time": "2021-08-11T17:59:45.399Z"
   },
   {
    "duration": 41,
    "start_time": "2021-08-11T17:59:45.559Z"
   },
   {
    "duration": 25,
    "start_time": "2021-08-11T17:59:45.739Z"
   },
   {
    "duration": 16,
    "start_time": "2021-08-11T17:59:45.900Z"
   },
   {
    "duration": 27,
    "start_time": "2021-08-11T17:59:46.079Z"
   },
   {
    "duration": 25,
    "start_time": "2021-08-11T17:59:53.056Z"
   },
   {
    "duration": 13,
    "start_time": "2021-08-11T18:01:29.189Z"
   },
   {
    "duration": 9,
    "start_time": "2021-08-11T18:01:39.889Z"
   },
   {
    "duration": 6,
    "start_time": "2021-08-11T18:12:33.508Z"
   },
   {
    "duration": 18,
    "start_time": "2021-08-11T18:19:27.239Z"
   },
   {
    "duration": 6666,
    "start_time": "2021-08-11T18:27:27.339Z"
   },
   {
    "duration": 5821,
    "start_time": "2021-08-11T18:27:42.849Z"
   },
   {
    "duration": 6105,
    "start_time": "2021-08-11T18:28:02.566Z"
   },
   {
    "duration": 89,
    "start_time": "2021-08-11T18:28:16.589Z"
   },
   {
    "duration": 244,
    "start_time": "2021-08-11T18:28:23.176Z"
   },
   {
    "duration": 414,
    "start_time": "2021-08-11T18:29:22.840Z"
   },
   {
    "duration": 6,
    "start_time": "2021-08-11T18:29:23.255Z"
   },
   {
    "duration": 14,
    "start_time": "2021-08-11T18:29:23.837Z"
   },
   {
    "duration": 62,
    "start_time": "2021-08-11T18:29:24.197Z"
   },
   {
    "duration": 7,
    "start_time": "2021-08-11T18:29:24.517Z"
   },
   {
    "duration": 72,
    "start_time": "2021-08-11T18:29:25.256Z"
   },
   {
    "duration": 36,
    "start_time": "2021-08-11T18:29:25.497Z"
   },
   {
    "duration": 25,
    "start_time": "2021-08-11T18:29:25.936Z"
   },
   {
    "duration": 45,
    "start_time": "2021-08-11T18:29:26.110Z"
   },
   {
    "duration": 25,
    "start_time": "2021-08-11T18:29:26.296Z"
   },
   {
    "duration": 16,
    "start_time": "2021-08-11T18:29:26.477Z"
   },
   {
    "duration": 25,
    "start_time": "2021-08-11T18:29:28.884Z"
   },
   {
    "duration": 8,
    "start_time": "2021-08-11T18:29:31.330Z"
   },
   {
    "duration": 19,
    "start_time": "2021-08-11T18:29:34.257Z"
   },
   {
    "duration": 263,
    "start_time": "2021-08-11T18:36:33.634Z"
   },
   {
    "duration": 4,
    "start_time": "2021-08-11T18:36:54.404Z"
   },
   {
    "duration": 252,
    "start_time": "2021-08-11T18:38:40.029Z"
   },
   {
    "duration": 7,
    "start_time": "2021-08-11T18:38:47.965Z"
   },
   {
    "duration": 27,
    "start_time": "2021-08-11T18:38:54.719Z"
   },
   {
    "duration": 238,
    "start_time": "2021-08-11T18:39:39.676Z"
   },
   {
    "duration": 433,
    "start_time": "2021-08-11T18:40:07.089Z"
   },
   {
    "duration": 6,
    "start_time": "2021-08-11T18:40:07.524Z"
   },
   {
    "duration": 15,
    "start_time": "2021-08-11T18:40:08.077Z"
   },
   {
    "duration": 65,
    "start_time": "2021-08-11T18:40:08.411Z"
   },
   {
    "duration": 7,
    "start_time": "2021-08-11T18:40:10.569Z"
   },
   {
    "duration": 71,
    "start_time": "2021-08-11T18:40:11.259Z"
   },
   {
    "duration": 34,
    "start_time": "2021-08-11T18:40:11.849Z"
   },
   {
    "duration": 24,
    "start_time": "2021-08-11T18:40:12.299Z"
   },
   {
    "duration": 43,
    "start_time": "2021-08-11T18:40:12.469Z"
   },
   {
    "duration": 24,
    "start_time": "2021-08-11T18:40:12.629Z"
   },
   {
    "duration": 16,
    "start_time": "2021-08-11T18:40:15.156Z"
   },
   {
    "duration": 26,
    "start_time": "2021-08-11T18:40:19.549Z"
   },
   {
    "duration": 8,
    "start_time": "2021-08-11T18:40:31.739Z"
   },
   {
    "duration": 16,
    "start_time": "2021-08-11T18:40:39.700Z"
   },
   {
    "duration": 233,
    "start_time": "2021-08-11T18:40:45.055Z"
   },
   {
    "duration": 17,
    "start_time": "2021-08-11T18:41:10.916Z"
   },
   {
    "duration": 23,
    "start_time": "2021-08-11T18:41:23.249Z"
   },
   {
    "duration": 405,
    "start_time": "2021-08-11T18:52:46.097Z"
   },
   {
    "duration": 6,
    "start_time": "2021-08-11T18:52:47.021Z"
   },
   {
    "duration": 14,
    "start_time": "2021-08-11T18:52:54.094Z"
   },
   {
    "duration": 70,
    "start_time": "2021-08-11T18:53:18.848Z"
   },
   {
    "duration": 9,
    "start_time": "2021-08-11T18:53:22.246Z"
   },
   {
    "duration": 74,
    "start_time": "2021-08-11T18:53:44.957Z"
   },
   {
    "duration": 37,
    "start_time": "2021-08-11T18:54:25.761Z"
   },
   {
    "duration": 26,
    "start_time": "2021-08-11T18:55:11.491Z"
   },
   {
    "duration": 25,
    "start_time": "2021-08-11T18:57:02.356Z"
   },
   {
    "duration": 18,
    "start_time": "2021-08-11T18:57:58.645Z"
   },
   {
    "duration": 25,
    "start_time": "2021-08-11T18:58:09.536Z"
   },
   {
    "duration": 7,
    "start_time": "2021-08-11T18:58:40.317Z"
   },
   {
    "duration": 18,
    "start_time": "2021-08-11T18:58:43.783Z"
   },
   {
    "duration": 24,
    "start_time": "2021-08-11T18:58:52.276Z"
   },
   {
    "duration": 23,
    "start_time": "2021-08-11T18:59:21.159Z"
   },
   {
    "duration": 417,
    "start_time": "2021-08-11T19:05:19.971Z"
   },
   {
    "duration": 8,
    "start_time": "2021-08-11T19:05:20.390Z"
   },
   {
    "duration": 15,
    "start_time": "2021-08-11T19:05:20.977Z"
   },
   {
    "duration": 69,
    "start_time": "2021-08-11T19:05:21.299Z"
   },
   {
    "duration": 7,
    "start_time": "2021-08-11T19:05:21.621Z"
   },
   {
    "duration": 72,
    "start_time": "2021-08-11T19:05:22.261Z"
   },
   {
    "duration": 39,
    "start_time": "2021-08-11T19:05:22.441Z"
   },
   {
    "duration": 27,
    "start_time": "2021-08-11T19:05:22.932Z"
   },
   {
    "duration": 43,
    "start_time": "2021-08-11T19:05:23.091Z"
   },
   {
    "duration": 28,
    "start_time": "2021-08-11T19:05:23.251Z"
   },
   {
    "duration": 17,
    "start_time": "2021-08-11T19:05:25.171Z"
   },
   {
    "duration": 27,
    "start_time": "2021-08-11T19:05:25.321Z"
   },
   {
    "duration": 10,
    "start_time": "2021-08-11T19:05:25.489Z"
   },
   {
    "duration": 18,
    "start_time": "2021-08-11T19:05:25.792Z"
   },
   {
    "duration": 36,
    "start_time": "2021-08-11T19:05:30.341Z"
   },
   {
    "duration": 4,
    "start_time": "2021-08-11T19:05:35.692Z"
   },
   {
    "duration": 19,
    "start_time": "2021-08-11T19:05:48.538Z"
   },
   {
    "duration": 20,
    "start_time": "2021-08-11T19:06:11.716Z"
   },
   {
    "duration": 18,
    "start_time": "2021-08-11T19:06:30.199Z"
   },
   {
    "duration": 17,
    "start_time": "2021-08-11T19:07:08.899Z"
   },
   {
    "duration": 69,
    "start_time": "2021-08-11T19:10:59.005Z"
   },
   {
    "duration": 66,
    "start_time": "2021-08-11T19:11:11.862Z"
   },
   {
    "duration": 65,
    "start_time": "2021-08-11T19:11:27.910Z"
   },
   {
    "duration": 295,
    "start_time": "2021-08-11T19:11:40.369Z"
   },
   {
    "duration": 87,
    "start_time": "2021-08-11T19:11:50.391Z"
   },
   {
    "duration": 66,
    "start_time": "2021-08-11T19:11:54.941Z"
   },
   {
    "duration": 67,
    "start_time": "2021-08-11T19:12:01.011Z"
   },
   {
    "duration": 9,
    "start_time": "2021-08-11T19:13:21.309Z"
   },
   {
    "duration": 1977,
    "start_time": "2021-08-12T16:14:51.290Z"
   },
   {
    "duration": 12,
    "start_time": "2021-08-12T16:14:55.596Z"
   },
   {
    "duration": 26,
    "start_time": "2021-08-12T16:15:00.489Z"
   },
   {
    "duration": 110,
    "start_time": "2021-08-12T16:15:07.401Z"
   },
   {
    "duration": 10,
    "start_time": "2021-08-12T16:15:10.530Z"
   },
   {
    "duration": 1800,
    "start_time": "2021-08-12T16:19:30.249Z"
   },
   {
    "duration": 106,
    "start_time": "2021-08-12T16:19:45.981Z"
   },
   {
    "duration": 112,
    "start_time": "2021-08-12T16:20:00.942Z"
   },
   {
    "duration": 108,
    "start_time": "2021-08-12T16:20:30.563Z"
   },
   {
    "duration": 57,
    "start_time": "2021-08-12T16:21:09.710Z"
   },
   {
    "duration": 35,
    "start_time": "2021-08-12T16:26:47.188Z"
   },
   {
    "duration": 498,
    "start_time": "2021-08-12T16:35:40.580Z"
   },
   {
    "duration": 61,
    "start_time": "2021-08-12T16:35:56.822Z"
   },
   {
    "duration": 404,
    "start_time": "2021-08-12T16:36:00.960Z"
   },
   {
    "duration": 35,
    "start_time": "2021-08-12T16:36:19.348Z"
   },
   {
    "duration": 27,
    "start_time": "2021-08-12T16:36:26.221Z"
   },
   {
    "duration": 44,
    "start_time": "2021-08-12T16:36:51.658Z"
   },
   {
    "duration": 12,
    "start_time": "2021-08-12T16:37:03.510Z"
   },
   {
    "duration": 28,
    "start_time": "2021-08-12T16:37:09.222Z"
   },
   {
    "duration": 33,
    "start_time": "2021-08-12T16:37:17.277Z"
   },
   {
    "duration": 15,
    "start_time": "2021-08-12T17:04:33.493Z"
   },
   {
    "duration": 10,
    "start_time": "2021-08-12T17:06:11.419Z"
   },
   {
    "duration": 17,
    "start_time": "2021-08-12T17:06:20.999Z"
   },
   {
    "duration": 42,
    "start_time": "2021-08-12T17:06:53.399Z"
   },
   {
    "duration": 172,
    "start_time": "2021-08-12T18:23:55.811Z"
   },
   {
    "duration": 405,
    "start_time": "2021-08-12T18:24:42.648Z"
   },
   {
    "duration": 434,
    "start_time": "2021-08-12T18:25:01.435Z"
   },
   {
    "duration": 131,
    "start_time": "2021-08-12T18:25:51.109Z"
   },
   {
    "duration": 190,
    "start_time": "2021-08-12T18:26:02.370Z"
   },
   {
    "duration": 170,
    "start_time": "2021-08-12T18:28:33.853Z"
   },
   {
    "duration": 41,
    "start_time": "2021-08-12T18:28:41.393Z"
   },
   {
    "duration": 50,
    "start_time": "2021-08-12T18:30:49.648Z"
   },
   {
    "duration": 54,
    "start_time": "2021-08-12T18:31:55.218Z"
   },
   {
    "duration": 49,
    "start_time": "2021-08-12T18:43:58.660Z"
   },
   {
    "duration": 459,
    "start_time": "2021-08-12T18:45:31.422Z"
   },
   {
    "duration": 9973,
    "start_time": "2021-08-12T18:45:40.963Z"
   },
   {
    "duration": 10099,
    "start_time": "2021-08-12T18:46:00.442Z"
   },
   {
    "duration": 9893,
    "start_time": "2021-08-12T18:46:23.018Z"
   },
   {
    "duration": 43,
    "start_time": "2021-08-12T18:47:12.929Z"
   },
   {
    "duration": 42,
    "start_time": "2021-08-12T18:48:19.245Z"
   },
   {
    "duration": 142,
    "start_time": "2021-08-12T18:50:01.345Z"
   },
   {
    "duration": 37,
    "start_time": "2021-08-12T18:50:09.638Z"
   },
   {
    "duration": 39,
    "start_time": "2021-08-12T18:51:52.444Z"
   },
   {
    "duration": 50,
    "start_time": "2021-08-12T18:58:44.793Z"
   },
   {
    "duration": 40,
    "start_time": "2021-08-12T19:00:46.490Z"
   },
   {
    "duration": 423,
    "start_time": "2021-08-12T19:23:12.758Z"
   },
   {
    "duration": 398,
    "start_time": "2021-08-12T19:23:24.879Z"
   },
   {
    "duration": 10,
    "start_time": "2021-08-12T19:23:47.879Z"
   },
   {
    "duration": 9,
    "start_time": "2021-08-12T19:26:38.746Z"
   },
   {
    "duration": 10,
    "start_time": "2021-08-12T19:26:52.864Z"
   },
   {
    "duration": 9,
    "start_time": "2021-08-12T19:27:25.595Z"
   },
   {
    "duration": 1433,
    "start_time": "2021-08-13T17:24:36.702Z"
   },
   {
    "duration": 8,
    "start_time": "2021-08-13T17:24:38.136Z"
   },
   {
    "duration": 19,
    "start_time": "2021-08-13T17:24:38.146Z"
   },
   {
    "duration": 84,
    "start_time": "2021-08-13T17:24:38.167Z"
   },
   {
    "duration": 7,
    "start_time": "2021-08-13T17:24:38.461Z"
   },
   {
    "duration": 79,
    "start_time": "2021-08-13T17:24:39.381Z"
   },
   {
    "duration": 38,
    "start_time": "2021-08-13T17:24:39.567Z"
   },
   {
    "duration": 21,
    "start_time": "2021-08-13T17:24:39.779Z"
   },
   {
    "duration": 48,
    "start_time": "2021-08-13T17:24:40.009Z"
   },
   {
    "duration": 23,
    "start_time": "2021-08-13T17:24:40.178Z"
   },
   {
    "duration": 29,
    "start_time": "2021-08-13T17:24:40.490Z"
   },
   {
    "duration": 9,
    "start_time": "2021-08-13T17:24:40.690Z"
   },
   {
    "duration": 19,
    "start_time": "2021-08-13T17:24:45.447Z"
   },
   {
    "duration": 23,
    "start_time": "2021-08-13T17:24:51.370Z"
   },
   {
    "duration": 29,
    "start_time": "2021-08-13T17:24:55.459Z"
   },
   {
    "duration": 7,
    "start_time": "2021-08-13T17:25:04.256Z"
   },
   {
    "duration": 265,
    "start_time": "2021-08-13T17:46:19.561Z"
   },
   {
    "duration": 17,
    "start_time": "2021-08-13T17:46:33.415Z"
   },
   {
    "duration": 21,
    "start_time": "2021-08-13T17:49:53.950Z"
   },
   {
    "duration": 66,
    "start_time": "2021-08-13T18:08:49.368Z"
   },
   {
    "duration": 14,
    "start_time": "2021-08-13T18:08:59.578Z"
   },
   {
    "duration": 17,
    "start_time": "2021-08-13T18:09:08.581Z"
   },
   {
    "duration": 17,
    "start_time": "2021-08-13T18:24:35.824Z"
   },
   {
    "duration": 437,
    "start_time": "2021-08-13T18:26:32.654Z"
   },
   {
    "duration": 258,
    "start_time": "2021-08-13T18:27:34.236Z"
   },
   {
    "duration": 264,
    "start_time": "2021-08-13T18:27:40.021Z"
   },
   {
    "duration": 478,
    "start_time": "2021-08-13T18:27:59.295Z"
   },
   {
    "duration": 495,
    "start_time": "2021-08-13T18:28:07.524Z"
   },
   {
    "duration": 448,
    "start_time": "2021-08-13T18:32:22.036Z"
   },
   {
    "duration": 498,
    "start_time": "2021-08-13T18:32:31.850Z"
   },
   {
    "duration": 433,
    "start_time": "2021-08-13T18:32:38.043Z"
   },
   {
    "duration": 649,
    "start_time": "2021-08-13T18:32:55.637Z"
   },
   {
    "duration": 497,
    "start_time": "2021-08-13T18:34:05.593Z"
   },
   {
    "duration": 447,
    "start_time": "2021-08-13T18:34:20.569Z"
   },
   {
    "duration": 481,
    "start_time": "2021-08-13T18:35:03.922Z"
   },
   {
    "duration": 788,
    "start_time": "2021-08-13T18:38:37.020Z"
   },
   {
    "duration": 902,
    "start_time": "2021-08-13T18:39:03.509Z"
   },
   {
    "duration": 494,
    "start_time": "2021-08-13T18:42:04.006Z"
   },
   {
    "duration": 500,
    "start_time": "2021-08-13T18:42:41.866Z"
   },
   {
    "duration": 536,
    "start_time": "2021-08-13T18:43:18.722Z"
   },
   {
    "duration": 290,
    "start_time": "2021-08-13T18:44:15.613Z"
   },
   {
    "duration": 282,
    "start_time": "2021-08-13T18:44:48.007Z"
   },
   {
    "duration": 279,
    "start_time": "2021-08-13T18:45:14.205Z"
   },
   {
    "duration": 282,
    "start_time": "2021-08-13T18:45:25.724Z"
   },
   {
    "duration": 280,
    "start_time": "2021-08-13T18:45:55.154Z"
   },
   {
    "duration": 274,
    "start_time": "2021-08-13T18:46:08.472Z"
   },
   {
    "duration": 374,
    "start_time": "2021-08-13T18:46:18.762Z"
   },
   {
    "duration": 204,
    "start_time": "2021-08-13T18:50:12.390Z"
   },
   {
    "duration": 345,
    "start_time": "2021-08-13T18:50:57.918Z"
   },
   {
    "duration": 180,
    "start_time": "2021-08-13T18:51:16.393Z"
   },
   {
    "duration": 35,
    "start_time": "2021-08-13T18:56:52.868Z"
   },
   {
    "duration": 56,
    "start_time": "2021-08-13T18:57:11.982Z"
   },
   {
    "duration": 47,
    "start_time": "2021-08-13T18:57:16.359Z"
   },
   {
    "duration": 47,
    "start_time": "2021-08-13T19:21:43.643Z"
   },
   {
    "duration": 268,
    "start_time": "2021-08-13T19:22:51.690Z"
   },
   {
    "duration": 278,
    "start_time": "2021-08-13T19:23:18.344Z"
   },
   {
    "duration": 17,
    "start_time": "2021-08-13T19:23:28.232Z"
   },
   {
    "duration": 18,
    "start_time": "2021-08-13T19:23:31.174Z"
   },
   {
    "duration": 49,
    "start_time": "2021-08-13T19:23:34.819Z"
   },
   {
    "duration": 50,
    "start_time": "2021-08-13T19:23:37.932Z"
   },
   {
    "duration": 297,
    "start_time": "2021-08-13T19:23:43.821Z"
   },
   {
    "duration": 300,
    "start_time": "2021-08-13T19:23:50.993Z"
   },
   {
    "duration": 4496,
    "start_time": "2021-08-13T19:25:08.489Z"
   },
   {
    "duration": 302,
    "start_time": "2021-08-13T19:25:38.975Z"
   },
   {
    "duration": 477,
    "start_time": "2021-08-14T06:32:14.284Z"
   },
   {
    "duration": 1529,
    "start_time": "2021-08-14T06:32:56.361Z"
   },
   {
    "duration": 9,
    "start_time": "2021-08-14T06:32:57.892Z"
   },
   {
    "duration": 22,
    "start_time": "2021-08-14T06:32:57.903Z"
   },
   {
    "duration": 82,
    "start_time": "2021-08-14T06:32:57.927Z"
   },
   {
    "duration": 6,
    "start_time": "2021-08-14T06:32:58.011Z"
   },
   {
    "duration": 82,
    "start_time": "2021-08-14T06:32:58.511Z"
   },
   {
    "duration": 37,
    "start_time": "2021-08-14T06:32:58.615Z"
   },
   {
    "duration": 21,
    "start_time": "2021-08-14T06:32:58.838Z"
   },
   {
    "duration": 52,
    "start_time": "2021-08-14T06:33:00.333Z"
   },
   {
    "duration": 25,
    "start_time": "2021-08-14T06:33:00.387Z"
   },
   {
    "duration": 46,
    "start_time": "2021-08-14T06:33:00.415Z"
   },
   {
    "duration": 9,
    "start_time": "2021-08-14T06:33:01.292Z"
   },
   {
    "duration": 24,
    "start_time": "2021-08-14T06:33:01.303Z"
   },
   {
    "duration": 20,
    "start_time": "2021-08-14T06:33:01.329Z"
   },
   {
    "duration": 31,
    "start_time": "2021-08-14T06:33:01.351Z"
   },
   {
    "duration": 5,
    "start_time": "2021-08-14T06:33:01.384Z"
   },
   {
    "duration": 15,
    "start_time": "2021-08-14T06:33:01.599Z"
   },
   {
    "duration": 23,
    "start_time": "2021-08-14T06:33:01.645Z"
   },
   {
    "duration": 21,
    "start_time": "2021-08-14T06:33:01.847Z"
   },
   {
    "duration": 17,
    "start_time": "2021-08-14T06:33:01.922Z"
   },
   {
    "duration": 49,
    "start_time": "2021-08-14T06:33:01.947Z"
   },
   {
    "duration": 44,
    "start_time": "2021-08-14T06:33:02.092Z"
   },
   {
    "duration": 366,
    "start_time": "2021-08-14T06:33:02.215Z"
   },
   {
    "duration": 347,
    "start_time": "2021-08-14T06:33:02.584Z"
   },
   {
    "duration": 290,
    "start_time": "2021-08-14T06:33:03.165Z"
   },
   {
    "duration": 28,
    "start_time": "2021-08-14T06:33:04.313Z"
   },
   {
    "duration": 31,
    "start_time": "2021-08-14T06:33:15.357Z"
   },
   {
    "duration": 35,
    "start_time": "2021-08-14T06:33:24.962Z"
   },
   {
    "duration": 377,
    "start_time": "2021-08-14T06:40:04.564Z"
   },
   {
    "duration": 35,
    "start_time": "2021-08-14T06:40:40.837Z"
   },
   {
    "duration": 277,
    "start_time": "2021-08-14T06:57:03.647Z"
   },
   {
    "duration": 5248,
    "start_time": "2021-08-14T07:02:18.119Z"
   },
   {
    "duration": 10,
    "start_time": "2021-08-14T07:03:19.250Z"
   },
   {
    "duration": 299,
    "start_time": "2021-08-14T07:59:51.180Z"
   },
   {
    "duration": 8,
    "start_time": "2021-08-14T08:00:44.964Z"
   },
   {
    "duration": 1407,
    "start_time": "2021-08-15T18:29:56.941Z"
   },
   {
    "duration": 7,
    "start_time": "2021-08-15T18:29:58.349Z"
   },
   {
    "duration": 18,
    "start_time": "2021-08-15T18:29:58.977Z"
   },
   {
    "duration": 68,
    "start_time": "2021-08-15T18:29:59.452Z"
   },
   {
    "duration": 6,
    "start_time": "2021-08-15T18:29:59.962Z"
   },
   {
    "duration": 76,
    "start_time": "2021-08-15T18:30:01.800Z"
   },
   {
    "duration": 36,
    "start_time": "2021-08-15T18:30:02.281Z"
   },
   {
    "duration": 20,
    "start_time": "2021-08-15T18:30:02.623Z"
   },
   {
    "duration": 41,
    "start_time": "2021-08-15T18:30:03.314Z"
   },
   {
    "duration": 21,
    "start_time": "2021-08-15T18:30:04.191Z"
   },
   {
    "duration": 27,
    "start_time": "2021-08-15T18:30:05.864Z"
   },
   {
    "duration": 8,
    "start_time": "2021-08-15T18:30:06.574Z"
   },
   {
    "duration": 17,
    "start_time": "2021-08-15T18:30:09.699Z"
   },
   {
    "duration": 20,
    "start_time": "2021-08-15T18:30:12.986Z"
   },
   {
    "duration": 28,
    "start_time": "2021-08-15T18:30:15.663Z"
   },
   {
    "duration": 6,
    "start_time": "2021-08-15T18:30:20.953Z"
   },
   {
    "duration": 14,
    "start_time": "2021-08-15T18:30:22.986Z"
   },
   {
    "duration": 20,
    "start_time": "2021-08-15T18:30:23.464Z"
   },
   {
    "duration": 15,
    "start_time": "2021-08-15T18:30:24.738Z"
   },
   {
    "duration": 16,
    "start_time": "2021-08-15T18:30:25.611Z"
   },
   {
    "duration": 42,
    "start_time": "2021-08-15T18:30:26.431Z"
   },
   {
    "duration": 39,
    "start_time": "2021-08-15T18:30:27.273Z"
   },
   {
    "duration": 318,
    "start_time": "2021-08-15T18:35:00.313Z"
   },
   {
    "duration": 478,
    "start_time": "2021-08-15T18:36:32.353Z"
   },
   {
    "duration": 410,
    "start_time": "2021-08-15T18:36:36.171Z"
   },
   {
    "duration": 6,
    "start_time": "2021-08-15T18:36:36.583Z"
   },
   {
    "duration": 15,
    "start_time": "2021-08-15T18:36:37.242Z"
   },
   {
    "duration": 63,
    "start_time": "2021-08-15T18:36:37.620Z"
   },
   {
    "duration": 6,
    "start_time": "2021-08-15T18:36:38.033Z"
   },
   {
    "duration": 74,
    "start_time": "2021-08-15T18:36:38.899Z"
   },
   {
    "duration": 35,
    "start_time": "2021-08-15T18:36:39.146Z"
   },
   {
    "duration": 20,
    "start_time": "2021-08-15T18:36:39.724Z"
   },
   {
    "duration": 39,
    "start_time": "2021-08-15T18:36:39.746Z"
   },
   {
    "duration": 18,
    "start_time": "2021-08-15T18:36:39.787Z"
   },
   {
    "duration": 26,
    "start_time": "2021-08-15T18:36:40.090Z"
   },
   {
    "duration": 8,
    "start_time": "2021-08-15T18:36:40.311Z"
   },
   {
    "duration": 17,
    "start_time": "2021-08-15T18:36:40.752Z"
   },
   {
    "duration": 22,
    "start_time": "2021-08-15T18:36:42.256Z"
   },
   {
    "duration": 26,
    "start_time": "2021-08-15T18:36:43.074Z"
   },
   {
    "duration": 7,
    "start_time": "2021-08-15T18:36:44.753Z"
   },
   {
    "duration": 14,
    "start_time": "2021-08-15T18:36:46.452Z"
   },
   {
    "duration": 19,
    "start_time": "2021-08-15T18:36:47.562Z"
   },
   {
    "duration": 17,
    "start_time": "2021-08-15T18:36:55.153Z"
   },
   {
    "duration": 16,
    "start_time": "2021-08-15T18:36:56.096Z"
   },
   {
    "duration": 42,
    "start_time": "2021-08-15T18:36:56.680Z"
   },
   {
    "duration": 42,
    "start_time": "2021-08-15T18:36:56.898Z"
   },
   {
    "duration": 245,
    "start_time": "2021-08-15T18:36:57.240Z"
   },
   {
    "duration": 243,
    "start_time": "2021-08-15T18:36:57.721Z"
   },
   {
    "duration": 244,
    "start_time": "2021-08-15T18:36:57.966Z"
   },
   {
    "duration": 33,
    "start_time": "2021-08-15T18:36:58.211Z"
   },
   {
    "duration": 235,
    "start_time": "2021-08-15T18:36:58.361Z"
   },
   {
    "duration": 188,
    "start_time": "2021-08-15T18:37:57.028Z"
   },
   {
    "duration": 193,
    "start_time": "2021-08-15T18:41:29.226Z"
   },
   {
    "duration": 191,
    "start_time": "2021-08-15T18:49:08.171Z"
   },
   {
    "duration": 252,
    "start_time": "2021-08-15T18:49:49.601Z"
   },
   {
    "duration": 175,
    "start_time": "2021-08-15T18:50:09.581Z"
   },
   {
    "duration": 398,
    "start_time": "2021-08-15T18:51:10.268Z"
   },
   {
    "duration": 7,
    "start_time": "2021-08-15T18:51:13.791Z"
   },
   {
    "duration": 14,
    "start_time": "2021-08-15T18:51:19.691Z"
   },
   {
    "duration": 64,
    "start_time": "2021-08-15T18:51:22.571Z"
   },
   {
    "duration": 6,
    "start_time": "2021-08-15T18:51:26.040Z"
   },
   {
    "duration": 71,
    "start_time": "2021-08-15T18:51:29.370Z"
   },
   {
    "duration": 35,
    "start_time": "2021-08-15T18:51:33.858Z"
   },
   {
    "duration": 19,
    "start_time": "2021-08-15T18:51:33.895Z"
   },
   {
    "duration": 41,
    "start_time": "2021-08-15T18:51:33.916Z"
   },
   {
    "duration": 19,
    "start_time": "2021-08-15T18:51:37.421Z"
   },
   {
    "duration": 25,
    "start_time": "2021-08-15T18:51:41.553Z"
   },
   {
    "duration": 7,
    "start_time": "2021-08-15T18:51:46.440Z"
   },
   {
    "duration": 16,
    "start_time": "2021-08-15T18:51:49.788Z"
   },
   {
    "duration": 21,
    "start_time": "2021-08-15T18:51:53.698Z"
   },
   {
    "duration": 25,
    "start_time": "2021-08-15T18:51:57.194Z"
   },
   {
    "duration": 7,
    "start_time": "2021-08-15T18:52:00.792Z"
   },
   {
    "duration": 14,
    "start_time": "2021-08-15T18:52:03.112Z"
   },
   {
    "duration": 18,
    "start_time": "2021-08-15T18:52:03.353Z"
   },
   {
    "duration": 17,
    "start_time": "2021-08-15T18:52:08.255Z"
   },
   {
    "duration": 177,
    "start_time": "2021-08-15T18:52:20.121Z"
   },
   {
    "duration": 179,
    "start_time": "2021-08-15T18:53:52.679Z"
   },
   {
    "duration": 240,
    "start_time": "2021-08-15T18:54:46.621Z"
   },
   {
    "duration": 189,
    "start_time": "2021-08-15T18:55:22.988Z"
   },
   {
    "duration": 188,
    "start_time": "2021-08-15T18:55:28.584Z"
   },
   {
    "duration": 188,
    "start_time": "2021-08-15T18:55:32.098Z"
   },
   {
    "duration": 181,
    "start_time": "2021-08-15T18:56:59.100Z"
   },
   {
    "duration": 282,
    "start_time": "2021-08-15T18:57:12.616Z"
   },
   {
    "duration": 198,
    "start_time": "2021-08-15T18:57:32.738Z"
   },
   {
    "duration": 175,
    "start_time": "2021-08-15T18:58:13.714Z"
   },
   {
    "duration": 203,
    "start_time": "2021-08-15T18:58:27.103Z"
   },
   {
    "duration": 13,
    "start_time": "2021-08-15T19:25:51.174Z"
   },
   {
    "duration": 19,
    "start_time": "2021-08-15T19:26:07.266Z"
   },
   {
    "duration": 2320,
    "start_time": "2021-08-16T06:44:28.519Z"
   },
   {
    "duration": 12,
    "start_time": "2021-08-16T06:44:30.842Z"
   },
   {
    "duration": 49,
    "start_time": "2021-08-16T06:44:30.857Z"
   },
   {
    "duration": 134,
    "start_time": "2021-08-16T06:44:30.909Z"
   },
   {
    "duration": 10,
    "start_time": "2021-08-16T06:44:31.045Z"
   },
   {
    "duration": 145,
    "start_time": "2021-08-16T06:44:31.058Z"
   },
   {
    "duration": 58,
    "start_time": "2021-08-16T06:44:31.206Z"
   },
   {
    "duration": 32,
    "start_time": "2021-08-16T06:44:31.286Z"
   },
   {
    "duration": 89,
    "start_time": "2021-08-16T06:44:31.321Z"
   },
   {
    "duration": 39,
    "start_time": "2021-08-16T06:44:31.413Z"
   },
   {
    "duration": 70,
    "start_time": "2021-08-16T06:44:31.455Z"
   },
   {
    "duration": 15,
    "start_time": "2021-08-16T06:44:31.528Z"
   },
   {
    "duration": 61,
    "start_time": "2021-08-16T06:44:31.546Z"
   },
   {
    "duration": 34,
    "start_time": "2021-08-16T06:44:31.609Z"
   },
   {
    "duration": 76,
    "start_time": "2021-08-16T06:44:31.646Z"
   },
   {
    "duration": 11,
    "start_time": "2021-08-16T06:44:31.725Z"
   },
   {
    "duration": 40,
    "start_time": "2021-08-16T06:44:31.739Z"
   },
   {
    "duration": 49,
    "start_time": "2021-08-16T06:44:31.787Z"
   },
   {
    "duration": 53,
    "start_time": "2021-08-16T06:44:31.839Z"
   },
   {
    "duration": 48,
    "start_time": "2021-08-16T06:44:31.894Z"
   },
   {
    "duration": 100,
    "start_time": "2021-08-16T06:44:31.945Z"
   },
   {
    "duration": 82,
    "start_time": "2021-08-16T06:44:32.048Z"
   },
   {
    "duration": 482,
    "start_time": "2021-08-16T06:44:32.135Z"
   },
   {
    "duration": 511,
    "start_time": "2021-08-16T06:44:32.620Z"
   },
   {
    "duration": 490,
    "start_time": "2021-08-16T06:44:33.134Z"
   },
   {
    "duration": 73,
    "start_time": "2021-08-16T06:44:33.626Z"
   },
   {
    "duration": 9,
    "start_time": "2021-08-16T06:44:33.701Z"
   },
   {
    "duration": 397,
    "start_time": "2021-08-16T06:44:33.712Z"
   },
   {
    "duration": 399,
    "start_time": "2021-08-16T06:44:34.112Z"
   },
   {
    "duration": 376,
    "start_time": "2021-08-16T06:44:34.513Z"
   },
   {
    "duration": 493,
    "start_time": "2021-08-16T06:44:34.892Z"
   },
   {
    "duration": 361,
    "start_time": "2021-08-16T06:44:35.388Z"
   },
   {
    "duration": 411,
    "start_time": "2021-08-16T06:44:35.753Z"
   },
   {
    "duration": 21,
    "start_time": "2021-08-16T06:44:36.167Z"
   },
   {
    "duration": 32,
    "start_time": "2021-08-16T06:44:36.191Z"
   },
   {
    "duration": 433,
    "start_time": "2021-08-16T06:54:37.293Z"
   },
   {
    "duration": 31,
    "start_time": "2021-08-16T06:54:54.077Z"
   },
   {
    "duration": 9,
    "start_time": "2021-08-16T07:01:51.485Z"
   },
   {
    "duration": 2116,
    "start_time": "2021-08-16T19:58:00.348Z"
   },
   {
    "duration": 12,
    "start_time": "2021-08-16T19:58:02.466Z"
   },
   {
    "duration": 28,
    "start_time": "2021-08-16T19:58:15.816Z"
   },
   {
    "duration": 105,
    "start_time": "2021-08-16T19:58:18.310Z"
   },
   {
    "duration": 10,
    "start_time": "2021-08-16T19:58:20.030Z"
   },
   {
    "duration": 7,
    "start_time": "2021-08-16T19:58:28.125Z"
   },
   {
    "duration": 10,
    "start_time": "2021-08-16T19:58:39.355Z"
   },
   {
    "duration": 6,
    "start_time": "2021-08-16T19:58:48.338Z"
   },
   {
    "duration": 119,
    "start_time": "2021-08-16T19:59:53.638Z"
   },
   {
    "duration": 54,
    "start_time": "2021-08-16T19:59:57.061Z"
   },
   {
    "duration": 33,
    "start_time": "2021-08-16T20:00:04.552Z"
   },
   {
    "duration": 68,
    "start_time": "2021-08-16T20:00:05.525Z"
   },
   {
    "duration": 36,
    "start_time": "2021-08-16T20:00:06.514Z"
   },
   {
    "duration": 44,
    "start_time": "2021-08-16T20:03:39.197Z"
   },
   {
    "duration": 482,
    "start_time": "2021-08-16T20:07:05.716Z"
   },
   {
    "duration": 8845,
    "start_time": "2021-08-16T20:07:36.657Z"
   },
   {
    "duration": 573,
    "start_time": "2021-08-16T20:08:28.941Z"
   },
   {
    "duration": 7,
    "start_time": "2021-08-16T20:08:29.517Z"
   },
   {
    "duration": 22,
    "start_time": "2021-08-16T20:08:30.117Z"
   },
   {
    "duration": 96,
    "start_time": "2021-08-16T20:08:30.524Z"
   },
   {
    "duration": 10,
    "start_time": "2021-08-16T20:08:30.857Z"
   },
   {
    "duration": 6,
    "start_time": "2021-08-16T20:08:32.231Z"
   },
   {
    "duration": 114,
    "start_time": "2021-08-16T20:08:34.182Z"
   },
   {
    "duration": 56,
    "start_time": "2021-08-16T20:08:34.400Z"
   },
   {
    "duration": 33,
    "start_time": "2021-08-16T20:08:34.622Z"
   },
   {
    "duration": 67,
    "start_time": "2021-08-16T20:08:34.857Z"
   },
   {
    "duration": 38,
    "start_time": "2021-08-16T20:08:36.192Z"
   },
   {
    "duration": 370,
    "start_time": "2021-08-16T20:08:49.052Z"
   },
   {
    "duration": 335,
    "start_time": "2021-08-16T20:09:18.501Z"
   },
   {
    "duration": 5,
    "start_time": "2021-08-16T20:10:05.742Z"
   },
   {
    "duration": 353,
    "start_time": "2021-08-16T20:10:09.785Z"
   },
   {
    "duration": 354,
    "start_time": "2021-08-16T20:10:32.931Z"
   },
   {
    "duration": 370,
    "start_time": "2021-08-16T20:10:50.554Z"
   },
   {
    "duration": 349,
    "start_time": "2021-08-16T20:10:57.628Z"
   },
   {
    "duration": 355,
    "start_time": "2021-08-16T20:12:09.251Z"
   },
   {
    "duration": 27,
    "start_time": "2021-08-16T20:12:27.090Z"
   },
   {
    "duration": 346,
    "start_time": "2021-08-16T20:12:46.896Z"
   },
   {
    "duration": 1236,
    "start_time": "2021-08-16T20:12:49.242Z"
   },
   {
    "duration": 343,
    "start_time": "2021-08-16T20:13:08.425Z"
   },
   {
    "duration": 32,
    "start_time": "2021-08-16T20:13:46.825Z"
   },
   {
    "duration": 11,
    "start_time": "2021-08-16T20:14:55.008Z"
   },
   {
    "duration": 34,
    "start_time": "2021-08-16T20:15:18.894Z"
   },
   {
    "duration": 11339,
    "start_time": "2021-08-16T20:15:49.097Z"
   },
   {
    "duration": 22,
    "start_time": "2021-08-16T20:16:38.339Z"
   },
   {
    "duration": 33,
    "start_time": "2021-08-16T20:17:05.111Z"
   },
   {
    "duration": 36,
    "start_time": "2021-08-16T20:17:51.624Z"
   },
   {
    "duration": 27,
    "start_time": "2021-08-16T20:18:03.294Z"
   },
   {
    "duration": 496,
    "start_time": "2021-08-16T20:18:12.760Z"
   },
   {
    "duration": 34,
    "start_time": "2021-08-16T20:18:17.420Z"
   },
   {
    "duration": 33,
    "start_time": "2021-08-16T20:19:19.375Z"
   },
   {
    "duration": 36,
    "start_time": "2021-08-16T20:19:39.518Z"
   },
   {
    "duration": 31,
    "start_time": "2021-08-16T20:20:16.639Z"
   },
   {
    "duration": 24,
    "start_time": "2021-08-16T20:20:31.506Z"
   },
   {
    "duration": 1435,
    "start_time": "2021-08-17T05:25:26.981Z"
   },
   {
    "duration": 8,
    "start_time": "2021-08-17T05:25:28.417Z"
   },
   {
    "duration": 17,
    "start_time": "2021-08-17T05:25:28.426Z"
   },
   {
    "duration": 69,
    "start_time": "2021-08-17T05:25:28.695Z"
   },
   {
    "duration": 7,
    "start_time": "2021-08-17T05:25:29.133Z"
   },
   {
    "duration": 6,
    "start_time": "2021-08-17T05:25:31.684Z"
   },
   {
    "duration": 75,
    "start_time": "2021-08-17T05:28:53.867Z"
   },
   {
    "duration": 392,
    "start_time": "2021-08-17T05:28:56.926Z"
   },
   {
    "duration": 37,
    "start_time": "2021-08-17T05:29:02.597Z"
   },
   {
    "duration": 19,
    "start_time": "2021-08-17T05:29:05.895Z"
   },
   {
    "duration": 43,
    "start_time": "2021-08-17T05:29:10.006Z"
   },
   {
    "duration": 21,
    "start_time": "2021-08-17T05:29:51.874Z"
   },
   {
    "duration": 4,
    "start_time": "2021-08-17T05:30:00.374Z"
   },
   {
    "duration": 19,
    "start_time": "2021-08-17T05:30:30.351Z"
   },
   {
    "duration": 235,
    "start_time": "2021-08-17T05:32:15.652Z"
   },
   {
    "duration": 386,
    "start_time": "2021-08-17T05:32:38.304Z"
   },
   {
    "duration": 13,
    "start_time": "2021-08-17T05:37:20.975Z"
   },
   {
    "duration": 25,
    "start_time": "2021-08-17T05:37:30.687Z"
   },
   {
    "duration": 525,
    "start_time": "2021-08-17T05:38:26.007Z"
   },
   {
    "duration": 472,
    "start_time": "2021-08-17T05:38:44.247Z"
   },
   {
    "duration": 3,
    "start_time": "2021-08-17T05:39:18.648Z"
   },
   {
    "duration": 532,
    "start_time": "2021-08-17T05:39:20.855Z"
   },
   {
    "duration": 15,
    "start_time": "2021-08-17T05:39:55.077Z"
   },
   {
    "duration": 4,
    "start_time": "2021-08-17T05:40:00.406Z"
   },
   {
    "duration": 311,
    "start_time": "2021-08-17T05:40:12.057Z"
   },
   {
    "duration": 235,
    "start_time": "2021-08-17T05:40:34.004Z"
   },
   {
    "duration": 231,
    "start_time": "2021-08-17T05:40:55.428Z"
   },
   {
    "duration": 20,
    "start_time": "2021-08-17T05:41:50.244Z"
   },
   {
    "duration": 21,
    "start_time": "2021-08-17T05:43:34.406Z"
   },
   {
    "duration": 21,
    "start_time": "2021-08-17T05:43:55.607Z"
   },
   {
    "duration": 17,
    "start_time": "2021-08-17T05:44:00.543Z"
   },
   {
    "duration": 19,
    "start_time": "2021-08-17T05:44:32.334Z"
   },
   {
    "duration": 21,
    "start_time": "2021-08-17T05:44:48.735Z"
   },
   {
    "duration": 18,
    "start_time": "2021-08-17T05:44:52.485Z"
   },
   {
    "duration": 4,
    "start_time": "2021-08-17T05:47:00.353Z"
   },
   {
    "duration": 238,
    "start_time": "2021-08-17T05:47:04.091Z"
   },
   {
    "duration": 7,
    "start_time": "2021-08-17T05:47:30.611Z"
   },
   {
    "duration": 4,
    "start_time": "2021-08-17T05:47:37.283Z"
   },
   {
    "duration": 21,
    "start_time": "2021-08-17T05:47:48.412Z"
   },
   {
    "duration": 244,
    "start_time": "2021-08-17T05:47:53.282Z"
   },
   {
    "duration": 20,
    "start_time": "2021-08-17T05:48:03.102Z"
   },
   {
    "duration": 4,
    "start_time": "2021-08-17T05:48:06.392Z"
   },
   {
    "duration": 271,
    "start_time": "2021-08-17T05:48:08.913Z"
   },
   {
    "duration": 5895,
    "start_time": "2021-08-17T05:49:51.973Z"
   },
   {
    "duration": 21,
    "start_time": "2021-08-17T05:50:04.094Z"
   },
   {
    "duration": 5924,
    "start_time": "2021-08-17T05:50:08.651Z"
   },
   {
    "duration": 4,
    "start_time": "2021-08-17T05:50:43.793Z"
   },
   {
    "duration": 18,
    "start_time": "2021-08-17T05:50:46.373Z"
   },
   {
    "duration": 85,
    "start_time": "2021-08-17T05:53:29.043Z"
   },
   {
    "duration": 19,
    "start_time": "2021-08-17T05:53:33.122Z"
   },
   {
    "duration": 22,
    "start_time": "2021-08-17T05:53:49.251Z"
   },
   {
    "duration": 19,
    "start_time": "2021-08-17T05:53:59.603Z"
   },
   {
    "duration": 18,
    "start_time": "2021-08-17T05:54:05.102Z"
   },
   {
    "duration": 4,
    "start_time": "2021-08-17T05:56:03.603Z"
   },
   {
    "duration": 26,
    "start_time": "2021-08-17T05:56:06.602Z"
   },
   {
    "duration": 230,
    "start_time": "2021-08-17T05:56:09.442Z"
   },
   {
    "duration": 260,
    "start_time": "2021-08-17T05:56:39.821Z"
   },
   {
    "duration": 17,
    "start_time": "2021-08-17T05:57:24.372Z"
   },
   {
    "duration": 711,
    "start_time": "2021-08-17T05:57:42.108Z"
   },
   {
    "duration": 19,
    "start_time": "2021-08-17T05:58:02.484Z"
   },
   {
    "duration": 4,
    "start_time": "2021-08-17T05:58:08.742Z"
   },
   {
    "duration": 31,
    "start_time": "2021-08-17T05:58:11.223Z"
   },
   {
    "duration": 20,
    "start_time": "2021-08-17T05:58:46.412Z"
   },
   {
    "duration": 4,
    "start_time": "2021-08-17T05:58:48.972Z"
   },
   {
    "duration": 82,
    "start_time": "2021-08-17T05:58:51.243Z"
   },
   {
    "duration": 20,
    "start_time": "2021-08-17T05:58:59.722Z"
   },
   {
    "duration": 20,
    "start_time": "2021-08-17T06:01:57.682Z"
   },
   {
    "duration": 45,
    "start_time": "2021-08-17T06:02:13.790Z"
   },
   {
    "duration": 22,
    "start_time": "2021-08-17T06:02:27.141Z"
   },
   {
    "duration": 4,
    "start_time": "2021-08-17T06:02:39.072Z"
   },
   {
    "duration": 21,
    "start_time": "2021-08-17T06:02:41.291Z"
   },
   {
    "duration": 29,
    "start_time": "2021-08-17T06:02:59.522Z"
   },
   {
    "duration": 19,
    "start_time": "2021-08-17T06:03:04.104Z"
   },
   {
    "duration": 272,
    "start_time": "2021-08-17T06:06:30.930Z"
   },
   {
    "duration": 279,
    "start_time": "2021-08-17T06:07:02.553Z"
   },
   {
    "duration": 263,
    "start_time": "2021-08-17T06:07:29.971Z"
   },
   {
    "duration": 242,
    "start_time": "2021-08-17T06:07:36.743Z"
   },
   {
    "duration": 240,
    "start_time": "2021-08-17T06:08:42.233Z"
   },
   {
    "duration": 4,
    "start_time": "2021-08-17T06:08:48.483Z"
   },
   {
    "duration": 260,
    "start_time": "2021-08-17T06:08:53.783Z"
   },
   {
    "duration": 4,
    "start_time": "2021-08-17T06:08:59.912Z"
   },
   {
    "duration": 21,
    "start_time": "2021-08-17T06:09:23.352Z"
   },
   {
    "duration": 4,
    "start_time": "2021-08-17T06:09:27.768Z"
   },
   {
    "duration": 20,
    "start_time": "2021-08-17T06:09:36.262Z"
   },
   {
    "duration": 20,
    "start_time": "2021-08-17T06:10:06.570Z"
   },
   {
    "duration": 20,
    "start_time": "2021-08-17T06:10:53.084Z"
   },
   {
    "duration": 4,
    "start_time": "2021-08-17T06:10:57.133Z"
   },
   {
    "duration": 7,
    "start_time": "2021-08-17T06:11:05.322Z"
   },
   {
    "duration": 19,
    "start_time": "2021-08-17T06:11:27.139Z"
   },
   {
    "duration": 8,
    "start_time": "2021-08-17T06:12:04.400Z"
   },
   {
    "duration": 20,
    "start_time": "2021-08-17T06:12:13.933Z"
   },
   {
    "duration": 4,
    "start_time": "2021-08-17T06:13:06.723Z"
   },
   {
    "duration": 247,
    "start_time": "2021-08-17T06:13:12.263Z"
   },
   {
    "duration": 23,
    "start_time": "2021-08-17T06:13:23.683Z"
   },
   {
    "duration": 3,
    "start_time": "2021-08-17T06:13:27.723Z"
   },
   {
    "duration": 23,
    "start_time": "2021-08-17T06:13:44.642Z"
   },
   {
    "duration": 21,
    "start_time": "2021-08-17T06:18:32.162Z"
   },
   {
    "duration": 19,
    "start_time": "2021-08-17T06:18:41.022Z"
   },
   {
    "duration": 23,
    "start_time": "2021-08-17T06:20:03.575Z"
   },
   {
    "duration": 662,
    "start_time": "2021-08-17T06:20:07.123Z"
   },
   {
    "duration": 18,
    "start_time": "2021-08-17T06:21:22.193Z"
   },
   {
    "duration": 18,
    "start_time": "2021-08-17T06:21:51.885Z"
   },
   {
    "duration": 23,
    "start_time": "2021-08-17T06:22:06.742Z"
   },
   {
    "duration": 18,
    "start_time": "2021-08-17T06:22:10.162Z"
   },
   {
    "duration": 19,
    "start_time": "2021-08-17T06:22:45.105Z"
   },
   {
    "duration": 20,
    "start_time": "2021-08-17T06:22:59.410Z"
   },
   {
    "duration": 19,
    "start_time": "2021-08-17T06:23:02.935Z"
   },
   {
    "duration": 20,
    "start_time": "2021-08-17T06:24:42.392Z"
   },
   {
    "duration": 5817,
    "start_time": "2021-08-17T06:24:46.135Z"
   },
   {
    "duration": 6391,
    "start_time": "2021-08-17T06:26:05.235Z"
   },
   {
    "duration": 21,
    "start_time": "2021-08-17T06:27:52.652Z"
   },
   {
    "duration": 4,
    "start_time": "2021-08-17T06:27:55.658Z"
   },
   {
    "duration": 20,
    "start_time": "2021-08-17T06:28:02.632Z"
   },
   {
    "duration": 22,
    "start_time": "2021-08-17T06:28:32.109Z"
   },
   {
    "duration": 21,
    "start_time": "2021-08-17T06:28:43.631Z"
   },
   {
    "duration": 4,
    "start_time": "2021-08-17T06:28:47.442Z"
   },
   {
    "duration": 21,
    "start_time": "2021-08-17T06:28:49.522Z"
   },
   {
    "duration": 355,
    "start_time": "2021-08-17T06:29:31.902Z"
   },
   {
    "duration": 10,
    "start_time": "2021-08-17T06:29:59.400Z"
   },
   {
    "duration": 9,
    "start_time": "2021-08-17T06:30:11.862Z"
   },
   {
    "duration": 23,
    "start_time": "2021-08-17T06:30:26.440Z"
   },
   {
    "duration": 26,
    "start_time": "2021-08-17T06:30:55.792Z"
   },
   {
    "duration": 20,
    "start_time": "2021-08-17T06:30:59.762Z"
   },
   {
    "duration": 17,
    "start_time": "2021-08-17T06:31:05.672Z"
   },
   {
    "duration": 21,
    "start_time": "2021-08-17T06:33:08.412Z"
   },
   {
    "duration": 352,
    "start_time": "2021-08-17T06:33:11.872Z"
   },
   {
    "duration": 18,
    "start_time": "2021-08-17T06:33:20.893Z"
   },
   {
    "duration": 4,
    "start_time": "2021-08-17T06:35:19.001Z"
   },
   {
    "duration": 23,
    "start_time": "2021-08-17T06:35:33.382Z"
   },
   {
    "duration": 21,
    "start_time": "2021-08-17T06:35:46.152Z"
   },
   {
    "duration": 18,
    "start_time": "2021-08-17T06:35:51.872Z"
   },
   {
    "duration": 1108,
    "start_time": "2021-08-17T06:41:02.545Z"
   },
   {
    "duration": 70,
    "start_time": "2021-08-17T06:41:53.142Z"
   },
   {
    "duration": 33,
    "start_time": "2021-08-17T06:42:25.152Z"
   },
   {
    "duration": 15,
    "start_time": "2021-08-17T06:43:12.855Z"
   },
   {
    "duration": 37,
    "start_time": "2021-08-17T06:43:19.451Z"
   },
   {
    "duration": 39,
    "start_time": "2021-08-17T06:43:45.503Z"
   },
   {
    "duration": 17,
    "start_time": "2021-08-17T06:43:49.900Z"
   },
   {
    "duration": 18,
    "start_time": "2021-08-17T06:43:58.160Z"
   },
   {
    "duration": 7,
    "start_time": "2021-08-17T06:59:15.189Z"
   },
   {
    "duration": 23,
    "start_time": "2021-08-17T07:00:19.262Z"
   },
   {
    "duration": 7,
    "start_time": "2021-08-17T07:04:09.733Z"
   },
   {
    "duration": 16,
    "start_time": "2021-08-17T07:04:26.333Z"
   },
   {
    "duration": 18,
    "start_time": "2021-08-17T07:04:33.823Z"
   },
   {
    "duration": 7,
    "start_time": "2021-08-17T07:04:38.003Z"
   },
   {
    "duration": 236,
    "start_time": "2021-08-17T07:04:45.522Z"
   },
   {
    "duration": 251,
    "start_time": "2021-08-17T07:06:20.451Z"
   },
   {
    "duration": 329,
    "start_time": "2021-08-17T07:06:48.509Z"
   },
   {
    "duration": 8,
    "start_time": "2021-08-17T07:07:06.743Z"
   },
   {
    "duration": 22,
    "start_time": "2021-08-17T07:07:59.876Z"
   },
   {
    "duration": 401,
    "start_time": "2021-08-17T07:08:21.609Z"
   },
   {
    "duration": 410,
    "start_time": "2021-08-17T07:08:31.295Z"
   },
   {
    "duration": 8,
    "start_time": "2021-08-17T07:08:42.863Z"
   },
   {
    "duration": 6,
    "start_time": "2021-08-17T07:09:30.223Z"
   },
   {
    "duration": 14,
    "start_time": "2021-08-17T07:09:33.452Z"
   },
   {
    "duration": 61,
    "start_time": "2021-08-17T07:09:36.616Z"
   },
   {
    "duration": 6,
    "start_time": "2021-08-17T07:09:39.373Z"
   },
   {
    "duration": 6,
    "start_time": "2021-08-17T07:09:43.573Z"
   },
   {
    "duration": 65,
    "start_time": "2021-08-17T07:09:47.853Z"
   },
   {
    "duration": 33,
    "start_time": "2021-08-17T07:09:50.941Z"
   },
   {
    "duration": 14,
    "start_time": "2021-08-17T07:09:51.062Z"
   },
   {
    "duration": 38,
    "start_time": "2021-08-17T07:09:51.263Z"
   },
   {
    "duration": 16,
    "start_time": "2021-08-17T07:09:51.463Z"
   },
   {
    "duration": 18,
    "start_time": "2021-08-17T07:09:51.943Z"
   },
   {
    "duration": 6,
    "start_time": "2021-08-17T07:09:59.493Z"
   },
   {
    "duration": 21,
    "start_time": "2021-08-17T07:10:07.199Z"
   },
   {
    "duration": 5738,
    "start_time": "2021-08-17T07:10:56.246Z"
   },
   {
    "duration": 31,
    "start_time": "2021-08-17T07:11:34.911Z"
   },
   {
    "duration": 7026,
    "start_time": "2021-08-17T07:11:51.731Z"
   },
   {
    "duration": 5801,
    "start_time": "2021-08-17T07:12:46.456Z"
   },
   {
    "duration": 33,
    "start_time": "2021-08-17T07:13:12.073Z"
   },
   {
    "duration": 33,
    "start_time": "2021-08-17T07:13:24.683Z"
   },
   {
    "duration": 15,
    "start_time": "2021-08-17T07:13:29.783Z"
   },
   {
    "duration": 39,
    "start_time": "2021-08-17T07:13:32.223Z"
   },
   {
    "duration": 16,
    "start_time": "2021-08-17T07:13:35.223Z"
   },
   {
    "duration": 17,
    "start_time": "2021-08-17T07:13:37.943Z"
   },
   {
    "duration": 22,
    "start_time": "2021-08-17T07:13:44.213Z"
   },
   {
    "duration": 3,
    "start_time": "2021-08-17T07:13:50.513Z"
   },
   {
    "duration": 18,
    "start_time": "2021-08-17T07:14:01.613Z"
   },
   {
    "duration": 7,
    "start_time": "2021-08-17T07:14:14.292Z"
   },
   {
    "duration": 1456,
    "start_time": "2021-08-17T14:15:54.129Z"
   },
   {
    "duration": 8,
    "start_time": "2021-08-17T14:15:55.820Z"
   },
   {
    "duration": 18,
    "start_time": "2021-08-17T14:15:59.380Z"
   },
   {
    "duration": 69,
    "start_time": "2021-08-17T14:16:02.521Z"
   },
   {
    "duration": 7,
    "start_time": "2021-08-17T14:16:05.441Z"
   },
   {
    "duration": 6,
    "start_time": "2021-08-17T14:16:09.668Z"
   },
   {
    "duration": 73,
    "start_time": "2021-08-17T14:16:15.131Z"
   },
   {
    "duration": 36,
    "start_time": "2021-08-17T14:16:19.720Z"
   },
   {
    "duration": 15,
    "start_time": "2021-08-17T14:16:26.070Z"
   },
   {
    "duration": 43,
    "start_time": "2021-08-17T14:16:28.888Z"
   },
   {
    "duration": 17,
    "start_time": "2021-08-17T14:16:54.649Z"
   },
   {
    "duration": 19,
    "start_time": "2021-08-17T14:17:16.881Z"
   },
   {
    "duration": 7,
    "start_time": "2021-08-17T14:17:30.941Z"
   },
   {
    "duration": 7,
    "start_time": "2021-08-17T14:17:51.890Z"
   },
   {
    "duration": 23,
    "start_time": "2021-08-17T14:18:03.456Z"
   },
   {
    "duration": 402,
    "start_time": "2021-08-17T14:19:11.241Z"
   },
   {
    "duration": 6,
    "start_time": "2021-08-17T14:19:11.644Z"
   },
   {
    "duration": 14,
    "start_time": "2021-08-17T14:19:14.840Z"
   },
   {
    "duration": 63,
    "start_time": "2021-08-17T14:19:19.721Z"
   },
   {
    "duration": 6,
    "start_time": "2021-08-17T14:19:22.260Z"
   },
   {
    "duration": 5,
    "start_time": "2021-08-17T14:19:25.394Z"
   },
   {
    "duration": 74,
    "start_time": "2021-08-17T14:19:28.169Z"
   },
   {
    "duration": 34,
    "start_time": "2021-08-17T14:19:31.240Z"
   },
   {
    "duration": 15,
    "start_time": "2021-08-17T14:19:34.548Z"
   },
   {
    "duration": 41,
    "start_time": "2021-08-17T14:19:38.410Z"
   },
   {
    "duration": 18,
    "start_time": "2021-08-17T14:19:47.120Z"
   },
   {
    "duration": 18,
    "start_time": "2021-08-17T14:19:54.880Z"
   },
   {
    "duration": 7,
    "start_time": "2021-08-17T14:20:03.628Z"
   },
   {
    "duration": 6,
    "start_time": "2021-08-17T14:20:08.546Z"
   },
   {
    "duration": 3,
    "start_time": "2021-08-17T14:20:10.201Z"
   },
   {
    "duration": 18,
    "start_time": "2021-08-17T14:20:12.120Z"
   },
   {
    "duration": 28,
    "start_time": "2021-08-17T14:20:41.021Z"
   },
   {
    "duration": 7,
    "start_time": "2021-08-17T14:20:48.760Z"
   },
   {
    "duration": 21,
    "start_time": "2021-08-17T14:20:58.240Z"
   },
   {
    "duration": 20,
    "start_time": "2021-08-17T14:21:09.960Z"
   },
   {
    "duration": 15,
    "start_time": "2021-08-17T14:21:15.650Z"
   },
   {
    "duration": 16,
    "start_time": "2021-08-17T14:21:22.106Z"
   },
   {
    "duration": 44,
    "start_time": "2021-08-17T14:21:25.640Z"
   },
   {
    "duration": 40,
    "start_time": "2021-08-17T14:21:28.868Z"
   },
   {
    "duration": 246,
    "start_time": "2021-08-17T14:21:31.550Z"
   },
   {
    "duration": 244,
    "start_time": "2021-08-17T14:21:49.800Z"
   },
   {
    "duration": 248,
    "start_time": "2021-08-17T14:21:58.800Z"
   },
   {
    "duration": 39,
    "start_time": "2021-08-17T14:22:23.609Z"
   },
   {
    "duration": 7,
    "start_time": "2021-08-17T14:22:30.681Z"
   },
   {
    "duration": 196,
    "start_time": "2021-08-17T14:22:31.528Z"
   },
   {
    "duration": 184,
    "start_time": "2021-08-17T14:22:37.671Z"
   },
   {
    "duration": 190,
    "start_time": "2021-08-17T14:22:43.210Z"
   },
   {
    "duration": 261,
    "start_time": "2021-08-17T14:22:46.010Z"
   },
   {
    "duration": 194,
    "start_time": "2021-08-17T14:22:49.388Z"
   },
   {
    "duration": 200,
    "start_time": "2021-08-17T14:22:53.836Z"
   },
   {
    "duration": 8,
    "start_time": "2021-08-17T14:23:00.050Z"
   },
   {
    "duration": 8,
    "start_time": "2021-08-17T14:23:04.522Z"
   },
   {
    "duration": 24,
    "start_time": "2021-08-17T14:27:46.488Z"
   },
   {
    "duration": 29,
    "start_time": "2021-08-17T14:28:18.645Z"
   },
   {
    "duration": 6,
    "start_time": "2021-08-17T14:31:57.916Z"
   },
   {
    "duration": 6,
    "start_time": "2021-08-17T14:32:15.193Z"
   },
   {
    "duration": 52,
    "start_time": "2021-08-17T14:37:00.772Z"
   },
   {
    "duration": 272,
    "start_time": "2021-08-17T14:46:39.924Z"
   },
   {
    "duration": 268,
    "start_time": "2021-08-17T14:47:13.175Z"
   },
   {
    "duration": 41,
    "start_time": "2021-08-17T14:47:28.123Z"
   },
   {
    "duration": 246,
    "start_time": "2021-08-17T14:47:51.864Z"
   },
   {
    "duration": 265,
    "start_time": "2021-08-17T14:48:00.600Z"
   },
   {
    "duration": 7,
    "start_time": "2021-08-17T14:48:39.689Z"
   },
   {
    "duration": 185,
    "start_time": "2021-08-17T14:48:41.784Z"
   },
   {
    "duration": 188,
    "start_time": "2021-08-17T14:48:57.425Z"
   },
   {
    "duration": 81,
    "start_time": "2021-08-17T14:51:05.284Z"
   },
   {
    "duration": 44,
    "start_time": "2021-08-17T14:51:07.580Z"
   },
   {
    "duration": 260,
    "start_time": "2021-08-17T14:52:12.875Z"
   },
   {
    "duration": 269,
    "start_time": "2021-08-17T14:52:48.082Z"
   },
   {
    "duration": 37,
    "start_time": "2021-08-17T14:52:54.292Z"
   },
   {
    "duration": 299,
    "start_time": "2021-08-17T15:08:56.127Z"
   },
   {
    "duration": 518,
    "start_time": "2021-08-17T15:09:09.260Z"
   },
   {
    "duration": 219,
    "start_time": "2021-08-17T15:10:13.818Z"
   },
   {
    "duration": 207,
    "start_time": "2021-08-17T15:10:57.916Z"
   },
   {
    "duration": 197,
    "start_time": "2021-08-17T15:11:08.488Z"
   },
   {
    "duration": 7,
    "start_time": "2021-08-17T15:11:17.758Z"
   },
   {
    "duration": 217,
    "start_time": "2021-08-17T15:11:20.000Z"
   },
   {
    "duration": 378,
    "start_time": "2021-08-17T15:12:08.164Z"
   },
   {
    "duration": 207,
    "start_time": "2021-08-17T15:12:20.646Z"
   },
   {
    "duration": 207,
    "start_time": "2021-08-17T15:12:40.649Z"
   },
   {
    "duration": 213,
    "start_time": "2021-08-17T15:13:00.637Z"
   },
   {
    "duration": 203,
    "start_time": "2021-08-17T15:13:13.488Z"
   },
   {
    "duration": 8,
    "start_time": "2021-08-17T15:16:44.358Z"
   },
   {
    "duration": 8,
    "start_time": "2021-08-17T15:16:49.008Z"
   },
   {
    "duration": 2141,
    "start_time": "2021-08-18T07:07:00.899Z"
   },
   {
    "duration": 11,
    "start_time": "2021-08-18T07:07:03.043Z"
   },
   {
    "duration": 44,
    "start_time": "2021-08-18T07:07:03.056Z"
   },
   {
    "duration": 117,
    "start_time": "2021-08-18T07:07:03.103Z"
   },
   {
    "duration": 11,
    "start_time": "2021-08-18T07:07:03.223Z"
   },
   {
    "duration": 11,
    "start_time": "2021-08-18T07:07:03.237Z"
   },
   {
    "duration": 135,
    "start_time": "2021-08-18T07:07:03.250Z"
   },
   {
    "duration": 62,
    "start_time": "2021-08-18T07:07:03.389Z"
   },
   {
    "duration": 23,
    "start_time": "2021-08-18T07:07:03.454Z"
   },
   {
    "duration": 62,
    "start_time": "2021-08-18T07:07:03.500Z"
   },
   {
    "duration": 41,
    "start_time": "2021-08-18T07:07:03.565Z"
   },
   {
    "duration": 31,
    "start_time": "2021-08-18T07:07:03.609Z"
   },
   {
    "duration": 12,
    "start_time": "2021-08-18T07:07:03.643Z"
   },
   {
    "duration": 53,
    "start_time": "2021-08-18T07:07:03.657Z"
   },
   {
    "duration": 4,
    "start_time": "2021-08-18T07:07:03.713Z"
   },
   {
    "duration": 47,
    "start_time": "2021-08-18T07:07:03.719Z"
   },
   {
    "duration": 70,
    "start_time": "2021-08-18T07:07:03.768Z"
   },
   {
    "duration": 8,
    "start_time": "2021-08-18T07:07:03.841Z"
   },
   {
    "duration": 98,
    "start_time": "2021-08-18T07:07:03.852Z"
   },
   {
    "duration": 87,
    "start_time": "2021-08-18T07:07:03.952Z"
   },
   {
    "duration": 399,
    "start_time": "2021-08-18T07:07:04.041Z"
   },
   {
    "duration": -14,
    "start_time": "2021-08-18T07:07:04.457Z"
   },
   {
    "duration": -19,
    "start_time": "2021-08-18T07:07:04.464Z"
   },
   {
    "duration": -21,
    "start_time": "2021-08-18T07:07:04.467Z"
   },
   {
    "duration": -22,
    "start_time": "2021-08-18T07:07:04.470Z"
   },
   {
    "duration": -23,
    "start_time": "2021-08-18T07:07:04.472Z"
   },
   {
    "duration": -24,
    "start_time": "2021-08-18T07:07:04.475Z"
   },
   {
    "duration": -25,
    "start_time": "2021-08-18T07:07:04.477Z"
   },
   {
    "duration": -27,
    "start_time": "2021-08-18T07:07:04.480Z"
   },
   {
    "duration": -27,
    "start_time": "2021-08-18T07:07:04.482Z"
   },
   {
    "duration": -28,
    "start_time": "2021-08-18T07:07:04.484Z"
   },
   {
    "duration": -30,
    "start_time": "2021-08-18T07:07:04.487Z"
   },
   {
    "duration": -31,
    "start_time": "2021-08-18T07:07:04.489Z"
   },
   {
    "duration": 10,
    "start_time": "2021-08-18T07:08:11.247Z"
   },
   {
    "duration": 279,
    "start_time": "2021-08-18T07:08:15.789Z"
   },
   {
    "duration": -16,
    "start_time": "2021-08-18T07:08:16.087Z"
   },
   {
    "duration": -21,
    "start_time": "2021-08-18T07:08:16.093Z"
   },
   {
    "duration": -26,
    "start_time": "2021-08-18T07:08:16.099Z"
   },
   {
    "duration": 66,
    "start_time": "2021-08-18T07:08:30.390Z"
   },
   {
    "duration": 10,
    "start_time": "2021-08-18T07:08:35.438Z"
   },
   {
    "duration": 364,
    "start_time": "2021-08-18T07:08:35.451Z"
   },
   {
    "duration": 362,
    "start_time": "2021-08-18T07:08:35.818Z"
   },
   {
    "duration": 380,
    "start_time": "2021-08-18T07:08:36.183Z"
   },
   {
    "duration": 390,
    "start_time": "2021-08-18T07:08:36.566Z"
   },
   {
    "duration": 384,
    "start_time": "2021-08-18T07:08:36.959Z"
   },
   {
    "duration": 386,
    "start_time": "2021-08-18T07:08:37.346Z"
   },
   {
    "duration": 12,
    "start_time": "2021-08-18T07:08:37.735Z"
   },
   {
    "duration": 11,
    "start_time": "2021-08-18T07:08:37.750Z"
   },
   {
    "duration": 1993,
    "start_time": "2021-08-18T07:22:01.446Z"
   },
   {
    "duration": 11,
    "start_time": "2021-08-18T07:22:03.441Z"
   },
   {
    "duration": 31,
    "start_time": "2021-08-18T07:22:03.455Z"
   },
   {
    "duration": 115,
    "start_time": "2021-08-18T07:22:03.501Z"
   },
   {
    "duration": 9,
    "start_time": "2021-08-18T07:22:03.619Z"
   },
   {
    "duration": 10,
    "start_time": "2021-08-18T07:22:03.630Z"
   },
   {
    "duration": 135,
    "start_time": "2021-08-18T07:22:03.642Z"
   },
   {
    "duration": 60,
    "start_time": "2021-08-18T07:22:03.781Z"
   },
   {
    "duration": 23,
    "start_time": "2021-08-18T07:22:03.843Z"
   },
   {
    "duration": 85,
    "start_time": "2021-08-18T07:22:03.868Z"
   },
   {
    "duration": 28,
    "start_time": "2021-08-18T07:22:03.955Z"
   },
   {
    "duration": 32,
    "start_time": "2021-08-18T07:22:04.001Z"
   },
   {
    "duration": 10,
    "start_time": "2021-08-18T07:22:04.035Z"
   },
   {
    "duration": 8,
    "start_time": "2021-08-18T07:22:04.047Z"
   },
   {
    "duration": 8,
    "start_time": "2021-08-18T07:22:04.057Z"
   },
   {
    "duration": 29,
    "start_time": "2021-08-18T07:22:04.101Z"
   },
   {
    "duration": 70,
    "start_time": "2021-08-18T07:22:04.132Z"
   },
   {
    "duration": 10,
    "start_time": "2021-08-18T07:22:04.204Z"
   },
   {
    "duration": 94,
    "start_time": "2021-08-18T07:22:04.216Z"
   },
   {
    "duration": 89,
    "start_time": "2021-08-18T07:22:04.313Z"
   },
   {
    "duration": 386,
    "start_time": "2021-08-18T07:22:04.404Z"
   },
   {
    "duration": 36,
    "start_time": "2021-08-18T07:22:04.757Z"
   },
   {
    "duration": 30,
    "start_time": "2021-08-18T07:22:04.764Z"
   },
   {
    "duration": 26,
    "start_time": "2021-08-18T07:22:04.769Z"
   },
   {
    "duration": 24,
    "start_time": "2021-08-18T07:22:04.773Z"
   },
   {
    "duration": 22,
    "start_time": "2021-08-18T07:22:04.776Z"
   },
   {
    "duration": 18,
    "start_time": "2021-08-18T07:22:04.782Z"
   },
   {
    "duration": 16,
    "start_time": "2021-08-18T07:22:04.785Z"
   },
   {
    "duration": 15,
    "start_time": "2021-08-18T07:22:04.787Z"
   },
   {
    "duration": 14,
    "start_time": "2021-08-18T07:22:04.789Z"
   },
   {
    "duration": 13,
    "start_time": "2021-08-18T07:22:04.792Z"
   },
   {
    "duration": 12,
    "start_time": "2021-08-18T07:22:04.794Z"
   },
   {
    "duration": 11,
    "start_time": "2021-08-18T07:22:04.796Z"
   },
   {
    "duration": 2237,
    "start_time": "2021-08-18T07:42:17.785Z"
   },
   {
    "duration": 13,
    "start_time": "2021-08-18T07:42:20.056Z"
   },
   {
    "duration": 28,
    "start_time": "2021-08-18T07:42:25.763Z"
   },
   {
    "duration": 107,
    "start_time": "2021-08-18T07:42:28.684Z"
   },
   {
    "duration": 13,
    "start_time": "2021-08-18T07:42:31.906Z"
   },
   {
    "duration": 8,
    "start_time": "2021-08-18T07:43:00.090Z"
   },
   {
    "duration": 112,
    "start_time": "2021-08-18T07:43:46.133Z"
   },
   {
    "duration": 52,
    "start_time": "2021-08-18T07:43:53.320Z"
   },
   {
    "duration": 28,
    "start_time": "2021-08-18T07:44:07.354Z"
   },
   {
    "duration": 65,
    "start_time": "2021-08-18T07:47:25.792Z"
   },
   {
    "duration": 134,
    "start_time": "2021-08-18T07:48:09.011Z"
   },
   {
    "duration": 5,
    "start_time": "2021-08-18T07:48:18.362Z"
   },
   {
    "duration": 17,
    "start_time": "2021-08-18T07:48:26.943Z"
   },
   {
    "duration": 46,
    "start_time": "2021-08-18T07:49:10.884Z"
   },
   {
    "duration": 28,
    "start_time": "2021-08-18T07:51:26.730Z"
   },
   {
    "duration": 30,
    "start_time": "2021-08-18T07:53:32.882Z"
   },
   {
    "duration": 34,
    "start_time": "2021-08-18T07:58:24.164Z"
   },
   {
    "duration": 7,
    "start_time": "2021-08-18T07:58:29.983Z"
   },
   {
    "duration": 26,
    "start_time": "2021-08-18T07:58:39.610Z"
   },
   {
    "duration": 32,
    "start_time": "2021-08-18T07:59:52.643Z"
   },
   {
    "duration": 34,
    "start_time": "2021-08-18T08:00:42.393Z"
   },
   {
    "duration": 14,
    "start_time": "2021-08-18T08:01:48.883Z"
   },
   {
    "duration": 30,
    "start_time": "2021-08-18T08:01:54.364Z"
   },
   {
    "duration": 29,
    "start_time": "2021-08-18T08:01:59.663Z"
   },
   {
    "duration": 9,
    "start_time": "2021-08-18T08:02:35.300Z"
   },
   {
    "duration": 29,
    "start_time": "2021-08-18T08:03:44.410Z"
   },
   {
    "duration": 11,
    "start_time": "2021-08-18T08:04:03.981Z"
   },
   {
    "duration": 9,
    "start_time": "2021-08-18T08:04:25.223Z"
   },
   {
    "duration": 28,
    "start_time": "2021-08-18T08:05:58.053Z"
   },
   {
    "duration": 48,
    "start_time": "2021-08-18T08:06:05.788Z"
   },
   {
    "duration": 17,
    "start_time": "2021-08-18T08:06:08.543Z"
   },
   {
    "duration": 28,
    "start_time": "2021-08-18T08:06:23.062Z"
   },
   {
    "duration": 31,
    "start_time": "2021-08-18T08:06:28.523Z"
   },
   {
    "duration": 9,
    "start_time": "2021-08-18T08:06:35.450Z"
   },
   {
    "duration": 6,
    "start_time": "2021-08-18T08:09:28.921Z"
   },
   {
    "duration": 12,
    "start_time": "2021-08-18T08:09:38.081Z"
   },
   {
    "duration": 7,
    "start_time": "2021-08-18T08:09:42.920Z"
   },
   {
    "duration": 4,
    "start_time": "2021-08-18T08:09:44.349Z"
   },
   {
    "duration": 31,
    "start_time": "2021-08-18T08:09:47.360Z"
   },
   {
    "duration": 11,
    "start_time": "2021-08-18T08:22:08.164Z"
   },
   {
    "duration": 50,
    "start_time": "2021-08-18T08:22:10.084Z"
   },
   {
    "duration": 6,
    "start_time": "2021-08-18T08:23:01.243Z"
   },
   {
    "duration": 6,
    "start_time": "2021-08-18T08:24:52.236Z"
   },
   {
    "duration": 9,
    "start_time": "2021-08-18T08:24:57.405Z"
   },
   {
    "duration": 9,
    "start_time": "2021-08-18T08:26:14.828Z"
   },
   {
    "duration": 7,
    "start_time": "2021-08-18T08:26:39.801Z"
   },
   {
    "duration": 11490,
    "start_time": "2021-08-18T08:26:49.456Z"
   },
   {
    "duration": 11895,
    "start_time": "2021-08-18T08:27:34.389Z"
   },
   {
    "duration": 50,
    "start_time": "2021-08-18T08:28:37.233Z"
   },
   {
    "duration": 8,
    "start_time": "2021-08-18T08:30:23.638Z"
   },
   {
    "duration": 77,
    "start_time": "2021-08-18T08:32:42.318Z"
   },
   {
    "duration": 75,
    "start_time": "2021-08-18T08:32:45.496Z"
   },
   {
    "duration": 362,
    "start_time": "2021-08-18T08:32:49.757Z"
   },
   {
    "duration": 31,
    "start_time": "2021-08-18T08:37:21.079Z"
   },
   {
    "duration": 13,
    "start_time": "2021-08-18T08:37:27.523Z"
   },
   {
    "duration": 4,
    "start_time": "2021-08-18T08:37:29.414Z"
   },
   {
    "duration": 49,
    "start_time": "2021-08-18T08:37:31.264Z"
   },
   {
    "duration": 573,
    "start_time": "2021-08-18T08:37:40.541Z"
   },
   {
    "duration": 8,
    "start_time": "2021-08-18T08:37:41.117Z"
   },
   {
    "duration": 22,
    "start_time": "2021-08-18T08:37:41.611Z"
   },
   {
    "duration": 96,
    "start_time": "2021-08-18T08:37:41.964Z"
   },
   {
    "duration": 11,
    "start_time": "2021-08-18T08:37:42.444Z"
   },
   {
    "duration": 6,
    "start_time": "2021-08-18T08:37:43.984Z"
   },
   {
    "duration": 111,
    "start_time": "2021-08-18T08:37:48.084Z"
   },
   {
    "duration": 51,
    "start_time": "2021-08-18T08:37:48.724Z"
   },
   {
    "duration": 26,
    "start_time": "2021-08-18T08:37:48.894Z"
   },
   {
    "duration": 57,
    "start_time": "2021-08-18T08:37:54.364Z"
   },
   {
    "duration": 29,
    "start_time": "2021-08-18T08:37:56.772Z"
   },
   {
    "duration": 31,
    "start_time": "2021-08-18T08:37:59.643Z"
   },
   {
    "duration": 9,
    "start_time": "2021-08-18T08:38:03.663Z"
   },
   {
    "duration": 13,
    "start_time": "2021-08-18T08:38:06.539Z"
   },
   {
    "duration": 11,
    "start_time": "2021-08-18T08:38:09.723Z"
   },
   {
    "duration": 4,
    "start_time": "2021-08-18T08:38:11.443Z"
   },
   {
    "duration": 30,
    "start_time": "2021-08-18T08:38:14.043Z"
   },
   {
    "duration": 9209,
    "start_time": "2021-08-18T08:38:25.091Z"
   },
   {
    "duration": 17,
    "start_time": "2021-08-18T08:38:45.854Z"
   },
   {
    "duration": 9,
    "start_time": "2021-08-18T08:39:21.284Z"
   },
   {
    "duration": 9164,
    "start_time": "2021-08-18T08:41:48.134Z"
   },
   {
    "duration": 8,
    "start_time": "2021-08-18T08:43:56.171Z"
   },
   {
    "duration": 37,
    "start_time": "2021-08-18T08:44:07.373Z"
   },
   {
    "duration": 8,
    "start_time": "2021-08-18T08:45:37.525Z"
   },
   {
    "duration": 559,
    "start_time": "2021-08-18T08:45:54.645Z"
   },
   {
    "duration": 9,
    "start_time": "2021-08-18T08:45:55.207Z"
   },
   {
    "duration": 23,
    "start_time": "2021-08-18T08:45:56.163Z"
   },
   {
    "duration": 141,
    "start_time": "2021-08-18T08:45:56.564Z"
   },
   {
    "duration": 11,
    "start_time": "2021-08-18T08:45:56.984Z"
   },
   {
    "duration": 5,
    "start_time": "2021-08-18T08:45:58.513Z"
   },
   {
    "duration": 103,
    "start_time": "2021-08-18T08:46:00.283Z"
   },
   {
    "duration": 53,
    "start_time": "2021-08-18T08:46:00.464Z"
   },
   {
    "duration": 27,
    "start_time": "2021-08-18T08:46:05.981Z"
   },
   {
    "duration": 53,
    "start_time": "2021-08-18T08:46:09.613Z"
   },
   {
    "duration": 27,
    "start_time": "2021-08-18T08:46:30.944Z"
   },
   {
    "duration": 29,
    "start_time": "2021-08-18T08:46:33.723Z"
   },
   {
    "duration": 8,
    "start_time": "2021-08-18T08:46:38.171Z"
   },
   {
    "duration": 11,
    "start_time": "2021-08-18T08:46:40.593Z"
   },
   {
    "duration": 9,
    "start_time": "2021-08-18T08:46:43.593Z"
   },
   {
    "duration": 4,
    "start_time": "2021-08-18T08:46:44.293Z"
   },
   {
    "duration": 30,
    "start_time": "2021-08-18T08:46:45.713Z"
   },
   {
    "duration": 20,
    "start_time": "2021-08-18T08:46:53.191Z"
   },
   {
    "duration": 8,
    "start_time": "2021-08-18T08:46:53.973Z"
   },
   {
    "duration": 38,
    "start_time": "2021-08-18T08:46:56.883Z"
   },
   {
    "duration": 9,
    "start_time": "2021-08-18T08:47:03.573Z"
   },
   {
    "duration": 78,
    "start_time": "2021-08-18T08:47:13.971Z"
   },
   {
    "duration": 78,
    "start_time": "2021-08-18T08:47:18.201Z"
   },
   {
    "duration": 115,
    "start_time": "2021-08-18T08:48:52.095Z"
   },
   {
    "duration": 137,
    "start_time": "2021-08-18T08:49:01.571Z"
   },
   {
    "duration": 128,
    "start_time": "2021-08-18T08:49:27.683Z"
   },
   {
    "duration": 117,
    "start_time": "2021-08-18T08:49:49.731Z"
   },
   {
    "duration": 120,
    "start_time": "2021-08-18T08:50:14.220Z"
   },
   {
    "duration": 134,
    "start_time": "2021-08-18T08:50:29.374Z"
   },
   {
    "duration": 145,
    "start_time": "2021-08-18T08:51:34.243Z"
   },
   {
    "duration": 81,
    "start_time": "2021-08-18T08:51:44.173Z"
   },
   {
    "duration": 130,
    "start_time": "2021-08-18T08:52:10.543Z"
   },
   {
    "duration": 134,
    "start_time": "2021-08-18T08:52:27.974Z"
   },
   {
    "duration": 138,
    "start_time": "2021-08-18T08:52:49.672Z"
   },
   {
    "duration": 123,
    "start_time": "2021-08-18T08:53:02.763Z"
   },
   {
    "duration": 18,
    "start_time": "2021-08-18T08:53:23.673Z"
   },
   {
    "duration": 9051,
    "start_time": "2021-08-18T08:53:28.844Z"
   },
   {
    "duration": 19,
    "start_time": "2021-08-18T08:54:12.643Z"
   },
   {
    "duration": 8940,
    "start_time": "2021-08-18T08:54:14.874Z"
   },
   {
    "duration": 32,
    "start_time": "2021-08-18T08:55:49.773Z"
   },
   {
    "duration": 9865,
    "start_time": "2021-08-18T08:55:56.932Z"
   },
   {
    "duration": 42,
    "start_time": "2021-08-18T08:56:19.913Z"
   },
   {
    "duration": 45,
    "start_time": "2021-08-18T08:57:10.421Z"
   },
   {
    "duration": 44,
    "start_time": "2021-08-18T08:57:25.871Z"
   },
   {
    "duration": 1498,
    "start_time": "2021-08-18T08:58:03.904Z"
   },
   {
    "duration": 32,
    "start_time": "2021-08-18T08:58:23.182Z"
   },
   {
    "duration": 35,
    "start_time": "2021-08-18T08:58:33.374Z"
   },
   {
    "duration": 493,
    "start_time": "2021-08-18T08:58:35.694Z"
   },
   {
    "duration": 478,
    "start_time": "2021-08-18T08:58:55.964Z"
   },
   {
    "duration": 580,
    "start_time": "2021-08-18T08:58:59.154Z"
   },
   {
    "duration": 59,
    "start_time": "2021-08-18T08:59:03.053Z"
   },
   {
    "duration": 11,
    "start_time": "2021-08-18T08:59:07.643Z"
   },
   {
    "duration": 368,
    "start_time": "2021-08-18T08:59:10.313Z"
   },
   {
    "duration": 385,
    "start_time": "2021-08-18T08:59:13.633Z"
   },
   {
    "duration": 457,
    "start_time": "2021-08-18T08:59:16.633Z"
   },
   {
    "duration": 415,
    "start_time": "2021-08-18T08:59:21.324Z"
   },
   {
    "duration": 385,
    "start_time": "2021-08-18T08:59:24.504Z"
   },
   {
    "duration": 373,
    "start_time": "2021-08-18T08:59:27.323Z"
   },
   {
    "duration": 2055,
    "start_time": "2021-08-18T11:40:53.813Z"
   },
   {
    "duration": 12,
    "start_time": "2021-08-18T11:40:55.871Z"
   },
   {
    "duration": 27,
    "start_time": "2021-08-18T11:40:55.886Z"
   },
   {
    "duration": 118,
    "start_time": "2021-08-18T11:40:55.915Z"
   },
   {
    "duration": 9,
    "start_time": "2021-08-18T11:40:56.036Z"
   },
   {
    "duration": 7,
    "start_time": "2021-08-18T11:40:56.048Z"
   },
   {
    "duration": 135,
    "start_time": "2021-08-18T11:40:56.058Z"
   },
   {
    "duration": 54,
    "start_time": "2021-08-18T11:40:56.197Z"
   },
   {
    "duration": 46,
    "start_time": "2021-08-18T11:40:56.254Z"
   },
   {
    "duration": 53,
    "start_time": "2021-08-18T11:40:56.303Z"
   },
   {
    "duration": 44,
    "start_time": "2021-08-18T11:40:56.359Z"
   },
   {
    "duration": 29,
    "start_time": "2021-08-18T11:40:56.405Z"
   },
   {
    "duration": 8,
    "start_time": "2021-08-18T11:40:56.436Z"
   },
   {
    "duration": 48,
    "start_time": "2021-08-18T11:40:56.447Z"
   },
   {
    "duration": 9,
    "start_time": "2021-08-18T11:40:56.497Z"
   },
   {
    "duration": 14,
    "start_time": "2021-08-18T11:40:56.508Z"
   },
   {
    "duration": 36,
    "start_time": "2021-08-18T11:40:56.524Z"
   },
   {
    "duration": 43,
    "start_time": "2021-08-18T11:40:56.562Z"
   },
   {
    "duration": 6,
    "start_time": "2021-08-18T11:40:56.608Z"
   },
   {
    "duration": 41,
    "start_time": "2021-08-18T11:40:56.616Z"
   },
   {
    "duration": 30,
    "start_time": "2021-08-18T11:40:56.659Z"
   },
   {
    "duration": 94,
    "start_time": "2021-08-18T11:40:56.691Z"
   },
   {
    "duration": 79,
    "start_time": "2021-08-18T11:40:56.790Z"
   },
   {
    "duration": 31,
    "start_time": "2021-08-18T11:40:56.885Z"
   },
   {
    "duration": 544,
    "start_time": "2021-08-18T11:40:56.919Z"
   },
   {
    "duration": 498,
    "start_time": "2021-08-18T11:40:57.465Z"
   },
   {
    "duration": 493,
    "start_time": "2021-08-18T11:40:57.965Z"
   },
   {
    "duration": 71,
    "start_time": "2021-08-18T11:40:58.460Z"
   },
   {
    "duration": 10,
    "start_time": "2021-08-18T11:40:58.534Z"
   },
   {
    "duration": 392,
    "start_time": "2021-08-18T11:40:58.546Z"
   },
   {
    "duration": 420,
    "start_time": "2021-08-18T11:40:58.941Z"
   },
   {
    "duration": 391,
    "start_time": "2021-08-18T11:40:59.364Z"
   },
   {
    "duration": 482,
    "start_time": "2021-08-18T11:40:59.757Z"
   },
   {
    "duration": 395,
    "start_time": "2021-08-18T11:41:00.242Z"
   },
   {
    "duration": 391,
    "start_time": "2021-08-18T11:41:00.640Z"
   },
   {
    "duration": 13,
    "start_time": "2021-08-18T11:41:01.033Z"
   },
   {
    "duration": 34,
    "start_time": "2021-08-18T11:41:01.048Z"
   }
  ],
  "kernelspec": {
   "display_name": "Python 3",
   "language": "python",
   "name": "python3"
  },
  "language_info": {
   "codemirror_mode": {
    "name": "ipython",
    "version": 3
   },
   "file_extension": ".py",
   "mimetype": "text/x-python",
   "name": "python",
   "nbconvert_exporter": "python",
   "pygments_lexer": "ipython3",
   "version": "3.8.8"
  },
  "toc": {
   "base_numbering": 1,
   "nav_menu": {},
   "number_sections": true,
   "sideBar": true,
   "skip_h1_title": true,
   "title_cell": "Table of Contents",
   "title_sidebar": "Contents",
   "toc_cell": false,
   "toc_position": {},
   "toc_section_display": true,
   "toc_window_display": false
  }
 },
 "nbformat": 4,
 "nbformat_minor": 2
}
