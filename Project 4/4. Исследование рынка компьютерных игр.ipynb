{
 "cells": [
  {
   "cell_type": "markdown",
   "metadata": {},
   "source": [
    "# Сборный проект "
   ]
  },
  {
   "cell_type": "markdown",
   "metadata": {},
   "source": [
    "Анализ данных интернет-магазина «Стримчик», который продаёт по всему миру компьютерные игры. Из открытых источников доступны исторические данные о продажах игр, оценки пользователей и экспертов, жанры и платформы (например, Xbox или PlayStation). Необходимо выявить определяющие успешность игры закономерности, что позволит сделать ставку на потенциально популярный продукт и спланировать рекламные кампании."
   ]
  },
  {
   "cell_type": "markdown",
   "metadata": {},
   "source": [
    "## Изучение данных из файла"
   ]
  },
  {
   "cell_type": "markdown",
   "metadata": {},
   "source": [
    "В первую очередь необходимо изучить общую информацию о данных, чтобы проанализировать шаги, необходимые для этапа предобработки."
   ]
  },
  {
   "cell_type": "code",
   "execution_count": 23,
   "metadata": {},
   "outputs": [
    {
     "name": "stdout",
     "output_type": "stream",
     "text": [
      "<class 'pandas.core.frame.DataFrame'>\n",
      "RangeIndex: 16715 entries, 0 to 16714\n",
      "Data columns (total 11 columns):\n",
      "Name               16713 non-null object\n",
      "Platform           16715 non-null object\n",
      "Year_of_Release    16446 non-null float64\n",
      "Genre              16713 non-null object\n",
      "NA_sales           16715 non-null float64\n",
      "EU_sales           16715 non-null float64\n",
      "JP_sales           16715 non-null float64\n",
      "Other_sales        16715 non-null float64\n",
      "Critic_Score       8137 non-null float64\n",
      "User_Score         10014 non-null object\n",
      "Rating             9949 non-null object\n",
      "dtypes: float64(6), object(5)\n",
      "memory usage: 1.4+ MB\n"
     ]
    }
   ],
   "source": [
    "import pandas as pd\n",
    "import matplotlib.pyplot as plt\n",
    "import seaborn as sns\n",
    "import numpy as np\n",
    "import scipy.stats as st\n",
    "from scipy import stats as st\n",
    "import warnings\n",
    "warnings.filterwarnings('ignore')\n",
    "\n",
    "data = pd.read_csv('/datasets/games.csv')\n",
    "#print(data.head(5))\n",
    "data.info()"
   ]
  },
  {
   "cell_type": "code",
   "execution_count": 24,
   "metadata": {},
   "outputs": [
    {
     "data": {
      "text/html": [
       "<div>\n",
       "<style scoped>\n",
       "    .dataframe tbody tr th:only-of-type {\n",
       "        vertical-align: middle;\n",
       "    }\n",
       "\n",
       "    .dataframe tbody tr th {\n",
       "        vertical-align: top;\n",
       "    }\n",
       "\n",
       "    .dataframe thead th {\n",
       "        text-align: right;\n",
       "    }\n",
       "</style>\n",
       "<table border=\"1\" class=\"dataframe\">\n",
       "  <thead>\n",
       "    <tr style=\"text-align: right;\">\n",
       "      <th></th>\n",
       "      <th>number</th>\n",
       "      <th>percent</th>\n",
       "    </tr>\n",
       "  </thead>\n",
       "  <tbody>\n",
       "    <tr>\n",
       "      <td>Critic_Score</td>\n",
       "      <td>8578.0</td>\n",
       "      <td>51.32</td>\n",
       "    </tr>\n",
       "    <tr>\n",
       "      <td>Rating</td>\n",
       "      <td>6766.0</td>\n",
       "      <td>40.48</td>\n",
       "    </tr>\n",
       "    <tr>\n",
       "      <td>User_Score</td>\n",
       "      <td>6701.0</td>\n",
       "      <td>40.09</td>\n",
       "    </tr>\n",
       "    <tr>\n",
       "      <td>Year_of_Release</td>\n",
       "      <td>269.0</td>\n",
       "      <td>1.61</td>\n",
       "    </tr>\n",
       "    <tr>\n",
       "      <td>Genre</td>\n",
       "      <td>2.0</td>\n",
       "      <td>0.01</td>\n",
       "    </tr>\n",
       "    <tr>\n",
       "      <td>Name</td>\n",
       "      <td>2.0</td>\n",
       "      <td>0.01</td>\n",
       "    </tr>\n",
       "    <tr>\n",
       "      <td>Other_sales</td>\n",
       "      <td>0.0</td>\n",
       "      <td>0.00</td>\n",
       "    </tr>\n",
       "    <tr>\n",
       "      <td>JP_sales</td>\n",
       "      <td>0.0</td>\n",
       "      <td>0.00</td>\n",
       "    </tr>\n",
       "    <tr>\n",
       "      <td>EU_sales</td>\n",
       "      <td>0.0</td>\n",
       "      <td>0.00</td>\n",
       "    </tr>\n",
       "    <tr>\n",
       "      <td>NA_sales</td>\n",
       "      <td>0.0</td>\n",
       "      <td>0.00</td>\n",
       "    </tr>\n",
       "    <tr>\n",
       "      <td>Platform</td>\n",
       "      <td>0.0</td>\n",
       "      <td>0.00</td>\n",
       "    </tr>\n",
       "  </tbody>\n",
       "</table>\n",
       "</div>"
      ],
      "text/plain": [
       "                 number  percent\n",
       "Critic_Score     8578.0    51.32\n",
       "Rating           6766.0    40.48\n",
       "User_Score       6701.0    40.09\n",
       "Year_of_Release   269.0     1.61\n",
       "Genre               2.0     0.01\n",
       "Name                2.0     0.01\n",
       "Other_sales         0.0     0.00\n",
       "JP_sales            0.0     0.00\n",
       "EU_sales            0.0     0.00\n",
       "NA_sales            0.0     0.00\n",
       "Platform            0.0     0.00"
      ]
     },
     "execution_count": 24,
     "metadata": {},
     "output_type": "execute_result"
    }
   ],
   "source": [
    "data_count = data.isna().sum().sort_values(ascending = False)\n",
    "data_percent = (data_count /len(data))* 100\n",
    "data_missing = pd.DataFrame([data_count, data_percent]).T\n",
    "data_missing.columns =['number', 'percent']\n",
    "data_missing.round(2)"
   ]
  },
  {
   "cell_type": "markdown",
   "metadata": {},
   "source": [
    "### Вывод"
   ]
  },
  {
   "cell_type": "markdown",
   "metadata": {},
   "source": [
    "Для анализа у нас есть данные, содержащие общую информацию о компьютерных играх и данные об их продажах до 2016 г. Среди недостатков набора данных можно отметить следующие:\n",
    " 1. названия столбцов написаны с заглавной буквы, что сздает неоудобство для дальнейшей работы;\n",
    " 2. имеются пропущенные значения: 51% данных, содержащих инфрмацию об оценках компьютерных игр критиками, пропущено, также пропуски есть в колонках, содержащих сведения об оценке игр пользователями(40.1%) и рейтинге игры (40.5%), а также года выпуска (1.6%);\n",
    " 3. также некоторые столбцы имеет неправильный тип данных (например, год - текстовый тип)."
   ]
  },
  {
   "cell_type": "markdown",
   "metadata": {},
   "source": [
    "## Предобработка данных"
   ]
  },
  {
   "cell_type": "markdown",
   "metadata": {},
   "source": [
    "Первый шаг анализа - предобработка данных. В первую очередь для удобства восприятия необходимо привести к нижнему регистру названия столбцов."
   ]
  },
  {
   "cell_type": "code",
   "execution_count": 25,
   "metadata": {},
   "outputs": [
    {
     "data": {
      "text/plain": [
       "Index(['name', 'platform', 'year_of_release', 'genre', 'na_sales', 'eu_sales',\n",
       "       'jp_sales', 'other_sales', 'critic_score', 'user_score', 'rating'],\n",
       "      dtype='object')"
      ]
     },
     "execution_count": 25,
     "metadata": {},
     "output_type": "execute_result"
    }
   ],
   "source": [
    "data.columns = data.columns.str.lower()\n",
    "data.columns"
   ]
  },
  {
   "cell_type": "markdown",
   "metadata": {},
   "source": [
    "Проанализируем пропущенные значения: \n",
    "1. critic_score (50% пропущенных значений), user_score(40%), rating (40%)- несмотря на то, что процент пропущенных значений достаточно высок, восстановить эти данные не представляеся возможным, поскольку эти факторы субъективны и зависят только от мнения критиков/пользователей;\n",
    "2. year_of_release имеет 1.6% пропущенных значений и также не требует восстановления - можно просто удалить эти строки;\n",
    "\n",
    "Как можно увидеть, в столбце 'user_score' есть также аббревиатура 'tbd', которая расшифровывается как To Be Determined (будет определено) или To Be Decided (будет решено). Соответственно, этой аббревиатурой маркируются фильмы, рейтинг которых пока не определен. Именно поэтому данное значение мы будем причислять к пропущенным и заменим их на 'NaN'."
   ]
  },
  {
   "cell_type": "code",
   "execution_count": 26,
   "metadata": {},
   "outputs": [
    {
     "data": {
      "text/plain": [
       "0        8.0\n",
       "1        NaN\n",
       "2        8.3\n",
       "3        8.0\n",
       "4        NaN\n",
       "        ... \n",
       "16710    NaN\n",
       "16711    NaN\n",
       "16712    NaN\n",
       "16713    NaN\n",
       "16714    NaN\n",
       "Name: user_score, Length: 16715, dtype: float64"
      ]
     },
     "execution_count": 26,
     "metadata": {},
     "output_type": "execute_result"
    }
   ],
   "source": [
    "data['user_score'] = data['user_score'].replace('tbd', np.nan, regex=True)\n",
    "data['user_score'] = data['user_score'].astype('float')\n",
    "data['user_score']"
   ]
  },
  {
   "cell_type": "code",
   "execution_count": 27,
   "metadata": {},
   "outputs": [
    {
     "data": {
      "text/plain": [
       "0        2006\n",
       "1        1985\n",
       "2        2008\n",
       "3        2009\n",
       "4        1996\n",
       "         ... \n",
       "16710    2016\n",
       "16711    2006\n",
       "16712    2016\n",
       "16713    2003\n",
       "16714    2016\n",
       "Name: year_of_release, Length: 16446, dtype: int64"
      ]
     },
     "execution_count": 27,
     "metadata": {},
     "output_type": "execute_result"
    }
   ],
   "source": [
    "data.drop(data[data['year_of_release'].isna()].index, inplace=True)\n",
    "data['year_of_release'] = data['year_of_release'].astype('int')\n",
    "data['year_of_release']"
   ]
  },
  {
   "cell_type": "markdown",
   "metadata": {},
   "source": [
    "Кроме того, произведем необходимую замену данных: 'year_of_release' переведем из текстового типа в тип целого числа, 'user_score' из текстового типа - в вещественный тип. \n",
    "\n",
    "Следующим шагом рассчитаем суммарные продажи компьютерных игр во всех регионах."
   ]
  },
  {
   "cell_type": "code",
   "execution_count": 28,
   "metadata": {},
   "outputs": [
    {
     "data": {
      "text/html": [
       "<div>\n",
       "<style scoped>\n",
       "    .dataframe tbody tr th:only-of-type {\n",
       "        vertical-align: middle;\n",
       "    }\n",
       "\n",
       "    .dataframe tbody tr th {\n",
       "        vertical-align: top;\n",
       "    }\n",
       "\n",
       "    .dataframe thead th {\n",
       "        text-align: right;\n",
       "    }\n",
       "</style>\n",
       "<table border=\"1\" class=\"dataframe\">\n",
       "  <thead>\n",
       "    <tr style=\"text-align: right;\">\n",
       "      <th></th>\n",
       "      <th>name</th>\n",
       "      <th>platform</th>\n",
       "      <th>year_of_release</th>\n",
       "      <th>genre</th>\n",
       "      <th>na_sales</th>\n",
       "      <th>eu_sales</th>\n",
       "      <th>jp_sales</th>\n",
       "      <th>other_sales</th>\n",
       "      <th>critic_score</th>\n",
       "      <th>user_score</th>\n",
       "      <th>rating</th>\n",
       "      <th>total_sales</th>\n",
       "    </tr>\n",
       "  </thead>\n",
       "  <tbody>\n",
       "    <tr>\n",
       "      <td>0</td>\n",
       "      <td>Wii Sports</td>\n",
       "      <td>Wii</td>\n",
       "      <td>2006</td>\n",
       "      <td>Sports</td>\n",
       "      <td>41.36</td>\n",
       "      <td>28.96</td>\n",
       "      <td>3.77</td>\n",
       "      <td>8.45</td>\n",
       "      <td>76.0</td>\n",
       "      <td>8.0</td>\n",
       "      <td>E</td>\n",
       "      <td>82.54</td>\n",
       "    </tr>\n",
       "    <tr>\n",
       "      <td>1</td>\n",
       "      <td>Super Mario Bros.</td>\n",
       "      <td>NES</td>\n",
       "      <td>1985</td>\n",
       "      <td>Platform</td>\n",
       "      <td>29.08</td>\n",
       "      <td>3.58</td>\n",
       "      <td>6.81</td>\n",
       "      <td>0.77</td>\n",
       "      <td>NaN</td>\n",
       "      <td>NaN</td>\n",
       "      <td>NaN</td>\n",
       "      <td>40.24</td>\n",
       "    </tr>\n",
       "    <tr>\n",
       "      <td>2</td>\n",
       "      <td>Mario Kart Wii</td>\n",
       "      <td>Wii</td>\n",
       "      <td>2008</td>\n",
       "      <td>Racing</td>\n",
       "      <td>15.68</td>\n",
       "      <td>12.76</td>\n",
       "      <td>3.79</td>\n",
       "      <td>3.29</td>\n",
       "      <td>82.0</td>\n",
       "      <td>8.3</td>\n",
       "      <td>E</td>\n",
       "      <td>35.52</td>\n",
       "    </tr>\n",
       "    <tr>\n",
       "      <td>3</td>\n",
       "      <td>Wii Sports Resort</td>\n",
       "      <td>Wii</td>\n",
       "      <td>2009</td>\n",
       "      <td>Sports</td>\n",
       "      <td>15.61</td>\n",
       "      <td>10.93</td>\n",
       "      <td>3.28</td>\n",
       "      <td>2.95</td>\n",
       "      <td>80.0</td>\n",
       "      <td>8.0</td>\n",
       "      <td>E</td>\n",
       "      <td>32.77</td>\n",
       "    </tr>\n",
       "    <tr>\n",
       "      <td>4</td>\n",
       "      <td>Pokemon Red/Pokemon Blue</td>\n",
       "      <td>GB</td>\n",
       "      <td>1996</td>\n",
       "      <td>Role-Playing</td>\n",
       "      <td>11.27</td>\n",
       "      <td>8.89</td>\n",
       "      <td>10.22</td>\n",
       "      <td>1.00</td>\n",
       "      <td>NaN</td>\n",
       "      <td>NaN</td>\n",
       "      <td>NaN</td>\n",
       "      <td>31.38</td>\n",
       "    </tr>\n",
       "  </tbody>\n",
       "</table>\n",
       "</div>"
      ],
      "text/plain": [
       "                       name platform  year_of_release         genre  na_sales  \\\n",
       "0                Wii Sports      Wii             2006        Sports     41.36   \n",
       "1         Super Mario Bros.      NES             1985      Platform     29.08   \n",
       "2            Mario Kart Wii      Wii             2008        Racing     15.68   \n",
       "3         Wii Sports Resort      Wii             2009        Sports     15.61   \n",
       "4  Pokemon Red/Pokemon Blue       GB             1996  Role-Playing     11.27   \n",
       "\n",
       "   eu_sales  jp_sales  other_sales  critic_score  user_score rating  \\\n",
       "0     28.96      3.77         8.45          76.0         8.0      E   \n",
       "1      3.58      6.81         0.77           NaN         NaN    NaN   \n",
       "2     12.76      3.79         3.29          82.0         8.3      E   \n",
       "3     10.93      3.28         2.95          80.0         8.0      E   \n",
       "4      8.89     10.22         1.00           NaN         NaN    NaN   \n",
       "\n",
       "   total_sales  \n",
       "0        82.54  \n",
       "1        40.24  \n",
       "2        35.52  \n",
       "3        32.77  \n",
       "4        31.38  "
      ]
     },
     "execution_count": 28,
     "metadata": {},
     "output_type": "execute_result"
    }
   ],
   "source": [
    "data['total_sales'] = data['na_sales'] + data['eu_sales'] + data['jp_sales'] + data['other_sales']\n",
    "data.head(5)"
   ]
  },
  {
   "cell_type": "markdown",
   "metadata": {},
   "source": [
    "### Вывод"
   ]
  },
  {
   "cell_type": "markdown",
   "metadata": {},
   "source": [
    "В результате предобработки данных были проанализированы пропущенные значения, данные приведены к необходимым типам и произведен расчет данных о суммарных продажах компьютерных игр в регионах. "
   ]
  },
  {
   "cell_type": "markdown",
   "metadata": {},
   "source": [
    "## Исследовательский анализ данных"
   ]
  },
  {
   "cell_type": "markdown",
   "metadata": {},
   "source": [
    "Следующий шаг работы - исследовательский анализ данных. В первую очередь проанализируем количество игр, которое выпускалось в разные годы. Как можно увидеть из графика, приведенного ниже, индустрия компьютерных игр начинает бурное развитие в период конца 90-х -начала 00-х гг., до этого периода рынок еще не был сформирован. Взлет индустрия передивает в 2000-2009 г., когда объемы выпуска игр достигают максимума. С начала 2010-х гг. развитие рынка имеет, скорее, снижающийся характер (даже с учетом того, что данные за 2016 г. у нас не в полном объеме). Соответственно, для решения поставленной задачи - прогноза на 2017 г. нас будут интересовать данные с 2012 г., так как именно к этому времени тренд роста сменяется некоторым спадом."
   ]
  },
  {
   "cell_type": "code",
   "execution_count": 29,
   "metadata": {},
   "outputs": [
    {
     "data": {
      "text/plain": [
       "Text(0.5, 0, 'год')"
      ]
     },
     "execution_count": 29,
     "metadata": {},
     "output_type": "execute_result"
    },
    {
     "data": {
      "image/png": "[encoded data removed]",
      "text/plain": [
       "<Figure size 720x432 with 1 Axes>"
      ]
     },
     "metadata": {
      "needs_background": "light"
     },
     "output_type": "display_data"
    }
   ],
   "source": [
    "games_on_period = data.pivot_table(index='year_of_release', values='name', aggfunc='count').reset_index()\n",
    "plt = games_on_period.plot(y = 'name', x = 'year_of_release', figsize = (10,6))\n",
    "plt.set_title(\"График количества выпущенных игр по годам\")\n",
    "plt.set_ylabel('количество игр')\n",
    "plt.set_xlabel('год')"
   ]
  },
  {
   "cell_type": "markdown",
   "metadata": {},
   "source": [
    "Изучим изменения продаж компьютерных игр по платформам."
   ]
  },
  {
   "cell_type": "code",
   "execution_count": 30,
   "metadata": {},
   "outputs": [
    {
     "data": {
      "text/plain": [
       "Text(0.5, 0, 'название платформы')"
      ]
     },
     "execution_count": 30,
     "metadata": {},
     "output_type": "execute_result"
    },
    {
     "data": {
      "image/png": "[encoded data removed]",
      "text/plain": [
       "<Figure size 720x432 with 1 Axes>"
      ]
     },
     "metadata": {
      "needs_background": "light"
     },
     "output_type": "display_data"
    }
   ],
   "source": [
    "games_on_period = data.pivot_table(index='platform', values=['total_sales'], aggfunc='sum').sort_values(by = 'total_sales', ascending = False).reset_index()\n",
    "plt = games_on_period.plot(y = 'total_sales', x = 'platform', kind = 'bar', figsize = (10,6), color = 'g')\n",
    "plt.set_title(\"График продаж по платформам\")\n",
    "plt.set_ylabel('объем продаж')\n",
    "plt.set_xlabel('название платформы')"
   ]
  },
  {
   "cell_type": "markdown",
   "metadata": {},
   "source": [
    "Как видно из гистограммы, среди топ-5 платформ с наибольшими суммарными продажами можно выделить PS2, X360, PS3, Wii и  DS. Изучим их развитие подробнее."
   ]
  },
  {
   "cell_type": "code",
   "execution_count": 9,
   "metadata": {},
   "outputs": [],
   "source": [
    "leaders = data.query('platform == [\"DS\",\"PS2\",\"PS3\",\"Wii\",\"X360\"] and year_of_release >= 2000')"
   ]
  },
  {
   "cell_type": "code",
   "execution_count": 10,
   "metadata": {},
   "outputs": [],
   "source": [
    "platform_data = leaders.groupby(['year_of_release', 'platform']).agg({'total_sales': 'sum'})"
   ]
  },
  {
   "cell_type": "code",
   "execution_count": 11,
   "metadata": {},
   "outputs": [
    {
     "data": {
      "text/plain": [
       "<matplotlib.legend.Legend at 0x7f94cc44ee10>"
      ]
     },
     "execution_count": 11,
     "metadata": {},
     "output_type": "execute_result"
    },
    {
     "data": {
      "image/png": "[encoded data removed]",
      "text/plain": [
       "<Figure size 1152x432 with 1 Axes>"
      ]
     },
     "metadata": {
      "needs_background": "light"
     },
     "output_type": "display_data"
    }
   ],
   "source": [
    "plot_platform = platform_data.pivot_table(index='year_of_release', columns='platform').plot(figsize = (16,6))\n",
    "plot_platform.set_title(\"Количество продаж популярных игровых платформ'\")\n",
    "plot_platform.set_ylabel('кол-во проданных игр')\n",
    "plot_platform.set_xlabel('годы') \n",
    "plot_platform.legend(labels = ['DS','PS2','PS3','Wii','X360']) "
   ]
  },
  {
   "cell_type": "markdown",
   "metadata": {},
   "source": [
    "Проанализировав распределение по годам продаж компьютерных игр платформами-лидерами, можно увидеть, что платформа в среднем \"живет\" около 10 лет."
   ]
  },
  {
   "cell_type": "markdown",
   "metadata": {},
   "source": [
    "Как было уже сказано ранее, актуальным периодом для цели нашего исследования был выбран период с 2012 года. Изучим его подробнее. "
   ]
  },
  {
   "cell_type": "code",
   "execution_count": 57,
   "metadata": {},
   "outputs": [
    {
     "data": {
      "text/html": [
       "<div>\n",
       "<style scoped>\n",
       "    .dataframe tbody tr th:only-of-type {\n",
       "        vertical-align: middle;\n",
       "    }\n",
       "\n",
       "    .dataframe tbody tr th {\n",
       "        vertical-align: top;\n",
       "    }\n",
       "\n",
       "    .dataframe thead th {\n",
       "        text-align: right;\n",
       "    }\n",
       "</style>\n",
       "<table border=\"1\" class=\"dataframe\">\n",
       "  <thead>\n",
       "    <tr style=\"text-align: right;\">\n",
       "      <th>year_of_release</th>\n",
       "      <th>platform</th>\n",
       "      <th>2012</th>\n",
       "      <th>2013</th>\n",
       "      <th>2014</th>\n",
       "      <th>2015</th>\n",
       "      <th>2016</th>\n",
       "    </tr>\n",
       "  </thead>\n",
       "  <tbody>\n",
       "    <tr>\n",
       "      <td>4</td>\n",
       "      <td>PS4</td>\n",
       "      <td>NaN</td>\n",
       "      <td>25.99</td>\n",
       "      <td>100.00</td>\n",
       "      <td>118.90</td>\n",
       "      <td>69.25</td>\n",
       "    </tr>\n",
       "    <tr>\n",
       "      <td>10</td>\n",
       "      <td>XOne</td>\n",
       "      <td>NaN</td>\n",
       "      <td>18.96</td>\n",
       "      <td>54.07</td>\n",
       "      <td>60.14</td>\n",
       "      <td>26.15</td>\n",
       "    </tr>\n",
       "    <tr>\n",
       "      <td>0</td>\n",
       "      <td>3DS</td>\n",
       "      <td>51.36</td>\n",
       "      <td>56.57</td>\n",
       "      <td>43.76</td>\n",
       "      <td>27.78</td>\n",
       "      <td>15.14</td>\n",
       "    </tr>\n",
       "    <tr>\n",
       "      <td>2</td>\n",
       "      <td>PC</td>\n",
       "      <td>23.22</td>\n",
       "      <td>12.38</td>\n",
       "      <td>13.28</td>\n",
       "      <td>8.52</td>\n",
       "      <td>5.25</td>\n",
       "    </tr>\n",
       "    <tr>\n",
       "      <td>8</td>\n",
       "      <td>WiiU</td>\n",
       "      <td>17.56</td>\n",
       "      <td>21.65</td>\n",
       "      <td>22.03</td>\n",
       "      <td>16.35</td>\n",
       "      <td>4.60</td>\n",
       "    </tr>\n",
       "    <tr>\n",
       "      <td>6</td>\n",
       "      <td>PSV</td>\n",
       "      <td>16.19</td>\n",
       "      <td>10.59</td>\n",
       "      <td>11.90</td>\n",
       "      <td>6.25</td>\n",
       "      <td>4.25</td>\n",
       "    </tr>\n",
       "    <tr>\n",
       "      <td>3</td>\n",
       "      <td>PS3</td>\n",
       "      <td>107.36</td>\n",
       "      <td>113.25</td>\n",
       "      <td>47.76</td>\n",
       "      <td>16.82</td>\n",
       "      <td>3.60</td>\n",
       "    </tr>\n",
       "    <tr>\n",
       "      <td>9</td>\n",
       "      <td>X360</td>\n",
       "      <td>99.74</td>\n",
       "      <td>88.58</td>\n",
       "      <td>34.74</td>\n",
       "      <td>11.96</td>\n",
       "      <td>1.52</td>\n",
       "    </tr>\n",
       "    <tr>\n",
       "      <td>7</td>\n",
       "      <td>Wii</td>\n",
       "      <td>21.71</td>\n",
       "      <td>8.59</td>\n",
       "      <td>3.75</td>\n",
       "      <td>1.14</td>\n",
       "      <td>0.18</td>\n",
       "    </tr>\n",
       "    <tr>\n",
       "      <td>1</td>\n",
       "      <td>DS</td>\n",
       "      <td>11.01</td>\n",
       "      <td>1.54</td>\n",
       "      <td>NaN</td>\n",
       "      <td>NaN</td>\n",
       "      <td>NaN</td>\n",
       "    </tr>\n",
       "    <tr>\n",
       "      <td>5</td>\n",
       "      <td>PSP</td>\n",
       "      <td>7.69</td>\n",
       "      <td>3.14</td>\n",
       "      <td>0.24</td>\n",
       "      <td>0.12</td>\n",
       "      <td>NaN</td>\n",
       "    </tr>\n",
       "  </tbody>\n",
       "</table>\n",
       "</div>"
      ],
      "text/plain": [
       "year_of_release platform    2012    2013    2014    2015   2016\n",
       "4                    PS4     NaN   25.99  100.00  118.90  69.25\n",
       "10                  XOne     NaN   18.96   54.07   60.14  26.15\n",
       "0                    3DS   51.36   56.57   43.76   27.78  15.14\n",
       "2                     PC   23.22   12.38   13.28    8.52   5.25\n",
       "8                   WiiU   17.56   21.65   22.03   16.35   4.60\n",
       "6                    PSV   16.19   10.59   11.90    6.25   4.25\n",
       "3                    PS3  107.36  113.25   47.76   16.82   3.60\n",
       "9                   X360   99.74   88.58   34.74   11.96   1.52\n",
       "7                    Wii   21.71    8.59    3.75    1.14   0.18\n",
       "1                     DS   11.01    1.54     NaN     NaN    NaN\n",
       "5                    PSP    7.69    3.14    0.24    0.12    NaN"
      ]
     },
     "execution_count": 57,
     "metadata": {},
     "output_type": "execute_result"
    }
   ],
   "source": [
    "actual_platform = data.query('year_of_release >= 2012')\n",
    "actual_platform_pivot =(actual_platform\n",
    "                        .pivot_table(index = 'platform', columns = 'year_of_release', values = 'total_sales', aggfunc = 'sum')\n",
    "                        .reset_index()).sort_values(by = 2016, ascending = False) \n",
    "actual_platform_pivot"
   ]
  },
  {
   "cell_type": "markdown",
   "metadata": {},
   "source": [
    "Как можно увидеть из таблицы, продажи растут у PS4, XOne, 3DS, WiiU и PSV, так как они заменяют предыдущее поколение игровых приставок. В свою очередь спад продаж можно заметить у приставок предыдущего поколения PS3, X360, DS, Wii и PSP, соответственно. "
   ]
  },
  {
   "cell_type": "code",
   "execution_count": 62,
   "metadata": {},
   "outputs": [
    {
     "data": {
      "text/html": [
       "<div>\n",
       "<style scoped>\n",
       "    .dataframe tbody tr th:only-of-type {\n",
       "        vertical-align: middle;\n",
       "    }\n",
       "\n",
       "    .dataframe tbody tr th {\n",
       "        vertical-align: top;\n",
       "    }\n",
       "\n",
       "    .dataframe thead th {\n",
       "        text-align: right;\n",
       "    }\n",
       "</style>\n",
       "<table border=\"1\" class=\"dataframe\">\n",
       "  <thead>\n",
       "    <tr style=\"text-align: right;\">\n",
       "      <th></th>\n",
       "      <th>platform</th>\n",
       "      <th>total_sales</th>\n",
       "    </tr>\n",
       "  </thead>\n",
       "  <tbody>\n",
       "    <tr>\n",
       "      <td>4</td>\n",
       "      <td>PS4</td>\n",
       "      <td>314.14</td>\n",
       "    </tr>\n",
       "    <tr>\n",
       "      <td>3</td>\n",
       "      <td>PS3</td>\n",
       "      <td>288.79</td>\n",
       "    </tr>\n",
       "    <tr>\n",
       "      <td>9</td>\n",
       "      <td>X360</td>\n",
       "      <td>236.54</td>\n",
       "    </tr>\n",
       "    <tr>\n",
       "      <td>0</td>\n",
       "      <td>3DS</td>\n",
       "      <td>194.61</td>\n",
       "    </tr>\n",
       "    <tr>\n",
       "      <td>10</td>\n",
       "      <td>XOne</td>\n",
       "      <td>159.32</td>\n",
       "    </tr>\n",
       "    <tr>\n",
       "      <td>8</td>\n",
       "      <td>WiiU</td>\n",
       "      <td>82.19</td>\n",
       "    </tr>\n",
       "    <tr>\n",
       "      <td>2</td>\n",
       "      <td>PC</td>\n",
       "      <td>62.65</td>\n",
       "    </tr>\n",
       "    <tr>\n",
       "      <td>6</td>\n",
       "      <td>PSV</td>\n",
       "      <td>49.18</td>\n",
       "    </tr>\n",
       "    <tr>\n",
       "      <td>7</td>\n",
       "      <td>Wii</td>\n",
       "      <td>35.37</td>\n",
       "    </tr>\n",
       "    <tr>\n",
       "      <td>1</td>\n",
       "      <td>DS</td>\n",
       "      <td>12.55</td>\n",
       "    </tr>\n",
       "    <tr>\n",
       "      <td>5</td>\n",
       "      <td>PSP</td>\n",
       "      <td>11.19</td>\n",
       "    </tr>\n",
       "  </tbody>\n",
       "</table>\n",
       "</div>"
      ],
      "text/plain": [
       "   platform  total_sales\n",
       "4       PS4       314.14\n",
       "3       PS3       288.79\n",
       "9      X360       236.54\n",
       "0       3DS       194.61\n",
       "10     XOne       159.32\n",
       "8      WiiU        82.19\n",
       "2        PC        62.65\n",
       "6       PSV        49.18\n",
       "7       Wii        35.37\n",
       "1        DS        12.55\n",
       "5       PSP        11.19"
      ]
     },
     "execution_count": 62,
     "metadata": {},
     "output_type": "execute_result"
    }
   ],
   "source": [
    "actual_platform.pivot_table(index = 'platform', values = 'total_sales', aggfunc = 'sum').reset_index().sort_values(by = 'total_sales' , ascending = False) "
   ]
  },
  {
   "cell_type": "markdown",
   "metadata": {},
   "source": [
    "Соответственно, \"актуальными\" лидерами по суммарным продажам за выбранный период признаем  PS4, PS3, X360, 3DS и XOne, поскольку их суммарный доход за 4 года более 1 миллиарда долларов. Кроме того, такие платформы, как, например, PS4 и XOne, несмотря на общую тенденцию спада, демонстрируют рост."
   ]
  },
  {
   "cell_type": "markdown",
   "metadata": {},
   "source": [
    "Построим график «ящик с усами» по глобальным продажам игр в разбивке по платформам."
   ]
  },
  {
   "cell_type": "code",
   "execution_count": 64,
   "metadata": {},
   "outputs": [
    {
     "data": {
      "text/plain": [
       "Text(0.5, 0, 'название платформы')"
      ]
     },
     "execution_count": 64,
     "metadata": {},
     "output_type": "execute_result"
    },
    {
     "data": {
      "image/png": "[encoded data removed]",
      "text/plain": [
       "<Figure size 432x288 with 1 Axes>"
      ]
     },
     "metadata": {
      "needs_background": "light"
     },
     "output_type": "display_data"
    }
   ],
   "source": [
    "top_platform = data.query('platform ==[\"PS4\",\"PS3\",\"X360\",\"3DS\",\"XOne\"] and year_of_release >= 2012')\n",
    "plt = top_platform.boxplot(column=['total_sales'], by ='platform')\n",
    "plt.set_title(\"График объема продаж игр по платформам-лидерам\")\n",
    "plt.set_ylabel('объем продаж')\n",
    "plt.set_xlabel('название платформы')"
   ]
  },
  {
   "cell_type": "markdown",
   "metadata": {},
   "source": [
    "Как видно из графика, выводы по данным затруднительны из-за выбросов в данных (так называемых игр-одиночных \"историй успеха\" платформ), от которых мы избавимся, ограничив объем продаж отметкой 1.5 млн проданных копий."
   ]
  },
  {
   "cell_type": "code",
   "execution_count": 65,
   "metadata": {},
   "outputs": [
    {
     "data": {
      "text/plain": [
       "Text(0.5, 0, 'название платформы')"
      ]
     },
     "execution_count": 65,
     "metadata": {},
     "output_type": "execute_result"
    },
    {
     "data": {
      "image/png": "[encoded data removed]",
      "text/plain": [
       "<Figure size 432x288 with 1 Axes>"
      ]
     },
     "metadata": {
      "needs_background": "light"
     },
     "output_type": "display_data"
    }
   ],
   "source": [
    "filtered_sales = top_platform.query('total_sales <= 1.5')\n",
    "plt = filtered_sales.boxplot(column=['total_sales'], by ='platform')\n",
    "plt.set_title(\"График объема продаж игр по платформам-лидерам\")\n",
    "plt.set_ylabel('объем продаж')\n",
    "plt.set_xlabel('название платформы')"
   ]
  },
  {
   "cell_type": "markdown",
   "metadata": {},
   "source": [
    "Как можно увидеть из графика, наибольшие медианные продажи - у платформ PS3 и X360. Наименьшие продажи - у платформы 3DS."
   ]
  },
  {
   "cell_type": "markdown",
   "metadata": {},
   "source": [
    "Изучим, как влияют на продажи внутри платформы PS3 отзывы пользователей и критиков."
   ]
  },
  {
   "cell_type": "code",
   "execution_count": 17,
   "metadata": {},
   "outputs": [
    {
     "data": {
      "text/html": [
       "<div>\n",
       "<style scoped>\n",
       "    .dataframe tbody tr th:only-of-type {\n",
       "        vertical-align: middle;\n",
       "    }\n",
       "\n",
       "    .dataframe tbody tr th {\n",
       "        vertical-align: top;\n",
       "    }\n",
       "\n",
       "    .dataframe thead th {\n",
       "        text-align: right;\n",
       "    }\n",
       "</style>\n",
       "<table border=\"1\" class=\"dataframe\">\n",
       "  <thead>\n",
       "    <tr style=\"text-align: right;\">\n",
       "      <th></th>\n",
       "      <th>total_sales</th>\n",
       "      <th>critic_score</th>\n",
       "      <th>user_score</th>\n",
       "    </tr>\n",
       "  </thead>\n",
       "  <tbody>\n",
       "    <tr>\n",
       "      <td>total_sales</td>\n",
       "      <td>1.000000</td>\n",
       "      <td>0.331497</td>\n",
       "      <td>-0.005144</td>\n",
       "    </tr>\n",
       "    <tr>\n",
       "      <td>critic_score</td>\n",
       "      <td>0.331497</td>\n",
       "      <td>1.000000</td>\n",
       "      <td>0.539456</td>\n",
       "    </tr>\n",
       "    <tr>\n",
       "      <td>user_score</td>\n",
       "      <td>-0.005144</td>\n",
       "      <td>0.539456</td>\n",
       "      <td>1.000000</td>\n",
       "    </tr>\n",
       "  </tbody>\n",
       "</table>\n",
       "</div>"
      ],
      "text/plain": [
       "              total_sales  critic_score  user_score\n",
       "total_sales      1.000000      0.331497   -0.005144\n",
       "critic_score     0.331497      1.000000    0.539456\n",
       "user_score      -0.005144      0.539456    1.000000"
      ]
     },
     "execution_count": 17,
     "metadata": {},
     "output_type": "execute_result"
    }
   ],
   "source": [
    "sales_scores = actual_platform.query('platform ==\"PS3\"') \n",
    "sales_ratings_PS3 = sales_scores.loc[:,['total_sales', 'critic_score', 'user_score']]\n",
    "sales_ratings_PS3.corr()"
   ]
  },
  {
   "cell_type": "code",
   "execution_count": 18,
   "metadata": {},
   "outputs": [
    {
     "data": {
      "text/plain": [
       "array([[<matplotlib.axes._subplots.AxesSubplot object at 0x7facf9772750>,\n",
       "        <matplotlib.axes._subplots.AxesSubplot object at 0x7facf979ed10>,\n",
       "        <matplotlib.axes._subplots.AxesSubplot object at 0x7facf858b550>],\n",
       "       [<matplotlib.axes._subplots.AxesSubplot object at 0x7facf853fd50>,\n",
       "        <matplotlib.axes._subplots.AxesSubplot object at 0x7facf8500550>,\n",
       "        <matplotlib.axes._subplots.AxesSubplot object at 0x7facf84b6d50>],\n",
       "       [<matplotlib.axes._subplots.AxesSubplot object at 0x7facf8471450>,\n",
       "        <matplotlib.axes._subplots.AxesSubplot object at 0x7facf8423c50>,\n",
       "        <matplotlib.axes._subplots.AxesSubplot object at 0x7facf842a7d0>]],\n",
       "      dtype=object)"
      ]
     },
     "execution_count": 18,
     "metadata": {},
     "output_type": "execute_result"
    },
    {
     "data": {
      "image/png": "[encoded data removed]",
      "text/plain": [
       "<Figure size 1080x1080 with 9 Axes>"
      ]
     },
     "metadata": {
      "needs_background": "light"
     },
     "output_type": "display_data"
    }
   ],
   "source": [
    "pd.plotting.scatter_matrix(sales_ratings_PS3, figsize=(15, 15))"
   ]
  },
  {
   "cell_type": "markdown",
   "metadata": {},
   "source": [
    "Таблица сопряженности показывает нам, что связь между продажами и отзывами критиков - слабая положительная, а между продажами и отзывами пользователей связь практически полностью отсутствует."
   ]
  },
  {
   "cell_type": "markdown",
   "metadata": {},
   "source": [
    "Изучим, как влияют на продажи внутри платформы X360 отзывы пользователей и критиков."
   ]
  },
  {
   "cell_type": "code",
   "execution_count": 67,
   "metadata": {},
   "outputs": [
    {
     "data": {
      "text/html": [
       "<div>\n",
       "<style scoped>\n",
       "    .dataframe tbody tr th:only-of-type {\n",
       "        vertical-align: middle;\n",
       "    }\n",
       "\n",
       "    .dataframe tbody tr th {\n",
       "        vertical-align: top;\n",
       "    }\n",
       "\n",
       "    .dataframe thead th {\n",
       "        text-align: right;\n",
       "    }\n",
       "</style>\n",
       "<table border=\"1\" class=\"dataframe\">\n",
       "  <thead>\n",
       "    <tr style=\"text-align: right;\">\n",
       "      <th></th>\n",
       "      <th>total_sales</th>\n",
       "      <th>critic_score</th>\n",
       "      <th>user_score</th>\n",
       "    </tr>\n",
       "  </thead>\n",
       "  <tbody>\n",
       "    <tr>\n",
       "      <td>total_sales</td>\n",
       "      <td>1.000000</td>\n",
       "      <td>0.360573</td>\n",
       "      <td>0.006164</td>\n",
       "    </tr>\n",
       "    <tr>\n",
       "      <td>critic_score</td>\n",
       "      <td>0.360573</td>\n",
       "      <td>1.000000</td>\n",
       "      <td>0.557352</td>\n",
       "    </tr>\n",
       "    <tr>\n",
       "      <td>user_score</td>\n",
       "      <td>0.006164</td>\n",
       "      <td>0.557352</td>\n",
       "      <td>1.000000</td>\n",
       "    </tr>\n",
       "  </tbody>\n",
       "</table>\n",
       "</div>"
      ],
      "text/plain": [
       "              total_sales  critic_score  user_score\n",
       "total_sales      1.000000      0.360573    0.006164\n",
       "critic_score     0.360573      1.000000    0.557352\n",
       "user_score       0.006164      0.557352    1.000000"
      ]
     },
     "execution_count": 67,
     "metadata": {},
     "output_type": "execute_result"
    }
   ],
   "source": [
    "sales_scores_X360 = actual_platform.query('platform ==\"X360\"') \n",
    "sales_ratings_X360 = sales_scores_X360.loc[:,['total_sales', 'critic_score', 'user_score']]\n",
    "sales_ratings_X360.corr()"
   ]
  },
  {
   "cell_type": "code",
   "execution_count": 68,
   "metadata": {},
   "outputs": [
    {
     "data": {
      "text/plain": [
       "array([[<matplotlib.axes._subplots.AxesSubplot object at 0x7f94c8fa3f90>,\n",
       "        <matplotlib.axes._subplots.AxesSubplot object at 0x7f94c8eece10>,\n",
       "        <matplotlib.axes._subplots.AxesSubplot object at 0x7f94c8f22ad0>],\n",
       "       [<matplotlib.axes._subplots.AxesSubplot object at 0x7f94c8ee1e10>,\n",
       "        <matplotlib.axes._subplots.AxesSubplot object at 0x7f94c8e98ad0>,\n",
       "        <matplotlib.axes._subplots.AxesSubplot object at 0x7f94c8e58e50>],\n",
       "       [<matplotlib.axes._subplots.AxesSubplot object at 0x7f94c99e47d0>,\n",
       "        <matplotlib.axes._subplots.AxesSubplot object at 0x7f94c8e23fd0>,\n",
       "        <matplotlib.axes._subplots.AxesSubplot object at 0x7f94c8dafb50>]],\n",
       "      dtype=object)"
      ]
     },
     "execution_count": 68,
     "metadata": {},
     "output_type": "execute_result"
    },
    {
     "data": {
      "image/png": "[encoded data removed]",
      "text/plain": [
       "<Figure size 1080x1080 with 9 Axes>"
      ]
     },
     "metadata": {
      "needs_background": "light"
     },
     "output_type": "display_data"
    }
   ],
   "source": [
    "pd.plotting.scatter_matrix(sales_ratings_X360, figsize=(15, 15))"
   ]
  },
  {
   "cell_type": "markdown",
   "metadata": {},
   "source": [
    " Таблица сопряженности показывает нам, что связь между продажами и отзывами критиков - слабая положительная, между продажами и отзывами пользователей линейная связь практически отсутсвует."
   ]
  },
  {
   "cell_type": "markdown",
   "metadata": {},
   "source": [
    "Изучим, как влияют на продажи внутри платформы 3DS отзывы пользователей и критиков."
   ]
  },
  {
   "cell_type": "code",
   "execution_count": 21,
   "metadata": {},
   "outputs": [
    {
     "data": {
      "text/html": [
       "<div>\n",
       "<style scoped>\n",
       "    .dataframe tbody tr th:only-of-type {\n",
       "        vertical-align: middle;\n",
       "    }\n",
       "\n",
       "    .dataframe tbody tr th {\n",
       "        vertical-align: top;\n",
       "    }\n",
       "\n",
       "    .dataframe thead th {\n",
       "        text-align: right;\n",
       "    }\n",
       "</style>\n",
       "<table border=\"1\" class=\"dataframe\">\n",
       "  <thead>\n",
       "    <tr style=\"text-align: right;\">\n",
       "      <th></th>\n",
       "      <th>total_sales</th>\n",
       "      <th>critic_score</th>\n",
       "      <th>user_score</th>\n",
       "    </tr>\n",
       "  </thead>\n",
       "  <tbody>\n",
       "    <tr>\n",
       "      <td>total_sales</td>\n",
       "      <td>1.000000</td>\n",
       "      <td>0.320803</td>\n",
       "      <td>0.197583</td>\n",
       "    </tr>\n",
       "    <tr>\n",
       "      <td>critic_score</td>\n",
       "      <td>0.320803</td>\n",
       "      <td>1.000000</td>\n",
       "      <td>0.722762</td>\n",
       "    </tr>\n",
       "    <tr>\n",
       "      <td>user_score</td>\n",
       "      <td>0.197583</td>\n",
       "      <td>0.722762</td>\n",
       "      <td>1.000000</td>\n",
       "    </tr>\n",
       "  </tbody>\n",
       "</table>\n",
       "</div>"
      ],
      "text/plain": [
       "              total_sales  critic_score  user_score\n",
       "total_sales      1.000000      0.320803    0.197583\n",
       "critic_score     0.320803      1.000000    0.722762\n",
       "user_score       0.197583      0.722762    1.000000"
      ]
     },
     "execution_count": 21,
     "metadata": {},
     "output_type": "execute_result"
    }
   ],
   "source": [
    "sales_scores_3DS = actual_platform.query('platform ==\"3DS\"') \n",
    "sales_ratings_3DS = sales_scores_3DS.loc[:,['total_sales', 'critic_score', 'user_score']]\n",
    "sales_ratings_3DS.corr()"
   ]
  },
  {
   "cell_type": "code",
   "execution_count": 22,
   "metadata": {},
   "outputs": [
    {
     "data": {
      "text/plain": [
       "array([[<matplotlib.axes._subplots.AxesSubplot object at 0x7facf362a210>,\n",
       "        <matplotlib.axes._subplots.AxesSubplot object at 0x7facf35d5e50>,\n",
       "        <matplotlib.axes._subplots.AxesSubplot object at 0x7facf3589610>],\n",
       "       [<matplotlib.axes._subplots.AxesSubplot object at 0x7facf35bde10>,\n",
       "        <matplotlib.axes._subplots.AxesSubplot object at 0x7facf357d610>,\n",
       "        <matplotlib.axes._subplots.AxesSubplot object at 0x7facf3530e10>],\n",
       "       [<matplotlib.axes._subplots.AxesSubplot object at 0x7facf34f3650>,\n",
       "        <matplotlib.axes._subplots.AxesSubplot object at 0x7facf34a5e50>,\n",
       "        <matplotlib.axes._subplots.AxesSubplot object at 0x7facf34af9d0>]],\n",
       "      dtype=object)"
      ]
     },
     "execution_count": 22,
     "metadata": {},
     "output_type": "execute_result"
    },
    {
     "data": {
      "image/png": "[encoded data removed]",
      "text/plain": [
       "<Figure size 1080x1080 with 9 Axes>"
      ]
     },
     "metadata": {
      "needs_background": "light"
     },
     "output_type": "display_data"
    }
   ],
   "source": [
    "pd.plotting.scatter_matrix(sales_ratings_3DS, figsize=(15, 15))"
   ]
  },
  {
   "cell_type": "markdown",
   "metadata": {},
   "source": [
    "Таблица сопряженности показывает нам, что связь между продажами и отзывами критиков (а также пользователей) - слабая положительная."
   ]
  },
  {
   "cell_type": "markdown",
   "metadata": {},
   "source": [
    "Изучим, как влияют на продажи внутри платформы PS4 отзывы пользователей и критиков."
   ]
  },
  {
   "cell_type": "code",
   "execution_count": 69,
   "metadata": {},
   "outputs": [
    {
     "data": {
      "text/html": [
       "<div>\n",
       "<style scoped>\n",
       "    .dataframe tbody tr th:only-of-type {\n",
       "        vertical-align: middle;\n",
       "    }\n",
       "\n",
       "    .dataframe tbody tr th {\n",
       "        vertical-align: top;\n",
       "    }\n",
       "\n",
       "    .dataframe thead th {\n",
       "        text-align: right;\n",
       "    }\n",
       "</style>\n",
       "<table border=\"1\" class=\"dataframe\">\n",
       "  <thead>\n",
       "    <tr style=\"text-align: right;\">\n",
       "      <th></th>\n",
       "      <th>total_sales</th>\n",
       "      <th>critic_score</th>\n",
       "      <th>user_score</th>\n",
       "    </tr>\n",
       "  </thead>\n",
       "  <tbody>\n",
       "    <tr>\n",
       "      <td>total_sales</td>\n",
       "      <td>1.000000</td>\n",
       "      <td>0.406568</td>\n",
       "      <td>-0.031957</td>\n",
       "    </tr>\n",
       "    <tr>\n",
       "      <td>critic_score</td>\n",
       "      <td>0.406568</td>\n",
       "      <td>1.000000</td>\n",
       "      <td>0.557654</td>\n",
       "    </tr>\n",
       "    <tr>\n",
       "      <td>user_score</td>\n",
       "      <td>-0.031957</td>\n",
       "      <td>0.557654</td>\n",
       "      <td>1.000000</td>\n",
       "    </tr>\n",
       "  </tbody>\n",
       "</table>\n",
       "</div>"
      ],
      "text/plain": [
       "              total_sales  critic_score  user_score\n",
       "total_sales      1.000000      0.406568   -0.031957\n",
       "critic_score     0.406568      1.000000    0.557654\n",
       "user_score      -0.031957      0.557654    1.000000"
      ]
     },
     "execution_count": 69,
     "metadata": {},
     "output_type": "execute_result"
    }
   ],
   "source": [
    "sales_scores_PS4 = actual_platform.query('platform ==\"PS4\"') \n",
    "sales_ratings_PS4 = sales_scores_PS4.loc[:,['total_sales', 'critic_score', 'user_score']]\n",
    "sales_ratings_PS4.corr()"
   ]
  },
  {
   "cell_type": "code",
   "execution_count": 24,
   "metadata": {},
   "outputs": [
    {
     "data": {
      "text/plain": [
       "array([[<matplotlib.axes._subplots.AxesSubplot object at 0x7facf2f2fbd0>,\n",
       "        <matplotlib.axes._subplots.AxesSubplot object at 0x7facf2ef1790>,\n",
       "        <matplotlib.axes._subplots.AxesSubplot object at 0x7facf2f14f50>],\n",
       "       [<matplotlib.axes._subplots.AxesSubplot object at 0x7facf2ed3790>,\n",
       "        <matplotlib.axes._subplots.AxesSubplot object at 0x7facf2e82f90>,\n",
       "        <matplotlib.axes._subplots.AxesSubplot object at 0x7facf2e417d0>],\n",
       "       [<matplotlib.axes._subplots.AxesSubplot object at 0x7facf2df0fd0>,\n",
       "        <matplotlib.axes._subplots.AxesSubplot object at 0x7facf2db3810>,\n",
       "        <matplotlib.axes._subplots.AxesSubplot object at 0x7facf2dbd390>]],\n",
       "      dtype=object)"
      ]
     },
     "execution_count": 24,
     "metadata": {},
     "output_type": "execute_result"
    },
    {
     "data": {
      "image/png": "[encoded data removed]",
      "text/plain": [
       "<Figure size 1080x1080 with 9 Axes>"
      ]
     },
     "metadata": {
      "needs_background": "light"
     },
     "output_type": "display_data"
    }
   ],
   "source": [
    "pd.plotting.scatter_matrix(sales_ratings_PS4, figsize=(15, 15))"
   ]
  },
  {
   "cell_type": "markdown",
   "metadata": {},
   "source": [
    "Таблица сопряженности показывает нам, что связь между продажами и отзывами критиков - слабая положительная, а между продажами и пользоателями она практически отсутствует."
   ]
  },
  {
   "cell_type": "markdown",
   "metadata": {},
   "source": [
    "Изучим, как влияют на продажи внутри платформы XOne отзывы пользователей и критиков."
   ]
  },
  {
   "cell_type": "code",
   "execution_count": 70,
   "metadata": {},
   "outputs": [
    {
     "data": {
      "text/html": [
       "<div>\n",
       "<style scoped>\n",
       "    .dataframe tbody tr th:only-of-type {\n",
       "        vertical-align: middle;\n",
       "    }\n",
       "\n",
       "    .dataframe tbody tr th {\n",
       "        vertical-align: top;\n",
       "    }\n",
       "\n",
       "    .dataframe thead th {\n",
       "        text-align: right;\n",
       "    }\n",
       "</style>\n",
       "<table border=\"1\" class=\"dataframe\">\n",
       "  <thead>\n",
       "    <tr style=\"text-align: right;\">\n",
       "      <th></th>\n",
       "      <th>total_sales</th>\n",
       "      <th>critic_score</th>\n",
       "      <th>user_score</th>\n",
       "    </tr>\n",
       "  </thead>\n",
       "  <tbody>\n",
       "    <tr>\n",
       "      <td>total_sales</td>\n",
       "      <td>1.000000</td>\n",
       "      <td>0.416998</td>\n",
       "      <td>-0.068925</td>\n",
       "    </tr>\n",
       "    <tr>\n",
       "      <td>critic_score</td>\n",
       "      <td>0.416998</td>\n",
       "      <td>1.000000</td>\n",
       "      <td>0.472462</td>\n",
       "    </tr>\n",
       "    <tr>\n",
       "      <td>user_score</td>\n",
       "      <td>-0.068925</td>\n",
       "      <td>0.472462</td>\n",
       "      <td>1.000000</td>\n",
       "    </tr>\n",
       "  </tbody>\n",
       "</table>\n",
       "</div>"
      ],
      "text/plain": [
       "              total_sales  critic_score  user_score\n",
       "total_sales      1.000000      0.416998   -0.068925\n",
       "critic_score     0.416998      1.000000    0.472462\n",
       "user_score      -0.068925      0.472462    1.000000"
      ]
     },
     "execution_count": 70,
     "metadata": {},
     "output_type": "execute_result"
    }
   ],
   "source": [
    "sales_scores_XOne = actual_platform.query('platform ==\"XOne\"') \n",
    "sales_ratings_XOne = sales_scores_XOne.loc[:,['total_sales', 'critic_score', 'user_score']]\n",
    "sales_ratings_XOne.corr()"
   ]
  },
  {
   "cell_type": "code",
   "execution_count": 72,
   "metadata": {},
   "outputs": [
    {
     "data": {
      "text/plain": [
       "array([[<matplotlib.axes._subplots.AxesSubplot object at 0x7f94c871fbd0>,\n",
       "        <matplotlib.axes._subplots.AxesSubplot object at 0x7f94c86d9950>,\n",
       "        <matplotlib.axes._subplots.AxesSubplot object at 0x7f94c8b7cf50>],\n",
       "       [<matplotlib.axes._subplots.AxesSubplot object at 0x7f94c8b3f790>,\n",
       "        <matplotlib.axes._subplots.AxesSubplot object at 0x7f94c8af2f90>,\n",
       "        <matplotlib.axes._subplots.AxesSubplot object at 0x7f94c8ab27d0>],\n",
       "       [<matplotlib.axes._subplots.AxesSubplot object at 0x7f94c8ae5fd0>,\n",
       "        <matplotlib.axes._subplots.AxesSubplot object at 0x7f94c8a27810>,\n",
       "        <matplotlib.axes._subplots.AxesSubplot object at 0x7f94c8a32390>]],\n",
       "      dtype=object)"
      ]
     },
     "execution_count": 72,
     "metadata": {},
     "output_type": "execute_result"
    },
    {
     "data": {
      "image/png": "[encoded data removed]",
      "text/plain": [
       "<Figure size 1080x1080 with 9 Axes>"
      ]
     },
     "metadata": {
      "needs_background": "light"
     },
     "output_type": "display_data"
    }
   ],
   "source": [
    "pd.plotting.scatter_matrix(sales_ratings_XOne, figsize=(15, 15))"
   ]
  },
  {
   "cell_type": "markdown",
   "metadata": {},
   "source": [
    "Таблица сопряженности показывает нам, что связь между продажами и отзывами критиков слабая положительная, а между продажами и оценкой пользователей практически полностью отсутсвует."
   ]
  },
  {
   "cell_type": "markdown",
   "metadata": {},
   "source": [
    "Изучим общее распределение игр по жанрам за актуальный период."
   ]
  },
  {
   "cell_type": "code",
   "execution_count": 73,
   "metadata": {},
   "outputs": [
    {
     "data": {
      "text/html": [
       "<div>\n",
       "<style scoped>\n",
       "    .dataframe tbody tr th:only-of-type {\n",
       "        vertical-align: middle;\n",
       "    }\n",
       "\n",
       "    .dataframe tbody tr th {\n",
       "        vertical-align: top;\n",
       "    }\n",
       "\n",
       "    .dataframe thead th {\n",
       "        text-align: right;\n",
       "    }\n",
       "</style>\n",
       "<table border=\"1\" class=\"dataframe\">\n",
       "  <thead>\n",
       "    <tr style=\"text-align: right;\">\n",
       "      <th></th>\n",
       "      <th>genre</th>\n",
       "      <th>total_sales</th>\n",
       "    </tr>\n",
       "  </thead>\n",
       "  <tbody>\n",
       "    <tr>\n",
       "      <td>0</td>\n",
       "      <td>Action</td>\n",
       "      <td>441.12</td>\n",
       "    </tr>\n",
       "    <tr>\n",
       "      <td>1</td>\n",
       "      <td>Shooter</td>\n",
       "      <td>304.73</td>\n",
       "    </tr>\n",
       "    <tr>\n",
       "      <td>2</td>\n",
       "      <td>Role-Playing</td>\n",
       "      <td>192.80</td>\n",
       "    </tr>\n",
       "    <tr>\n",
       "      <td>3</td>\n",
       "      <td>Sports</td>\n",
       "      <td>181.07</td>\n",
       "    </tr>\n",
       "    <tr>\n",
       "      <td>4</td>\n",
       "      <td>Misc</td>\n",
       "      <td>85.04</td>\n",
       "    </tr>\n",
       "    <tr>\n",
       "      <td>5</td>\n",
       "      <td>Platform</td>\n",
       "      <td>61.00</td>\n",
       "    </tr>\n",
       "    <tr>\n",
       "      <td>6</td>\n",
       "      <td>Racing</td>\n",
       "      <td>53.50</td>\n",
       "    </tr>\n",
       "    <tr>\n",
       "      <td>7</td>\n",
       "      <td>Fighting</td>\n",
       "      <td>44.49</td>\n",
       "    </tr>\n",
       "    <tr>\n",
       "      <td>8</td>\n",
       "      <td>Simulation</td>\n",
       "      <td>35.12</td>\n",
       "    </tr>\n",
       "    <tr>\n",
       "      <td>9</td>\n",
       "      <td>Adventure</td>\n",
       "      <td>29.43</td>\n",
       "    </tr>\n",
       "    <tr>\n",
       "      <td>10</td>\n",
       "      <td>Strategy</td>\n",
       "      <td>13.34</td>\n",
       "    </tr>\n",
       "    <tr>\n",
       "      <td>11</td>\n",
       "      <td>Puzzle</td>\n",
       "      <td>4.89</td>\n",
       "    </tr>\n",
       "  </tbody>\n",
       "</table>\n",
       "</div>"
      ],
      "text/plain": [
       "           genre  total_sales\n",
       "0         Action       441.12\n",
       "1        Shooter       304.73\n",
       "2   Role-Playing       192.80\n",
       "3         Sports       181.07\n",
       "4           Misc        85.04\n",
       "5       Platform        61.00\n",
       "6         Racing        53.50\n",
       "7       Fighting        44.49\n",
       "8     Simulation        35.12\n",
       "9      Adventure        29.43\n",
       "10      Strategy        13.34\n",
       "11        Puzzle         4.89"
      ]
     },
     "execution_count": 73,
     "metadata": {},
     "output_type": "execute_result"
    }
   ],
   "source": [
    "actual = data.query('year_of_release >= 2012')\n",
    "data_genres = actual.pivot_table(index ='genre', values = 'total_sales', aggfunc = 'sum').sort_values(by = 'total_sales', ascending = False).reset_index()\n",
    "data_genres"
   ]
  },
  {
   "cell_type": "code",
   "execution_count": 74,
   "metadata": {},
   "outputs": [
    {
     "data": {
      "text/plain": [
       "Text(0.5, 0, 'жанр игры')"
      ]
     },
     "execution_count": 74,
     "metadata": {},
     "output_type": "execute_result"
    },
    {
     "data": {
      "image/png": "[encoded data removed]",
      "text/plain": [
       "<Figure size 720x432 with 1 Axes>"
      ]
     },
     "metadata": {
      "needs_background": "light"
     },
     "output_type": "display_data"
    }
   ],
   "source": [
    "plt = data_genres.plot(y = 'total_sales', x ='genre', kind = 'bar', figsize = (10,6), color = 'y')\n",
    "plt.set_title(\"Распределение жанров игр по количеству продаж\")\n",
    "plt.set_ylabel('количество продаж')\n",
    "plt.set_xlabel('жанр игры')"
   ]
  },
  {
   "cell_type": "markdown",
   "metadata": {},
   "source": [
    "Среди самых прибыльных жанров можно отметить action, shooter и role-playing, среди наименее прибыльных - adventure, strategy, puzzle. Тем не менее, можно предположить, что игры некоторых жанров столь продаваемы только за счет большего количества игр и большого количества бестселлеров - проверим это, проанализировав медианные продажи игр по жанрам."
   ]
  },
  {
   "cell_type": "code",
   "execution_count": 47,
   "metadata": {},
   "outputs": [
    {
     "data": {
      "text/html": [
       "<div>\n",
       "<style scoped>\n",
       "    .dataframe tbody tr th:only-of-type {\n",
       "        vertical-align: middle;\n",
       "    }\n",
       "\n",
       "    .dataframe tbody tr th {\n",
       "        vertical-align: top;\n",
       "    }\n",
       "\n",
       "    .dataframe thead th {\n",
       "        text-align: right;\n",
       "    }\n",
       "</style>\n",
       "<table border=\"1\" class=\"dataframe\">\n",
       "  <thead>\n",
       "    <tr style=\"text-align: right;\">\n",
       "      <th></th>\n",
       "      <th>genre</th>\n",
       "      <th>total_sales</th>\n",
       "    </tr>\n",
       "  </thead>\n",
       "  <tbody>\n",
       "    <tr>\n",
       "      <td>0</td>\n",
       "      <td>Shooter</td>\n",
       "      <td>0.440</td>\n",
       "    </tr>\n",
       "    <tr>\n",
       "      <td>1</td>\n",
       "      <td>Sports</td>\n",
       "      <td>0.240</td>\n",
       "    </tr>\n",
       "    <tr>\n",
       "      <td>2</td>\n",
       "      <td>Platform</td>\n",
       "      <td>0.210</td>\n",
       "    </tr>\n",
       "    <tr>\n",
       "      <td>3</td>\n",
       "      <td>Role-Playing</td>\n",
       "      <td>0.140</td>\n",
       "    </tr>\n",
       "    <tr>\n",
       "      <td>4</td>\n",
       "      <td>Racing</td>\n",
       "      <td>0.140</td>\n",
       "    </tr>\n",
       "    <tr>\n",
       "      <td>5</td>\n",
       "      <td>Fighting</td>\n",
       "      <td>0.130</td>\n",
       "    </tr>\n",
       "    <tr>\n",
       "      <td>6</td>\n",
       "      <td>Action</td>\n",
       "      <td>0.120</td>\n",
       "    </tr>\n",
       "    <tr>\n",
       "      <td>7</td>\n",
       "      <td>Misc</td>\n",
       "      <td>0.120</td>\n",
       "    </tr>\n",
       "    <tr>\n",
       "      <td>8</td>\n",
       "      <td>Simulation</td>\n",
       "      <td>0.120</td>\n",
       "    </tr>\n",
       "    <tr>\n",
       "      <td>9</td>\n",
       "      <td>Strategy</td>\n",
       "      <td>0.080</td>\n",
       "    </tr>\n",
       "    <tr>\n",
       "      <td>10</td>\n",
       "      <td>Puzzle</td>\n",
       "      <td>0.045</td>\n",
       "    </tr>\n",
       "    <tr>\n",
       "      <td>11</td>\n",
       "      <td>Adventure</td>\n",
       "      <td>0.030</td>\n",
       "    </tr>\n",
       "  </tbody>\n",
       "</table>\n",
       "</div>"
      ],
      "text/plain": [
       "           genre  total_sales\n",
       "0        Shooter        0.440\n",
       "1         Sports        0.240\n",
       "2       Platform        0.210\n",
       "3   Role-Playing        0.140\n",
       "4         Racing        0.140\n",
       "5       Fighting        0.130\n",
       "6         Action        0.120\n",
       "7           Misc        0.120\n",
       "8     Simulation        0.120\n",
       "9       Strategy        0.080\n",
       "10        Puzzle        0.045\n",
       "11     Adventure        0.030"
      ]
     },
     "execution_count": 47,
     "metadata": {},
     "output_type": "execute_result"
    }
   ],
   "source": [
    "data_genres_median = actual.pivot_table(index ='genre', values = 'total_sales', aggfunc = 'median').sort_values(by = 'total_sales', ascending = False).reset_index()\n",
    "data_genres_median"
   ]
  },
  {
   "cell_type": "code",
   "execution_count": 49,
   "metadata": {},
   "outputs": [
    {
     "data": {
      "text/plain": [
       "Text(0.5, 0, 'жанр игры')"
      ]
     },
     "execution_count": 49,
     "metadata": {},
     "output_type": "execute_result"
    },
    {
     "data": {
      "image/png": "[encoded data removed]",
      "text/plain": [
       "<Figure size 720x432 with 1 Axes>"
      ]
     },
     "metadata": {
      "needs_background": "light"
     },
     "output_type": "display_data"
    }
   ],
   "source": [
    "plt = data_genres_median.plot(y = 'total_sales', x ='genre', kind = 'bar', figsize = (10,6), color = 'y')\n",
    "plt.set_title(\"Распределение жанров игр по медианному количеству продаж\")\n",
    "plt.set_ylabel('количество продаж')\n",
    "plt.set_xlabel('жанр игры')"
   ]
  },
  {
   "cell_type": "markdown",
   "metadata": {},
   "source": [
    "Как видно из графика, медианные продажи несколько изменили жанровое распределение: среди самых продаваемых жанров - shooter, sports и platform,  в то время как лидер нашего прошлого рейтинга - action далеко не в топе, соответственно, наше предположение подтвердилось."
   ]
  },
  {
   "cell_type": "markdown",
   "metadata": {},
   "source": [
    "### Вывод"
   ]
  },
  {
   "cell_type": "markdown",
   "metadata": {},
   "source": [
    "По итогам исследовательского анализа данных можно сделать следующие выводы: \n",
    "1. индустрия компьютерных игр начала особенно бурно расти с 2000-х г.,но к 2016 г. наблюдается спад в развитии, который может быть связан с общей тенденцией к более здоровму образу жизни и смене способов отдыха;\n",
    "2. наиболее прибыльные платформы, обеспечивающие продажи компьютерных игр -  PS4, PS3, X360, 3DS и XOne;\n",
    "3. наиболее популярные жанры компьютерных игр - шутеры, спортивные соревнования и \"ролевые\" игры, что связано с общей спецификой компьтерных игр - делая выбор в пользу паралелльной, человек, как правило, стремится уйти в другой мир (примерить на себя другую жизнь) или выплеснуть агрессию на существующий мир;\n",
    "4. на продажи компьютерных игр отзывы зрителей и критиков практически не влияют.\n",
    "\n",
    "Перейдем к анализу портрета \"потребителя\" изучаемого продукта."
   ]
  },
  {
   "cell_type": "markdown",
   "metadata": {},
   "source": [
    "## Составление протрета пользователя каждого региона"
   ]
  },
  {
   "cell_type": "code",
   "execution_count": 75,
   "metadata": {},
   "outputs": [
    {
     "data": {
      "text/html": [
       "<div>\n",
       "<style scoped>\n",
       "    .dataframe tbody tr th:only-of-type {\n",
       "        vertical-align: middle;\n",
       "    }\n",
       "\n",
       "    .dataframe tbody tr th {\n",
       "        vertical-align: top;\n",
       "    }\n",
       "\n",
       "    .dataframe thead th {\n",
       "        text-align: right;\n",
       "    }\n",
       "</style>\n",
       "<table border=\"1\" class=\"dataframe\">\n",
       "  <thead>\n",
       "    <tr style=\"text-align: right;\">\n",
       "      <th></th>\n",
       "      <th>na_sales</th>\n",
       "      <th>percent</th>\n",
       "    </tr>\n",
       "    <tr>\n",
       "      <th>platform</th>\n",
       "      <th></th>\n",
       "      <th></th>\n",
       "    </tr>\n",
       "  </thead>\n",
       "  <tbody>\n",
       "    <tr>\n",
       "      <td>X360</td>\n",
       "      <td>140.05</td>\n",
       "      <td>23.698326</td>\n",
       "    </tr>\n",
       "    <tr>\n",
       "      <td>PS4</td>\n",
       "      <td>108.74</td>\n",
       "      <td>18.400257</td>\n",
       "    </tr>\n",
       "    <tr>\n",
       "      <td>PS3</td>\n",
       "      <td>103.38</td>\n",
       "      <td>17.493274</td>\n",
       "    </tr>\n",
       "    <tr>\n",
       "      <td>XOne</td>\n",
       "      <td>93.12</td>\n",
       "      <td>15.757145</td>\n",
       "    </tr>\n",
       "    <tr>\n",
       "      <td>3DS</td>\n",
       "      <td>55.31</td>\n",
       "      <td>9.359189</td>\n",
       "    </tr>\n",
       "  </tbody>\n",
       "</table>\n",
       "</div>"
      ],
      "text/plain": [
       "          na_sales    percent\n",
       "platform                     \n",
       "X360        140.05  23.698326\n",
       "PS4         108.74  18.400257\n",
       "PS3         103.38  17.493274\n",
       "XOne         93.12  15.757145\n",
       "3DS          55.31   9.359189"
      ]
     },
     "execution_count": 75,
     "metadata": {},
     "output_type": "execute_result"
    }
   ],
   "source": [
    "actual = data.query('year_of_release >= 2012')\n",
    "na_sales = actual.pivot_table(index = 'platform', values ='na_sales', aggfunc = 'sum').sort_values(by= 'na_sales', ascending = False)\n",
    "na_sales['percent'] = na_sales['na_sales']/(sum(na_sales['na_sales']))*100\n",
    "na_sales.head(5)"
   ]
  },
  {
   "cell_type": "code",
   "execution_count": 76,
   "metadata": {},
   "outputs": [
    {
     "data": {
      "text/html": [
       "<div>\n",
       "<style scoped>\n",
       "    .dataframe tbody tr th:only-of-type {\n",
       "        vertical-align: middle;\n",
       "    }\n",
       "\n",
       "    .dataframe tbody tr th {\n",
       "        vertical-align: top;\n",
       "    }\n",
       "\n",
       "    .dataframe thead th {\n",
       "        text-align: right;\n",
       "    }\n",
       "</style>\n",
       "<table border=\"1\" class=\"dataframe\">\n",
       "  <thead>\n",
       "    <tr style=\"text-align: right;\">\n",
       "      <th></th>\n",
       "      <th>eu_sales</th>\n",
       "      <th>percent</th>\n",
       "    </tr>\n",
       "    <tr>\n",
       "      <th>platform</th>\n",
       "      <th></th>\n",
       "      <th></th>\n",
       "    </tr>\n",
       "  </thead>\n",
       "  <tbody>\n",
       "    <tr>\n",
       "      <td>PS4</td>\n",
       "      <td>141.09</td>\n",
       "      <td>27.838286</td>\n",
       "    </tr>\n",
       "    <tr>\n",
       "      <td>PS3</td>\n",
       "      <td>106.86</td>\n",
       "      <td>21.084409</td>\n",
       "    </tr>\n",
       "    <tr>\n",
       "      <td>X360</td>\n",
       "      <td>74.52</td>\n",
       "      <td>14.703445</td>\n",
       "    </tr>\n",
       "    <tr>\n",
       "      <td>XOne</td>\n",
       "      <td>51.59</td>\n",
       "      <td>10.179156</td>\n",
       "    </tr>\n",
       "    <tr>\n",
       "      <td>3DS</td>\n",
       "      <td>42.64</td>\n",
       "      <td>8.413243</td>\n",
       "    </tr>\n",
       "  </tbody>\n",
       "</table>\n",
       "</div>"
      ],
      "text/plain": [
       "          eu_sales    percent\n",
       "platform                     \n",
       "PS4         141.09  27.838286\n",
       "PS3         106.86  21.084409\n",
       "X360         74.52  14.703445\n",
       "XOne         51.59  10.179156\n",
       "3DS          42.64   8.413243"
      ]
     },
     "execution_count": 76,
     "metadata": {},
     "output_type": "execute_result"
    }
   ],
   "source": [
    "eu_sales = actual.pivot_table(index = 'platform', values ='eu_sales', aggfunc = 'sum').sort_values(by= 'eu_sales', ascending = False)\n",
    "eu_sales['percent'] = eu_sales['eu_sales']/(sum(eu_sales['eu_sales']))*100\n",
    "eu_sales.head(5)"
   ]
  },
  {
   "cell_type": "code",
   "execution_count": 77,
   "metadata": {},
   "outputs": [
    {
     "data": {
      "text/html": [
       "<div>\n",
       "<style scoped>\n",
       "    .dataframe tbody tr th:only-of-type {\n",
       "        vertical-align: middle;\n",
       "    }\n",
       "\n",
       "    .dataframe tbody tr th {\n",
       "        vertical-align: top;\n",
       "    }\n",
       "\n",
       "    .dataframe thead th {\n",
       "        text-align: right;\n",
       "    }\n",
       "</style>\n",
       "<table border=\"1\" class=\"dataframe\">\n",
       "  <thead>\n",
       "    <tr style=\"text-align: right;\">\n",
       "      <th></th>\n",
       "      <th>jp_sales</th>\n",
       "      <th>percent</th>\n",
       "    </tr>\n",
       "    <tr>\n",
       "      <th>platform</th>\n",
       "      <th></th>\n",
       "      <th></th>\n",
       "    </tr>\n",
       "  </thead>\n",
       "  <tbody>\n",
       "    <tr>\n",
       "      <td>3DS</td>\n",
       "      <td>87.79</td>\n",
       "      <td>45.586250</td>\n",
       "    </tr>\n",
       "    <tr>\n",
       "      <td>PS3</td>\n",
       "      <td>35.29</td>\n",
       "      <td>18.324852</td>\n",
       "    </tr>\n",
       "    <tr>\n",
       "      <td>PSV</td>\n",
       "      <td>21.04</td>\n",
       "      <td>10.925330</td>\n",
       "    </tr>\n",
       "    <tr>\n",
       "      <td>PS4</td>\n",
       "      <td>15.96</td>\n",
       "      <td>8.287465</td>\n",
       "    </tr>\n",
       "    <tr>\n",
       "      <td>WiiU</td>\n",
       "      <td>13.01</td>\n",
       "      <td>6.755634</td>\n",
       "    </tr>\n",
       "  </tbody>\n",
       "</table>\n",
       "</div>"
      ],
      "text/plain": [
       "          jp_sales    percent\n",
       "platform                     \n",
       "3DS          87.79  45.586250\n",
       "PS3          35.29  18.324852\n",
       "PSV          21.04  10.925330\n",
       "PS4          15.96   8.287465\n",
       "WiiU         13.01   6.755634"
      ]
     },
     "execution_count": 77,
     "metadata": {},
     "output_type": "execute_result"
    }
   ],
   "source": [
    "jp_sales = actual.pivot_table(index = 'platform', values ='jp_sales', aggfunc = 'sum').sort_values(by= 'jp_sales', ascending = False)\n",
    "jp_sales['percent'] = jp_sales['jp_sales']/(sum(jp_sales['jp_sales']))*100\n",
    "jp_sales.head(5)"
   ]
  },
  {
   "cell_type": "markdown",
   "metadata": {},
   "source": [
    "Соответственно, среди лидеров-платформ европейского и американского рынка - X360, PS4 и PS3, в то время как японского - 3DS, PS3 и PSV. Можно отметить, что японцы предпочитают портативные консоли и игры, созданные на родном рынке."
   ]
  },
  {
   "cell_type": "code",
   "execution_count": 32,
   "metadata": {},
   "outputs": [
    {
     "data": {
      "text/html": [
       "<div>\n",
       "<style scoped>\n",
       "    .dataframe tbody tr th:only-of-type {\n",
       "        vertical-align: middle;\n",
       "    }\n",
       "\n",
       "    .dataframe tbody tr th {\n",
       "        vertical-align: top;\n",
       "    }\n",
       "\n",
       "    .dataframe thead th {\n",
       "        text-align: right;\n",
       "    }\n",
       "</style>\n",
       "<table border=\"1\" class=\"dataframe\">\n",
       "  <thead>\n",
       "    <tr style=\"text-align: right;\">\n",
       "      <th></th>\n",
       "      <th>na_sales</th>\n",
       "    </tr>\n",
       "    <tr>\n",
       "      <th>genre</th>\n",
       "      <th></th>\n",
       "    </tr>\n",
       "  </thead>\n",
       "  <tbody>\n",
       "    <tr>\n",
       "      <td>Action</td>\n",
       "      <td>177.84</td>\n",
       "    </tr>\n",
       "    <tr>\n",
       "      <td>Shooter</td>\n",
       "      <td>144.77</td>\n",
       "    </tr>\n",
       "    <tr>\n",
       "      <td>Sports</td>\n",
       "      <td>81.53</td>\n",
       "    </tr>\n",
       "    <tr>\n",
       "      <td>Role-Playing</td>\n",
       "      <td>64.00</td>\n",
       "    </tr>\n",
       "    <tr>\n",
       "      <td>Misc</td>\n",
       "      <td>38.19</td>\n",
       "    </tr>\n",
       "  </tbody>\n",
       "</table>\n",
       "</div>"
      ],
      "text/plain": [
       "              na_sales\n",
       "genre                 \n",
       "Action          177.84\n",
       "Shooter         144.77\n",
       "Sports           81.53\n",
       "Role-Playing     64.00\n",
       "Misc             38.19"
      ]
     },
     "execution_count": 32,
     "metadata": {},
     "output_type": "execute_result"
    }
   ],
   "source": [
    "genres_na = actual.pivot_table(index = 'genre', values = 'na_sales', aggfunc = 'sum')\n",
    "genres_na.sort_values(by = 'na_sales', ascending = False).head(5)  "
   ]
  },
  {
   "cell_type": "code",
   "execution_count": 33,
   "metadata": {},
   "outputs": [
    {
     "data": {
      "text/html": [
       "<div>\n",
       "<style scoped>\n",
       "    .dataframe tbody tr th:only-of-type {\n",
       "        vertical-align: middle;\n",
       "    }\n",
       "\n",
       "    .dataframe tbody tr th {\n",
       "        vertical-align: top;\n",
       "    }\n",
       "\n",
       "    .dataframe thead th {\n",
       "        text-align: right;\n",
       "    }\n",
       "</style>\n",
       "<table border=\"1\" class=\"dataframe\">\n",
       "  <thead>\n",
       "    <tr style=\"text-align: right;\">\n",
       "      <th></th>\n",
       "      <th>eu_sales</th>\n",
       "    </tr>\n",
       "    <tr>\n",
       "      <th>genre</th>\n",
       "      <th></th>\n",
       "    </tr>\n",
       "  </thead>\n",
       "  <tbody>\n",
       "    <tr>\n",
       "      <td>Action</td>\n",
       "      <td>159.34</td>\n",
       "    </tr>\n",
       "    <tr>\n",
       "      <td>Shooter</td>\n",
       "      <td>113.47</td>\n",
       "    </tr>\n",
       "    <tr>\n",
       "      <td>Sports</td>\n",
       "      <td>69.09</td>\n",
       "    </tr>\n",
       "    <tr>\n",
       "      <td>Role-Playing</td>\n",
       "      <td>48.53</td>\n",
       "    </tr>\n",
       "    <tr>\n",
       "      <td>Racing</td>\n",
       "      <td>27.29</td>\n",
       "    </tr>\n",
       "  </tbody>\n",
       "</table>\n",
       "</div>"
      ],
      "text/plain": [
       "              eu_sales\n",
       "genre                 \n",
       "Action          159.34\n",
       "Shooter         113.47\n",
       "Sports           69.09\n",
       "Role-Playing     48.53\n",
       "Racing           27.29"
      ]
     },
     "execution_count": 33,
     "metadata": {},
     "output_type": "execute_result"
    }
   ],
   "source": [
    "genres_eu = actual.pivot_table(index = 'genre', values = 'eu_sales', aggfunc = 'sum')\n",
    "genres_eu.sort_values(by = 'eu_sales', ascending = False).head(5)  "
   ]
  },
  {
   "cell_type": "code",
   "execution_count": 34,
   "metadata": {},
   "outputs": [
    {
     "data": {
      "text/html": [
       "<div>\n",
       "<style scoped>\n",
       "    .dataframe tbody tr th:only-of-type {\n",
       "        vertical-align: middle;\n",
       "    }\n",
       "\n",
       "    .dataframe tbody tr th {\n",
       "        vertical-align: top;\n",
       "    }\n",
       "\n",
       "    .dataframe thead th {\n",
       "        text-align: right;\n",
       "    }\n",
       "</style>\n",
       "<table border=\"1\" class=\"dataframe\">\n",
       "  <thead>\n",
       "    <tr style=\"text-align: right;\">\n",
       "      <th></th>\n",
       "      <th>jp_sales</th>\n",
       "    </tr>\n",
       "    <tr>\n",
       "      <th>genre</th>\n",
       "      <th></th>\n",
       "    </tr>\n",
       "  </thead>\n",
       "  <tbody>\n",
       "    <tr>\n",
       "      <td>Role-Playing</td>\n",
       "      <td>65.44</td>\n",
       "    </tr>\n",
       "    <tr>\n",
       "      <td>Action</td>\n",
       "      <td>52.80</td>\n",
       "    </tr>\n",
       "    <tr>\n",
       "      <td>Misc</td>\n",
       "      <td>12.86</td>\n",
       "    </tr>\n",
       "    <tr>\n",
       "      <td>Simulation</td>\n",
       "      <td>10.41</td>\n",
       "    </tr>\n",
       "    <tr>\n",
       "      <td>Fighting</td>\n",
       "      <td>9.44</td>\n",
       "    </tr>\n",
       "  </tbody>\n",
       "</table>\n",
       "</div>"
      ],
      "text/plain": [
       "              jp_sales\n",
       "genre                 \n",
       "Role-Playing     65.44\n",
       "Action           52.80\n",
       "Misc             12.86\n",
       "Simulation       10.41\n",
       "Fighting          9.44"
      ]
     },
     "execution_count": 34,
     "metadata": {},
     "output_type": "execute_result"
    }
   ],
   "source": [
    "genres_jp = actual.pivot_table(index = 'genre', values = 'jp_sales', aggfunc = 'sum')\n",
    "genres_jp.sort_values(by = 'jp_sales', ascending = False).head(5)  "
   ]
  },
  {
   "cell_type": "markdown",
   "metadata": {},
   "source": [
    "Среди популярных жанров европейского и американского рынков - action, shooter  и sports, в то время как пользователи японского рынка предпочитают role-playing, action, misc. Среди возможных объяснений- не только особая культура страны (ее долгая изолированность от внешнего мира и внимание к культурным традициям), но и общее стремление страны к миру и гармонии (поэтому игры-\"агрессии\", например, шутеры не так популярны на рынке страны)."
   ]
  },
  {
   "cell_type": "code",
   "execution_count": 39,
   "metadata": {},
   "outputs": [
    {
     "data": {
      "text/plain": [
       "Unknown    1275\n",
       "M           498\n",
       "T           412\n",
       "E           395\n",
       "E10+        306\n",
       "Name: rating, dtype: int64"
      ]
     },
     "execution_count": 39,
     "metadata": {},
     "output_type": "execute_result"
    }
   ],
   "source": [
    "actual[\"rating\"] = actual[\"rating\"].fillna(\"Unknown\") \n",
    "actual[\"rating\"].value_counts()"
   ]
  },
  {
   "cell_type": "code",
   "execution_count": 40,
   "metadata": {},
   "outputs": [
    {
     "data": {
      "text/html": [
       "<div>\n",
       "<style scoped>\n",
       "    .dataframe tbody tr th:only-of-type {\n",
       "        vertical-align: middle;\n",
       "    }\n",
       "\n",
       "    .dataframe tbody tr th {\n",
       "        vertical-align: top;\n",
       "    }\n",
       "\n",
       "    .dataframe thead th {\n",
       "        text-align: right;\n",
       "    }\n",
       "</style>\n",
       "<table border=\"1\" class=\"dataframe\">\n",
       "  <thead>\n",
       "    <tr style=\"text-align: right;\">\n",
       "      <th></th>\n",
       "      <th>na_sales</th>\n",
       "    </tr>\n",
       "    <tr>\n",
       "      <th>rating</th>\n",
       "      <th></th>\n",
       "    </tr>\n",
       "  </thead>\n",
       "  <tbody>\n",
       "    <tr>\n",
       "      <td>M</td>\n",
       "      <td>231.57</td>\n",
       "    </tr>\n",
       "    <tr>\n",
       "      <td>E</td>\n",
       "      <td>114.37</td>\n",
       "    </tr>\n",
       "    <tr>\n",
       "      <td>Unknown</td>\n",
       "      <td>103.31</td>\n",
       "    </tr>\n",
       "    <tr>\n",
       "      <td>E10+</td>\n",
       "      <td>75.70</td>\n",
       "    </tr>\n",
       "    <tr>\n",
       "      <td>T</td>\n",
       "      <td>66.02</td>\n",
       "    </tr>\n",
       "  </tbody>\n",
       "</table>\n",
       "</div>"
      ],
      "text/plain": [
       "         na_sales\n",
       "rating           \n",
       "M          231.57\n",
       "E          114.37\n",
       "Unknown    103.31\n",
       "E10+        75.70\n",
       "T           66.02"
      ]
     },
     "execution_count": 40,
     "metadata": {},
     "output_type": "execute_result"
    }
   ],
   "source": [
    "rating_na = actual.pivot_table(index = 'rating', values = 'na_sales', aggfunc = 'sum')\n",
    "rating_na.sort_values(by = 'na_sales', ascending = False).head(5)  "
   ]
  },
  {
   "cell_type": "code",
   "execution_count": 41,
   "metadata": {},
   "outputs": [
    {
     "data": {
      "text/html": [
       "<div>\n",
       "<style scoped>\n",
       "    .dataframe tbody tr th:only-of-type {\n",
       "        vertical-align: middle;\n",
       "    }\n",
       "\n",
       "    .dataframe tbody tr th {\n",
       "        vertical-align: top;\n",
       "    }\n",
       "\n",
       "    .dataframe thead th {\n",
       "        text-align: right;\n",
       "    }\n",
       "</style>\n",
       "<table border=\"1\" class=\"dataframe\">\n",
       "  <thead>\n",
       "    <tr style=\"text-align: right;\">\n",
       "      <th></th>\n",
       "      <th>eu_sales</th>\n",
       "    </tr>\n",
       "    <tr>\n",
       "      <th>rating</th>\n",
       "      <th></th>\n",
       "    </tr>\n",
       "  </thead>\n",
       "  <tbody>\n",
       "    <tr>\n",
       "      <td>M</td>\n",
       "      <td>193.96</td>\n",
       "    </tr>\n",
       "    <tr>\n",
       "      <td>E</td>\n",
       "      <td>113.03</td>\n",
       "    </tr>\n",
       "    <tr>\n",
       "      <td>Unknown</td>\n",
       "      <td>91.50</td>\n",
       "    </tr>\n",
       "    <tr>\n",
       "      <td>E10+</td>\n",
       "      <td>55.37</td>\n",
       "    </tr>\n",
       "    <tr>\n",
       "      <td>T</td>\n",
       "      <td>52.96</td>\n",
       "    </tr>\n",
       "  </tbody>\n",
       "</table>\n",
       "</div>"
      ],
      "text/plain": [
       "         eu_sales\n",
       "rating           \n",
       "M          193.96\n",
       "E          113.03\n",
       "Unknown     91.50\n",
       "E10+        55.37\n",
       "T           52.96"
      ]
     },
     "execution_count": 41,
     "metadata": {},
     "output_type": "execute_result"
    }
   ],
   "source": [
    "rating_eu = actual.pivot_table(index = 'rating', values = 'eu_sales', aggfunc = 'sum')\n",
    "rating_eu.sort_values(by = 'eu_sales', ascending = False).head(5)  "
   ]
  },
  {
   "cell_type": "code",
   "execution_count": 42,
   "metadata": {},
   "outputs": [
    {
     "data": {
      "text/html": [
       "<div>\n",
       "<style scoped>\n",
       "    .dataframe tbody tr th:only-of-type {\n",
       "        vertical-align: middle;\n",
       "    }\n",
       "\n",
       "    .dataframe tbody tr th {\n",
       "        vertical-align: top;\n",
       "    }\n",
       "\n",
       "    .dataframe thead th {\n",
       "        text-align: right;\n",
       "    }\n",
       "</style>\n",
       "<table border=\"1\" class=\"dataframe\">\n",
       "  <thead>\n",
       "    <tr style=\"text-align: right;\">\n",
       "      <th></th>\n",
       "      <th>jp_sales</th>\n",
       "    </tr>\n",
       "    <tr>\n",
       "      <th>rating</th>\n",
       "      <th></th>\n",
       "    </tr>\n",
       "  </thead>\n",
       "  <tbody>\n",
       "    <tr>\n",
       "      <td>Unknown</td>\n",
       "      <td>108.84</td>\n",
       "    </tr>\n",
       "    <tr>\n",
       "      <td>E</td>\n",
       "      <td>28.33</td>\n",
       "    </tr>\n",
       "    <tr>\n",
       "      <td>T</td>\n",
       "      <td>26.02</td>\n",
       "    </tr>\n",
       "    <tr>\n",
       "      <td>M</td>\n",
       "      <td>21.20</td>\n",
       "    </tr>\n",
       "    <tr>\n",
       "      <td>E10+</td>\n",
       "      <td>8.19</td>\n",
       "    </tr>\n",
       "  </tbody>\n",
       "</table>\n",
       "</div>"
      ],
      "text/plain": [
       "         jp_sales\n",
       "rating           \n",
       "Unknown    108.84\n",
       "E           28.33\n",
       "T           26.02\n",
       "M           21.20\n",
       "E10+         8.19"
      ]
     },
     "execution_count": 42,
     "metadata": {},
     "output_type": "execute_result"
    }
   ],
   "source": [
    "rating_jp = actual.pivot_table(index = 'rating', values = 'jp_sales', aggfunc = 'sum')\n",
    "rating_jp.sort_values(by = 'jp_sales', ascending = False).head(5)  "
   ]
  },
  {
   "cell_type": "markdown",
   "metadata": {},
   "source": [
    "Среди наиболее продаваемых по рейтингу игр на американском и европейском рынках - игры рейтинга \"М\", то есть от 17 лет, в то время как на рынке Японии - рейтинг 'E'(\"для любого возраста\"), что также подчеркивает приоритет \"добрых\" игр в стране. Игры с отсутсвующим возрастным рейтингом не столь популярны на  американском и европейском рынках, но занимают первое место на японском рынке."
   ]
  },
  {
   "cell_type": "markdown",
   "metadata": {},
   "source": [
    "### Вывод"
   ]
  },
  {
   "cell_type": "markdown",
   "metadata": {},
   "source": [
    "Среди особенностей портрета аудитории американского, европейского и японского рынков - ориентация первых двух на условную \"битву\" (так или иначе мы говорим о противопоставлении \"мой герой-мир\" в играх жанра экшн, \"стрелялки\" и \"спорт), а третьего - на условный \"мир\" (ира как еще один способ гармонии)."
   ]
  },
  {
   "cell_type": "markdown",
   "metadata": {},
   "source": [
    "## Проверка исследовательских гипотез"
   ]
  },
  {
   "cell_type": "markdown",
   "metadata": {},
   "source": [
    "Заключительным этапом работы будет проверка двух статистических гипотез с помощью метода scipy.stats.ttest_ind(), позволяющем проверить гипотезу о равенстве среднего двух\n",
    "генеральных совокупностей по взятым из них выборкам:\n",
    "\n",
    " 1. средние пользовательские рейтинги платформ Xbox One и PC одинаковы;\n",
    " 2. средние пользовательские рейтинги жанров Action (англ. «действие», экшен-игры) и Sports (англ. «спортивные соревнования») разные.\n",
    "\n",
    "Для проверки гипотез установим уровень значимости равным 0.01. "
   ]
  },
  {
   "cell_type": "markdown",
   "metadata": {},
   "source": [
    "В первую очередь сформулируем нулевую и альтернативную гипотезу для проверки первого утверждения:\n",
    "1. гипотеза H₀ будет состоять в том, что средние пользовательские рейтинги платформ Xbox One и PC  не различаются;\n",
    "2. гипотеза H₁ будет сформулирована так: средние пользовательские рейтинги платформ Xbox One и PC различаются."
   ]
  },
  {
   "cell_type": "code",
   "execution_count": 38,
   "metadata": {},
   "outputs": [],
   "source": [
    "alpha = 0.01\n",
    "xbox = actual.loc[actual.loc[:,'platform'] == 'XOne']['user_score'].dropna()\n",
    "pc = actual.loc[actual.loc[:,'platform'] == 'PC']['user_score'].dropna()"
   ]
  },
  {
   "cell_type": "code",
   "execution_count": 39,
   "metadata": {},
   "outputs": [
    {
     "name": "stdout",
     "output_type": "stream",
     "text": [
      "p-значение: 0.5535080500643661\n",
      "Не получилось отвергнуть нулевую гипотезу\n"
     ]
    }
   ],
   "source": [
    "results = st.ttest_ind(xbox, pc)\n",
    "print('p-значение:', results.pvalue)\n",
    "if results.pvalue < alpha:\n",
    "    print(\"Отвергаем нулевую гипотезу\")\n",
    "else:\n",
    "    print(\"Не получилось отвергнуть нулевую гипотезу\")"
   ]
  },
  {
   "cell_type": "markdown",
   "metadata": {},
   "source": [
    "Можно сделать вывод о том, что средние пользовательские рейтинги платформ не различаются."
   ]
  },
  {
   "cell_type": "markdown",
   "metadata": {},
   "source": [
    "Ссформулируем нулевую и альтернативную гипотезу для проверки второго утверждения:\n",
    " 1. гипотеза H₀ будет состоять в том, что средние пользовательские рейтинги жанров Action  и Sports  одинаковые; \n",
    " 2. гипотеза H₁ будет сформулирована так: средние пользовательские рейтинги жанров Action  и Sports разные."
   ]
  },
  {
   "cell_type": "code",
   "execution_count": 40,
   "metadata": {},
   "outputs": [],
   "source": [
    "alpha = 0.01\n",
    "action = actual.loc[actual.loc[:,'genre'] == 'Action']['user_score'].dropna()\n",
    "sports = actual.loc[actual.loc[:,'genre'] == 'Sports']['user_score'].dropna()"
   ]
  },
  {
   "cell_type": "code",
   "execution_count": 41,
   "metadata": {},
   "outputs": [
    {
     "name": "stdout",
     "output_type": "stream",
     "text": [
      "p-значение: 3.7163089460934874e-26\n",
      "Отвергаем нулевую гипотезу\n"
     ]
    }
   ],
   "source": [
    "results = st.ttest_ind(action, sports)\n",
    "print('p-значение:', results.pvalue)\n",
    "if results.pvalue < alpha:\n",
    "    print(\"Отвергаем нулевую гипотезу\")\n",
    "else:\n",
    "    print(\"Не получилось отвергнуть нулевую гипотезу\")"
   ]
  },
  {
   "cell_type": "markdown",
   "metadata": {},
   "source": [
    "Можно сделать вывод о том, что средние пользовательские рейтинги жанров Action  и Sports разные."
   ]
  },
  {
   "cell_type": "markdown",
   "metadata": {},
   "source": [
    "## Вывод"
   ]
  },
  {
   "cell_type": "markdown",
   "metadata": {},
   "source": [
    "Таким образом, в результате анализа данных можно сделать следующие выводы:\n",
    "1. жизненный цикл в 10 лет обусловлен быстрым развитием информационных технологий, сответственно, преимущество получают те платформы, которые адаптируются к этим изменениям или накопили достаточное количество лояльных пользователей;\n",
    "2. лучше всего продавать игры для таких приставок как Sony Playstation 3 (и PS4), исходя из лидеров продаж, которые мы определили как PS4, PS3, X360, 3DS и XOne;\n",
    "3. при этом, рассматривая региональную специфику, можно сказать следующее:\n",
    "   \n",
    "   3.1 пользователи американского рынка предпочитают среди консолей X360, PS4 и PS3, их жанровые предпочтения - Action, Shooter и Sports, также они предпочитают игры с рейтингом \"от 17 и выше\":\n",
    "   \n",
    "   3.2 пользователи европейского рынка выбирают PS4, PS3 и X360 для  игр жанра Action, Shooter и Sports, отдавая предпочтение играм рейтинга \"от 17 и выше\";\n",
    "   \n",
    "   3.3 в топе пользователей японского рынка консоли 3DS, PS3, PSV и жанры Role-playing, Action, Misc. Они предпочитают игры без рейтинга или те, которые подходят для любого возраста."
   ]
  }
 ],
 "metadata": {
  "ExecuteTimeLog": [
   {
    "duration": 805,
    "start_time": "2021-08-18T16:32:36.550Z"
   },
   {
    "duration": 749,
    "start_time": "2021-08-18T16:37:14.261Z"
   },
   {
    "duration": 53,
    "start_time": "2021-08-18T16:37:21.229Z"
   },
   {
    "duration": 16,
    "start_time": "2021-08-18T16:37:41.348Z"
   },
   {
    "duration": 403,
    "start_time": "2021-08-18T16:46:03.001Z"
   },
   {
    "duration": 6,
    "start_time": "2021-08-18T16:51:26.643Z"
   },
   {
    "duration": 288,
    "start_time": "2021-08-18T16:54:52.875Z"
   },
   {
    "duration": 28,
    "start_time": "2021-08-18T16:57:16.127Z"
   },
   {
    "duration": 250,
    "start_time": "2021-08-18T17:02:58.671Z"
   },
   {
    "duration": 240,
    "start_time": "2021-08-18T17:23:06.627Z"
   },
   {
    "duration": 302,
    "start_time": "2021-08-18T17:23:33.097Z"
   },
   {
    "duration": 24,
    "start_time": "2021-08-18T17:26:22.272Z"
   },
   {
    "duration": 303,
    "start_time": "2021-08-18T17:26:41.847Z"
   },
   {
    "duration": 41,
    "start_time": "2021-08-18T17:26:56.707Z"
   },
   {
    "duration": 7,
    "start_time": "2021-08-18T17:29:35.313Z"
   },
   {
    "duration": 275,
    "start_time": "2021-08-18T17:29:48.839Z"
   },
   {
    "duration": 304,
    "start_time": "2021-08-18T17:30:11.275Z"
   },
   {
    "duration": 10,
    "start_time": "2021-08-18T17:30:17.393Z"
   },
   {
    "duration": 8,
    "start_time": "2021-08-18T17:30:35.930Z"
   },
   {
    "duration": 240,
    "start_time": "2021-08-18T17:31:06.382Z"
   },
   {
    "duration": 11,
    "start_time": "2021-08-18T17:33:57.707Z"
   },
   {
    "duration": 10,
    "start_time": "2021-08-18T17:34:08.141Z"
   },
   {
    "duration": 14,
    "start_time": "2021-08-18T17:34:24.633Z"
   },
   {
    "duration": 53,
    "start_time": "2021-08-18T17:45:23.191Z"
   },
   {
    "duration": 21,
    "start_time": "2021-08-18T17:45:25.738Z"
   },
   {
    "duration": 7,
    "start_time": "2021-08-18T17:45:30.028Z"
   },
   {
    "duration": 10,
    "start_time": "2021-08-18T17:45:47.099Z"
   },
   {
    "duration": 51,
    "start_time": "2021-08-18T18:14:27.036Z"
   },
   {
    "duration": 22,
    "start_time": "2021-08-18T18:14:32.874Z"
   },
   {
    "duration": 7,
    "start_time": "2021-08-18T18:14:36.323Z"
   },
   {
    "duration": 10,
    "start_time": "2021-08-18T18:14:38.611Z"
   },
   {
    "duration": 21,
    "start_time": "2021-08-18T18:14:50.826Z"
   },
   {
    "duration": 16,
    "start_time": "2021-08-18T18:14:57.214Z"
   },
   {
    "duration": 9,
    "start_time": "2021-08-18T18:29:01.105Z"
   },
   {
    "duration": 10,
    "start_time": "2021-08-18T18:29:27.774Z"
   },
   {
    "duration": 7,
    "start_time": "2021-08-18T18:29:42.786Z"
   },
   {
    "duration": 28,
    "start_time": "2021-08-18T18:43:49.810Z"
   },
   {
    "duration": 283,
    "start_time": "2021-08-18T18:45:28.100Z"
   },
   {
    "duration": 287,
    "start_time": "2021-08-18T18:46:11.461Z"
   },
   {
    "duration": 52,
    "start_time": "2021-08-18T19:16:57.244Z"
   },
   {
    "duration": 655,
    "start_time": "2021-08-18T19:17:33.695Z"
   },
   {
    "duration": 55,
    "start_time": "2021-08-18T19:17:59.232Z"
   },
   {
    "duration": 51,
    "start_time": "2021-08-18T19:38:31.761Z"
   },
   {
    "duration": 295,
    "start_time": "2021-08-18T19:39:04.739Z"
   },
   {
    "duration": 329,
    "start_time": "2021-08-18T19:39:37.706Z"
   },
   {
    "duration": 345,
    "start_time": "2021-08-18T19:39:46.466Z"
   },
   {
    "duration": 90,
    "start_time": "2021-08-18T19:40:04.497Z"
   },
   {
    "duration": 77,
    "start_time": "2021-08-18T19:40:10.111Z"
   },
   {
    "duration": 274,
    "start_time": "2021-08-18T19:40:39.338Z"
   },
   {
    "duration": 311,
    "start_time": "2021-08-18T19:41:05.309Z"
   },
   {
    "duration": 350,
    "start_time": "2021-08-18T19:42:13.257Z"
   },
   {
    "duration": 78,
    "start_time": "2021-08-18T19:42:24.819Z"
   },
   {
    "duration": 9,
    "start_time": "2021-08-18T19:44:32.319Z"
   },
   {
    "duration": 8,
    "start_time": "2021-08-18T19:44:41.962Z"
   },
   {
    "duration": 252,
    "start_time": "2021-08-18T19:44:50.429Z"
   },
   {
    "duration": 322,
    "start_time": "2021-08-18T19:44:55.879Z"
   },
   {
    "duration": 17,
    "start_time": "2021-08-18T19:46:09.882Z"
   },
   {
    "duration": 24,
    "start_time": "2021-08-18T19:46:17.889Z"
   },
   {
    "duration": 11,
    "start_time": "2021-08-18T19:48:05.089Z"
   },
   {
    "duration": 369,
    "start_time": "2021-08-18T19:48:51.840Z"
   },
   {
    "duration": 265,
    "start_time": "2021-08-18T19:49:02.819Z"
   },
   {
    "duration": 286,
    "start_time": "2021-08-18T19:49:23.149Z"
   },
   {
    "duration": 241,
    "start_time": "2021-08-18T19:50:11.232Z"
   },
   {
    "duration": 361,
    "start_time": "2021-08-18T19:50:24.538Z"
   },
   {
    "duration": 271,
    "start_time": "2021-08-18T19:50:31.854Z"
   },
   {
    "duration": 1439,
    "start_time": "2021-08-19T06:28:29.865Z"
   },
   {
    "duration": 38,
    "start_time": "2021-08-19T06:28:34.838Z"
   },
   {
    "duration": 8,
    "start_time": "2021-08-19T06:28:44.717Z"
   },
   {
    "duration": 10,
    "start_time": "2021-08-19T07:08:35.681Z"
   },
   {
    "duration": 21,
    "start_time": "2021-08-19T07:15:29.254Z"
   },
   {
    "duration": 15,
    "start_time": "2021-08-19T07:15:31.758Z"
   },
   {
    "duration": 10,
    "start_time": "2021-08-19T07:16:37.286Z"
   },
   {
    "duration": 10,
    "start_time": "2021-08-19T08:05:07.358Z"
   },
   {
    "duration": 10,
    "start_time": "2021-08-19T08:05:52.793Z"
   },
   {
    "duration": 22,
    "start_time": "2021-08-19T08:06:04.815Z"
   },
   {
    "duration": 16,
    "start_time": "2021-08-19T08:06:15.817Z"
   },
   {
    "duration": 23,
    "start_time": "2021-08-19T08:06:17.998Z"
   },
   {
    "duration": 51,
    "start_time": "2021-08-19T08:06:24.537Z"
   },
   {
    "duration": 20,
    "start_time": "2021-08-19T08:06:26.457Z"
   },
   {
    "duration": 5,
    "start_time": "2021-08-19T08:06:29.608Z"
   },
   {
    "duration": 21,
    "start_time": "2021-08-19T08:06:33.165Z"
   },
   {
    "duration": 13,
    "start_time": "2021-08-19T08:06:35.477Z"
   },
   {
    "duration": 22,
    "start_time": "2021-08-19T08:06:43.767Z"
   },
   {
    "duration": 375,
    "start_time": "2021-08-19T08:11:41.187Z"
   },
   {
    "duration": 398,
    "start_time": "2021-08-19T08:12:02.059Z"
   },
   {
    "duration": 346,
    "start_time": "2021-08-19T08:13:25.698Z"
   },
   {
    "duration": 273,
    "start_time": "2021-08-19T08:19:15.088Z"
   },
   {
    "duration": 749,
    "start_time": "2021-08-19T08:19:49.411Z"
   },
   {
    "duration": 1802,
    "start_time": "2021-08-19T08:19:58.069Z"
   },
   {
    "duration": 15,
    "start_time": "2021-08-19T08:23:46.858Z"
   },
   {
    "duration": 21,
    "start_time": "2021-08-19T08:23:54.799Z"
   },
   {
    "duration": 22,
    "start_time": "2021-08-19T08:25:20.354Z"
   },
   {
    "duration": 349,
    "start_time": "2021-08-19T08:28:58.924Z"
   },
   {
    "duration": 396,
    "start_time": "2021-08-19T08:29:27.305Z"
   },
   {
    "duration": 295,
    "start_time": "2021-08-19T08:30:03.850Z"
   },
   {
    "duration": 358,
    "start_time": "2021-08-19T08:30:15.517Z"
   },
   {
    "duration": 393,
    "start_time": "2021-08-19T08:31:36.340Z"
   },
   {
    "duration": 304,
    "start_time": "2021-08-19T08:31:50.782Z"
   },
   {
    "duration": 319,
    "start_time": "2021-08-19T08:35:40.544Z"
   },
   {
    "duration": 411,
    "start_time": "2021-08-19T08:37:44.952Z"
   },
   {
    "duration": 91,
    "start_time": "2021-08-19T08:37:52.212Z"
   },
   {
    "duration": 373,
    "start_time": "2021-08-19T08:37:57.366Z"
   },
   {
    "duration": 653,
    "start_time": "2021-08-19T08:46:40.966Z"
   },
   {
    "duration": 672,
    "start_time": "2021-08-19T08:47:23.987Z"
   },
   {
    "duration": 385,
    "start_time": "2021-08-19T08:47:53.814Z"
   },
   {
    "duration": 387,
    "start_time": "2021-08-19T08:48:40.213Z"
   },
   {
    "duration": 18,
    "start_time": "2021-08-19T09:02:24.281Z"
   },
   {
    "duration": 24,
    "start_time": "2021-08-19T09:02:37.042Z"
   },
   {
    "duration": 22,
    "start_time": "2021-08-19T09:06:57.743Z"
   },
   {
    "duration": 316,
    "start_time": "2021-08-19T09:08:55.571Z"
   },
   {
    "duration": 28,
    "start_time": "2021-08-19T09:09:24.683Z"
   },
   {
    "duration": 289,
    "start_time": "2021-08-19T09:09:37.504Z"
   },
   {
    "duration": 262,
    "start_time": "2021-08-19T09:10:27.075Z"
   },
   {
    "duration": 235,
    "start_time": "2021-08-19T09:13:37.204Z"
   },
   {
    "duration": 495,
    "start_time": "2021-08-19T09:13:43.223Z"
   },
   {
    "duration": 668,
    "start_time": "2021-08-19T09:15:12.123Z"
   },
   {
    "duration": 578,
    "start_time": "2021-08-19T09:18:32.134Z"
   },
   {
    "duration": 241,
    "start_time": "2021-08-19T09:28:44.695Z"
   },
   {
    "duration": 15,
    "start_time": "2021-08-19T09:30:22.645Z"
   },
   {
    "duration": 21,
    "start_time": "2021-08-19T09:31:03.296Z"
   },
   {
    "duration": 285,
    "start_time": "2021-08-19T09:33:38.754Z"
   },
   {
    "duration": 16,
    "start_time": "2021-08-19T11:51:10.523Z"
   },
   {
    "duration": 22,
    "start_time": "2021-08-19T11:52:18.702Z"
   },
   {
    "duration": 516,
    "start_time": "2021-08-19T11:53:36.884Z"
   },
   {
    "duration": 268,
    "start_time": "2021-08-19T12:09:48.263Z"
   },
   {
    "duration": 101,
    "start_time": "2021-08-19T12:11:06.365Z"
   },
   {
    "duration": 85,
    "start_time": "2021-08-19T12:11:18.115Z"
   },
   {
    "duration": 23,
    "start_time": "2021-08-19T12:11:26.925Z"
   },
   {
    "duration": 295,
    "start_time": "2021-08-19T12:12:05.008Z"
   },
   {
    "duration": 295,
    "start_time": "2021-08-19T12:12:45.506Z"
   },
   {
    "duration": 41,
    "start_time": "2021-08-19T12:12:48.335Z"
   },
   {
    "duration": 309,
    "start_time": "2021-08-19T12:12:56.094Z"
   },
   {
    "duration": 81,
    "start_time": "2021-08-19T12:13:16.615Z"
   },
   {
    "duration": 63,
    "start_time": "2021-08-19T12:13:33.097Z"
   },
   {
    "duration": 63,
    "start_time": "2021-08-19T12:13:45.447Z"
   },
   {
    "duration": 4706,
    "start_time": "2021-08-19T12:14:02.277Z"
   },
   {
    "duration": 249,
    "start_time": "2021-08-19T12:15:31.871Z"
   },
   {
    "duration": 45,
    "start_time": "2021-08-19T12:16:48.551Z"
   },
   {
    "duration": 78,
    "start_time": "2021-08-19T12:17:45.112Z"
   },
   {
    "duration": 77,
    "start_time": "2021-08-19T12:17:52.070Z"
   },
   {
    "duration": 6390,
    "start_time": "2021-08-19T12:18:05.281Z"
   },
   {
    "duration": 6394,
    "start_time": "2021-08-19T12:18:26.360Z"
   },
   {
    "duration": 6355,
    "start_time": "2021-08-19T12:18:34.428Z"
   },
   {
    "duration": 30,
    "start_time": "2021-08-19T12:19:08.838Z"
   },
   {
    "duration": 22,
    "start_time": "2021-08-19T12:19:27.568Z"
   },
   {
    "duration": 31,
    "start_time": "2021-08-19T12:19:37.240Z"
   },
   {
    "duration": 12,
    "start_time": "2021-08-19T12:20:33.330Z"
   },
   {
    "duration": 7,
    "start_time": "2021-08-19T12:21:10.649Z"
   },
   {
    "duration": 12,
    "start_time": "2021-08-19T12:21:17.576Z"
   },
   {
    "duration": 256,
    "start_time": "2021-08-19T12:21:24.201Z"
   },
   {
    "duration": 268,
    "start_time": "2021-08-19T12:27:40.160Z"
   },
   {
    "duration": 9,
    "start_time": "2021-08-19T12:28:00.235Z"
   },
   {
    "duration": 285,
    "start_time": "2021-08-19T12:28:04.664Z"
   },
   {
    "duration": 23,
    "start_time": "2021-08-19T12:30:48.796Z"
   },
   {
    "duration": 24,
    "start_time": "2021-08-19T12:31:31.322Z"
   },
   {
    "duration": 507,
    "start_time": "2021-08-19T12:32:51.541Z"
   },
   {
    "duration": 497,
    "start_time": "2021-08-19T12:33:08.085Z"
   },
   {
    "duration": 656,
    "start_time": "2021-08-19T12:33:25.996Z"
   },
   {
    "duration": 8,
    "start_time": "2021-08-19T12:35:51.415Z"
   },
   {
    "duration": 24,
    "start_time": "2021-08-19T12:35:56.836Z"
   },
   {
    "duration": 671,
    "start_time": "2021-08-19T12:36:34.805Z"
   },
   {
    "duration": 373,
    "start_time": "2021-08-19T12:37:39.316Z"
   },
   {
    "duration": 6194,
    "start_time": "2021-08-19T12:37:47.916Z"
   },
   {
    "duration": 6354,
    "start_time": "2021-08-19T12:38:13.636Z"
   },
   {
    "duration": 16,
    "start_time": "2021-08-19T12:38:48.373Z"
   },
   {
    "duration": 248,
    "start_time": "2021-08-19T12:40:14.034Z"
   },
   {
    "duration": 244,
    "start_time": "2021-08-19T12:40:17.314Z"
   },
   {
    "duration": 24,
    "start_time": "2021-08-19T12:40:21.160Z"
   },
   {
    "duration": 9,
    "start_time": "2021-08-19T12:40:47.220Z"
   },
   {
    "duration": 7,
    "start_time": "2021-08-19T12:42:57.416Z"
   },
   {
    "duration": 9,
    "start_time": "2021-08-19T12:43:03.950Z"
   },
   {
    "duration": 7,
    "start_time": "2021-08-19T12:43:13.761Z"
   },
   {
    "duration": 10,
    "start_time": "2021-08-19T12:43:19.160Z"
   },
   {
    "duration": 10,
    "start_time": "2021-08-19T12:43:27.551Z"
   },
   {
    "duration": 13,
    "start_time": "2021-08-19T12:44:28.576Z"
   },
   {
    "duration": 10,
    "start_time": "2021-08-19T12:44:43.288Z"
   },
   {
    "duration": 353,
    "start_time": "2021-08-19T12:47:16.443Z"
   },
   {
    "duration": 22,
    "start_time": "2021-08-19T12:47:35.571Z"
   },
   {
    "duration": 11,
    "start_time": "2021-08-19T12:48:28.412Z"
   },
   {
    "duration": 1792,
    "start_time": "2021-08-19T12:49:01.605Z"
   },
   {
    "duration": 1201,
    "start_time": "2021-08-19T12:49:23.561Z"
   },
   {
    "duration": 1633,
    "start_time": "2021-08-19T12:49:44.172Z"
   },
   {
    "duration": 1940,
    "start_time": "2021-08-19T12:50:03.652Z"
   },
   {
    "duration": 81,
    "start_time": "2021-08-19T12:50:49.984Z"
   },
   {
    "duration": 73,
    "start_time": "2021-08-19T12:50:59.504Z"
   },
   {
    "duration": 281,
    "start_time": "2021-08-19T12:51:22.033Z"
   },
   {
    "duration": 1373,
    "start_time": "2021-08-19T12:51:30.019Z"
   },
   {
    "duration": 1722,
    "start_time": "2021-08-19T12:51:50.183Z"
   },
   {
    "duration": 274,
    "start_time": "2021-08-19T12:52:08.885Z"
   },
   {
    "duration": 233,
    "start_time": "2021-08-19T12:52:38.031Z"
   },
   {
    "duration": 238,
    "start_time": "2021-08-19T12:53:10.165Z"
   },
   {
    "duration": 102,
    "start_time": "2021-08-19T12:53:14.604Z"
   },
   {
    "duration": 103,
    "start_time": "2021-08-19T12:53:20.039Z"
   },
   {
    "duration": 298,
    "start_time": "2021-08-19T12:53:23.032Z"
   },
   {
    "duration": 12,
    "start_time": "2021-08-19T12:55:01.524Z"
   },
   {
    "duration": 21,
    "start_time": "2021-08-19T12:55:09.673Z"
   },
   {
    "duration": 20,
    "start_time": "2021-08-19T12:55:22.272Z"
   },
   {
    "duration": 273,
    "start_time": "2021-08-19T12:56:32.184Z"
   },
   {
    "duration": 21,
    "start_time": "2021-08-19T12:56:58.012Z"
   },
   {
    "duration": 106,
    "start_time": "2021-08-19T12:57:39.631Z"
   },
   {
    "duration": 90,
    "start_time": "2021-08-19T12:57:53.118Z"
   },
   {
    "duration": 318,
    "start_time": "2021-08-19T12:58:09.776Z"
   },
   {
    "duration": 8417,
    "start_time": "2021-08-19T12:58:30.271Z"
   },
   {
    "duration": 240,
    "start_time": "2021-08-19T12:58:38.451Z"
   },
   {
    "duration": 8,
    "start_time": "2021-08-19T12:59:12.656Z"
   },
   {
    "duration": 261,
    "start_time": "2021-08-19T12:59:34.318Z"
   },
   {
    "duration": 10,
    "start_time": "2021-08-19T12:59:47.316Z"
   },
   {
    "duration": 242,
    "start_time": "2021-08-19T12:59:59.784Z"
   },
   {
    "duration": 371,
    "start_time": "2021-08-19T13:00:34.047Z"
   },
   {
    "duration": 274,
    "start_time": "2021-08-19T13:00:47.237Z"
   },
   {
    "duration": 294,
    "start_time": "2021-08-19T13:01:04.399Z"
   },
   {
    "duration": 289,
    "start_time": "2021-08-19T13:01:29.560Z"
   },
   {
    "duration": 22,
    "start_time": "2021-08-19T13:01:34.839Z"
   },
   {
    "duration": 32,
    "start_time": "2021-08-19T13:02:25.250Z"
   },
   {
    "duration": 383,
    "start_time": "2021-08-19T13:10:00.133Z"
   },
   {
    "duration": 48,
    "start_time": "2021-08-19T13:13:13.514Z"
   },
   {
    "duration": 21,
    "start_time": "2021-08-19T13:13:15.893Z"
   },
   {
    "duration": 6,
    "start_time": "2021-08-19T13:13:18.680Z"
   },
   {
    "duration": 21,
    "start_time": "2021-08-19T13:13:20.273Z"
   },
   {
    "duration": 14,
    "start_time": "2021-08-19T13:13:20.436Z"
   },
   {
    "duration": 21,
    "start_time": "2021-08-19T13:13:20.776Z"
   },
   {
    "duration": 360,
    "start_time": "2021-08-19T13:13:24.095Z"
   },
   {
    "duration": 545,
    "start_time": "2021-08-19T13:13:27.884Z"
   },
   {
    "duration": 8,
    "start_time": "2021-08-19T13:13:42.976Z"
   },
   {
    "duration": 313,
    "start_time": "2021-08-19T13:13:44.322Z"
   },
   {
    "duration": 266,
    "start_time": "2021-08-19T13:13:51.206Z"
   },
   {
    "duration": 1327,
    "start_time": "2021-08-19T18:43:03.556Z"
   },
   {
    "duration": 34,
    "start_time": "2021-08-19T18:43:07.844Z"
   },
   {
    "duration": 8,
    "start_time": "2021-08-19T18:43:10.584Z"
   },
   {
    "duration": 34,
    "start_time": "2021-08-19T18:43:13.239Z"
   },
   {
    "duration": 20,
    "start_time": "2021-08-19T18:43:15.302Z"
   },
   {
    "duration": 22,
    "start_time": "2021-08-19T18:43:18.308Z"
   },
   {
    "duration": 380,
    "start_time": "2021-08-19T18:43:20.588Z"
   },
   {
    "duration": 544,
    "start_time": "2021-08-19T18:43:24.478Z"
   },
   {
    "duration": 10,
    "start_time": "2021-08-19T18:45:08.635Z"
   },
   {
    "duration": 36,
    "start_time": "2021-08-19T18:45:20.541Z"
   },
   {
    "duration": 8,
    "start_time": "2021-08-19T18:49:44.005Z"
   },
   {
    "duration": 9,
    "start_time": "2021-08-19T18:50:03.525Z"
   },
   {
    "duration": 357,
    "start_time": "2021-08-19T18:50:06.005Z"
   },
   {
    "duration": 428,
    "start_time": "2021-08-19T18:51:35.567Z"
   },
   {
    "duration": 20,
    "start_time": "2021-08-19T18:52:04.806Z"
   },
   {
    "duration": 9,
    "start_time": "2021-08-19T18:54:16.716Z"
   },
   {
    "duration": 776,
    "start_time": "2021-08-19T18:55:08.836Z"
   },
   {
    "duration": 1353,
    "start_time": "2021-08-19T18:55:30.148Z"
   },
   {
    "duration": 418,
    "start_time": "2021-08-19T18:56:41.831Z"
   },
   {
    "duration": 630,
    "start_time": "2021-08-19T19:00:24.985Z"
   },
   {
    "duration": 711,
    "start_time": "2021-08-19T19:00:44.135Z"
   },
   {
    "duration": 514,
    "start_time": "2021-08-19T19:00:53.361Z"
   },
   {
    "duration": 483,
    "start_time": "2021-08-19T19:01:46.444Z"
   },
   {
    "duration": 8,
    "start_time": "2021-08-19T19:15:14.545Z"
   },
   {
    "duration": 177,
    "start_time": "2021-08-19T19:16:39.725Z"
   },
   {
    "duration": 297,
    "start_time": "2021-08-19T19:16:50.840Z"
   },
   {
    "duration": 9,
    "start_time": "2021-08-19T19:17:04.374Z"
   },
   {
    "duration": 10,
    "start_time": "2021-08-19T19:17:11.692Z"
   },
   {
    "duration": 682,
    "start_time": "2021-08-19T19:17:13.644Z"
   },
   {
    "duration": 9,
    "start_time": "2021-08-19T19:17:32.924Z"
   },
   {
    "duration": 35,
    "start_time": "2021-08-19T19:17:39.165Z"
   },
   {
    "duration": 36,
    "start_time": "2021-08-19T19:19:40.633Z"
   },
   {
    "duration": 11,
    "start_time": "2021-08-19T19:19:46.234Z"
   },
   {
    "duration": 485,
    "start_time": "2021-08-19T19:19:47.837Z"
   },
   {
    "duration": 18,
    "start_time": "2021-08-19T19:20:17.795Z"
   },
   {
    "duration": 9,
    "start_time": "2021-08-19T19:20:35.550Z"
   },
   {
    "duration": 481,
    "start_time": "2021-08-19T19:21:16.686Z"
   },
   {
    "duration": 81,
    "start_time": "2021-08-19T19:22:45.166Z"
   },
   {
    "duration": 6972,
    "start_time": "2021-08-19T19:22:51.565Z"
   },
   {
    "duration": 19,
    "start_time": "2021-08-19T19:23:29.675Z"
   },
   {
    "duration": 32,
    "start_time": "2021-08-19T19:23:36.137Z"
   },
   {
    "duration": 33,
    "start_time": "2021-08-19T19:23:58.126Z"
   },
   {
    "duration": 447,
    "start_time": "2021-08-19T19:24:18.681Z"
   },
   {
    "duration": 481,
    "start_time": "2021-08-19T19:24:57.626Z"
   },
   {
    "duration": 437,
    "start_time": "2021-08-19T19:25:09.726Z"
   },
   {
    "duration": 29,
    "start_time": "2021-08-19T19:25:46.854Z"
   },
   {
    "duration": 29,
    "start_time": "2021-08-19T19:25:55.725Z"
   },
   {
    "duration": 49,
    "start_time": "2021-08-19T19:27:33.156Z"
   },
   {
    "duration": 11,
    "start_time": "2021-08-19T19:27:36.225Z"
   },
   {
    "duration": 449,
    "start_time": "2021-08-19T19:27:37.655Z"
   },
   {
    "duration": 22,
    "start_time": "2021-08-19T19:28:00.855Z"
   },
   {
    "duration": 18,
    "start_time": "2021-08-19T19:28:44.653Z"
   },
   {
    "duration": 32,
    "start_time": "2021-08-19T19:28:53.284Z"
   },
   {
    "duration": 19,
    "start_time": "2021-08-19T19:28:56.454Z"
   },
   {
    "duration": 33,
    "start_time": "2021-08-19T19:29:30.845Z"
   },
   {
    "duration": 26,
    "start_time": "2021-08-19T19:29:35.355Z"
   },
   {
    "duration": 421,
    "start_time": "2021-08-19T19:29:45.008Z"
   },
   {
    "duration": 36,
    "start_time": "2021-08-19T19:30:10.230Z"
   },
   {
    "duration": 685,
    "start_time": "2021-08-19T19:30:22.576Z"
   },
   {
    "duration": 91,
    "start_time": "2021-08-19T19:31:53.634Z"
   },
   {
    "duration": 95,
    "start_time": "2021-08-19T19:31:56.782Z"
   },
   {
    "duration": 102,
    "start_time": "2021-08-19T19:32:11.484Z"
   },
   {
    "duration": 32,
    "start_time": "2021-08-19T19:32:13.943Z"
   },
   {
    "duration": 21,
    "start_time": "2021-08-19T19:32:38.535Z"
   },
   {
    "duration": 614,
    "start_time": "2021-08-19T19:32:53.446Z"
   },
   {
    "duration": 415,
    "start_time": "2021-08-19T19:33:10.847Z"
   },
   {
    "duration": 53,
    "start_time": "2021-08-19T19:33:44.140Z"
   },
   {
    "duration": 21,
    "start_time": "2021-08-19T19:33:49.859Z"
   },
   {
    "duration": 6,
    "start_time": "2021-08-19T19:33:52.966Z"
   },
   {
    "duration": 22,
    "start_time": "2021-08-19T19:33:55.417Z"
   },
   {
    "duration": 14,
    "start_time": "2021-08-19T19:33:55.499Z"
   },
   {
    "duration": 26,
    "start_time": "2021-08-19T19:33:56.099Z"
   },
   {
    "duration": 361,
    "start_time": "2021-08-19T19:33:58.501Z"
   },
   {
    "duration": 561,
    "start_time": "2021-08-19T19:34:01.288Z"
   },
   {
    "duration": 36,
    "start_time": "2021-08-19T19:34:03.770Z"
   },
   {
    "duration": 21,
    "start_time": "2021-08-19T19:34:13.139Z"
   },
   {
    "duration": 407,
    "start_time": "2021-08-19T19:34:21.820Z"
   },
   {
    "duration": 398,
    "start_time": "2021-08-19T19:34:56.619Z"
   },
   {
    "duration": 426,
    "start_time": "2021-08-19T19:35:08.779Z"
   },
   {
    "duration": 14,
    "start_time": "2021-08-19T19:35:27.409Z"
   },
   {
    "duration": 13,
    "start_time": "2021-08-19T19:35:33.042Z"
   },
   {
    "duration": 666,
    "start_time": "2021-08-19T19:35:35.918Z"
   },
   {
    "duration": 40,
    "start_time": "2021-08-19T19:35:46.580Z"
   },
   {
    "duration": 801,
    "start_time": "2021-08-19T19:36:24.681Z"
   },
   {
    "duration": 34,
    "start_time": "2021-08-19T19:36:33.291Z"
   },
   {
    "duration": 710,
    "start_time": "2021-08-19T19:36:41.414Z"
   },
   {
    "duration": 34,
    "start_time": "2021-08-19T19:37:21.701Z"
   },
   {
    "duration": 13,
    "start_time": "2021-08-19T19:37:38.672Z"
   },
   {
    "duration": 14,
    "start_time": "2021-08-19T19:38:19.274Z"
   },
   {
    "duration": 16,
    "start_time": "2021-08-19T19:38:27.920Z"
   },
   {
    "duration": 10,
    "start_time": "2021-08-19T19:38:40.802Z"
   },
   {
    "duration": 20,
    "start_time": "2021-08-19T19:38:42.887Z"
   },
   {
    "duration": 9,
    "start_time": "2021-08-19T19:38:46.492Z"
   },
   {
    "duration": 768,
    "start_time": "2021-08-19T19:38:55.362Z"
   },
   {
    "duration": 429,
    "start_time": "2021-08-19T19:39:09.293Z"
   },
   {
    "duration": 435,
    "start_time": "2021-08-19T19:39:26.801Z"
   },
   {
    "duration": 442,
    "start_time": "2021-08-19T19:40:34.213Z"
   },
   {
    "duration": 433,
    "start_time": "2021-08-19T19:41:11.994Z"
   },
   {
    "duration": 440,
    "start_time": "2021-08-19T19:41:35.735Z"
   },
   {
    "duration": 440,
    "start_time": "2021-08-19T19:42:12.893Z"
   },
   {
    "duration": 108,
    "start_time": "2021-08-19T19:45:50.912Z"
   },
   {
    "duration": 92,
    "start_time": "2021-08-19T19:46:06.341Z"
   },
   {
    "duration": 13,
    "start_time": "2021-08-19T19:46:27.277Z"
   },
   {
    "duration": 8,
    "start_time": "2021-08-19T19:46:31.482Z"
   },
   {
    "duration": 485,
    "start_time": "2021-08-19T19:46:33.052Z"
   },
   {
    "duration": 12,
    "start_time": "2021-08-19T19:47:01.372Z"
   },
   {
    "duration": 10,
    "start_time": "2021-08-19T19:47:03.562Z"
   },
   {
    "duration": 455,
    "start_time": "2021-08-19T19:47:05.142Z"
   },
   {
    "duration": 12,
    "start_time": "2021-08-19T19:47:18.060Z"
   },
   {
    "duration": 10,
    "start_time": "2021-08-19T19:47:20.383Z"
   },
   {
    "duration": 602,
    "start_time": "2021-08-19T19:47:22.051Z"
   },
   {
    "duration": 11,
    "start_time": "2021-08-19T19:47:28.461Z"
   },
   {
    "duration": 9,
    "start_time": "2021-08-19T19:47:30.152Z"
   },
   {
    "duration": 474,
    "start_time": "2021-08-19T19:47:31.753Z"
   },
   {
    "duration": 53,
    "start_time": "2021-08-19T19:47:47.952Z"
   },
   {
    "duration": 24,
    "start_time": "2021-08-19T19:47:48.126Z"
   },
   {
    "duration": 7,
    "start_time": "2021-08-19T19:47:48.801Z"
   },
   {
    "duration": 23,
    "start_time": "2021-08-19T19:47:49.182Z"
   },
   {
    "duration": 13,
    "start_time": "2021-08-19T19:47:49.372Z"
   },
   {
    "duration": 22,
    "start_time": "2021-08-19T19:47:49.802Z"
   },
   {
    "duration": 361,
    "start_time": "2021-08-19T19:47:50.152Z"
   },
   {
    "duration": 526,
    "start_time": "2021-08-19T19:47:50.516Z"
   },
   {
    "duration": 12,
    "start_time": "2021-08-19T19:47:51.045Z"
   },
   {
    "duration": 29,
    "start_time": "2021-08-19T19:47:51.060Z"
   },
   {
    "duration": 464,
    "start_time": "2021-08-19T19:47:51.972Z"
   },
   {
    "duration": 605,
    "start_time": "2021-08-19T19:48:13.703Z"
   },
   {
    "duration": 37,
    "start_time": "2021-08-19T19:48:28.248Z"
   },
   {
    "duration": 10,
    "start_time": "2021-08-19T19:48:46.471Z"
   },
   {
    "duration": 8,
    "start_time": "2021-08-19T19:48:48.563Z"
   },
   {
    "duration": 585,
    "start_time": "2021-08-19T19:48:50.202Z"
   },
   {
    "duration": 476,
    "start_time": "2021-08-19T19:48:58.523Z"
   },
   {
    "duration": 1149,
    "start_time": "2021-08-20T18:47:54.209Z"
   },
   {
    "duration": 25,
    "start_time": "2021-08-20T18:47:55.798Z"
   },
   {
    "duration": 4,
    "start_time": "2021-08-20T18:47:59.529Z"
   },
   {
    "duration": 16,
    "start_time": "2021-08-20T18:48:38.676Z"
   },
   {
    "duration": 12,
    "start_time": "2021-08-20T18:48:39.298Z"
   },
   {
    "duration": 17,
    "start_time": "2021-08-20T18:48:42.948Z"
   },
   {
    "duration": 264,
    "start_time": "2021-08-20T18:57:34.457Z"
   },
   {
    "duration": 323,
    "start_time": "2021-08-20T18:57:36.883Z"
   },
   {
    "duration": 8,
    "start_time": "2021-08-20T18:57:40.572Z"
   },
   {
    "duration": 7,
    "start_time": "2021-08-20T18:57:42.252Z"
   },
   {
    "duration": 309,
    "start_time": "2021-08-20T18:57:44.653Z"
   },
   {
    "duration": 17,
    "start_time": "2021-08-20T19:08:11.114Z"
   },
   {
    "duration": 17,
    "start_time": "2021-08-20T19:10:30.035Z"
   },
   {
    "duration": 24,
    "start_time": "2021-08-20T19:10:36.462Z"
   },
   {
    "duration": 24,
    "start_time": "2021-08-20T19:11:54.543Z"
   },
   {
    "duration": 21,
    "start_time": "2021-08-20T19:12:14.863Z"
   },
   {
    "duration": 27,
    "start_time": "2021-08-20T19:12:22.712Z"
   },
   {
    "duration": 26,
    "start_time": "2021-08-20T19:14:28.909Z"
   },
   {
    "duration": 25,
    "start_time": "2021-08-20T19:15:14.870Z"
   },
   {
    "duration": 16,
    "start_time": "2021-08-20T19:20:23.272Z"
   },
   {
    "duration": 94,
    "start_time": "2021-08-20T19:23:25.824Z"
   },
   {
    "duration": 87,
    "start_time": "2021-08-20T19:23:36.108Z"
   },
   {
    "duration": 345,
    "start_time": "2021-08-20T19:23:46.064Z"
   },
   {
    "duration": 432,
    "start_time": "2021-08-20T19:23:59.244Z"
   },
   {
    "duration": 79,
    "start_time": "2021-08-20T19:24:34.962Z"
   },
   {
    "duration": 334,
    "start_time": "2021-08-20T19:24:38.813Z"
   },
   {
    "duration": 262,
    "start_time": "2021-08-20T19:25:02.426Z"
   },
   {
    "duration": 269,
    "start_time": "2021-08-20T19:25:17.493Z"
   },
   {
    "duration": 306,
    "start_time": "2021-08-20T19:26:39.685Z"
   },
   {
    "duration": 221,
    "start_time": "2021-08-20T19:29:08.847Z"
   },
   {
    "duration": 404,
    "start_time": "2021-08-20T19:29:42.906Z"
   },
   {
    "duration": 446,
    "start_time": "2021-08-20T19:29:50.639Z"
   },
   {
    "duration": 437,
    "start_time": "2021-08-20T19:30:06.366Z"
   },
   {
    "duration": 262,
    "start_time": "2021-08-20T19:30:20.136Z"
   },
   {
    "duration": 311,
    "start_time": "2021-08-20T19:30:47.704Z"
   },
   {
    "duration": 4149,
    "start_time": "2021-08-20T19:32:12.005Z"
   },
   {
    "duration": 1082,
    "start_time": "2021-08-20T19:37:55.884Z"
   },
   {
    "duration": 25,
    "start_time": "2021-08-20T19:38:01.294Z"
   },
   {
    "duration": 5,
    "start_time": "2021-08-20T19:38:04.174Z"
   },
   {
    "duration": 17,
    "start_time": "2021-08-20T19:38:06.873Z"
   },
   {
    "duration": 13,
    "start_time": "2021-08-20T19:38:07.852Z"
   },
   {
    "duration": 18,
    "start_time": "2021-08-20T19:38:10.515Z"
   },
   {
    "duration": 259,
    "start_time": "2021-08-20T19:38:13.124Z"
   },
   {
    "duration": 8,
    "start_time": "2021-08-20T19:38:16.634Z"
   },
   {
    "duration": 7,
    "start_time": "2021-08-20T19:38:16.884Z"
   },
   {
    "duration": 312,
    "start_time": "2021-08-20T19:38:18.114Z"
   },
   {
    "duration": 28,
    "start_time": "2021-08-20T19:38:22.599Z"
   },
   {
    "duration": 124,
    "start_time": "2021-08-20T19:41:03.441Z"
   },
   {
    "duration": 15,
    "start_time": "2021-08-20T19:41:06.572Z"
   },
   {
    "duration": 5,
    "start_time": "2021-08-20T19:41:09.609Z"
   },
   {
    "duration": 16,
    "start_time": "2021-08-20T19:41:11.864Z"
   },
   {
    "duration": 12,
    "start_time": "2021-08-20T19:41:13.805Z"
   },
   {
    "duration": 15,
    "start_time": "2021-08-20T19:41:15.970Z"
   },
   {
    "duration": 238,
    "start_time": "2021-08-20T19:41:18.508Z"
   },
   {
    "duration": 363,
    "start_time": "2021-08-20T19:41:22.143Z"
   },
   {
    "duration": 9,
    "start_time": "2021-08-20T19:41:25.856Z"
   },
   {
    "duration": 6,
    "start_time": "2021-08-20T19:41:26.464Z"
   },
   {
    "duration": 308,
    "start_time": "2021-08-20T19:41:29.298Z"
   },
   {
    "duration": 26,
    "start_time": "2021-08-20T19:41:33.162Z"
   },
   {
    "duration": 19,
    "start_time": "2021-08-20T19:41:54.509Z"
   },
   {
    "duration": 277,
    "start_time": "2021-08-20T19:42:07.530Z"
   },
   {
    "duration": 543,
    "start_time": "2021-08-20T19:42:19.216Z"
   },
   {
    "duration": 561,
    "start_time": "2021-08-20T19:43:53.678Z"
   },
   {
    "duration": 22,
    "start_time": "2021-08-20T19:58:15.146Z"
   },
   {
    "duration": 83,
    "start_time": "2021-08-20T19:58:36.319Z"
   },
   {
    "duration": 17,
    "start_time": "2021-08-20T19:58:39.419Z"
   },
   {
    "duration": 19,
    "start_time": "2021-08-20T19:58:49.556Z"
   },
   {
    "duration": 16,
    "start_time": "2021-08-20T20:03:55.485Z"
   },
   {
    "duration": 41,
    "start_time": "2021-08-20T20:04:31.883Z"
   },
   {
    "duration": 26,
    "start_time": "2021-08-20T20:05:45.655Z"
   },
   {
    "duration": 265,
    "start_time": "2021-08-20T20:06:00.945Z"
   },
   {
    "duration": 15,
    "start_time": "2021-08-20T20:06:07.686Z"
   },
   {
    "duration": 529,
    "start_time": "2021-08-20T20:06:23.735Z"
   },
   {
    "duration": 295,
    "start_time": "2021-08-20T20:06:35.842Z"
   },
   {
    "duration": 2092,
    "start_time": "2021-08-21T06:46:47.431Z"
   },
   {
    "duration": 44,
    "start_time": "2021-08-21T06:46:54.043Z"
   },
   {
    "duration": 9,
    "start_time": "2021-08-21T06:46:56.859Z"
   },
   {
    "duration": 35,
    "start_time": "2021-08-21T06:46:59.715Z"
   },
   {
    "duration": 19,
    "start_time": "2021-08-21T06:47:02.413Z"
   },
   {
    "duration": 34,
    "start_time": "2021-08-21T06:47:05.439Z"
   },
   {
    "duration": 589,
    "start_time": "2021-08-21T06:47:08.734Z"
   },
   {
    "duration": 615,
    "start_time": "2021-08-21T06:47:11.731Z"
   },
   {
    "duration": 17,
    "start_time": "2021-08-21T06:47:17.333Z"
   },
   {
    "duration": 13,
    "start_time": "2021-08-21T06:47:17.943Z"
   },
   {
    "duration": 519,
    "start_time": "2021-08-21T06:47:18.821Z"
   },
   {
    "duration": 40,
    "start_time": "2021-08-21T06:47:23.982Z"
   },
   {
    "duration": 132,
    "start_time": "2021-08-21T06:49:21.306Z"
   },
   {
    "duration": 124,
    "start_time": "2021-08-21T06:49:26.685Z"
   },
   {
    "duration": 50,
    "start_time": "2021-08-21T06:49:28.883Z"
   },
   {
    "duration": 50,
    "start_time": "2021-08-21T06:49:38.973Z"
   },
   {
    "duration": 41,
    "start_time": "2021-08-21T06:50:26.853Z"
   },
   {
    "duration": 21,
    "start_time": "2021-08-21T06:50:40.603Z"
   },
   {
    "duration": 36,
    "start_time": "2021-08-21T06:51:14.093Z"
   },
   {
    "duration": 321,
    "start_time": "2021-08-21T06:51:19.617Z"
   },
   {
    "duration": 400,
    "start_time": "2021-08-21T06:51:57.663Z"
   },
   {
    "duration": 771,
    "start_time": "2021-08-21T06:52:32.676Z"
   },
   {
    "duration": 23,
    "start_time": "2021-08-21T06:52:37.313Z"
   },
   {
    "duration": 532,
    "start_time": "2021-08-21T06:52:39.706Z"
   },
   {
    "duration": 4064,
    "start_time": "2021-08-21T06:52:52.056Z"
   },
   {
    "duration": 136,
    "start_time": "2021-08-21T06:55:20.366Z"
   },
   {
    "duration": 657,
    "start_time": "2021-08-21T06:55:24.766Z"
   },
   {
    "duration": 369,
    "start_time": "2021-08-21T06:55:48.833Z"
   },
   {
    "duration": 675,
    "start_time": "2021-08-21T06:55:55.762Z"
   },
   {
    "duration": 36,
    "start_time": "2021-08-21T06:56:07.333Z"
   },
   {
    "duration": 698,
    "start_time": "2021-08-21T06:56:26.564Z"
   },
   {
    "duration": 37,
    "start_time": "2021-08-21T06:59:02.791Z"
   },
   {
    "duration": 415,
    "start_time": "2021-08-21T06:59:29.164Z"
   },
   {
    "duration": 1032,
    "start_time": "2021-08-21T06:59:38.575Z"
   },
   {
    "duration": 118,
    "start_time": "2021-08-21T07:00:15.271Z"
   },
   {
    "duration": 849,
    "start_time": "2021-08-21T07:00:22.063Z"
   },
   {
    "duration": 214,
    "start_time": "2021-08-21T07:03:30.853Z"
   },
   {
    "duration": 629,
    "start_time": "2021-08-21T07:03:40.373Z"
   },
   {
    "duration": 219,
    "start_time": "2021-08-21T07:03:56.884Z"
   },
   {
    "duration": 616,
    "start_time": "2021-08-21T07:05:36.084Z"
   },
   {
    "duration": 523,
    "start_time": "2021-08-21T07:06:11.056Z"
   },
   {
    "duration": 477,
    "start_time": "2021-08-21T07:06:19.477Z"
   },
   {
    "duration": 341,
    "start_time": "2021-08-21T07:07:01.657Z"
   },
   {
    "duration": 641,
    "start_time": "2021-08-21T07:08:07.286Z"
   },
   {
    "duration": 357,
    "start_time": "2021-08-21T07:08:15.546Z"
   },
   {
    "duration": 366,
    "start_time": "2021-08-21T07:26:14.173Z"
   },
   {
    "duration": 1241,
    "start_time": "2021-08-21T07:29:26.063Z"
   },
   {
    "duration": 397,
    "start_time": "2021-08-21T07:29:44.593Z"
   },
   {
    "duration": 21,
    "start_time": "2021-08-21T07:33:40.958Z"
   },
   {
    "duration": 25,
    "start_time": "2021-08-21T07:40:37.827Z"
   },
   {
    "duration": 40,
    "start_time": "2021-08-21T07:41:40.976Z"
   },
   {
    "duration": 42,
    "start_time": "2021-08-21T07:42:07.803Z"
   },
   {
    "duration": 21,
    "start_time": "2021-08-21T07:42:48.902Z"
   },
   {
    "duration": 36,
    "start_time": "2021-08-21T07:42:52.182Z"
   },
   {
    "duration": 345,
    "start_time": "2021-08-21T07:42:55.267Z"
   },
   {
    "duration": 387,
    "start_time": "2021-08-21T07:43:02.207Z"
   },
   {
    "duration": 734,
    "start_time": "2021-08-21T07:46:46.788Z"
   },
   {
    "duration": 854,
    "start_time": "2021-08-21T07:47:44.094Z"
   },
   {
    "duration": 864,
    "start_time": "2021-08-21T07:48:02.386Z"
   },
   {
    "duration": 690,
    "start_time": "2021-08-21T07:48:51.580Z"
   },
   {
    "duration": 880,
    "start_time": "2021-08-21T07:49:14.503Z"
   },
   {
    "duration": 759,
    "start_time": "2021-08-21T07:49:23.557Z"
   },
   {
    "duration": 714,
    "start_time": "2021-08-21T07:49:43.660Z"
   },
   {
    "duration": 534,
    "start_time": "2021-08-21T07:49:52.907Z"
   },
   {
    "duration": 9,
    "start_time": "2021-08-21T08:01:28.487Z"
   },
   {
    "duration": 9,
    "start_time": "2021-08-21T08:02:01.547Z"
   },
   {
    "duration": 17,
    "start_time": "2021-08-21T08:06:11.877Z"
   },
   {
    "duration": 1513,
    "start_time": "2021-08-21T17:04:30.872Z"
   },
   {
    "duration": 27,
    "start_time": "2021-08-21T17:04:32.388Z"
   },
   {
    "duration": 7,
    "start_time": "2021-08-21T17:04:34.797Z"
   },
   {
    "duration": 22,
    "start_time": "2021-08-21T17:04:37.236Z"
   },
   {
    "duration": 18,
    "start_time": "2021-08-21T17:04:39.194Z"
   },
   {
    "duration": 25,
    "start_time": "2021-08-21T17:04:41.646Z"
   },
   {
    "duration": 399,
    "start_time": "2021-08-21T17:04:43.797Z"
   },
   {
    "duration": 664,
    "start_time": "2021-08-21T17:04:51.182Z"
   },
   {
    "duration": 15,
    "start_time": "2021-08-21T17:05:00.358Z"
   },
   {
    "duration": 9,
    "start_time": "2021-08-21T17:05:01.006Z"
   },
   {
    "duration": 498,
    "start_time": "2021-08-21T17:05:05.867Z"
   },
   {
    "duration": 41,
    "start_time": "2021-08-21T17:05:10.145Z"
   },
   {
    "duration": 22,
    "start_time": "2021-08-21T17:05:12.297Z"
   },
   {
    "duration": 55,
    "start_time": "2021-08-21T17:05:15.585Z"
   },
   {
    "duration": 353,
    "start_time": "2021-08-21T17:05:19.933Z"
   },
   {
    "duration": 376,
    "start_time": "2021-08-21T17:05:22.908Z"
   },
   {
    "duration": 17,
    "start_time": "2021-08-21T17:05:27.226Z"
   },
   {
    "duration": 1779,
    "start_time": "2021-08-21T17:07:57.080Z"
   },
   {
    "duration": 17,
    "start_time": "2021-08-21T17:15:00.573Z"
   },
   {
    "duration": 1741,
    "start_time": "2021-08-21T17:15:10.622Z"
   },
   {
    "duration": 16,
    "start_time": "2021-08-21T17:15:39.766Z"
   },
   {
    "duration": 17,
    "start_time": "2021-08-21T17:16:06.468Z"
   },
   {
    "duration": 1674,
    "start_time": "2021-08-21T17:24:32.790Z"
   },
   {
    "duration": 17,
    "start_time": "2021-08-21T17:25:26.951Z"
   },
   {
    "duration": 1760,
    "start_time": "2021-08-21T17:25:47.003Z"
   },
   {
    "duration": 19,
    "start_time": "2021-08-21T17:26:47.785Z"
   },
   {
    "duration": 398,
    "start_time": "2021-08-21T17:27:03.645Z"
   },
   {
    "duration": 1700,
    "start_time": "2021-08-21T17:27:08.802Z"
   },
   {
    "duration": 16,
    "start_time": "2021-08-21T17:27:53.418Z"
   },
   {
    "duration": 1791,
    "start_time": "2021-08-21T17:28:07.991Z"
   },
   {
    "duration": 273,
    "start_time": "2021-08-21T17:35:08.057Z"
   },
   {
    "duration": 6869,
    "start_time": "2021-08-21T17:35:33.516Z"
   },
   {
    "duration": 6631,
    "start_time": "2021-08-21T17:35:46.006Z"
   },
   {
    "duration": 16,
    "start_time": "2021-08-21T17:36:45.759Z"
   },
   {
    "duration": 7514,
    "start_time": "2021-08-21T17:36:54.000Z"
   },
   {
    "duration": 147,
    "start_time": "2021-08-21T17:37:12.350Z"
   },
   {
    "duration": 24,
    "start_time": "2021-08-21T17:37:19.700Z"
   },
   {
    "duration": 420,
    "start_time": "2021-08-21T17:37:24.610Z"
   },
   {
    "duration": 421,
    "start_time": "2021-08-21T17:37:54.641Z"
   },
   {
    "duration": 429,
    "start_time": "2021-08-21T17:38:00.351Z"
   },
   {
    "duration": 544,
    "start_time": "2021-08-21T17:39:07.160Z"
   },
   {
    "duration": 582,
    "start_time": "2021-08-21T17:39:22.651Z"
   },
   {
    "duration": 386,
    "start_time": "2021-08-21T17:40:21.121Z"
   },
   {
    "duration": 426,
    "start_time": "2021-08-21T17:40:31.520Z"
   },
   {
    "duration": 26,
    "start_time": "2021-08-21T17:56:22.022Z"
   },
   {
    "duration": 31,
    "start_time": "2021-08-21T18:08:46.514Z"
   },
   {
    "duration": 337,
    "start_time": "2021-08-21T18:09:01.683Z"
   },
   {
    "duration": 303,
    "start_time": "2021-08-21T18:09:12.699Z"
   },
   {
    "duration": 306,
    "start_time": "2021-08-21T18:09:33.753Z"
   },
   {
    "duration": 322,
    "start_time": "2021-08-21T18:10:01.101Z"
   },
   {
    "duration": 292,
    "start_time": "2021-08-21T18:10:12.399Z"
   },
   {
    "duration": 13,
    "start_time": "2021-08-21T18:10:23.031Z"
   },
   {
    "duration": 66,
    "start_time": "2021-08-21T18:10:34.204Z"
   },
   {
    "duration": 23,
    "start_time": "2021-08-21T18:10:36.776Z"
   },
   {
    "duration": 7,
    "start_time": "2021-08-21T18:10:39.227Z"
   },
   {
    "duration": 23,
    "start_time": "2021-08-21T18:10:41.422Z"
   },
   {
    "duration": 15,
    "start_time": "2021-08-21T18:10:41.609Z"
   },
   {
    "duration": 23,
    "start_time": "2021-08-21T18:10:41.972Z"
   },
   {
    "duration": 10,
    "start_time": "2021-08-21T18:10:49.249Z"
   },
   {
    "duration": 33,
    "start_time": "2021-08-21T18:10:56.398Z"
   },
   {
    "duration": 294,
    "start_time": "2021-08-21T18:11:29.141Z"
   },
   {
    "duration": 15,
    "start_time": "2021-08-21T18:11:39.158Z"
   },
   {
    "duration": 56,
    "start_time": "2021-08-21T18:11:53.584Z"
   },
   {
    "duration": 22,
    "start_time": "2021-08-21T18:11:53.757Z"
   },
   {
    "duration": 6,
    "start_time": "2021-08-21T18:11:54.255Z"
   },
   {
    "duration": 22,
    "start_time": "2021-08-21T18:11:55.180Z"
   },
   {
    "duration": 16,
    "start_time": "2021-08-21T18:11:55.343Z"
   },
   {
    "duration": 23,
    "start_time": "2021-08-21T18:11:55.716Z"
   },
   {
    "duration": 391,
    "start_time": "2021-08-21T18:11:56.058Z"
   },
   {
    "duration": 586,
    "start_time": "2021-08-21T18:11:56.455Z"
   },
   {
    "duration": 18,
    "start_time": "2021-08-21T18:12:20.661Z"
   },
   {
    "duration": 23,
    "start_time": "2021-08-21T18:12:25.621Z"
   },
   {
    "duration": 89,
    "start_time": "2021-08-21T18:13:31.034Z"
   },
   {
    "duration": 20,
    "start_time": "2021-08-21T18:14:11.121Z"
   },
   {
    "duration": 27,
    "start_time": "2021-08-21T18:14:18.081Z"
   },
   {
    "duration": 85,
    "start_time": "2021-08-21T18:14:48.444Z"
   },
   {
    "duration": 96,
    "start_time": "2021-08-21T18:15:06.742Z"
   },
   {
    "duration": 89,
    "start_time": "2021-08-21T18:15:16.073Z"
   },
   {
    "duration": 21,
    "start_time": "2021-08-21T18:15:29.593Z"
   },
   {
    "duration": 28,
    "start_time": "2021-08-21T18:15:35.663Z"
   },
   {
    "duration": 88,
    "start_time": "2021-08-21T18:16:06.108Z"
   },
   {
    "duration": 27,
    "start_time": "2021-08-21T18:16:20.981Z"
   },
   {
    "duration": 27,
    "start_time": "2021-08-21T18:16:33.781Z"
   },
   {
    "duration": 6621,
    "start_time": "2021-08-21T18:22:24.421Z"
   },
   {
    "duration": 24,
    "start_time": "2021-08-21T18:22:45.883Z"
   },
   {
    "duration": 25,
    "start_time": "2021-08-21T18:29:50.130Z"
   },
   {
    "duration": 24,
    "start_time": "2021-08-21T18:30:18.762Z"
   },
   {
    "duration": 26,
    "start_time": "2021-08-21T18:30:25.536Z"
   },
   {
    "duration": 32,
    "start_time": "2021-08-21T18:30:32.820Z"
   },
   {
    "duration": 15,
    "start_time": "2021-08-21T18:31:15.172Z"
   },
   {
    "duration": 155,
    "start_time": "2021-08-21T18:31:28.386Z"
   },
   {
    "duration": 23,
    "start_time": "2021-08-21T18:31:35.272Z"
   },
   {
    "duration": 25,
    "start_time": "2021-08-21T18:32:50.000Z"
   },
   {
    "duration": 21,
    "start_time": "2021-08-21T18:33:22.515Z"
   },
   {
    "duration": 29,
    "start_time": "2021-08-21T18:33:39.176Z"
   },
   {
    "duration": 20,
    "start_time": "2021-08-21T18:34:01.595Z"
   },
   {
    "duration": 21,
    "start_time": "2021-08-21T18:34:41.671Z"
   },
   {
    "duration": 22,
    "start_time": "2021-08-21T18:38:30.395Z"
   },
   {
    "duration": 22,
    "start_time": "2021-08-21T18:38:51.754Z"
   },
   {
    "duration": 20,
    "start_time": "2021-08-21T18:39:17.347Z"
   },
   {
    "duration": 21,
    "start_time": "2021-08-21T18:45:39.533Z"
   },
   {
    "duration": 21,
    "start_time": "2021-08-21T18:45:43.619Z"
   },
   {
    "duration": 21,
    "start_time": "2021-08-21T18:45:47.489Z"
   },
   {
    "duration": 22,
    "start_time": "2021-08-21T18:45:51.469Z"
   },
   {
    "duration": 20,
    "start_time": "2021-08-21T18:45:56.281Z"
   },
   {
    "duration": 22,
    "start_time": "2021-08-21T18:45:59.797Z"
   },
   {
    "duration": 275,
    "start_time": "2021-08-21T18:47:26.558Z"
   },
   {
    "duration": 348,
    "start_time": "2021-08-21T18:47:36.436Z"
   },
   {
    "duration": 12,
    "start_time": "2021-08-21T18:47:45.292Z"
   },
   {
    "duration": 6,
    "start_time": "2021-08-21T18:49:37.668Z"
   },
   {
    "duration": 10,
    "start_time": "2021-08-21T18:49:44.109Z"
   },
   {
    "duration": 9,
    "start_time": "2021-08-21T18:50:20.347Z"
   },
   {
    "duration": 17,
    "start_time": "2021-08-21T18:50:33.322Z"
   },
   {
    "duration": 12,
    "start_time": "2021-08-21T18:50:48.279Z"
   },
   {
    "duration": 11,
    "start_time": "2021-08-21T18:51:44.039Z"
   },
   {
    "duration": 6,
    "start_time": "2021-08-21T18:51:52.167Z"
   },
   {
    "duration": 9,
    "start_time": "2021-08-21T18:51:58.969Z"
   },
   {
    "duration": 13,
    "start_time": "2021-08-21T18:52:06.563Z"
   },
   {
    "duration": 12,
    "start_time": "2021-08-21T18:52:35.762Z"
   },
   {
    "duration": 9,
    "start_time": "2021-08-21T18:53:03.342Z"
   },
   {
    "duration": 6,
    "start_time": "2021-08-21T18:53:06.922Z"
   },
   {
    "duration": 11,
    "start_time": "2021-08-21T18:53:55.862Z"
   },
   {
    "duration": 9,
    "start_time": "2021-08-21T18:54:22.390Z"
   },
   {
    "duration": 4,
    "start_time": "2021-08-21T18:54:31.072Z"
   },
   {
    "duration": 6,
    "start_time": "2021-08-21T18:54:36.842Z"
   },
   {
    "duration": 11,
    "start_time": "2021-08-21T18:55:17.683Z"
   },
   {
    "duration": 6,
    "start_time": "2021-08-21T18:55:20.523Z"
   },
   {
    "duration": 7,
    "start_time": "2021-08-21T18:55:22.543Z"
   },
   {
    "duration": 10,
    "start_time": "2021-08-21T18:56:39.880Z"
   },
   {
    "duration": 7,
    "start_time": "2021-08-21T18:56:41.460Z"
   },
   {
    "duration": 6,
    "start_time": "2021-08-21T18:56:58.553Z"
   },
   {
    "duration": 10,
    "start_time": "2021-08-21T19:01:25.963Z"
   },
   {
    "duration": 11,
    "start_time": "2021-08-21T19:01:41.164Z"
   },
   {
    "duration": 7,
    "start_time": "2021-08-21T19:01:55.710Z"
   },
   {
    "duration": 302,
    "start_time": "2021-08-22T17:02:40.684Z"
   },
   {
    "duration": 1192,
    "start_time": "2021-08-22T17:03:14.033Z"
   },
   {
    "duration": 22,
    "start_time": "2021-08-22T17:03:18.303Z"
   },
   {
    "duration": 5,
    "start_time": "2021-08-22T17:03:21.302Z"
   },
   {
    "duration": 14,
    "start_time": "2021-08-22T17:03:23.753Z"
   },
   {
    "duration": 11,
    "start_time": "2021-08-22T17:03:25.870Z"
   },
   {
    "duration": 17,
    "start_time": "2021-08-22T17:03:28.110Z"
   },
   {
    "duration": 224,
    "start_time": "2021-08-22T17:03:31.083Z"
   },
   {
    "duration": 319,
    "start_time": "2021-08-22T17:03:34.223Z"
   },
   {
    "duration": 9,
    "start_time": "2021-08-22T17:03:37.360Z"
   },
   {
    "duration": 7,
    "start_time": "2021-08-22T17:03:39.096Z"
   },
   {
    "duration": 392,
    "start_time": "2021-08-22T17:03:40.978Z"
   },
   {
    "duration": 26,
    "start_time": "2021-08-22T17:03:47.183Z"
   },
   {
    "duration": 14,
    "start_time": "2021-08-22T17:03:49.753Z"
   },
   {
    "duration": 23,
    "start_time": "2021-08-22T17:03:52.062Z"
   },
   {
    "duration": 200,
    "start_time": "2021-08-22T17:03:54.863Z"
   },
   {
    "duration": 220,
    "start_time": "2021-08-22T17:03:58.202Z"
   },
   {
    "duration": 12,
    "start_time": "2021-08-22T17:04:03.132Z"
   },
   {
    "duration": 15,
    "start_time": "2021-08-22T17:04:08.862Z"
   },
   {
    "duration": 11,
    "start_time": "2021-08-22T17:04:14.510Z"
   },
   {
    "duration": 11,
    "start_time": "2021-08-22T17:04:19.338Z"
   },
   {
    "duration": 10,
    "start_time": "2021-08-22T17:04:23.202Z"
   },
   {
    "duration": 16,
    "start_time": "2021-08-22T17:04:27.810Z"
   },
   {
    "duration": 15,
    "start_time": "2021-08-22T17:04:45.111Z"
   },
   {
    "duration": 232,
    "start_time": "2021-08-22T17:04:52.838Z"
   },
   {
    "duration": 13,
    "start_time": "2021-08-22T17:26:15.952Z"
   },
   {
    "duration": 7,
    "start_time": "2021-08-22T17:39:27.677Z"
   },
   {
    "duration": 5,
    "start_time": "2021-08-22T17:39:31.257Z"
   },
   {
    "duration": 1527,
    "start_time": "2021-08-23T01:27:23.899Z"
   },
   {
    "duration": 26,
    "start_time": "2021-08-23T01:27:25.429Z"
   },
   {
    "duration": 6,
    "start_time": "2021-08-23T01:27:25.459Z"
   },
   {
    "duration": 46,
    "start_time": "2021-08-23T01:27:25.468Z"
   },
   {
    "duration": 13,
    "start_time": "2021-08-23T01:27:25.517Z"
   },
   {
    "duration": 21,
    "start_time": "2021-08-23T01:27:25.533Z"
   },
   {
    "duration": 424,
    "start_time": "2021-08-23T01:27:25.557Z"
   },
   {
    "duration": 548,
    "start_time": "2021-08-23T01:27:25.984Z"
   },
   {
    "duration": 11,
    "start_time": "2021-08-23T01:27:26.536Z"
   },
   {
    "duration": 9,
    "start_time": "2021-08-23T01:27:26.550Z"
   },
   {
    "duration": 522,
    "start_time": "2021-08-23T01:27:26.561Z"
   },
   {
    "duration": 47,
    "start_time": "2021-08-23T01:27:27.086Z"
   },
   {
    "duration": 24,
    "start_time": "2021-08-23T01:27:27.135Z"
   },
   {
    "duration": 81,
    "start_time": "2021-08-23T01:27:27.164Z"
   },
   {
    "duration": 360,
    "start_time": "2021-08-23T01:27:27.248Z"
   },
   {
    "duration": 371,
    "start_time": "2021-08-23T01:27:27.610Z"
   },
   {
    "duration": 24,
    "start_time": "2021-08-23T01:27:27.983Z"
   },
   {
    "duration": 1829,
    "start_time": "2021-08-23T01:27:28.009Z"
   },
   {
    "duration": 19,
    "start_time": "2021-08-23T01:27:29.841Z"
   },
   {
    "duration": 1736,
    "start_time": "2021-08-23T01:27:29.864Z"
   },
   {
    "duration": 15,
    "start_time": "2021-08-23T01:27:31.602Z"
   },
   {
    "duration": 1759,
    "start_time": "2021-08-23T01:27:31.620Z"
   },
   {
    "duration": 24,
    "start_time": "2021-08-23T01:27:33.381Z"
   },
   {
    "duration": 1653,
    "start_time": "2021-08-23T01:27:33.408Z"
   },
   {
    "duration": 16,
    "start_time": "2021-08-23T01:27:35.064Z"
   },
   {
    "duration": 1671,
    "start_time": "2021-08-23T01:27:35.100Z"
   },
   {
    "duration": 40,
    "start_time": "2021-08-23T01:27:36.778Z"
   },
   {
    "duration": 392,
    "start_time": "2021-08-23T01:27:36.821Z"
   },
   {
    "duration": 29,
    "start_time": "2021-08-23T01:27:37.216Z"
   },
   {
    "duration": 55,
    "start_time": "2021-08-23T01:27:37.248Z"
   },
   {
    "duration": 39,
    "start_time": "2021-08-23T01:27:37.306Z"
   },
   {
    "duration": 20,
    "start_time": "2021-08-23T01:27:37.348Z"
   },
   {
    "duration": 45,
    "start_time": "2021-08-23T01:27:37.371Z"
   },
   {
    "duration": 22,
    "start_time": "2021-08-23T01:27:37.419Z"
   },
   {
    "duration": 20,
    "start_time": "2021-08-23T01:27:37.444Z"
   },
   {
    "duration": 52,
    "start_time": "2021-08-23T01:27:37.467Z"
   },
   {
    "duration": 18,
    "start_time": "2021-08-23T01:27:37.522Z"
   },
   {
    "duration": 12,
    "start_time": "2021-08-23T01:27:37.543Z"
   },
   {
    "duration": 46,
    "start_time": "2021-08-23T01:27:37.557Z"
   },
   {
    "duration": 10,
    "start_time": "2021-08-23T01:27:37.606Z"
   },
   {
    "duration": 7,
    "start_time": "2021-08-23T01:27:37.618Z"
   },
   {
    "duration": 1557,
    "start_time": "2021-08-23T05:19:19.912Z"
   },
   {
    "duration": 27,
    "start_time": "2021-08-23T05:19:21.472Z"
   },
   {
    "duration": 6,
    "start_time": "2021-08-23T05:19:27.212Z"
   },
   {
    "duration": 24,
    "start_time": "2021-08-23T05:19:47.246Z"
   },
   {
    "duration": 17,
    "start_time": "2021-08-23T05:19:51.532Z"
   },
   {
    "duration": 23,
    "start_time": "2021-08-23T05:19:54.681Z"
   },
   {
    "duration": 393,
    "start_time": "2021-08-23T05:19:58.703Z"
   },
   {
    "duration": 550,
    "start_time": "2021-08-23T05:20:02.771Z"
   },
   {
    "duration": 11,
    "start_time": "2021-08-23T05:20:07.952Z"
   },
   {
    "duration": 8,
    "start_time": "2021-08-23T05:20:08.643Z"
   },
   {
    "duration": 516,
    "start_time": "2021-08-23T05:20:12.144Z"
   },
   {
    "duration": 26,
    "start_time": "2021-08-23T05:20:34.109Z"
   },
   {
    "duration": 27,
    "start_time": "2021-08-23T05:20:45.822Z"
   },
   {
    "duration": 6,
    "start_time": "2021-08-23T05:20:55.912Z"
   },
   {
    "duration": 6,
    "start_time": "2021-08-23T05:21:17.250Z"
   },
   {
    "duration": 11,
    "start_time": "2021-08-23T05:21:34.382Z"
   },
   {
    "duration": 10,
    "start_time": "2021-08-23T05:21:41.652Z"
   },
   {
    "duration": 11,
    "start_time": "2021-08-23T05:21:56.457Z"
   },
   {
    "duration": 21,
    "start_time": "2021-08-23T05:22:02.319Z"
   },
   {
    "duration": 11,
    "start_time": "2021-08-23T05:22:07.802Z"
   },
   {
    "duration": 30,
    "start_time": "2021-08-23T05:22:19.989Z"
   },
   {
    "duration": 12,
    "start_time": "2021-08-23T05:22:27.013Z"
   },
   {
    "duration": 60,
    "start_time": "2021-08-23T05:22:56.222Z"
   },
   {
    "duration": 23,
    "start_time": "2021-08-23T05:22:59.142Z"
   },
   {
    "duration": 6,
    "start_time": "2021-08-23T05:23:03.572Z"
   },
   {
    "duration": 23,
    "start_time": "2021-08-23T05:23:07.669Z"
   },
   {
    "duration": 14,
    "start_time": "2021-08-23T05:23:10.289Z"
   },
   {
    "duration": 24,
    "start_time": "2021-08-23T05:23:13.181Z"
   },
   {
    "duration": 381,
    "start_time": "2021-08-23T05:23:17.451Z"
   },
   {
    "duration": 568,
    "start_time": "2021-08-23T05:23:23.722Z"
   },
   {
    "duration": 38,
    "start_time": "2021-08-23T05:23:37.622Z"
   },
   {
    "duration": 22,
    "start_time": "2021-08-23T05:23:41.748Z"
   },
   {
    "duration": 38,
    "start_time": "2021-08-23T05:23:44.841Z"
   },
   {
    "duration": 347,
    "start_time": "2021-08-23T05:23:47.442Z"
   },
   {
    "duration": 439,
    "start_time": "2021-08-23T05:23:53.642Z"
   },
   {
    "duration": 10,
    "start_time": "2021-08-23T05:26:16.160Z"
   },
   {
    "duration": 10,
    "start_time": "2021-08-23T05:26:26.922Z"
   },
   {
    "duration": 28,
    "start_time": "2021-08-23T05:26:34.320Z"
   },
   {
    "duration": 10,
    "start_time": "2021-08-23T05:26:40.027Z"
   },
   {
    "duration": 20,
    "start_time": "2021-08-23T05:26:46.521Z"
   },
   {
    "duration": 20,
    "start_time": "2021-08-23T05:26:51.649Z"
   },
   {
    "duration": 21,
    "start_time": "2021-08-23T05:26:54.879Z"
   },
   {
    "duration": 21,
    "start_time": "2021-08-23T05:36:06.560Z"
   },
   {
    "duration": 30,
    "start_time": "2021-08-23T05:36:15.640Z"
   },
   {
    "duration": 31,
    "start_time": "2021-08-23T05:36:36.972Z"
   },
   {
    "duration": 24,
    "start_time": "2021-08-23T05:37:07.219Z"
   },
   {
    "duration": 25,
    "start_time": "2021-08-23T05:37:21.648Z"
   },
   {
    "duration": 409,
    "start_time": "2021-08-23T05:37:48.953Z"
   },
   {
    "duration": 411,
    "start_time": "2021-08-23T05:38:31.189Z"
   },
   {
    "duration": 39,
    "start_time": "2021-08-23T05:56:12.063Z"
   },
   {
    "duration": 26,
    "start_time": "2021-08-23T06:00:06.287Z"
   },
   {
    "duration": 26,
    "start_time": "2021-08-23T06:00:17.518Z"
   },
   {
    "duration": 2484,
    "start_time": "2021-08-23T06:12:56.144Z"
   },
   {
    "duration": 38,
    "start_time": "2021-08-23T06:13:31.637Z"
   },
   {
    "duration": 588,
    "start_time": "2021-08-23T06:13:46.253Z"
   },
   {
    "duration": 24,
    "start_time": "2021-08-23T06:14:18.556Z"
   },
   {
    "duration": 40,
    "start_time": "2021-08-23T06:21:30.654Z"
   },
   {
    "duration": 26,
    "start_time": "2021-08-23T06:22:04.604Z"
   },
   {
    "duration": 25,
    "start_time": "2021-08-23T06:22:11.562Z"
   },
   {
    "duration": 23,
    "start_time": "2021-08-23T06:40:41.236Z"
   },
   {
    "duration": 59,
    "start_time": "2021-08-23T06:42:48.914Z"
   },
   {
    "duration": 32,
    "start_time": "2021-08-23T06:43:09.003Z"
   },
   {
    "duration": 519,
    "start_time": "2021-08-23T06:44:10.941Z"
   },
   {
    "duration": 374,
    "start_time": "2021-08-23T06:46:56.871Z"
   },
   {
    "duration": 371,
    "start_time": "2021-08-23T06:47:26.847Z"
   },
   {
    "duration": 17,
    "start_time": "2021-08-23T06:49:11.128Z"
   },
   {
    "duration": 16,
    "start_time": "2021-08-23T06:49:39.491Z"
   },
   {
    "duration": 1931,
    "start_time": "2021-08-23T06:49:42.198Z"
   },
   {
    "duration": 17,
    "start_time": "2021-08-23T06:52:29.448Z"
   },
   {
    "duration": 22,
    "start_time": "2021-08-23T06:54:00.880Z"
   },
   {
    "duration": 378,
    "start_time": "2021-08-23T06:54:11.438Z"
   },
   {
    "duration": 1879,
    "start_time": "2021-08-23T06:54:18.538Z"
   },
   {
    "duration": 26,
    "start_time": "2021-08-23T06:55:10.178Z"
   },
   {
    "duration": 438,
    "start_time": "2021-08-23T06:55:20.446Z"
   },
   {
    "duration": 28,
    "start_time": "2021-08-23T06:57:23.525Z"
   },
   {
    "duration": 25,
    "start_time": "2021-08-23T06:57:26.888Z"
   },
   {
    "duration": 24,
    "start_time": "2021-08-23T06:57:30.129Z"
   }
  ],
  "kernelspec": {
   "display_name": "Python 3",
   "language": "python",
   "name": "python3"
  },
  "language_info": {
   "codemirror_mode": {
    "name": "ipython",
    "version": 3
   },
   "file_extension": ".py",
   "mimetype": "text/x-python",
   "name": "python",
   "nbconvert_exporter": "python",
   "pygments_lexer": "ipython3",
   "version": "3.8.8"
  },
  "toc": {
   "base_numbering": 1,
   "nav_menu": {},
   "number_sections": true,
   "sideBar": true,
   "skip_h1_title": true,
   "title_cell": "Table of Contents",
   "title_sidebar": "Содержание",
   "toc_cell": false,
   "toc_position": {},
   "toc_section_display": true,
   "toc_window_display": true
  }
 },
 "nbformat": 4,
 "nbformat_minor": 2
}
