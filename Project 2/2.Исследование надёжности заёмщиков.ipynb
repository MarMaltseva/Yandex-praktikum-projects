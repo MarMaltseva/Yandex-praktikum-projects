{
 "cells": [
  {
   "cell_type": "markdown",
   "metadata": {},
   "source": [
    "# Исследование надёжности заёмщиков\n",
    "\n",
    "Заказчик — кредитный отдел банка. Нужно разобраться, влияет ли семейное положение и количество детей клиента на факт погашения кредита в срок. Входные данные от банка — статистика о платёжеспособности клиентов.\n",
    "\n",
    "Результаты исследования будут учтены при построении модели **кредитного скоринга** — специальной системы, которая оценивает способность потенциального заёмщика вернуть кредит банку."
   ]
  },
  {
   "cell_type": "markdown",
   "metadata": {},
   "source": [
    "## Изучение общей информации о данных"
   ]
  },
  {
   "cell_type": "code",
   "execution_count": 104,
   "metadata": {},
   "outputs": [
    {
     "name": "stdout",
     "output_type": "stream",
     "text": [
      "<class 'pandas.core.frame.DataFrame'>\n",
      "RangeIndex: 21525 entries, 0 to 21524\n",
      "Data columns (total 12 columns):\n",
      "children            21525 non-null int64\n",
      "days_employed       19351 non-null float64\n",
      "dob_years           21525 non-null int64\n",
      "education           21525 non-null object\n",
      "education_id        21525 non-null int64\n",
      "family_status       21525 non-null object\n",
      "family_status_id    21525 non-null int64\n",
      "gender              21525 non-null object\n",
      "income_type         21525 non-null object\n",
      "debt                21525 non-null int64\n",
      "total_income        19351 non-null float64\n",
      "purpose             21525 non-null object\n",
      "dtypes: float64(2), int64(5), object(5)\n",
      "memory usage: 2.0+ MB\n"
     ]
    }
   ],
   "source": [
    "import pandas as pd\n",
    "solvency_statistics = pd.read_csv('/datasets/data.csv')\n",
    "#print(solvency_statistics.head(5)) #распечатаем первые 5 строк таблицы\n",
    "solvency_statistics.info() #запросим сводную информацию о данных"
   ]
  },
  {
   "cell_type": "markdown",
   "metadata": {},
   "source": [
    "**Вывод**"
   ]
  },
  {
   "cell_type": "markdown",
   "metadata": {},
   "source": [
    "Каждая строка содержит статистику платёжеспособности клиентов, включающую в себя информацию о наличии у заемщика детей, его семейном статусе, трудовом стаже и текущем статусе, размере ежемесячного дохода  По итогам действий, осущественных на первом шаге, можно выявить следующие недочеты полученных данных:\n",
    "1. некоторые названия столбцов не вполне верно передают суть столбца и требуют корректировки в дальнейшем: children(например, при первом взгляде непонятно- речь идет о факте наличия детей или их количестве), dob_years, debt, total_income, purpose;\n",
    "2. сразу же виден факт наличия пропущенных значений в двух столбцах - days_employed(трудовой стаж) и total_income(ежемесячный доход);\n",
    "3. некоторые типы данных распознаны неправильно: days_employed распознан как float, хотя \"в днях\" предполагает тип int, total_income также распознан как float, хотя предполагался int;\n",
    "4. присутствуют дубликаты, которые в том числе связаны с иным регистром и разными формулировками одного и того же.\n",
    "\n",
    "Следующий этап анализа будет связан с корректировкой и устранением существующих проблем."
   ]
  },
  {
   "cell_type": "markdown",
   "metadata": {},
   "source": [
    "##  Предобработка данных"
   ]
  },
  {
   "cell_type": "markdown",
   "metadata": {},
   "source": [
    "### Корректировка названий столбцов"
   ]
  },
  {
   "cell_type": "code",
   "execution_count": 105,
   "metadata": {},
   "outputs": [],
   "source": [
    "solvency_statistics.set_axis (['number_of_children','days_employed','age_of_clients','educational_level','educational_level_id', 'family_status','family_status_id','gender', 'income_type','debt', 'monthly_income','purpose'], axis = 'columns', inplace = True)"
   ]
  },
  {
   "cell_type": "code",
   "execution_count": 106,
   "metadata": {
    "scrolled": true
   },
   "outputs": [
    {
     "data": {
      "text/plain": [
       "Index(['number_of_children', 'days_employed', 'age_of_clients',\n",
       "       'educational_level', 'educational_level_id', 'family_status',\n",
       "       'family_status_id', 'gender', 'income_type', 'debt', 'monthly_income',\n",
       "       'purpose'],\n",
       "      dtype='object')"
      ]
     },
     "execution_count": 106,
     "metadata": {},
     "output_type": "execute_result"
    }
   ],
   "source": [
    "solvency_statistics.columns"
   ]
  },
  {
   "cell_type": "markdown",
   "metadata": {},
   "source": [
    "### Обработка пропусков"
   ]
  },
  {
   "cell_type": "markdown",
   "metadata": {},
   "source": [
    "Второй шаг второго этапа анализа связан с поиском и обработкой пропущенных значений. В первую очередь установим, какие в данных есть пропуски, где они находятся и как отображаются."
   ]
  },
  {
   "cell_type": "code",
   "execution_count": 107,
   "metadata": {},
   "outputs": [
    {
     "data": {
      "text/plain": [
       "number_of_children         0\n",
       "days_employed           2174\n",
       "age_of_clients             0\n",
       "educational_level          0\n",
       "educational_level_id       0\n",
       "family_status              0\n",
       "family_status_id           0\n",
       "gender                     0\n",
       "income_type                0\n",
       "debt                       0\n",
       "monthly_income          2174\n",
       "purpose                    0\n",
       "dtype: int64"
      ]
     },
     "execution_count": 107,
     "metadata": {},
     "output_type": "execute_result"
    }
   ],
   "source": [
    "solvency_statistics.isna().sum()"
   ]
  },
  {
   "cell_type": "markdown",
   "metadata": {},
   "source": [
    "По результатам проведенных действий можно сделать следующий выводы:\n",
    "1. значения, указывающие на пропущенные значения в данных, - NaN, что позволяет проводить с ними математические операции;\n",
    "2. в нашем датафрейме переменные, в которых присутствуют пропущенные значения, являются количественными(общий трудовой стаж, ежемесячный доход), соответственно, для решения проблемы пропущенных значений стоит обратиться к характерным значениям выборки. "
   ]
  },
  {
   "cell_type": "code",
   "execution_count": 108,
   "metadata": {},
   "outputs": [
    {
     "name": "stdout",
     "output_type": "stream",
     "text": [
      "Количество пропусков в колонке \"days_employed\" до заполнения: 2174\n",
      "Количество пропусков в колонке \"days_employed\" после заполнения: 0\n"
     ]
    }
   ],
   "source": [
    "print('Количество пропусков в колонке \"days_employed\" до заполнения:', solvency_statistics['days_employed'].isna().sum())\n",
    "groups = solvency_statistics.groupby(['educational_level','income_type'])['days_employed'].transform('median')\n",
    "solvency_statistics['days_employed'] = solvency_statistics['days_employed'].fillna(groups)\n",
    "print('Количество пропусков в колонке \"days_employed\" после заполнения:', solvency_statistics['days_employed'].isna().sum())"
   ]
  },
  {
   "cell_type": "code",
   "execution_count": 109,
   "metadata": {},
   "outputs": [
    {
     "name": "stdout",
     "output_type": "stream",
     "text": [
      "Количество пропусков в колонке \"monthly_income\" до заполнения: 2174\n",
      "Количество пропусков в колонке \"monthly_income\" после заполнения: 0\n"
     ]
    }
   ],
   "source": [
    "print('Количество пропусков в колонке \"monthly_income\" до заполнения:', solvency_statistics['monthly_income'].isna().sum())\n",
    "groups = solvency_statistics.groupby(['educational_level','income_type'])['monthly_income'].transform('median')\n",
    "solvency_statistics['monthly_income'] = solvency_statistics['monthly_income'].fillna(groups)\n",
    "print('Количество пропусков в колонке \"monthly_income\" после заполнения:', solvency_statistics['monthly_income'].isna().sum())"
   ]
  },
  {
   "cell_type": "markdown",
   "metadata": {},
   "source": [
    "Следующий этап предобработки данных - обработка нулевых значений, обнаруженных в колонке \"возраст клиента\", и их замена на среднее значение(в случае возраста мы можем взять просто среднее, а не медиану)."
   ]
  },
  {
   "cell_type": "code",
   "execution_count": 118,
   "metadata": {},
   "outputs": [
    {
     "name": "stdout",
     "output_type": "stream",
     "text": [
      "Empty DataFrame\n",
      "Columns: [number_of_children, days_employed, age_of_clients, educational_level, educational_level_id, family_status, family_status_id, gender, income_type, debt, monthly_income, purpose, median_age]\n",
      "Index: []\n"
     ]
    }
   ],
   "source": [
    "solvency_statistics['age_of_clients'].value_counts() # проверим возраст на наличие нулевых значений\n",
    "age_avg = (solvency_statistics.groupby('income_type').agg({'age_of_clients':'median'}).rename(columns = {'age_of_clients': 'median_age'}))\n",
    "data = solvency_statistics.merge(age_avg, on = ['income_type'])\n",
    "data.loc[data['age_of_clients'] == 0, 'age_of_clients'] = data.loc[data['age_of_clients'] == 0, 'median_age'] #заменим нулевые значения на медианные\n",
    "print(data[data['age_of_clients'] == 0])"
   ]
  },
  {
   "cell_type": "markdown",
   "metadata": {},
   "source": [
    "**Вывод**"
   ]
  },
  {
   "cell_type": "markdown",
   "metadata": {},
   "source": [
    "По итогам второго шага были обнаружены 2174 пропущенных значений типа 'NaN' в столбцах с категориальными переменными \"days_employed\" и \"monthly_income\". Среди возможных причин появления пропусков данных - их отсутствие в исходной базе данных(например, данные по доходам трудно восстановить, если человек работает неофициально), возможно также,что данные были неправильно распознаны системой. Не стоит исключать и банальных ошибок, связанных с невнимательностью составителя базы. Соотвественно, пропуски были заполнены на основе стратегии нахождения характерных значений выборки, а именно медианы (для количественных переменных это возможно). Для достижения результата была выбрана стратегия заполнения пропусков с группировкой по нескольким переменным и применением метода transform. Кроме того, были обнаружены нулевые значения в колонке \"возраст\", которые были заменены с помощью медианы в зависимости от типа занятости. \n"
   ]
  },
  {
   "cell_type": "markdown",
   "metadata": {},
   "source": [
    "### Замена типа данных"
   ]
  },
  {
   "cell_type": "markdown",
   "metadata": {},
   "source": [
    "Третий шаг исследования направлен на приведение данных к целочисленному типу для большего удобства дальнейшей работы и восприятия информации."
   ]
  },
  {
   "cell_type": "code",
   "execution_count": 120,
   "metadata": {},
   "outputs": [
    {
     "name": "stdout",
     "output_type": "stream",
     "text": [
      "<class 'pandas.core.frame.DataFrame'>\n",
      "Int64Index: 21525 entries, 0 to 21524\n",
      "Data columns (total 12 columns):\n",
      "number_of_children      21525 non-null int64\n",
      "days_employed           21525 non-null int64\n",
      "age_of_clients          21525 non-null int64\n",
      "educational_level       21525 non-null object\n",
      "educational_level_id    21525 non-null int64\n",
      "family_status           21525 non-null object\n",
      "family_status_id        21525 non-null int64\n",
      "gender                  21525 non-null object\n",
      "income_type             21525 non-null object\n",
      "debt                    21525 non-null int64\n",
      "monthly_income          21525 non-null int64\n",
      "purpose                 21525 non-null object\n",
      "dtypes: int64(7), object(5)\n",
      "memory usage: 2.1+ MB\n"
     ]
    }
   ],
   "source": [
    "data.loc[solvency_statistics['days_employed'] > 25550, 'days_employed'] = data.loc[solvency_statistics['days_employed'] > 25550, 'days_employed'] / 24\n",
    "data['age_of_clients'] = data['age_of_clients'].astype('int')\n",
    "data['days_employed'] = data['days_employed'].astype('int')\n",
    "data['monthly_income'] = data['monthly_income'].astype('int')\n",
    "del data['median_age']\n",
    "data.info()"
   ]
  },
  {
   "cell_type": "code",
   "execution_count": 121,
   "metadata": {},
   "outputs": [
    {
     "name": "stdout",
     "output_type": "stream",
     "text": [
      "0    8437\n",
      "1    4024\n",
      "2    5623\n",
      "3    4124\n",
      "4       6\n",
      "Name: days_employed, dtype: int64\n"
     ]
    }
   ],
   "source": [
    "data['days_employed'] = data['days_employed'].abs() #избавимся от отрицательных значений\n",
    "print(data['days_employed'].head()) #проверим факт ликвидации минуса"
   ]
  },
  {
   "cell_type": "markdown",
   "metadata": {},
   "source": [
    "**Вывод**"
   ]
  },
  {
   "cell_type": "markdown",
   "metadata": {},
   "source": [
    "Данный шаг был направлен на преобразование типов данных от вещественного типа к численному: и колонка 'days_employed', и колонка 'monthly_income' первоначально были распознаны системой как float, что затрудняло дальнейшую работу с данными и делало неудобным как их восприятие, так и анализ. Для изменения данных был выбран метод astype(), позволяющий переводить значения в нужный нам тип. Метод to_numeric() нам не подходил, так как при переводе все числа бы имели тип данных float, что нам не подходит. Кроме того, путем применения аргумента abs() удалось избавиться от отрицательных значений столбца 'days_employed', которые создавали путанницу в данных."
   ]
  },
  {
   "cell_type": "markdown",
   "metadata": {},
   "source": [
    "### Обработка дубликатов"
   ]
  },
  {
   "cell_type": "markdown",
   "metadata": {},
   "source": [
    "Четвертый шаг анализа необходим для поиска и удаления дублирующих значений, искажающих данные.  "
   ]
  },
  {
   "cell_type": "code",
   "execution_count": 122,
   "metadata": {},
   "outputs": [
    {
     "name": "stdout",
     "output_type": "stream",
     "text": [
      "Дубликатов в таблице до обработки данных: 38\n"
     ]
    }
   ],
   "source": [
    "print ('Дубликатов в таблице до обработки данных:', data.duplicated().sum()) # проведем общий подсчет дубликато в таблице"
   ]
  },
  {
   "cell_type": "code",
   "execution_count": 123,
   "metadata": {},
   "outputs": [
    {
     "name": "stdout",
     "output_type": "stream",
     "text": [
      "среднее                15233\n",
      "высшее                  5260\n",
      "неоконченное высшее      744\n",
      "начальное                282\n",
      "ученая степень             6\n",
      "Name: educational_level, dtype: int64\n"
     ]
    }
   ],
   "source": [
    "#print (data['educational_level'].value_counts()) # в первую очередь проверим ункальные значения в строковых данных\n",
    "data['educational_level'] = data['educational_level'].str.lower() # перевод значений в нижний регистр\n",
    "print(data['educational_level'].value_counts())"
   ]
  },
  {
   "cell_type": "code",
   "execution_count": 124,
   "metadata": {},
   "outputs": [
    {
     "name": "stdout",
     "output_type": "stream",
     "text": [
      "женат / замужем          12380\n",
      "гражданский брак          4177\n",
      "не женат / не замужем     2813\n",
      "в разводе                 1195\n",
      "вдовец / вдова             960\n",
      "Name: family_status, dtype: int64\n"
     ]
    }
   ],
   "source": [
    "#print (data['family_status'].value_counts()) # в первую очередь проверим ункальные значения в строковых данных\n",
    "data['family_status'] = data['family_status'].str.lower() # перевод значений в нижний регист\n",
    "print(data['family_status'].value_counts())"
   ]
  },
  {
   "cell_type": "code",
   "execution_count": 125,
   "metadata": {},
   "outputs": [
    {
     "name": "stdout",
     "output_type": "stream",
     "text": [
      "0     14149\n",
      "1      4865\n",
      "2      2055\n",
      "3       330\n",
      "20       76\n",
      "4        41\n",
      "5         9\n",
      "Name: number_of_children, dtype: int64\n"
     ]
    }
   ],
   "source": [
    "#print (data['number_of_children'].value_counts()) #  проверим ункальные значения в числовых данных\n",
    "data['number_of_children'] = data['number_of_children'].abs() # возьмем значения по модулю для ликвидации минуса\n",
    "print (data['number_of_children'].value_counts())"
   ]
  },
  {
   "cell_type": "code",
   "execution_count": 127,
   "metadata": {
    "scrolled": true
   },
   "outputs": [
    {
     "name": "stdout",
     "output_type": "stream",
     "text": [
      "Дубликатов в таблице после обработки данных: 38\n"
     ]
    }
   ],
   "source": [
    "print('Дубликатов в таблице после обработки данных:', data.duplicated().sum())"
   ]
  },
  {
   "cell_type": "code",
   "execution_count": 128,
   "metadata": {},
   "outputs": [
    {
     "name": "stdout",
     "output_type": "stream",
     "text": [
      "<class 'pandas.core.frame.DataFrame'>\n",
      "Int64Index: 21487 entries, 0 to 21524\n",
      "Data columns (total 12 columns):\n",
      "number_of_children      21487 non-null int64\n",
      "days_employed           21487 non-null int64\n",
      "age_of_clients          21487 non-null int64\n",
      "educational_level       21487 non-null object\n",
      "educational_level_id    21487 non-null int64\n",
      "family_status           21487 non-null object\n",
      "family_status_id        21487 non-null int64\n",
      "gender                  21487 non-null object\n",
      "income_type             21487 non-null object\n",
      "debt                    21487 non-null int64\n",
      "monthly_income          21487 non-null int64\n",
      "purpose                 21487 non-null object\n",
      "dtypes: int64(7), object(5)\n",
      "memory usage: 2.1+ MB\n",
      "None\n"
     ]
    }
   ],
   "source": [
    "data = data.drop_duplicates() # удалим дубликаты\n",
    "print(data.info()) # проверим тип данных"
   ]
  },
  {
   "cell_type": "markdown",
   "metadata": {},
   "source": [
    "**Вывод**"
   ]
  },
  {
   "cell_type": "markdown",
   "metadata": {},
   "source": [
    "На этапе поиска и обработки дубликатов в данных, во-первых, был осуществлен ручной поиск дубликатов методом duplicated() в сочетании с методом sum() для формирования первичной картины наличия дубликатов, а также метод value.counts(), позволяющий обнаружить конкретные столбцы с наличием дубликатов. Далее был осуществлен ручной поиск дубликатов с учетом регистра в строковых данных - уровне образования клиента и его семейном положении с помощью вызова метода str.lower(). После данных преобразований все дубликаты были удалены методом drop_duplicates(). "
   ]
  },
  {
   "cell_type": "markdown",
   "metadata": {},
   "source": [
    "### Лемматизация"
   ]
  },
  {
   "cell_type": "markdown",
   "metadata": {},
   "source": [
    "Так как колонка с перечнем целей кредита сдержит в себе множество слов, записанных в разных формах, для дальнейшей работы необходимо провести лемматизацию колонки, на что и направлен пятый шаг анализа."
   ]
  },
  {
   "cell_type": "code",
   "execution_count": 129,
   "metadata": {},
   "outputs": [
    {
     "name": "stdout",
     "output_type": "stream",
     "text": [
      "              word  count\n",
      "1                   55108\n",
      "13    недвижимость   6356\n",
      "0          покупка   5903\n",
      "2            жилье   4463\n",
      "4       автомобиль   4309\n",
      "6      образование   4016\n",
      "23               с   2918\n",
      "19        операция   2606\n",
      "9          свадьба   2343\n",
      "16            свой   2233\n",
      "7               на   2231\n",
      "14   строительство   1879\n",
      "26         высокий   1374\n",
      "21       получение   1315\n",
      "12    коммерческий   1313\n",
      "10             для   1292\n",
      "27           жилой   1231\n",
      "24          сделка    941\n",
      "5   дополнительный    908\n",
      "22      заниматься    905\n",
      "17       подержать    845\n",
      "8       проведение    776\n",
      "18         сыграть    772\n",
      "28           сдача    652\n",
      "11           семья    640\n",
      "15     собственный    635\n",
      "20              со    629\n",
      "29          ремонт    607\n",
      "3     приобретение    462\n",
      "25      профильный    436\n",
      "30     подержанный    119\n",
      "31              \\n      1\n"
     ]
    }
   ],
   "source": [
    "from pymystem3 import Mystem # осуществим лемматизацию с помощью библиотеки  pymystem3\n",
    "m = Mystem()\n",
    "lemmas = m.lemmatize(' '.join(data['purpose']))\n",
    "from collections import Counter\n",
    "lemmas_count = Counter(lemmas)\n",
    "lemmas_count_final = pd.DataFrame.from_dict(lemmas_count, orient='index').reset_index()\n",
    "lemmas_count_final = lemmas_count_final.rename(columns={'index':'word', 0:'count'})# выведем список \"слово-кол-во упоминаний\"\n",
    "print(lemmas_count_final.sort_values(by = 'count', ascending = False))"
   ]
  },
  {
   "cell_type": "markdown",
   "metadata": {},
   "source": [
    "**Вывод**"
   ]
  },
  {
   "cell_type": "markdown",
   "metadata": {},
   "source": [
    "С помощью библиотеки  pymystem3 была осуществлена лемматизация колонки, содержащей информацию о целях кредитования. В результате приведения каждого слова к словарной форме было выделено пять основных категорий, по которым в дальнейшем будет осуществлена категоризация данных: недвижимость, жилье, автомобиль, образование, свадьба. Несмотря на большое количество упоминаний, существительные \"покупка\" и \"операция\" не были включены в перечень, так как чаще всего они употребляются в имеющихся данных в связке с недвижимостью."
   ]
  },
  {
   "cell_type": "markdown",
   "metadata": {},
   "source": [
    "### Категоризация данных"
   ]
  },
  {
   "cell_type": "markdown",
   "metadata": {},
   "source": [
    "Для того, чтобы данные можно было легко воспринимать, проведем категоризацию данных."
   ]
  },
  {
   "cell_type": "code",
   "execution_count": 130,
   "metadata": {},
   "outputs": [
    {
     "name": "stdout",
     "output_type": "stream",
     "text": [
      "недвижимость    10819\n",
      "автомобиль       4309\n",
      "образование      4016\n",
      "свадьба          2343\n",
      "Name: purpose, dtype: int64\n"
     ]
    }
   ],
   "source": [
    "def purpose_category(purpose):\n",
    "    lemmas = m.lemmatize(purpose)\n",
    "    if 'недвижимость' in lemmas:\n",
    "        return 'недвижимость'\n",
    "    if 'жилье' in lemmas:\n",
    "        return 'недвижимость'\n",
    "    if 'автомобиль' in lemmas:\n",
    "        return 'автомобиль'\n",
    "    if 'образование' in lemmas:\n",
    "        return 'образование'\n",
    "    if 'свадьба' in lemmas:\n",
    "        return 'свадьба'\n",
    "    return 'не найдено'\n",
    "data['purpose'] = data['purpose'].apply(purpose_category)\n",
    "print (data['purpose'].value_counts())"
   ]
  },
  {
   "cell_type": "code",
   "execution_count": 144,
   "metadata": {},
   "outputs": [],
   "source": [
    "def purpose_plus_debt(row):\n",
    "    purpose = row['purpose']\n",
    "    debt = row['debt']\n",
    "    if purpose in data['purpose'].unique() and debt  == 0:\n",
    "        return 'кредит возвращен'\n",
    "    else:    \n",
    "        return 'кредит не возвращен'\n",
    "data['purpose_plus_debt'] = data.apply(purpose_plus_debt, axis=1)"
   ]
  },
  {
   "cell_type": "code",
   "execution_count": 131,
   "metadata": {},
   "outputs": [
    {
     "name": "stdout",
     "output_type": "stream",
     "text": [
      "Дубликатов в таблице после категоризации целей: 232\n",
      "Дубликатов в таблице после удаления: 0\n"
     ]
    }
   ],
   "source": [
    "print ('Дубликатов в таблице после категоризации целей:', data.duplicated().sum())\n",
    "data= data.drop_duplicates()\n",
    "print('Дубликатов в таблице после удаления:',data.duplicated().sum())"
   ]
  },
  {
   "cell_type": "markdown",
   "metadata": {},
   "source": [
    "В результате категоризации целей кредита удалось выделить основные категории, описывающие цели клиентов и классифицировать их по наличию/отсутствию задолженности(факту возврата/невозврата кредита). Стоит сказать, что категории \"жилье\" и \"недвижимость\" были объединены в \"недвижимость\", так как разделение на личную и коммерческую недвижимость видится непринципиальным для цели исследования. Поскольку на этапе поиска и удаления дубликатов полной картины по целям не было, необходимо было проверить и удалить появившиейся дубликаты. "
   ]
  },
  {
   "cell_type": "code",
   "execution_count": 132,
   "metadata": {},
   "outputs": [
    {
     "data": {
      "text/plain": [
       "нет детей              13939\n",
       "один ребенок            4817\n",
       "два и более ребенка     2499\n",
       "Name: number_of_children, dtype: int64"
      ]
     },
     "execution_count": 132,
     "metadata": {},
     "output_type": "execute_result"
    }
   ],
   "source": [
    "def classifying_children(row):\n",
    "    row_value = row['number_of_children']\n",
    "    if row_value == 0:\n",
    "        return 'нет детей'\n",
    "    elif row_value == 1:\n",
    "        return 'один ребенок'\n",
    "    elif row_value >= 2 :\n",
    "        return 'два и более ребенка'\n",
    "data['number_of_children'] = data.apply(classifying_children, axis=1)\n",
    "data['number_of_children'].value_counts()"
   ]
  },
  {
   "cell_type": "code",
   "execution_count": 136,
   "metadata": {},
   "outputs": [],
   "source": [
    "def children_plus_debt(row):\n",
    "    children = row['number_of_children']\n",
    "    debt = row['debt']\n",
    "    if children in data['number_of_children'].unique() and debt  == 0:\n",
    "        return 'кредит возвращен'\n",
    "    else:    \n",
    "        return 'кредит не возвращен'\n",
    "data['children_plus_debt'] = data.apply(children_plus_debt, axis=1)"
   ]
  },
  {
   "cell_type": "code",
   "execution_count": 138,
   "metadata": {},
   "outputs": [],
   "source": [
    "def status_plus_debt(row):\n",
    "    family_status = row['family_status']\n",
    "    debt = row['debt']\n",
    "    if family_status in data['family_status'].unique() and debt  == 0:\n",
    "        return 'кредит возвращен'\n",
    "    else:    \n",
    "        return 'кредит не возвращен'\n",
    "data['status_plus_debt'] = data.apply(status_plus_debt, axis=1)"
   ]
  },
  {
   "cell_type": "code",
   "execution_count": 140,
   "metadata": {},
   "outputs": [
    {
     "data": {
      "text/plain": [
       "средний уровень дохода    10523\n",
       "высокий уровень дохода     9926\n",
       "низкий уровень дохода       806\n",
       "Name: monthly_income, dtype: int64"
      ]
     },
     "execution_count": 140,
     "metadata": {},
     "output_type": "execute_result"
    }
   ],
   "source": [
    "def analyzing_income(row):\n",
    "    row_value = row['monthly_income']\n",
    "    if row_value < 60000:\n",
    "        return 'низкий уровень дохода'\n",
    "    elif row_value >= 60000 and row_value <= 150000 :\n",
    "        return 'средний уровень дохода'\n",
    "    elif row_value > 150000:\n",
    "        return 'высокий уровень дохода'\n",
    "data['monthly_income'] = data.apply(analyzing_income, axis=1)\n",
    "data['monthly_income'].value_counts()"
   ]
  },
  {
   "cell_type": "code",
   "execution_count": 141,
   "metadata": {},
   "outputs": [],
   "source": [
    "def income_plus_debt(row):\n",
    "    income = row['monthly_income']\n",
    "    debt = row['debt']\n",
    "    if income  in data['monthly_income'].unique() and debt  == 0:\n",
    "        return 'кредит возвращен'\n",
    "    else:    \n",
    "        return 'кредит не возвращен'\n",
    "data['income_plus_debt'] = data.apply(income_plus_debt, axis=1)"
   ]
  },
  {
   "cell_type": "markdown",
   "metadata": {},
   "source": [
    "**Вывод**"
   ]
  },
  {
   "cell_type": "markdown",
   "metadata": {},
   "source": [
    "Этап категоризации данных позволил сгруппировать данные по укрупненным группам для дальнейшего анализа и стал прмежуточным шагом к финальным ответам на вопросы."
   ]
  },
  {
   "cell_type": "markdown",
   "metadata": {},
   "source": [
    "## Анализ данных"
   ]
  },
  {
   "cell_type": "markdown",
   "metadata": {},
   "source": [
    "Анализируя данные для ответа на поставленные вопросы, будем в первую очередь обращать внимание на данные по возврату кредита не в срок."
   ]
  },
  {
   "cell_type": "markdown",
   "metadata": {},
   "source": [
    "- Есть ли зависимость между наличием детей и возвратом кредита в срок?"
   ]
  },
  {
   "cell_type": "code",
   "execution_count": 137,
   "metadata": {},
   "outputs": [
    {
     "data": {
      "text/html": [
       "<div>\n",
       "<style scoped>\n",
       "    .dataframe tbody tr th:only-of-type {\n",
       "        vertical-align: middle;\n",
       "    }\n",
       "\n",
       "    .dataframe tbody tr th {\n",
       "        vertical-align: top;\n",
       "    }\n",
       "\n",
       "    .dataframe thead th {\n",
       "        text-align: right;\n",
       "    }\n",
       "</style>\n",
       "<table border=\"1\" class=\"dataframe\">\n",
       "  <thead>\n",
       "    <tr style=\"text-align: right;\">\n",
       "      <th>children_plus_debt</th>\n",
       "      <th>кредит возвращен</th>\n",
       "      <th>кредит не возвращен</th>\n",
       "      <th>доля невозвратов в общем кол-ве кредитов, %</th>\n",
       "    </tr>\n",
       "    <tr>\n",
       "      <th>number_of_children</th>\n",
       "      <th></th>\n",
       "      <th></th>\n",
       "      <th></th>\n",
       "    </tr>\n",
       "  </thead>\n",
       "  <tbody>\n",
       "    <tr>\n",
       "      <td>два и более ребенка</td>\n",
       "      <td>2266</td>\n",
       "      <td>233</td>\n",
       "      <td>9.323729</td>\n",
       "    </tr>\n",
       "    <tr>\n",
       "      <td>один ребенок</td>\n",
       "      <td>4372</td>\n",
       "      <td>445</td>\n",
       "      <td>9.238115</td>\n",
       "    </tr>\n",
       "    <tr>\n",
       "      <td>нет детей</td>\n",
       "      <td>12877</td>\n",
       "      <td>1062</td>\n",
       "      <td>7.618911</td>\n",
       "    </tr>\n",
       "  </tbody>\n",
       "</table>\n",
       "</div>"
      ],
      "text/plain": [
       "children_plus_debt   кредит возвращен  кредит не возвращен  \\\n",
       "number_of_children                                           \n",
       "два и более ребенка              2266                  233   \n",
       "один ребенок                     4372                  445   \n",
       "нет детей                       12877                 1062   \n",
       "\n",
       "children_plus_debt   доля невозвратов в общем кол-ве кредитов, %  \n",
       "number_of_children                                                \n",
       "два и более ребенка                                     9.323729  \n",
       "один ребенок                                            9.238115  \n",
       "нет детей                                               7.618911  "
      ]
     },
     "execution_count": 137,
     "metadata": {},
     "output_type": "execute_result"
    }
   ],
   "source": [
    "data_pivot_children = data.pivot_table(index=['number_of_children'], columns='children_plus_debt', values='debt', aggfunc='count')\n",
    "data_pivot_children['доля невозвратов в общем кол-ве кредитов, %'] = (data_pivot_children['кредит не возвращен'] / (data_pivot_children['кредит не возвращен'] + data_pivot_children['кредит возвращен'])) *100\n",
    "data_pivot_children.sort_values(by = 'доля невозвратов в общем кол-ве кредитов, %', ascending = False)"
   ]
  },
  {
   "cell_type": "markdown",
   "metadata": {},
   "source": [
    "**Вывод**"
   ]
  },
  {
   "cell_type": "markdown",
   "metadata": {},
   "source": [
    "Как можно увидеть из приведенных данных, клиенты, имеющие детей, имеют задолженность по кредиту в большем количестве случаев (9.27 -9.60%), чем клиенты, не имеющие детей (доля невозврата - 7.67%). Это может быть объяснено тем, что большее количество детей требует больших финансовых \"вливаний\", что часто способствует нехватке денег для возврата кредита. "
   ]
  },
  {
   "cell_type": "markdown",
   "metadata": {},
   "source": [
    "- Есть ли зависимость между семейным положением и возвратом кредита в срок?"
   ]
  },
  {
   "cell_type": "code",
   "execution_count": 139,
   "metadata": {},
   "outputs": [
    {
     "data": {
      "text/html": [
       "<div>\n",
       "<style scoped>\n",
       "    .dataframe tbody tr th:only-of-type {\n",
       "        vertical-align: middle;\n",
       "    }\n",
       "\n",
       "    .dataframe tbody tr th {\n",
       "        vertical-align: top;\n",
       "    }\n",
       "\n",
       "    .dataframe thead th {\n",
       "        text-align: right;\n",
       "    }\n",
       "</style>\n",
       "<table border=\"1\" class=\"dataframe\">\n",
       "  <thead>\n",
       "    <tr style=\"text-align: right;\">\n",
       "      <th>status_plus_debt</th>\n",
       "      <th>кредит возвращен</th>\n",
       "      <th>кредит не возвращен</th>\n",
       "      <th>доля невозвратов в общем кол-ве кредитов, %</th>\n",
       "    </tr>\n",
       "    <tr>\n",
       "      <th>family_status</th>\n",
       "      <th></th>\n",
       "      <th></th>\n",
       "      <th></th>\n",
       "    </tr>\n",
       "  </thead>\n",
       "  <tbody>\n",
       "    <tr>\n",
       "      <td>не женат / не замужем</td>\n",
       "      <td>2523</td>\n",
       "      <td>274</td>\n",
       "      <td>9.796210</td>\n",
       "    </tr>\n",
       "    <tr>\n",
       "      <td>гражданский брак</td>\n",
       "      <td>3758</td>\n",
       "      <td>388</td>\n",
       "      <td>9.358418</td>\n",
       "    </tr>\n",
       "    <tr>\n",
       "      <td>женат / замужем</td>\n",
       "      <td>11237</td>\n",
       "      <td>930</td>\n",
       "      <td>7.643626</td>\n",
       "    </tr>\n",
       "    <tr>\n",
       "      <td>в разводе</td>\n",
       "      <td>1109</td>\n",
       "      <td>85</td>\n",
       "      <td>7.118928</td>\n",
       "    </tr>\n",
       "    <tr>\n",
       "      <td>вдовец / вдова</td>\n",
       "      <td>888</td>\n",
       "      <td>63</td>\n",
       "      <td>6.624606</td>\n",
       "    </tr>\n",
       "  </tbody>\n",
       "</table>\n",
       "</div>"
      ],
      "text/plain": [
       "status_plus_debt       кредит возвращен  кредит не возвращен  \\\n",
       "family_status                                                  \n",
       "не женат / не замужем              2523                  274   \n",
       "гражданский брак                   3758                  388   \n",
       "женат / замужем                   11237                  930   \n",
       "в разводе                          1109                   85   \n",
       "вдовец / вдова                      888                   63   \n",
       "\n",
       "status_plus_debt       доля невозвратов в общем кол-ве кредитов, %  \n",
       "family_status                                                       \n",
       "не женат / не замужем                                     9.796210  \n",
       "гражданский брак                                          9.358418  \n",
       "женат / замужем                                           7.643626  \n",
       "в разводе                                                 7.118928  \n",
       "вдовец / вдова                                            6.624606  "
      ]
     },
     "execution_count": 139,
     "metadata": {},
     "output_type": "execute_result"
    }
   ],
   "source": [
    "data_pivot_status = data.pivot_table(index=['family_status'], columns='status_plus_debt', values='debt', aggfunc='count')\n",
    "data_pivot_status['доля невозвратов в общем кол-ве кредитов, %'] = (data_pivot_status['кредит не возвращен'] / (data_pivot_status['кредит не возвращен'] + data_pivot_status['кредит возвращен'])) *100\n",
    "data_pivot_status.sort_values(by = 'доля невозвратов в общем кол-ве кредитов, %', ascending = False)"
   ]
  },
  {
   "cell_type": "markdown",
   "metadata": {},
   "source": [
    "**Вывод**"
   ]
  },
  {
   "cell_type": "markdown",
   "metadata": {},
   "source": [
    "Как видно из приведенной таблицы, наиболее аккуратны в возврате кредита клиенты, имеющие семью (доля несвоевременных возвратов - 7.7%), люди, находящиеся в разводе (7.12%), и люди, потерявшие мужа/жену (6.68%),- при этом стоит отметить, что выборка людей в статусе \"вдовец/вдова\" у нас достатчно небольшая, что не позволяет считать вывод по ним окончательно верным. Люди, живущие одни или не связанные официальными отншениями, менее аккуратны и обязательны в выплате кредита (9.84% и 9.4%, соответственно). Среди возможных причин - наличие некоторого \"контроля\" со стороны мужа/жены и, соответственно, второго \"источника дохода\", что, во-первых, упрощает выплату средств и, во-вторых, позволяет осуществлять ее своевременно. Соответственно, люди, живущие одни или \"условно\" не одни, обладают более низким уровнем ответственности и меньшей свободой действий в случае возможно трудной жизненной ситуации."
   ]
  },
  {
   "cell_type": "markdown",
   "metadata": {},
   "source": [
    "- Есть ли зависимость между уровнем дохода и возвратом кредита в срок?"
   ]
  },
  {
   "cell_type": "code",
   "execution_count": 142,
   "metadata": {},
   "outputs": [
    {
     "data": {
      "text/html": [
       "<div>\n",
       "<style scoped>\n",
       "    .dataframe tbody tr th:only-of-type {\n",
       "        vertical-align: middle;\n",
       "    }\n",
       "\n",
       "    .dataframe tbody tr th {\n",
       "        vertical-align: top;\n",
       "    }\n",
       "\n",
       "    .dataframe thead th {\n",
       "        text-align: right;\n",
       "    }\n",
       "</style>\n",
       "<table border=\"1\" class=\"dataframe\">\n",
       "  <thead>\n",
       "    <tr style=\"text-align: right;\">\n",
       "      <th>income_plus_debt</th>\n",
       "      <th>кредит возвращен</th>\n",
       "      <th>кредит не возвращен</th>\n",
       "      <th>доля невозвратов в общем кол-ве кредитов, %</th>\n",
       "    </tr>\n",
       "    <tr>\n",
       "      <th>monthly_income</th>\n",
       "      <th></th>\n",
       "      <th></th>\n",
       "      <th></th>\n",
       "    </tr>\n",
       "  </thead>\n",
       "  <tbody>\n",
       "    <tr>\n",
       "      <td>средний уровень дохода</td>\n",
       "      <td>9602</td>\n",
       "      <td>921</td>\n",
       "      <td>8.752257</td>\n",
       "    </tr>\n",
       "    <tr>\n",
       "      <td>высокий уровень дохода</td>\n",
       "      <td>9156</td>\n",
       "      <td>770</td>\n",
       "      <td>7.757405</td>\n",
       "    </tr>\n",
       "    <tr>\n",
       "      <td>низкий уровень дохода</td>\n",
       "      <td>757</td>\n",
       "      <td>49</td>\n",
       "      <td>6.079404</td>\n",
       "    </tr>\n",
       "  </tbody>\n",
       "</table>\n",
       "</div>"
      ],
      "text/plain": [
       "income_plus_debt        кредит возвращен  кредит не возвращен  \\\n",
       "monthly_income                                                  \n",
       "средний уровень дохода              9602                  921   \n",
       "высокий уровень дохода              9156                  770   \n",
       "низкий уровень дохода                757                   49   \n",
       "\n",
       "income_plus_debt        доля невозвратов в общем кол-ве кредитов, %  \n",
       "monthly_income                                                       \n",
       "средний уровень дохода                                     8.752257  \n",
       "высокий уровень дохода                                     7.757405  \n",
       "низкий уровень дохода                                      6.079404  "
      ]
     },
     "execution_count": 142,
     "metadata": {},
     "output_type": "execute_result"
    }
   ],
   "source": [
    "data_pivot_income = data.pivot_table(index=['monthly_income'], columns='income_plus_debt', values='debt', aggfunc='count')\n",
    "data_pivot_income['доля невозвратов в общем кол-ве кредитов, %'] = (data_pivot_income['кредит не возвращен'] / (data_pivot_income['кредит не возвращен'] + data_pivot_income['кредит возвращен'])) *100\n",
    "data_pivot_income.sort_values(by = 'доля невозвратов в общем кол-ве кредитов, %', ascending = False)"
   ]
  },
  {
   "cell_type": "markdown",
   "metadata": {},
   "source": [
    "**Вывод**"
   ]
  },
  {
   "cell_type": "markdown",
   "metadata": {},
   "source": [
    "В большей степени люди, имеющие условно \"средние\" и \"высокие\" доходы, склонны задерживать выплату кредита, чем люди с низкими доходами. Возможно, это связано с тем, что для людей со средними и высокими доходами кредит - это способ добрать небольшую сумму для покупки какой-то статусной вещи, в то время как для людей с низкими доходами кредит - это важное событие в жизни, кторому придается большее значение."
   ]
  },
  {
   "cell_type": "markdown",
   "metadata": {},
   "source": [
    "- Как разные цели кредита влияют на его возврат в срок?"
   ]
  },
  {
   "cell_type": "code",
   "execution_count": 145,
   "metadata": {
    "scrolled": true
   },
   "outputs": [
    {
     "data": {
      "text/html": [
       "<div>\n",
       "<style scoped>\n",
       "    .dataframe tbody tr th:only-of-type {\n",
       "        vertical-align: middle;\n",
       "    }\n",
       "\n",
       "    .dataframe tbody tr th {\n",
       "        vertical-align: top;\n",
       "    }\n",
       "\n",
       "    .dataframe thead th {\n",
       "        text-align: right;\n",
       "    }\n",
       "</style>\n",
       "<table border=\"1\" class=\"dataframe\">\n",
       "  <thead>\n",
       "    <tr style=\"text-align: right;\">\n",
       "      <th>purpose_plus_debt</th>\n",
       "      <th>кредит возвращен</th>\n",
       "      <th>кредит не возвращен</th>\n",
       "      <th>доля невозвратов в общем кол-ве кредитов, %</th>\n",
       "    </tr>\n",
       "    <tr>\n",
       "      <th>purpose</th>\n",
       "      <th></th>\n",
       "      <th></th>\n",
       "      <th></th>\n",
       "    </tr>\n",
       "  </thead>\n",
       "  <tbody>\n",
       "    <tr>\n",
       "      <td>автомобиль</td>\n",
       "      <td>3879</td>\n",
       "      <td>403</td>\n",
       "      <td>9.411490</td>\n",
       "    </tr>\n",
       "    <tr>\n",
       "      <td>образование</td>\n",
       "      <td>3613</td>\n",
       "      <td>370</td>\n",
       "      <td>9.289480</td>\n",
       "    </tr>\n",
       "    <tr>\n",
       "      <td>свадьба</td>\n",
       "      <td>2139</td>\n",
       "      <td>186</td>\n",
       "      <td>8.000000</td>\n",
       "    </tr>\n",
       "    <tr>\n",
       "      <td>недвижимость</td>\n",
       "      <td>9884</td>\n",
       "      <td>781</td>\n",
       "      <td>7.323019</td>\n",
       "    </tr>\n",
       "  </tbody>\n",
       "</table>\n",
       "</div>"
      ],
      "text/plain": [
       "purpose_plus_debt  кредит возвращен  кредит не возвращен  \\\n",
       "purpose                                                    \n",
       "автомобиль                     3879                  403   \n",
       "образование                    3613                  370   \n",
       "свадьба                        2139                  186   \n",
       "недвижимость                   9884                  781   \n",
       "\n",
       "purpose_plus_debt  доля невозвратов в общем кол-ве кредитов, %  \n",
       "purpose                                                         \n",
       "автомобиль                                            9.411490  \n",
       "образование                                           9.289480  \n",
       "свадьба                                               8.000000  \n",
       "недвижимость                                          7.323019  "
      ]
     },
     "execution_count": 145,
     "metadata": {},
     "output_type": "execute_result"
    }
   ],
   "source": [
    "data_pivot_purpose = data.pivot_table(index=['purpose'], columns='purpose_plus_debt', values='debt', aggfunc='count')\n",
    "data_pivot_purpose['доля невозвратов в общем кол-ве кредитов, %'] = (data_pivot_purpose['кредит не возвращен'] / (data_pivot_purpose['кредит не возвращен'] + data_pivot_purpose['кредит возвращен'])) *100\n",
    "data_pivot_purpose.sort_values(by = 'доля невозвратов в общем кол-ве кредитов, %', ascending = False)"
   ]
  },
  {
   "cell_type": "markdown",
   "metadata": {},
   "source": [
    "**Вывод**"
   ]
  },
  {
   "cell_type": "markdown",
   "metadata": {},
   "source": [
    "На основе проведенной категоризации данных, содержащих информацию о целях кредита и количестве возвращенных и невозвращенных кредитов, можно сделать вывод о том, что, несмотря на то, что абсолютные значения говорят нам о том, что больше всего невозратных кредитов в категории \"недвижимость\", а меньше всего - в категории \"свадьба\", относительные значения колонки \"долля невозвратных кредитов в общем количестве кредитов\", взятых для определенной цели, отличаются совсем на небольшое количество процентных пунктов. Тем не менее, можно сказать, что кредиты, взятые для покупки личной или коммерческой недвижимости, в большинстве случаев возвращают в срок (доля невозвратов - 7.3%), в то время как кредиты, взятые для покупки автомобиля, возвращают в срок реже (доля невозвратов - 9.4%). Среди возможных объяснений этой тенденции можно выделить большую \"взвешенность\" решения по приобретению недвижимости - как правило, покупка квартиры - это семейное  и коллективное решение, как и приобретение коммерческой недвижимости, возможно, для открытия собственного бизнеса или сдачи в аренду. В свою очередь покупка автомобиля в кредит - не всегда твердое решение, кредит на покупку автомобиля зачастую берут люди, которые хотят мнимой статусности  в глазах окружающих, поэтому он не всегда возвращается своевременно."
   ]
  },
  {
   "cell_type": "markdown",
   "metadata": {},
   "source": [
    "## Общий вывод"
   ]
  },
  {
   "cell_type": "markdown",
   "metadata": {},
   "source": [
    "В результате проведенного анализа были изучены несколько факторов, влияющих на своевременность возврата кредита. Во-первых, было выяснено, что количество детей увеличивает вероятность невозврата кредита в нужный срок, в то время как их отсутствие - уменьшает. Во-вторых, клиенты, находящиеся в \"официальных\" отношениях (женат/замужем, в разводе), склонны возвращать кредит в срок чаще, чем люди условно \"свободные\". В-третьих, кредит, который взят с целью покупки личной или коммерческой недвижимости, будет возвращен в срок с большей вероятностью, чем кредит на покупку автомобиля или получение образования. Наконец, люди с средними и высокими доходами менее аккуратны в выплате кредита, чем люди с низкими доходами."
   ]
  }
 ],
 "metadata": {
  "ExecuteTimeLog": [
   {
    "duration": 642,
    "start_time": "2021-07-02T18:18:43.740Z"
   },
   {
    "duration": 57,
    "start_time": "2021-07-02T18:20:13.115Z"
   },
   {
    "duration": 54,
    "start_time": "2021-07-02T18:20:22.118Z"
   },
   {
    "duration": 60,
    "start_time": "2021-07-02T19:13:01.365Z"
   },
   {
    "duration": 54,
    "start_time": "2021-07-02T19:13:49.753Z"
   },
   {
    "duration": 848,
    "start_time": "2021-07-03T06:19:25.827Z"
   },
   {
    "duration": 5,
    "start_time": "2021-07-03T06:19:33.652Z"
   },
   {
    "duration": 5,
    "start_time": "2021-07-03T06:19:36.569Z"
   },
   {
    "duration": 108,
    "start_time": "2021-07-03T06:21:56.804Z"
   },
   {
    "duration": 5,
    "start_time": "2021-07-03T06:22:28.153Z"
   },
   {
    "duration": 5,
    "start_time": "2021-07-03T06:22:30.386Z"
   },
   {
    "duration": 73,
    "start_time": "2021-07-03T06:23:18.795Z"
   },
   {
    "duration": 82,
    "start_time": "2021-07-03T06:23:31.101Z"
   },
   {
    "duration": 74,
    "start_time": "2021-07-03T06:23:45.076Z"
   },
   {
    "duration": 12,
    "start_time": "2021-07-03T06:38:50.512Z"
   },
   {
    "duration": 6,
    "start_time": "2021-07-03T06:45:55.903Z"
   },
   {
    "duration": 4,
    "start_time": "2021-07-03T06:46:30.200Z"
   },
   {
    "duration": 5,
    "start_time": "2021-07-03T06:46:32.277Z"
   },
   {
    "duration": 13,
    "start_time": "2021-07-03T06:46:36.990Z"
   },
   {
    "duration": 7,
    "start_time": "2021-07-03T06:46:54.729Z"
   },
   {
    "duration": 68,
    "start_time": "2021-07-03T06:51:12.877Z"
   },
   {
    "duration": 80,
    "start_time": "2021-07-03T07:01:13.838Z"
   },
   {
    "duration": 4,
    "start_time": "2021-07-03T07:01:19.855Z"
   },
   {
    "duration": 7,
    "start_time": "2021-07-03T07:01:21.565Z"
   },
   {
    "duration": 12,
    "start_time": "2021-07-03T07:01:24.991Z"
   },
   {
    "duration": 13,
    "start_time": "2021-07-03T07:02:07.324Z"
   },
   {
    "duration": 7,
    "start_time": "2021-07-03T07:04:19.810Z"
   },
   {
    "duration": 7,
    "start_time": "2021-07-03T07:05:02.372Z"
   },
   {
    "duration": 567,
    "start_time": "2021-07-03T07:07:46.373Z"
   },
   {
    "duration": 7996,
    "start_time": "2021-07-03T07:07:55.380Z"
   },
   {
    "duration": 13,
    "start_time": "2021-07-03T07:08:41.811Z"
   },
   {
    "duration": 7,
    "start_time": "2021-07-03T07:08:59.894Z"
   },
   {
    "duration": 7,
    "start_time": "2021-07-03T07:09:10.686Z"
   },
   {
    "duration": 11,
    "start_time": "2021-07-03T07:21:04.001Z"
   },
   {
    "duration": 9,
    "start_time": "2021-07-03T07:30:35.939Z"
   },
   {
    "duration": 10,
    "start_time": "2021-07-03T07:30:40.326Z"
   },
   {
    "duration": 32,
    "start_time": "2021-07-03T07:53:17.744Z"
   },
   {
    "duration": 12,
    "start_time": "2021-07-03T07:53:54.171Z"
   },
   {
    "duration": 126,
    "start_time": "2021-07-03T08:15:57.343Z"
   },
   {
    "duration": 11,
    "start_time": "2021-07-03T08:17:02.752Z"
   },
   {
    "duration": 13,
    "start_time": "2021-07-03T08:17:27.262Z"
   },
   {
    "duration": 24,
    "start_time": "2021-07-03T08:17:44.034Z"
   },
   {
    "duration": 15,
    "start_time": "2021-07-03T08:18:08.201Z"
   },
   {
    "duration": 12,
    "start_time": "2021-07-03T08:20:40.277Z"
   },
   {
    "duration": 101,
    "start_time": "2021-07-03T08:22:53.124Z"
   },
   {
    "duration": 99,
    "start_time": "2021-07-03T08:23:01.453Z"
   },
   {
    "duration": 14,
    "start_time": "2021-07-03T08:23:12.348Z"
   },
   {
    "duration": 346,
    "start_time": "2021-07-03T08:23:29.841Z"
   },
   {
    "duration": 16,
    "start_time": "2021-07-03T08:23:34.971Z"
   },
   {
    "duration": 15,
    "start_time": "2021-07-03T08:23:49.604Z"
   },
   {
    "duration": 18,
    "start_time": "2021-07-03T08:23:53.379Z"
   },
   {
    "duration": 17,
    "start_time": "2021-07-03T08:24:14.710Z"
   },
   {
    "duration": 71,
    "start_time": "2021-07-03T08:28:27.067Z"
   },
   {
    "duration": 67,
    "start_time": "2021-07-03T08:29:09.101Z"
   },
   {
    "duration": 36,
    "start_time": "2021-07-03T08:30:30.693Z"
   },
   {
    "duration": 384,
    "start_time": "2021-07-03T08:33:05.431Z"
   },
   {
    "duration": 53,
    "start_time": "2021-07-03T08:35:02.070Z"
   },
   {
    "duration": 367,
    "start_time": "2021-07-03T08:35:15.448Z"
   },
   {
    "duration": 56,
    "start_time": "2021-07-03T08:35:25.591Z"
   },
   {
    "duration": 396,
    "start_time": "2021-07-03T08:51:51.803Z"
   },
   {
    "duration": 64,
    "start_time": "2021-07-03T08:52:52.837Z"
   },
   {
    "duration": 37,
    "start_time": "2021-07-03T08:54:33.295Z"
   },
   {
    "duration": 79,
    "start_time": "2021-07-03T08:54:56.269Z"
   },
   {
    "duration": 954,
    "start_time": "2021-07-03T14:18:57.546Z"
   },
   {
    "duration": 73,
    "start_time": "2021-07-03T14:19:01.076Z"
   },
   {
    "duration": 75,
    "start_time": "2021-07-03T14:19:05.399Z"
   },
   {
    "duration": 5,
    "start_time": "2021-07-03T14:19:09.769Z"
   },
   {
    "duration": 6,
    "start_time": "2021-07-03T14:19:12.081Z"
   },
   {
    "duration": 15,
    "start_time": "2021-07-03T14:19:18.604Z"
   },
   {
    "duration": 12,
    "start_time": "2021-07-03T14:19:20.877Z"
   },
   {
    "duration": 62,
    "start_time": "2021-07-03T14:19:39.436Z"
   },
   {
    "duration": 436,
    "start_time": "2021-07-03T14:31:44.099Z"
   },
   {
    "duration": 416,
    "start_time": "2021-07-03T14:33:10.923Z"
   },
   {
    "duration": 306,
    "start_time": "2021-07-03T14:33:37.777Z"
   },
   {
    "duration": 331,
    "start_time": "2021-07-03T14:33:54.828Z"
   },
   {
    "duration": 633,
    "start_time": "2021-07-03T14:35:05.874Z"
   },
   {
    "duration": 58,
    "start_time": "2021-07-03T14:35:53.470Z"
   },
   {
    "duration": 436,
    "start_time": "2021-07-03T14:35:57.305Z"
   },
   {
    "duration": 63,
    "start_time": "2021-07-03T14:36:01.387Z"
   },
   {
    "duration": 258,
    "start_time": "2021-07-03T14:38:50.146Z"
   },
   {
    "duration": 83,
    "start_time": "2021-07-03T14:39:14.666Z"
   },
   {
    "duration": 267,
    "start_time": "2021-07-03T14:39:21.223Z"
   },
   {
    "duration": 250,
    "start_time": "2021-07-03T14:40:26.275Z"
   },
   {
    "duration": 280,
    "start_time": "2021-07-03T14:40:27.443Z"
   },
   {
    "duration": 262,
    "start_time": "2021-07-03T14:40:28.342Z"
   },
   {
    "duration": 275,
    "start_time": "2021-07-03T14:40:29.398Z"
   },
   {
    "duration": 97,
    "start_time": "2021-07-03T14:42:21.759Z"
   },
   {
    "duration": 19,
    "start_time": "2021-07-03T14:42:43.968Z"
   },
   {
    "duration": 58,
    "start_time": "2021-07-03T15:14:08.812Z"
   },
   {
    "duration": 25,
    "start_time": "2021-07-03T15:22:41.151Z"
   },
   {
    "duration": 25,
    "start_time": "2021-07-03T15:23:48.343Z"
   },
   {
    "duration": 9,
    "start_time": "2021-07-03T19:44:49.434Z"
   },
   {
    "duration": 20,
    "start_time": "2021-07-03T19:45:16.847Z"
   },
   {
    "duration": 23,
    "start_time": "2021-07-03T19:47:11.311Z"
   },
   {
    "duration": 291,
    "start_time": "2021-07-03T19:49:48.366Z"
   },
   {
    "duration": 59,
    "start_time": "2021-07-03T19:50:08.594Z"
   },
   {
    "duration": 308,
    "start_time": "2021-07-03T19:56:55.177Z"
   },
   {
    "duration": 61,
    "start_time": "2021-07-03T19:56:57.304Z"
   },
   {
    "duration": 285,
    "start_time": "2021-07-03T19:57:05.596Z"
   },
   {
    "duration": 58,
    "start_time": "2021-07-03T19:57:07.819Z"
   },
   {
    "duration": 324,
    "start_time": "2021-07-03T19:57:36.421Z"
   },
   {
    "duration": 60,
    "start_time": "2021-07-03T19:57:38.691Z"
   },
   {
    "duration": 302,
    "start_time": "2021-07-03T19:57:57.129Z"
   },
   {
    "duration": 62,
    "start_time": "2021-07-03T19:58:07.273Z"
   },
   {
    "duration": 287,
    "start_time": "2021-07-03T19:58:19.693Z"
   },
   {
    "duration": 59,
    "start_time": "2021-07-03T19:58:24.157Z"
   },
   {
    "duration": 34,
    "start_time": "2021-07-03T19:58:31.369Z"
   },
   {
    "duration": 302,
    "start_time": "2021-07-03T19:59:43.577Z"
   },
   {
    "duration": 64,
    "start_time": "2021-07-03T19:59:47.750Z"
   },
   {
    "duration": 25,
    "start_time": "2021-07-03T19:59:52.321Z"
   },
   {
    "duration": 773,
    "start_time": "2021-07-04T06:11:55.700Z"
   },
   {
    "duration": 5,
    "start_time": "2021-07-04T06:11:59.737Z"
   },
   {
    "duration": 4,
    "start_time": "2021-07-04T06:12:01.749Z"
   },
   {
    "duration": 10,
    "start_time": "2021-07-04T06:12:05.262Z"
   },
   {
    "duration": 10,
    "start_time": "2021-07-04T06:12:07.119Z"
   },
   {
    "duration": 61,
    "start_time": "2021-07-04T06:12:09.708Z"
   },
   {
    "duration": 12,
    "start_time": "2021-07-04T06:12:13.109Z"
   },
   {
    "duration": 50,
    "start_time": "2021-07-04T06:12:19.040Z"
   },
   {
    "duration": 391,
    "start_time": "2021-07-04T06:12:28.872Z"
   },
   {
    "duration": 52,
    "start_time": "2021-07-04T06:12:31.248Z"
   },
   {
    "duration": 311,
    "start_time": "2021-07-04T06:12:38.014Z"
   },
   {
    "duration": 57,
    "start_time": "2021-07-04T06:12:38.984Z"
   },
   {
    "duration": 354,
    "start_time": "2021-07-04T06:13:54.254Z"
   },
   {
    "duration": 62,
    "start_time": "2021-07-04T06:13:59.622Z"
   },
   {
    "duration": 304,
    "start_time": "2021-07-04T06:14:20.815Z"
   },
   {
    "duration": 60,
    "start_time": "2021-07-04T06:14:22.831Z"
   },
   {
    "duration": 334,
    "start_time": "2021-07-04T06:14:27.961Z"
   },
   {
    "duration": 54,
    "start_time": "2021-07-04T06:14:29.856Z"
   },
   {
    "duration": 323,
    "start_time": "2021-07-04T06:14:35.995Z"
   },
   {
    "duration": 62,
    "start_time": "2021-07-04T06:14:37.021Z"
   },
   {
    "duration": 62,
    "start_time": "2021-07-04T06:14:38.267Z"
   },
   {
    "duration": 1334,
    "start_time": "2021-07-04T06:14:38.571Z"
   },
   {
    "duration": 65,
    "start_time": "2021-07-04T06:14:42.531Z"
   },
   {
    "duration": 31,
    "start_time": "2021-07-04T06:15:37.017Z"
   },
   {
    "duration": 320,
    "start_time": "2021-07-04T06:24:09.561Z"
   },
   {
    "duration": 75,
    "start_time": "2021-07-04T06:24:14.079Z"
   },
   {
    "duration": 384,
    "start_time": "2021-07-04T06:25:09.222Z"
   },
   {
    "duration": 78,
    "start_time": "2021-07-04T06:25:11.984Z"
   },
   {
    "duration": 444,
    "start_time": "2021-07-04T06:33:23.671Z"
   },
   {
    "duration": 74,
    "start_time": "2021-07-04T06:33:25.393Z"
   },
   {
    "duration": 431,
    "start_time": "2021-07-04T06:34:26.500Z"
   },
   {
    "duration": 85,
    "start_time": "2021-07-04T06:34:27.775Z"
   },
   {
    "duration": 57,
    "start_time": "2021-07-04T06:46:23.009Z"
   },
   {
    "duration": 63,
    "start_time": "2021-07-04T06:46:34.190Z"
   },
   {
    "duration": 28,
    "start_time": "2021-07-04T06:47:33.051Z"
   },
   {
    "duration": 48,
    "start_time": "2021-07-04T06:51:33.443Z"
   },
   {
    "duration": 105,
    "start_time": "2021-07-04T06:52:04.988Z"
   },
   {
    "duration": 68,
    "start_time": "2021-07-04T06:54:46.288Z"
   },
   {
    "duration": 302,
    "start_time": "2021-07-04T06:55:34.990Z"
   },
   {
    "duration": 279,
    "start_time": "2021-07-04T06:55:37.166Z"
   },
   {
    "duration": 61,
    "start_time": "2021-07-04T06:57:34.647Z"
   },
   {
    "duration": 74,
    "start_time": "2021-07-04T06:58:20.000Z"
   },
   {
    "duration": 75,
    "start_time": "2021-07-04T06:58:26.750Z"
   },
   {
    "duration": 84,
    "start_time": "2021-07-04T06:58:29.110Z"
   },
   {
    "duration": 66,
    "start_time": "2021-07-04T06:58:34.288Z"
   },
   {
    "duration": 76,
    "start_time": "2021-07-04T06:59:29.527Z"
   },
   {
    "duration": 85,
    "start_time": "2021-07-04T07:06:54.912Z"
   },
   {
    "duration": 334,
    "start_time": "2021-07-04T07:07:40.683Z"
   },
   {
    "duration": 364,
    "start_time": "2021-07-04T07:08:08.219Z"
   },
   {
    "duration": 14,
    "start_time": "2021-07-04T07:08:45.525Z"
   },
   {
    "duration": 21,
    "start_time": "2021-07-04T07:09:03.524Z"
   },
   {
    "duration": 91,
    "start_time": "2021-07-04T07:20:24.555Z"
   },
   {
    "duration": 82,
    "start_time": "2021-07-04T07:21:24.881Z"
   },
   {
    "duration": 86,
    "start_time": "2021-07-04T07:21:26.295Z"
   },
   {
    "duration": 90,
    "start_time": "2021-07-04T07:21:26.834Z"
   },
   {
    "duration": 86,
    "start_time": "2021-07-04T07:21:27.239Z"
   },
   {
    "duration": 91,
    "start_time": "2021-07-04T07:21:27.554Z"
   },
   {
    "duration": 87,
    "start_time": "2021-07-04T07:21:27.805Z"
   },
   {
    "duration": 91,
    "start_time": "2021-07-04T07:21:28.029Z"
   },
   {
    "duration": 96,
    "start_time": "2021-07-04T07:21:28.254Z"
   },
   {
    "duration": 83,
    "start_time": "2021-07-04T07:21:28.458Z"
   },
   {
    "duration": 93,
    "start_time": "2021-07-04T07:21:28.684Z"
   },
   {
    "duration": 85,
    "start_time": "2021-07-04T07:21:34.975Z"
   },
   {
    "duration": 91,
    "start_time": "2021-07-04T07:22:43.435Z"
   },
   {
    "duration": 94,
    "start_time": "2021-07-04T07:22:46.251Z"
   },
   {
    "duration": 675,
    "start_time": "2021-07-04T07:22:50.587Z"
   },
   {
    "duration": 1466,
    "start_time": "2021-07-04T07:23:07.312Z"
   },
   {
    "duration": 1477,
    "start_time": "2021-07-04T07:24:24.580Z"
   },
   {
    "duration": 111,
    "start_time": "2021-07-04T07:25:12.392Z"
   },
   {
    "duration": 88,
    "start_time": "2021-07-04T07:25:19.077Z"
   },
   {
    "duration": 76,
    "start_time": "2021-07-04T07:34:36.597Z"
   },
   {
    "duration": 51,
    "start_time": "2021-07-04T07:35:04.778Z"
   },
   {
    "duration": 28,
    "start_time": "2021-07-04T07:35:40.865Z"
   },
   {
    "duration": 38,
    "start_time": "2021-07-04T07:40:12.967Z"
   },
   {
    "duration": 30,
    "start_time": "2021-07-04T07:40:27.771Z"
   },
   {
    "duration": 1051,
    "start_time": "2021-07-04T07:40:44.547Z"
   },
   {
    "duration": 74,
    "start_time": "2021-07-04T07:40:54.433Z"
   },
   {
    "duration": 76,
    "start_time": "2021-07-04T07:40:56.915Z"
   },
   {
    "duration": 72,
    "start_time": "2021-07-04T07:41:02.112Z"
   },
   {
    "duration": 5,
    "start_time": "2021-07-04T07:41:05.448Z"
   },
   {
    "duration": 5,
    "start_time": "2021-07-04T07:41:07.780Z"
   },
   {
    "duration": 18,
    "start_time": "2021-07-04T07:41:17.002Z"
   },
   {
    "duration": 12,
    "start_time": "2021-07-04T08:06:25.451Z"
   },
   {
    "duration": 26,
    "start_time": "2021-07-04T08:06:30.333Z"
   },
   {
    "duration": 36,
    "start_time": "2021-07-04T08:06:57.371Z"
   },
   {
    "duration": 43,
    "start_time": "2021-07-04T08:07:03.408Z"
   },
   {
    "duration": 356,
    "start_time": "2021-07-04T08:30:59.783Z"
   },
   {
    "duration": 310,
    "start_time": "2021-07-04T08:31:18.361Z"
   },
   {
    "duration": 305,
    "start_time": "2021-07-04T08:31:19.644Z"
   },
   {
    "duration": 308,
    "start_time": "2021-07-04T08:31:20.678Z"
   },
   {
    "duration": 51,
    "start_time": "2021-07-04T08:31:58.905Z"
   },
   {
    "duration": 1347,
    "start_time": "2021-07-04T08:32:31.740Z"
   },
   {
    "duration": 17,
    "start_time": "2021-07-04T08:33:34.933Z"
   },
   {
    "duration": 70,
    "start_time": "2021-07-04T08:39:07.664Z"
   },
   {
    "duration": 4,
    "start_time": "2021-07-04T08:39:13.829Z"
   },
   {
    "duration": 6,
    "start_time": "2021-07-04T08:39:15.857Z"
   },
   {
    "duration": 10,
    "start_time": "2021-07-04T08:39:21.664Z"
   },
   {
    "duration": 53,
    "start_time": "2021-07-04T08:39:40.111Z"
   },
   {
    "duration": 19,
    "start_time": "2021-07-04T08:40:17.228Z"
   },
   {
    "duration": 11,
    "start_time": "2021-07-04T08:40:25.326Z"
   },
   {
    "duration": 12,
    "start_time": "2021-07-04T08:41:00.564Z"
   },
   {
    "duration": 49,
    "start_time": "2021-07-04T08:41:06.608Z"
   },
   {
    "duration": 53,
    "start_time": "2021-07-04T08:41:09.451Z"
   },
   {
    "duration": 12,
    "start_time": "2021-07-04T08:41:13.787Z"
   },
   {
    "duration": 417,
    "start_time": "2021-07-04T08:42:44.421Z"
   },
   {
    "duration": 13,
    "start_time": "2021-07-04T08:42:52.388Z"
   },
   {
    "duration": 59,
    "start_time": "2021-07-04T08:49:23.631Z"
   },
   {
    "duration": 11,
    "start_time": "2021-07-04T08:52:24.691Z"
   },
   {
    "duration": 611,
    "start_time": "2021-07-04T08:54:00.961Z"
   },
   {
    "duration": 343,
    "start_time": "2021-07-04T08:54:15.871Z"
   },
   {
    "duration": 17,
    "start_time": "2021-07-04T08:54:25.010Z"
   },
   {
    "duration": 267,
    "start_time": "2021-07-04T08:55:04.125Z"
   },
   {
    "duration": 15,
    "start_time": "2021-07-04T08:55:28.793Z"
   },
   {
    "duration": 7055,
    "start_time": "2021-07-04T08:57:33.350Z"
   },
   {
    "duration": 15,
    "start_time": "2021-07-04T08:59:14.279Z"
   },
   {
    "duration": 24,
    "start_time": "2021-07-04T08:59:45.744Z"
   },
   {
    "duration": 1128,
    "start_time": "2021-07-04T09:00:17.832Z"
   },
   {
    "duration": 1373,
    "start_time": "2021-07-04T09:04:25.351Z"
   },
   {
    "duration": 95,
    "start_time": "2021-07-04T09:04:51.708Z"
   },
   {
    "duration": 98,
    "start_time": "2021-07-04T09:04:58.483Z"
   },
   {
    "duration": 91,
    "start_time": "2021-07-04T09:05:07.485Z"
   },
   {
    "duration": 8607,
    "start_time": "2021-07-04T09:05:25.565Z"
   },
   {
    "duration": 1358,
    "start_time": "2021-07-04T09:08:04.689Z"
   },
   {
    "duration": 6843,
    "start_time": "2021-07-04T09:20:25.992Z"
   },
   {
    "duration": 66,
    "start_time": "2021-07-04T09:20:33.786Z"
   },
   {
    "duration": 67,
    "start_time": "2021-07-04T09:20:35.765Z"
   },
   {
    "duration": 5,
    "start_time": "2021-07-04T09:20:41.611Z"
   },
   {
    "duration": 5,
    "start_time": "2021-07-04T09:20:44.382Z"
   },
   {
    "duration": 11,
    "start_time": "2021-07-04T09:20:47.254Z"
   },
   {
    "duration": 10,
    "start_time": "2021-07-04T09:20:49.336Z"
   },
   {
    "duration": 6579,
    "start_time": "2021-07-04T09:21:29.636Z"
   },
   {
    "duration": 266,
    "start_time": "2021-07-04T09:28:40.766Z"
   },
   {
    "duration": 266,
    "start_time": "2021-07-04T09:28:54.720Z"
   },
   {
    "duration": 384,
    "start_time": "2021-07-04T09:29:04.740Z"
   },
   {
    "duration": 16,
    "start_time": "2021-07-04T09:30:12.238Z"
   },
   {
    "duration": 47,
    "start_time": "2021-07-04T09:30:26.074Z"
   },
   {
    "duration": 11,
    "start_time": "2021-07-04T09:30:32.436Z"
   },
   {
    "duration": 53,
    "start_time": "2021-07-04T09:31:37.322Z"
   },
   {
    "duration": 10,
    "start_time": "2021-07-04T09:31:50.676Z"
   },
   {
    "duration": 16,
    "start_time": "2021-07-04T09:31:54.207Z"
   },
   {
    "duration": 55,
    "start_time": "2021-07-04T09:56:58.942Z"
   },
   {
    "duration": 16,
    "start_time": "2021-07-04T10:29:05.102Z"
   },
   {
    "duration": 10,
    "start_time": "2021-07-04T10:29:13.026Z"
   },
   {
    "duration": 17,
    "start_time": "2021-07-04T10:29:16.303Z"
   },
   {
    "duration": 49,
    "start_time": "2021-07-04T10:29:31.912Z"
   },
   {
    "duration": 9,
    "start_time": "2021-07-04T10:29:34.361Z"
   },
   {
    "duration": 14,
    "start_time": "2021-07-04T10:29:39.006Z"
   },
   {
    "duration": 604,
    "start_time": "2021-07-04T16:20:07.282Z"
   },
   {
    "duration": 4,
    "start_time": "2021-07-04T16:20:12.820Z"
   },
   {
    "duration": 4,
    "start_time": "2021-07-04T16:20:14.957Z"
   },
   {
    "duration": 7,
    "start_time": "2021-07-04T16:20:22.219Z"
   },
   {
    "duration": 30,
    "start_time": "2021-07-04T16:20:31.356Z"
   },
   {
    "duration": 7,
    "start_time": "2021-07-04T16:20:38.557Z"
   },
   {
    "duration": 34,
    "start_time": "2021-07-04T16:21:02.839Z"
   },
   {
    "duration": 8,
    "start_time": "2021-07-04T16:21:06.907Z"
   },
   {
    "duration": 10,
    "start_time": "2021-07-04T16:21:10.373Z"
   },
   {
    "duration": 28,
    "start_time": "2021-07-04T16:22:04.409Z"
   },
   {
    "duration": 7,
    "start_time": "2021-07-04T16:22:16.543Z"
   },
   {
    "duration": 9,
    "start_time": "2021-07-04T16:22:19.590Z"
   },
   {
    "duration": 50,
    "start_time": "2021-07-04T16:22:24.919Z"
   },
   {
    "duration": 3,
    "start_time": "2021-07-04T16:22:30.329Z"
   },
   {
    "duration": 7,
    "start_time": "2021-07-04T16:22:33.264Z"
   },
   {
    "duration": 4,
    "start_time": "2021-07-04T16:22:35.245Z"
   },
   {
    "duration": 8,
    "start_time": "2021-07-04T16:22:37.791Z"
   },
   {
    "duration": 29,
    "start_time": "2021-07-04T16:22:40.364Z"
   },
   {
    "duration": 7,
    "start_time": "2021-07-04T16:22:44.165Z"
   },
   {
    "duration": 32,
    "start_time": "2021-07-04T16:22:50.178Z"
   },
   {
    "duration": 6747,
    "start_time": "2021-07-04T16:22:53.048Z"
   },
   {
    "duration": 6162,
    "start_time": "2021-07-04T16:23:04.546Z"
   },
   {
    "duration": 7,
    "start_time": "2021-07-04T16:23:26.173Z"
   },
   {
    "duration": 10,
    "start_time": "2021-07-04T16:23:30.462Z"
   },
   {
    "duration": 2626,
    "start_time": "2021-07-04T16:26:31.343Z"
   },
   {
    "duration": 2916,
    "start_time": "2021-07-04T16:26:52.505Z"
   },
   {
    "duration": 1463,
    "start_time": "2021-07-04T16:27:53.702Z"
   },
   {
    "duration": 76,
    "start_time": "2021-07-04T16:31:45.999Z"
   },
   {
    "duration": 51,
    "start_time": "2021-07-04T16:34:07.713Z"
   },
   {
    "duration": 47,
    "start_time": "2021-07-04T16:34:35.488Z"
   },
   {
    "duration": 14,
    "start_time": "2021-07-04T16:36:49.711Z"
   },
   {
    "duration": 47,
    "start_time": "2021-07-04T16:37:32.907Z"
   },
   {
    "duration": 47,
    "start_time": "2021-07-04T16:38:45.932Z"
   },
   {
    "duration": 33,
    "start_time": "2021-07-04T16:40:43.353Z"
   },
   {
    "duration": 34,
    "start_time": "2021-07-04T16:41:05.299Z"
   },
   {
    "duration": 54,
    "start_time": "2021-07-04T16:41:14.657Z"
   },
   {
    "duration": 4,
    "start_time": "2021-07-04T16:41:20.167Z"
   },
   {
    "duration": 3,
    "start_time": "2021-07-04T16:41:21.816Z"
   },
   {
    "duration": 8,
    "start_time": "2021-07-04T16:41:24.897Z"
   },
   {
    "duration": 37,
    "start_time": "2021-07-04T16:41:28.083Z"
   },
   {
    "duration": 223,
    "start_time": "2021-07-04T16:42:04.415Z"
   },
   {
    "duration": 14,
    "start_time": "2021-07-04T16:42:10.432Z"
   },
   {
    "duration": 26,
    "start_time": "2021-07-04T16:46:13.577Z"
   },
   {
    "duration": 18,
    "start_time": "2021-07-04T16:46:37.656Z"
   },
   {
    "duration": 12,
    "start_time": "2021-07-04T16:48:36.376Z"
   },
   {
    "duration": 19,
    "start_time": "2021-07-04T16:50:14.316Z"
   },
   {
    "duration": 26,
    "start_time": "2021-07-04T17:00:31.796Z"
   },
   {
    "duration": 14,
    "start_time": "2021-07-04T17:01:16.954Z"
   },
   {
    "duration": 20,
    "start_time": "2021-07-04T17:01:58.128Z"
   },
   {
    "duration": 5959,
    "start_time": "2021-07-04T17:04:18.571Z"
   },
   {
    "duration": 4,
    "start_time": "2021-07-04T17:04:40.002Z"
   },
   {
    "duration": 6113,
    "start_time": "2021-07-04T17:04:55.326Z"
   },
   {
    "duration": 6306,
    "start_time": "2021-07-04T17:05:02.443Z"
   },
   {
    "duration": 11,
    "start_time": "2021-07-04T17:05:28.909Z"
   },
   {
    "duration": 5,
    "start_time": "2021-07-04T17:06:24.741Z"
   },
   {
    "duration": 11,
    "start_time": "2021-07-04T17:06:45.409Z"
   },
   {
    "duration": 476,
    "start_time": "2021-07-04T17:09:58.272Z"
   },
   {
    "duration": 54,
    "start_time": "2021-07-04T17:10:09.135Z"
   },
   {
    "duration": 4,
    "start_time": "2021-07-04T17:10:14.109Z"
   },
   {
    "duration": 4,
    "start_time": "2021-07-04T17:10:16.246Z"
   },
   {
    "duration": 7,
    "start_time": "2021-07-04T17:10:19.624Z"
   },
   {
    "duration": 30,
    "start_time": "2021-07-04T17:10:38.239Z"
   },
   {
    "duration": 28,
    "start_time": "2021-07-04T17:11:19.751Z"
   },
   {
    "duration": 30,
    "start_time": "2021-07-04T17:11:59.020Z"
   },
   {
    "duration": 10,
    "start_time": "2021-07-04T17:12:18.410Z"
   },
   {
    "duration": 53,
    "start_time": "2021-07-04T17:13:05.355Z"
   },
   {
    "duration": 3,
    "start_time": "2021-07-04T17:13:09.761Z"
   },
   {
    "duration": 4,
    "start_time": "2021-07-04T17:13:12.011Z"
   },
   {
    "duration": 8,
    "start_time": "2021-07-04T17:17:42.410Z"
   },
   {
    "duration": 34,
    "start_time": "2021-07-04T17:17:50.624Z"
   },
   {
    "duration": 35,
    "start_time": "2021-07-04T17:17:53.783Z"
   },
   {
    "duration": 15,
    "start_time": "2021-07-04T17:17:56.553Z"
   },
   {
    "duration": 21,
    "start_time": "2021-07-04T17:33:38.836Z"
   },
   {
    "duration": 5,
    "start_time": "2021-07-04T17:38:21.293Z"
   },
   {
    "duration": 5788,
    "start_time": "2021-07-04T17:38:37.829Z"
   },
   {
    "duration": 11,
    "start_time": "2021-07-04T17:38:55.759Z"
   },
   {
    "duration": 10,
    "start_time": "2021-07-04T17:39:16.323Z"
   },
   {
    "duration": 5677,
    "start_time": "2021-07-04T17:39:36.669Z"
   },
   {
    "duration": 20,
    "start_time": "2021-07-04T17:39:52.883Z"
   },
   {
    "duration": 3,
    "start_time": "2021-07-04T19:26:16.562Z"
   },
   {
    "duration": 7,
    "start_time": "2021-07-04T19:26:38.171Z"
   },
   {
    "duration": 13,
    "start_time": "2021-07-04T19:42:23.119Z"
   },
   {
    "duration": 5,
    "start_time": "2021-07-04T19:45:22.206Z"
   },
   {
    "duration": 1045,
    "start_time": "2021-07-04T19:50:08.582Z"
   },
   {
    "duration": 231,
    "start_time": "2021-07-04T19:50:58.375Z"
   },
   {
    "duration": 221,
    "start_time": "2021-07-04T19:52:07.609Z"
   },
   {
    "duration": 78,
    "start_time": "2021-07-04T19:52:50.916Z"
   },
   {
    "duration": 85,
    "start_time": "2021-07-04T19:53:03.235Z"
   },
   {
    "duration": 73,
    "start_time": "2021-07-04T19:55:21.249Z"
   },
   {
    "duration": 126,
    "start_time": "2021-07-04T19:56:01.491Z"
   },
   {
    "duration": 80,
    "start_time": "2021-07-04T19:56:17.784Z"
   },
   {
    "duration": 8,
    "start_time": "2021-07-04T19:56:27.804Z"
   },
   {
    "duration": 5,
    "start_time": "2021-07-04T19:57:04.479Z"
   },
   {
    "duration": 4,
    "start_time": "2021-07-04T19:57:07.596Z"
   },
   {
    "duration": 13,
    "start_time": "2021-07-04T19:57:21.664Z"
   },
   {
    "duration": 4,
    "start_time": "2021-07-04T19:57:29.899Z"
   },
   {
    "duration": 5,
    "start_time": "2021-07-04T20:20:21.978Z"
   },
   {
    "duration": 6,
    "start_time": "2021-07-04T20:21:22.633Z"
   },
   {
    "duration": 360,
    "start_time": "2021-07-05T12:55:47.756Z"
   },
   {
    "duration": 781,
    "start_time": "2021-07-05T12:56:39.394Z"
   },
   {
    "duration": 4,
    "start_time": "2021-07-05T12:56:44.403Z"
   },
   {
    "duration": 10,
    "start_time": "2021-07-05T12:56:48.360Z"
   },
   {
    "duration": 12,
    "start_time": "2021-07-05T12:56:51.147Z"
   },
   {
    "duration": 69,
    "start_time": "2021-07-05T12:56:53.173Z"
   },
   {
    "duration": 49,
    "start_time": "2021-07-05T12:56:55.041Z"
   },
   {
    "duration": 15,
    "start_time": "2021-07-05T12:56:57.934Z"
   },
   {
    "duration": 25,
    "start_time": "2021-07-05T12:57:05.818Z"
   },
   {
    "duration": 24,
    "start_time": "2021-07-05T12:57:11.903Z"
   },
   {
    "duration": 23,
    "start_time": "2021-07-05T12:57:20.241Z"
   },
   {
    "duration": 8,
    "start_time": "2021-07-05T12:57:27.579Z"
   },
   {
    "duration": 15,
    "start_time": "2021-07-05T12:57:30.381Z"
   },
   {
    "duration": 13,
    "start_time": "2021-07-05T12:58:03.870Z"
   },
   {
    "duration": 12,
    "start_time": "2021-07-05T12:58:26.645Z"
   },
   {
    "duration": 57,
    "start_time": "2021-07-05T13:41:56.245Z"
   },
   {
    "duration": 15,
    "start_time": "2021-07-05T13:41:59.034Z"
   },
   {
    "duration": 31,
    "start_time": "2021-07-05T13:42:03.236Z"
   },
   {
    "duration": 11,
    "start_time": "2021-07-05T13:42:07.359Z"
   },
   {
    "duration": 6,
    "start_time": "2021-07-05T13:42:18.820Z"
   },
   {
    "duration": 295,
    "start_time": "2021-07-05T13:44:04.628Z"
   },
   {
    "duration": 12,
    "start_time": "2021-07-05T13:44:11.031Z"
   },
   {
    "duration": 12,
    "start_time": "2021-07-05T13:44:51.812Z"
   },
   {
    "duration": 27,
    "start_time": "2021-07-05T13:46:19.790Z"
   },
   {
    "duration": -33,
    "start_time": "2021-07-05T13:46:46.453Z"
   },
   {
    "duration": -38,
    "start_time": "2021-07-05T13:47:03.660Z"
   },
   {
    "duration": 22,
    "start_time": "2021-07-05T13:47:15.273Z"
   },
   {
    "duration": 44,
    "start_time": "2021-07-05T13:47:27.469Z"
   },
   {
    "duration": 73,
    "start_time": "2021-07-05T13:48:48.384Z"
   },
   {
    "duration": 4,
    "start_time": "2021-07-05T13:48:52.495Z"
   },
   {
    "duration": 5,
    "start_time": "2021-07-05T13:48:54.032Z"
   },
   {
    "duration": 13,
    "start_time": "2021-07-05T13:48:56.549Z"
   },
   {
    "duration": 51,
    "start_time": "2021-07-05T13:48:59.169Z"
   },
   {
    "duration": 47,
    "start_time": "2021-07-05T13:49:01.310Z"
   },
   {
    "duration": 14,
    "start_time": "2021-07-05T13:49:04.034Z"
   },
   {
    "duration": 23,
    "start_time": "2021-07-05T13:49:11.308Z"
   },
   {
    "duration": 24,
    "start_time": "2021-07-05T13:49:20.631Z"
   },
   {
    "duration": 36,
    "start_time": "2021-07-05T13:49:39.603Z"
   },
   {
    "duration": 23,
    "start_time": "2021-07-05T13:51:48.103Z"
   },
   {
    "duration": 7,
    "start_time": "2021-07-05T13:51:52.793Z"
   },
   {
    "duration": 20,
    "start_time": "2021-07-05T13:51:59.757Z"
   },
   {
    "duration": 23,
    "start_time": "2021-07-05T13:54:08.444Z"
   },
   {
    "duration": 7,
    "start_time": "2021-07-05T13:54:13.380Z"
   },
   {
    "duration": 984,
    "start_time": "2021-07-06T07:47:15.246Z"
   },
   {
    "duration": 5,
    "start_time": "2021-07-06T07:47:16.827Z"
   },
   {
    "duration": 4,
    "start_time": "2021-07-06T07:47:16.997Z"
   },
   {
    "duration": 9,
    "start_time": "2021-07-06T07:47:17.816Z"
   },
   {
    "duration": 57,
    "start_time": "2021-07-06T07:47:18.170Z"
   },
   {
    "duration": 76,
    "start_time": "2021-07-06T07:47:18.449Z"
   },
   {
    "duration": 15,
    "start_time": "2021-07-06T07:47:18.532Z"
   },
   {
    "duration": 36,
    "start_time": "2021-07-06T07:47:27.676Z"
   },
   {
    "duration": 279,
    "start_time": "2021-07-06T07:55:10.645Z"
   },
   {
    "duration": 13,
    "start_time": "2021-07-06T07:55:29.329Z"
   },
   {
    "duration": 16,
    "start_time": "2021-07-06T07:59:41.980Z"
   },
   {
    "duration": 8044,
    "start_time": "2021-07-06T08:04:29.525Z"
   },
   {
    "duration": 22,
    "start_time": "2021-07-06T08:04:47.973Z"
   },
   {
    "duration": 120,
    "start_time": "2021-07-06T08:11:03.436Z"
   },
   {
    "duration": 27,
    "start_time": "2021-07-06T08:11:12.011Z"
   },
   {
    "duration": 12,
    "start_time": "2021-07-06T08:15:16.007Z"
   },
   {
    "duration": 9,
    "start_time": "2021-07-06T08:18:12.968Z"
   },
   {
    "duration": 24,
    "start_time": "2021-07-06T08:22:19.935Z"
   },
   {
    "duration": 36,
    "start_time": "2021-07-06T08:22:35.473Z"
   },
   {
    "duration": 11,
    "start_time": "2021-07-06T08:26:41.206Z"
   },
   {
    "duration": 40,
    "start_time": "2021-07-06T08:28:37.176Z"
   },
   {
    "duration": 10,
    "start_time": "2021-07-06T08:31:30.673Z"
   },
   {
    "duration": 33,
    "start_time": "2021-07-06T08:38:11.758Z"
   },
   {
    "duration": 25,
    "start_time": "2021-07-06T08:38:20.226Z"
   },
   {
    "duration": 9,
    "start_time": "2021-07-06T09:04:35.005Z"
   },
   {
    "duration": 11,
    "start_time": "2021-07-06T09:04:55.568Z"
   },
   {
    "duration": 334,
    "start_time": "2021-07-06T09:09:19.399Z"
   },
   {
    "duration": 5189,
    "start_time": "2021-07-06T09:09:37.008Z"
   },
   {
    "duration": 3523,
    "start_time": "2021-07-06T09:10:29.558Z"
   },
   {
    "duration": 3851,
    "start_time": "2021-07-06T09:13:17.950Z"
   },
   {
    "duration": 4954,
    "start_time": "2021-07-06T09:13:41.382Z"
   },
   {
    "duration": 356,
    "start_time": "2021-07-06T09:21:23.428Z"
   },
   {
    "duration": 111,
    "start_time": "2021-07-06T09:21:32.439Z"
   },
   {
    "duration": 301,
    "start_time": "2021-07-06T09:21:57.790Z"
   },
   {
    "duration": 42,
    "start_time": "2021-07-06T09:22:13.391Z"
   },
   {
    "duration": 8,
    "start_time": "2021-07-06T09:22:52.168Z"
   },
   {
    "duration": 47,
    "start_time": "2021-07-06T09:22:57.042Z"
   },
   {
    "duration": 37,
    "start_time": "2021-07-06T09:23:06.856Z"
   },
   {
    "duration": 25,
    "start_time": "2021-07-06T09:23:09.078Z"
   },
   {
    "duration": 115,
    "start_time": "2021-07-06T09:23:17.791Z"
   },
   {
    "duration": 7,
    "start_time": "2021-07-06T09:23:22.632Z"
   },
   {
    "duration": 5,
    "start_time": "2021-07-06T09:23:22.871Z"
   },
   {
    "duration": 10,
    "start_time": "2021-07-06T09:23:25.433Z"
   },
   {
    "duration": 53,
    "start_time": "2021-07-06T09:23:26.518Z"
   },
   {
    "duration": 47,
    "start_time": "2021-07-06T09:23:27.523Z"
   },
   {
    "duration": 15,
    "start_time": "2021-07-06T09:23:29.251Z"
   },
   {
    "duration": 11,
    "start_time": "2021-07-06T09:23:39.272Z"
   },
   {
    "duration": 32,
    "start_time": "2021-07-06T09:23:55.359Z"
   },
   {
    "duration": 6,
    "start_time": "2021-07-06T09:24:01.732Z"
   },
   {
    "duration": 30,
    "start_time": "2021-07-06T09:24:07.099Z"
   },
   {
    "duration": 47,
    "start_time": "2021-07-06T09:24:37.480Z"
   },
   {
    "duration": 27,
    "start_time": "2021-07-06T09:24:41.490Z"
   },
   {
    "duration": 36,
    "start_time": "2021-07-06T09:25:37.149Z"
   },
   {
    "duration": 26,
    "start_time": "2021-07-06T09:25:41.807Z"
   },
   {
    "duration": 916,
    "start_time": "2021-07-06T11:57:35.749Z"
   },
   {
    "duration": 5,
    "start_time": "2021-07-06T11:57:48.207Z"
   },
   {
    "duration": 5,
    "start_time": "2021-07-06T11:57:48.818Z"
   },
   {
    "duration": 10,
    "start_time": "2021-07-06T11:57:54.740Z"
   },
   {
    "duration": 50,
    "start_time": "2021-07-06T11:58:00.221Z"
   },
   {
    "duration": 45,
    "start_time": "2021-07-06T11:58:03.620Z"
   },
   {
    "duration": 15,
    "start_time": "2021-07-06T11:58:07.614Z"
   },
   {
    "duration": 32,
    "start_time": "2021-07-06T11:58:12.413Z"
   },
   {
    "duration": 7,
    "start_time": "2021-07-06T11:58:18.935Z"
   },
   {
    "duration": 22,
    "start_time": "2021-07-06T12:06:56.532Z"
   },
   {
    "duration": 21,
    "start_time": "2021-07-06T12:07:27.755Z"
   },
   {
    "duration": 21,
    "start_time": "2021-07-06T12:08:37.737Z"
   },
   {
    "duration": 24,
    "start_time": "2021-07-06T12:08:57.274Z"
   },
   {
    "duration": 26,
    "start_time": "2021-07-06T12:09:00.214Z"
   },
   {
    "duration": 26,
    "start_time": "2021-07-06T12:09:07.602Z"
   },
   {
    "duration": 24,
    "start_time": "2021-07-06T12:11:39.056Z"
   },
   {
    "duration": 36,
    "start_time": "2021-07-06T12:12:01.292Z"
   },
   {
    "duration": 3157,
    "start_time": "2021-07-06T12:13:11.117Z"
   },
   {
    "duration": 3965,
    "start_time": "2021-07-06T12:48:52.703Z"
   },
   {
    "duration": 4003,
    "start_time": "2021-07-06T12:51:08.414Z"
   },
   {
    "duration": 3391,
    "start_time": "2021-07-06T12:51:19.131Z"
   },
   {
    "duration": 14,
    "start_time": "2021-07-06T14:09:14.187Z"
   },
   {
    "duration": 112,
    "start_time": "2021-07-06T14:18:35.497Z"
   },
   {
    "duration": 125,
    "start_time": "2021-07-06T14:22:43.766Z"
   },
   {
    "duration": 14,
    "start_time": "2021-07-06T14:22:52.539Z"
   },
   {
    "duration": 19,
    "start_time": "2021-07-06T14:23:33.697Z"
   },
   {
    "duration": 1437,
    "start_time": "2021-07-06T14:32:18.886Z"
   },
   {
    "duration": 1684,
    "start_time": "2021-07-06T14:33:31.846Z"
   },
   {
    "duration": 1542,
    "start_time": "2021-07-06T14:34:04.327Z"
   },
   {
    "duration": 951,
    "start_time": "2021-07-06T15:48:03.506Z"
   },
   {
    "duration": 73,
    "start_time": "2021-07-06T15:48:07.412Z"
   },
   {
    "duration": 4,
    "start_time": "2021-07-06T15:48:15.245Z"
   },
   {
    "duration": 4,
    "start_time": "2021-07-06T15:48:16.065Z"
   },
   {
    "duration": 11,
    "start_time": "2021-07-06T15:48:20.100Z"
   },
   {
    "duration": 50,
    "start_time": "2021-07-06T15:48:23.134Z"
   },
   {
    "duration": 45,
    "start_time": "2021-07-06T15:48:25.257Z"
   },
   {
    "duration": 15,
    "start_time": "2021-07-06T15:48:28.382Z"
   },
   {
    "duration": 24,
    "start_time": "2021-07-06T15:48:33.638Z"
   },
   {
    "duration": 7,
    "start_time": "2021-07-06T15:48:38.692Z"
   },
   {
    "duration": 23,
    "start_time": "2021-07-06T15:48:41.575Z"
   },
   {
    "duration": 22,
    "start_time": "2021-07-06T15:48:44.565Z"
   },
   {
    "duration": 24,
    "start_time": "2021-07-06T15:48:47.333Z"
   },
   {
    "duration": 27,
    "start_time": "2021-07-06T15:48:49.820Z"
   },
   {
    "duration": 35,
    "start_time": "2021-07-06T15:48:53.485Z"
   },
   {
    "duration": 3322,
    "start_time": "2021-07-06T15:48:58.092Z"
   },
   {
    "duration": 3726,
    "start_time": "2021-07-06T15:55:59.005Z"
   },
   {
    "duration": 35446,
    "start_time": "2021-07-06T15:57:11.937Z"
   },
   {
    "duration": 946,
    "start_time": "2021-07-06T15:58:36.705Z"
   },
   {
    "duration": 1345,
    "start_time": "2021-07-06T15:59:25.212Z"
   },
   {
    "duration": 1459,
    "start_time": "2021-07-06T15:59:35.932Z"
   },
   {
    "duration": 1521,
    "start_time": "2021-07-06T15:59:51.972Z"
   },
   {
    "duration": 14,
    "start_time": "2021-07-06T16:00:33.084Z"
   },
   {
    "duration": 13,
    "start_time": "2021-07-06T16:04:17.596Z"
   },
   {
    "duration": 13,
    "start_time": "2021-07-06T16:04:32.281Z"
   },
   {
    "duration": 17,
    "start_time": "2021-07-06T16:06:26.964Z"
   },
   {
    "duration": 46,
    "start_time": "2021-07-06T16:06:46.725Z"
   },
   {
    "duration": 12,
    "start_time": "2021-07-06T16:06:51.924Z"
   },
   {
    "duration": 4,
    "start_time": "2021-07-06T16:07:07.922Z"
   },
   {
    "duration": 8,
    "start_time": "2021-07-06T16:07:15.373Z"
   },
   {
    "duration": 102,
    "start_time": "2021-07-06T16:08:41.917Z"
   },
   {
    "duration": 99,
    "start_time": "2021-07-06T16:08:52.004Z"
   },
   {
    "duration": 117,
    "start_time": "2021-07-06T16:09:18.462Z"
   },
   {
    "duration": 911,
    "start_time": "2021-07-06T16:09:25.413Z"
   },
   {
    "duration": 1454,
    "start_time": "2021-07-06T16:09:52.516Z"
   },
   {
    "duration": 1433,
    "start_time": "2021-07-06T16:10:19.757Z"
   },
   {
    "duration": 930,
    "start_time": "2021-07-06T16:10:34.866Z"
   },
   {
    "duration": 5,
    "start_time": "2021-07-06T16:10:47.653Z"
   },
   {
    "duration": 5,
    "start_time": "2021-07-06T16:11:02.373Z"
   },
   {
    "duration": 5,
    "start_time": "2021-07-06T16:11:11.805Z"
   },
   {
    "duration": 1050,
    "start_time": "2021-07-06T16:12:06.165Z"
   },
   {
    "duration": 644,
    "start_time": "2021-07-06T16:14:56.845Z"
   },
   {
    "duration": 109,
    "start_time": "2021-07-06T16:15:24.377Z"
   },
   {
    "duration": 117,
    "start_time": "2021-07-06T16:15:49.946Z"
   },
   {
    "duration": 107,
    "start_time": "2021-07-06T16:16:12.855Z"
   },
   {
    "duration": 105,
    "start_time": "2021-07-06T16:16:34.881Z"
   },
   {
    "duration": 3193,
    "start_time": "2021-07-06T16:16:44.647Z"
   },
   {
    "duration": 3423,
    "start_time": "2021-07-06T16:17:14.118Z"
   },
   {
    "duration": 3999,
    "start_time": "2021-07-06T16:17:39.182Z"
   },
   {
    "duration": 107,
    "start_time": "2021-07-06T16:28:06.552Z"
   },
   {
    "duration": 493,
    "start_time": "2021-07-06T16:34:35.009Z"
   },
   {
    "duration": 107,
    "start_time": "2021-07-06T16:34:45.205Z"
   },
   {
    "duration": 118,
    "start_time": "2021-07-06T16:34:52.808Z"
   },
   {
    "duration": 1320,
    "start_time": "2021-07-06T16:35:08.373Z"
   },
   {
    "duration": 569,
    "start_time": "2021-07-06T16:35:44.709Z"
   },
   {
    "duration": 511,
    "start_time": "2021-07-06T16:36:16.644Z"
   },
   {
    "duration": 532,
    "start_time": "2021-07-06T18:22:03.361Z"
   },
   {
    "duration": 529,
    "start_time": "2021-07-06T18:22:25.566Z"
   },
   {
    "duration": 518,
    "start_time": "2021-07-06T18:22:44.714Z"
   },
   {
    "duration": 112,
    "start_time": "2021-07-06T18:22:54.313Z"
   },
   {
    "duration": 550,
    "start_time": "2021-07-06T18:23:02.350Z"
   },
   {
    "duration": 599,
    "start_time": "2021-07-06T18:24:03.833Z"
   },
   {
    "duration": 515,
    "start_time": "2021-07-06T18:24:15.371Z"
   },
   {
    "duration": 101,
    "start_time": "2021-07-06T18:24:22.832Z"
   },
   {
    "duration": 584,
    "start_time": "2021-07-06T18:24:27.237Z"
   },
   {
    "duration": 520,
    "start_time": "2021-07-06T18:24:33.571Z"
   },
   {
    "duration": 546,
    "start_time": "2021-07-06T18:25:29.450Z"
   },
   {
    "duration": 105,
    "start_time": "2021-07-06T18:25:54.635Z"
   },
   {
    "duration": 195,
    "start_time": "2021-07-06T18:26:06.636Z"
   },
   {
    "duration": 521,
    "start_time": "2021-07-06T18:26:16.753Z"
   },
   {
    "duration": 499,
    "start_time": "2021-07-06T18:26:29.133Z"
   },
   {
    "duration": 553,
    "start_time": "2021-07-06T18:27:03.608Z"
   },
   {
    "duration": 575,
    "start_time": "2021-07-06T18:27:12.914Z"
   },
   {
    "duration": 5801,
    "start_time": "2021-07-06T18:31:21.307Z"
   },
   {
    "duration": 5306,
    "start_time": "2021-07-06T18:31:40.507Z"
   },
   {
    "duration": 5982,
    "start_time": "2021-07-06T18:32:12.793Z"
   },
   {
    "duration": 5110,
    "start_time": "2021-07-06T18:32:37.349Z"
   },
   {
    "duration": 5124,
    "start_time": "2021-07-06T18:34:31.556Z"
   },
   {
    "duration": 637,
    "start_time": "2021-07-06T18:35:35.585Z"
   },
   {
    "duration": 104,
    "start_time": "2021-07-06T18:36:35.973Z"
   },
   {
    "duration": 102,
    "start_time": "2021-07-06T18:36:43.814Z"
   },
   {
    "duration": 4,
    "start_time": "2021-07-06T18:36:53.345Z"
   },
   {
    "duration": 5,
    "start_time": "2021-07-06T18:36:58.724Z"
   },
   {
    "duration": 5382,
    "start_time": "2021-07-06T18:38:11.160Z"
   },
   {
    "duration": 264,
    "start_time": "2021-07-06T18:46:57.326Z"
   },
   {
    "duration": 106,
    "start_time": "2021-07-06T18:47:16.804Z"
   },
   {
    "duration": 1231,
    "start_time": "2021-07-06T18:47:36.835Z"
   },
   {
    "duration": 6203,
    "start_time": "2021-07-06T18:48:08.434Z"
   },
   {
    "duration": 1439,
    "start_time": "2021-07-06T18:49:07.832Z"
   },
   {
    "duration": 980,
    "start_time": "2021-07-06T18:51:37.846Z"
   },
   {
    "duration": 1457,
    "start_time": "2021-07-06T18:51:49.239Z"
   },
   {
    "duration": 1171,
    "start_time": "2021-07-07T06:12:54.354Z"
   },
   {
    "duration": 5,
    "start_time": "2021-07-07T06:13:01.328Z"
   },
   {
    "duration": 5,
    "start_time": "2021-07-07T06:13:01.803Z"
   },
   {
    "duration": 10,
    "start_time": "2021-07-07T06:13:03.812Z"
   },
   {
    "duration": 52,
    "start_time": "2021-07-07T06:13:07.450Z"
   },
   {
    "duration": 66,
    "start_time": "2021-07-07T06:13:10.131Z"
   },
   {
    "duration": 22,
    "start_time": "2021-07-07T06:13:10.848Z"
   },
   {
    "duration": 38,
    "start_time": "2021-07-07T06:13:13.769Z"
   },
   {
    "duration": 9,
    "start_time": "2021-07-07T06:13:17.448Z"
   },
   {
    "duration": 32,
    "start_time": "2021-07-07T06:13:21.995Z"
   },
   {
    "duration": 34,
    "start_time": "2021-07-07T06:13:24.747Z"
   },
   {
    "duration": 37,
    "start_time": "2021-07-07T06:13:27.683Z"
   },
   {
    "duration": 42,
    "start_time": "2021-07-07T06:13:31.326Z"
   },
   {
    "duration": 50,
    "start_time": "2021-07-07T06:13:33.756Z"
   },
   {
    "duration": 3543,
    "start_time": "2021-07-07T06:13:39.163Z"
   },
   {
    "duration": 121,
    "start_time": "2021-07-07T06:16:38.110Z"
   },
   {
    "duration": 3892,
    "start_time": "2021-07-07T06:16:52.116Z"
   },
   {
    "duration": 3842,
    "start_time": "2021-07-07T06:18:26.089Z"
   },
   {
    "duration": 3878,
    "start_time": "2021-07-07T06:29:37.173Z"
   },
   {
    "duration": 3905,
    "start_time": "2021-07-07T06:32:07.460Z"
   },
   {
    "duration": 46,
    "start_time": "2021-07-07T06:32:27.919Z"
   },
   {
    "duration": 78,
    "start_time": "2021-07-07T06:32:37.172Z"
   },
   {
    "duration": 77,
    "start_time": "2021-07-07T06:34:20.004Z"
   },
   {
    "duration": 5,
    "start_time": "2021-07-07T06:34:23.892Z"
   },
   {
    "duration": 4,
    "start_time": "2021-07-07T06:34:24.772Z"
   },
   {
    "duration": 11,
    "start_time": "2021-07-07T06:34:28.904Z"
   },
   {
    "duration": 52,
    "start_time": "2021-07-07T06:34:34.627Z"
   },
   {
    "duration": 51,
    "start_time": "2021-07-07T06:34:37.427Z"
   },
   {
    "duration": 17,
    "start_time": "2021-07-07T06:34:40.272Z"
   },
   {
    "duration": 27,
    "start_time": "2021-07-07T06:34:44.295Z"
   },
   {
    "duration": 6,
    "start_time": "2021-07-07T06:34:47.759Z"
   },
   {
    "duration": 23,
    "start_time": "2021-07-07T06:34:50.452Z"
   },
   {
    "duration": 24,
    "start_time": "2021-07-07T06:34:54.561Z"
   },
   {
    "duration": 23,
    "start_time": "2021-07-07T06:34:59.584Z"
   },
   {
    "duration": 26,
    "start_time": "2021-07-07T06:35:03.439Z"
   },
   {
    "duration": 35,
    "start_time": "2021-07-07T06:35:07.204Z"
   },
   {
    "duration": 3424,
    "start_time": "2021-07-07T06:35:14.343Z"
   },
   {
    "duration": 10,
    "start_time": "2021-07-07T06:35:24.302Z"
   },
   {
    "duration": 4121,
    "start_time": "2021-07-07T06:35:42.188Z"
   },
   {
    "duration": 9,
    "start_time": "2021-07-07T06:36:45.321Z"
   },
   {
    "duration": 1974,
    "start_time": "2021-07-07T06:39:15.666Z"
   },
   {
    "duration": 24,
    "start_time": "2021-07-07T06:40:16.807Z"
   },
   {
    "duration": 27,
    "start_time": "2021-07-07T06:42:34.288Z"
   },
   {
    "duration": 38,
    "start_time": "2021-07-07T06:42:52.038Z"
   },
   {
    "duration": 563,
    "start_time": "2021-07-07T07:32:42.825Z"
   },
   {
    "duration": 570,
    "start_time": "2021-07-07T07:33:19.805Z"
   },
   {
    "duration": 603,
    "start_time": "2021-07-07T07:34:06.235Z"
   },
   {
    "duration": 8842,
    "start_time": "2021-07-07T07:35:06.095Z"
   },
   {
    "duration": 929,
    "start_time": "2021-07-07T07:35:56.275Z"
   },
   {
    "duration": 611,
    "start_time": "2021-07-07T07:36:29.531Z"
   },
   {
    "duration": 16,
    "start_time": "2021-07-07T07:37:44.415Z"
   },
   {
    "duration": 610,
    "start_time": "2021-07-07T07:38:12.554Z"
   },
   {
    "duration": 968,
    "start_time": "2021-07-07T07:44:57.992Z"
   },
   {
    "duration": 74,
    "start_time": "2021-07-07T07:45:15.035Z"
   },
   {
    "duration": 5,
    "start_time": "2021-07-07T07:45:19.857Z"
   },
   {
    "duration": 5,
    "start_time": "2021-07-07T07:45:19.985Z"
   },
   {
    "duration": 11,
    "start_time": "2021-07-07T07:45:20.487Z"
   },
   {
    "duration": 50,
    "start_time": "2021-07-07T07:45:21.016Z"
   },
   {
    "duration": 44,
    "start_time": "2021-07-07T07:45:21.137Z"
   },
   {
    "duration": 15,
    "start_time": "2021-07-07T07:45:21.305Z"
   },
   {
    "duration": 25,
    "start_time": "2021-07-07T07:45:23.055Z"
   },
   {
    "duration": 8,
    "start_time": "2021-07-07T07:45:24.413Z"
   },
   {
    "duration": 26,
    "start_time": "2021-07-07T07:45:28.835Z"
   },
   {
    "duration": 23,
    "start_time": "2021-07-07T07:45:28.994Z"
   },
   {
    "duration": 26,
    "start_time": "2021-07-07T07:45:29.154Z"
   },
   {
    "duration": 29,
    "start_time": "2021-07-07T07:45:29.305Z"
   },
   {
    "duration": 35,
    "start_time": "2021-07-07T07:45:29.475Z"
   },
   {
    "duration": 3362,
    "start_time": "2021-07-07T07:45:38.547Z"
   },
   {
    "duration": 3873,
    "start_time": "2021-07-07T07:45:43.606Z"
   },
   {
    "duration": 24,
    "start_time": "2021-07-07T07:45:52.855Z"
   },
   {
    "duration": 39,
    "start_time": "2021-07-07T07:45:56.074Z"
   },
   {
    "duration": 945,
    "start_time": "2021-07-07T07:46:03.955Z"
   },
   {
    "duration": 20,
    "start_time": "2021-07-07T07:46:31.121Z"
   },
   {
    "duration": 911,
    "start_time": "2021-07-07T07:47:11.024Z"
   },
   {
    "duration": 112,
    "start_time": "2021-07-07T07:48:07.177Z"
   },
   {
    "duration": 696,
    "start_time": "2021-07-07T07:48:30.960Z"
   },
   {
    "duration": 72,
    "start_time": "2021-07-07T08:04:51.315Z"
   },
   {
    "duration": 6,
    "start_time": "2021-07-07T08:04:52.535Z"
   },
   {
    "duration": 4,
    "start_time": "2021-07-07T08:04:52.715Z"
   },
   {
    "duration": 11,
    "start_time": "2021-07-07T08:04:53.215Z"
   },
   {
    "duration": 57,
    "start_time": "2021-07-07T08:04:53.971Z"
   },
   {
    "duration": 74,
    "start_time": "2021-07-07T08:04:54.671Z"
   },
   {
    "duration": 15,
    "start_time": "2021-07-07T08:04:55.804Z"
   },
   {
    "duration": 28,
    "start_time": "2021-07-07T08:05:00.169Z"
   },
   {
    "duration": 6,
    "start_time": "2021-07-07T08:05:04.083Z"
   },
   {
    "duration": 22,
    "start_time": "2021-07-07T08:05:08.166Z"
   },
   {
    "duration": 36,
    "start_time": "2021-07-07T08:05:08.807Z"
   },
   {
    "duration": 43,
    "start_time": "2021-07-07T08:05:09.628Z"
   },
   {
    "duration": 31,
    "start_time": "2021-07-07T08:05:10.575Z"
   },
   {
    "duration": 43,
    "start_time": "2021-07-07T08:05:11.565Z"
   },
   {
    "duration": 3567,
    "start_time": "2021-07-07T08:05:20.427Z"
   },
   {
    "duration": 4334,
    "start_time": "2021-07-07T08:05:43.590Z"
   },
   {
    "duration": 30,
    "start_time": "2021-07-07T08:06:13.136Z"
   },
   {
    "duration": 86,
    "start_time": "2021-07-07T08:18:10.891Z"
   },
   {
    "duration": 5,
    "start_time": "2021-07-07T08:18:11.769Z"
   },
   {
    "duration": 4,
    "start_time": "2021-07-07T08:18:11.934Z"
   },
   {
    "duration": 12,
    "start_time": "2021-07-07T08:18:12.410Z"
   },
   {
    "duration": 57,
    "start_time": "2021-07-07T08:18:12.743Z"
   },
   {
    "duration": 49,
    "start_time": "2021-07-07T08:18:12.936Z"
   },
   {
    "duration": 16,
    "start_time": "2021-07-07T08:18:13.105Z"
   },
   {
    "duration": 24,
    "start_time": "2021-07-07T08:18:13.905Z"
   },
   {
    "duration": 6,
    "start_time": "2021-07-07T08:18:14.975Z"
   },
   {
    "duration": 22,
    "start_time": "2021-07-07T08:18:18.008Z"
   },
   {
    "duration": 22,
    "start_time": "2021-07-07T08:18:18.490Z"
   },
   {
    "duration": 30,
    "start_time": "2021-07-07T08:18:19.048Z"
   },
   {
    "duration": 27,
    "start_time": "2021-07-07T08:18:19.279Z"
   },
   {
    "duration": 43,
    "start_time": "2021-07-07T08:18:20.342Z"
   },
   {
    "duration": 3430,
    "start_time": "2021-07-07T08:18:27.456Z"
   },
   {
    "duration": 4106,
    "start_time": "2021-07-07T08:18:47.623Z"
   },
   {
    "duration": 24,
    "start_time": "2021-07-07T08:18:57.536Z"
   },
   {
    "duration": 36,
    "start_time": "2021-07-07T08:19:00.610Z"
   },
   {
    "duration": 1014,
    "start_time": "2021-07-07T08:19:10.583Z"
   },
   {
    "duration": 656,
    "start_time": "2021-07-07T08:19:53.466Z"
   },
   {
    "duration": 952,
    "start_time": "2021-07-07T08:21:48.082Z"
   },
   {
    "duration": 906,
    "start_time": "2021-07-07T08:22:35.296Z"
   },
   {
    "duration": 937,
    "start_time": "2021-07-07T08:37:34.510Z"
   },
   {
    "duration": 1012,
    "start_time": "2021-07-07T08:37:45.406Z"
   },
   {
    "duration": 620,
    "start_time": "2021-07-07T08:37:55.848Z"
   },
   {
    "duration": 648,
    "start_time": "2021-07-07T08:38:35.031Z"
   },
   {
    "duration": 989,
    "start_time": "2021-07-07T08:45:25.241Z"
   },
   {
    "duration": 114,
    "start_time": "2021-07-07T08:45:37.291Z"
   },
   {
    "duration": 1050,
    "start_time": "2021-07-07T08:45:51.339Z"
   },
   {
    "duration": 1038,
    "start_time": "2021-07-07T08:51:02.672Z"
   },
   {
    "duration": 659,
    "start_time": "2021-07-07T08:51:21.121Z"
   },
   {
    "duration": 103,
    "start_time": "2021-07-07T08:53:00.190Z"
   },
   {
    "duration": 1070,
    "start_time": "2021-07-07T08:53:24.887Z"
   },
   {
    "duration": 624,
    "start_time": "2021-07-07T10:13:53.817Z"
   },
   {
    "duration": 620,
    "start_time": "2021-07-07T10:14:12.704Z"
   },
   {
    "duration": 973,
    "start_time": "2021-07-07T10:18:36.594Z"
   },
   {
    "duration": 616,
    "start_time": "2021-07-07T10:19:05.810Z"
   },
   {
    "duration": 1054,
    "start_time": "2021-07-07T10:23:42.757Z"
   },
   {
    "duration": 1053,
    "start_time": "2021-07-07T10:27:43.986Z"
   },
   {
    "duration": 2202,
    "start_time": "2021-07-07T10:28:32.813Z"
   },
   {
    "duration": 30,
    "start_time": "2021-07-07T10:28:40.272Z"
   },
   {
    "duration": 39,
    "start_time": "2021-07-07T10:28:43.411Z"
   },
   {
    "duration": 633,
    "start_time": "2021-07-07T10:28:57.435Z"
   },
   {
    "duration": 17,
    "start_time": "2021-07-07T10:29:26.743Z"
   },
   {
    "duration": 618,
    "start_time": "2021-07-07T10:29:37.754Z"
   },
   {
    "duration": 622,
    "start_time": "2021-07-07T10:32:45.025Z"
   },
   {
    "duration": 9117,
    "start_time": "2021-07-07T10:34:29.176Z"
   },
   {
    "duration": 633,
    "start_time": "2021-07-07T10:34:58.755Z"
   },
   {
    "duration": 630,
    "start_time": "2021-07-07T10:35:36.886Z"
   },
   {
    "duration": 621,
    "start_time": "2021-07-07T10:37:19.254Z"
   },
   {
    "duration": 618,
    "start_time": "2021-07-07T10:44:45.997Z"
   },
   {
    "duration": 635,
    "start_time": "2021-07-07T10:44:59.413Z"
   },
   {
    "duration": 638,
    "start_time": "2021-07-07T10:45:03.495Z"
   },
   {
    "duration": 615,
    "start_time": "2021-07-07T10:45:11.780Z"
   },
   {
    "duration": 634,
    "start_time": "2021-07-07T10:46:55.637Z"
   },
   {
    "duration": 614,
    "start_time": "2021-07-07T10:48:19.403Z"
   },
   {
    "duration": 30,
    "start_time": "2021-07-07T11:11:01.882Z"
   },
   {
    "duration": 25,
    "start_time": "2021-07-07T11:12:41.844Z"
   },
   {
    "duration": 7,
    "start_time": "2021-07-07T11:12:54.265Z"
   },
   {
    "duration": 6,
    "start_time": "2021-07-07T11:14:00.313Z"
   },
   {
    "duration": 8,
    "start_time": "2021-07-07T11:14:11.353Z"
   },
   {
    "duration": 26,
    "start_time": "2021-07-07T11:15:01.666Z"
   },
   {
    "duration": 74,
    "start_time": "2021-07-07T11:15:11.222Z"
   },
   {
    "duration": 5,
    "start_time": "2021-07-07T11:15:11.932Z"
   },
   {
    "duration": 6,
    "start_time": "2021-07-07T11:15:12.094Z"
   },
   {
    "duration": 13,
    "start_time": "2021-07-07T11:15:13.293Z"
   },
   {
    "duration": 50,
    "start_time": "2021-07-07T11:15:13.615Z"
   },
   {
    "duration": 49,
    "start_time": "2021-07-07T11:15:13.739Z"
   },
   {
    "duration": 15,
    "start_time": "2021-07-07T11:15:16.294Z"
   },
   {
    "duration": 26,
    "start_time": "2021-07-07T11:15:18.946Z"
   },
   {
    "duration": 6,
    "start_time": "2021-07-07T11:15:19.577Z"
   },
   {
    "duration": 21,
    "start_time": "2021-07-07T11:15:22.281Z"
   },
   {
    "duration": 24,
    "start_time": "2021-07-07T11:15:25.093Z"
   },
   {
    "duration": 23,
    "start_time": "2021-07-07T11:15:27.176Z"
   },
   {
    "duration": 8,
    "start_time": "2021-07-07T11:15:32.038Z"
   },
   {
    "duration": 28,
    "start_time": "2021-07-07T11:15:36.066Z"
   },
   {
    "duration": 113,
    "start_time": "2021-07-07T11:18:09.776Z"
   },
   {
    "duration": 639,
    "start_time": "2021-07-07T11:18:21.095Z"
   },
   {
    "duration": 641,
    "start_time": "2021-07-07T11:18:34.406Z"
   },
   {
    "duration": 74,
    "start_time": "2021-07-07T11:20:20.135Z"
   },
   {
    "duration": 5,
    "start_time": "2021-07-07T11:20:24.489Z"
   },
   {
    "duration": 5,
    "start_time": "2021-07-07T11:20:25.525Z"
   },
   {
    "duration": 18,
    "start_time": "2021-07-07T11:20:51.985Z"
   },
   {
    "duration": 106,
    "start_time": "2021-07-07T11:21:03.561Z"
   },
   {
    "duration": 6,
    "start_time": "2021-07-07T11:21:11.182Z"
   },
   {
    "duration": 5,
    "start_time": "2021-07-07T11:21:11.881Z"
   },
   {
    "duration": 16,
    "start_time": "2021-07-07T11:21:15.509Z"
   },
   {
    "duration": 20,
    "start_time": "2021-07-07T11:21:58.694Z"
   },
   {
    "duration": 11,
    "start_time": "2021-07-07T11:22:20.466Z"
   },
   {
    "duration": 729,
    "start_time": "2021-07-07T11:24:03.769Z"
   },
   {
    "duration": 636,
    "start_time": "2021-07-07T11:24:28.236Z"
   },
   {
    "duration": 637,
    "start_time": "2021-07-07T11:25:01.530Z"
   },
   {
    "duration": 740,
    "start_time": "2021-07-07T11:25:21.811Z"
   },
   {
    "duration": 78,
    "start_time": "2021-07-07T11:25:35.014Z"
   },
   {
    "duration": 5,
    "start_time": "2021-07-07T11:25:44.591Z"
   },
   {
    "duration": 4,
    "start_time": "2021-07-07T11:25:45.093Z"
   },
   {
    "duration": 49,
    "start_time": "2021-07-07T11:25:49.813Z"
   },
   {
    "duration": 48,
    "start_time": "2021-07-07T11:25:50.529Z"
   },
   {
    "duration": 15,
    "start_time": "2021-07-07T11:25:52.824Z"
   },
   {
    "duration": 33,
    "start_time": "2021-07-07T11:25:58.247Z"
   },
   {
    "duration": 9,
    "start_time": "2021-07-07T11:26:06.555Z"
   },
   {
    "duration": 32,
    "start_time": "2021-07-07T11:26:12.743Z"
   },
   {
    "duration": 37,
    "start_time": "2021-07-07T11:26:14.831Z"
   },
   {
    "duration": 40,
    "start_time": "2021-07-07T11:26:18.028Z"
   },
   {
    "duration": 11,
    "start_time": "2021-07-07T11:26:23.725Z"
   },
   {
    "duration": 43,
    "start_time": "2021-07-07T11:26:29.645Z"
   },
   {
    "duration": 55,
    "start_time": "2021-07-07T11:26:32.086Z"
   },
   {
    "duration": 3380,
    "start_time": "2021-07-07T11:26:37.685Z"
   },
   {
    "duration": 3882,
    "start_time": "2021-07-07T11:26:47.288Z"
   },
   {
    "duration": 24,
    "start_time": "2021-07-07T11:26:51.172Z"
   },
   {
    "duration": 41,
    "start_time": "2021-07-07T11:26:58.545Z"
   },
   {
    "duration": 635,
    "start_time": "2021-07-07T11:27:07.288Z"
   },
   {
    "duration": 662,
    "start_time": "2021-07-07T11:27:15.647Z"
   },
   {
    "duration": 660,
    "start_time": "2021-07-07T11:27:27.177Z"
   },
   {
    "duration": 1055,
    "start_time": "2021-07-07T11:27:40.669Z"
   },
   {
    "duration": 631,
    "start_time": "2021-07-07T11:27:48.810Z"
   },
   {
    "duration": 616,
    "start_time": "2021-07-07T11:28:42.607Z"
   },
   {
    "duration": 1045,
    "start_time": "2021-07-07T11:29:06.112Z"
   },
   {
    "duration": 624,
    "start_time": "2021-07-07T11:29:11.651Z"
   },
   {
    "duration": 47,
    "start_time": "2021-07-07T11:32:13.265Z"
   },
   {
    "duration": 624,
    "start_time": "2021-07-07T11:32:51.507Z"
   },
   {
    "duration": 623,
    "start_time": "2021-07-07T11:33:14.376Z"
   },
   {
    "duration": 610,
    "start_time": "2021-07-07T11:33:24.886Z"
   },
   {
    "duration": 619,
    "start_time": "2021-07-07T11:33:39.103Z"
   },
   {
    "duration": 1015,
    "start_time": "2021-07-07T11:33:56.950Z"
   },
   {
    "duration": 641,
    "start_time": "2021-07-07T11:34:00.694Z"
   },
   {
    "duration": 961,
    "start_time": "2021-07-07T11:34:40.401Z"
   },
   {
    "duration": 942,
    "start_time": "2021-07-07T11:34:53.880Z"
   },
   {
    "duration": 935,
    "start_time": "2021-07-07T11:35:01.153Z"
   },
   {
    "duration": 655,
    "start_time": "2021-07-07T11:35:12.123Z"
   },
   {
    "duration": 79,
    "start_time": "2021-07-07T12:50:57.899Z"
   },
   {
    "duration": 6,
    "start_time": "2021-07-07T12:51:02.998Z"
   },
   {
    "duration": 18,
    "start_time": "2021-07-07T12:51:03.470Z"
   },
   {
    "duration": 11,
    "start_time": "2021-07-07T12:51:07.124Z"
   },
   {
    "duration": 56,
    "start_time": "2021-07-07T12:51:09.665Z"
   },
   {
    "duration": 77,
    "start_time": "2021-07-07T12:51:11.659Z"
   },
   {
    "duration": 25,
    "start_time": "2021-07-07T12:51:15.256Z"
   },
   {
    "duration": 35,
    "start_time": "2021-07-07T12:51:18.383Z"
   },
   {
    "duration": 32,
    "start_time": "2021-07-07T12:51:45.007Z"
   },
   {
    "duration": 43,
    "start_time": "2021-07-07T12:51:47.726Z"
   },
   {
    "duration": 25,
    "start_time": "2021-07-07T12:51:50.974Z"
   },
   {
    "duration": 9,
    "start_time": "2021-07-07T12:51:54.317Z"
   },
   {
    "duration": 33,
    "start_time": "2021-07-07T12:51:57.763Z"
   },
   {
    "duration": 39,
    "start_time": "2021-07-07T12:52:01.010Z"
   },
   {
    "duration": 3498,
    "start_time": "2021-07-07T12:52:05.719Z"
   },
   {
    "duration": 4461,
    "start_time": "2021-07-07T12:52:12.144Z"
   },
   {
    "duration": 28,
    "start_time": "2021-07-07T12:52:16.609Z"
   },
   {
    "duration": 45,
    "start_time": "2021-07-07T12:52:22.256Z"
   },
   {
    "duration": 660,
    "start_time": "2021-07-07T12:52:35.393Z"
   },
   {
    "duration": 770,
    "start_time": "2021-07-07T12:53:18.318Z"
   },
   {
    "duration": 1108,
    "start_time": "2021-07-07T12:54:25.562Z"
   },
   {
    "duration": 924,
    "start_time": "2021-07-07T12:54:49.188Z"
   },
   {
    "duration": 606,
    "start_time": "2021-07-07T12:55:15.728Z"
   },
   {
    "duration": 650,
    "start_time": "2021-07-07T12:56:13.697Z"
   },
   {
    "duration": 663,
    "start_time": "2021-07-07T12:56:32.913Z"
   },
   {
    "duration": 612,
    "start_time": "2021-07-07T12:57:58.801Z"
   },
   {
    "duration": 1186,
    "start_time": "2021-07-07T12:58:09.378Z"
   },
   {
    "duration": 661,
    "start_time": "2021-07-07T12:58:47.833Z"
   },
   {
    "duration": 667,
    "start_time": "2021-07-07T12:59:44.171Z"
   },
   {
    "duration": 667,
    "start_time": "2021-07-07T12:59:55.872Z"
   },
   {
    "duration": 8755,
    "start_time": "2021-07-07T13:01:03.837Z"
   },
   {
    "duration": 1274,
    "start_time": "2021-07-07T13:01:36.706Z"
   },
   {
    "duration": 1668,
    "start_time": "2021-07-07T13:01:55.288Z"
   },
   {
    "duration": 1233,
    "start_time": "2021-07-07T13:02:24.886Z"
   },
   {
    "duration": 106,
    "start_time": "2021-07-07T13:05:08.535Z"
   },
   {
    "duration": 118,
    "start_time": "2021-07-07T13:05:22.126Z"
   },
   {
    "duration": 137,
    "start_time": "2021-07-07T13:05:39.891Z"
   },
   {
    "duration": 663,
    "start_time": "2021-07-07T13:05:49.069Z"
   },
   {
    "duration": 923,
    "start_time": "2021-07-07T13:25:34.795Z"
   },
   {
    "duration": 998,
    "start_time": "2021-07-07T13:26:26.923Z"
   },
   {
    "duration": 619,
    "start_time": "2021-07-07T13:27:59.282Z"
   },
   {
    "duration": 1236,
    "start_time": "2021-07-07T13:28:52.998Z"
   },
   {
    "duration": 593,
    "start_time": "2021-07-07T13:30:01.937Z"
   },
   {
    "duration": 957,
    "start_time": "2021-07-07T13:31:43.113Z"
   },
   {
    "duration": 617,
    "start_time": "2021-07-07T13:33:55.839Z"
   },
   {
    "duration": 619,
    "start_time": "2021-07-07T13:34:10.129Z"
   },
   {
    "duration": 1000,
    "start_time": "2021-07-07T13:34:58.457Z"
   },
   {
    "duration": 963,
    "start_time": "2021-07-07T13:37:13.682Z"
   },
   {
    "duration": 625,
    "start_time": "2021-07-07T13:37:52.513Z"
   },
   {
    "duration": 632,
    "start_time": "2021-07-07T13:38:11.770Z"
   },
   {
    "duration": 15,
    "start_time": "2021-07-07T15:21:39.339Z"
   },
   {
    "duration": 18,
    "start_time": "2021-07-07T15:21:47.900Z"
   },
   {
    "duration": 79,
    "start_time": "2021-07-07T15:29:55.442Z"
   },
   {
    "duration": 4,
    "start_time": "2021-07-07T15:29:56.401Z"
   },
   {
    "duration": 5,
    "start_time": "2021-07-07T15:29:56.578Z"
   },
   {
    "duration": 49,
    "start_time": "2021-07-07T15:29:59.944Z"
   },
   {
    "duration": 63,
    "start_time": "2021-07-07T15:30:00.783Z"
   },
   {
    "duration": 23,
    "start_time": "2021-07-07T15:30:03.599Z"
   },
   {
    "duration": 29,
    "start_time": "2021-07-07T15:30:06.807Z"
   },
   {
    "duration": 7,
    "start_time": "2021-07-07T15:30:09.004Z"
   },
   {
    "duration": 23,
    "start_time": "2021-07-07T15:30:11.809Z"
   },
   {
    "duration": 25,
    "start_time": "2021-07-07T15:30:12.123Z"
   },
   {
    "duration": 25,
    "start_time": "2021-07-07T15:30:12.377Z"
   },
   {
    "duration": 8,
    "start_time": "2021-07-07T15:30:15.056Z"
   },
   {
    "duration": 42,
    "start_time": "2021-07-07T15:30:18.398Z"
   },
   {
    "duration": 3421,
    "start_time": "2021-07-07T15:30:22.131Z"
   },
   {
    "duration": 3955,
    "start_time": "2021-07-07T15:30:31.090Z"
   },
   {
    "duration": 1078,
    "start_time": "2021-07-07T15:30:49.299Z"
   },
   {
    "duration": 63,
    "start_time": "2021-07-07T15:31:07.563Z"
   },
   {
    "duration": 1613,
    "start_time": "2021-07-07T15:31:17.828Z"
   },
   {
    "duration": 78,
    "start_time": "2021-07-07T15:31:32.649Z"
   },
   {
    "duration": 4,
    "start_time": "2021-07-07T15:31:33.483Z"
   },
   {
    "duration": 5,
    "start_time": "2021-07-07T15:31:33.590Z"
   },
   {
    "duration": 9,
    "start_time": "2021-07-07T15:31:34.058Z"
   },
   {
    "duration": 51,
    "start_time": "2021-07-07T15:31:34.382Z"
   },
   {
    "duration": 53,
    "start_time": "2021-07-07T15:31:34.579Z"
   },
   {
    "duration": 15,
    "start_time": "2021-07-07T15:31:34.708Z"
   },
   {
    "duration": 26,
    "start_time": "2021-07-07T15:31:37.178Z"
   },
   {
    "duration": 7,
    "start_time": "2021-07-07T15:31:40.363Z"
   },
   {
    "duration": 22,
    "start_time": "2021-07-07T15:31:43.677Z"
   },
   {
    "duration": 26,
    "start_time": "2021-07-07T15:31:44.291Z"
   },
   {
    "duration": 25,
    "start_time": "2021-07-07T15:31:46.764Z"
   },
   {
    "duration": 8,
    "start_time": "2021-07-07T15:31:49.291Z"
   },
   {
    "duration": 29,
    "start_time": "2021-07-07T15:31:52.898Z"
   },
   {
    "duration": 38,
    "start_time": "2021-07-07T15:31:56.578Z"
   },
   {
    "duration": 3455,
    "start_time": "2021-07-07T15:32:02.363Z"
   },
   {
    "duration": 3875,
    "start_time": "2021-07-07T15:32:25.406Z"
   },
   {
    "duration": 24,
    "start_time": "2021-07-07T15:32:33.750Z"
   },
   {
    "duration": 42,
    "start_time": "2021-07-07T15:32:48.147Z"
   },
   {
    "duration": 658,
    "start_time": "2021-07-07T15:32:58.876Z"
   },
   {
    "duration": 75,
    "start_time": "2021-07-07T15:39:57.455Z"
   },
   {
    "duration": 70,
    "start_time": "2021-07-07T15:40:17.708Z"
   },
   {
    "duration": 751,
    "start_time": "2021-07-07T15:40:40.431Z"
   },
   {
    "duration": 37,
    "start_time": "2021-07-07T15:40:54.031Z"
   },
   {
    "duration": 605,
    "start_time": "2021-07-07T15:41:30.794Z"
   },
   {
    "duration": 36,
    "start_time": "2021-07-07T15:42:15.932Z"
   },
   {
    "duration": 585,
    "start_time": "2021-07-07T15:44:09.579Z"
   },
   {
    "duration": 37,
    "start_time": "2021-07-07T15:46:31.345Z"
   },
   {
    "duration": 52,
    "start_time": "2021-07-07T17:43:30.485Z"
   },
   {
    "duration": 10,
    "start_time": "2021-07-07T17:45:47.200Z"
   },
   {
    "duration": 12,
    "start_time": "2021-07-07T17:46:19.524Z"
   },
   {
    "duration": 907,
    "start_time": "2021-07-07T17:48:23.069Z"
   },
   {
    "duration": 18,
    "start_time": "2021-07-07T17:48:29.172Z"
   },
   {
    "duration": 101,
    "start_time": "2021-07-07T17:49:21.185Z"
   },
   {
    "duration": 127,
    "start_time": "2021-07-07T17:49:26.045Z"
   },
   {
    "duration": 157,
    "start_time": "2021-07-07T17:49:35.422Z"
   },
   {
    "duration": 324,
    "start_time": "2021-07-07T17:49:46.844Z"
   },
   {
    "duration": 378,
    "start_time": "2021-07-07T17:50:09.684Z"
   },
   {
    "duration": 106,
    "start_time": "2021-07-07T17:50:42.265Z"
   },
   {
    "duration": 15,
    "start_time": "2021-07-07T17:50:45.305Z"
   },
   {
    "duration": 25,
    "start_time": "2021-07-07T19:10:19.709Z"
   },
   {
    "duration": 600,
    "start_time": "2021-07-07T19:15:51.004Z"
   },
   {
    "duration": 6661,
    "start_time": "2021-07-07T19:17:24.156Z"
   },
   {
    "duration": 23,
    "start_time": "2021-07-07T19:18:34.298Z"
   },
   {
    "duration": 22,
    "start_time": "2021-07-07T19:19:18.029Z"
   },
   {
    "duration": 34,
    "start_time": "2021-07-07T19:19:31.044Z"
   },
   {
    "duration": 23,
    "start_time": "2021-07-07T19:19:44.789Z"
   },
   {
    "duration": 40,
    "start_time": "2021-07-07T19:19:57.666Z"
   },
   {
    "duration": 124,
    "start_time": "2021-07-07T19:25:03.675Z"
   },
   {
    "duration": 153,
    "start_time": "2021-07-07T19:25:11.708Z"
   },
   {
    "duration": 96,
    "start_time": "2021-07-07T19:25:16.891Z"
   },
   {
    "duration": 103,
    "start_time": "2021-07-07T19:25:24.057Z"
   },
   {
    "duration": 566,
    "start_time": "2021-07-07T19:25:30.445Z"
   },
   {
    "duration": 8057,
    "start_time": "2021-07-07T19:29:18.160Z"
   },
   {
    "duration": 345,
    "start_time": "2021-07-07T19:29:52.549Z"
   },
   {
    "duration": 28,
    "start_time": "2021-07-07T19:30:11.637Z"
   },
   {
    "duration": 35,
    "start_time": "2021-07-07T19:30:25.482Z"
   },
   {
    "duration": 29,
    "start_time": "2021-07-07T19:31:08.804Z"
   },
   {
    "duration": 33,
    "start_time": "2021-07-07T19:31:15.095Z"
   },
   {
    "duration": 31,
    "start_time": "2021-07-07T19:31:28.454Z"
   },
   {
    "duration": 33,
    "start_time": "2021-07-07T19:31:33.828Z"
   },
   {
    "duration": 8640,
    "start_time": "2021-07-07T19:34:32.923Z"
   },
   {
    "duration": 755,
    "start_time": "2021-07-07T19:35:12.694Z"
   },
   {
    "duration": 31,
    "start_time": "2021-07-07T19:36:15.280Z"
   },
   {
    "duration": 34,
    "start_time": "2021-07-07T19:36:23.111Z"
   },
   {
    "duration": 899,
    "start_time": "2021-07-08T06:21:36.952Z"
   },
   {
    "duration": 5,
    "start_time": "2021-07-08T06:21:49.136Z"
   },
   {
    "duration": 5,
    "start_time": "2021-07-08T06:21:50.518Z"
   },
   {
    "duration": 11,
    "start_time": "2021-07-08T06:23:42.895Z"
   },
   {
    "duration": 50,
    "start_time": "2021-07-08T06:23:43.762Z"
   },
   {
    "duration": 45,
    "start_time": "2021-07-08T06:23:44.518Z"
   },
   {
    "duration": 15,
    "start_time": "2021-07-08T06:23:45.503Z"
   },
   {
    "duration": 38,
    "start_time": "2021-07-08T06:23:48.798Z"
   },
   {
    "duration": 8,
    "start_time": "2021-07-08T06:23:49.280Z"
   },
   {
    "duration": 24,
    "start_time": "2021-07-08T06:23:51.516Z"
   },
   {
    "duration": 22,
    "start_time": "2021-07-08T06:23:51.776Z"
   },
   {
    "duration": 24,
    "start_time": "2021-07-08T06:23:52.167Z"
   },
   {
    "duration": 7,
    "start_time": "2021-07-08T06:23:52.482Z"
   },
   {
    "duration": 38,
    "start_time": "2021-07-08T06:23:52.862Z"
   },
   {
    "duration": 34,
    "start_time": "2021-07-08T06:23:53.310Z"
   },
   {
    "duration": 3232,
    "start_time": "2021-07-08T06:23:57.192Z"
   },
   {
    "duration": 3797,
    "start_time": "2021-07-08T06:24:12.801Z"
   },
   {
    "duration": 584,
    "start_time": "2021-07-08T06:24:30.792Z"
   },
   {
    "duration": 594,
    "start_time": "2021-07-08T06:24:38.941Z"
   },
   {
    "duration": 68,
    "start_time": "2021-07-08T06:24:39.650Z"
   },
   {
    "duration": 578,
    "start_time": "2021-07-08T06:24:43.293Z"
   },
   {
    "duration": 1615,
    "start_time": "2021-07-08T06:32:42.564Z"
   },
   {
    "duration": 1406,
    "start_time": "2021-07-08T06:33:54.526Z"
   },
   {
    "duration": 2336,
    "start_time": "2021-07-08T06:34:13.151Z"
   },
   {
    "duration": 878,
    "start_time": "2021-07-08T06:34:16.455Z"
   },
   {
    "duration": 756,
    "start_time": "2021-07-08T06:34:20.180Z"
   },
   {
    "duration": 1151,
    "start_time": "2021-07-08T06:34:23.649Z"
   },
   {
    "duration": 50,
    "start_time": "2021-07-08T06:34:31.732Z"
   },
   {
    "duration": 45,
    "start_time": "2021-07-08T06:34:40.772Z"
   },
   {
    "duration": 21,
    "start_time": "2021-07-08T06:34:46.778Z"
   },
   {
    "duration": 19,
    "start_time": "2021-07-08T06:39:16.298Z"
   },
   {
    "duration": 127,
    "start_time": "2021-07-08T07:10:43.595Z"
   },
   {
    "duration": 494,
    "start_time": "2021-07-08T07:16:17.222Z"
   },
   {
    "duration": 515,
    "start_time": "2021-07-08T07:17:07.622Z"
   },
   {
    "duration": 523,
    "start_time": "2021-07-08T07:21:55.817Z"
   },
   {
    "duration": 515,
    "start_time": "2021-07-08T07:22:21.338Z"
   },
   {
    "duration": 378,
    "start_time": "2021-07-08T07:22:50.225Z"
   },
   {
    "duration": 424,
    "start_time": "2021-07-08T07:23:10.051Z"
   },
   {
    "duration": 445,
    "start_time": "2021-07-08T07:34:24.699Z"
   },
   {
    "duration": 38,
    "start_time": "2021-07-08T07:35:22.857Z"
   },
   {
    "duration": 35,
    "start_time": "2021-07-08T07:36:12.986Z"
   },
   {
    "duration": 102,
    "start_time": "2021-07-08T07:40:51.154Z"
   },
   {
    "duration": 878,
    "start_time": "2021-07-08T07:41:32.034Z"
   },
   {
    "duration": 36,
    "start_time": "2021-07-08T07:41:51.912Z"
   },
   {
    "duration": 138,
    "start_time": "2021-07-08T07:42:27.993Z"
   },
   {
    "duration": 39,
    "start_time": "2021-07-08T07:42:44.764Z"
   },
   {
    "duration": 33,
    "start_time": "2021-07-08T07:43:23.585Z"
   },
   {
    "duration": 36,
    "start_time": "2021-07-08T07:43:38.152Z"
   },
   {
    "duration": 31,
    "start_time": "2021-07-08T07:44:17.502Z"
   },
   {
    "duration": 32,
    "start_time": "2021-07-08T07:44:28.374Z"
   },
   {
    "duration": 32,
    "start_time": "2021-07-08T07:44:50.530Z"
   },
   {
    "duration": 112,
    "start_time": "2021-07-08T07:45:46.621Z"
   },
   {
    "duration": 74,
    "start_time": "2021-07-08T07:45:48.680Z"
   },
   {
    "duration": 5,
    "start_time": "2021-07-08T07:45:51.742Z"
   },
   {
    "duration": 5,
    "start_time": "2021-07-08T07:45:52.261Z"
   },
   {
    "duration": 10,
    "start_time": "2021-07-08T07:45:56.980Z"
   },
   {
    "duration": 50,
    "start_time": "2021-07-08T07:46:15.484Z"
   },
   {
    "duration": 44,
    "start_time": "2021-07-08T07:46:17.925Z"
   },
   {
    "duration": 15,
    "start_time": "2021-07-08T07:46:20.252Z"
   },
   {
    "duration": 24,
    "start_time": "2021-07-08T07:46:24.608Z"
   },
   {
    "duration": 7,
    "start_time": "2021-07-08T07:46:27.979Z"
   },
   {
    "duration": 23,
    "start_time": "2021-07-08T07:46:33.185Z"
   },
   {
    "duration": 26,
    "start_time": "2021-07-08T07:46:35.664Z"
   },
   {
    "duration": 26,
    "start_time": "2021-07-08T07:46:38.248Z"
   },
   {
    "duration": 9,
    "start_time": "2021-07-08T07:46:40.609Z"
   },
   {
    "duration": 29,
    "start_time": "2021-07-08T07:46:43.431Z"
   },
   {
    "duration": 3370,
    "start_time": "2021-07-08T07:47:03.640Z"
   },
   {
    "duration": 3846,
    "start_time": "2021-07-08T07:47:13.439Z"
   },
   {
    "duration": 855,
    "start_time": "2021-07-08T07:47:27.487Z"
   },
   {
    "duration": 71,
    "start_time": "2021-07-08T07:47:33.645Z"
   },
   {
    "duration": 374,
    "start_time": "2021-07-08T07:47:41.158Z"
   },
   {
    "duration": 582,
    "start_time": "2021-07-08T07:49:13.007Z"
   },
   {
    "duration": 42,
    "start_time": "2021-07-08T07:49:25.570Z"
   },
   {
    "duration": 33,
    "start_time": "2021-07-08T07:49:43.754Z"
   },
   {
    "duration": 33,
    "start_time": "2021-07-08T07:49:54.840Z"
   },
   {
    "duration": 30,
    "start_time": "2021-07-08T07:50:05.424Z"
   },
   {
    "duration": 31,
    "start_time": "2021-07-08T07:50:38.630Z"
   },
   {
    "duration": 30,
    "start_time": "2021-07-08T07:51:56.833Z"
   },
   {
    "duration": 33,
    "start_time": "2021-07-08T07:52:23.800Z"
   },
   {
    "duration": 32,
    "start_time": "2021-07-08T07:53:13.509Z"
   },
   {
    "duration": 346,
    "start_time": "2021-07-08T07:53:22.545Z"
   },
   {
    "duration": 324,
    "start_time": "2021-07-08T07:53:37.079Z"
   },
   {
    "duration": 34,
    "start_time": "2021-07-08T07:53:42.835Z"
   },
   {
    "duration": 963,
    "start_time": "2021-07-08T07:54:05.678Z"
   },
   {
    "duration": 41,
    "start_time": "2021-07-08T07:54:11.074Z"
   },
   {
    "duration": 99,
    "start_time": "2021-07-08T07:57:14.336Z"
   },
   {
    "duration": 335,
    "start_time": "2021-07-08T07:57:36.898Z"
   },
   {
    "duration": 120,
    "start_time": "2021-07-08T07:58:00.313Z"
   },
   {
    "duration": 1608,
    "start_time": "2021-07-08T07:58:10.636Z"
   },
   {
    "duration": 10684,
    "start_time": "2021-07-08T08:06:21.092Z"
   },
   {
    "duration": 9382,
    "start_time": "2021-07-08T08:07:25.319Z"
   },
   {
    "duration": 385,
    "start_time": "2021-07-08T08:07:58.773Z"
   },
   {
    "duration": 2127,
    "start_time": "2021-07-08T08:08:14.927Z"
   },
   {
    "duration": 2505,
    "start_time": "2021-07-08T08:08:47.786Z"
   },
   {
    "duration": 2310,
    "start_time": "2021-07-08T08:09:04.519Z"
   },
   {
    "duration": 859,
    "start_time": "2021-07-08T08:09:37.143Z"
   },
   {
    "duration": 459,
    "start_time": "2021-07-08T08:09:42.647Z"
   },
   {
    "duration": 549,
    "start_time": "2021-07-08T08:10:01.524Z"
   },
   {
    "duration": 340,
    "start_time": "2021-07-08T08:10:53.981Z"
   },
   {
    "duration": 13,
    "start_time": "2021-07-08T08:11:23.713Z"
   },
   {
    "duration": 19,
    "start_time": "2021-07-08T08:11:53.733Z"
   },
   {
    "duration": 616,
    "start_time": "2021-07-08T08:18:24.280Z"
   },
   {
    "duration": 37,
    "start_time": "2021-07-08T08:18:41.934Z"
   },
   {
    "duration": 33,
    "start_time": "2021-07-08T08:18:47.974Z"
   },
   {
    "duration": 33,
    "start_time": "2021-07-08T08:25:11.315Z"
   },
   {
    "duration": 73,
    "start_time": "2021-07-08T08:32:41.591Z"
   },
   {
    "duration": 5,
    "start_time": "2021-07-08T08:32:44.596Z"
   },
   {
    "duration": 5,
    "start_time": "2021-07-08T08:32:45.112Z"
   },
   {
    "duration": 10,
    "start_time": "2021-07-08T08:32:46.844Z"
   },
   {
    "duration": 53,
    "start_time": "2021-07-08T08:32:46.857Z"
   },
   {
    "duration": 45,
    "start_time": "2021-07-08T08:32:46.913Z"
   },
   {
    "duration": 38,
    "start_time": "2021-07-08T08:32:46.960Z"
   },
   {
    "duration": 24,
    "start_time": "2021-07-08T08:32:47.108Z"
   },
   {
    "duration": 8,
    "start_time": "2021-07-08T08:32:47.283Z"
   },
   {
    "duration": 24,
    "start_time": "2021-07-08T08:32:48.093Z"
   },
   {
    "duration": 21,
    "start_time": "2021-07-08T08:32:48.314Z"
   },
   {
    "duration": 26,
    "start_time": "2021-07-08T08:32:48.429Z"
   },
   {
    "duration": 8,
    "start_time": "2021-07-08T08:32:48.624Z"
   },
   {
    "duration": 29,
    "start_time": "2021-07-08T08:32:48.765Z"
   },
   {
    "duration": 43,
    "start_time": "2021-07-08T08:32:48.962Z"
   },
   {
    "duration": 5016,
    "start_time": "2021-07-08T08:32:49.806Z"
   },
   {
    "duration": 4641,
    "start_time": "2021-07-08T08:33:31.491Z"
   },
   {
    "duration": 2027,
    "start_time": "2021-07-08T08:33:38.722Z"
   },
   {
    "duration": 594,
    "start_time": "2021-07-08T08:33:43.125Z"
   },
   {
    "duration": 107,
    "start_time": "2021-07-08T08:33:43.859Z"
   },
   {
    "duration": 364,
    "start_time": "2021-07-08T08:33:53.023Z"
   },
   {
    "duration": 591,
    "start_time": "2021-07-08T08:33:58.309Z"
   },
   {
    "duration": 613,
    "start_time": "2021-07-08T08:34:06.544Z"
   },
   {
    "duration": 632,
    "start_time": "2021-07-08T08:34:09.984Z"
   },
   {
    "duration": 576,
    "start_time": "2021-07-08T08:34:14.152Z"
   },
   {
    "duration": 42,
    "start_time": "2021-07-08T08:34:18.095Z"
   },
   {
    "duration": 35,
    "start_time": "2021-07-08T08:34:22.769Z"
   },
   {
    "duration": 32,
    "start_time": "2021-07-08T08:34:27.050Z"
   },
   {
    "duration": 33,
    "start_time": "2021-07-08T08:34:53.125Z"
   },
   {
    "duration": 812,
    "start_time": "2021-07-08T09:00:30.740Z"
   },
   {
    "duration": 5,
    "start_time": "2021-07-08T09:00:31.555Z"
   },
   {
    "duration": 42,
    "start_time": "2021-07-08T09:00:31.563Z"
   },
   {
    "duration": 37,
    "start_time": "2021-07-08T09:00:31.608Z"
   },
   {
    "duration": 70,
    "start_time": "2021-07-08T09:00:31.648Z"
   },
   {
    "duration": 47,
    "start_time": "2021-07-08T09:00:31.721Z"
   },
   {
    "duration": 14,
    "start_time": "2021-07-08T09:00:31.771Z"
   },
   {
    "duration": 44,
    "start_time": "2021-07-08T09:00:31.787Z"
   },
   {
    "duration": 7,
    "start_time": "2021-07-08T09:00:31.835Z"
   },
   {
    "duration": 41,
    "start_time": "2021-07-08T09:00:31.853Z"
   },
   {
    "duration": 46,
    "start_time": "2021-07-08T09:00:31.896Z"
   },
   {
    "duration": 27,
    "start_time": "2021-07-08T09:00:31.944Z"
   },
   {
    "duration": 12,
    "start_time": "2021-07-08T09:00:31.973Z"
   },
   {
    "duration": 45,
    "start_time": "2021-07-08T09:00:31.987Z"
   },
   {
    "duration": 34,
    "start_time": "2021-07-08T09:00:32.035Z"
   },
   {
    "duration": 3407,
    "start_time": "2021-07-08T09:00:32.071Z"
   },
   {
    "duration": 3702,
    "start_time": "2021-07-08T09:00:35.481Z"
   },
   {
    "duration": 665,
    "start_time": "2021-07-08T09:00:39.186Z"
   },
   {
    "duration": 71,
    "start_time": "2021-07-08T09:00:39.855Z"
   },
   {
    "duration": 397,
    "start_time": "2021-07-08T09:00:39.928Z"
   },
   {
    "duration": 575,
    "start_time": "2021-07-08T09:00:40.328Z"
   },
   {
    "duration": 582,
    "start_time": "2021-07-08T09:00:40.905Z"
   },
   {
    "duration": 393,
    "start_time": "2021-07-08T09:00:41.490Z"
   },
   {
    "duration": 590,
    "start_time": "2021-07-08T09:00:41.885Z"
   },
   {
    "duration": 38,
    "start_time": "2021-07-08T09:00:42.478Z"
   },
   {
    "duration": 53,
    "start_time": "2021-07-08T09:00:42.518Z"
   },
   {
    "duration": 34,
    "start_time": "2021-07-08T09:00:42.575Z"
   },
   {
    "duration": 65,
    "start_time": "2021-07-08T09:00:42.612Z"
   },
   {
    "duration": 6,
    "start_time": "2021-07-08T09:31:55.255Z"
   },
   {
    "duration": 379,
    "start_time": "2021-07-08T09:32:24.819Z"
   },
   {
    "duration": 10,
    "start_time": "2021-07-08T09:32:38.592Z"
   },
   {
    "duration": 246,
    "start_time": "2021-07-08T09:33:02.993Z"
   },
   {
    "duration": 11,
    "start_time": "2021-07-08T09:33:14.030Z"
   },
   {
    "duration": 8,
    "start_time": "2021-07-08T09:42:39.776Z"
   },
   {
    "duration": 265,
    "start_time": "2021-07-08T13:23:03.886Z"
   },
   {
    "duration": 647,
    "start_time": "2021-07-08T13:23:18.457Z"
   },
   {
    "duration": 4,
    "start_time": "2021-07-08T13:23:26.196Z"
   },
   {
    "duration": 13,
    "start_time": "2021-07-08T13:23:26.990Z"
   },
   {
    "duration": 13,
    "start_time": "2021-07-08T13:24:06.444Z"
   },
   {
    "duration": 13,
    "start_time": "2021-07-08T13:24:23.469Z"
   },
   {
    "duration": 14,
    "start_time": "2021-07-08T13:34:38.275Z"
   },
   {
    "duration": 13,
    "start_time": "2021-07-08T13:34:57.535Z"
   },
   {
    "duration": 6,
    "start_time": "2021-07-08T13:45:51.238Z"
   },
   {
    "duration": 3,
    "start_time": "2021-07-08T13:46:48.950Z"
   },
   {
    "duration": 4,
    "start_time": "2021-07-08T13:47:39.615Z"
   },
   {
    "duration": 4,
    "start_time": "2021-07-08T13:48:07.533Z"
   },
   {
    "duration": 7,
    "start_time": "2021-07-08T13:48:18.590Z"
   },
   {
    "duration": 58,
    "start_time": "2021-07-08T13:51:47.877Z"
   },
   {
    "duration": 69,
    "start_time": "2021-07-08T13:52:02.476Z"
   },
   {
    "duration": 59,
    "start_time": "2021-07-08T13:52:22.009Z"
   },
   {
    "duration": 17,
    "start_time": "2021-07-08T13:53:30.934Z"
   },
   {
    "duration": 26,
    "start_time": "2021-07-08T13:53:55.395Z"
   },
   {
    "duration": 18,
    "start_time": "2021-07-08T13:54:38.087Z"
   },
   {
    "duration": 17,
    "start_time": "2021-07-08T13:56:11.111Z"
   },
   {
    "duration": 12,
    "start_time": "2021-07-08T13:56:24.699Z"
   },
   {
    "duration": 54,
    "start_time": "2021-07-08T13:56:34.841Z"
   },
   {
    "duration": 3,
    "start_time": "2021-07-08T13:56:40.605Z"
   },
   {
    "duration": 4,
    "start_time": "2021-07-08T13:56:41.564Z"
   },
   {
    "duration": 12,
    "start_time": "2021-07-08T13:56:44.219Z"
   },
   {
    "duration": 4,
    "start_time": "2021-07-08T13:57:06.624Z"
   },
   {
    "duration": 22,
    "start_time": "2021-07-08T13:57:14.926Z"
   },
   {
    "duration": 28,
    "start_time": "2021-07-08T13:57:28.376Z"
   },
   {
    "duration": 30,
    "start_time": "2021-07-08T13:58:18.758Z"
   },
   {
    "duration": 60,
    "start_time": "2021-07-08T13:59:06.158Z"
   },
   {
    "duration": 3,
    "start_time": "2021-07-08T13:59:13.307Z"
   },
   {
    "duration": 4,
    "start_time": "2021-07-08T13:59:14.171Z"
   },
   {
    "duration": 13,
    "start_time": "2021-07-08T13:59:17.249Z"
   },
   {
    "duration": 12,
    "start_time": "2021-07-08T13:59:30.546Z"
   },
   {
    "duration": 30,
    "start_time": "2021-07-08T14:05:02.665Z"
   },
   {
    "duration": 213,
    "start_time": "2021-07-08T14:53:50.593Z"
   },
   {
    "duration": 54,
    "start_time": "2021-07-08T14:54:00.217Z"
   },
   {
    "duration": 3,
    "start_time": "2021-07-08T14:54:06.016Z"
   },
   {
    "duration": 5,
    "start_time": "2021-07-08T14:54:06.707Z"
   },
   {
    "duration": 12,
    "start_time": "2021-07-08T14:54:10.546Z"
   },
   {
    "duration": 186,
    "start_time": "2021-07-08T14:54:16.067Z"
   },
   {
    "duration": 25,
    "start_time": "2021-07-08T14:56:04.137Z"
   },
   {
    "duration": 16,
    "start_time": "2021-07-08T14:56:21.828Z"
   },
   {
    "duration": 186,
    "start_time": "2021-07-08T14:57:27.928Z"
   },
   {
    "duration": 189,
    "start_time": "2021-07-08T14:57:42.151Z"
   },
   {
    "duration": 12,
    "start_time": "2021-07-08T14:57:48.704Z"
   },
   {
    "duration": 14,
    "start_time": "2021-07-08T14:57:58.310Z"
   },
   {
    "duration": 16,
    "start_time": "2021-07-08T14:58:19.221Z"
   },
   {
    "duration": 352,
    "start_time": "2021-07-08T14:58:50.214Z"
   },
   {
    "duration": 57,
    "start_time": "2021-07-08T14:59:39.691Z"
   },
   {
    "duration": 3,
    "start_time": "2021-07-08T14:59:45.635Z"
   },
   {
    "duration": 4,
    "start_time": "2021-07-08T14:59:46.249Z"
   },
   {
    "duration": 14,
    "start_time": "2021-07-08T14:59:49.893Z"
   },
   {
    "duration": 5,
    "start_time": "2021-07-08T15:00:16.961Z"
   },
   {
    "duration": 14,
    "start_time": "2021-07-08T15:00:48.959Z"
   },
   {
    "duration": 16,
    "start_time": "2021-07-08T15:01:41.992Z"
   },
   {
    "duration": 14,
    "start_time": "2021-07-08T15:02:20.305Z"
   },
   {
    "duration": 559,
    "start_time": "2021-07-08T15:02:38.444Z"
   },
   {
    "duration": 4,
    "start_time": "2021-07-08T15:02:42.880Z"
   },
   {
    "duration": 9,
    "start_time": "2021-07-08T15:02:43.528Z"
   },
   {
    "duration": 13,
    "start_time": "2021-07-08T15:02:46.668Z"
   },
   {
    "duration": 14,
    "start_time": "2021-07-08T15:02:54.376Z"
   },
   {
    "duration": 14,
    "start_time": "2021-07-08T15:13:25.647Z"
   },
   {
    "duration": 15,
    "start_time": "2021-07-08T15:13:43.005Z"
   },
   {
    "duration": 14,
    "start_time": "2021-07-08T15:15:36.829Z"
   },
   {
    "duration": 9,
    "start_time": "2021-07-08T15:32:35.517Z"
   },
   {
    "duration": 245,
    "start_time": "2021-07-08T15:32:49.128Z"
   },
   {
    "duration": 11,
    "start_time": "2021-07-08T15:32:58.955Z"
   },
   {
    "duration": 55,
    "start_time": "2021-07-08T15:36:07.636Z"
   },
   {
    "duration": 3,
    "start_time": "2021-07-08T15:36:13.527Z"
   },
   {
    "duration": 4,
    "start_time": "2021-07-08T15:36:14.356Z"
   },
   {
    "duration": 13,
    "start_time": "2021-07-08T15:36:17.637Z"
   },
   {
    "duration": 16,
    "start_time": "2021-07-08T15:36:22.749Z"
   },
   {
    "duration": 13,
    "start_time": "2021-07-08T15:36:25.258Z"
   },
   {
    "duration": 14,
    "start_time": "2021-07-08T15:37:20.175Z"
   },
   {
    "duration": 55,
    "start_time": "2021-07-08T15:37:28.684Z"
   },
   {
    "duration": 4,
    "start_time": "2021-07-08T15:37:37.565Z"
   },
   {
    "duration": 3,
    "start_time": "2021-07-08T15:37:40.046Z"
   },
   {
    "duration": 4,
    "start_time": "2021-07-08T15:37:43.998Z"
   },
   {
    "duration": 13,
    "start_time": "2021-07-08T15:37:55.017Z"
   },
   {
    "duration": 17,
    "start_time": "2021-07-08T15:38:15.338Z"
   },
   {
    "duration": 12,
    "start_time": "2021-07-08T15:38:18.277Z"
   },
   {
    "duration": 4,
    "start_time": "2021-07-08T15:38:44.116Z"
   },
   {
    "duration": 3,
    "start_time": "2021-07-08T15:38:44.688Z"
   },
   {
    "duration": 14,
    "start_time": "2021-07-08T15:38:47.528Z"
   },
   {
    "duration": 55,
    "start_time": "2021-07-08T15:38:53.420Z"
   },
   {
    "duration": 4,
    "start_time": "2021-07-08T15:38:57.188Z"
   },
   {
    "duration": 4,
    "start_time": "2021-07-08T15:39:00.545Z"
   },
   {
    "duration": 13,
    "start_time": "2021-07-08T15:39:09.129Z"
   },
   {
    "duration": 11,
    "start_time": "2021-07-08T15:39:14.742Z"
   },
   {
    "duration": 11,
    "start_time": "2021-07-08T15:41:49.697Z"
   },
   {
    "duration": 17,
    "start_time": "2021-07-08T15:42:00.131Z"
   },
   {
    "duration": 180,
    "start_time": "2021-07-08T15:42:05.446Z"
   },
   {
    "duration": 11,
    "start_time": "2021-07-08T15:42:13.088Z"
   },
   {
    "duration": 8,
    "start_time": "2021-07-08T15:57:31.920Z"
   },
   {
    "duration": 10,
    "start_time": "2021-07-08T15:57:38.044Z"
   },
   {
    "duration": 12,
    "start_time": "2021-07-08T15:57:51.819Z"
   },
   {
    "duration": 10,
    "start_time": "2021-07-08T15:58:03.535Z"
   },
   {
    "duration": 12,
    "start_time": "2021-07-08T15:58:36.534Z"
   },
   {
    "duration": 187,
    "start_time": "2021-07-08T16:02:55.595Z"
   },
   {
    "duration": 213,
    "start_time": "2021-07-08T16:03:37.887Z"
   },
   {
    "duration": 18,
    "start_time": "2021-07-08T16:04:23.048Z"
   },
   {
    "duration": 5,
    "start_time": "2021-07-08T16:04:40.244Z"
   },
   {
    "duration": 14,
    "start_time": "2021-07-08T16:04:47.147Z"
   },
   {
    "duration": 177,
    "start_time": "2021-07-08T16:05:11.955Z"
   },
   {
    "duration": 20,
    "start_time": "2021-07-08T16:05:18.928Z"
   },
   {
    "duration": 19,
    "start_time": "2021-07-08T16:05:48.195Z"
   },
   {
    "duration": 7,
    "start_time": "2021-07-08T16:06:07.170Z"
   },
   {
    "duration": 206,
    "start_time": "2021-07-08T16:06:38.724Z"
   },
   {
    "duration": 19,
    "start_time": "2021-07-08T16:09:52.094Z"
   },
   {
    "duration": 20,
    "start_time": "2021-07-08T16:11:29.916Z"
   },
   {
    "duration": 21,
    "start_time": "2021-07-08T16:12:23.094Z"
   },
   {
    "duration": 5,
    "start_time": "2021-07-08T16:12:32.605Z"
   },
   {
    "duration": 16,
    "start_time": "2021-07-08T16:12:37.214Z"
   },
   {
    "duration": 17,
    "start_time": "2021-07-08T16:12:41.440Z"
   },
   {
    "duration": 19,
    "start_time": "2021-07-08T16:12:45.254Z"
   },
   {
    "duration": 6,
    "start_time": "2021-07-08T16:12:51.053Z"
   },
   {
    "duration": 174,
    "start_time": "2021-07-08T16:13:19.076Z"
   },
   {
    "duration": 16,
    "start_time": "2021-07-08T16:13:39.108Z"
   },
   {
    "duration": 177,
    "start_time": "2021-07-08T16:14:07.252Z"
   },
   {
    "duration": 25,
    "start_time": "2021-07-08T16:14:22.252Z"
   },
   {
    "duration": 20,
    "start_time": "2021-07-08T16:15:11.159Z"
   },
   {
    "duration": 55,
    "start_time": "2021-07-08T16:15:35.093Z"
   },
   {
    "duration": 3,
    "start_time": "2021-07-08T16:15:42.606Z"
   },
   {
    "duration": 4,
    "start_time": "2021-07-08T16:15:43.406Z"
   },
   {
    "duration": 12,
    "start_time": "2021-07-08T16:15:53.551Z"
   },
   {
    "duration": 11,
    "start_time": "2021-07-08T16:16:57.815Z"
   },
   {
    "duration": 56,
    "start_time": "2021-07-08T16:17:10.333Z"
   },
   {
    "duration": 3,
    "start_time": "2021-07-08T16:17:15.572Z"
   },
   {
    "duration": 4,
    "start_time": "2021-07-08T16:17:16.211Z"
   },
   {
    "duration": 12,
    "start_time": "2021-07-08T16:17:19.988Z"
   },
   {
    "duration": 12,
    "start_time": "2021-07-08T16:17:30.191Z"
   },
   {
    "duration": 12,
    "start_time": "2021-07-08T16:18:04.892Z"
   },
   {
    "duration": 15,
    "start_time": "2021-07-08T16:18:39.274Z"
   },
   {
    "duration": 11,
    "start_time": "2021-07-08T16:18:43.674Z"
   },
   {
    "duration": 20,
    "start_time": "2021-07-08T16:19:14.883Z"
   },
   {
    "duration": 16,
    "start_time": "2021-07-08T16:19:34.693Z"
   },
   {
    "duration": 11,
    "start_time": "2021-07-08T16:19:38.011Z"
   },
   {
    "duration": 18,
    "start_time": "2021-07-08T16:19:45.326Z"
   },
   {
    "duration": 6,
    "start_time": "2021-07-08T16:19:53.365Z"
   },
   {
    "duration": 14,
    "start_time": "2021-07-08T16:19:57.190Z"
   },
   {
    "duration": 15,
    "start_time": "2021-07-08T16:20:05.920Z"
   },
   {
    "duration": 19,
    "start_time": "2021-07-08T16:20:10.173Z"
   },
   {
    "duration": 5,
    "start_time": "2021-07-08T16:20:14.445Z"
   },
   {
    "duration": 16,
    "start_time": "2021-07-08T16:20:17.549Z"
   },
   {
    "duration": 55,
    "start_time": "2021-07-08T16:20:40.811Z"
   },
   {
    "duration": 3,
    "start_time": "2021-07-08T16:20:45.432Z"
   },
   {
    "duration": 4,
    "start_time": "2021-07-08T16:20:45.557Z"
   },
   {
    "duration": 12,
    "start_time": "2021-07-08T16:20:48.213Z"
   },
   {
    "duration": 13,
    "start_time": "2021-07-08T16:21:03.093Z"
   },
   {
    "duration": 12,
    "start_time": "2021-07-08T16:21:09.915Z"
   },
   {
    "duration": 15,
    "start_time": "2021-07-08T16:21:13.213Z"
   },
   {
    "duration": 11,
    "start_time": "2021-07-08T16:21:15.956Z"
   },
   {
    "duration": 21,
    "start_time": "2021-07-08T16:21:20.277Z"
   },
   {
    "duration": 6,
    "start_time": "2021-07-08T16:21:23.854Z"
   },
   {
    "duration": 16,
    "start_time": "2021-07-08T16:21:33.292Z"
   },
   {
    "duration": 6,
    "start_time": "2021-07-08T16:21:45.311Z"
   },
   {
    "duration": 19,
    "start_time": "2021-07-08T16:22:45.998Z"
   },
   {
    "duration": 17,
    "start_time": "2021-07-08T16:23:03.909Z"
   },
   {
    "duration": 17,
    "start_time": "2021-07-08T16:23:08.975Z"
   },
   {
    "duration": 6,
    "start_time": "2021-07-08T16:23:15.076Z"
   },
   {
    "duration": 59,
    "start_time": "2021-07-08T16:24:30.036Z"
   },
   {
    "duration": 4,
    "start_time": "2021-07-08T16:24:36.115Z"
   },
   {
    "duration": 4,
    "start_time": "2021-07-08T16:24:36.230Z"
   },
   {
    "duration": 14,
    "start_time": "2021-07-08T16:24:39.671Z"
   },
   {
    "duration": 11,
    "start_time": "2021-07-08T16:24:42.561Z"
   },
   {
    "duration": 13,
    "start_time": "2021-07-08T16:24:48.669Z"
   },
   {
    "duration": 11,
    "start_time": "2021-07-08T16:24:55.395Z"
   },
   {
    "duration": 21,
    "start_time": "2021-07-08T16:25:14.877Z"
   },
   {
    "duration": 18,
    "start_time": "2021-07-08T16:25:24.197Z"
   },
   {
    "duration": 6,
    "start_time": "2021-07-08T16:25:24.849Z"
   },
   {
    "duration": 21,
    "start_time": "2021-07-08T16:25:30.881Z"
   },
   {
    "duration": 205,
    "start_time": "2021-07-08T17:29:54.732Z"
   },
   {
    "duration": 197,
    "start_time": "2021-07-08T17:30:58.239Z"
   },
   {
    "duration": 1228,
    "start_time": "2021-07-08T18:25:45.759Z"
   },
   {
    "duration": 1342,
    "start_time": "2021-07-08T18:26:03.848Z"
   },
   {
    "duration": 18,
    "start_time": "2021-07-08T18:26:56.574Z"
   },
   {
    "duration": 11,
    "start_time": "2021-07-08T18:27:05.606Z"
   },
   {
    "duration": 21,
    "start_time": "2021-07-08T18:27:23.899Z"
   },
   {
    "duration": 3323,
    "start_time": "2021-07-08T18:28:38.527Z"
   },
   {
    "duration": 3404,
    "start_time": "2021-07-08T18:29:34.073Z"
   },
   {
    "duration": 55,
    "start_time": "2021-07-08T18:30:10.197Z"
   },
   {
    "duration": 4,
    "start_time": "2021-07-08T18:30:12.776Z"
   },
   {
    "duration": 4,
    "start_time": "2021-07-08T18:30:12.953Z"
   },
   {
    "duration": 13,
    "start_time": "2021-07-08T18:30:13.694Z"
   },
   {
    "duration": 11,
    "start_time": "2021-07-08T18:30:17.340Z"
   },
   {
    "duration": 3439,
    "start_time": "2021-07-08T18:30:28.357Z"
   },
   {
    "duration": 9,
    "start_time": "2021-07-08T18:31:16.066Z"
   },
   {
    "duration": 18,
    "start_time": "2021-07-08T18:31:33.587Z"
   },
   {
    "duration": 12,
    "start_time": "2021-07-08T18:31:49.826Z"
   },
   {
    "duration": 215,
    "start_time": "2021-07-08T18:37:58.164Z"
   },
   {
    "duration": 55,
    "start_time": "2021-07-08T18:38:50.847Z"
   },
   {
    "duration": 3,
    "start_time": "2021-07-08T18:38:58.063Z"
   },
   {
    "duration": 4,
    "start_time": "2021-07-08T18:38:59.532Z"
   },
   {
    "duration": 13,
    "start_time": "2021-07-08T18:39:04.768Z"
   },
   {
    "duration": 11,
    "start_time": "2021-07-08T18:39:12.697Z"
   },
   {
    "duration": 12,
    "start_time": "2021-07-08T18:39:23.674Z"
   },
   {
    "duration": 9,
    "start_time": "2021-07-08T18:39:31.556Z"
   },
   {
    "duration": 11,
    "start_time": "2021-07-08T18:39:38.953Z"
   },
   {
    "duration": 17,
    "start_time": "2021-07-08T18:42:14.976Z"
   },
   {
    "duration": 6,
    "start_time": "2021-07-08T18:42:27.175Z"
   },
   {
    "duration": 16,
    "start_time": "2021-07-08T18:42:34.832Z"
   },
   {
    "duration": 21,
    "start_time": "2021-07-08T18:42:39.344Z"
   },
   {
    "duration": 17,
    "start_time": "2021-07-08T18:42:59.336Z"
   },
   {
    "duration": 17,
    "start_time": "2021-07-08T18:43:04.333Z"
   },
   {
    "duration": 6,
    "start_time": "2021-07-08T18:43:09.760Z"
   },
   {
    "duration": 19,
    "start_time": "2021-07-08T18:43:16.019Z"
   },
   {
    "duration": 15,
    "start_time": "2021-07-08T18:43:28.528Z"
   },
   {
    "duration": 15,
    "start_time": "2021-07-08T18:44:01.438Z"
   },
   {
    "duration": 5,
    "start_time": "2021-07-08T18:44:30.872Z"
   },
   {
    "duration": 16,
    "start_time": "2021-07-08T18:44:46.954Z"
   },
   {
    "duration": 17,
    "start_time": "2021-07-08T18:44:56.266Z"
   },
   {
    "duration": 19,
    "start_time": "2021-07-08T18:45:04.216Z"
   },
   {
    "duration": 7,
    "start_time": "2021-07-08T18:45:10.927Z"
   },
   {
    "duration": 18,
    "start_time": "2021-07-08T18:45:17.294Z"
   },
   {
    "duration": 23,
    "start_time": "2021-07-08T18:45:20.084Z"
   },
   {
    "duration": 58,
    "start_time": "2021-07-08T18:45:59.614Z"
   },
   {
    "duration": 4,
    "start_time": "2021-07-08T18:46:09.570Z"
   },
   {
    "duration": 5,
    "start_time": "2021-07-08T18:46:09.729Z"
   },
   {
    "duration": 12,
    "start_time": "2021-07-08T18:46:10.511Z"
   },
   {
    "duration": 11,
    "start_time": "2021-07-08T18:46:21.606Z"
   },
   {
    "duration": 13,
    "start_time": "2021-07-08T18:46:26.275Z"
   },
   {
    "duration": 9,
    "start_time": "2021-07-08T18:46:33.475Z"
   },
   {
    "duration": 198,
    "start_time": "2021-07-08T18:46:45.377Z"
   },
   {
    "duration": 194,
    "start_time": "2021-07-08T18:46:49.888Z"
   },
   {
    "duration": 13,
    "start_time": "2021-07-08T18:46:54.471Z"
   },
   {
    "duration": 18,
    "start_time": "2021-07-08T18:47:15.331Z"
   },
   {
    "duration": 9,
    "start_time": "2021-07-08T18:47:35.347Z"
   },
   {
    "duration": 11,
    "start_time": "2021-07-08T18:47:41.906Z"
   },
   {
    "duration": 18,
    "start_time": "2021-07-08T18:47:55.914Z"
   },
   {
    "duration": 29,
    "start_time": "2021-07-08T18:48:00.314Z"
   },
   {
    "duration": 20,
    "start_time": "2021-07-08T18:48:24.297Z"
   },
   {
    "duration": 5,
    "start_time": "2021-07-08T18:48:36.694Z"
   },
   {
    "duration": 14,
    "start_time": "2021-07-08T18:48:52.031Z"
   },
   {
    "duration": 16,
    "start_time": "2021-07-08T18:49:06.196Z"
   },
   {
    "duration": 16,
    "start_time": "2021-07-08T18:49:23.794Z"
   },
   {
    "duration": 6,
    "start_time": "2021-07-08T18:49:40.734Z"
   },
   {
    "duration": 6,
    "start_time": "2021-07-08T18:49:59.539Z"
   },
   {
    "duration": 9,
    "start_time": "2021-07-08T18:50:13.577Z"
   },
   {
    "duration": 28,
    "start_time": "2021-07-08T18:50:28.448Z"
   },
   {
    "duration": 57,
    "start_time": "2021-07-08T18:50:41.274Z"
   },
   {
    "duration": 3,
    "start_time": "2021-07-08T18:50:50.089Z"
   },
   {
    "duration": 4,
    "start_time": "2021-07-08T18:50:50.240Z"
   },
   {
    "duration": 14,
    "start_time": "2021-07-08T18:50:50.848Z"
   },
   {
    "duration": 12,
    "start_time": "2021-07-08T18:50:51.345Z"
   },
   {
    "duration": 12,
    "start_time": "2021-07-08T18:50:52.169Z"
   },
   {
    "duration": 10,
    "start_time": "2021-07-08T18:50:54.355Z"
   },
   {
    "duration": 12,
    "start_time": "2021-07-08T18:50:56.706Z"
   },
   {
    "duration": 16,
    "start_time": "2021-07-08T18:51:03.855Z"
   },
   {
    "duration": 5,
    "start_time": "2021-07-08T18:51:14.537Z"
   },
   {
    "duration": 7,
    "start_time": "2021-07-08T18:51:30.147Z"
   },
   {
    "duration": 15,
    "start_time": "2021-07-08T18:51:59.082Z"
   },
   {
    "duration": 8,
    "start_time": "2021-07-08T18:52:15.197Z"
   },
   {
    "duration": 15,
    "start_time": "2021-07-08T18:52:32.698Z"
   },
   {
    "duration": 5,
    "start_time": "2021-07-08T18:52:56.202Z"
   },
   {
    "duration": 6,
    "start_time": "2021-07-08T18:53:42.821Z"
   },
   {
    "duration": 20,
    "start_time": "2021-07-08T18:53:57.222Z"
   },
   {
    "duration": 29,
    "start_time": "2021-07-08T18:54:27.452Z"
   },
   {
    "duration": 15,
    "start_time": "2021-07-08T18:55:05.494Z"
   },
   {
    "duration": 15,
    "start_time": "2021-07-08T18:57:11.528Z"
   },
   {
    "duration": 24,
    "start_time": "2021-07-08T18:57:46.097Z"
   },
   {
    "duration": 2345,
    "start_time": "2021-07-08T18:59:07.494Z"
   },
   {
    "duration": 2805,
    "start_time": "2021-07-08T18:59:38.918Z"
   },
   {
    "duration": 1308,
    "start_time": "2021-07-08T18:59:54.678Z"
   },
   {
    "duration": 175,
    "start_time": "2021-07-08T19:00:14.183Z"
   },
   {
    "duration": 327,
    "start_time": "2021-07-08T19:00:32.158Z"
   },
   {
    "duration": 46,
    "start_time": "2021-07-08T19:00:56.813Z"
   },
   {
    "duration": 41,
    "start_time": "2021-07-08T19:01:10.406Z"
   },
   {
    "duration": 218,
    "start_time": "2021-07-08T19:01:27.014Z"
   },
   {
    "duration": 328,
    "start_time": "2021-07-08T19:02:06.359Z"
   },
   {
    "duration": 323,
    "start_time": "2021-07-08T19:02:10.916Z"
   },
   {
    "duration": 216,
    "start_time": "2021-07-08T19:02:28.663Z"
   },
   {
    "duration": 325,
    "start_time": "2021-07-08T19:02:44.743Z"
   },
   {
    "duration": 211,
    "start_time": "2021-07-08T19:03:31.366Z"
   },
   {
    "duration": 323,
    "start_time": "2021-07-08T19:04:20.598Z"
   },
   {
    "duration": 1248,
    "start_time": "2021-07-08T19:04:45.558Z"
   },
   {
    "duration": 595,
    "start_time": "2021-07-09T05:59:05.017Z"
   },
   {
    "duration": 4,
    "start_time": "2021-07-09T05:59:46.906Z"
   },
   {
    "duration": 9,
    "start_time": "2021-07-09T05:59:47.925Z"
   },
   {
    "duration": 10,
    "start_time": "2021-07-09T06:00:08.173Z"
   },
   {
    "duration": 12,
    "start_time": "2021-07-09T06:01:21.856Z"
   },
   {
    "duration": 12,
    "start_time": "2021-07-09T06:01:29.106Z"
   },
   {
    "duration": 11,
    "start_time": "2021-07-09T06:01:44.334Z"
   },
   {
    "duration": 12,
    "start_time": "2021-07-09T06:01:51.416Z"
   },
   {
    "duration": 19,
    "start_time": "2021-07-09T06:01:57.936Z"
   },
   {
    "duration": 6,
    "start_time": "2021-07-09T06:02:07.662Z"
   },
   {
    "duration": 16,
    "start_time": "2021-07-09T06:02:13.316Z"
   },
   {
    "duration": 16,
    "start_time": "2021-07-09T06:02:36.299Z"
   },
   {
    "duration": 27,
    "start_time": "2021-07-09T06:02:48.997Z"
   },
   {
    "duration": 19,
    "start_time": "2021-07-09T06:02:58.318Z"
   },
   {
    "duration": 7,
    "start_time": "2021-07-09T06:03:04.793Z"
   },
   {
    "duration": 19,
    "start_time": "2021-07-09T06:03:16.575Z"
   },
   {
    "duration": 19,
    "start_time": "2021-07-09T06:03:23.303Z"
   },
   {
    "duration": 26,
    "start_time": "2021-07-09T06:04:53.867Z"
   },
   {
    "duration": 2369,
    "start_time": "2021-07-09T06:05:29.036Z"
   },
   {
    "duration": 3263,
    "start_time": "2021-07-09T06:05:48.706Z"
   },
   {
    "duration": 336,
    "start_time": "2021-07-09T06:06:27.244Z"
   },
   {
    "duration": 49,
    "start_time": "2021-07-09T06:06:31.919Z"
   },
   {
    "duration": 210,
    "start_time": "2021-07-09T06:06:52.753Z"
   },
   {
    "duration": 291,
    "start_time": "2021-07-09T06:08:53.892Z"
   },
   {
    "duration": 289,
    "start_time": "2021-07-09T06:10:23.586Z"
   },
   {
    "duration": 376,
    "start_time": "2021-07-09T06:10:51.682Z"
   },
   {
    "duration": 199,
    "start_time": "2021-07-09T06:12:33.549Z"
   },
   {
    "duration": 200,
    "start_time": "2021-07-09T06:13:40.659Z"
   },
   {
    "duration": 317,
    "start_time": "2021-07-09T06:18:17.410Z"
   },
   {
    "duration": 712,
    "start_time": "2021-07-09T06:18:45.169Z"
   },
   {
    "duration": 322,
    "start_time": "2021-07-09T06:18:58.469Z"
   },
   {
    "duration": 308,
    "start_time": "2021-07-09T06:28:16.964Z"
   },
   {
    "duration": 64,
    "start_time": "2021-07-09T06:37:24.564Z"
   },
   {
    "duration": 327,
    "start_time": "2021-07-09T06:37:36.505Z"
   },
   {
    "duration": 183,
    "start_time": "2021-07-09T06:38:23.430Z"
   },
   {
    "duration": 321,
    "start_time": "2021-07-09T06:40:58.721Z"
   },
   {
    "duration": 68,
    "start_time": "2021-07-09T06:47:35.920Z"
   },
   {
    "duration": 501,
    "start_time": "2021-07-09T06:48:18.861Z"
   },
   {
    "duration": 277,
    "start_time": "2021-07-09T06:48:41.286Z"
   },
   {
    "duration": 285,
    "start_time": "2021-07-09T06:54:55.236Z"
   },
   {
    "duration": 11,
    "start_time": "2021-07-09T06:55:51.414Z"
   },
   {
    "duration": 3,
    "start_time": "2021-07-09T06:57:14.787Z"
   },
   {
    "duration": 30569,
    "start_time": "2021-07-09T06:57:35.927Z"
   },
   {
    "duration": 30327,
    "start_time": "2021-07-09T06:58:20.207Z"
   },
   {
    "duration": 23,
    "start_time": "2021-07-09T07:00:15.386Z"
   },
   {
    "duration": 58,
    "start_time": "2021-07-09T07:17:02.646Z"
   },
   {
    "duration": 3,
    "start_time": "2021-07-09T07:17:08.717Z"
   },
   {
    "duration": 4,
    "start_time": "2021-07-09T07:17:11.640Z"
   },
   {
    "duration": 9,
    "start_time": "2021-07-09T07:17:16.768Z"
   },
   {
    "duration": 12,
    "start_time": "2021-07-09T07:17:23.146Z"
   },
   {
    "duration": 11,
    "start_time": "2021-07-09T07:17:41.257Z"
   },
   {
    "duration": 9,
    "start_time": "2021-07-09T07:17:46.841Z"
   },
   {
    "duration": 14,
    "start_time": "2021-07-09T07:17:54.490Z"
   },
   {
    "duration": 17,
    "start_time": "2021-07-09T07:18:00.926Z"
   },
   {
    "duration": 5,
    "start_time": "2021-07-09T07:18:09.718Z"
   },
   {
    "duration": 15,
    "start_time": "2021-07-09T07:18:15.898Z"
   },
   {
    "duration": 16,
    "start_time": "2021-07-09T07:18:17.766Z"
   },
   {
    "duration": 17,
    "start_time": "2021-07-09T07:18:23.408Z"
   },
   {
    "duration": 6,
    "start_time": "2021-07-09T07:18:25.791Z"
   },
   {
    "duration": 19,
    "start_time": "2021-07-09T07:18:32.744Z"
   },
   {
    "duration": 25,
    "start_time": "2021-07-09T07:18:38.926Z"
   },
   {
    "duration": 2458,
    "start_time": "2021-07-09T07:18:44.509Z"
   },
   {
    "duration": 2453,
    "start_time": "2021-07-09T07:19:13.480Z"
   },
   {
    "duration": 2734,
    "start_time": "2021-07-09T07:19:43.473Z"
   },
   {
    "duration": 315,
    "start_time": "2021-07-09T07:21:18.570Z"
   },
   {
    "duration": 25637,
    "start_time": "2021-07-09T07:21:42.145Z"
   },
   {
    "duration": 46,
    "start_time": "2021-07-09T07:22:07.784Z"
   },
   {
    "duration": 36,
    "start_time": "2021-07-09T07:24:55.587Z"
   },
   {
    "duration": 35334,
    "start_time": "2021-07-09T07:33:43.325Z"
   },
   {
    "duration": 34902,
    "start_time": "2021-07-09T07:34:37.609Z"
   },
   {
    "duration": 11013,
    "start_time": "2021-07-09T07:35:19.935Z"
   },
   {
    "duration": 35095,
    "start_time": "2021-07-09T07:35:32.186Z"
   },
   {
    "duration": 4496,
    "start_time": "2021-07-09T07:36:19.959Z"
   },
   {
    "duration": 35365,
    "start_time": "2021-07-09T07:36:41.171Z"
   },
   {
    "duration": 608,
    "start_time": "2021-07-09T07:37:36.398Z"
   },
   {
    "duration": 4,
    "start_time": "2021-07-09T07:37:41.387Z"
   },
   {
    "duration": 9,
    "start_time": "2021-07-09T07:37:43.160Z"
   },
   {
    "duration": 10,
    "start_time": "2021-07-09T07:37:47.270Z"
   },
   {
    "duration": 12,
    "start_time": "2021-07-09T07:37:51.200Z"
   },
   {
    "duration": 12,
    "start_time": "2021-07-09T07:38:02.569Z"
   },
   {
    "duration": 10,
    "start_time": "2021-07-09T07:38:05.519Z"
   },
   {
    "duration": 11,
    "start_time": "2021-07-09T07:38:11.903Z"
   },
   {
    "duration": 19,
    "start_time": "2021-07-09T07:38:16.515Z"
   },
   {
    "duration": 5,
    "start_time": "2021-07-09T07:38:19.385Z"
   },
   {
    "duration": 15,
    "start_time": "2021-07-09T07:38:24.417Z"
   },
   {
    "duration": 16,
    "start_time": "2021-07-09T07:38:25.451Z"
   },
   {
    "duration": 18,
    "start_time": "2021-07-09T07:38:27.909Z"
   },
   {
    "duration": 6,
    "start_time": "2021-07-09T07:38:29.741Z"
   },
   {
    "duration": 19,
    "start_time": "2021-07-09T07:38:31.070Z"
   },
   {
    "duration": 24,
    "start_time": "2021-07-09T07:38:32.828Z"
   },
   {
    "duration": 2356,
    "start_time": "2021-07-09T07:38:41.197Z"
   },
   {
    "duration": 2660,
    "start_time": "2021-07-09T07:38:51.502Z"
   },
   {
    "duration": 24078,
    "start_time": "2021-07-09T07:39:01.491Z"
   },
   {
    "duration": 48,
    "start_time": "2021-07-09T07:39:35.510Z"
   },
   {
    "duration": 222,
    "start_time": "2021-07-09T07:40:00.058Z"
   },
   {
    "duration": 25,
    "start_time": "2021-07-09T07:40:11.441Z"
   },
   {
    "duration": 17681,
    "start_time": "2021-07-09T07:40:28.661Z"
   },
   {
    "duration": 22770,
    "start_time": "2021-07-09T07:40:58.205Z"
   },
   {
    "duration": 25,
    "start_time": "2021-07-09T07:41:32.874Z"
   },
   {
    "duration": 29670,
    "start_time": "2021-07-09T07:50:47.290Z"
   },
   {
    "duration": 27,
    "start_time": "2021-07-09T07:51:27.508Z"
   },
   {
    "duration": 224,
    "start_time": "2021-07-09T07:53:21.375Z"
   },
   {
    "duration": 29892,
    "start_time": "2021-07-09T07:53:32.174Z"
   },
   {
    "duration": 179,
    "start_time": "2021-07-09T07:59:16.038Z"
   },
   {
    "duration": 27,
    "start_time": "2021-07-09T07:59:24.517Z"
   },
   {
    "duration": 756,
    "start_time": "2021-07-09T08:22:35.887Z"
   },
   {
    "duration": 4,
    "start_time": "2021-07-09T08:22:36.645Z"
   },
   {
    "duration": 10,
    "start_time": "2021-07-09T08:22:36.651Z"
   },
   {
    "duration": 9,
    "start_time": "2021-07-09T08:22:36.662Z"
   },
   {
    "duration": 22,
    "start_time": "2021-07-09T08:22:36.673Z"
   },
   {
    "duration": 9,
    "start_time": "2021-07-09T08:22:36.696Z"
   },
   {
    "duration": 10,
    "start_time": "2021-07-09T08:22:36.707Z"
   },
   {
    "duration": 10,
    "start_time": "2021-07-09T08:22:36.718Z"
   },
   {
    "duration": 22,
    "start_time": "2021-07-09T08:22:36.732Z"
   },
   {
    "duration": 4,
    "start_time": "2021-07-09T08:22:36.757Z"
   },
   {
    "duration": 13,
    "start_time": "2021-07-09T08:22:36.791Z"
   },
   {
    "duration": 13,
    "start_time": "2021-07-09T08:22:36.805Z"
   },
   {
    "duration": 18,
    "start_time": "2021-07-09T08:22:36.819Z"
   },
   {
    "duration": 11,
    "start_time": "2021-07-09T08:22:36.838Z"
   },
   {
    "duration": 20,
    "start_time": "2021-07-09T08:22:36.850Z"
   },
   {
    "duration": 49,
    "start_time": "2021-07-09T08:22:36.871Z"
   },
   {
    "duration": 2221,
    "start_time": "2021-07-09T08:22:36.922Z"
   },
   {
    "duration": 3031,
    "start_time": "2021-07-09T08:22:39.145Z"
   },
   {
    "duration": 24590,
    "start_time": "2021-07-09T08:22:42.177Z"
   },
   {
    "duration": 55,
    "start_time": "2021-07-09T08:23:06.769Z"
   },
   {
    "duration": 214,
    "start_time": "2021-07-09T08:23:06.826Z"
   },
   {
    "duration": 27323,
    "start_time": "2021-07-09T08:23:07.042Z"
   },
   {
    "duration": 21666,
    "start_time": "2021-07-09T08:23:34.366Z"
   },
   {
    "duration": -3007,
    "start_time": "2021-07-09T08:23:59.042Z"
   },
   {
    "duration": -3009,
    "start_time": "2021-07-09T08:23:59.045Z"
   },
   {
    "duration": -3011,
    "start_time": "2021-07-09T08:23:59.048Z"
   },
   {
    "duration": -3011,
    "start_time": "2021-07-09T08:23:59.050Z"
   },
   {
    "duration": -3012,
    "start_time": "2021-07-09T08:23:59.052Z"
   },
   {
    "duration": -3013,
    "start_time": "2021-07-09T08:23:59.054Z"
   },
   {
    "duration": 580,
    "start_time": "2021-07-09T08:24:01.232Z"
   },
   {
    "duration": 4,
    "start_time": "2021-07-09T08:24:01.814Z"
   },
   {
    "duration": 12,
    "start_time": "2021-07-09T08:24:01.820Z"
   },
   {
    "duration": 14,
    "start_time": "2021-07-09T08:24:01.833Z"
   },
   {
    "duration": 9,
    "start_time": "2021-07-09T08:24:01.849Z"
   },
   {
    "duration": 9,
    "start_time": "2021-07-09T08:24:01.860Z"
   },
   {
    "duration": 26,
    "start_time": "2021-07-09T08:24:01.871Z"
   },
   {
    "duration": 9,
    "start_time": "2021-07-09T08:24:01.900Z"
   },
   {
    "duration": 15,
    "start_time": "2021-07-09T08:24:01.911Z"
   },
   {
    "duration": 4,
    "start_time": "2021-07-09T08:24:01.927Z"
   },
   {
    "duration": 17,
    "start_time": "2021-07-09T08:24:01.932Z"
   },
   {
    "duration": 42,
    "start_time": "2021-07-09T08:24:01.951Z"
   },
   {
    "duration": 17,
    "start_time": "2021-07-09T08:24:01.994Z"
   },
   {
    "duration": 6,
    "start_time": "2021-07-09T08:24:02.012Z"
   },
   {
    "duration": 21,
    "start_time": "2021-07-09T08:24:02.019Z"
   },
   {
    "duration": 23,
    "start_time": "2021-07-09T08:24:02.041Z"
   },
   {
    "duration": 2418,
    "start_time": "2021-07-09T08:24:02.066Z"
   },
   {
    "duration": 2840,
    "start_time": "2021-07-09T08:24:04.486Z"
   },
   {
    "duration": 22580,
    "start_time": "2021-07-09T08:24:07.327Z"
   },
   {
    "duration": 45,
    "start_time": "2021-07-09T08:24:29.909Z"
   },
   {
    "duration": 214,
    "start_time": "2021-07-09T08:24:29.956Z"
   },
   {
    "duration": 21421,
    "start_time": "2021-07-09T08:24:30.172Z"
   },
   {
    "duration": 29428,
    "start_time": "2021-07-09T08:24:51.596Z"
   },
   {
    "duration": 210,
    "start_time": "2021-07-09T08:25:21.026Z"
   },
   {
    "duration": 29072,
    "start_time": "2021-07-09T08:25:21.237Z"
   },
   {
    "duration": 23,
    "start_time": "2021-07-09T08:25:50.311Z"
   },
   {
    "duration": 19,
    "start_time": "2021-07-09T08:25:50.336Z"
   },
   {
    "duration": 39,
    "start_time": "2021-07-09T08:25:50.356Z"
   },
   {
    "duration": 19,
    "start_time": "2021-07-09T08:25:50.396Z"
   },
   {
    "duration": 58,
    "start_time": "2021-07-09T09:25:40.776Z"
   },
   {
    "duration": 4,
    "start_time": "2021-07-09T09:25:45.568Z"
   },
   {
    "duration": 4,
    "start_time": "2021-07-09T09:25:47.898Z"
   },
   {
    "duration": 11,
    "start_time": "2021-07-09T09:25:51.178Z"
   },
   {
    "duration": 57,
    "start_time": "2021-07-09T09:55:56.368Z"
   },
   {
    "duration": 4,
    "start_time": "2021-07-09T09:56:00.135Z"
   },
   {
    "duration": 4,
    "start_time": "2021-07-09T09:56:00.617Z"
   },
   {
    "duration": 11,
    "start_time": "2021-07-09T09:56:03.776Z"
   },
   {
    "duration": 12,
    "start_time": "2021-07-09T09:56:07.667Z"
   },
   {
    "duration": 13,
    "start_time": "2021-07-09T09:56:13.367Z"
   },
   {
    "duration": 7,
    "start_time": "2021-07-09T09:56:18.217Z"
   },
   {
    "duration": 14,
    "start_time": "2021-07-09T09:56:28.688Z"
   },
   {
    "duration": 10,
    "start_time": "2021-07-09T10:00:49.820Z"
   },
   {
    "duration": 12,
    "start_time": "2021-07-09T10:01:08.037Z"
   },
   {
    "duration": 58,
    "start_time": "2021-07-09T10:01:25.736Z"
   },
   {
    "duration": 4,
    "start_time": "2021-07-09T10:01:30.188Z"
   },
   {
    "duration": 4,
    "start_time": "2021-07-09T10:01:30.766Z"
   },
   {
    "duration": 13,
    "start_time": "2021-07-09T10:01:33.788Z"
   },
   {
    "duration": 12,
    "start_time": "2021-07-09T10:01:37.247Z"
   },
   {
    "duration": 11,
    "start_time": "2021-07-09T10:01:51.116Z"
   },
   {
    "duration": 13,
    "start_time": "2021-07-09T10:02:10.047Z"
   },
   {
    "duration": 6,
    "start_time": "2021-07-09T10:03:05.616Z"
   },
   {
    "duration": 11,
    "start_time": "2021-07-09T10:03:17.457Z"
   },
   {
    "duration": 10,
    "start_time": "2021-07-09T10:03:44.538Z"
   },
   {
    "duration": 71,
    "start_time": "2021-07-09T10:03:54.204Z"
   },
   {
    "duration": 11,
    "start_time": "2021-07-09T10:04:03.396Z"
   },
   {
    "duration": 79,
    "start_time": "2021-07-09T10:04:30.218Z"
   },
   {
    "duration": 13,
    "start_time": "2021-07-09T10:04:34.597Z"
   },
   {
    "duration": 5080,
    "start_time": "2021-07-09T10:05:56.486Z"
   },
   {
    "duration": 16,
    "start_time": "2021-07-09T10:07:18.608Z"
   },
   {
    "duration": 19,
    "start_time": "2021-07-09T10:08:03.876Z"
   },
   {
    "duration": 17,
    "start_time": "2021-07-09T10:09:04.708Z"
   },
   {
    "duration": 10,
    "start_time": "2021-07-09T10:10:09.259Z"
   },
   {
    "duration": 14,
    "start_time": "2021-07-09T10:10:16.299Z"
   },
   {
    "duration": 14,
    "start_time": "2021-07-09T10:10:25.258Z"
   },
   {
    "duration": 10,
    "start_time": "2021-07-09T10:10:32.756Z"
   },
   {
    "duration": 17,
    "start_time": "2021-07-09T10:16:54.954Z"
   },
   {
    "duration": 23,
    "start_time": "2021-07-09T10:17:00.095Z"
   },
   {
    "duration": 61,
    "start_time": "2021-07-09T10:22:27.600Z"
   },
   {
    "duration": 64,
    "start_time": "2021-07-09T10:22:55.526Z"
   },
   {
    "duration": 64,
    "start_time": "2021-07-09T10:23:03.807Z"
   },
   {
    "duration": 74,
    "start_time": "2021-07-09T10:23:41.759Z"
   },
   {
    "duration": 8,
    "start_time": "2021-07-09T10:24:00.894Z"
   },
   {
    "duration": 10,
    "start_time": "2021-07-09T10:24:10.575Z"
   },
   {
    "duration": 193,
    "start_time": "2021-07-09T10:24:40.544Z"
   },
   {
    "duration": 191,
    "start_time": "2021-07-09T10:25:21.255Z"
   },
   {
    "duration": 194,
    "start_time": "2021-07-09T10:27:25.534Z"
   },
   {
    "duration": 188,
    "start_time": "2021-07-09T10:27:41.738Z"
   },
   {
    "duration": 64,
    "start_time": "2021-07-09T10:28:33.835Z"
   },
   {
    "duration": 11,
    "start_time": "2021-07-09T10:28:44.304Z"
   },
   {
    "duration": 14,
    "start_time": "2021-07-09T10:28:51.313Z"
   },
   {
    "duration": 24,
    "start_time": "2021-07-09T10:29:02.376Z"
   },
   {
    "duration": 54,
    "start_time": "2021-07-09T10:29:14.067Z"
   },
   {
    "duration": 3,
    "start_time": "2021-07-09T10:29:17.695Z"
   },
   {
    "duration": 4,
    "start_time": "2021-07-09T10:29:18.111Z"
   },
   {
    "duration": 24,
    "start_time": "2021-07-09T10:29:29.696Z"
   },
   {
    "duration": 12,
    "start_time": "2021-07-09T10:29:54.128Z"
   },
   {
    "duration": 14,
    "start_time": "2021-07-09T10:30:00.360Z"
   },
   {
    "duration": 8,
    "start_time": "2021-07-09T10:31:43.631Z"
   },
   {
    "duration": 12,
    "start_time": "2021-07-09T10:31:51.152Z"
   },
   {
    "duration": 72,
    "start_time": "2021-07-09T10:33:43.191Z"
   },
   {
    "duration": 61,
    "start_time": "2021-07-09T10:34:25.872Z"
   },
   {
    "duration": 62,
    "start_time": "2021-07-09T10:34:45.060Z"
   },
   {
    "duration": 63,
    "start_time": "2021-07-09T10:35:12.879Z"
   },
   {
    "duration": 72,
    "start_time": "2021-07-09T10:35:56.953Z"
   },
   {
    "duration": 9,
    "start_time": "2021-07-09T10:36:11.273Z"
   },
   {
    "duration": 254,
    "start_time": "2021-07-09T10:37:52.590Z"
   },
   {
    "duration": 367,
    "start_time": "2021-07-09T10:37:59.259Z"
   },
   {
    "duration": 19,
    "start_time": "2021-07-09T10:38:19.858Z"
   },
   {
    "duration": 39,
    "start_time": "2021-07-09T10:38:25.802Z"
   },
   {
    "duration": 25,
    "start_time": "2021-07-09T10:47:17.449Z"
   },
   {
    "duration": 28,
    "start_time": "2021-07-09T10:47:37.980Z"
   },
   {
    "duration": 52,
    "start_time": "2021-07-09T10:48:38.001Z"
   },
   {
    "duration": 3,
    "start_time": "2021-07-09T10:48:41.430Z"
   },
   {
    "duration": 5,
    "start_time": "2021-07-09T10:48:41.558Z"
   },
   {
    "duration": 9,
    "start_time": "2021-07-09T10:48:44.657Z"
   },
   {
    "duration": 12,
    "start_time": "2021-07-09T10:48:48.364Z"
   },
   {
    "duration": 12,
    "start_time": "2021-07-09T10:48:52.930Z"
   },
   {
    "duration": 30,
    "start_time": "2021-07-09T10:48:56.953Z"
   },
   {
    "duration": 24,
    "start_time": "2021-07-09T10:49:17.731Z"
   },
   {
    "duration": 50,
    "start_time": "2021-07-09T10:49:27.088Z"
   },
   {
    "duration": 32,
    "start_time": "2021-07-09T10:51:16.998Z"
   },
   {
    "duration": 32,
    "start_time": "2021-07-09T10:52:37.098Z"
   },
   {
    "duration": 43,
    "start_time": "2021-07-09T10:53:54.431Z"
   },
   {
    "duration": 253,
    "start_time": "2021-07-09T10:54:59.792Z"
   },
   {
    "duration": 31,
    "start_time": "2021-07-09T10:55:11.833Z"
   },
   {
    "duration": 27,
    "start_time": "2021-07-09T10:55:22.967Z"
   },
   {
    "duration": 11,
    "start_time": "2021-07-09T10:57:05.209Z"
   },
   {
    "duration": 19,
    "start_time": "2021-07-09T10:58:49.844Z"
   },
   {
    "duration": 5,
    "start_time": "2021-07-09T10:59:55.151Z"
   },
   {
    "duration": 15,
    "start_time": "2021-07-09T11:00:04.134Z"
   },
   {
    "duration": 17,
    "start_time": "2021-07-09T11:00:33.614Z"
   },
   {
    "duration": 16,
    "start_time": "2021-07-09T11:01:03.925Z"
   },
   {
    "duration": 6,
    "start_time": "2021-07-09T11:01:24.097Z"
   },
   {
    "duration": 20,
    "start_time": "2021-07-09T11:01:34.330Z"
   },
   {
    "duration": 15,
    "start_time": "2021-07-09T11:01:50.086Z"
   },
   {
    "duration": 27,
    "start_time": "2021-07-09T11:02:55.071Z"
   },
   {
    "duration": 2504,
    "start_time": "2021-07-09T11:03:09.521Z"
   },
   {
    "duration": 2872,
    "start_time": "2021-07-09T11:03:44.274Z"
   },
   {
    "duration": 39,
    "start_time": "2021-07-09T11:04:47.668Z"
   },
   {
    "duration": 219,
    "start_time": "2021-07-09T11:05:43.917Z"
   },
   {
    "duration": 4309,
    "start_time": "2021-07-09T11:06:15.407Z"
   },
   {
    "duration": 4407,
    "start_time": "2021-07-09T11:06:22.536Z"
   },
   {
    "duration": 4299,
    "start_time": "2021-07-09T11:06:30.229Z"
   },
   {
    "duration": 23162,
    "start_time": "2021-07-09T11:06:36.447Z"
   },
   {
    "duration": 23,
    "start_time": "2021-07-09T11:07:35.095Z"
   },
   {
    "duration": 32535,
    "start_time": "2021-07-09T11:08:01.051Z"
   },
   {
    "duration": 30,
    "start_time": "2021-07-09T11:09:12.775Z"
   },
   {
    "duration": 228,
    "start_time": "2021-07-09T11:09:39.775Z"
   },
   {
    "duration": 31620,
    "start_time": "2021-07-09T11:09:58.738Z"
   },
   {
    "duration": 29,
    "start_time": "2021-07-09T11:10:54.070Z"
   },
   {
    "duration": 222,
    "start_time": "2021-07-09T11:11:06.793Z"
   },
   {
    "duration": 24099,
    "start_time": "2021-07-09T11:11:28.867Z"
   },
   {
    "duration": 26,
    "start_time": "2021-07-09T11:12:24.070Z"
   }
  ],
  "kernelspec": {
   "display_name": "Python 3",
   "language": "python",
   "name": "python3"
  },
  "language_info": {
   "codemirror_mode": {
    "name": "ipython",
    "version": 3
   },
   "file_extension": ".py",
   "mimetype": "text/x-python",
   "name": "python",
   "nbconvert_exporter": "python",
   "pygments_lexer": "ipython3",
   "version": "3.8.8"
  },
  "toc": {
   "base_numbering": 1,
   "nav_menu": {
    "height": "428px",
    "width": "199px"
   },
   "number_sections": true,
   "sideBar": true,
   "skip_h1_title": true,
   "title_cell": "Table of Contents",
   "title_sidebar": "Содержание",
   "toc_cell": false,
   "toc_position": {
    "height": "calc(100% - 180px)",
    "left": "10px",
    "top": "150px",
    "width": "246.396px"
   },
   "toc_section_display": true,
   "toc_window_display": true
  }
 },
 "nbformat": 4,
 "nbformat_minor": 2
}
